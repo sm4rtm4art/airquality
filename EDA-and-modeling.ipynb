{
 "cells": [
  {
   "cell_type": "markdown",
   "metadata": {},
   "source": [
    "# Data Preprocessing air quality "
   ]
  },
  {
   "cell_type": "code",
   "execution_count": 1,
   "metadata": {},
   "outputs": [],
   "source": [
    "# import packages\n",
    "import pandas as pd\n",
    "import numpy as np\n",
    "import warnings\n",
    "\n",
    "import seaborn as sns\n",
    "import matplotlib.pyplot as plt\n",
    "\n",
    "from scipy.stats import boxcox\n",
    "warnings.filterwarnings('ignore')\n"
   ]
  },
  {
   "cell_type": "code",
   "execution_count": 2,
   "metadata": {},
   "outputs": [
    {
     "data": {
      "text/html": [
       "<div>\n",
       "<style scoped>\n",
       "    .dataframe tbody tr th:only-of-type {\n",
       "        vertical-align: middle;\n",
       "    }\n",
       "\n",
       "    .dataframe tbody tr th {\n",
       "        vertical-align: top;\n",
       "    }\n",
       "\n",
       "    .dataframe thead th {\n",
       "        text-align: right;\n",
       "    }\n",
       "</style>\n",
       "<table border=\"1\" class=\"dataframe\">\n",
       "  <thead>\n",
       "    <tr style=\"text-align: right;\">\n",
       "      <th></th>\n",
       "      <th>ID</th>\n",
       "      <th>location</th>\n",
       "      <th>temp</th>\n",
       "      <th>precip</th>\n",
       "      <th>rel_humidity</th>\n",
       "      <th>wind_dir</th>\n",
       "      <th>wind_spd</th>\n",
       "      <th>atmos_press</th>\n",
       "      <th>target</th>\n",
       "      <th>max_temp</th>\n",
       "      <th>...</th>\n",
       "      <th>var_wind_spd</th>\n",
       "      <th>median_wind_spd</th>\n",
       "      <th>ptp_wind_spd</th>\n",
       "      <th>max_atmos_press</th>\n",
       "      <th>min_atmos_press</th>\n",
       "      <th>mean_atmos_press</th>\n",
       "      <th>std_atmos_press</th>\n",
       "      <th>var_atmos_press</th>\n",
       "      <th>median_atmos_press</th>\n",
       "      <th>ptp_atmos_press</th>\n",
       "    </tr>\n",
       "  </thead>\n",
       "  <tbody>\n",
       "    <tr>\n",
       "      <th>0</th>\n",
       "      <td>ID_train_0</td>\n",
       "      <td>C</td>\n",
       "      <td>[26.90909091, 27.20833333, 26.18333333, 24.7, ...</td>\n",
       "      <td>[0.0, 0.0, 0.0, 0.0, 0.0, 0.0, 0.0, 0.0, 0.0, ...</td>\n",
       "      <td>[0.5108181820000001, 0.535416667, 0.6145, 0.63...</td>\n",
       "      <td>[272.90275160000004, 104.565241, 167.1772247, ...</td>\n",
       "      <td>[0.800909091, 1.073333333, 1.5175, 1.4625, 0.5...</td>\n",
       "      <td>[87.77727273, 87.6525, 87.61416667, 87.6375, 8...</td>\n",
       "      <td>45.126304</td>\n",
       "      <td>27.208333</td>\n",
       "      <td>...</td>\n",
       "      <td>0.155268</td>\n",
       "      <td>0.666250</td>\n",
       "      <td>1.355000</td>\n",
       "      <td>87.871667</td>\n",
       "      <td>87.614167</td>\n",
       "      <td>87.752434</td>\n",
       "      <td>0.070374</td>\n",
       "      <td>0.004952</td>\n",
       "      <td>87.762083</td>\n",
       "      <td>0.257500</td>\n",
       "    </tr>\n",
       "    <tr>\n",
       "      <th>1</th>\n",
       "      <td>ID_train_1</td>\n",
       "      <td>D</td>\n",
       "      <td>[22.53333333, 21.71666667, 20.83333333, 20.983...</td>\n",
       "      <td>[0.102, 0.0, 0.0, 0.0, 0.0, 0.0, 0.0, 0.034, 0...</td>\n",
       "      <td>[0.744583333, 0.808083333, 0.911166667, 0.9163...</td>\n",
       "      <td>[281.6643101, 89.15629262, 81.96853891, 291.01...</td>\n",
       "      <td>[2.3775, 1.126666667, 0.700833333, 0.341666667...</td>\n",
       "      <td>[90.32, 90.3775, 90.44083333, 90.4725, 90.4541...</td>\n",
       "      <td>79.131702</td>\n",
       "      <td>33.616667</td>\n",
       "      <td>...</td>\n",
       "      <td>0.290736</td>\n",
       "      <td>0.744167</td>\n",
       "      <td>2.760833</td>\n",
       "      <td>90.725000</td>\n",
       "      <td>90.056667</td>\n",
       "      <td>90.429924</td>\n",
       "      <td>0.156000</td>\n",
       "      <td>0.024336</td>\n",
       "      <td>90.429167</td>\n",
       "      <td>0.668333</td>\n",
       "    </tr>\n",
       "  </tbody>\n",
       "</table>\n",
       "<p>2 rows × 51 columns</p>\n",
       "</div>"
      ],
      "text/plain": [
       "           ID location                                               temp  \\\n",
       "0  ID_train_0        C  [26.90909091, 27.20833333, 26.18333333, 24.7, ...   \n",
       "1  ID_train_1        D  [22.53333333, 21.71666667, 20.83333333, 20.983...   \n",
       "\n",
       "                                              precip  \\\n",
       "0  [0.0, 0.0, 0.0, 0.0, 0.0, 0.0, 0.0, 0.0, 0.0, ...   \n",
       "1  [0.102, 0.0, 0.0, 0.0, 0.0, 0.0, 0.0, 0.034, 0...   \n",
       "\n",
       "                                        rel_humidity  \\\n",
       "0  [0.5108181820000001, 0.535416667, 0.6145, 0.63...   \n",
       "1  [0.744583333, 0.808083333, 0.911166667, 0.9163...   \n",
       "\n",
       "                                            wind_dir  \\\n",
       "0  [272.90275160000004, 104.565241, 167.1772247, ...   \n",
       "1  [281.6643101, 89.15629262, 81.96853891, 291.01...   \n",
       "\n",
       "                                            wind_spd  \\\n",
       "0  [0.800909091, 1.073333333, 1.5175, 1.4625, 0.5...   \n",
       "1  [2.3775, 1.126666667, 0.700833333, 0.341666667...   \n",
       "\n",
       "                                         atmos_press     target   max_temp  \\\n",
       "0  [87.77727273, 87.6525, 87.61416667, 87.6375, 8...  45.126304  27.208333   \n",
       "1  [90.32, 90.3775, 90.44083333, 90.4725, 90.4541...  79.131702  33.616667   \n",
       "\n",
       "   ...  var_wind_spd  median_wind_spd  ptp_wind_spd  max_atmos_press  \\\n",
       "0  ...      0.155268         0.666250      1.355000        87.871667   \n",
       "1  ...      0.290736         0.744167      2.760833        90.725000   \n",
       "\n",
       "   min_atmos_press  mean_atmos_press  std_atmos_press  var_atmos_press  \\\n",
       "0        87.614167         87.752434         0.070374         0.004952   \n",
       "1        90.056667         90.429924         0.156000         0.024336   \n",
       "\n",
       "   median_atmos_press  ptp_atmos_press  \n",
       "0           87.762083         0.257500  \n",
       "1           90.429167         0.668333  \n",
       "\n",
       "[2 rows x 51 columns]"
      ]
     },
     "execution_count": 2,
     "metadata": {},
     "output_type": "execute_result"
    }
   ],
   "source": [
    "# import data\n",
    "data = pd.read_csv('data/data_51.csv', index_col=[0])\n",
    "data.head(2)"
   ]
  },
  {
   "cell_type": "code",
   "execution_count": 3,
   "metadata": {},
   "outputs": [],
   "source": [
    "# name of columns\n",
    "features=[\"temp\",\"precip\",\"rel_humidity\",\"wind_dir\",\"wind_spd\",\"atmos_press\"]\n",
    "max_features = [\"max_\" + str(feat) for feat in features]\n",
    "min_features = [\"min_\" + str(feat) for feat in features]\n",
    "mean_features = [\"mean_\" + str(feat) for feat in features]\n",
    "std_features = [\"std_\" + str(feat) for feat in features]\n",
    "var_features = [\"vat_\" + str(feat) for feat in features]\n",
    "median_features = [\"median_\" + str(feat) for feat in features]\n",
    "ptp_features = [\"ptp_\" + str(feat) for feat in features]\n"
   ]
  },
  {
   "cell_type": "code",
   "execution_count": 4,
   "metadata": {},
   "outputs": [
    {
     "data": {
      "text/plain": [
       "<AxesSubplot:xlabel='target', ylabel='Count'>"
      ]
     },
     "execution_count": 4,
     "metadata": {},
     "output_type": "execute_result"
    },
    {
     "data": {
      "image/png": "[encoded data removed]",
      "text/plain": [
       "<Figure size 432x288 with 1 Axes>"
      ]
     },
     "metadata": {
      "needs_background": "light"
     },
     "output_type": "display_data"
    }
   ],
   "source": [
    "# overview of the target \n",
    "sns.histplot(data.target, bins=10)  # TODO bins passend zu der Klassifizierung\n",
    "\n"
   ]
  },
  {
   "cell_type": "code",
   "execution_count": 5,
   "metadata": {},
   "outputs": [],
   "source": [
    "#data['target'], lmbda=boxcox(data['target'], lmbda=None)\n",
    "data['target_log'] = data['target'].apply(np.log1p)"
   ]
  },
  {
   "cell_type": "code",
   "execution_count": 6,
   "metadata": {},
   "outputs": [
    {
     "data": {
      "text/plain": [
       "<AxesSubplot:xlabel='target_log', ylabel='Count'>"
      ]
     },
     "execution_count": 6,
     "metadata": {},
     "output_type": "execute_result"
    },
    {
     "data": {
      "image/png": "[encoded data removed]",
      "text/plain": [
       "<Figure size 432x288 with 1 Axes>"
      ]
     },
     "metadata": {
      "needs_background": "light"
     },
     "output_type": "display_data"
    }
   ],
   "source": [
    "sns.histplot(data.target_log)\n"
   ]
  },
  {
   "cell_type": "code",
   "execution_count": 7,
   "metadata": {},
   "outputs": [
    {
     "name": "stdout",
     "output_type": "stream",
     "text": [
      "target_log    5035.000000\n",
      "target        5035.000000\n",
      "target_log      24.472635\n",
      "target          24.472635\n",
      "dtype: float64\n"
     ]
    }
   ],
   "source": [
    "# null values\n",
    "def print_null(df):\n",
    "    total = df.isnull().sum().sort_values(ascending=False)\n",
    "    total = total[df.isnull().sum().sort_values(ascending=False) != 0]\n",
    "    percent = total /df.shape[0]*100\n",
    "    percent = percent[df.isnull().sum().sort_values(ascending=False) != 0]\n",
    "    concat = pd.concat([total, percent])\n",
    "    print (concat)\n",
    "\n",
    "    \n",
    "print_null(data.drop(features, axis=1))"
   ]
  },
  {
   "cell_type": "code",
   "execution_count": 8,
   "metadata": {},
   "outputs": [],
   "source": [
    "#sns.pairplot(data[mean_features])"
   ]
  },
  {
   "cell_type": "markdown",
   "metadata": {},
   "source": [
    "#### EDA on precipitation"
   ]
  },
  {
   "cell_type": "code",
   "execution_count": 9,
   "metadata": {},
   "outputs": [],
   "source": [
    "# EDA precipitation:\n",
    "precip_stats = pd.concat([data.max_precip, \n",
    "                        data.min_precip, \n",
    "                        data.mean_precip, \n",
    "                        data.std_precip, \n",
    "                        data.var_precip, \n",
    "                        data.median_precip,  # all 0,0\n",
    "                        data.ptp_precip],\n",
    "                        axis=1)\n",
    "precip_stats['r_std_precip'] = precip_stats['std_precip'] / precip_stats['mean_precip'] *100\n",
    "#data['sum_precip'] = data['precip'].apply(lambda x: np.sum(x))"
   ]
  },
  {
   "cell_type": "code",
   "execution_count": 10,
   "metadata": {},
   "outputs": [
    {
     "data": {
      "text/plain": [
       "<AxesSubplot:xlabel='mean_precip', ylabel='target'>"
      ]
     },
     "execution_count": 10,
     "metadata": {},
     "output_type": "execute_result"
    },
    {
     "data": {
      "image/png": "[encoded data removed]",
      "text/plain": [
       "<Figure size 432x288 with 1 Axes>"
      ]
     },
     "metadata": {
      "needs_background": "light"
     },
     "output_type": "display_data"
    }
   ],
   "source": [
    "sns.scatterplot(data=data, x='mean_precip', y='target')"
   ]
  },
  {
   "cell_type": "code",
   "execution_count": 11,
   "metadata": {},
   "outputs": [],
   "source": [
    "#sns.scatterplot(data=data, x='sum_precip', y='target')"
   ]
  },
  {
   "cell_type": "code",
   "execution_count": 12,
   "metadata": {},
   "outputs": [
    {
     "data": {
      "text/plain": [
       "array([0.])"
      ]
     },
     "execution_count": 12,
     "metadata": {},
     "output_type": "execute_result"
    }
   ],
   "source": [
    "data.median_precip.unique()"
   ]
  },
  {
   "cell_type": "code",
   "execution_count": 13,
   "metadata": {},
   "outputs": [
    {
     "data": {
      "text/html": [
       "<div>\n",
       "<style scoped>\n",
       "    .dataframe tbody tr th:only-of-type {\n",
       "        vertical-align: middle;\n",
       "    }\n",
       "\n",
       "    .dataframe tbody tr th {\n",
       "        vertical-align: top;\n",
       "    }\n",
       "\n",
       "    .dataframe thead th {\n",
       "        text-align: right;\n",
       "    }\n",
       "</style>\n",
       "<table border=\"1\" class=\"dataframe\">\n",
       "  <thead>\n",
       "    <tr style=\"text-align: right;\">\n",
       "      <th></th>\n",
       "      <th>precip</th>\n",
       "      <th>std_precip</th>\n",
       "      <th>mean_precip</th>\n",
       "    </tr>\n",
       "  </thead>\n",
       "  <tbody>\n",
       "    <tr>\n",
       "      <th>0</th>\n",
       "      <td>[0.0, 0.0, 0.0, 0.0, 0.0, 0.0, 0.0, 0.0, 0.0, ...</td>\n",
       "      <td>0.000000</td>\n",
       "      <td>0.000000</td>\n",
       "    </tr>\n",
       "    <tr>\n",
       "      <th>1</th>\n",
       "      <td>[0.102, 0.0, 0.0, 0.0, 0.0, 0.0, 0.0, 0.034, 0...</td>\n",
       "      <td>0.051706</td>\n",
       "      <td>0.007025</td>\n",
       "    </tr>\n",
       "  </tbody>\n",
       "</table>\n",
       "</div>"
      ],
      "text/plain": [
       "                                              precip  std_precip  mean_precip\n",
       "0  [0.0, 0.0, 0.0, 0.0, 0.0, 0.0, 0.0, 0.0, 0.0, ...    0.000000     0.000000\n",
       "1  [0.102, 0.0, 0.0, 0.0, 0.0, 0.0, 0.0, 0.034, 0...    0.051706     0.007025"
      ]
     },
     "execution_count": 13,
     "metadata": {},
     "output_type": "execute_result"
    }
   ],
   "source": [
    "data[['precip', 'std_precip','mean_precip']].head(2)\n",
    "\n"
   ]
  },
  {
   "cell_type": "code",
   "execution_count": 14,
   "metadata": {},
   "outputs": [
    {
     "data": {
      "text/plain": [
       "array([0.])"
      ]
     },
     "execution_count": 14,
     "metadata": {},
     "output_type": "execute_result"
    }
   ],
   "source": [
    "precip_stats.median_precip.unique() #median values are all 0, why?"
   ]
  },
  {
   "cell_type": "code",
   "execution_count": 15,
   "metadata": {},
   "outputs": [
    {
     "data": {
      "text/plain": [
       "<AxesSubplot:xlabel='mean_precip', ylabel='Count'>"
      ]
     },
     "execution_count": 15,
     "metadata": {},
     "output_type": "execute_result"
    },
    {
     "data": {
      "image/png": "[encoded data removed]",
      "text/plain": [
       "<Figure size 432x288 with 1 Axes>"
      ]
     },
     "metadata": {
      "needs_background": "light"
     },
     "output_type": "display_data"
    }
   ],
   "source": [
    "sns.histplot(precip_stats.mean_precip) # a lot of mean values == 0, when it doesnt rain"
   ]
  },
  {
   "cell_type": "code",
   "execution_count": 16,
   "metadata": {},
   "outputs": [
    {
     "data": {
      "text/plain": [
       "\"def log1p(x):\\n    return np.log1p(x)\\n\\nprecip_stats['log_mean_precip'] = precip_stats['mean_precip'].apply(lambda x: log1p(X) for X in precip_stats.mean_precip )\""
      ]
     },
     "execution_count": 16,
     "metadata": {},
     "output_type": "execute_result"
    }
   ],
   "source": [
    "\"\"\"def log1p(x):\n",
    "    return np.log1p(x)\n",
    "\n",
    "precip_stats['log_mean_precip'] = precip_stats['mean_precip'].apply(lambda x: log1p(X) for X in precip_stats.mean_precip )\"\"\""
   ]
  },
  {
   "cell_type": "code",
   "execution_count": 17,
   "metadata": {},
   "outputs": [],
   "source": [
    "# relative Standard deviation of the precipitation\n",
    "#sns.histplot(precip_stats.r_std_precip)"
   ]
  },
  {
   "cell_type": "code",
   "execution_count": 18,
   "metadata": {},
   "outputs": [
    {
     "data": {
      "text/plain": [
       "8729    1095.445115\n",
       "4436    1095.445115\n",
       "534     1095.445115\n",
       "Name: r_std_precip, dtype: float64"
      ]
     },
     "execution_count": 18,
     "metadata": {},
     "output_type": "execute_result"
    }
   ],
   "source": [
    "precip_stats.r_std_precip.sort_values(ascending=False)[:3]"
   ]
  },
  {
   "cell_type": "code",
   "execution_count": 19,
   "metadata": {},
   "outputs": [
    {
     "data": {
      "text/plain": [
       "array([ 25.787     ,   0.        ,   1.12727273,   3.73988635,\n",
       "        13.98674993,   0.        ,  25.787     , 331.76411197])"
      ]
     },
     "execution_count": 19,
     "metadata": {},
     "output_type": "execute_result"
    }
   ],
   "source": [
    "precip_stats.values[3]"
   ]
  },
  {
   "cell_type": "code",
   "execution_count": 20,
   "metadata": {},
   "outputs": [],
   "source": [
    "\n",
    "#np.std(data.precip[90])/\n",
    "#np.mean(data.precip[3])#*100"
   ]
  },
  {
   "cell_type": "code",
   "execution_count": null,
   "metadata": {},
   "outputs": [],
   "source": []
  },
  {
   "cell_type": "markdown",
   "metadata": {},
   "source": [
    "The relative standard deviation is less than 15%, it should be ok"
   ]
  },
  {
   "cell_type": "markdown",
   "metadata": {},
   "source": [
    "#### EDA on humidity "
   ]
  },
  {
   "cell_type": "markdown",
   "metadata": {},
   "source": []
  },
  {
   "cell_type": "code",
   "execution_count": 21,
   "metadata": {},
   "outputs": [],
   "source": [
    "# EDA humidity:\n",
    "rel_hum_stats = pd.concat([data.max_rel_humidity, \n",
    "                        data.min_rel_humidity, \n",
    "                        data.mean_rel_humidity, \n",
    "                        data.std_rel_humidity, \n",
    "                        data.var_rel_humidity, \n",
    "                        data.median_rel_humidity,  # all 0\n",
    "                        data.ptp_rel_humidity],\n",
    "                        axis=1)\n",
    "rel_hum_stats['r_std_rel_humidity'] = rel_hum_stats['std_rel_humidity'] / rel_hum_stats['mean_rel_humidity'] * 100\n"
   ]
  },
  {
   "cell_type": "code",
   "execution_count": 22,
   "metadata": {},
   "outputs": [
    {
     "data": {
      "text/plain": [
       "<AxesSubplot:xlabel='mean_rel_humidity', ylabel='Count'>"
      ]
     },
     "execution_count": 22,
     "metadata": {},
     "output_type": "execute_result"
    },
    {
     "data": {
      "image/png": "[encoded data removed]",
      "text/plain": [
       "<Figure size 432x288 with 1 Axes>"
      ]
     },
     "metadata": {
      "needs_background": "light"
     },
     "output_type": "display_data"
    }
   ],
   "source": [
    "sns.histplot(rel_hum_stats.mean_rel_humidity) # a lot of mean values == 0, when it doesnt rain"
   ]
  },
  {
   "cell_type": "code",
   "execution_count": 23,
   "metadata": {},
   "outputs": [
    {
     "data": {
      "text/plain": [
       "<AxesSubplot:xlabel='r_std_rel_humidity', ylabel='Count'>"
      ]
     },
     "execution_count": 23,
     "metadata": {},
     "output_type": "execute_result"
    },
    {
     "data": {
      "image/png": "[encoded data removed]",
      "text/plain": [
       "<Figure size 432x288 with 1 Axes>"
      ]
     },
     "metadata": {
      "needs_background": "light"
     },
     "output_type": "display_data"
    }
   ],
   "source": [
    "# relative Standard deviation of the precipitation\n",
    "sns.histplot(rel_hum_stats.r_std_rel_humidity)"
   ]
  },
  {
   "cell_type": "markdown",
   "metadata": {},
   "source": [
    "### EDA on wind speed"
   ]
  },
  {
   "cell_type": "code",
   "execution_count": 24,
   "metadata": {},
   "outputs": [],
   "source": [
    "# EDA wind speed on metres per second:\n",
    "wind_spd_stats = pd.concat([data.max_wind_spd, \n",
    "                        data.min_wind_spd, \n",
    "                        data.mean_wind_spd, \n",
    "                        data.std_wind_spd, \n",
    "                        data.var_wind_spd, \n",
    "                        data.median_wind_spd,  # all 0\n",
    "                        data.ptp_wind_spd],\n",
    "                        axis=1)\n",
    "wind_spd_stats['r_std_wind_spd'] = wind_spd_stats['std_wind_spd'] / wind_spd_stats['mean_wind_spd'] * 100"
   ]
  },
  {
   "cell_type": "code",
   "execution_count": 25,
   "metadata": {},
   "outputs": [
    {
     "data": {
      "text/plain": [
       "<AxesSubplot:xlabel='mean_wind_spd', ylabel='Count'>"
      ]
     },
     "execution_count": 25,
     "metadata": {},
     "output_type": "execute_result"
    },
    {
     "data": {
      "image/png": "[encoded data removed]",
      "text/plain": [
       "<Figure size 432x288 with 1 Axes>"
      ]
     },
     "metadata": {
      "needs_background": "light"
     },
     "output_type": "display_data"
    }
   ],
   "source": [
    "sns.histplot(wind_spd_stats.mean_wind_spd) # 5m/2 means Beafourt 3 -> leichte brise"
   ]
  },
  {
   "cell_type": "code",
   "execution_count": 26,
   "metadata": {},
   "outputs": [
    {
     "data": {
      "text/plain": [
       "<AxesSubplot:xlabel='r_std_wind_spd', ylabel='Count'>"
      ]
     },
     "execution_count": 26,
     "metadata": {},
     "output_type": "execute_result"
    },
    {
     "data": {
      "image/png": "[encoded data removed]",
      "text/plain": [
       "<Figure size 432x288 with 1 Axes>"
      ]
     },
     "metadata": {
      "needs_background": "light"
     },
     "output_type": "display_data"
    }
   ],
   "source": [
    "sns.histplot(wind_spd_stats.r_std_wind_spd)"
   ]
  },
  {
   "cell_type": "markdown",
   "metadata": {},
   "source": [
    "#### atmos_press: mean atmospheric pressure(atm)*"
   ]
  },
  {
   "cell_type": "code",
   "execution_count": 27,
   "metadata": {},
   "outputs": [
    {
     "data": {
      "text/plain": [
       "[(87.5, 91.0)]"
      ]
     },
     "execution_count": 27,
     "metadata": {},
     "output_type": "execute_result"
    },
    {
     "data": {
      "image/png": "[encoded data removed]",
      "text/plain": [
       "<Figure size 432x288 with 1 Axes>"
      ]
     },
     "metadata": {
      "needs_background": "light"
     },
     "output_type": "display_data"
    }
   ],
   "source": [
    "p = sns.histplot(data=data , x = 'mean_atmos_press', hue='location')\n",
    "p.set(xlim=(87.5, 91))\n"
   ]
  },
  {
   "cell_type": "code",
   "execution_count": 28,
   "metadata": {},
   "outputs": [
    {
     "data": {
      "text/plain": [
       "[(87.5, 91.0)]"
      ]
     },
     "execution_count": 28,
     "metadata": {},
     "output_type": "execute_result"
    },
    {
     "data": {
      "image/png": "[encoded data removed]",
      "text/plain": [
       "<Figure size 432x288 with 1 Axes>"
      ]
     },
     "metadata": {
      "needs_background": "light"
     },
     "output_type": "display_data"
    }
   ],
   "source": [
    "locations = ['A', 'B', 'C', 'D', 'E']\n",
    "\n",
    "a = data[(data['location']=='D')]\n",
    "ad= sns.histplot(a.mean_atmos_press)\n",
    "ad.set(xlim=(87.5, 91))"
   ]
  },
  {
   "cell_type": "markdown",
   "metadata": {},
   "source": [
    "mean_atmos_press depends on the location. \n",
    "?needs to level?"
   ]
  },
  {
   "cell_type": "code",
   "execution_count": 29,
   "metadata": {},
   "outputs": [],
   "source": [
    "del data"
   ]
  },
  {
   "cell_type": "markdown",
   "metadata": {},
   "source": [
    "# Feature engineering"
   ]
  },
  {
   "cell_type": "markdown",
   "metadata": {},
   "source": [
    "on data process"
   ]
  },
  {
   "cell_type": "code",
   "execution_count": 30,
   "metadata": {},
   "outputs": [],
   "source": [
    "data = pd.read_csv('data/data_15_mean.csv', index_col=[0])\n"
   ]
  },
  {
   "cell_type": "markdown",
   "metadata": {},
   "source": [
    "### Log(1+x) Tranform target"
   ]
  },
  {
   "cell_type": "code",
   "execution_count": 31,
   "metadata": {},
   "outputs": [
    {
     "data": {
      "text/plain": [
       "\"train_z['log_target'] = train_z['target'].apply(np.log1p)\""
      ]
     },
     "execution_count": 31,
     "metadata": {},
     "output_type": "execute_result"
    }
   ],
   "source": [
    "\"\"\"train_z['log_target'] = train_z['target'].apply(np.log1p)\"\"\""
   ]
  },
  {
   "cell_type": "markdown",
   "metadata": {},
   "source": [
    "### One Hot encoder location"
   ]
  },
  {
   "cell_type": "code",
   "execution_count": 32,
   "metadata": {},
   "outputs": [],
   "source": [
    "from sklearn.preprocessing import LabelEncoder\n",
    "enc = LabelEncoder()\n",
    "enc.fit(data[\"location\"])\n",
    "data[\"location\"]=enc.transform(data[\"location\"])\n"
   ]
  },
  {
   "cell_type": "code",
   "execution_count": 33,
   "metadata": {},
   "outputs": [],
   "source": [
    "enc.fit(data[\"location\"])\n",
    "data[\"location\"]=enc.transform(data[\"location\"])"
   ]
  },
  {
   "cell_type": "code",
   "execution_count": 34,
   "metadata": {},
   "outputs": [
    {
     "data": {
      "text/plain": [
       "(20574, 15)"
      ]
     },
     "execution_count": 34,
     "metadata": {},
     "output_type": "execute_result"
    }
   ],
   "source": [
    "data.shape"
   ]
  },
  {
   "cell_type": "code",
   "execution_count": 35,
   "metadata": {},
   "outputs": [
    {
     "data": {
      "text/html": [
       "<div>\n",
       "<style scoped>\n",
       "    .dataframe tbody tr th:only-of-type {\n",
       "        vertical-align: middle;\n",
       "    }\n",
       "\n",
       "    .dataframe tbody tr th {\n",
       "        vertical-align: top;\n",
       "    }\n",
       "\n",
       "    .dataframe thead th {\n",
       "        text-align: right;\n",
       "    }\n",
       "</style>\n",
       "<table border=\"1\" class=\"dataframe\">\n",
       "  <thead>\n",
       "    <tr style=\"text-align: right;\">\n",
       "      <th></th>\n",
       "      <th>ID</th>\n",
       "      <th>location</th>\n",
       "      <th>temp</th>\n",
       "      <th>precip</th>\n",
       "      <th>rel_humidity</th>\n",
       "      <th>wind_dir</th>\n",
       "      <th>wind_spd</th>\n",
       "      <th>atmos_press</th>\n",
       "      <th>target</th>\n",
       "      <th>mean_temp</th>\n",
       "      <th>mean_precip</th>\n",
       "      <th>mean_rel_humidity</th>\n",
       "      <th>mean_wind_dir</th>\n",
       "      <th>mean_wind_spd</th>\n",
       "      <th>mean_atmos_press</th>\n",
       "    </tr>\n",
       "  </thead>\n",
       "  <tbody>\n",
       "    <tr>\n",
       "      <th>0</th>\n",
       "      <td>ID_train_0</td>\n",
       "      <td>2</td>\n",
       "      <td>[26.90909091, 27.20833333, 26.18333333, 24.7, ...</td>\n",
       "      <td>[0.0, 0.0, 0.0, 0.0, 0.0, 0.0, 0.0, 0.0, 0.0, ...</td>\n",
       "      <td>[0.5108181820000001, 0.535416667, 0.6145, 0.63...</td>\n",
       "      <td>[272.90275160000004, 104.565241, 167.1772247, ...</td>\n",
       "      <td>[0.800909091, 1.073333333, 1.5175, 1.4625, 0.5...</td>\n",
       "      <td>[87.77727273, 87.6525, 87.61416667, 87.6375, 8...</td>\n",
       "      <td>45.126304</td>\n",
       "      <td>22.299527</td>\n",
       "      <td>0.000000</td>\n",
       "      <td>0.758530</td>\n",
       "      <td>209.574655</td>\n",
       "      <td>0.677348</td>\n",
       "      <td>87.752434</td>\n",
       "    </tr>\n",
       "    <tr>\n",
       "      <th>1</th>\n",
       "      <td>ID_train_1</td>\n",
       "      <td>3</td>\n",
       "      <td>[22.53333333, 21.71666667, 20.83333333, 20.983...</td>\n",
       "      <td>[0.102, 0.0, 0.0, 0.0, 0.0, 0.0, 0.0, 0.034, 0...</td>\n",
       "      <td>[0.744583333, 0.808083333, 0.911166667, 0.9163...</td>\n",
       "      <td>[281.6643101, 89.15629262, 81.96853891, 291.01...</td>\n",
       "      <td>[2.3775, 1.126666667, 0.700833333, 0.341666667...</td>\n",
       "      <td>[90.32, 90.3775, 90.44083333, 90.4725, 90.4541...</td>\n",
       "      <td>79.131702</td>\n",
       "      <td>24.679063</td>\n",
       "      <td>0.007025</td>\n",
       "      <td>0.758058</td>\n",
       "      <td>177.109855</td>\n",
       "      <td>0.899208</td>\n",
       "      <td>90.429924</td>\n",
       "    </tr>\n",
       "  </tbody>\n",
       "</table>\n",
       "</div>"
      ],
      "text/plain": [
       "           ID  location                                               temp  \\\n",
       "0  ID_train_0         2  [26.90909091, 27.20833333, 26.18333333, 24.7, ...   \n",
       "1  ID_train_1         3  [22.53333333, 21.71666667, 20.83333333, 20.983...   \n",
       "\n",
       "                                              precip  \\\n",
       "0  [0.0, 0.0, 0.0, 0.0, 0.0, 0.0, 0.0, 0.0, 0.0, ...   \n",
       "1  [0.102, 0.0, 0.0, 0.0, 0.0, 0.0, 0.0, 0.034, 0...   \n",
       "\n",
       "                                        rel_humidity  \\\n",
       "0  [0.5108181820000001, 0.535416667, 0.6145, 0.63...   \n",
       "1  [0.744583333, 0.808083333, 0.911166667, 0.9163...   \n",
       "\n",
       "                                            wind_dir  \\\n",
       "0  [272.90275160000004, 104.565241, 167.1772247, ...   \n",
       "1  [281.6643101, 89.15629262, 81.96853891, 291.01...   \n",
       "\n",
       "                                            wind_spd  \\\n",
       "0  [0.800909091, 1.073333333, 1.5175, 1.4625, 0.5...   \n",
       "1  [2.3775, 1.126666667, 0.700833333, 0.341666667...   \n",
       "\n",
       "                                         atmos_press     target  mean_temp  \\\n",
       "0  [87.77727273, 87.6525, 87.61416667, 87.6375, 8...  45.126304  22.299527   \n",
       "1  [90.32, 90.3775, 90.44083333, 90.4725, 90.4541...  79.131702  24.679063   \n",
       "\n",
       "   mean_precip  mean_rel_humidity  mean_wind_dir  mean_wind_spd  \\\n",
       "0     0.000000           0.758530     209.574655       0.677348   \n",
       "1     0.007025           0.758058     177.109855       0.899208   \n",
       "\n",
       "   mean_atmos_press  \n",
       "0         87.752434  \n",
       "1         90.429924  "
      ]
     },
     "execution_count": 35,
     "metadata": {},
     "output_type": "execute_result"
    }
   ],
   "source": [
    "data.head(2)"
   ]
  },
  {
   "cell_type": "markdown",
   "metadata": {},
   "source": [
    "### original feature drop\n",
    "\n",
    "in Zindi database is done"
   ]
  },
  {
   "cell_type": "code",
   "execution_count": 36,
   "metadata": {},
   "outputs": [
    {
     "data": {
      "text/html": [
       "<div>\n",
       "<style scoped>\n",
       "    .dataframe tbody tr th:only-of-type {\n",
       "        vertical-align: middle;\n",
       "    }\n",
       "\n",
       "    .dataframe tbody tr th {\n",
       "        vertical-align: top;\n",
       "    }\n",
       "\n",
       "    .dataframe thead th {\n",
       "        text-align: right;\n",
       "    }\n",
       "</style>\n",
       "<table border=\"1\" class=\"dataframe\">\n",
       "  <thead>\n",
       "    <tr style=\"text-align: right;\">\n",
       "      <th></th>\n",
       "      <th>location</th>\n",
       "      <th>target</th>\n",
       "      <th>mean_temp</th>\n",
       "      <th>mean_precip</th>\n",
       "      <th>mean_rel_humidity</th>\n",
       "      <th>mean_wind_dir</th>\n",
       "      <th>mean_wind_spd</th>\n",
       "      <th>mean_atmos_press</th>\n",
       "    </tr>\n",
       "  </thead>\n",
       "  <tbody>\n",
       "    <tr>\n",
       "      <th>0</th>\n",
       "      <td>2</td>\n",
       "      <td>45.126304</td>\n",
       "      <td>22.299527</td>\n",
       "      <td>0.000000</td>\n",
       "      <td>0.758530</td>\n",
       "      <td>209.574655</td>\n",
       "      <td>0.677348</td>\n",
       "      <td>87.752434</td>\n",
       "    </tr>\n",
       "    <tr>\n",
       "      <th>1</th>\n",
       "      <td>3</td>\n",
       "      <td>79.131702</td>\n",
       "      <td>24.679063</td>\n",
       "      <td>0.007025</td>\n",
       "      <td>0.758058</td>\n",
       "      <td>177.109855</td>\n",
       "      <td>0.899208</td>\n",
       "      <td>90.429924</td>\n",
       "    </tr>\n",
       "  </tbody>\n",
       "</table>\n",
       "</div>"
      ],
      "text/plain": [
       "   location     target  mean_temp  mean_precip  mean_rel_humidity  \\\n",
       "0         2  45.126304  22.299527     0.000000           0.758530   \n",
       "1         3  79.131702  24.679063     0.007025           0.758058   \n",
       "\n",
       "   mean_wind_dir  mean_wind_spd  mean_atmos_press  \n",
       "0     209.574655       0.677348         87.752434  \n",
       "1     177.109855       0.899208         90.429924  "
      ]
     },
     "execution_count": 36,
     "metadata": {},
     "output_type": "execute_result"
    }
   ],
   "source": [
    "features=[\"temp\",\"precip\",\"rel_humidity\",\"wind_dir\",\"wind_spd\",\"atmos_press\", 'ID']\n",
    "data= data.drop(features, axis=1)\n",
    "data.head(2)"
   ]
  },
  {
   "cell_type": "markdown",
   "metadata": {},
   "source": []
  },
  {
   "cell_type": "code",
   "execution_count": 37,
   "metadata": {},
   "outputs": [
    {
     "data": {
      "text/plain": [
       "(20574, 8)"
      ]
     },
     "execution_count": 37,
     "metadata": {},
     "output_type": "execute_result"
    }
   ],
   "source": [
    "data.shape"
   ]
  },
  {
   "cell_type": "markdown",
   "metadata": {},
   "source": [
    "### export as csv\n"
   ]
  },
  {
   "cell_type": "code",
   "execution_count": 38,
   "metadata": {},
   "outputs": [],
   "source": [
    "data.to_csv('data/data_8.csv')\n",
    "#test_z.to_csv('data/test_ours.csv')"
   ]
  },
  {
   "cell_type": "code",
   "execution_count": null,
   "metadata": {},
   "outputs": [],
   "source": []
  },
  {
   "cell_type": "code",
   "execution_count": null,
   "metadata": {},
   "outputs": [],
   "source": []
  },
  {
   "cell_type": "markdown",
   "metadata": {},
   "source": [
    "## Basis Model\n",
    "\n",
    "the prediction gives the mean value of the target"
   ]
  },
  {
   "cell_type": "code",
   "execution_count": 39,
   "metadata": {},
   "outputs": [],
   "source": [
    "# select only Location D\n",
    "data = data[(data['location']== 4)]\n",
    "data.shape\n",
    "#fillna\n",
    "data = data.fillna(data.mean())"
   ]
  },
  {
   "cell_type": "code",
   "execution_count": 40,
   "metadata": {},
   "outputs": [
    {
     "data": {
      "text/html": [
       "<div>\n",
       "<style scoped>\n",
       "    .dataframe tbody tr th:only-of-type {\n",
       "        vertical-align: middle;\n",
       "    }\n",
       "\n",
       "    .dataframe tbody tr th {\n",
       "        vertical-align: top;\n",
       "    }\n",
       "\n",
       "    .dataframe thead th {\n",
       "        text-align: right;\n",
       "    }\n",
       "</style>\n",
       "<table border=\"1\" class=\"dataframe\">\n",
       "  <thead>\n",
       "    <tr style=\"text-align: right;\">\n",
       "      <th></th>\n",
       "      <th>location</th>\n",
       "      <th>target</th>\n",
       "      <th>mean_temp</th>\n",
       "      <th>mean_precip</th>\n",
       "      <th>mean_rel_humidity</th>\n",
       "      <th>mean_wind_dir</th>\n",
       "      <th>mean_wind_spd</th>\n",
       "      <th>mean_atmos_press</th>\n",
       "    </tr>\n",
       "  </thead>\n",
       "  <tbody>\n",
       "    <tr>\n",
       "      <th>5</th>\n",
       "      <td>4</td>\n",
       "      <td>17.005000</td>\n",
       "      <td>22.581950</td>\n",
       "      <td>0.572736</td>\n",
       "      <td>0.795031</td>\n",
       "      <td>168.296246</td>\n",
       "      <td>1.133221</td>\n",
       "      <td>88.437645</td>\n",
       "    </tr>\n",
       "    <tr>\n",
       "      <th>11</th>\n",
       "      <td>4</td>\n",
       "      <td>45.024500</td>\n",
       "      <td>21.315771</td>\n",
       "      <td>0.062000</td>\n",
       "      <td>0.831841</td>\n",
       "      <td>243.946644</td>\n",
       "      <td>0.996488</td>\n",
       "      <td>88.439917</td>\n",
       "    </tr>\n",
       "    <tr>\n",
       "      <th>20</th>\n",
       "      <td>4</td>\n",
       "      <td>32.363333</td>\n",
       "      <td>25.333747</td>\n",
       "      <td>0.001545</td>\n",
       "      <td>0.699638</td>\n",
       "      <td>182.435273</td>\n",
       "      <td>1.380289</td>\n",
       "      <td>88.229222</td>\n",
       "    </tr>\n",
       "    <tr>\n",
       "      <th>29</th>\n",
       "      <td>4</td>\n",
       "      <td>45.775714</td>\n",
       "      <td>23.653656</td>\n",
       "      <td>0.366950</td>\n",
       "      <td>0.763010</td>\n",
       "      <td>193.489922</td>\n",
       "      <td>1.510851</td>\n",
       "      <td>88.311949</td>\n",
       "    </tr>\n",
       "    <tr>\n",
       "      <th>30</th>\n",
       "      <td>4</td>\n",
       "      <td>41.390455</td>\n",
       "      <td>22.079760</td>\n",
       "      <td>0.075133</td>\n",
       "      <td>0.716946</td>\n",
       "      <td>226.400482</td>\n",
       "      <td>1.742356</td>\n",
       "      <td>88.397523</td>\n",
       "    </tr>\n",
       "  </tbody>\n",
       "</table>\n",
       "</div>"
      ],
      "text/plain": [
       "    location     target  mean_temp  mean_precip  mean_rel_humidity  \\\n",
       "5          4  17.005000  22.581950     0.572736           0.795031   \n",
       "11         4  45.024500  21.315771     0.062000           0.831841   \n",
       "20         4  32.363333  25.333747     0.001545           0.699638   \n",
       "29         4  45.775714  23.653656     0.366950           0.763010   \n",
       "30         4  41.390455  22.079760     0.075133           0.716946   \n",
       "\n",
       "    mean_wind_dir  mean_wind_spd  mean_atmos_press  \n",
       "5      168.296246       1.133221         88.437645  \n",
       "11     243.946644       0.996488         88.439917  \n",
       "20     182.435273       1.380289         88.229222  \n",
       "29     193.489922       1.510851         88.311949  \n",
       "30     226.400482       1.742356         88.397523  "
      ]
     },
     "execution_count": 40,
     "metadata": {},
     "output_type": "execute_result"
    }
   ],
   "source": [
    "data.head()"
   ]
  },
  {
   "cell_type": "code",
   "execution_count": 41,
   "metadata": {},
   "outputs": [],
   "source": [
    "from sklearn.metrics import mean_squared_error"
   ]
  },
  {
   "cell_type": "code",
   "execution_count": 42,
   "metadata": {},
   "outputs": [],
   "source": [
    "def rmse(y_true, y_pred):\n",
    "    return np.sqrt(mean_squared_error(y_true, y_pred))"
   ]
  },
  {
   "cell_type": "code",
   "execution_count": 43,
   "metadata": {},
   "outputs": [],
   "source": [
    "def error_analysis(y_test, y_pred_test):\n",
    "    \"\"\"Generated true vs. predicted values and residual scatter plot for models\n",
    "\n",
    "    Args:\n",
    "        y_test (array): true values for y_test\n",
    "        y_pred_test (array): predicted values of model for y_test\n",
    "    \"\"\"     \n",
    "    # Calculate residuals\n",
    "    residuals = y_test - y_pred_test\n",
    "    \n",
    "    # Plot real vs. predicted values \n",
    "    fig, ax = plt.subplots(1,2, figsize=(15, 5))\n",
    "    plt.subplots_adjust(right=1)\n",
    "    plt.suptitle('Error Analysis')\n",
    "    \n",
    "    ax[0].scatter(y_pred_test, y_test, color=\"#FF5A36\", alpha=0.7)\n",
    "    ax[0].plot([-400, 350], [-400, 350], color=\"#193251\")\n",
    "    ax[0].set_title(\"True vs. predicted values\", fontsize=16)\n",
    "    ax[0].set_xlabel(\"predicted values\")\n",
    "    ax[0].set_ylabel(\"true values\")\n",
    "    #ax[0].set_xlim((y_pred_test.min()-10), (y_pred_test.max()+10))\n",
    "    ax[0].set_ylim((y_test.min()-40), (y_test.max()+40))\n",
    "    \n",
    "    ax[1].scatter(y_pred_test, residuals, color=\"#FF5A36\", alpha=0.7)\n",
    "    ax[1].plot([-400, 350], [0,0], color=\"#193251\")\n",
    "    ax[1].set_title(\"Residual Scatter Plot\", fontsize=16)\n",
    "    ax[1].set_xlabel(\"predicted values\")\n",
    "    ax[1].set_ylabel(\"residuals\")\n",
    "    #ax[1].set_xlim((y_pred_test.min()-10), (y_pred_test.max()+10))\n",
    "    #ax[1].set_ylim((residuals.min()-10), (residuals.max()+10));"
   ]
  },
  {
   "cell_type": "code",
   "execution_count": 44,
   "metadata": {},
   "outputs": [
    {
     "name": "stdout",
     "output_type": "stream",
     "text": [
      "Zindi: \n",
      "Mean Target : 37.80 \t RMSE: 20.54 \t NRMSE: 0.54\n",
      "Our (log_transform)\n"
     ]
    }
   ],
   "source": [
    "# with zindi data:\n",
    "\n",
    "# mean target\n",
    "mean_target_zindi = data.target.mean() # 58.24\n",
    "# prediction are all the mean of the target 58.24\n",
    "y_target_zindi = [mean_target_zindi for x in range (data.target.shape[0])]\n",
    "\n",
    "# with our data : \n",
    "\n",
    "\"\"\"# transform all target values to log: \n",
    "y_target_log = [np.log1p(x) for x in y_target_zindi]\n",
    "# mean value for log_target values\n",
    "mean_target_log = np.mean(y_target_log) # 4.081\n",
    "# prediction are all the mean of the log_target \n",
    "y_target_log = [mean_target_log for x in range (data.target.shape[0])]\n",
    "\"\"\"\n",
    "\n",
    "rmse_zindi = rmse(data.target, y_target_zindi)\n",
    "#rmse_our =   rmse(data.log_target, y_target_log)\n",
    "\n",
    "\n",
    "\n",
    "print('Zindi: ')\n",
    "print (f'Mean Target : {mean_target_zindi:.2f} \\t RMSE: {rmse_zindi:.2f} \\t NRMSE: {rmse_zindi/mean_target_zindi:.2f}')\n",
    "print('Our (log_transform)')\n",
    "#print (f'Mean Target: {mean_target_log:.2f} \\t RMSE: {rmse_our:.2f} \\t NRMSE:{rmse_our/mean_target_log:.2f}') #54.354144\n"
   ]
  },
  {
   "cell_type": "code",
   "execution_count": 45,
   "metadata": {},
   "outputs": [
    {
     "data": {
      "image/png": "[encoded data removed]",
      "text/plain": [
       "<Figure size 1080x360 with 2 Axes>"
      ]
     },
     "metadata": {
      "needs_background": "light"
     },
     "output_type": "display_data"
    }
   ],
   "source": [
    "# error analysis \n",
    "error_analysis(data.target, y_target_zindi)           "
   ]
  },
  {
   "cell_type": "code",
   "execution_count": 46,
   "metadata": {},
   "outputs": [],
   "source": [
    "data[\"Bi_airquality\"] = pd.cut(data[\"target\"], bins =[0, 35, 475.82] , labels=[\"good\", \"bad\"])"
   ]
  },
  {
   "cell_type": "code",
   "execution_count": 47,
   "metadata": {},
   "outputs": [],
   "source": [
    " data[\"trafic_airquality\"]=pd.cut(data[\"target\"],bins=[ 0, 35, 150, 476 ], labels=[\"green\", \"yellow\", \"red\"])"
   ]
  },
  {
   "cell_type": "code",
   "execution_count": 48,
   "metadata": {},
   "outputs": [],
   "source": [
    "data[\"6fold_airquality\"]=pd.cut(data[\"target\"],bins=[ 0, 12, 35, 55, 150, 250, 476 ], labels=[\"Good\", \"Moderate\", \"low unhealthy\",\"med unhealthy\",\"very unhealthy\",\"hazardous\"])"
   ]
  },
  {
   "cell_type": "code",
   "execution_count": 49,
   "metadata": {},
   "outputs": [
    {
     "data": {
      "text/html": [
       "<div>\n",
       "<style scoped>\n",
       "    .dataframe tbody tr th:only-of-type {\n",
       "        vertical-align: middle;\n",
       "    }\n",
       "\n",
       "    .dataframe tbody tr th {\n",
       "        vertical-align: top;\n",
       "    }\n",
       "\n",
       "    .dataframe thead th {\n",
       "        text-align: right;\n",
       "    }\n",
       "</style>\n",
       "<table border=\"1\" class=\"dataframe\">\n",
       "  <thead>\n",
       "    <tr style=\"text-align: right;\">\n",
       "      <th></th>\n",
       "      <th>location</th>\n",
       "      <th>target</th>\n",
       "      <th>mean_temp</th>\n",
       "      <th>mean_precip</th>\n",
       "      <th>mean_rel_humidity</th>\n",
       "      <th>mean_wind_dir</th>\n",
       "      <th>mean_wind_spd</th>\n",
       "      <th>mean_atmos_press</th>\n",
       "      <th>Bi_airquality</th>\n",
       "      <th>trafic_airquality</th>\n",
       "      <th>6fold_airquality</th>\n",
       "    </tr>\n",
       "  </thead>\n",
       "  <tbody>\n",
       "    <tr>\n",
       "      <th>5</th>\n",
       "      <td>4</td>\n",
       "      <td>17.005000</td>\n",
       "      <td>22.581950</td>\n",
       "      <td>0.572736</td>\n",
       "      <td>0.795031</td>\n",
       "      <td>168.296246</td>\n",
       "      <td>1.133221</td>\n",
       "      <td>88.437645</td>\n",
       "      <td>good</td>\n",
       "      <td>green</td>\n",
       "      <td>Moderate</td>\n",
       "    </tr>\n",
       "    <tr>\n",
       "      <th>11</th>\n",
       "      <td>4</td>\n",
       "      <td>45.024500</td>\n",
       "      <td>21.315771</td>\n",
       "      <td>0.062000</td>\n",
       "      <td>0.831841</td>\n",
       "      <td>243.946644</td>\n",
       "      <td>0.996488</td>\n",
       "      <td>88.439917</td>\n",
       "      <td>bad</td>\n",
       "      <td>yellow</td>\n",
       "      <td>low unhealthy</td>\n",
       "    </tr>\n",
       "    <tr>\n",
       "      <th>20</th>\n",
       "      <td>4</td>\n",
       "      <td>32.363333</td>\n",
       "      <td>25.333747</td>\n",
       "      <td>0.001545</td>\n",
       "      <td>0.699638</td>\n",
       "      <td>182.435273</td>\n",
       "      <td>1.380289</td>\n",
       "      <td>88.229222</td>\n",
       "      <td>good</td>\n",
       "      <td>green</td>\n",
       "      <td>Moderate</td>\n",
       "    </tr>\n",
       "    <tr>\n",
       "      <th>29</th>\n",
       "      <td>4</td>\n",
       "      <td>45.775714</td>\n",
       "      <td>23.653656</td>\n",
       "      <td>0.366950</td>\n",
       "      <td>0.763010</td>\n",
       "      <td>193.489922</td>\n",
       "      <td>1.510851</td>\n",
       "      <td>88.311949</td>\n",
       "      <td>bad</td>\n",
       "      <td>yellow</td>\n",
       "      <td>low unhealthy</td>\n",
       "    </tr>\n",
       "    <tr>\n",
       "      <th>30</th>\n",
       "      <td>4</td>\n",
       "      <td>41.390455</td>\n",
       "      <td>22.079760</td>\n",
       "      <td>0.075133</td>\n",
       "      <td>0.716946</td>\n",
       "      <td>226.400482</td>\n",
       "      <td>1.742356</td>\n",
       "      <td>88.397523</td>\n",
       "      <td>bad</td>\n",
       "      <td>yellow</td>\n",
       "      <td>low unhealthy</td>\n",
       "    </tr>\n",
       "  </tbody>\n",
       "</table>\n",
       "</div>"
      ],
      "text/plain": [
       "    location     target  mean_temp  mean_precip  mean_rel_humidity  \\\n",
       "5          4  17.005000  22.581950     0.572736           0.795031   \n",
       "11         4  45.024500  21.315771     0.062000           0.831841   \n",
       "20         4  32.363333  25.333747     0.001545           0.699638   \n",
       "29         4  45.775714  23.653656     0.366950           0.763010   \n",
       "30         4  41.390455  22.079760     0.075133           0.716946   \n",
       "\n",
       "    mean_wind_dir  mean_wind_spd  mean_atmos_press Bi_airquality  \\\n",
       "5      168.296246       1.133221         88.437645          good   \n",
       "11     243.946644       0.996488         88.439917           bad   \n",
       "20     182.435273       1.380289         88.229222          good   \n",
       "29     193.489922       1.510851         88.311949           bad   \n",
       "30     226.400482       1.742356         88.397523           bad   \n",
       "\n",
       "   trafic_airquality 6fold_airquality  \n",
       "5              green         Moderate  \n",
       "11            yellow    low unhealthy  \n",
       "20             green         Moderate  \n",
       "29            yellow    low unhealthy  \n",
       "30            yellow    low unhealthy  "
      ]
     },
     "execution_count": 49,
     "metadata": {},
     "output_type": "execute_result"
    }
   ],
   "source": [
    "data.head()"
   ]
  },
  {
   "cell_type": "code",
   "execution_count": 50,
   "metadata": {},
   "outputs": [],
   "source": [
    "#data.to_csv(\"./data/data_classification.csv\")"
   ]
  },
  {
   "cell_type": "code",
   "execution_count": null,
   "metadata": {},
   "outputs": [],
   "source": []
  }
 ],
 "metadata": {
  "kernelspec": {
   "display_name": "Python 3",
   "language": "python",
   "name": "python3"
  },
  "language_info": {
   "codemirror_mode": {
    "name": "ipython",
    "version": 3
   },
   "file_extension": ".py",
   "mimetype": "text/x-python",
   "name": "python",
   "nbconvert_exporter": "python",
   "pygments_lexer": "ipython3",
   "version": "3.9.4"
  }
 },
 "nbformat": 4,
 "nbformat_minor": 4
}
