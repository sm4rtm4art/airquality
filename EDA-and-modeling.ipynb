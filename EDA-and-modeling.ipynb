{
 "cells": [
  {
   "cell_type": "code",
   "execution_count": 8,
   "metadata": {},
   "outputs": [
    {
     "data": {
      "text/html": [
       "<div>\n",
       "<style scoped>\n",
       "    .dataframe tbody tr th:only-of-type {\n",
       "        vertical-align: middle;\n",
       "    }\n",
       "\n",
       "    .dataframe tbody tr th {\n",
       "        vertical-align: top;\n",
       "    }\n",
       "\n",
       "    .dataframe thead th {\n",
       "        text-align: right;\n",
       "    }\n",
       "</style>\n",
       "<table border=\"1\" class=\"dataframe\">\n",
       "  <thead>\n",
       "    <tr style=\"text-align: right;\">\n",
       "      <th></th>\n",
       "      <th>ID</th>\n",
       "      <th>location</th>\n",
       "      <th>temp</th>\n",
       "      <th>precip</th>\n",
       "      <th>rel_humidity</th>\n",
       "      <th>wind_dir</th>\n",
       "      <th>wind_spd</th>\n",
       "      <th>atmos_press</th>\n",
       "      <th>target</th>\n",
       "      <th>max_temp</th>\n",
       "      <th>...</th>\n",
       "      <th>var_wind_spd</th>\n",
       "      <th>median_wind_spd</th>\n",
       "      <th>ptp_wind_spd</th>\n",
       "      <th>max_atmos_press</th>\n",
       "      <th>min_atmos_press</th>\n",
       "      <th>mean_atmos_press</th>\n",
       "      <th>std_atmos_press</th>\n",
       "      <th>var_atmos_press</th>\n",
       "      <th>median_atmos_press</th>\n",
       "      <th>ptp_atmos_press</th>\n",
       "    </tr>\n",
       "  </thead>\n",
       "  <tbody>\n",
       "    <tr>\n",
       "      <th>0</th>\n",
       "      <td>ID_train_0</td>\n",
       "      <td>C</td>\n",
       "      <td>[26.90909091, 27.20833333, 26.18333333, 24.7, ...</td>\n",
       "      <td>[0.0, 0.0, 0.0, 0.0, 0.0, 0.0, 0.0, 0.0, 0.0, ...</td>\n",
       "      <td>[0.5108181820000001, 0.535416667, 0.6145, 0.63...</td>\n",
       "      <td>[272.90275160000004, 104.565241, 167.1772247, ...</td>\n",
       "      <td>[0.800909091, 1.073333333, 1.5175, 1.4625, 0.5...</td>\n",
       "      <td>[87.77727273, 87.6525, 87.61416667, 87.6375, 8...</td>\n",
       "      <td>45.126304</td>\n",
       "      <td>27.208333</td>\n",
       "      <td>...</td>\n",
       "      <td>0.155268</td>\n",
       "      <td>0.666250</td>\n",
       "      <td>1.355000</td>\n",
       "      <td>87.871667</td>\n",
       "      <td>87.614167</td>\n",
       "      <td>87.752434</td>\n",
       "      <td>0.070374</td>\n",
       "      <td>0.004952</td>\n",
       "      <td>87.762083</td>\n",
       "      <td>0.257500</td>\n",
       "    </tr>\n",
       "    <tr>\n",
       "      <th>1</th>\n",
       "      <td>ID_train_1</td>\n",
       "      <td>D</td>\n",
       "      <td>[22.53333333, 21.71666667, 20.83333333, 20.983...</td>\n",
       "      <td>[0.102, 0.0, 0.0, 0.0, 0.0, 0.0, 0.0, 0.034, 0...</td>\n",
       "      <td>[0.744583333, 0.808083333, 0.911166667, 0.9163...</td>\n",
       "      <td>[281.6643101, 89.15629262, 81.96853891, 291.01...</td>\n",
       "      <td>[2.3775, 1.126666667, 0.700833333, 0.341666667...</td>\n",
       "      <td>[90.32, 90.3775, 90.44083333, 90.4725, 90.4541...</td>\n",
       "      <td>79.131702</td>\n",
       "      <td>33.616667</td>\n",
       "      <td>...</td>\n",
       "      <td>0.290736</td>\n",
       "      <td>0.744167</td>\n",
       "      <td>2.760833</td>\n",
       "      <td>90.725000</td>\n",
       "      <td>90.056667</td>\n",
       "      <td>90.429924</td>\n",
       "      <td>0.156000</td>\n",
       "      <td>0.024336</td>\n",
       "      <td>90.429167</td>\n",
       "      <td>0.668333</td>\n",
       "    </tr>\n",
       "  </tbody>\n",
       "</table>\n",
       "<p>2 rows × 51 columns</p>\n",
       "</div>"
      ],
      "text/plain": [
       "           ID location                                               temp  \\\n",
       "0  ID_train_0        C  [26.90909091, 27.20833333, 26.18333333, 24.7, ...   \n",
       "1  ID_train_1        D  [22.53333333, 21.71666667, 20.83333333, 20.983...   \n",
       "\n",
       "                                              precip  \\\n",
       "0  [0.0, 0.0, 0.0, 0.0, 0.0, 0.0, 0.0, 0.0, 0.0, ...   \n",
       "1  [0.102, 0.0, 0.0, 0.0, 0.0, 0.0, 0.0, 0.034, 0...   \n",
       "\n",
       "                                        rel_humidity  \\\n",
       "0  [0.5108181820000001, 0.535416667, 0.6145, 0.63...   \n",
       "1  [0.744583333, 0.808083333, 0.911166667, 0.9163...   \n",
       "\n",
       "                                            wind_dir  \\\n",
       "0  [272.90275160000004, 104.565241, 167.1772247, ...   \n",
       "1  [281.6643101, 89.15629262, 81.96853891, 291.01...   \n",
       "\n",
       "                                            wind_spd  \\\n",
       "0  [0.800909091, 1.073333333, 1.5175, 1.4625, 0.5...   \n",
       "1  [2.3775, 1.126666667, 0.700833333, 0.341666667...   \n",
       "\n",
       "                                         atmos_press     target   max_temp  \\\n",
       "0  [87.77727273, 87.6525, 87.61416667, 87.6375, 8...  45.126304  27.208333   \n",
       "1  [90.32, 90.3775, 90.44083333, 90.4725, 90.4541...  79.131702  33.616667   \n",
       "\n",
       "   ...  var_wind_spd  median_wind_spd  ptp_wind_spd  max_atmos_press  \\\n",
       "0  ...      0.155268         0.666250      1.355000        87.871667   \n",
       "1  ...      0.290736         0.744167      2.760833        90.725000   \n",
       "\n",
       "   min_atmos_press  mean_atmos_press  std_atmos_press  var_atmos_press  \\\n",
       "0        87.614167         87.752434         0.070374         0.004952   \n",
       "1        90.056667         90.429924         0.156000         0.024336   \n",
       "\n",
       "   median_atmos_press  ptp_atmos_press  \n",
       "0           87.762083         0.257500  \n",
       "1           90.429167         0.668333  \n",
       "\n",
       "[2 rows x 51 columns]"
      ]
     },
     "execution_count": 8,
     "metadata": {},
     "output_type": "execute_result"
    }
   ],
   "source": [
    "import pandas as pd\n",
    "import numpy as np\n",
    "import warnings\n",
    "\n",
    "import seaborn as sns\n",
    "\n",
    "warnings.filterwarnings('ignore')\n",
    "\n",
    "data = pd.read_pickle('data/data_51.pkl')\n",
    "data.head(2)"
   ]
  },
  {
   "cell_type": "code",
   "execution_count": 7,
   "metadata": {},
   "outputs": [],
   "source": [
    "\n",
    "features=[\"temp\",\"precip\",\"rel_humidity\",\"wind_dir\",\"wind_spd\",\"atmos_press\"]\n",
    "max_features = [\"max_\" + str(feat) for feat in features]\n",
    "min_features = [\"min_\" + str(feat) for feat in features]\n",
    "mean_features = [\"mean_\" + str(feat) for feat in features]\n",
    "std_features = [\"std_\" + str(feat) for feat in features]\n",
    "var_features = [\"vat_\" + str(feat) for feat in features]\n",
    "median_features = [\"median_\" + str(feat) for feat in features]\n",
    "ptp_features = [\"ptp_\" + str(feat) for feat in features]\n"
   ]
  },
  {
   "cell_type": "code",
   "execution_count": 10,
   "metadata": {},
   "outputs": [
    {
     "data": {
      "text/plain": [
       "<AxesSubplot:xlabel='target', ylabel='Count'>"
      ]
     },
     "execution_count": 10,
     "metadata": {},
     "output_type": "execute_result"
    },
    {
     "data": {
      "image/png": "[encoded data removed]",
      "text/plain": [
       "<Figure size 432x288 with 1 Axes>"
      ]
     },
     "metadata": {
      "needs_background": "light"
     },
     "output_type": "display_data"
    }
   ],
   "source": [
    "sns.histplot(data.target, bins=10)  # TODO bins passend zu der Klassifizierung\n"
   ]
  },
  {
   "cell_type": "code",
   "execution_count": null,
   "metadata": {},
   "outputs": [],
   "source": []
  },
  {
   "cell_type": "markdown",
   "metadata": {},
   "source": [
    "# Data cleaningin and feature engineering"
   ]
  },
  {
   "cell_type": "code",
   "execution_count": 5,
   "metadata": {},
   "outputs": [
    {
     "name": "stdout",
     "output_type": "stream",
     "text": [
      "<class 'pandas.core.frame.DataFrame'>\n",
      "RangeIndex: 28 entries, 0 to 27\n",
      "Data columns (total 44 columns):\n",
      " #   Column                 Non-Null Count  Dtype  \n",
      "---  ------                 --------------  -----  \n",
      " 0   Unnamed: 0             28 non-null     int64  \n",
      " 1   Species                28 non-null     object \n",
      " 2   Owner                  28 non-null     object \n",
      " 3   Country.of.Origin      28 non-null     object \n",
      " 4   Farm.Name              25 non-null     object \n",
      " 5   Lot.Number             6 non-null      object \n",
      " 6   Mill                   20 non-null     object \n",
      " 7   ICO.Number             17 non-null     object \n",
      " 8   Company                28 non-null     object \n",
      " 9   Altitude               25 non-null     object \n",
      " 10  Region                 26 non-null     object \n",
      " 11  Producer               26 non-null     object \n",
      " 12  Number.of.Bags         28 non-null     int64  \n",
      " 13  Bag.Weight             28 non-null     object \n",
      " 14  In.Country.Partner     28 non-null     object \n",
      " 15  Harvest.Year           28 non-null     int64  \n",
      " 16  Grading.Date           28 non-null     object \n",
      " 17  Owner.1                28 non-null     object \n",
      " 18  Variety                3 non-null      object \n",
      " 19  Processing.Method      10 non-null     object \n",
      " 20  Fragrance...Aroma      28 non-null     float64\n",
      " 21  Flavor                 28 non-null     float64\n",
      " 22  Aftertaste             28 non-null     float64\n",
      " 23  Salt...Acid            28 non-null     float64\n",
      " 24  Bitter...Sweet         28 non-null     float64\n",
      " 25  Mouthfeel              28 non-null     float64\n",
      " 26  Uniform.Cup            28 non-null     float64\n",
      " 27  Clean.Cup              28 non-null     float64\n",
      " 28  Balance                28 non-null     float64\n",
      " 29  Cupper.Points          28 non-null     float64\n",
      " 30  Total.Cup.Points       28 non-null     float64\n",
      " 31  Moisture               28 non-null     float64\n",
      " 32  Category.One.Defects   28 non-null     int64  \n",
      " 33  Quakers                28 non-null     int64  \n",
      " 34  Color                  26 non-null     object \n",
      " 35  Category.Two.Defects   28 non-null     int64  \n",
      " 36  Expiration             28 non-null     object \n",
      " 37  Certification.Body     28 non-null     object \n",
      " 38  Certification.Address  28 non-null     object \n",
      " 39  Certification.Contact  28 non-null     object \n",
      " 40  unit_of_measurement    28 non-null     object \n",
      " 41  altitude_low_meters    25 non-null     float64\n",
      " 42  altitude_high_meters   25 non-null     float64\n",
      " 43  altitude_mean_meters   25 non-null     float64\n",
      "dtypes: float64(15), int64(6), object(23)\n",
      "memory usage: 9.8+ KB\n"
     ]
    }
   ],
   "source": [
    "coffee_features.info()"
   ]
  },
  {
   "cell_type": "code",
   "execution_count": 6,
   "metadata": {},
   "outputs": [],
   "source": [
    "#for this exercise we will only deal with numeric variables\n",
    "\n",
    "X = coffee_features.select_dtypes(['number'])"
   ]
  },
  {
   "cell_type": "markdown",
   "metadata": {},
   "source": [
    "## Splitting data for testing "
   ]
  },
  {
   "cell_type": "code",
   "execution_count": 7,
   "metadata": {},
   "outputs": [],
   "source": [
    "from sklearn.model_selection import train_test_split\n",
    "\n",
    "X_train, X_test, y_train, y_test = train_test_split(X, Y, test_size=0.20, random_state=42)"
   ]
  },
  {
   "cell_type": "code",
   "execution_count": 8,
   "metadata": {},
   "outputs": [],
   "source": [
    "#dropping Quakers column and unnamed\n",
    "#changing one of the altitude to log and droping the original\n",
    "X_train[\"altitude_mean_log\"] = np.log(X_train[\"altitude_mean_meters\"])\n",
    "X_train.drop(['altitude_mean_meters'], axis=1, inplace=True)\n",
    "X_train.drop(['Quakers'], axis=1, inplace=True)\n",
    "X_train.drop(['Unnamed: 0'], axis=1, inplace=True)"
   ]
  },
  {
   "cell_type": "code",
   "execution_count": 9,
   "metadata": {},
   "outputs": [
    {
     "name": "stdout",
     "output_type": "stream",
     "text": [
      "<class 'pandas.core.frame.DataFrame'>\n",
      "Int64Index: 22 entries, 17 to 6\n",
      "Data columns (total 19 columns):\n",
      " #   Column                Non-Null Count  Dtype  \n",
      "---  ------                --------------  -----  \n",
      " 0   Number.of.Bags        22 non-null     int64  \n",
      " 1   Harvest.Year          22 non-null     int64  \n",
      " 2   Fragrance...Aroma     22 non-null     float64\n",
      " 3   Flavor                22 non-null     float64\n",
      " 4   Aftertaste            22 non-null     float64\n",
      " 5   Salt...Acid           22 non-null     float64\n",
      " 6   Bitter...Sweet        22 non-null     float64\n",
      " 7   Mouthfeel             22 non-null     float64\n",
      " 8   Uniform.Cup           22 non-null     float64\n",
      " 9   Clean.Cup             22 non-null     float64\n",
      " 10  Balance               22 non-null     float64\n",
      " 11  Cupper.Points         22 non-null     float64\n",
      " 12  Total.Cup.Points      22 non-null     float64\n",
      " 13  Moisture              22 non-null     float64\n",
      " 14  Category.One.Defects  22 non-null     int64  \n",
      " 15  Category.Two.Defects  22 non-null     int64  \n",
      " 16  altitude_low_meters   19 non-null     float64\n",
      " 17  altitude_high_meters  19 non-null     float64\n",
      " 18  altitude_mean_log     19 non-null     float64\n",
      "dtypes: float64(15), int64(4)\n",
      "memory usage: 3.4 KB\n"
     ]
    }
   ],
   "source": [
    "X_train.info()"
   ]
  },
  {
   "cell_type": "code",
   "execution_count": 10,
   "metadata": {},
   "outputs": [],
   "source": [
    "altitude_low_meters_mean = X_train[\"altitude_low_meters\"].mean()\n",
    "altitude_high_meters_mean = X_train[\"altitude_high_meters\"].mean()\n",
    "altitude_mean_log_mean = X_train[\"altitude_mean_log\"].mean()"
   ]
  },
  {
   "cell_type": "code",
   "execution_count": 11,
   "metadata": {},
   "outputs": [],
   "source": [
    "# fillna with mean.. \n",
    "X_train[\"altitude_low_meters\"] = X_train[\"altitude_low_meters\"].fillna(altitude_low_meters_mean)\n",
    "X_train[\"altitude_high_meters\"] = X_train[\"altitude_high_meters\"].fillna(altitude_high_meters_mean)\n",
    "X_train[\"altitude_mean_log\"] = X_train[\"altitude_mean_log\"].fillna(altitude_mean_log_mean)"
   ]
  },
  {
   "cell_type": "code",
   "execution_count": 12,
   "metadata": {},
   "outputs": [
    {
     "name": "stdout",
     "output_type": "stream",
     "text": [
      "altitude low meters mean is 1500.3684210526317\n",
      "altitude_high_meters_mean is 1505.6315789473683\n",
      "altitude_mean_log_mean is 7.0571530664031155\n"
     ]
    }
   ],
   "source": [
    "print(f\"altitude low meters mean is {altitude_low_meters_mean}\")\n",
    "print(f\"altitude_high_meters_mean is {altitude_high_meters_mean}\")\n",
    "print(f\"altitude_mean_log_mean is {altitude_mean_log_mean}\")"
   ]
  },
  {
   "cell_type": "markdown",
   "metadata": {},
   "source": [
    "## Trainining the model"
   ]
  },
  {
   "cell_type": "code",
   "execution_count": 13,
   "metadata": {},
   "outputs": [],
   "source": [
    "## in order to exemplify how the predict will work.. we will save the y_train\n",
    "X_test.to_csv(\"data/X_test.csv\")\n",
    "y_test.to_csv(\"data/y_test.csv\")"
   ]
  },
  {
   "cell_type": "code",
   "execution_count": 15,
   "metadata": {},
   "outputs": [],
   "source": [
    "#training the model\n",
    "from sklearn.linear_model import LinearRegression\n",
    "reg = LinearRegression().fit(X_train, y_train)"
   ]
  },
  {
   "cell_type": "code",
   "execution_count": 17,
   "metadata": {},
   "outputs": [
    {
     "name": "stdout",
     "output_type": "stream",
     "text": [
      "6.701014816713759e-28\n"
     ]
    }
   ],
   "source": [
    "from sklearn.metrics import mean_squared_error\n",
    "y_train_pred = reg.predict(X_train)\n",
    "mse = mean_squared_error(y_train, y_train_pred)\n",
    "print(mse)"
   ]
  },
  {
   "cell_type": "code",
   "execution_count": 18,
   "metadata": {},
   "outputs": [],
   "source": [
    "#dropping Quakers column and unnamed\n",
    "#changing one of the altitude to log and droping the original\n",
    "X_test[\"altitude_mean_log\"] = np.log(X_test[\"altitude_mean_meters\"])\n",
    "X_test.drop(['altitude_mean_meters'], axis=1, inplace=True)\n",
    "X_test.drop(['Quakers'], axis=1, inplace=True)\n",
    "X_test.drop(['Unnamed: 0'], axis=1, inplace=True)\n",
    "# fillna with mean.. \n",
    "X_test[\"altitude_low_meters\"] = X_test[\"altitude_low_meters\"].fillna(altitude_low_meters_mean)\n",
    "X_test[\"altitude_high_meters\"] = X_test[\"altitude_high_meters\"].fillna(altitude_high_meters_mean)\n",
    "X_test[\"altitude_mean_log\"] = X_test[\"altitude_mean_log\"].fillna(altitude_mean_log_mean)"
   ]
  },
  {
   "cell_type": "code",
   "execution_count": 19,
   "metadata": {},
   "outputs": [
    {
     "name": "stdout",
     "output_type": "stream",
     "text": [
      "2.08680004794465e-27\n"
     ]
    }
   ],
   "source": [
    "y_test_pred = reg.predict(X_test)\n",
    "mse = mean_squared_error(y_test, y_test_pred)\n",
    "print(mse)"
   ]
  }
 ],
 "metadata": {
  "kernelspec": {
   "display_name": "Python 3",
   "language": "python",
   "name": "python3"
  },
  "language_info": {
   "codemirror_mode": {
    "name": "ipython",
    "version": 3
   },
   "file_extension": ".py",
   "mimetype": "text/x-python",
   "name": "python",
   "nbconvert_exporter": "python",
   "pygments_lexer": "ipython3",
   "version": "3.9.4"
  }
 },
 "nbformat": 4,
 "nbformat_minor": 4
}
