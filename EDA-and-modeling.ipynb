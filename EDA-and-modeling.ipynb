{
 "cells": [
  {
   "cell_type": "markdown",
   "metadata": {},
   "source": [
    "# Data Preprocessing air quality "
   ]
  },
  {
   "cell_type": "code",
   "execution_count": 66,
   "metadata": {},
   "outputs": [],
   "source": [
    "# import packages\n",
    "import pandas as pd\n",
    "import numpy as np\n",
    "import warnings\n",
    "\n",
    "import seaborn as sns\n",
    "import matplotlib.pyplot as plt\n",
    "\n",
    "from scipy.stats import boxcox\n",
    "warnings.filterwarnings('ignore')\n"
   ]
  },
  {
   "cell_type": "code",
   "execution_count": 34,
   "metadata": {},
   "outputs": [
    {
     "data": {
      "text/html": [
       "<div>\n",
       "<style scoped>\n",
       "    .dataframe tbody tr th:only-of-type {\n",
       "        vertical-align: middle;\n",
       "    }\n",
       "\n",
       "    .dataframe tbody tr th {\n",
       "        vertical-align: top;\n",
       "    }\n",
       "\n",
       "    .dataframe thead th {\n",
       "        text-align: right;\n",
       "    }\n",
       "</style>\n",
       "<table border=\"1\" class=\"dataframe\">\n",
       "  <thead>\n",
       "    <tr style=\"text-align: right;\">\n",
       "      <th></th>\n",
       "      <th>ID</th>\n",
       "      <th>location</th>\n",
       "      <th>temp</th>\n",
       "      <th>precip</th>\n",
       "      <th>rel_humidity</th>\n",
       "      <th>wind_dir</th>\n",
       "      <th>wind_spd</th>\n",
       "      <th>atmos_press</th>\n",
       "      <th>target</th>\n",
       "      <th>max_temp</th>\n",
       "      <th>...</th>\n",
       "      <th>var_wind_spd</th>\n",
       "      <th>median_wind_spd</th>\n",
       "      <th>ptp_wind_spd</th>\n",
       "      <th>max_atmos_press</th>\n",
       "      <th>min_atmos_press</th>\n",
       "      <th>mean_atmos_press</th>\n",
       "      <th>std_atmos_press</th>\n",
       "      <th>var_atmos_press</th>\n",
       "      <th>median_atmos_press</th>\n",
       "      <th>ptp_atmos_press</th>\n",
       "    </tr>\n",
       "  </thead>\n",
       "  <tbody>\n",
       "    <tr>\n",
       "      <th>0</th>\n",
       "      <td>ID_train_0</td>\n",
       "      <td>C</td>\n",
       "      <td>[26.90909091, 27.20833333, 26.18333333, 24.7, ...</td>\n",
       "      <td>[0.0, 0.0, 0.0, 0.0, 0.0, 0.0, 0.0, 0.0, 0.0, ...</td>\n",
       "      <td>[0.5108181820000001, 0.535416667, 0.6145, 0.63...</td>\n",
       "      <td>[272.90275160000004, 104.565241, 167.1772247, ...</td>\n",
       "      <td>[0.800909091, 1.073333333, 1.5175, 1.4625, 0.5...</td>\n",
       "      <td>[87.77727273, 87.6525, 87.61416667, 87.6375, 8...</td>\n",
       "      <td>45.126304</td>\n",
       "      <td>27.208333</td>\n",
       "      <td>...</td>\n",
       "      <td>0.155268</td>\n",
       "      <td>0.666250</td>\n",
       "      <td>1.355000</td>\n",
       "      <td>87.871667</td>\n",
       "      <td>87.614167</td>\n",
       "      <td>87.752434</td>\n",
       "      <td>0.070374</td>\n",
       "      <td>0.004952</td>\n",
       "      <td>87.762083</td>\n",
       "      <td>0.257500</td>\n",
       "    </tr>\n",
       "    <tr>\n",
       "      <th>1</th>\n",
       "      <td>ID_train_1</td>\n",
       "      <td>D</td>\n",
       "      <td>[22.53333333, 21.71666667, 20.83333333, 20.983...</td>\n",
       "      <td>[0.102, 0.0, 0.0, 0.0, 0.0, 0.0, 0.0, 0.034, 0...</td>\n",
       "      <td>[0.744583333, 0.808083333, 0.911166667, 0.9163...</td>\n",
       "      <td>[281.6643101, 89.15629262, 81.96853891, 291.01...</td>\n",
       "      <td>[2.3775, 1.126666667, 0.700833333, 0.341666667...</td>\n",
       "      <td>[90.32, 90.3775, 90.44083333, 90.4725, 90.4541...</td>\n",
       "      <td>79.131702</td>\n",
       "      <td>33.616667</td>\n",
       "      <td>...</td>\n",
       "      <td>0.290736</td>\n",
       "      <td>0.744167</td>\n",
       "      <td>2.760833</td>\n",
       "      <td>90.725000</td>\n",
       "      <td>90.056667</td>\n",
       "      <td>90.429924</td>\n",
       "      <td>0.156000</td>\n",
       "      <td>0.024336</td>\n",
       "      <td>90.429167</td>\n",
       "      <td>0.668333</td>\n",
       "    </tr>\n",
       "  </tbody>\n",
       "</table>\n",
       "<p>2 rows × 51 columns</p>\n",
       "</div>"
      ],
      "text/plain": [
       "           ID location                                               temp  \\\n",
       "0  ID_train_0        C  [26.90909091, 27.20833333, 26.18333333, 24.7, ...   \n",
       "1  ID_train_1        D  [22.53333333, 21.71666667, 20.83333333, 20.983...   \n",
       "\n",
       "                                              precip  \\\n",
       "0  [0.0, 0.0, 0.0, 0.0, 0.0, 0.0, 0.0, 0.0, 0.0, ...   \n",
       "1  [0.102, 0.0, 0.0, 0.0, 0.0, 0.0, 0.0, 0.034, 0...   \n",
       "\n",
       "                                        rel_humidity  \\\n",
       "0  [0.5108181820000001, 0.535416667, 0.6145, 0.63...   \n",
       "1  [0.744583333, 0.808083333, 0.911166667, 0.9163...   \n",
       "\n",
       "                                            wind_dir  \\\n",
       "0  [272.90275160000004, 104.565241, 167.1772247, ...   \n",
       "1  [281.6643101, 89.15629262, 81.96853891, 291.01...   \n",
       "\n",
       "                                            wind_spd  \\\n",
       "0  [0.800909091, 1.073333333, 1.5175, 1.4625, 0.5...   \n",
       "1  [2.3775, 1.126666667, 0.700833333, 0.341666667...   \n",
       "\n",
       "                                         atmos_press     target   max_temp  \\\n",
       "0  [87.77727273, 87.6525, 87.61416667, 87.6375, 8...  45.126304  27.208333   \n",
       "1  [90.32, 90.3775, 90.44083333, 90.4725, 90.4541...  79.131702  33.616667   \n",
       "\n",
       "   ...  var_wind_spd  median_wind_spd  ptp_wind_spd  max_atmos_press  \\\n",
       "0  ...      0.155268         0.666250      1.355000        87.871667   \n",
       "1  ...      0.290736         0.744167      2.760833        90.725000   \n",
       "\n",
       "   min_atmos_press  mean_atmos_press  std_atmos_press  var_atmos_press  \\\n",
       "0        87.614167         87.752434         0.070374         0.004952   \n",
       "1        90.056667         90.429924         0.156000         0.024336   \n",
       "\n",
       "   median_atmos_press  ptp_atmos_press  \n",
       "0           87.762083         0.257500  \n",
       "1           90.429167         0.668333  \n",
       "\n",
       "[2 rows x 51 columns]"
      ]
     },
     "execution_count": 34,
     "metadata": {},
     "output_type": "execute_result"
    }
   ],
   "source": [
    "# import data\n",
    "data = pd.read_csv('data/data_51.csv', index_col=[0])\n",
    "data.head(2)"
   ]
  },
  {
   "cell_type": "code",
   "execution_count": 35,
   "metadata": {},
   "outputs": [],
   "source": [
    "# name of columns\n",
    "features=[\"temp\",\"precip\",\"rel_humidity\",\"wind_dir\",\"wind_spd\",\"atmos_press\"]\n",
    "max_features = [\"max_\" + str(feat) for feat in features]\n",
    "min_features = [\"min_\" + str(feat) for feat in features]\n",
    "mean_features = [\"mean_\" + str(feat) for feat in features]\n",
    "std_features = [\"std_\" + str(feat) for feat in features]\n",
    "var_features = [\"vat_\" + str(feat) for feat in features]\n",
    "median_features = [\"median_\" + str(feat) for feat in features]\n",
    "ptp_features = [\"ptp_\" + str(feat) for feat in features]\n"
   ]
  },
  {
   "cell_type": "code",
   "execution_count": 36,
   "metadata": {},
   "outputs": [
    {
     "data": {
      "text/plain": [
       "<AxesSubplot:xlabel='target', ylabel='Count'>"
      ]
     },
     "execution_count": 36,
     "metadata": {},
     "output_type": "execute_result"
    },
    {
     "data": {
      "image/png": "[encoded data removed]",
      "text/plain": [
       "<Figure size 432x288 with 1 Axes>"
      ]
     },
     "metadata": {
      "needs_background": "light"
     },
     "output_type": "display_data"
    }
   ],
   "source": [
    "# overview of the target \n",
    "sns.histplot(data.target, bins=10)  # TODO bins passend zu der Klassifizierung\n",
    "\n"
   ]
  },
  {
   "cell_type": "code",
   "execution_count": 37,
   "metadata": {},
   "outputs": [],
   "source": [
    "#data['target'], lmbda=boxcox(data['target'], lmbda=None)\n",
    "data['target_log'] = data['target'].apply(np.log1p)"
   ]
  },
  {
   "cell_type": "code",
   "execution_count": 38,
   "metadata": {},
   "outputs": [
    {
     "data": {
      "text/plain": [
       "<AxesSubplot:xlabel='target_log', ylabel='Count'>"
      ]
     },
     "execution_count": 38,
     "metadata": {},
     "output_type": "execute_result"
    },
    {
     "data": {
      "image/png": "[encoded data removed]",
      "text/plain": [
       "<Figure size 432x288 with 1 Axes>"
      ]
     },
     "metadata": {
      "needs_background": "light"
     },
     "output_type": "display_data"
    }
   ],
   "source": [
    "sns.histplot(data.target_log)\n"
   ]
  },
  {
   "cell_type": "code",
   "execution_count": 39,
   "metadata": {},
   "outputs": [
    {
     "name": "stdout",
     "output_type": "stream",
     "text": [
      "target_log    5035.000000\n",
      "target        5035.000000\n",
      "target_log      24.472635\n",
      "target          24.472635\n",
      "dtype: float64\n"
     ]
    }
   ],
   "source": [
    "# null values\n",
    "def print_null(df):\n",
    "    total = df.isnull().sum().sort_values(ascending=False)\n",
    "    total = total[df.isnull().sum().sort_values(ascending=False) != 0]\n",
    "    percent = total /df.shape[0]*100\n",
    "    percent = percent[df.isnull().sum().sort_values(ascending=False) != 0]\n",
    "    concat = pd.concat([total, percent])\n",
    "    print (concat)\n",
    "\n",
    "    \n",
    "print_null(data.drop(features, axis=1))"
   ]
  },
  {
   "cell_type": "code",
   "execution_count": 30,
   "metadata": {},
   "outputs": [],
   "source": [
    "#sns.pairplot(data[mean_features])"
   ]
  },
  {
   "cell_type": "markdown",
   "metadata": {},
   "source": [
    "#### EDA on precipitation"
   ]
  },
  {
   "cell_type": "code",
   "execution_count": 40,
   "metadata": {},
   "outputs": [
    {
     "ename": "UFuncTypeError",
     "evalue": "ufunc 'add' did not contain a loop with signature matching types (dtype('<U80'), dtype('<U80')) -> None",
     "output_type": "error",
     "traceback": [
      "\u001b[0;31m---------------------------------------------------------------------------\u001b[0m",
      "\u001b[0;31mUFuncTypeError\u001b[0m                            Traceback (most recent call last)",
      "\u001b[1;32m/Users/kaergell/Desktop/Neue Fische/Bootcamp/Tag-28-MLproject/airquality/EDA-and-modeling.ipynb Cell 11'\u001b[0m in \u001b[0;36m<cell line: 11>\u001b[0;34m()\u001b[0m\n\u001b[1;32m      <a href='vscode-notebook-cell:/Users/kaergell/Desktop/Neue%20Fische/Bootcamp/Tag-28-MLproject/airquality/EDA-and-modeling.ipynb#ch0000010?line=1'>2</a>\u001b[0m precip_stats \u001b[39m=\u001b[39m pd\u001b[39m.\u001b[39mconcat([data\u001b[39m.\u001b[39mmax_precip, \n\u001b[1;32m      <a href='vscode-notebook-cell:/Users/kaergell/Desktop/Neue%20Fische/Bootcamp/Tag-28-MLproject/airquality/EDA-and-modeling.ipynb#ch0000010?line=2'>3</a>\u001b[0m                         data\u001b[39m.\u001b[39mmin_precip, \n\u001b[1;32m      <a href='vscode-notebook-cell:/Users/kaergell/Desktop/Neue%20Fische/Bootcamp/Tag-28-MLproject/airquality/EDA-and-modeling.ipynb#ch0000010?line=3'>4</a>\u001b[0m                         data\u001b[39m.\u001b[39mmean_precip, \n\u001b[0;32m   (...)\u001b[0m\n\u001b[1;32m      <a href='vscode-notebook-cell:/Users/kaergell/Desktop/Neue%20Fische/Bootcamp/Tag-28-MLproject/airquality/EDA-and-modeling.ipynb#ch0000010?line=7'>8</a>\u001b[0m                         data\u001b[39m.\u001b[39mptp_precip],\n\u001b[1;32m      <a href='vscode-notebook-cell:/Users/kaergell/Desktop/Neue%20Fische/Bootcamp/Tag-28-MLproject/airquality/EDA-and-modeling.ipynb#ch0000010?line=8'>9</a>\u001b[0m                         axis\u001b[39m=\u001b[39m\u001b[39m1\u001b[39m)\n\u001b[1;32m     <a href='vscode-notebook-cell:/Users/kaergell/Desktop/Neue%20Fische/Bootcamp/Tag-28-MLproject/airquality/EDA-and-modeling.ipynb#ch0000010?line=9'>10</a>\u001b[0m precip_stats[\u001b[39m'\u001b[39m\u001b[39mr_std_precip\u001b[39m\u001b[39m'\u001b[39m] \u001b[39m=\u001b[39m precip_stats[\u001b[39m'\u001b[39m\u001b[39mstd_precip\u001b[39m\u001b[39m'\u001b[39m] \u001b[39m/\u001b[39m precip_stats[\u001b[39m'\u001b[39m\u001b[39mmean_precip\u001b[39m\u001b[39m'\u001b[39m] \u001b[39m*\u001b[39m\u001b[39m100\u001b[39m\n\u001b[0;32m---> <a href='vscode-notebook-cell:/Users/kaergell/Desktop/Neue%20Fische/Bootcamp/Tag-28-MLproject/airquality/EDA-and-modeling.ipynb#ch0000010?line=10'>11</a>\u001b[0m data[\u001b[39m'\u001b[39m\u001b[39msum_precip\u001b[39m\u001b[39m'\u001b[39m] \u001b[39m=\u001b[39m data[\u001b[39m'\u001b[39;49m\u001b[39mprecip\u001b[39;49m\u001b[39m'\u001b[39;49m]\u001b[39m.\u001b[39;49mapply(\u001b[39mlambda\u001b[39;49;00m x: np\u001b[39m.\u001b[39;49msum(x))\n",
      "File \u001b[0;32m~/Desktop/Neue Fische/Bootcamp/Tag-28-MLproject/airquality/.venv/lib/python3.9/site-packages/pandas/core/series.py:4357\u001b[0m, in \u001b[0;36mSeries.apply\u001b[0;34m(self, func, convert_dtype, args, **kwargs)\u001b[0m\n\u001b[1;32m   <a href='file:///Users/kaergell/Desktop/Neue%20Fische/Bootcamp/Tag-28-MLproject/airquality/.venv/lib/python3.9/site-packages/pandas/core/series.py?line=4246'>4247</a>\u001b[0m \u001b[39mdef\u001b[39;00m \u001b[39mapply\u001b[39m(\n\u001b[1;32m   <a href='file:///Users/kaergell/Desktop/Neue%20Fische/Bootcamp/Tag-28-MLproject/airquality/.venv/lib/python3.9/site-packages/pandas/core/series.py?line=4247'>4248</a>\u001b[0m     \u001b[39mself\u001b[39m,\n\u001b[1;32m   <a href='file:///Users/kaergell/Desktop/Neue%20Fische/Bootcamp/Tag-28-MLproject/airquality/.venv/lib/python3.9/site-packages/pandas/core/series.py?line=4248'>4249</a>\u001b[0m     func: AggFuncType,\n\u001b[0;32m   (...)\u001b[0m\n\u001b[1;32m   <a href='file:///Users/kaergell/Desktop/Neue%20Fische/Bootcamp/Tag-28-MLproject/airquality/.venv/lib/python3.9/site-packages/pandas/core/series.py?line=4251'>4252</a>\u001b[0m     \u001b[39m*\u001b[39m\u001b[39m*\u001b[39mkwargs,\n\u001b[1;32m   <a href='file:///Users/kaergell/Desktop/Neue%20Fische/Bootcamp/Tag-28-MLproject/airquality/.venv/lib/python3.9/site-packages/pandas/core/series.py?line=4252'>4253</a>\u001b[0m ) \u001b[39m-\u001b[39m\u001b[39m>\u001b[39m FrameOrSeriesUnion:\n\u001b[1;32m   <a href='file:///Users/kaergell/Desktop/Neue%20Fische/Bootcamp/Tag-28-MLproject/airquality/.venv/lib/python3.9/site-packages/pandas/core/series.py?line=4253'>4254</a>\u001b[0m     \u001b[39m\"\"\"\u001b[39;00m\n\u001b[1;32m   <a href='file:///Users/kaergell/Desktop/Neue%20Fische/Bootcamp/Tag-28-MLproject/airquality/.venv/lib/python3.9/site-packages/pandas/core/series.py?line=4254'>4255</a>\u001b[0m \u001b[39m    Invoke function on values of Series.\u001b[39;00m\n\u001b[1;32m   <a href='file:///Users/kaergell/Desktop/Neue%20Fische/Bootcamp/Tag-28-MLproject/airquality/.venv/lib/python3.9/site-packages/pandas/core/series.py?line=4255'>4256</a>\u001b[0m \n\u001b[0;32m   (...)\u001b[0m\n\u001b[1;32m   <a href='file:///Users/kaergell/Desktop/Neue%20Fische/Bootcamp/Tag-28-MLproject/airquality/.venv/lib/python3.9/site-packages/pandas/core/series.py?line=4354'>4355</a>\u001b[0m \u001b[39m    dtype: float64\u001b[39;00m\n\u001b[1;32m   <a href='file:///Users/kaergell/Desktop/Neue%20Fische/Bootcamp/Tag-28-MLproject/airquality/.venv/lib/python3.9/site-packages/pandas/core/series.py?line=4355'>4356</a>\u001b[0m \u001b[39m    \"\"\"\u001b[39;00m\n\u001b[0;32m-> <a href='file:///Users/kaergell/Desktop/Neue%20Fische/Bootcamp/Tag-28-MLproject/airquality/.venv/lib/python3.9/site-packages/pandas/core/series.py?line=4356'>4357</a>\u001b[0m     \u001b[39mreturn\u001b[39;00m SeriesApply(\u001b[39mself\u001b[39;49m, func, convert_dtype, args, kwargs)\u001b[39m.\u001b[39;49mapply()\n",
      "File \u001b[0;32m~/Desktop/Neue Fische/Bootcamp/Tag-28-MLproject/airquality/.venv/lib/python3.9/site-packages/pandas/core/apply.py:1043\u001b[0m, in \u001b[0;36mSeriesApply.apply\u001b[0;34m(self)\u001b[0m\n\u001b[1;32m   <a href='file:///Users/kaergell/Desktop/Neue%20Fische/Bootcamp/Tag-28-MLproject/airquality/.venv/lib/python3.9/site-packages/pandas/core/apply.py?line=1038'>1039</a>\u001b[0m \u001b[39mif\u001b[39;00m \u001b[39misinstance\u001b[39m(\u001b[39mself\u001b[39m\u001b[39m.\u001b[39mf, \u001b[39mstr\u001b[39m):\n\u001b[1;32m   <a href='file:///Users/kaergell/Desktop/Neue%20Fische/Bootcamp/Tag-28-MLproject/airquality/.venv/lib/python3.9/site-packages/pandas/core/apply.py?line=1039'>1040</a>\u001b[0m     \u001b[39m# if we are a string, try to dispatch\u001b[39;00m\n\u001b[1;32m   <a href='file:///Users/kaergell/Desktop/Neue%20Fische/Bootcamp/Tag-28-MLproject/airquality/.venv/lib/python3.9/site-packages/pandas/core/apply.py?line=1040'>1041</a>\u001b[0m     \u001b[39mreturn\u001b[39;00m \u001b[39mself\u001b[39m\u001b[39m.\u001b[39mapply_str()\n\u001b[0;32m-> <a href='file:///Users/kaergell/Desktop/Neue%20Fische/Bootcamp/Tag-28-MLproject/airquality/.venv/lib/python3.9/site-packages/pandas/core/apply.py?line=1042'>1043</a>\u001b[0m \u001b[39mreturn\u001b[39;00m \u001b[39mself\u001b[39;49m\u001b[39m.\u001b[39;49mapply_standard()\n",
      "File \u001b[0;32m~/Desktop/Neue Fische/Bootcamp/Tag-28-MLproject/airquality/.venv/lib/python3.9/site-packages/pandas/core/apply.py:1098\u001b[0m, in \u001b[0;36mSeriesApply.apply_standard\u001b[0;34m(self)\u001b[0m\n\u001b[1;32m   <a href='file:///Users/kaergell/Desktop/Neue%20Fische/Bootcamp/Tag-28-MLproject/airquality/.venv/lib/python3.9/site-packages/pandas/core/apply.py?line=1091'>1092</a>\u001b[0m         values \u001b[39m=\u001b[39m obj\u001b[39m.\u001b[39mastype(\u001b[39mobject\u001b[39m)\u001b[39m.\u001b[39m_values\n\u001b[1;32m   <a href='file:///Users/kaergell/Desktop/Neue%20Fische/Bootcamp/Tag-28-MLproject/airquality/.venv/lib/python3.9/site-packages/pandas/core/apply.py?line=1092'>1093</a>\u001b[0m         \u001b[39m# error: Argument 2 to \"map_infer\" has incompatible type\u001b[39;00m\n\u001b[1;32m   <a href='file:///Users/kaergell/Desktop/Neue%20Fische/Bootcamp/Tag-28-MLproject/airquality/.venv/lib/python3.9/site-packages/pandas/core/apply.py?line=1093'>1094</a>\u001b[0m         \u001b[39m# \"Union[Callable[..., Any], str, List[Union[Callable[..., Any], str]],\u001b[39;00m\n\u001b[1;32m   <a href='file:///Users/kaergell/Desktop/Neue%20Fische/Bootcamp/Tag-28-MLproject/airquality/.venv/lib/python3.9/site-packages/pandas/core/apply.py?line=1094'>1095</a>\u001b[0m         \u001b[39m# Dict[Hashable, Union[Union[Callable[..., Any], str],\u001b[39;00m\n\u001b[1;32m   <a href='file:///Users/kaergell/Desktop/Neue%20Fische/Bootcamp/Tag-28-MLproject/airquality/.venv/lib/python3.9/site-packages/pandas/core/apply.py?line=1095'>1096</a>\u001b[0m         \u001b[39m# List[Union[Callable[..., Any], str]]]]]\"; expected\u001b[39;00m\n\u001b[1;32m   <a href='file:///Users/kaergell/Desktop/Neue%20Fische/Bootcamp/Tag-28-MLproject/airquality/.venv/lib/python3.9/site-packages/pandas/core/apply.py?line=1096'>1097</a>\u001b[0m         \u001b[39m# \"Callable[[Any], Any]\"\u001b[39;00m\n\u001b[0;32m-> <a href='file:///Users/kaergell/Desktop/Neue%20Fische/Bootcamp/Tag-28-MLproject/airquality/.venv/lib/python3.9/site-packages/pandas/core/apply.py?line=1097'>1098</a>\u001b[0m         mapped \u001b[39m=\u001b[39m lib\u001b[39m.\u001b[39;49mmap_infer(\n\u001b[1;32m   <a href='file:///Users/kaergell/Desktop/Neue%20Fische/Bootcamp/Tag-28-MLproject/airquality/.venv/lib/python3.9/site-packages/pandas/core/apply.py?line=1098'>1099</a>\u001b[0m             values,\n\u001b[1;32m   <a href='file:///Users/kaergell/Desktop/Neue%20Fische/Bootcamp/Tag-28-MLproject/airquality/.venv/lib/python3.9/site-packages/pandas/core/apply.py?line=1099'>1100</a>\u001b[0m             f,  \u001b[39m# type: ignore[arg-type]\u001b[39;49;00m\n\u001b[1;32m   <a href='file:///Users/kaergell/Desktop/Neue%20Fische/Bootcamp/Tag-28-MLproject/airquality/.venv/lib/python3.9/site-packages/pandas/core/apply.py?line=1100'>1101</a>\u001b[0m             convert\u001b[39m=\u001b[39;49m\u001b[39mself\u001b[39;49m\u001b[39m.\u001b[39;49mconvert_dtype,\n\u001b[1;32m   <a href='file:///Users/kaergell/Desktop/Neue%20Fische/Bootcamp/Tag-28-MLproject/airquality/.venv/lib/python3.9/site-packages/pandas/core/apply.py?line=1101'>1102</a>\u001b[0m         )\n\u001b[1;32m   <a href='file:///Users/kaergell/Desktop/Neue%20Fische/Bootcamp/Tag-28-MLproject/airquality/.venv/lib/python3.9/site-packages/pandas/core/apply.py?line=1103'>1104</a>\u001b[0m \u001b[39mif\u001b[39;00m \u001b[39mlen\u001b[39m(mapped) \u001b[39mand\u001b[39;00m \u001b[39misinstance\u001b[39m(mapped[\u001b[39m0\u001b[39m], ABCSeries):\n\u001b[1;32m   <a href='file:///Users/kaergell/Desktop/Neue%20Fische/Bootcamp/Tag-28-MLproject/airquality/.venv/lib/python3.9/site-packages/pandas/core/apply.py?line=1104'>1105</a>\u001b[0m     \u001b[39m# GH 25959 use pd.array instead of tolist\u001b[39;00m\n\u001b[1;32m   <a href='file:///Users/kaergell/Desktop/Neue%20Fische/Bootcamp/Tag-28-MLproject/airquality/.venv/lib/python3.9/site-packages/pandas/core/apply.py?line=1105'>1106</a>\u001b[0m     \u001b[39m# so extension arrays can be used\u001b[39;00m\n\u001b[1;32m   <a href='file:///Users/kaergell/Desktop/Neue%20Fische/Bootcamp/Tag-28-MLproject/airquality/.venv/lib/python3.9/site-packages/pandas/core/apply.py?line=1106'>1107</a>\u001b[0m     \u001b[39mreturn\u001b[39;00m obj\u001b[39m.\u001b[39m_constructor_expanddim(pd_array(mapped), index\u001b[39m=\u001b[39mobj\u001b[39m.\u001b[39mindex)\n",
      "File \u001b[0;32m~/Desktop/Neue Fische/Bootcamp/Tag-28-MLproject/airquality/.venv/lib/python3.9/site-packages/pandas/_libs/lib.pyx:2859\u001b[0m, in \u001b[0;36mpandas._libs.lib.map_infer\u001b[0;34m()\u001b[0m\n",
      "\u001b[1;32m/Users/kaergell/Desktop/Neue Fische/Bootcamp/Tag-28-MLproject/airquality/EDA-and-modeling.ipynb Cell 11'\u001b[0m in \u001b[0;36m<lambda>\u001b[0;34m(x)\u001b[0m\n\u001b[1;32m      <a href='vscode-notebook-cell:/Users/kaergell/Desktop/Neue%20Fische/Bootcamp/Tag-28-MLproject/airquality/EDA-and-modeling.ipynb#ch0000010?line=1'>2</a>\u001b[0m precip_stats \u001b[39m=\u001b[39m pd\u001b[39m.\u001b[39mconcat([data\u001b[39m.\u001b[39mmax_precip, \n\u001b[1;32m      <a href='vscode-notebook-cell:/Users/kaergell/Desktop/Neue%20Fische/Bootcamp/Tag-28-MLproject/airquality/EDA-and-modeling.ipynb#ch0000010?line=2'>3</a>\u001b[0m                         data\u001b[39m.\u001b[39mmin_precip, \n\u001b[1;32m      <a href='vscode-notebook-cell:/Users/kaergell/Desktop/Neue%20Fische/Bootcamp/Tag-28-MLproject/airquality/EDA-and-modeling.ipynb#ch0000010?line=3'>4</a>\u001b[0m                         data\u001b[39m.\u001b[39mmean_precip, \n\u001b[0;32m   (...)\u001b[0m\n\u001b[1;32m      <a href='vscode-notebook-cell:/Users/kaergell/Desktop/Neue%20Fische/Bootcamp/Tag-28-MLproject/airquality/EDA-and-modeling.ipynb#ch0000010?line=7'>8</a>\u001b[0m                         data\u001b[39m.\u001b[39mptp_precip],\n\u001b[1;32m      <a href='vscode-notebook-cell:/Users/kaergell/Desktop/Neue%20Fische/Bootcamp/Tag-28-MLproject/airquality/EDA-and-modeling.ipynb#ch0000010?line=8'>9</a>\u001b[0m                         axis\u001b[39m=\u001b[39m\u001b[39m1\u001b[39m)\n\u001b[1;32m     <a href='vscode-notebook-cell:/Users/kaergell/Desktop/Neue%20Fische/Bootcamp/Tag-28-MLproject/airquality/EDA-and-modeling.ipynb#ch0000010?line=9'>10</a>\u001b[0m precip_stats[\u001b[39m'\u001b[39m\u001b[39mr_std_precip\u001b[39m\u001b[39m'\u001b[39m] \u001b[39m=\u001b[39m precip_stats[\u001b[39m'\u001b[39m\u001b[39mstd_precip\u001b[39m\u001b[39m'\u001b[39m] \u001b[39m/\u001b[39m precip_stats[\u001b[39m'\u001b[39m\u001b[39mmean_precip\u001b[39m\u001b[39m'\u001b[39m] \u001b[39m*\u001b[39m\u001b[39m100\u001b[39m\n\u001b[0;32m---> <a href='vscode-notebook-cell:/Users/kaergell/Desktop/Neue%20Fische/Bootcamp/Tag-28-MLproject/airquality/EDA-and-modeling.ipynb#ch0000010?line=10'>11</a>\u001b[0m data[\u001b[39m'\u001b[39m\u001b[39msum_precip\u001b[39m\u001b[39m'\u001b[39m] \u001b[39m=\u001b[39m data[\u001b[39m'\u001b[39m\u001b[39mprecip\u001b[39m\u001b[39m'\u001b[39m]\u001b[39m.\u001b[39mapply(\u001b[39mlambda\u001b[39;00m x: np\u001b[39m.\u001b[39;49msum(x))\n",
      "File \u001b[0;32m<__array_function__ internals>:180\u001b[0m, in \u001b[0;36msum\u001b[0;34m(*args, **kwargs)\u001b[0m\n",
      "File \u001b[0;32m~/Desktop/Neue Fische/Bootcamp/Tag-28-MLproject/airquality/.venv/lib/python3.9/site-packages/numpy/core/fromnumeric.py:2296\u001b[0m, in \u001b[0;36msum\u001b[0;34m(a, axis, dtype, out, keepdims, initial, where)\u001b[0m\n\u001b[1;32m   <a href='file:///Users/kaergell/Desktop/Neue%20Fische/Bootcamp/Tag-28-MLproject/airquality/.venv/lib/python3.9/site-packages/numpy/core/fromnumeric.py?line=2292'>2293</a>\u001b[0m         \u001b[39mreturn\u001b[39;00m out\n\u001b[1;32m   <a href='file:///Users/kaergell/Desktop/Neue%20Fische/Bootcamp/Tag-28-MLproject/airquality/.venv/lib/python3.9/site-packages/numpy/core/fromnumeric.py?line=2293'>2294</a>\u001b[0m     \u001b[39mreturn\u001b[39;00m res\n\u001b[0;32m-> <a href='file:///Users/kaergell/Desktop/Neue%20Fische/Bootcamp/Tag-28-MLproject/airquality/.venv/lib/python3.9/site-packages/numpy/core/fromnumeric.py?line=2295'>2296</a>\u001b[0m \u001b[39mreturn\u001b[39;00m _wrapreduction(a, np\u001b[39m.\u001b[39;49madd, \u001b[39m'\u001b[39;49m\u001b[39msum\u001b[39;49m\u001b[39m'\u001b[39;49m, axis, dtype, out, keepdims\u001b[39m=\u001b[39;49mkeepdims,\n\u001b[1;32m   <a href='file:///Users/kaergell/Desktop/Neue%20Fische/Bootcamp/Tag-28-MLproject/airquality/.venv/lib/python3.9/site-packages/numpy/core/fromnumeric.py?line=2296'>2297</a>\u001b[0m                       initial\u001b[39m=\u001b[39;49minitial, where\u001b[39m=\u001b[39;49mwhere)\n",
      "File \u001b[0;32m~/Desktop/Neue Fische/Bootcamp/Tag-28-MLproject/airquality/.venv/lib/python3.9/site-packages/numpy/core/fromnumeric.py:86\u001b[0m, in \u001b[0;36m_wrapreduction\u001b[0;34m(obj, ufunc, method, axis, dtype, out, **kwargs)\u001b[0m\n\u001b[1;32m     <a href='file:///Users/kaergell/Desktop/Neue%20Fische/Bootcamp/Tag-28-MLproject/airquality/.venv/lib/python3.9/site-packages/numpy/core/fromnumeric.py?line=82'>83</a>\u001b[0m         \u001b[39melse\u001b[39;00m:\n\u001b[1;32m     <a href='file:///Users/kaergell/Desktop/Neue%20Fische/Bootcamp/Tag-28-MLproject/airquality/.venv/lib/python3.9/site-packages/numpy/core/fromnumeric.py?line=83'>84</a>\u001b[0m             \u001b[39mreturn\u001b[39;00m reduction(axis\u001b[39m=\u001b[39maxis, out\u001b[39m=\u001b[39mout, \u001b[39m*\u001b[39m\u001b[39m*\u001b[39mpasskwargs)\n\u001b[0;32m---> <a href='file:///Users/kaergell/Desktop/Neue%20Fische/Bootcamp/Tag-28-MLproject/airquality/.venv/lib/python3.9/site-packages/numpy/core/fromnumeric.py?line=85'>86</a>\u001b[0m \u001b[39mreturn\u001b[39;00m ufunc\u001b[39m.\u001b[39;49mreduce(obj, axis, dtype, out, \u001b[39m*\u001b[39;49m\u001b[39m*\u001b[39;49mpasskwargs)\n",
      "\u001b[0;31mUFuncTypeError\u001b[0m: ufunc 'add' did not contain a loop with signature matching types (dtype('<U80'), dtype('<U80')) -> None"
     ]
    }
   ],
   "source": [
    "# EDA precipitation:\n",
    "precip_stats = pd.concat([data.max_precip, \n",
    "                        data.min_precip, \n",
    "                        data.mean_precip, \n",
    "                        data.std_precip, \n",
    "                        data.var_precip, \n",
    "                        data.median_precip,  # all 0,0\n",
    "                        data.ptp_precip],\n",
    "                        axis=1)\n",
    "precip_stats['r_std_precip'] = precip_stats['std_precip'] / precip_stats['mean_precip'] *100\n",
    "data['sum_precip'] = data['precip'].apply(lambda x: np.sum(x))"
   ]
  },
  {
   "cell_type": "code",
   "execution_count": null,
   "metadata": {},
   "outputs": [
    {
     "data": {
      "text/plain": [
       "<AxesSubplot:xlabel='mean_precip', ylabel='target'>"
      ]
     },
     "execution_count": 12,
     "metadata": {},
     "output_type": "execute_result"
    },
    {
     "data": {
      "image/png": "[encoded data removed]",
      "text/plain": [
       "<Figure size 432x288 with 1 Axes>"
      ]
     },
     "metadata": {
      "needs_background": "light"
     },
     "output_type": "display_data"
    }
   ],
   "source": [
    "sns.scatterplot(data=data, x='mean_precip', y='target')"
   ]
  },
  {
   "cell_type": "code",
   "execution_count": null,
   "metadata": {},
   "outputs": [
    {
     "ename": "ValueError",
     "evalue": "Could not interpret value `sum_precip` for parameter `x`",
     "output_type": "error",
     "traceback": [
      "\u001b[0;31m---------------------------------------------------------------------------\u001b[0m",
      "\u001b[0;31mValueError\u001b[0m                                Traceback (most recent call last)",
      "\u001b[1;32m/Users/kaergell/Desktop/Neue Fische/Bootcamp/Tag-28-MLproject/airquality/EDA-and-modeling.ipynb Cell 13'\u001b[0m in \u001b[0;36m<cell line: 1>\u001b[0;34m()\u001b[0m\n\u001b[0;32m----> <a href='vscode-notebook-cell:/Users/kaergell/Desktop/Neue%20Fische/Bootcamp/Tag-28-MLproject/airquality/EDA-and-modeling.ipynb#ch0000012?line=0'>1</a>\u001b[0m sns\u001b[39m.\u001b[39;49mscatterplot(data\u001b[39m=\u001b[39;49mdata, x\u001b[39m=\u001b[39;49m\u001b[39m'\u001b[39;49m\u001b[39msum_precip\u001b[39;49m\u001b[39m'\u001b[39;49m, y\u001b[39m=\u001b[39;49m\u001b[39m'\u001b[39;49m\u001b[39mtarget\u001b[39;49m\u001b[39m'\u001b[39;49m)\n",
      "File \u001b[0;32m~/Desktop/Neue Fische/Bootcamp/Tag-28-MLproject/airquality/.venv/lib/python3.9/site-packages/seaborn/_decorators.py:46\u001b[0m, in \u001b[0;36m_deprecate_positional_args.<locals>.inner_f\u001b[0;34m(*args, **kwargs)\u001b[0m\n\u001b[1;32m     <a href='file:///Users/kaergell/Desktop/Neue%20Fische/Bootcamp/Tag-28-MLproject/airquality/.venv/lib/python3.9/site-packages/seaborn/_decorators.py?line=35'>36</a>\u001b[0m     warnings\u001b[39m.\u001b[39mwarn(\n\u001b[1;32m     <a href='file:///Users/kaergell/Desktop/Neue%20Fische/Bootcamp/Tag-28-MLproject/airquality/.venv/lib/python3.9/site-packages/seaborn/_decorators.py?line=36'>37</a>\u001b[0m         \u001b[39m\"\u001b[39m\u001b[39mPass the following variable\u001b[39m\u001b[39m{}\u001b[39;00m\u001b[39m as \u001b[39m\u001b[39m{}\u001b[39;00m\u001b[39mkeyword arg\u001b[39m\u001b[39m{}\u001b[39;00m\u001b[39m: \u001b[39m\u001b[39m{}\u001b[39;00m\u001b[39m. \u001b[39m\u001b[39m\"\u001b[39m\n\u001b[1;32m     <a href='file:///Users/kaergell/Desktop/Neue%20Fische/Bootcamp/Tag-28-MLproject/airquality/.venv/lib/python3.9/site-packages/seaborn/_decorators.py?line=37'>38</a>\u001b[0m         \u001b[39m\"\u001b[39m\u001b[39mFrom version 0.12, the only valid positional argument \u001b[39m\u001b[39m\"\u001b[39m\n\u001b[0;32m   (...)\u001b[0m\n\u001b[1;32m     <a href='file:///Users/kaergell/Desktop/Neue%20Fische/Bootcamp/Tag-28-MLproject/airquality/.venv/lib/python3.9/site-packages/seaborn/_decorators.py?line=42'>43</a>\u001b[0m         \u001b[39mFutureWarning\u001b[39;00m\n\u001b[1;32m     <a href='file:///Users/kaergell/Desktop/Neue%20Fische/Bootcamp/Tag-28-MLproject/airquality/.venv/lib/python3.9/site-packages/seaborn/_decorators.py?line=43'>44</a>\u001b[0m     )\n\u001b[1;32m     <a href='file:///Users/kaergell/Desktop/Neue%20Fische/Bootcamp/Tag-28-MLproject/airquality/.venv/lib/python3.9/site-packages/seaborn/_decorators.py?line=44'>45</a>\u001b[0m kwargs\u001b[39m.\u001b[39mupdate({k: arg \u001b[39mfor\u001b[39;00m k, arg \u001b[39min\u001b[39;00m \u001b[39mzip\u001b[39m(sig\u001b[39m.\u001b[39mparameters, args)})\n\u001b[0;32m---> <a href='file:///Users/kaergell/Desktop/Neue%20Fische/Bootcamp/Tag-28-MLproject/airquality/.venv/lib/python3.9/site-packages/seaborn/_decorators.py?line=45'>46</a>\u001b[0m \u001b[39mreturn\u001b[39;00m f(\u001b[39m*\u001b[39;49m\u001b[39m*\u001b[39;49mkwargs)\n",
      "File \u001b[0;32m~/Desktop/Neue Fische/Bootcamp/Tag-28-MLproject/airquality/.venv/lib/python3.9/site-packages/seaborn/relational.py:808\u001b[0m, in \u001b[0;36mscatterplot\u001b[0;34m(x, y, hue, style, size, data, palette, hue_order, hue_norm, sizes, size_order, size_norm, markers, style_order, x_bins, y_bins, units, estimator, ci, n_boot, alpha, x_jitter, y_jitter, legend, ax, **kwargs)\u001b[0m\n\u001b[1;32m    <a href='file:///Users/kaergell/Desktop/Neue%20Fische/Bootcamp/Tag-28-MLproject/airquality/.venv/lib/python3.9/site-packages/seaborn/relational.py?line=792'>793</a>\u001b[0m \u001b[39m@_deprecate_positional_args\u001b[39m\n\u001b[1;32m    <a href='file:///Users/kaergell/Desktop/Neue%20Fische/Bootcamp/Tag-28-MLproject/airquality/.venv/lib/python3.9/site-packages/seaborn/relational.py?line=793'>794</a>\u001b[0m \u001b[39mdef\u001b[39;00m \u001b[39mscatterplot\u001b[39m(\n\u001b[1;32m    <a href='file:///Users/kaergell/Desktop/Neue%20Fische/Bootcamp/Tag-28-MLproject/airquality/.venv/lib/python3.9/site-packages/seaborn/relational.py?line=794'>795</a>\u001b[0m     \u001b[39m*\u001b[39m,\n\u001b[0;32m   (...)\u001b[0m\n\u001b[1;32m    <a href='file:///Users/kaergell/Desktop/Neue%20Fische/Bootcamp/Tag-28-MLproject/airquality/.venv/lib/python3.9/site-packages/seaborn/relational.py?line=803'>804</a>\u001b[0m     legend\u001b[39m=\u001b[39m\u001b[39m\"\u001b[39m\u001b[39mauto\u001b[39m\u001b[39m\"\u001b[39m, ax\u001b[39m=\u001b[39m\u001b[39mNone\u001b[39;00m, \u001b[39m*\u001b[39m\u001b[39m*\u001b[39mkwargs\n\u001b[1;32m    <a href='file:///Users/kaergell/Desktop/Neue%20Fische/Bootcamp/Tag-28-MLproject/airquality/.venv/lib/python3.9/site-packages/seaborn/relational.py?line=804'>805</a>\u001b[0m ):\n\u001b[1;32m    <a href='file:///Users/kaergell/Desktop/Neue%20Fische/Bootcamp/Tag-28-MLproject/airquality/.venv/lib/python3.9/site-packages/seaborn/relational.py?line=806'>807</a>\u001b[0m     variables \u001b[39m=\u001b[39m _ScatterPlotter\u001b[39m.\u001b[39mget_semantics(\u001b[39mlocals\u001b[39m())\n\u001b[0;32m--> <a href='file:///Users/kaergell/Desktop/Neue%20Fische/Bootcamp/Tag-28-MLproject/airquality/.venv/lib/python3.9/site-packages/seaborn/relational.py?line=807'>808</a>\u001b[0m     p \u001b[39m=\u001b[39m _ScatterPlotter(\n\u001b[1;32m    <a href='file:///Users/kaergell/Desktop/Neue%20Fische/Bootcamp/Tag-28-MLproject/airquality/.venv/lib/python3.9/site-packages/seaborn/relational.py?line=808'>809</a>\u001b[0m         data\u001b[39m=\u001b[39;49mdata, variables\u001b[39m=\u001b[39;49mvariables,\n\u001b[1;32m    <a href='file:///Users/kaergell/Desktop/Neue%20Fische/Bootcamp/Tag-28-MLproject/airquality/.venv/lib/python3.9/site-packages/seaborn/relational.py?line=809'>810</a>\u001b[0m         x_bins\u001b[39m=\u001b[39;49mx_bins, y_bins\u001b[39m=\u001b[39;49my_bins,\n\u001b[1;32m    <a href='file:///Users/kaergell/Desktop/Neue%20Fische/Bootcamp/Tag-28-MLproject/airquality/.venv/lib/python3.9/site-packages/seaborn/relational.py?line=810'>811</a>\u001b[0m         estimator\u001b[39m=\u001b[39;49mestimator, ci\u001b[39m=\u001b[39;49mci, n_boot\u001b[39m=\u001b[39;49mn_boot,\n\u001b[1;32m    <a href='file:///Users/kaergell/Desktop/Neue%20Fische/Bootcamp/Tag-28-MLproject/airquality/.venv/lib/python3.9/site-packages/seaborn/relational.py?line=811'>812</a>\u001b[0m         alpha\u001b[39m=\u001b[39;49malpha, x_jitter\u001b[39m=\u001b[39;49mx_jitter, y_jitter\u001b[39m=\u001b[39;49my_jitter, legend\u001b[39m=\u001b[39;49mlegend,\n\u001b[1;32m    <a href='file:///Users/kaergell/Desktop/Neue%20Fische/Bootcamp/Tag-28-MLproject/airquality/.venv/lib/python3.9/site-packages/seaborn/relational.py?line=812'>813</a>\u001b[0m     )\n\u001b[1;32m    <a href='file:///Users/kaergell/Desktop/Neue%20Fische/Bootcamp/Tag-28-MLproject/airquality/.venv/lib/python3.9/site-packages/seaborn/relational.py?line=814'>815</a>\u001b[0m     p\u001b[39m.\u001b[39mmap_hue(palette\u001b[39m=\u001b[39mpalette, order\u001b[39m=\u001b[39mhue_order, norm\u001b[39m=\u001b[39mhue_norm)\n\u001b[1;32m    <a href='file:///Users/kaergell/Desktop/Neue%20Fische/Bootcamp/Tag-28-MLproject/airquality/.venv/lib/python3.9/site-packages/seaborn/relational.py?line=815'>816</a>\u001b[0m     p\u001b[39m.\u001b[39mmap_size(sizes\u001b[39m=\u001b[39msizes, order\u001b[39m=\u001b[39msize_order, norm\u001b[39m=\u001b[39msize_norm)\n",
      "File \u001b[0;32m~/Desktop/Neue Fische/Bootcamp/Tag-28-MLproject/airquality/.venv/lib/python3.9/site-packages/seaborn/relational.py:587\u001b[0m, in \u001b[0;36m_ScatterPlotter.__init__\u001b[0;34m(self, data, variables, x_bins, y_bins, estimator, ci, n_boot, alpha, x_jitter, y_jitter, legend)\u001b[0m\n\u001b[1;32m    <a href='file:///Users/kaergell/Desktop/Neue%20Fische/Bootcamp/Tag-28-MLproject/airquality/.venv/lib/python3.9/site-packages/seaborn/relational.py?line=570'>571</a>\u001b[0m \u001b[39mdef\u001b[39;00m \u001b[39m__init__\u001b[39m(\n\u001b[1;32m    <a href='file:///Users/kaergell/Desktop/Neue%20Fische/Bootcamp/Tag-28-MLproject/airquality/.venv/lib/python3.9/site-packages/seaborn/relational.py?line=571'>572</a>\u001b[0m     \u001b[39mself\u001b[39m, \u001b[39m*\u001b[39m,\n\u001b[1;32m    <a href='file:///Users/kaergell/Desktop/Neue%20Fische/Bootcamp/Tag-28-MLproject/airquality/.venv/lib/python3.9/site-packages/seaborn/relational.py?line=572'>573</a>\u001b[0m     data\u001b[39m=\u001b[39m\u001b[39mNone\u001b[39;00m, variables\u001b[39m=\u001b[39m{},\n\u001b[0;32m   (...)\u001b[0m\n\u001b[1;32m    <a href='file:///Users/kaergell/Desktop/Neue%20Fische/Bootcamp/Tag-28-MLproject/airquality/.venv/lib/python3.9/site-packages/seaborn/relational.py?line=580'>581</a>\u001b[0m     \u001b[39m# the kind of plot to draw, but for the time being we need to set\u001b[39;00m\n\u001b[1;32m    <a href='file:///Users/kaergell/Desktop/Neue%20Fische/Bootcamp/Tag-28-MLproject/airquality/.venv/lib/python3.9/site-packages/seaborn/relational.py?line=581'>582</a>\u001b[0m     \u001b[39m# this information so the SizeMapping can use it\u001b[39;00m\n\u001b[1;32m    <a href='file:///Users/kaergell/Desktop/Neue%20Fische/Bootcamp/Tag-28-MLproject/airquality/.venv/lib/python3.9/site-packages/seaborn/relational.py?line=582'>583</a>\u001b[0m     \u001b[39mself\u001b[39m\u001b[39m.\u001b[39m_default_size_range \u001b[39m=\u001b[39m (\n\u001b[1;32m    <a href='file:///Users/kaergell/Desktop/Neue%20Fische/Bootcamp/Tag-28-MLproject/airquality/.venv/lib/python3.9/site-packages/seaborn/relational.py?line=583'>584</a>\u001b[0m         np\u001b[39m.\u001b[39mr_[\u001b[39m.5\u001b[39m, \u001b[39m2\u001b[39m] \u001b[39m*\u001b[39m np\u001b[39m.\u001b[39msquare(mpl\u001b[39m.\u001b[39mrcParams[\u001b[39m\"\u001b[39m\u001b[39mlines.markersize\u001b[39m\u001b[39m\"\u001b[39m])\n\u001b[1;32m    <a href='file:///Users/kaergell/Desktop/Neue%20Fische/Bootcamp/Tag-28-MLproject/airquality/.venv/lib/python3.9/site-packages/seaborn/relational.py?line=584'>585</a>\u001b[0m     )\n\u001b[0;32m--> <a href='file:///Users/kaergell/Desktop/Neue%20Fische/Bootcamp/Tag-28-MLproject/airquality/.venv/lib/python3.9/site-packages/seaborn/relational.py?line=586'>587</a>\u001b[0m     \u001b[39msuper\u001b[39;49m()\u001b[39m.\u001b[39;49m\u001b[39m__init__\u001b[39;49m(data\u001b[39m=\u001b[39;49mdata, variables\u001b[39m=\u001b[39;49mvariables)\n\u001b[1;32m    <a href='file:///Users/kaergell/Desktop/Neue%20Fische/Bootcamp/Tag-28-MLproject/airquality/.venv/lib/python3.9/site-packages/seaborn/relational.py?line=588'>589</a>\u001b[0m     \u001b[39mself\u001b[39m\u001b[39m.\u001b[39malpha \u001b[39m=\u001b[39m alpha\n\u001b[1;32m    <a href='file:///Users/kaergell/Desktop/Neue%20Fische/Bootcamp/Tag-28-MLproject/airquality/.venv/lib/python3.9/site-packages/seaborn/relational.py?line=589'>590</a>\u001b[0m     \u001b[39mself\u001b[39m\u001b[39m.\u001b[39mlegend \u001b[39m=\u001b[39m legend\n",
      "File \u001b[0;32m~/Desktop/Neue Fische/Bootcamp/Tag-28-MLproject/airquality/.venv/lib/python3.9/site-packages/seaborn/_core.py:605\u001b[0m, in \u001b[0;36mVectorPlotter.__init__\u001b[0;34m(self, data, variables)\u001b[0m\n\u001b[1;32m    <a href='file:///Users/kaergell/Desktop/Neue%20Fische/Bootcamp/Tag-28-MLproject/airquality/.venv/lib/python3.9/site-packages/seaborn/_core.py?line=602'>603</a>\u001b[0m \u001b[39mdef\u001b[39;00m \u001b[39m__init__\u001b[39m(\u001b[39mself\u001b[39m, data\u001b[39m=\u001b[39m\u001b[39mNone\u001b[39;00m, variables\u001b[39m=\u001b[39m{}):\n\u001b[0;32m--> <a href='file:///Users/kaergell/Desktop/Neue%20Fische/Bootcamp/Tag-28-MLproject/airquality/.venv/lib/python3.9/site-packages/seaborn/_core.py?line=604'>605</a>\u001b[0m     \u001b[39mself\u001b[39;49m\u001b[39m.\u001b[39;49massign_variables(data, variables)\n\u001b[1;32m    <a href='file:///Users/kaergell/Desktop/Neue%20Fische/Bootcamp/Tag-28-MLproject/airquality/.venv/lib/python3.9/site-packages/seaborn/_core.py?line=606'>607</a>\u001b[0m     \u001b[39mfor\u001b[39;00m var, \u001b[39mcls\u001b[39m \u001b[39min\u001b[39;00m \u001b[39mself\u001b[39m\u001b[39m.\u001b[39m_semantic_mappings\u001b[39m.\u001b[39mitems():\n\u001b[1;32m    <a href='file:///Users/kaergell/Desktop/Neue%20Fische/Bootcamp/Tag-28-MLproject/airquality/.venv/lib/python3.9/site-packages/seaborn/_core.py?line=607'>608</a>\u001b[0m \n\u001b[1;32m    <a href='file:///Users/kaergell/Desktop/Neue%20Fische/Bootcamp/Tag-28-MLproject/airquality/.venv/lib/python3.9/site-packages/seaborn/_core.py?line=608'>609</a>\u001b[0m         \u001b[39m# Create the mapping function\u001b[39;00m\n\u001b[1;32m    <a href='file:///Users/kaergell/Desktop/Neue%20Fische/Bootcamp/Tag-28-MLproject/airquality/.venv/lib/python3.9/site-packages/seaborn/_core.py?line=609'>610</a>\u001b[0m         map_func \u001b[39m=\u001b[39m partial(\u001b[39mcls\u001b[39m\u001b[39m.\u001b[39mmap, plotter\u001b[39m=\u001b[39m\u001b[39mself\u001b[39m)\n",
      "File \u001b[0;32m~/Desktop/Neue Fische/Bootcamp/Tag-28-MLproject/airquality/.venv/lib/python3.9/site-packages/seaborn/_core.py:668\u001b[0m, in \u001b[0;36mVectorPlotter.assign_variables\u001b[0;34m(self, data, variables)\u001b[0m\n\u001b[1;32m    <a href='file:///Users/kaergell/Desktop/Neue%20Fische/Bootcamp/Tag-28-MLproject/airquality/.venv/lib/python3.9/site-packages/seaborn/_core.py?line=665'>666</a>\u001b[0m \u001b[39melse\u001b[39;00m:\n\u001b[1;32m    <a href='file:///Users/kaergell/Desktop/Neue%20Fische/Bootcamp/Tag-28-MLproject/airquality/.venv/lib/python3.9/site-packages/seaborn/_core.py?line=666'>667</a>\u001b[0m     \u001b[39mself\u001b[39m\u001b[39m.\u001b[39minput_format \u001b[39m=\u001b[39m \u001b[39m\"\u001b[39m\u001b[39mlong\u001b[39m\u001b[39m\"\u001b[39m\n\u001b[0;32m--> <a href='file:///Users/kaergell/Desktop/Neue%20Fische/Bootcamp/Tag-28-MLproject/airquality/.venv/lib/python3.9/site-packages/seaborn/_core.py?line=667'>668</a>\u001b[0m     plot_data, variables \u001b[39m=\u001b[39m \u001b[39mself\u001b[39;49m\u001b[39m.\u001b[39;49m_assign_variables_longform(\n\u001b[1;32m    <a href='file:///Users/kaergell/Desktop/Neue%20Fische/Bootcamp/Tag-28-MLproject/airquality/.venv/lib/python3.9/site-packages/seaborn/_core.py?line=668'>669</a>\u001b[0m         data, \u001b[39m*\u001b[39;49m\u001b[39m*\u001b[39;49mvariables,\n\u001b[1;32m    <a href='file:///Users/kaergell/Desktop/Neue%20Fische/Bootcamp/Tag-28-MLproject/airquality/.venv/lib/python3.9/site-packages/seaborn/_core.py?line=669'>670</a>\u001b[0m     )\n\u001b[1;32m    <a href='file:///Users/kaergell/Desktop/Neue%20Fische/Bootcamp/Tag-28-MLproject/airquality/.venv/lib/python3.9/site-packages/seaborn/_core.py?line=671'>672</a>\u001b[0m \u001b[39mself\u001b[39m\u001b[39m.\u001b[39mplot_data \u001b[39m=\u001b[39m plot_data\n\u001b[1;32m    <a href='file:///Users/kaergell/Desktop/Neue%20Fische/Bootcamp/Tag-28-MLproject/airquality/.venv/lib/python3.9/site-packages/seaborn/_core.py?line=672'>673</a>\u001b[0m \u001b[39mself\u001b[39m\u001b[39m.\u001b[39mvariables \u001b[39m=\u001b[39m variables\n",
      "File \u001b[0;32m~/Desktop/Neue Fische/Bootcamp/Tag-28-MLproject/airquality/.venv/lib/python3.9/site-packages/seaborn/_core.py:903\u001b[0m, in \u001b[0;36mVectorPlotter._assign_variables_longform\u001b[0;34m(self, data, **kwargs)\u001b[0m\n\u001b[1;32m    <a href='file:///Users/kaergell/Desktop/Neue%20Fische/Bootcamp/Tag-28-MLproject/airquality/.venv/lib/python3.9/site-packages/seaborn/_core.py?line=897'>898</a>\u001b[0m \u001b[39melif\u001b[39;00m \u001b[39misinstance\u001b[39m(val, (\u001b[39mstr\u001b[39m, \u001b[39mbytes\u001b[39m)):\n\u001b[1;32m    <a href='file:///Users/kaergell/Desktop/Neue%20Fische/Bootcamp/Tag-28-MLproject/airquality/.venv/lib/python3.9/site-packages/seaborn/_core.py?line=898'>899</a>\u001b[0m \n\u001b[1;32m    <a href='file:///Users/kaergell/Desktop/Neue%20Fische/Bootcamp/Tag-28-MLproject/airquality/.venv/lib/python3.9/site-packages/seaborn/_core.py?line=899'>900</a>\u001b[0m     \u001b[39m# This looks like a column name but we don't know what it means!\u001b[39;00m\n\u001b[1;32m    <a href='file:///Users/kaergell/Desktop/Neue%20Fische/Bootcamp/Tag-28-MLproject/airquality/.venv/lib/python3.9/site-packages/seaborn/_core.py?line=901'>902</a>\u001b[0m     err \u001b[39m=\u001b[39m \u001b[39mf\u001b[39m\u001b[39m\"\u001b[39m\u001b[39mCould not interpret value `\u001b[39m\u001b[39m{\u001b[39;00mval\u001b[39m}\u001b[39;00m\u001b[39m` for parameter `\u001b[39m\u001b[39m{\u001b[39;00mkey\u001b[39m}\u001b[39;00m\u001b[39m`\u001b[39m\u001b[39m\"\u001b[39m\n\u001b[0;32m--> <a href='file:///Users/kaergell/Desktop/Neue%20Fische/Bootcamp/Tag-28-MLproject/airquality/.venv/lib/python3.9/site-packages/seaborn/_core.py?line=902'>903</a>\u001b[0m     \u001b[39mraise\u001b[39;00m \u001b[39mValueError\u001b[39;00m(err)\n\u001b[1;32m    <a href='file:///Users/kaergell/Desktop/Neue%20Fische/Bootcamp/Tag-28-MLproject/airquality/.venv/lib/python3.9/site-packages/seaborn/_core.py?line=904'>905</a>\u001b[0m \u001b[39melse\u001b[39;00m:\n\u001b[1;32m    <a href='file:///Users/kaergell/Desktop/Neue%20Fische/Bootcamp/Tag-28-MLproject/airquality/.venv/lib/python3.9/site-packages/seaborn/_core.py?line=905'>906</a>\u001b[0m \n\u001b[1;32m    <a href='file:///Users/kaergell/Desktop/Neue%20Fische/Bootcamp/Tag-28-MLproject/airquality/.venv/lib/python3.9/site-packages/seaborn/_core.py?line=906'>907</a>\u001b[0m     \u001b[39m# Otherwise, assume the value is itself data\u001b[39;00m\n\u001b[1;32m    <a href='file:///Users/kaergell/Desktop/Neue%20Fische/Bootcamp/Tag-28-MLproject/airquality/.venv/lib/python3.9/site-packages/seaborn/_core.py?line=907'>908</a>\u001b[0m \n\u001b[1;32m    <a href='file:///Users/kaergell/Desktop/Neue%20Fische/Bootcamp/Tag-28-MLproject/airquality/.venv/lib/python3.9/site-packages/seaborn/_core.py?line=908'>909</a>\u001b[0m     \u001b[39m# Raise when data object is present and a vector can't matched\u001b[39;00m\n\u001b[1;32m    <a href='file:///Users/kaergell/Desktop/Neue%20Fische/Bootcamp/Tag-28-MLproject/airquality/.venv/lib/python3.9/site-packages/seaborn/_core.py?line=909'>910</a>\u001b[0m     \u001b[39mif\u001b[39;00m \u001b[39misinstance\u001b[39m(data, pd\u001b[39m.\u001b[39mDataFrame) \u001b[39mand\u001b[39;00m \u001b[39mnot\u001b[39;00m \u001b[39misinstance\u001b[39m(val, pd\u001b[39m.\u001b[39mSeries):\n",
      "\u001b[0;31mValueError\u001b[0m: Could not interpret value `sum_precip` for parameter `x`"
     ]
    }
   ],
   "source": [
    "sns.scatterplot(data=data, x='sum_precip', y='target')"
   ]
  },
  {
   "cell_type": "code",
   "execution_count": null,
   "metadata": {},
   "outputs": [
    {
     "data": {
      "text/plain": [
       "array([0.])"
      ]
     },
     "execution_count": 14,
     "metadata": {},
     "output_type": "execute_result"
    }
   ],
   "source": [
    "data.median_precip.unique()"
   ]
  },
  {
   "cell_type": "code",
   "execution_count": null,
   "metadata": {},
   "outputs": [
    {
     "data": {
      "text/html": [
       "<div>\n",
       "<style scoped>\n",
       "    .dataframe tbody tr th:only-of-type {\n",
       "        vertical-align: middle;\n",
       "    }\n",
       "\n",
       "    .dataframe tbody tr th {\n",
       "        vertical-align: top;\n",
       "    }\n",
       "\n",
       "    .dataframe thead th {\n",
       "        text-align: right;\n",
       "    }\n",
       "</style>\n",
       "<table border=\"1\" class=\"dataframe\">\n",
       "  <thead>\n",
       "    <tr style=\"text-align: right;\">\n",
       "      <th></th>\n",
       "      <th>precip</th>\n",
       "      <th>std_precip</th>\n",
       "      <th>mean_precip</th>\n",
       "    </tr>\n",
       "  </thead>\n",
       "  <tbody>\n",
       "    <tr>\n",
       "      <th>0</th>\n",
       "      <td>[0.0, 0.0, 0.0, 0.0, 0.0, 0.0, 0.0, 0.0, 0.0, ...</td>\n",
       "      <td>0.000000</td>\n",
       "      <td>0.000000</td>\n",
       "    </tr>\n",
       "    <tr>\n",
       "      <th>1</th>\n",
       "      <td>[0.102, 0.0, 0.0, 0.0, 0.0, 0.0, 0.0, 0.034, 0...</td>\n",
       "      <td>0.051706</td>\n",
       "      <td>0.007025</td>\n",
       "    </tr>\n",
       "  </tbody>\n",
       "</table>\n",
       "</div>"
      ],
      "text/plain": [
       "                                              precip  std_precip  mean_precip\n",
       "0  [0.0, 0.0, 0.0, 0.0, 0.0, 0.0, 0.0, 0.0, 0.0, ...    0.000000     0.000000\n",
       "1  [0.102, 0.0, 0.0, 0.0, 0.0, 0.0, 0.0, 0.034, 0...    0.051706     0.007025"
      ]
     },
     "execution_count": 15,
     "metadata": {},
     "output_type": "execute_result"
    }
   ],
   "source": [
    "data[['precip', 'std_precip','mean_precip']].head(2)\n",
    "\n"
   ]
  },
  {
   "cell_type": "code",
   "execution_count": null,
   "metadata": {},
   "outputs": [
    {
     "data": {
      "text/plain": [
       "array([0.])"
      ]
     },
     "execution_count": 16,
     "metadata": {},
     "output_type": "execute_result"
    }
   ],
   "source": [
    "precip_stats.median_precip.unique() #median values are all 0, why?"
   ]
  },
  {
   "cell_type": "code",
   "execution_count": null,
   "metadata": {},
   "outputs": [
    {
     "data": {
      "text/plain": [
       "<AxesSubplot:xlabel='mean_precip', ylabel='Count'>"
      ]
     },
     "execution_count": 17,
     "metadata": {},
     "output_type": "execute_result"
    },
    {
     "data": {
      "image/png": "[encoded data removed]",
      "text/plain": [
       "<Figure size 432x288 with 1 Axes>"
      ]
     },
     "metadata": {
      "needs_background": "light"
     },
     "output_type": "display_data"
    }
   ],
   "source": [
    "sns.histplot(precip_stats.mean_precip) # a lot of mean values == 0, when it doesnt rain"
   ]
  },
  {
   "cell_type": "code",
   "execution_count": null,
   "metadata": {},
   "outputs": [
    {
     "data": {
      "text/plain": [
       "\"def log1p(x):\\n    return np.log1p(x)\\n\\nprecip_stats['log_mean_precip'] = precip_stats['mean_precip'].apply(lambda x: log1p(X) for X in precip_stats.mean_precip )\""
      ]
     },
     "execution_count": 16,
     "metadata": {},
     "output_type": "execute_result"
    }
   ],
   "source": [
    "\"\"\"def log1p(x):\n",
    "    return np.log1p(x)\n",
    "\n",
    "precip_stats['log_mean_precip'] = precip_stats['mean_precip'].apply(lambda x: log1p(X) for X in precip_stats.mean_precip )\"\"\""
   ]
  },
  {
   "cell_type": "code",
   "execution_count": null,
   "metadata": {},
   "outputs": [
    {
     "ename": "KeyboardInterrupt",
     "evalue": "",
     "output_type": "error",
     "traceback": [
      "\u001b[0;31m---------------------------------------------------------------------------\u001b[0m",
      "\u001b[0;31mKeyboardInterrupt\u001b[0m                         Traceback (most recent call last)",
      "\u001b[1;32m/Users/kaergell/Desktop/Neue Fische/Bootcamp/Tag-28-MLproject/airquality/EDA-and-modeling.ipynb Cell 19'\u001b[0m in \u001b[0;36m<cell line: 2>\u001b[0;34m()\u001b[0m\n\u001b[1;32m      <a href='vscode-notebook-cell:/Users/kaergell/Desktop/Neue%20Fische/Bootcamp/Tag-28-MLproject/airquality/EDA-and-modeling.ipynb#ch0000018?line=0'>1</a>\u001b[0m \u001b[39m# relative Standard deviation of the precipitation\u001b[39;00m\n\u001b[0;32m----> <a href='vscode-notebook-cell:/Users/kaergell/Desktop/Neue%20Fische/Bootcamp/Tag-28-MLproject/airquality/EDA-and-modeling.ipynb#ch0000018?line=1'>2</a>\u001b[0m sns\u001b[39m.\u001b[39;49mhistplot(precip_stats\u001b[39m.\u001b[39;49mr_std_precip)\n",
      "File \u001b[0;32m~/Desktop/Neue Fische/Bootcamp/Tag-28-MLproject/airquality/.venv/lib/python3.9/site-packages/seaborn/distributions.py:1462\u001b[0m, in \u001b[0;36mhistplot\u001b[0;34m(data, x, y, hue, weights, stat, bins, binwidth, binrange, discrete, cumulative, common_bins, common_norm, multiple, element, fill, shrink, kde, kde_kws, line_kws, thresh, pthresh, pmax, cbar, cbar_ax, cbar_kws, palette, hue_order, hue_norm, color, log_scale, legend, ax, **kwargs)\u001b[0m\n\u001b[1;32m   <a href='file:///Users/kaergell/Desktop/Neue%20Fische/Bootcamp/Tag-28-MLproject/airquality/.venv/lib/python3.9/site-packages/seaborn/distributions.py?line=1450'>1451</a>\u001b[0m estimate_kws \u001b[39m=\u001b[39m \u001b[39mdict\u001b[39m(\n\u001b[1;32m   <a href='file:///Users/kaergell/Desktop/Neue%20Fische/Bootcamp/Tag-28-MLproject/airquality/.venv/lib/python3.9/site-packages/seaborn/distributions.py?line=1451'>1452</a>\u001b[0m     stat\u001b[39m=\u001b[39mstat,\n\u001b[1;32m   <a href='file:///Users/kaergell/Desktop/Neue%20Fische/Bootcamp/Tag-28-MLproject/airquality/.venv/lib/python3.9/site-packages/seaborn/distributions.py?line=1452'>1453</a>\u001b[0m     bins\u001b[39m=\u001b[39mbins,\n\u001b[0;32m   (...)\u001b[0m\n\u001b[1;32m   <a href='file:///Users/kaergell/Desktop/Neue%20Fische/Bootcamp/Tag-28-MLproject/airquality/.venv/lib/python3.9/site-packages/seaborn/distributions.py?line=1456'>1457</a>\u001b[0m     cumulative\u001b[39m=\u001b[39mcumulative,\n\u001b[1;32m   <a href='file:///Users/kaergell/Desktop/Neue%20Fische/Bootcamp/Tag-28-MLproject/airquality/.venv/lib/python3.9/site-packages/seaborn/distributions.py?line=1457'>1458</a>\u001b[0m )\n\u001b[1;32m   <a href='file:///Users/kaergell/Desktop/Neue%20Fische/Bootcamp/Tag-28-MLproject/airquality/.venv/lib/python3.9/site-packages/seaborn/distributions.py?line=1459'>1460</a>\u001b[0m \u001b[39mif\u001b[39;00m p\u001b[39m.\u001b[39munivariate:\n\u001b[0;32m-> <a href='file:///Users/kaergell/Desktop/Neue%20Fische/Bootcamp/Tag-28-MLproject/airquality/.venv/lib/python3.9/site-packages/seaborn/distributions.py?line=1461'>1462</a>\u001b[0m     p\u001b[39m.\u001b[39;49mplot_univariate_histogram(\n\u001b[1;32m   <a href='file:///Users/kaergell/Desktop/Neue%20Fische/Bootcamp/Tag-28-MLproject/airquality/.venv/lib/python3.9/site-packages/seaborn/distributions.py?line=1462'>1463</a>\u001b[0m         multiple\u001b[39m=\u001b[39;49mmultiple,\n\u001b[1;32m   <a href='file:///Users/kaergell/Desktop/Neue%20Fische/Bootcamp/Tag-28-MLproject/airquality/.venv/lib/python3.9/site-packages/seaborn/distributions.py?line=1463'>1464</a>\u001b[0m         element\u001b[39m=\u001b[39;49melement,\n\u001b[1;32m   <a href='file:///Users/kaergell/Desktop/Neue%20Fische/Bootcamp/Tag-28-MLproject/airquality/.venv/lib/python3.9/site-packages/seaborn/distributions.py?line=1464'>1465</a>\u001b[0m         fill\u001b[39m=\u001b[39;49mfill,\n\u001b[1;32m   <a href='file:///Users/kaergell/Desktop/Neue%20Fische/Bootcamp/Tag-28-MLproject/airquality/.venv/lib/python3.9/site-packages/seaborn/distributions.py?line=1465'>1466</a>\u001b[0m         shrink\u001b[39m=\u001b[39;49mshrink,\n\u001b[1;32m   <a href='file:///Users/kaergell/Desktop/Neue%20Fische/Bootcamp/Tag-28-MLproject/airquality/.venv/lib/python3.9/site-packages/seaborn/distributions.py?line=1466'>1467</a>\u001b[0m         common_norm\u001b[39m=\u001b[39;49mcommon_norm,\n\u001b[1;32m   <a href='file:///Users/kaergell/Desktop/Neue%20Fische/Bootcamp/Tag-28-MLproject/airquality/.venv/lib/python3.9/site-packages/seaborn/distributions.py?line=1467'>1468</a>\u001b[0m         common_bins\u001b[39m=\u001b[39;49mcommon_bins,\n\u001b[1;32m   <a href='file:///Users/kaergell/Desktop/Neue%20Fische/Bootcamp/Tag-28-MLproject/airquality/.venv/lib/python3.9/site-packages/seaborn/distributions.py?line=1468'>1469</a>\u001b[0m         kde\u001b[39m=\u001b[39;49mkde,\n\u001b[1;32m   <a href='file:///Users/kaergell/Desktop/Neue%20Fische/Bootcamp/Tag-28-MLproject/airquality/.venv/lib/python3.9/site-packages/seaborn/distributions.py?line=1469'>1470</a>\u001b[0m         kde_kws\u001b[39m=\u001b[39;49mkde_kws,\n\u001b[1;32m   <a href='file:///Users/kaergell/Desktop/Neue%20Fische/Bootcamp/Tag-28-MLproject/airquality/.venv/lib/python3.9/site-packages/seaborn/distributions.py?line=1470'>1471</a>\u001b[0m         color\u001b[39m=\u001b[39;49mcolor,\n\u001b[1;32m   <a href='file:///Users/kaergell/Desktop/Neue%20Fische/Bootcamp/Tag-28-MLproject/airquality/.venv/lib/python3.9/site-packages/seaborn/distributions.py?line=1471'>1472</a>\u001b[0m         legend\u001b[39m=\u001b[39;49mlegend,\n\u001b[1;32m   <a href='file:///Users/kaergell/Desktop/Neue%20Fische/Bootcamp/Tag-28-MLproject/airquality/.venv/lib/python3.9/site-packages/seaborn/distributions.py?line=1472'>1473</a>\u001b[0m         estimate_kws\u001b[39m=\u001b[39;49mestimate_kws,\n\u001b[1;32m   <a href='file:///Users/kaergell/Desktop/Neue%20Fische/Bootcamp/Tag-28-MLproject/airquality/.venv/lib/python3.9/site-packages/seaborn/distributions.py?line=1473'>1474</a>\u001b[0m         line_kws\u001b[39m=\u001b[39;49mline_kws,\n\u001b[1;32m   <a href='file:///Users/kaergell/Desktop/Neue%20Fische/Bootcamp/Tag-28-MLproject/airquality/.venv/lib/python3.9/site-packages/seaborn/distributions.py?line=1474'>1475</a>\u001b[0m         \u001b[39m*\u001b[39;49m\u001b[39m*\u001b[39;49mkwargs,\n\u001b[1;32m   <a href='file:///Users/kaergell/Desktop/Neue%20Fische/Bootcamp/Tag-28-MLproject/airquality/.venv/lib/python3.9/site-packages/seaborn/distributions.py?line=1475'>1476</a>\u001b[0m     )\n\u001b[1;32m   <a href='file:///Users/kaergell/Desktop/Neue%20Fische/Bootcamp/Tag-28-MLproject/airquality/.venv/lib/python3.9/site-packages/seaborn/distributions.py?line=1477'>1478</a>\u001b[0m \u001b[39melse\u001b[39;00m:\n\u001b[1;32m   <a href='file:///Users/kaergell/Desktop/Neue%20Fische/Bootcamp/Tag-28-MLproject/airquality/.venv/lib/python3.9/site-packages/seaborn/distributions.py?line=1479'>1480</a>\u001b[0m     p\u001b[39m.\u001b[39mplot_bivariate_histogram(\n\u001b[1;32m   <a href='file:///Users/kaergell/Desktop/Neue%20Fische/Bootcamp/Tag-28-MLproject/airquality/.venv/lib/python3.9/site-packages/seaborn/distributions.py?line=1480'>1481</a>\u001b[0m         common_bins\u001b[39m=\u001b[39mcommon_bins,\n\u001b[1;32m   <a href='file:///Users/kaergell/Desktop/Neue%20Fische/Bootcamp/Tag-28-MLproject/airquality/.venv/lib/python3.9/site-packages/seaborn/distributions.py?line=1481'>1482</a>\u001b[0m         common_norm\u001b[39m=\u001b[39mcommon_norm,\n\u001b[0;32m   (...)\u001b[0m\n\u001b[1;32m   <a href='file:///Users/kaergell/Desktop/Neue%20Fische/Bootcamp/Tag-28-MLproject/airquality/.venv/lib/python3.9/site-packages/seaborn/distributions.py?line=1491'>1492</a>\u001b[0m         \u001b[39m*\u001b[39m\u001b[39m*\u001b[39mkwargs,\n\u001b[1;32m   <a href='file:///Users/kaergell/Desktop/Neue%20Fische/Bootcamp/Tag-28-MLproject/airquality/.venv/lib/python3.9/site-packages/seaborn/distributions.py?line=1492'>1493</a>\u001b[0m     )\n",
      "File \u001b[0;32m~/Desktop/Neue Fische/Bootcamp/Tag-28-MLproject/airquality/.venv/lib/python3.9/site-packages/seaborn/distributions.py:718\u001b[0m, in \u001b[0;36m_DistributionPlotter.plot_univariate_histogram\u001b[0;34m(self, multiple, element, fill, common_norm, common_bins, shrink, kde, kde_kws, color, legend, line_kws, estimate_kws, **plot_kws)\u001b[0m\n\u001b[1;32m    <a href='file:///Users/kaergell/Desktop/Neue%20Fische/Bootcamp/Tag-28-MLproject/airquality/.venv/lib/python3.9/site-packages/seaborn/distributions.py?line=715'>716</a>\u001b[0m \u001b[39mif\u001b[39;00m \u001b[39mself\u001b[39m\u001b[39m.\u001b[39mdata_variable \u001b[39m==\u001b[39m \u001b[39m\"\u001b[39m\u001b[39my\u001b[39m\u001b[39m\"\u001b[39m:\n\u001b[1;32m    <a href='file:///Users/kaergell/Desktop/Neue%20Fische/Bootcamp/Tag-28-MLproject/airquality/.venv/lib/python3.9/site-packages/seaborn/distributions.py?line=716'>717</a>\u001b[0m     default_x \u001b[39m=\u001b[39m estimator\u001b[39m.\u001b[39mstat\u001b[39m.\u001b[39mcapitalize()\n\u001b[0;32m--> <a href='file:///Users/kaergell/Desktop/Neue%20Fische/Bootcamp/Tag-28-MLproject/airquality/.venv/lib/python3.9/site-packages/seaborn/distributions.py?line=717'>718</a>\u001b[0m \u001b[39mself\u001b[39;49m\u001b[39m.\u001b[39;49m_add_axis_labels(ax, default_x, default_y)\n\u001b[1;32m    <a href='file:///Users/kaergell/Desktop/Neue%20Fische/Bootcamp/Tag-28-MLproject/airquality/.venv/lib/python3.9/site-packages/seaborn/distributions.py?line=719'>720</a>\u001b[0m \u001b[39m# Legend for semantic variables\u001b[39;00m\n\u001b[1;32m    <a href='file:///Users/kaergell/Desktop/Neue%20Fische/Bootcamp/Tag-28-MLproject/airquality/.venv/lib/python3.9/site-packages/seaborn/distributions.py?line=720'>721</a>\u001b[0m \u001b[39mif\u001b[39;00m \u001b[39m\"\u001b[39m\u001b[39mhue\u001b[39m\u001b[39m\"\u001b[39m \u001b[39min\u001b[39;00m \u001b[39mself\u001b[39m\u001b[39m.\u001b[39mvariables \u001b[39mand\u001b[39;00m legend:\n",
      "File \u001b[0;32m~/Desktop/Neue Fische/Bootcamp/Tag-28-MLproject/airquality/.venv/lib/python3.9/site-packages/seaborn/_core.py:1194\u001b[0m, in \u001b[0;36mVectorPlotter._add_axis_labels\u001b[0;34m(self, ax, default_x, default_y)\u001b[0m\n\u001b[1;32m   <a href='file:///Users/kaergell/Desktop/Neue%20Fische/Bootcamp/Tag-28-MLproject/airquality/.venv/lib/python3.9/site-packages/seaborn/_core.py?line=1188'>1189</a>\u001b[0m \u001b[39m# TODO ax could default to None and use attached axes if present\u001b[39;00m\n\u001b[1;32m   <a href='file:///Users/kaergell/Desktop/Neue%20Fische/Bootcamp/Tag-28-MLproject/airquality/.venv/lib/python3.9/site-packages/seaborn/_core.py?line=1189'>1190</a>\u001b[0m \u001b[39m# but what to do about the case of facets? Currently using FacetGrid's\u001b[39;00m\n\u001b[1;32m   <a href='file:///Users/kaergell/Desktop/Neue%20Fische/Bootcamp/Tag-28-MLproject/airquality/.venv/lib/python3.9/site-packages/seaborn/_core.py?line=1190'>1191</a>\u001b[0m \u001b[39m# set_axis_labels method, which doesn't add labels to the interior even\u001b[39;00m\n\u001b[1;32m   <a href='file:///Users/kaergell/Desktop/Neue%20Fische/Bootcamp/Tag-28-MLproject/airquality/.venv/lib/python3.9/site-packages/seaborn/_core.py?line=1191'>1192</a>\u001b[0m \u001b[39m# when the axes are not shared. Maybe that makes sense?\u001b[39;00m\n\u001b[1;32m   <a href='file:///Users/kaergell/Desktop/Neue%20Fische/Bootcamp/Tag-28-MLproject/airquality/.venv/lib/python3.9/site-packages/seaborn/_core.py?line=1192'>1193</a>\u001b[0m \u001b[39mif\u001b[39;00m \u001b[39mnot\u001b[39;00m ax\u001b[39m.\u001b[39mget_xlabel():\n\u001b[0;32m-> <a href='file:///Users/kaergell/Desktop/Neue%20Fische/Bootcamp/Tag-28-MLproject/airquality/.venv/lib/python3.9/site-packages/seaborn/_core.py?line=1193'>1194</a>\u001b[0m     x_visible \u001b[39m=\u001b[39m \u001b[39many\u001b[39m(t\u001b[39m.\u001b[39mget_visible() \u001b[39mfor\u001b[39;00m t \u001b[39min\u001b[39;00m ax\u001b[39m.\u001b[39;49mget_xticklabels())\n\u001b[1;32m   <a href='file:///Users/kaergell/Desktop/Neue%20Fische/Bootcamp/Tag-28-MLproject/airquality/.venv/lib/python3.9/site-packages/seaborn/_core.py?line=1194'>1195</a>\u001b[0m     ax\u001b[39m.\u001b[39mset_xlabel(\u001b[39mself\u001b[39m\u001b[39m.\u001b[39mvariables\u001b[39m.\u001b[39mget(\u001b[39m\"\u001b[39m\u001b[39mx\u001b[39m\u001b[39m\"\u001b[39m, default_x), visible\u001b[39m=\u001b[39mx_visible)\n\u001b[1;32m   <a href='file:///Users/kaergell/Desktop/Neue%20Fische/Bootcamp/Tag-28-MLproject/airquality/.venv/lib/python3.9/site-packages/seaborn/_core.py?line=1195'>1196</a>\u001b[0m \u001b[39mif\u001b[39;00m \u001b[39mnot\u001b[39;00m ax\u001b[39m.\u001b[39mget_ylabel():\n",
      "File \u001b[0;32m~/Desktop/Neue Fische/Bootcamp/Tag-28-MLproject/airquality/.venv/lib/python3.9/site-packages/matplotlib/axes/_base.py:75\u001b[0m, in \u001b[0;36m_axis_method_wrapper.__set_name__.<locals>.wrapper\u001b[0;34m(self, *args, **kwargs)\u001b[0m\n\u001b[1;32m     <a href='file:///Users/kaergell/Desktop/Neue%20Fische/Bootcamp/Tag-28-MLproject/airquality/.venv/lib/python3.9/site-packages/matplotlib/axes/_base.py?line=73'>74</a>\u001b[0m \u001b[39mdef\u001b[39;00m \u001b[39mwrapper\u001b[39m(\u001b[39mself\u001b[39m, \u001b[39m*\u001b[39margs, \u001b[39m*\u001b[39m\u001b[39m*\u001b[39mkwargs):\n\u001b[0;32m---> <a href='file:///Users/kaergell/Desktop/Neue%20Fische/Bootcamp/Tag-28-MLproject/airquality/.venv/lib/python3.9/site-packages/matplotlib/axes/_base.py?line=74'>75</a>\u001b[0m     \u001b[39mreturn\u001b[39;00m get_method(\u001b[39mself\u001b[39;49m)(\u001b[39m*\u001b[39;49margs, \u001b[39m*\u001b[39;49m\u001b[39m*\u001b[39;49mkwargs)\n",
      "File \u001b[0;32m~/Desktop/Neue Fische/Bootcamp/Tag-28-MLproject/airquality/.venv/lib/python3.9/site-packages/matplotlib/axis.py:1249\u001b[0m, in \u001b[0;36mAxis.get_ticklabels\u001b[0;34m(self, minor, which)\u001b[0m\n\u001b[1;32m   <a href='file:///Users/kaergell/Desktop/Neue%20Fische/Bootcamp/Tag-28-MLproject/airquality/.venv/lib/python3.9/site-packages/matplotlib/axis.py?line=1246'>1247</a>\u001b[0m \u001b[39mif\u001b[39;00m minor:\n\u001b[1;32m   <a href='file:///Users/kaergell/Desktop/Neue%20Fische/Bootcamp/Tag-28-MLproject/airquality/.venv/lib/python3.9/site-packages/matplotlib/axis.py?line=1247'>1248</a>\u001b[0m     \u001b[39mreturn\u001b[39;00m \u001b[39mself\u001b[39m\u001b[39m.\u001b[39mget_minorticklabels()\n\u001b[0;32m-> <a href='file:///Users/kaergell/Desktop/Neue%20Fische/Bootcamp/Tag-28-MLproject/airquality/.venv/lib/python3.9/site-packages/matplotlib/axis.py?line=1248'>1249</a>\u001b[0m \u001b[39mreturn\u001b[39;00m \u001b[39mself\u001b[39;49m\u001b[39m.\u001b[39;49mget_majorticklabels()\n",
      "File \u001b[0;32m~/Desktop/Neue Fische/Bootcamp/Tag-28-MLproject/airquality/.venv/lib/python3.9/site-packages/matplotlib/axis.py:1201\u001b[0m, in \u001b[0;36mAxis.get_majorticklabels\u001b[0;34m(self)\u001b[0m\n\u001b[1;32m   <a href='file:///Users/kaergell/Desktop/Neue%20Fische/Bootcamp/Tag-28-MLproject/airquality/.venv/lib/python3.9/site-packages/matplotlib/axis.py?line=1198'>1199</a>\u001b[0m \u001b[39mdef\u001b[39;00m \u001b[39mget_majorticklabels\u001b[39m(\u001b[39mself\u001b[39m):\n\u001b[1;32m   <a href='file:///Users/kaergell/Desktop/Neue%20Fische/Bootcamp/Tag-28-MLproject/airquality/.venv/lib/python3.9/site-packages/matplotlib/axis.py?line=1199'>1200</a>\u001b[0m     \u001b[39m\"\"\"Return this Axis' major tick labels, as a list of `~.text.Text`.\"\"\"\u001b[39;00m\n\u001b[0;32m-> <a href='file:///Users/kaergell/Desktop/Neue%20Fische/Bootcamp/Tag-28-MLproject/airquality/.venv/lib/python3.9/site-packages/matplotlib/axis.py?line=1200'>1201</a>\u001b[0m     ticks \u001b[39m=\u001b[39m \u001b[39mself\u001b[39;49m\u001b[39m.\u001b[39;49mget_major_ticks()\n\u001b[1;32m   <a href='file:///Users/kaergell/Desktop/Neue%20Fische/Bootcamp/Tag-28-MLproject/airquality/.venv/lib/python3.9/site-packages/matplotlib/axis.py?line=1201'>1202</a>\u001b[0m     labels1 \u001b[39m=\u001b[39m [tick\u001b[39m.\u001b[39mlabel1 \u001b[39mfor\u001b[39;00m tick \u001b[39min\u001b[39;00m ticks \u001b[39mif\u001b[39;00m tick\u001b[39m.\u001b[39mlabel1\u001b[39m.\u001b[39mget_visible()]\n\u001b[1;32m   <a href='file:///Users/kaergell/Desktop/Neue%20Fische/Bootcamp/Tag-28-MLproject/airquality/.venv/lib/python3.9/site-packages/matplotlib/axis.py?line=1202'>1203</a>\u001b[0m     labels2 \u001b[39m=\u001b[39m [tick\u001b[39m.\u001b[39mlabel2 \u001b[39mfor\u001b[39;00m tick \u001b[39min\u001b[39;00m ticks \u001b[39mif\u001b[39;00m tick\u001b[39m.\u001b[39mlabel2\u001b[39m.\u001b[39mget_visible()]\n",
      "File \u001b[0;32m~/Desktop/Neue Fische/Bootcamp/Tag-28-MLproject/airquality/.venv/lib/python3.9/site-packages/matplotlib/axis.py:1371\u001b[0m, in \u001b[0;36mAxis.get_major_ticks\u001b[0;34m(self, numticks)\u001b[0m\n\u001b[1;32m   <a href='file:///Users/kaergell/Desktop/Neue%20Fische/Bootcamp/Tag-28-MLproject/airquality/.venv/lib/python3.9/site-packages/matplotlib/axis.py?line=1368'>1369</a>\u001b[0m \u001b[39mr\u001b[39m\u001b[39m\"\"\"Return the list of major `.Tick`\\s.\"\"\"\u001b[39;00m\n\u001b[1;32m   <a href='file:///Users/kaergell/Desktop/Neue%20Fische/Bootcamp/Tag-28-MLproject/airquality/.venv/lib/python3.9/site-packages/matplotlib/axis.py?line=1369'>1370</a>\u001b[0m \u001b[39mif\u001b[39;00m numticks \u001b[39mis\u001b[39;00m \u001b[39mNone\u001b[39;00m:\n\u001b[0;32m-> <a href='file:///Users/kaergell/Desktop/Neue%20Fische/Bootcamp/Tag-28-MLproject/airquality/.venv/lib/python3.9/site-packages/matplotlib/axis.py?line=1370'>1371</a>\u001b[0m     numticks \u001b[39m=\u001b[39m \u001b[39mlen\u001b[39m(\u001b[39mself\u001b[39;49m\u001b[39m.\u001b[39;49mget_majorticklocs())\n\u001b[1;32m   <a href='file:///Users/kaergell/Desktop/Neue%20Fische/Bootcamp/Tag-28-MLproject/airquality/.venv/lib/python3.9/site-packages/matplotlib/axis.py?line=1372'>1373</a>\u001b[0m \u001b[39mwhile\u001b[39;00m \u001b[39mlen\u001b[39m(\u001b[39mself\u001b[39m\u001b[39m.\u001b[39mmajorTicks) \u001b[39m<\u001b[39m numticks:\n\u001b[1;32m   <a href='file:///Users/kaergell/Desktop/Neue%20Fische/Bootcamp/Tag-28-MLproject/airquality/.venv/lib/python3.9/site-packages/matplotlib/axis.py?line=1373'>1374</a>\u001b[0m     \u001b[39m# Update the new tick label properties from the old.\u001b[39;00m\n\u001b[1;32m   <a href='file:///Users/kaergell/Desktop/Neue%20Fische/Bootcamp/Tag-28-MLproject/airquality/.venv/lib/python3.9/site-packages/matplotlib/axis.py?line=1374'>1375</a>\u001b[0m     tick \u001b[39m=\u001b[39m \u001b[39mself\u001b[39m\u001b[39m.\u001b[39m_get_tick(major\u001b[39m=\u001b[39m\u001b[39mTrue\u001b[39;00m)\n",
      "File \u001b[0;32m~/Desktop/Neue Fische/Bootcamp/Tag-28-MLproject/airquality/.venv/lib/python3.9/site-packages/matplotlib/axis.py:1277\u001b[0m, in \u001b[0;36mAxis.get_majorticklocs\u001b[0;34m(self)\u001b[0m\n\u001b[1;32m   <a href='file:///Users/kaergell/Desktop/Neue%20Fische/Bootcamp/Tag-28-MLproject/airquality/.venv/lib/python3.9/site-packages/matplotlib/axis.py?line=1274'>1275</a>\u001b[0m \u001b[39mdef\u001b[39;00m \u001b[39mget_majorticklocs\u001b[39m(\u001b[39mself\u001b[39m):\n\u001b[1;32m   <a href='file:///Users/kaergell/Desktop/Neue%20Fische/Bootcamp/Tag-28-MLproject/airquality/.venv/lib/python3.9/site-packages/matplotlib/axis.py?line=1275'>1276</a>\u001b[0m     \u001b[39m\"\"\"Return this Axis' major tick locations in data coordinates.\"\"\"\u001b[39;00m\n\u001b[0;32m-> <a href='file:///Users/kaergell/Desktop/Neue%20Fische/Bootcamp/Tag-28-MLproject/airquality/.venv/lib/python3.9/site-packages/matplotlib/axis.py?line=1276'>1277</a>\u001b[0m     \u001b[39mreturn\u001b[39;00m \u001b[39mself\u001b[39;49m\u001b[39m.\u001b[39;49mmajor\u001b[39m.\u001b[39;49mlocator()\n",
      "File \u001b[0;32m~/Desktop/Neue Fische/Bootcamp/Tag-28-MLproject/airquality/.venv/lib/python3.9/site-packages/matplotlib/ticker.py:2114\u001b[0m, in \u001b[0;36mMaxNLocator.__call__\u001b[0;34m(self)\u001b[0m\n\u001b[1;32m   <a href='file:///Users/kaergell/Desktop/Neue%20Fische/Bootcamp/Tag-28-MLproject/airquality/.venv/lib/python3.9/site-packages/matplotlib/ticker.py?line=2111'>2112</a>\u001b[0m \u001b[39mdef\u001b[39;00m \u001b[39m__call__\u001b[39m(\u001b[39mself\u001b[39m):\n\u001b[1;32m   <a href='file:///Users/kaergell/Desktop/Neue%20Fische/Bootcamp/Tag-28-MLproject/airquality/.venv/lib/python3.9/site-packages/matplotlib/ticker.py?line=2112'>2113</a>\u001b[0m     vmin, vmax \u001b[39m=\u001b[39m \u001b[39mself\u001b[39m\u001b[39m.\u001b[39maxis\u001b[39m.\u001b[39mget_view_interval()\n\u001b[0;32m-> <a href='file:///Users/kaergell/Desktop/Neue%20Fische/Bootcamp/Tag-28-MLproject/airquality/.venv/lib/python3.9/site-packages/matplotlib/ticker.py?line=2113'>2114</a>\u001b[0m     \u001b[39mreturn\u001b[39;00m \u001b[39mself\u001b[39;49m\u001b[39m.\u001b[39;49mtick_values(vmin, vmax)\n",
      "File \u001b[0;32m~/Desktop/Neue Fische/Bootcamp/Tag-28-MLproject/airquality/.venv/lib/python3.9/site-packages/matplotlib/ticker.py:2122\u001b[0m, in \u001b[0;36mMaxNLocator.tick_values\u001b[0;34m(self, vmin, vmax)\u001b[0m\n\u001b[1;32m   <a href='file:///Users/kaergell/Desktop/Neue%20Fische/Bootcamp/Tag-28-MLproject/airquality/.venv/lib/python3.9/site-packages/matplotlib/ticker.py?line=2118'>2119</a>\u001b[0m     vmin \u001b[39m=\u001b[39m \u001b[39m-\u001b[39mvmax\n\u001b[1;32m   <a href='file:///Users/kaergell/Desktop/Neue%20Fische/Bootcamp/Tag-28-MLproject/airquality/.venv/lib/python3.9/site-packages/matplotlib/ticker.py?line=2119'>2120</a>\u001b[0m vmin, vmax \u001b[39m=\u001b[39m mtransforms\u001b[39m.\u001b[39mnonsingular(\n\u001b[1;32m   <a href='file:///Users/kaergell/Desktop/Neue%20Fische/Bootcamp/Tag-28-MLproject/airquality/.venv/lib/python3.9/site-packages/matplotlib/ticker.py?line=2120'>2121</a>\u001b[0m     vmin, vmax, expander\u001b[39m=\u001b[39m\u001b[39m1e-13\u001b[39m, tiny\u001b[39m=\u001b[39m\u001b[39m1e-14\u001b[39m)\n\u001b[0;32m-> <a href='file:///Users/kaergell/Desktop/Neue%20Fische/Bootcamp/Tag-28-MLproject/airquality/.venv/lib/python3.9/site-packages/matplotlib/ticker.py?line=2121'>2122</a>\u001b[0m locs \u001b[39m=\u001b[39m \u001b[39mself\u001b[39;49m\u001b[39m.\u001b[39;49m_raw_ticks(vmin, vmax)\n\u001b[1;32m   <a href='file:///Users/kaergell/Desktop/Neue%20Fische/Bootcamp/Tag-28-MLproject/airquality/.venv/lib/python3.9/site-packages/matplotlib/ticker.py?line=2123'>2124</a>\u001b[0m prune \u001b[39m=\u001b[39m \u001b[39mself\u001b[39m\u001b[39m.\u001b[39m_prune\n\u001b[1;32m   <a href='file:///Users/kaergell/Desktop/Neue%20Fische/Bootcamp/Tag-28-MLproject/airquality/.venv/lib/python3.9/site-packages/matplotlib/ticker.py?line=2124'>2125</a>\u001b[0m \u001b[39mif\u001b[39;00m prune \u001b[39m==\u001b[39m \u001b[39m'\u001b[39m\u001b[39mlower\u001b[39m\u001b[39m'\u001b[39m:\n",
      "File \u001b[0;32m~/Desktop/Neue Fische/Bootcamp/Tag-28-MLproject/airquality/.venv/lib/python3.9/site-packages/matplotlib/ticker.py:2061\u001b[0m, in \u001b[0;36mMaxNLocator._raw_ticks\u001b[0;34m(self, vmin, vmax)\u001b[0m\n\u001b[1;32m   <a href='file:///Users/kaergell/Desktop/Neue%20Fische/Bootcamp/Tag-28-MLproject/airquality/.venv/lib/python3.9/site-packages/matplotlib/ticker.py?line=2058'>2059</a>\u001b[0m \u001b[39mif\u001b[39;00m \u001b[39mself\u001b[39m\u001b[39m.\u001b[39m_nbins \u001b[39m==\u001b[39m \u001b[39m'\u001b[39m\u001b[39mauto\u001b[39m\u001b[39m'\u001b[39m:\n\u001b[1;32m   <a href='file:///Users/kaergell/Desktop/Neue%20Fische/Bootcamp/Tag-28-MLproject/airquality/.venv/lib/python3.9/site-packages/matplotlib/ticker.py?line=2059'>2060</a>\u001b[0m     \u001b[39mif\u001b[39;00m \u001b[39mself\u001b[39m\u001b[39m.\u001b[39maxis \u001b[39mis\u001b[39;00m \u001b[39mnot\u001b[39;00m \u001b[39mNone\u001b[39;00m:\n\u001b[0;32m-> <a href='file:///Users/kaergell/Desktop/Neue%20Fische/Bootcamp/Tag-28-MLproject/airquality/.venv/lib/python3.9/site-packages/matplotlib/ticker.py?line=2060'>2061</a>\u001b[0m         nbins \u001b[39m=\u001b[39m np\u001b[39m.\u001b[39mclip(\u001b[39mself\u001b[39;49m\u001b[39m.\u001b[39;49maxis\u001b[39m.\u001b[39;49mget_tick_space(),\n\u001b[1;32m   <a href='file:///Users/kaergell/Desktop/Neue%20Fische/Bootcamp/Tag-28-MLproject/airquality/.venv/lib/python3.9/site-packages/matplotlib/ticker.py?line=2061'>2062</a>\u001b[0m                         \u001b[39mmax\u001b[39m(\u001b[39m1\u001b[39m, \u001b[39mself\u001b[39m\u001b[39m.\u001b[39m_min_n_ticks \u001b[39m-\u001b[39m \u001b[39m1\u001b[39m), \u001b[39m9\u001b[39m)\n\u001b[1;32m   <a href='file:///Users/kaergell/Desktop/Neue%20Fische/Bootcamp/Tag-28-MLproject/airquality/.venv/lib/python3.9/site-packages/matplotlib/ticker.py?line=2062'>2063</a>\u001b[0m     \u001b[39melse\u001b[39;00m:\n\u001b[1;32m   <a href='file:///Users/kaergell/Desktop/Neue%20Fische/Bootcamp/Tag-28-MLproject/airquality/.venv/lib/python3.9/site-packages/matplotlib/ticker.py?line=2063'>2064</a>\u001b[0m         nbins \u001b[39m=\u001b[39m \u001b[39m9\u001b[39m\n",
      "File \u001b[0;32m~/Desktop/Neue Fische/Bootcamp/Tag-28-MLproject/airquality/.venv/lib/python3.9/site-packages/matplotlib/axis.py:2263\u001b[0m, in \u001b[0;36mXAxis.get_tick_space\u001b[0;34m(self)\u001b[0m\n\u001b[1;32m   <a href='file:///Users/kaergell/Desktop/Neue%20Fische/Bootcamp/Tag-28-MLproject/airquality/.venv/lib/python3.9/site-packages/matplotlib/axis.py?line=2260'>2261</a>\u001b[0m \u001b[39mdef\u001b[39;00m \u001b[39mget_tick_space\u001b[39m(\u001b[39mself\u001b[39m):\n\u001b[1;32m   <a href='file:///Users/kaergell/Desktop/Neue%20Fische/Bootcamp/Tag-28-MLproject/airquality/.venv/lib/python3.9/site-packages/matplotlib/axis.py?line=2261'>2262</a>\u001b[0m     ends \u001b[39m=\u001b[39m mtransforms\u001b[39m.\u001b[39mBbox\u001b[39m.\u001b[39mfrom_bounds(\u001b[39m0\u001b[39m, \u001b[39m0\u001b[39m, \u001b[39m1\u001b[39m, \u001b[39m1\u001b[39m)\n\u001b[0;32m-> <a href='file:///Users/kaergell/Desktop/Neue%20Fische/Bootcamp/Tag-28-MLproject/airquality/.venv/lib/python3.9/site-packages/matplotlib/axis.py?line=2262'>2263</a>\u001b[0m     ends \u001b[39m=\u001b[39m ends\u001b[39m.\u001b[39mtransformed(\u001b[39mself\u001b[39;49m\u001b[39m.\u001b[39;49maxes\u001b[39m.\u001b[39;49mtransAxes \u001b[39m-\u001b[39;49m\n\u001b[1;32m   <a href='file:///Users/kaergell/Desktop/Neue%20Fische/Bootcamp/Tag-28-MLproject/airquality/.venv/lib/python3.9/site-packages/matplotlib/axis.py?line=2263'>2264</a>\u001b[0m                             \u001b[39mself\u001b[39;49m\u001b[39m.\u001b[39;49mfigure\u001b[39m.\u001b[39;49mdpi_scale_trans)\n\u001b[1;32m   <a href='file:///Users/kaergell/Desktop/Neue%20Fische/Bootcamp/Tag-28-MLproject/airquality/.venv/lib/python3.9/site-packages/matplotlib/axis.py?line=2264'>2265</a>\u001b[0m     length \u001b[39m=\u001b[39m ends\u001b[39m.\u001b[39mwidth \u001b[39m*\u001b[39m \u001b[39m72\u001b[39m\n\u001b[1;32m   <a href='file:///Users/kaergell/Desktop/Neue%20Fische/Bootcamp/Tag-28-MLproject/airquality/.venv/lib/python3.9/site-packages/matplotlib/axis.py?line=2265'>2266</a>\u001b[0m     \u001b[39m# There is a heuristic here that the aspect ratio of tick text\u001b[39;00m\n\u001b[1;32m   <a href='file:///Users/kaergell/Desktop/Neue%20Fische/Bootcamp/Tag-28-MLproject/airquality/.venv/lib/python3.9/site-packages/matplotlib/axis.py?line=2266'>2267</a>\u001b[0m     \u001b[39m# is no more than 3:1\u001b[39;00m\n",
      "File \u001b[0;32m~/Desktop/Neue Fische/Bootcamp/Tag-28-MLproject/airquality/.venv/lib/python3.9/site-packages/matplotlib/transforms.py:1470\u001b[0m, in \u001b[0;36mTransform.__sub__\u001b[0;34m(self, other)\u001b[0m\n\u001b[1;32m   <a href='file:///Users/kaergell/Desktop/Neue%20Fische/Bootcamp/Tag-28-MLproject/airquality/.venv/lib/python3.9/site-packages/matplotlib/transforms.py?line=1467'>1468</a>\u001b[0m \u001b[39m# if we have got this far, then there was no shortcut possible\u001b[39;00m\n\u001b[1;32m   <a href='file:///Users/kaergell/Desktop/Neue%20Fische/Bootcamp/Tag-28-MLproject/airquality/.venv/lib/python3.9/site-packages/matplotlib/transforms.py?line=1468'>1469</a>\u001b[0m \u001b[39mif\u001b[39;00m other\u001b[39m.\u001b[39mhas_inverse:\n\u001b[0;32m-> <a href='file:///Users/kaergell/Desktop/Neue%20Fische/Bootcamp/Tag-28-MLproject/airquality/.venv/lib/python3.9/site-packages/matplotlib/transforms.py?line=1469'>1470</a>\u001b[0m     \u001b[39mreturn\u001b[39;00m \u001b[39mself\u001b[39m \u001b[39m+\u001b[39m other\u001b[39m.\u001b[39;49minverted()\n\u001b[1;32m   <a href='file:///Users/kaergell/Desktop/Neue%20Fische/Bootcamp/Tag-28-MLproject/airquality/.venv/lib/python3.9/site-packages/matplotlib/transforms.py?line=1470'>1471</a>\u001b[0m \u001b[39melse\u001b[39;00m:\n\u001b[1;32m   <a href='file:///Users/kaergell/Desktop/Neue%20Fische/Bootcamp/Tag-28-MLproject/airquality/.venv/lib/python3.9/site-packages/matplotlib/transforms.py?line=1471'>1472</a>\u001b[0m     \u001b[39mraise\u001b[39;00m \u001b[39mValueError\u001b[39;00m(\u001b[39m'\u001b[39m\u001b[39mIt is not possible to compute transA - transB \u001b[39m\u001b[39m'\u001b[39m\n\u001b[1;32m   <a href='file:///Users/kaergell/Desktop/Neue%20Fische/Bootcamp/Tag-28-MLproject/airquality/.venv/lib/python3.9/site-packages/matplotlib/transforms.py?line=1472'>1473</a>\u001b[0m                      \u001b[39m'\u001b[39m\u001b[39msince transB cannot be inverted and there is no \u001b[39m\u001b[39m'\u001b[39m\n\u001b[1;32m   <a href='file:///Users/kaergell/Desktop/Neue%20Fische/Bootcamp/Tag-28-MLproject/airquality/.venv/lib/python3.9/site-packages/matplotlib/transforms.py?line=1473'>1474</a>\u001b[0m                      \u001b[39m'\u001b[39m\u001b[39mshortcut possible.\u001b[39m\u001b[39m'\u001b[39m)\n",
      "File \u001b[0;32m~/Desktop/Neue Fische/Bootcamp/Tag-28-MLproject/airquality/.venv/lib/python3.9/site-packages/matplotlib/transforms.py:1890\u001b[0m, in \u001b[0;36mAffine2DBase.inverted\u001b[0;34m(self)\u001b[0m\n\u001b[1;32m   <a href='file:///Users/kaergell/Desktop/Neue%20Fische/Bootcamp/Tag-28-MLproject/airquality/.venv/lib/python3.9/site-packages/matplotlib/transforms.py?line=1887'>1888</a>\u001b[0m     \u001b[39mif\u001b[39;00m \u001b[39mself\u001b[39m\u001b[39m.\u001b[39m_shorthand_name:\n\u001b[1;32m   <a href='file:///Users/kaergell/Desktop/Neue%20Fische/Bootcamp/Tag-28-MLproject/airquality/.venv/lib/python3.9/site-packages/matplotlib/transforms.py?line=1888'>1889</a>\u001b[0m         shorthand_name \u001b[39m=\u001b[39m \u001b[39m'\u001b[39m\u001b[39m(\u001b[39m\u001b[39m%s\u001b[39;00m\u001b[39m)-1\u001b[39m\u001b[39m'\u001b[39m \u001b[39m%\u001b[39m \u001b[39mself\u001b[39m\u001b[39m.\u001b[39m_shorthand_name\n\u001b[0;32m-> <a href='file:///Users/kaergell/Desktop/Neue%20Fische/Bootcamp/Tag-28-MLproject/airquality/.venv/lib/python3.9/site-packages/matplotlib/transforms.py?line=1889'>1890</a>\u001b[0m     \u001b[39mself\u001b[39m\u001b[39m.\u001b[39m_inverted \u001b[39m=\u001b[39m Affine2D(inv(mtx), shorthand_name\u001b[39m=\u001b[39mshorthand_name)\n\u001b[1;32m   <a href='file:///Users/kaergell/Desktop/Neue%20Fische/Bootcamp/Tag-28-MLproject/airquality/.venv/lib/python3.9/site-packages/matplotlib/transforms.py?line=1890'>1891</a>\u001b[0m     \u001b[39mself\u001b[39m\u001b[39m.\u001b[39m_invalid \u001b[39m=\u001b[39m \u001b[39m0\u001b[39m\n\u001b[1;32m   <a href='file:///Users/kaergell/Desktop/Neue%20Fische/Bootcamp/Tag-28-MLproject/airquality/.venv/lib/python3.9/site-packages/matplotlib/transforms.py?line=1891'>1892</a>\u001b[0m \u001b[39mreturn\u001b[39;00m \u001b[39mself\u001b[39m\u001b[39m.\u001b[39m_inverted\n",
      "File \u001b[0;32m<__array_function__ internals>:180\u001b[0m, in \u001b[0;36minv\u001b[0;34m(*args, **kwargs)\u001b[0m\n",
      "File \u001b[0;32m~/Desktop/Neue Fische/Bootcamp/Tag-28-MLproject/airquality/.venv/lib/python3.9/site-packages/numpy/linalg/linalg.py:545\u001b[0m, in \u001b[0;36minv\u001b[0;34m(a)\u001b[0m\n\u001b[1;32m    <a href='file:///Users/kaergell/Desktop/Neue%20Fische/Bootcamp/Tag-28-MLproject/airquality/.venv/lib/python3.9/site-packages/numpy/linalg/linalg.py?line=542'>543</a>\u001b[0m signature \u001b[39m=\u001b[39m \u001b[39m'\u001b[39m\u001b[39mD->D\u001b[39m\u001b[39m'\u001b[39m \u001b[39mif\u001b[39;00m isComplexType(t) \u001b[39melse\u001b[39;00m \u001b[39m'\u001b[39m\u001b[39md->d\u001b[39m\u001b[39m'\u001b[39m\n\u001b[1;32m    <a href='file:///Users/kaergell/Desktop/Neue%20Fische/Bootcamp/Tag-28-MLproject/airquality/.venv/lib/python3.9/site-packages/numpy/linalg/linalg.py?line=543'>544</a>\u001b[0m extobj \u001b[39m=\u001b[39m get_linalg_error_extobj(_raise_linalgerror_singular)\n\u001b[0;32m--> <a href='file:///Users/kaergell/Desktop/Neue%20Fische/Bootcamp/Tag-28-MLproject/airquality/.venv/lib/python3.9/site-packages/numpy/linalg/linalg.py?line=544'>545</a>\u001b[0m ainv \u001b[39m=\u001b[39m _umath_linalg\u001b[39m.\u001b[39;49minv(a, signature\u001b[39m=\u001b[39;49msignature, extobj\u001b[39m=\u001b[39;49mextobj)\n\u001b[1;32m    <a href='file:///Users/kaergell/Desktop/Neue%20Fische/Bootcamp/Tag-28-MLproject/airquality/.venv/lib/python3.9/site-packages/numpy/linalg/linalg.py?line=545'>546</a>\u001b[0m \u001b[39mreturn\u001b[39;00m wrap(ainv\u001b[39m.\u001b[39mastype(result_t, copy\u001b[39m=\u001b[39m\u001b[39mFalse\u001b[39;00m))\n",
      "\u001b[0;31mKeyboardInterrupt\u001b[0m: "
     ]
    },
    {
     "data": {
      "image/png": "[encoded data removed]",
      "text/plain": [
       "<Figure size 432x288 with 1 Axes>"
      ]
     },
     "metadata": {
      "needs_background": "light"
     },
     "output_type": "display_data"
    }
   ],
   "source": [
    "# relative Standard deviation of the precipitation\n",
    "sns.histplot(precip_stats.r_std_precip)"
   ]
  },
  {
   "cell_type": "code",
   "execution_count": null,
   "metadata": {},
   "outputs": [
    {
     "data": {
      "text/plain": [
       "8729    1095.445115\n",
       "4436    1095.445115\n",
       "534     1095.445115\n",
       "Name: r_std_precip, dtype: float64"
      ]
     },
     "execution_count": 19,
     "metadata": {},
     "output_type": "execute_result"
    }
   ],
   "source": [
    "precip_stats.r_std_precip.sort_values(ascending=False)[:3]"
   ]
  },
  {
   "cell_type": "code",
   "execution_count": null,
   "metadata": {},
   "outputs": [
    {
     "data": {
      "text/plain": [
       "array([ 25.787     ,   0.        ,   1.12727273,   3.73988635,\n",
       "        13.98674993,   0.        ,  25.787     , 331.76411197])"
      ]
     },
     "execution_count": 20,
     "metadata": {},
     "output_type": "execute_result"
    }
   ],
   "source": [
    "precip_stats.values[3]"
   ]
  },
  {
   "cell_type": "code",
   "execution_count": null,
   "metadata": {},
   "outputs": [
    {
     "ename": "UFuncTypeError",
     "evalue": "ufunc 'add' did not contain a loop with signature matching types (dtype('<U719'), dtype('<U719')) -> None",
     "output_type": "error",
     "traceback": [
      "\u001b[0;31m---------------------------------------------------------------------------\u001b[0m",
      "\u001b[0;31mUFuncTypeError\u001b[0m                            Traceback (most recent call last)",
      "\u001b[1;32m/Users/kaergell/Desktop/Neue Fische/Bootcamp/Tag-28-MLproject/airquality/EDA-and-modeling.ipynb Cell 22'\u001b[0m in \u001b[0;36m<cell line: 2>\u001b[0;34m()\u001b[0m\n\u001b[1;32m      <a href='vscode-notebook-cell:/Users/kaergell/Desktop/Neue%20Fische/Bootcamp/Tag-28-MLproject/airquality/EDA-and-modeling.ipynb#ch0000021?line=0'>1</a>\u001b[0m \u001b[39m#np.std(data.precip[90])/\u001b[39;00m\n\u001b[0;32m----> <a href='vscode-notebook-cell:/Users/kaergell/Desktop/Neue%20Fische/Bootcamp/Tag-28-MLproject/airquality/EDA-and-modeling.ipynb#ch0000021?line=1'>2</a>\u001b[0m np\u001b[39m.\u001b[39;49mmean(data\u001b[39m.\u001b[39;49mprecip[\u001b[39m3\u001b[39;49m])\n",
      "File \u001b[0;32m<__array_function__ internals>:180\u001b[0m, in \u001b[0;36mmean\u001b[0;34m(*args, **kwargs)\u001b[0m\n",
      "File \u001b[0;32m~/Desktop/Neue Fische/Bootcamp/Tag-28-MLproject/airquality/.venv/lib/python3.9/site-packages/numpy/core/fromnumeric.py:3474\u001b[0m, in \u001b[0;36mmean\u001b[0;34m(a, axis, dtype, out, keepdims, where)\u001b[0m\n\u001b[1;32m   <a href='file:///Users/kaergell/Desktop/Neue%20Fische/Bootcamp/Tag-28-MLproject/airquality/.venv/lib/python3.9/site-packages/numpy/core/fromnumeric.py?line=3470'>3471</a>\u001b[0m     \u001b[39melse\u001b[39;00m:\n\u001b[1;32m   <a href='file:///Users/kaergell/Desktop/Neue%20Fische/Bootcamp/Tag-28-MLproject/airquality/.venv/lib/python3.9/site-packages/numpy/core/fromnumeric.py?line=3471'>3472</a>\u001b[0m         \u001b[39mreturn\u001b[39;00m mean(axis\u001b[39m=\u001b[39maxis, dtype\u001b[39m=\u001b[39mdtype, out\u001b[39m=\u001b[39mout, \u001b[39m*\u001b[39m\u001b[39m*\u001b[39mkwargs)\n\u001b[0;32m-> <a href='file:///Users/kaergell/Desktop/Neue%20Fische/Bootcamp/Tag-28-MLproject/airquality/.venv/lib/python3.9/site-packages/numpy/core/fromnumeric.py?line=3473'>3474</a>\u001b[0m \u001b[39mreturn\u001b[39;00m _methods\u001b[39m.\u001b[39;49m_mean(a, axis\u001b[39m=\u001b[39;49maxis, dtype\u001b[39m=\u001b[39;49mdtype,\n\u001b[1;32m   <a href='file:///Users/kaergell/Desktop/Neue%20Fische/Bootcamp/Tag-28-MLproject/airquality/.venv/lib/python3.9/site-packages/numpy/core/fromnumeric.py?line=3474'>3475</a>\u001b[0m                       out\u001b[39m=\u001b[39;49mout, \u001b[39m*\u001b[39;49m\u001b[39m*\u001b[39;49mkwargs)\n",
      "File \u001b[0;32m~/Desktop/Neue Fische/Bootcamp/Tag-28-MLproject/airquality/.venv/lib/python3.9/site-packages/numpy/core/_methods.py:179\u001b[0m, in \u001b[0;36m_mean\u001b[0;34m(a, axis, dtype, out, keepdims, where)\u001b[0m\n\u001b[1;32m    <a href='file:///Users/kaergell/Desktop/Neue%20Fische/Bootcamp/Tag-28-MLproject/airquality/.venv/lib/python3.9/site-packages/numpy/core/_methods.py?line=175'>176</a>\u001b[0m         dtype \u001b[39m=\u001b[39m mu\u001b[39m.\u001b[39mdtype(\u001b[39m'\u001b[39m\u001b[39mf4\u001b[39m\u001b[39m'\u001b[39m)\n\u001b[1;32m    <a href='file:///Users/kaergell/Desktop/Neue%20Fische/Bootcamp/Tag-28-MLproject/airquality/.venv/lib/python3.9/site-packages/numpy/core/_methods.py?line=176'>177</a>\u001b[0m         is_float16_result \u001b[39m=\u001b[39m \u001b[39mTrue\u001b[39;00m\n\u001b[0;32m--> <a href='file:///Users/kaergell/Desktop/Neue%20Fische/Bootcamp/Tag-28-MLproject/airquality/.venv/lib/python3.9/site-packages/numpy/core/_methods.py?line=178'>179</a>\u001b[0m ret \u001b[39m=\u001b[39m umr_sum(arr, axis, dtype, out, keepdims, where\u001b[39m=\u001b[39;49mwhere)\n\u001b[1;32m    <a href='file:///Users/kaergell/Desktop/Neue%20Fische/Bootcamp/Tag-28-MLproject/airquality/.venv/lib/python3.9/site-packages/numpy/core/_methods.py?line=179'>180</a>\u001b[0m \u001b[39mif\u001b[39;00m \u001b[39misinstance\u001b[39m(ret, mu\u001b[39m.\u001b[39mndarray):\n\u001b[1;32m    <a href='file:///Users/kaergell/Desktop/Neue%20Fische/Bootcamp/Tag-28-MLproject/airquality/.venv/lib/python3.9/site-packages/numpy/core/_methods.py?line=180'>181</a>\u001b[0m     ret \u001b[39m=\u001b[39m um\u001b[39m.\u001b[39mtrue_divide(\n\u001b[1;32m    <a href='file:///Users/kaergell/Desktop/Neue%20Fische/Bootcamp/Tag-28-MLproject/airquality/.venv/lib/python3.9/site-packages/numpy/core/_methods.py?line=181'>182</a>\u001b[0m             ret, rcount, out\u001b[39m=\u001b[39mret, casting\u001b[39m=\u001b[39m\u001b[39m'\u001b[39m\u001b[39munsafe\u001b[39m\u001b[39m'\u001b[39m, subok\u001b[39m=\u001b[39m\u001b[39mFalse\u001b[39;00m)\n",
      "\u001b[0;31mUFuncTypeError\u001b[0m: ufunc 'add' did not contain a loop with signature matching types (dtype('<U719'), dtype('<U719')) -> None"
     ]
    }
   ],
   "source": [
    "\n",
    "#np.std(data.precip[90])/\n",
    "np.mean(data.precip[3])#*100"
   ]
  },
  {
   "cell_type": "code",
   "execution_count": null,
   "metadata": {},
   "outputs": [
    {
     "data": {
      "text/plain": [
       "3.7398863530706783"
      ]
     },
     "execution_count": 21,
     "metadata": {},
     "output_type": "execute_result"
    }
   ],
   "source": [
    "np.std(data.precip[3])"
   ]
  },
  {
   "cell_type": "markdown",
   "metadata": {},
   "source": [
    "The relative standard deviation is less than 15%, it should be ok"
   ]
  },
  {
   "cell_type": "markdown",
   "metadata": {},
   "source": [
    "#### EDA on humidity "
   ]
  },
  {
   "cell_type": "markdown",
   "metadata": {},
   "source": []
  },
  {
   "cell_type": "code",
   "execution_count": null,
   "metadata": {},
   "outputs": [],
   "source": [
    "# EDA humidity:\n",
    "rel_hum_stats = pd.concat([data.max_rel_humidity, \n",
    "                        data.min_rel_humidity, \n",
    "                        data.mean_rel_humidity, \n",
    "                        data.std_rel_humidity, \n",
    "                        data.var_rel_humidity, \n",
    "                        data.median_rel_humidity,  # all 0\n",
    "                        data.ptp_rel_humidity],\n",
    "                        axis=1)\n",
    "rel_hum_stats['r_std_rel_humidity'] = rel_hum_stats['std_rel_humidity'] / rel_hum_stats['mean_rel_humidity'] * 100\n"
   ]
  },
  {
   "cell_type": "code",
   "execution_count": null,
   "metadata": {},
   "outputs": [
    {
     "data": {
      "text/plain": [
       "<AxesSubplot:xlabel='mean_rel_humidity', ylabel='Count'>"
      ]
     },
     "execution_count": 23,
     "metadata": {},
     "output_type": "execute_result"
    },
    {
     "data": {
      "image/png": "[encoded data removed]",
      "text/plain": [
       "<Figure size 432x288 with 1 Axes>"
      ]
     },
     "metadata": {
      "needs_background": "light"
     },
     "output_type": "display_data"
    }
   ],
   "source": [
    "sns.histplot(rel_hum_stats.mean_rel_humidity) # a lot of mean values == 0, when it doesnt rain"
   ]
  },
  {
   "cell_type": "code",
   "execution_count": null,
   "metadata": {},
   "outputs": [
    {
     "data": {
      "text/plain": [
       "<AxesSubplot:xlabel='r_std_rel_humidity', ylabel='Count'>"
      ]
     },
     "execution_count": 24,
     "metadata": {},
     "output_type": "execute_result"
    },
    {
     "data": {
      "image/png": "[encoded data removed]",
      "text/plain": [
       "<Figure size 432x288 with 1 Axes>"
      ]
     },
     "metadata": {
      "needs_background": "light"
     },
     "output_type": "display_data"
    }
   ],
   "source": [
    "# relative Standard deviation of the precipitation\n",
    "sns.histplot(rel_hum_stats.r_std_rel_humidity)"
   ]
  },
  {
   "cell_type": "markdown",
   "metadata": {},
   "source": [
    "### EDA on wind speed"
   ]
  },
  {
   "cell_type": "code",
   "execution_count": null,
   "metadata": {},
   "outputs": [],
   "source": [
    "# EDA wind speed on metres per second:\n",
    "wind_spd_stats = pd.concat([data.max_wind_spd, \n",
    "                        data.min_wind_spd, \n",
    "                        data.mean_wind_spd, \n",
    "                        data.std_wind_spd, \n",
    "                        data.var_wind_spd, \n",
    "                        data.median_wind_spd,  # all 0\n",
    "                        data.ptp_wind_spd],\n",
    "                        axis=1)\n",
    "wind_spd_stats['r_std_wind_spd'] = wind_spd_stats['std_wind_spd'] / wind_spd_stats['mean_wind_spd'] * 100"
   ]
  },
  {
   "cell_type": "code",
   "execution_count": null,
   "metadata": {},
   "outputs": [
    {
     "data": {
      "text/plain": [
       "<AxesSubplot:xlabel='mean_wind_spd', ylabel='Count'>"
      ]
     },
     "execution_count": 26,
     "metadata": {},
     "output_type": "execute_result"
    },
    {
     "data": {
      "image/png": "[encoded data removed]",
      "text/plain": [
       "<Figure size 432x288 with 1 Axes>"
      ]
     },
     "metadata": {
      "needs_background": "light"
     },
     "output_type": "display_data"
    }
   ],
   "source": [
    "sns.histplot(wind_spd_stats.mean_wind_spd) # 5m/2 means Beafourt 3 -> leichte brise"
   ]
  },
  {
   "cell_type": "code",
   "execution_count": null,
   "metadata": {},
   "outputs": [
    {
     "data": {
      "text/plain": [
       "<AxesSubplot:xlabel='r_std_wind_spd', ylabel='Count'>"
      ]
     },
     "execution_count": 27,
     "metadata": {},
     "output_type": "execute_result"
    },
    {
     "data": {
      "image/png": "[encoded data removed]",
      "text/plain": [
       "<Figure size 432x288 with 1 Axes>"
      ]
     },
     "metadata": {
      "needs_background": "light"
     },
     "output_type": "display_data"
    }
   ],
   "source": [
    "sns.histplot(wind_spd_stats.r_std_wind_spd)"
   ]
  },
  {
   "cell_type": "markdown",
   "metadata": {},
   "source": [
    "#### atmos_press: mean atmospheric pressure(atm)*"
   ]
  },
  {
   "cell_type": "code",
   "execution_count": null,
   "metadata": {},
   "outputs": [
    {
     "data": {
      "text/plain": [
       "[(87.5, 91.0)]"
      ]
     },
     "execution_count": 28,
     "metadata": {},
     "output_type": "execute_result"
    },
    {
     "data": {
      "image/png": "[encoded data removed]",
      "text/plain": [
       "<Figure size 432x288 with 1 Axes>"
      ]
     },
     "metadata": {
      "needs_background": "light"
     },
     "output_type": "display_data"
    }
   ],
   "source": [
    "p = sns.histplot(data=data , x = 'mean_atmos_press', hue='location')\n",
    "p.set(xlim=(87.5, 91))\n"
   ]
  },
  {
   "cell_type": "code",
   "execution_count": null,
   "metadata": {},
   "outputs": [
    {
     "data": {
      "text/plain": [
       "[(87.5, 91.0)]"
      ]
     },
     "execution_count": 29,
     "metadata": {},
     "output_type": "execute_result"
    },
    {
     "data": {
      "image/png": "[encoded data removed]",
      "text/plain": [
       "<Figure size 432x288 with 1 Axes>"
      ]
     },
     "metadata": {
      "needs_background": "light"
     },
     "output_type": "display_data"
    }
   ],
   "source": [
    "locations = ['A', 'B', 'C', 'D', 'E']\n",
    "\n",
    "a = data[(data['location']=='E')]\n",
    "ad= sns.histplot(a.mean_atmos_press)\n",
    "ad.set(xlim=(87.5, 91))"
   ]
  },
  {
   "cell_type": "markdown",
   "metadata": {},
   "source": [
    "mean_atmos_press depends on the location. \n",
    "?needs to level?"
   ]
  },
  {
   "cell_type": "code",
   "execution_count": null,
   "metadata": {},
   "outputs": [],
   "source": []
  },
  {
   "cell_type": "markdown",
   "metadata": {},
   "source": [
    "# Feature engineering"
   ]
  },
  {
   "cell_type": "markdown",
   "metadata": {},
   "source": [
    "on data process"
   ]
  },
  {
   "cell_type": "code",
   "execution_count": 53,
   "metadata": {},
   "outputs": [],
   "source": [
    "train_z = pd.read_csv('data/train_process.csv')\n",
    "test_z = pd.read_csv('data/test_process.csv')"
   ]
  },
  {
   "cell_type": "markdown",
   "metadata": {},
   "source": [
    "### Log(1+x) Tranform target"
   ]
  },
  {
   "cell_type": "code",
   "execution_count": 54,
   "metadata": {},
   "outputs": [],
   "source": [
    "train_z['log_target'] = train_z['target'].apply(np.log1p)"
   ]
  },
  {
   "cell_type": "markdown",
   "metadata": {},
   "source": [
    "### One Hot encoder location"
   ]
  },
  {
   "cell_type": "code",
   "execution_count": 41,
   "metadata": {},
   "outputs": [],
   "source": [
    "from sklearn.preprocessing import LabelEncoder\n",
    "enc = LabelEncoder()\n",
    "enc.fit(data[\"location\"])\n",
    "data[\"location\"]=enc.transform(data[\"location\"])\n"
   ]
  },
  {
   "cell_type": "code",
   "execution_count": 51,
   "metadata": {},
   "outputs": [],
   "source": [
    "enc.fit(data[\"location\"])\n",
    "data[\"location\"]=enc.transform(data[\"location\"])"
   ]
  },
  {
   "cell_type": "code",
   "execution_count": 52,
   "metadata": {},
   "outputs": [
    {
     "data": {
      "text/html": [
       "<div>\n",
       "<style scoped>\n",
       "    .dataframe tbody tr th:only-of-type {\n",
       "        vertical-align: middle;\n",
       "    }\n",
       "\n",
       "    .dataframe tbody tr th {\n",
       "        vertical-align: top;\n",
       "    }\n",
       "\n",
       "    .dataframe thead th {\n",
       "        text-align: right;\n",
       "    }\n",
       "</style>\n",
       "<table border=\"1\" class=\"dataframe\">\n",
       "  <thead>\n",
       "    <tr style=\"text-align: right;\">\n",
       "      <th></th>\n",
       "      <th>ID</th>\n",
       "      <th>location</th>\n",
       "      <th>temp</th>\n",
       "      <th>precip</th>\n",
       "      <th>rel_humidity</th>\n",
       "      <th>wind_dir</th>\n",
       "      <th>wind_spd</th>\n",
       "      <th>atmos_press</th>\n",
       "      <th>target</th>\n",
       "      <th>max_temp</th>\n",
       "      <th>...</th>\n",
       "      <th>median_wind_spd</th>\n",
       "      <th>ptp_wind_spd</th>\n",
       "      <th>max_atmos_press</th>\n",
       "      <th>min_atmos_press</th>\n",
       "      <th>mean_atmos_press</th>\n",
       "      <th>std_atmos_press</th>\n",
       "      <th>var_atmos_press</th>\n",
       "      <th>median_atmos_press</th>\n",
       "      <th>ptp_atmos_press</th>\n",
       "      <th>target_log</th>\n",
       "    </tr>\n",
       "  </thead>\n",
       "  <tbody>\n",
       "    <tr>\n",
       "      <th>0</th>\n",
       "      <td>ID_train_0</td>\n",
       "      <td>2</td>\n",
       "      <td>[26.90909091, 27.20833333, 26.18333333, 24.7, ...</td>\n",
       "      <td>[0.0, 0.0, 0.0, 0.0, 0.0, 0.0, 0.0, 0.0, 0.0, ...</td>\n",
       "      <td>[0.5108181820000001, 0.535416667, 0.6145, 0.63...</td>\n",
       "      <td>[272.90275160000004, 104.565241, 167.1772247, ...</td>\n",
       "      <td>[0.800909091, 1.073333333, 1.5175, 1.4625, 0.5...</td>\n",
       "      <td>[87.77727273, 87.6525, 87.61416667, 87.6375, 8...</td>\n",
       "      <td>45.126304</td>\n",
       "      <td>27.208333</td>\n",
       "      <td>...</td>\n",
       "      <td>0.666250</td>\n",
       "      <td>1.355000</td>\n",
       "      <td>87.871667</td>\n",
       "      <td>87.614167</td>\n",
       "      <td>87.752434</td>\n",
       "      <td>0.070374</td>\n",
       "      <td>0.004952</td>\n",
       "      <td>87.762083</td>\n",
       "      <td>0.257500</td>\n",
       "      <td>3.831383</td>\n",
       "    </tr>\n",
       "    <tr>\n",
       "      <th>1</th>\n",
       "      <td>ID_train_1</td>\n",
       "      <td>3</td>\n",
       "      <td>[22.53333333, 21.71666667, 20.83333333, 20.983...</td>\n",
       "      <td>[0.102, 0.0, 0.0, 0.0, 0.0, 0.0, 0.0, 0.034, 0...</td>\n",
       "      <td>[0.744583333, 0.808083333, 0.911166667, 0.9163...</td>\n",
       "      <td>[281.6643101, 89.15629262, 81.96853891, 291.01...</td>\n",
       "      <td>[2.3775, 1.126666667, 0.700833333, 0.341666667...</td>\n",
       "      <td>[90.32, 90.3775, 90.44083333, 90.4725, 90.4541...</td>\n",
       "      <td>79.131702</td>\n",
       "      <td>33.616667</td>\n",
       "      <td>...</td>\n",
       "      <td>0.744167</td>\n",
       "      <td>2.760833</td>\n",
       "      <td>90.725000</td>\n",
       "      <td>90.056667</td>\n",
       "      <td>90.429924</td>\n",
       "      <td>0.156000</td>\n",
       "      <td>0.024336</td>\n",
       "      <td>90.429167</td>\n",
       "      <td>0.668333</td>\n",
       "      <td>4.383672</td>\n",
       "    </tr>\n",
       "    <tr>\n",
       "      <th>2</th>\n",
       "      <td>ID_train_10</td>\n",
       "      <td>0</td>\n",
       "      <td>[28.975, 27.95, 29.6, 26.425, 22.09166667, 21....</td>\n",
       "      <td>[0.0, 0.0, 0.0, 0.102, 0.136, 0.0, 0.0, 2.16, ...</td>\n",
       "      <td>[0.573333333, 0.597166667, 0.5668333329999999,...</td>\n",
       "      <td>[328.68291380000005, 307.8251459, 319.0177512,...</td>\n",
       "      <td>[1.0325, 1.193333333, 1.275833333, 1.493333333...</td>\n",
       "      <td>[88.55166667, 88.46416667, 88.31916667, 88.24,...</td>\n",
       "      <td>32.661304</td>\n",
       "      <td>31.841667</td>\n",
       "      <td>...</td>\n",
       "      <td>0.942500</td>\n",
       "      <td>2.420000</td>\n",
       "      <td>88.813333</td>\n",
       "      <td>87.982500</td>\n",
       "      <td>88.420931</td>\n",
       "      <td>0.179481</td>\n",
       "      <td>0.032213</td>\n",
       "      <td>88.425000</td>\n",
       "      <td>0.830833</td>\n",
       "      <td>3.516349</td>\n",
       "    </tr>\n",
       "    <tr>\n",
       "      <th>3</th>\n",
       "      <td>ID_train_100</td>\n",
       "      <td>0</td>\n",
       "      <td>[22.96666667, 24.26666667, 25.275, 25.625, 25....</td>\n",
       "      <td>[0.0, 0.0, 0.0, 0.0, 0.0, 0.0, 0.0, 0.0, 7.77,...</td>\n",
       "      <td>[0.8430833329999999, 0.79025, 0.7375, 0.728, 0...</td>\n",
       "      <td>[300.0850574, 293.6769595, 294.5174647, 301.92...</td>\n",
       "      <td>[1.446666667, 1.1925, 1.324166667, 1.544166666...</td>\n",
       "      <td>[88.615, 88.53083333, 88.4, 88.27166667, 88.20...</td>\n",
       "      <td>53.850238</td>\n",
       "      <td>27.491667</td>\n",
       "      <td>...</td>\n",
       "      <td>1.388333</td>\n",
       "      <td>2.469167</td>\n",
       "      <td>88.685000</td>\n",
       "      <td>87.965000</td>\n",
       "      <td>88.376915</td>\n",
       "      <td>0.161758</td>\n",
       "      <td>0.026166</td>\n",
       "      <td>88.400000</td>\n",
       "      <td>0.720000</td>\n",
       "      <td>4.004607</td>\n",
       "    </tr>\n",
       "    <tr>\n",
       "      <th>4</th>\n",
       "      <td>ID_train_1000</td>\n",
       "      <td>0</td>\n",
       "      <td>[21.875, 21.575, 21.525, 21.43333333, 20.50833...</td>\n",
       "      <td>[0.0, 0.0, 0.0, 0.0, 0.0, 0.0, 0.0, 0.0, 0.0, ...</td>\n",
       "      <td>[0.8564166670000001, 0.874916667, 0.879833333,...</td>\n",
       "      <td>[21.83997432, 17.05405341, 89.26406044, 123.58...</td>\n",
       "      <td>[0.1975, 0.244166667, 0.411666667, 0.56, 0.577...</td>\n",
       "      <td>[88.55666667, 88.64083333, 88.65833333, 88.647...</td>\n",
       "      <td>177.418750</td>\n",
       "      <td>28.750000</td>\n",
       "      <td>...</td>\n",
       "      <td>0.542917</td>\n",
       "      <td>1.796667</td>\n",
       "      <td>88.719167</td>\n",
       "      <td>88.268333</td>\n",
       "      <td>88.538104</td>\n",
       "      <td>0.118369</td>\n",
       "      <td>0.014011</td>\n",
       "      <td>88.552500</td>\n",
       "      <td>0.450833</td>\n",
       "      <td>5.184133</td>\n",
       "    </tr>\n",
       "    <tr>\n",
       "      <th>...</th>\n",
       "      <td>...</td>\n",
       "      <td>...</td>\n",
       "      <td>...</td>\n",
       "      <td>...</td>\n",
       "      <td>...</td>\n",
       "      <td>...</td>\n",
       "      <td>...</td>\n",
       "      <td>...</td>\n",
       "      <td>...</td>\n",
       "      <td>...</td>\n",
       "      <td>...</td>\n",
       "      <td>...</td>\n",
       "      <td>...</td>\n",
       "      <td>...</td>\n",
       "      <td>...</td>\n",
       "      <td>...</td>\n",
       "      <td>...</td>\n",
       "      <td>...</td>\n",
       "      <td>...</td>\n",
       "      <td>...</td>\n",
       "      <td>...</td>\n",
       "    </tr>\n",
       "    <tr>\n",
       "      <th>20569</th>\n",
       "      <td>ID_test_995</td>\n",
       "      <td>2</td>\n",
       "      <td>[25.925, 25.80833333, 24.58333333, 24.0, 24.05...</td>\n",
       "      <td>[0.0, 0.0, 0.0, 0.408, 0.017, 0.0, 0.0, 0.0, 0...</td>\n",
       "      <td>[0.645416667, 0.637416667, 0.705333333, 0.6988...</td>\n",
       "      <td>[329.8319536, 343.2603743, 167.5577726, 161.14...</td>\n",
       "      <td>[0.749166667, 0.7425, 1.3766666669999998, 1.49...</td>\n",
       "      <td>[87.8075, 87.73833333, 87.66166667, 87.5566666...</td>\n",
       "      <td>NaN</td>\n",
       "      <td>26.325000</td>\n",
       "      <td>...</td>\n",
       "      <td>0.675000</td>\n",
       "      <td>1.576667</td>\n",
       "      <td>88.085833</td>\n",
       "      <td>87.389167</td>\n",
       "      <td>87.699704</td>\n",
       "      <td>0.153148</td>\n",
       "      <td>0.023454</td>\n",
       "      <td>87.695000</td>\n",
       "      <td>0.696667</td>\n",
       "      <td>NaN</td>\n",
       "    </tr>\n",
       "    <tr>\n",
       "      <th>20570</th>\n",
       "      <td>ID_test_996</td>\n",
       "      <td>3</td>\n",
       "      <td>[22.16666667, 21.68333333, 20.15833333, 19.825...</td>\n",
       "      <td>[0.0, 0.0, 0.0, 0.0, 0.0, 0.0, 0.0, 0.0, 0.0, ...</td>\n",
       "      <td>[0.82275, 0.827666667, 0.876416667, 0.88891666...</td>\n",
       "      <td>[291.1252201000001, 277.1125974, 248.1977595, ...</td>\n",
       "      <td>[0.980833333, 0.78, 0.45, 0.46, 0.425833333, 0...</td>\n",
       "      <td>[90.75166667, 90.68916667, 90.61916667, 90.57,...</td>\n",
       "      <td>NaN</td>\n",
       "      <td>32.550000</td>\n",
       "      <td>...</td>\n",
       "      <td>0.879167</td>\n",
       "      <td>3.022500</td>\n",
       "      <td>90.949167</td>\n",
       "      <td>90.199167</td>\n",
       "      <td>90.640585</td>\n",
       "      <td>0.166249</td>\n",
       "      <td>0.027639</td>\n",
       "      <td>90.660833</td>\n",
       "      <td>0.750000</td>\n",
       "      <td>NaN</td>\n",
       "    </tr>\n",
       "    <tr>\n",
       "      <th>20571</th>\n",
       "      <td>ID_test_997</td>\n",
       "      <td>4</td>\n",
       "      <td>[17.35833333, 18.4, 22.125, 25.40833333, 25.96...</td>\n",
       "      <td>[0.034, 0.017, 0.017, 0.0, 0.0, 0.0, 0.0, 0.0,...</td>\n",
       "      <td>[0.875833333, 0.898333333, 0.8666666670000001,...</td>\n",
       "      <td>[18.92517827, 2.478476814, 337.74147410000006,...</td>\n",
       "      <td>[1.4391666669999998, 1.466666667, 1.63, 1.9325...</td>\n",
       "      <td>[88.47666667, 88.535, 88.61416667, 88.6625, 88...</td>\n",
       "      <td>NaN</td>\n",
       "      <td>30.925000</td>\n",
       "      <td>...</td>\n",
       "      <td>1.750000</td>\n",
       "      <td>3.704167</td>\n",
       "      <td>88.662500</td>\n",
       "      <td>88.067500</td>\n",
       "      <td>88.375510</td>\n",
       "      <td>0.133175</td>\n",
       "      <td>0.017736</td>\n",
       "      <td>88.390833</td>\n",
       "      <td>0.595000</td>\n",
       "      <td>NaN</td>\n",
       "    </tr>\n",
       "    <tr>\n",
       "      <th>20572</th>\n",
       "      <td>ID_test_998</td>\n",
       "      <td>0</td>\n",
       "      <td>[24.16666667, 24.59166667, 18.01818182, 21.708...</td>\n",
       "      <td>[0.0, 0.0, 7.519, 0.0, 0.0, 0.0, 0.0, 0.0, 0.0...</td>\n",
       "      <td>[0.831666667, 0.8091666670000001, 0.968181818,...</td>\n",
       "      <td>[313.0287989, 308.591496, 209.3230512, 151.182...</td>\n",
       "      <td>[1.706666667, 1.979166667, 0.999166667, 0.5416...</td>\n",
       "      <td>[88.61166667, 88.5325, 88.505, 88.40166667, 88...</td>\n",
       "      <td>NaN</td>\n",
       "      <td>28.041667</td>\n",
       "      <td>...</td>\n",
       "      <td>0.631667</td>\n",
       "      <td>1.780000</td>\n",
       "      <td>88.630833</td>\n",
       "      <td>88.064167</td>\n",
       "      <td>88.389022</td>\n",
       "      <td>0.141884</td>\n",
       "      <td>0.020131</td>\n",
       "      <td>88.401667</td>\n",
       "      <td>0.566667</td>\n",
       "      <td>NaN</td>\n",
       "    </tr>\n",
       "    <tr>\n",
       "      <th>20573</th>\n",
       "      <td>ID_test_999</td>\n",
       "      <td>2</td>\n",
       "      <td>[22.175, 23.3, 22.55833333, 21.575, 20.3583333...</td>\n",
       "      <td>[0.0, 0.0, 0.0, 0.0, 0.0, 0.0, 0.0, 0.0, 0.0, ...</td>\n",
       "      <td>[0.828333333, 0.76, 0.7616666670000001, 0.7966...</td>\n",
       "      <td>[300.3283294, 279.20597050000003, 325.79970330...</td>\n",
       "      <td>[0.6841666670000001, 0.8716666670000001, 0.848...</td>\n",
       "      <td>[87.74833333, 87.73416667, 87.76666667, 87.791...</td>\n",
       "      <td>NaN</td>\n",
       "      <td>26.416667</td>\n",
       "      <td>...</td>\n",
       "      <td>0.748333</td>\n",
       "      <td>1.420833</td>\n",
       "      <td>88.242500</td>\n",
       "      <td>87.605000</td>\n",
       "      <td>87.922500</td>\n",
       "      <td>0.138060</td>\n",
       "      <td>0.019061</td>\n",
       "      <td>87.930833</td>\n",
       "      <td>0.637500</td>\n",
       "      <td>NaN</td>\n",
       "    </tr>\n",
       "  </tbody>\n",
       "</table>\n",
       "<p>20574 rows × 52 columns</p>\n",
       "</div>"
      ],
      "text/plain": [
       "                  ID  location  \\\n",
       "0         ID_train_0         2   \n",
       "1         ID_train_1         3   \n",
       "2        ID_train_10         0   \n",
       "3       ID_train_100         0   \n",
       "4      ID_train_1000         0   \n",
       "...              ...       ...   \n",
       "20569    ID_test_995         2   \n",
       "20570    ID_test_996         3   \n",
       "20571    ID_test_997         4   \n",
       "20572    ID_test_998         0   \n",
       "20573    ID_test_999         2   \n",
       "\n",
       "                                                    temp  \\\n",
       "0      [26.90909091, 27.20833333, 26.18333333, 24.7, ...   \n",
       "1      [22.53333333, 21.71666667, 20.83333333, 20.983...   \n",
       "2      [28.975, 27.95, 29.6, 26.425, 22.09166667, 21....   \n",
       "3      [22.96666667, 24.26666667, 25.275, 25.625, 25....   \n",
       "4      [21.875, 21.575, 21.525, 21.43333333, 20.50833...   \n",
       "...                                                  ...   \n",
       "20569  [25.925, 25.80833333, 24.58333333, 24.0, 24.05...   \n",
       "20570  [22.16666667, 21.68333333, 20.15833333, 19.825...   \n",
       "20571  [17.35833333, 18.4, 22.125, 25.40833333, 25.96...   \n",
       "20572  [24.16666667, 24.59166667, 18.01818182, 21.708...   \n",
       "20573  [22.175, 23.3, 22.55833333, 21.575, 20.3583333...   \n",
       "\n",
       "                                                  precip  \\\n",
       "0      [0.0, 0.0, 0.0, 0.0, 0.0, 0.0, 0.0, 0.0, 0.0, ...   \n",
       "1      [0.102, 0.0, 0.0, 0.0, 0.0, 0.0, 0.0, 0.034, 0...   \n",
       "2      [0.0, 0.0, 0.0, 0.102, 0.136, 0.0, 0.0, 2.16, ...   \n",
       "3      [0.0, 0.0, 0.0, 0.0, 0.0, 0.0, 0.0, 0.0, 7.77,...   \n",
       "4      [0.0, 0.0, 0.0, 0.0, 0.0, 0.0, 0.0, 0.0, 0.0, ...   \n",
       "...                                                  ...   \n",
       "20569  [0.0, 0.0, 0.0, 0.408, 0.017, 0.0, 0.0, 0.0, 0...   \n",
       "20570  [0.0, 0.0, 0.0, 0.0, 0.0, 0.0, 0.0, 0.0, 0.0, ...   \n",
       "20571  [0.034, 0.017, 0.017, 0.0, 0.0, 0.0, 0.0, 0.0,...   \n",
       "20572  [0.0, 0.0, 7.519, 0.0, 0.0, 0.0, 0.0, 0.0, 0.0...   \n",
       "20573  [0.0, 0.0, 0.0, 0.0, 0.0, 0.0, 0.0, 0.0, 0.0, ...   \n",
       "\n",
       "                                            rel_humidity  \\\n",
       "0      [0.5108181820000001, 0.535416667, 0.6145, 0.63...   \n",
       "1      [0.744583333, 0.808083333, 0.911166667, 0.9163...   \n",
       "2      [0.573333333, 0.597166667, 0.5668333329999999,...   \n",
       "3      [0.8430833329999999, 0.79025, 0.7375, 0.728, 0...   \n",
       "4      [0.8564166670000001, 0.874916667, 0.879833333,...   \n",
       "...                                                  ...   \n",
       "20569  [0.645416667, 0.637416667, 0.705333333, 0.6988...   \n",
       "20570  [0.82275, 0.827666667, 0.876416667, 0.88891666...   \n",
       "20571  [0.875833333, 0.898333333, 0.8666666670000001,...   \n",
       "20572  [0.831666667, 0.8091666670000001, 0.968181818,...   \n",
       "20573  [0.828333333, 0.76, 0.7616666670000001, 0.7966...   \n",
       "\n",
       "                                                wind_dir  \\\n",
       "0      [272.90275160000004, 104.565241, 167.1772247, ...   \n",
       "1      [281.6643101, 89.15629262, 81.96853891, 291.01...   \n",
       "2      [328.68291380000005, 307.8251459, 319.0177512,...   \n",
       "3      [300.0850574, 293.6769595, 294.5174647, 301.92...   \n",
       "4      [21.83997432, 17.05405341, 89.26406044, 123.58...   \n",
       "...                                                  ...   \n",
       "20569  [329.8319536, 343.2603743, 167.5577726, 161.14...   \n",
       "20570  [291.1252201000001, 277.1125974, 248.1977595, ...   \n",
       "20571  [18.92517827, 2.478476814, 337.74147410000006,...   \n",
       "20572  [313.0287989, 308.591496, 209.3230512, 151.182...   \n",
       "20573  [300.3283294, 279.20597050000003, 325.79970330...   \n",
       "\n",
       "                                                wind_spd  \\\n",
       "0      [0.800909091, 1.073333333, 1.5175, 1.4625, 0.5...   \n",
       "1      [2.3775, 1.126666667, 0.700833333, 0.341666667...   \n",
       "2      [1.0325, 1.193333333, 1.275833333, 1.493333333...   \n",
       "3      [1.446666667, 1.1925, 1.324166667, 1.544166666...   \n",
       "4      [0.1975, 0.244166667, 0.411666667, 0.56, 0.577...   \n",
       "...                                                  ...   \n",
       "20569  [0.749166667, 0.7425, 1.3766666669999998, 1.49...   \n",
       "20570  [0.980833333, 0.78, 0.45, 0.46, 0.425833333, 0...   \n",
       "20571  [1.4391666669999998, 1.466666667, 1.63, 1.9325...   \n",
       "20572  [1.706666667, 1.979166667, 0.999166667, 0.5416...   \n",
       "20573  [0.6841666670000001, 0.8716666670000001, 0.848...   \n",
       "\n",
       "                                             atmos_press      target  \\\n",
       "0      [87.77727273, 87.6525, 87.61416667, 87.6375, 8...   45.126304   \n",
       "1      [90.32, 90.3775, 90.44083333, 90.4725, 90.4541...   79.131702   \n",
       "2      [88.55166667, 88.46416667, 88.31916667, 88.24,...   32.661304   \n",
       "3      [88.615, 88.53083333, 88.4, 88.27166667, 88.20...   53.850238   \n",
       "4      [88.55666667, 88.64083333, 88.65833333, 88.647...  177.418750   \n",
       "...                                                  ...         ...   \n",
       "20569  [87.8075, 87.73833333, 87.66166667, 87.5566666...         NaN   \n",
       "20570  [90.75166667, 90.68916667, 90.61916667, 90.57,...         NaN   \n",
       "20571  [88.47666667, 88.535, 88.61416667, 88.6625, 88...         NaN   \n",
       "20572  [88.61166667, 88.5325, 88.505, 88.40166667, 88...         NaN   \n",
       "20573  [87.74833333, 87.73416667, 87.76666667, 87.791...         NaN   \n",
       "\n",
       "        max_temp  ...  median_wind_spd  ptp_wind_spd  max_atmos_press  \\\n",
       "0      27.208333  ...         0.666250      1.355000        87.871667   \n",
       "1      33.616667  ...         0.744167      2.760833        90.725000   \n",
       "2      31.841667  ...         0.942500      2.420000        88.813333   \n",
       "3      27.491667  ...         1.388333      2.469167        88.685000   \n",
       "4      28.750000  ...         0.542917      1.796667        88.719167   \n",
       "...          ...  ...              ...           ...              ...   \n",
       "20569  26.325000  ...         0.675000      1.576667        88.085833   \n",
       "20570  32.550000  ...         0.879167      3.022500        90.949167   \n",
       "20571  30.925000  ...         1.750000      3.704167        88.662500   \n",
       "20572  28.041667  ...         0.631667      1.780000        88.630833   \n",
       "20573  26.416667  ...         0.748333      1.420833        88.242500   \n",
       "\n",
       "       min_atmos_press  mean_atmos_press  std_atmos_press  var_atmos_press  \\\n",
       "0            87.614167         87.752434         0.070374         0.004952   \n",
       "1            90.056667         90.429924         0.156000         0.024336   \n",
       "2            87.982500         88.420931         0.179481         0.032213   \n",
       "3            87.965000         88.376915         0.161758         0.026166   \n",
       "4            88.268333         88.538104         0.118369         0.014011   \n",
       "...                ...               ...              ...              ...   \n",
       "20569        87.389167         87.699704         0.153148         0.023454   \n",
       "20570        90.199167         90.640585         0.166249         0.027639   \n",
       "20571        88.067500         88.375510         0.133175         0.017736   \n",
       "20572        88.064167         88.389022         0.141884         0.020131   \n",
       "20573        87.605000         87.922500         0.138060         0.019061   \n",
       "\n",
       "       median_atmos_press  ptp_atmos_press  target_log  \n",
       "0               87.762083         0.257500    3.831383  \n",
       "1               90.429167         0.668333    4.383672  \n",
       "2               88.425000         0.830833    3.516349  \n",
       "3               88.400000         0.720000    4.004607  \n",
       "4               88.552500         0.450833    5.184133  \n",
       "...                   ...              ...         ...  \n",
       "20569           87.695000         0.696667         NaN  \n",
       "20570           90.660833         0.750000         NaN  \n",
       "20571           88.390833         0.595000         NaN  \n",
       "20572           88.401667         0.566667         NaN  \n",
       "20573           87.930833         0.637500         NaN  \n",
       "\n",
       "[20574 rows x 52 columns]"
      ]
     },
     "execution_count": 52,
     "metadata": {},
     "output_type": "execute_result"
    }
   ],
   "source": [
    "data"
   ]
  },
  {
   "cell_type": "code",
   "execution_count": 67,
   "metadata": {},
   "outputs": [],
   "source": [
    "data.to_csv(\"./data/data_encod.csv\")"
   ]
  },
  {
   "cell_type": "markdown",
   "metadata": {},
   "source": [
    "### original feature drop\n",
    "\n",
    "in Zindi database is done"
   ]
  },
  {
   "cell_type": "markdown",
   "metadata": {},
   "source": []
  },
  {
   "cell_type": "markdown",
   "metadata": {},
   "source": [
    "### export as csv\n"
   ]
  },
  {
   "cell_type": "code",
   "execution_count": 55,
   "metadata": {},
   "outputs": [
    {
     "ename": "ImportError",
     "evalue": "cannot import name 'FilePath' from 'pandas._typing' (/Users/kaergell/Desktop/Neue Fische/Bootcamp/Tag-28-MLproject/airquality/.venv/lib/python3.9/site-packages/pandas/_typing.py)",
     "output_type": "error",
     "traceback": [
      "\u001b[0;31m---------------------------------------------------------------------------\u001b[0m",
      "\u001b[0;31mImportError\u001b[0m                               Traceback (most recent call last)",
      "\u001b[1;32m/Users/kaergell/Desktop/Neue Fische/Bootcamp/Tag-28-MLproject/airquality/EDA-and-modeling.ipynb Cell 51'\u001b[0m in \u001b[0;36m<cell line: 1>\u001b[0;34m()\u001b[0m\n\u001b[0;32m----> <a href='vscode-notebook-cell:/Users/kaergell/Desktop/Neue%20Fische/Bootcamp/Tag-28-MLproject/airquality/EDA-and-modeling.ipynb#ch0000048?line=0'>1</a>\u001b[0m train_z\u001b[39m.\u001b[39;49mto_csv(\u001b[39m'\u001b[39;49m\u001b[39mdata/train_ours.csv\u001b[39;49m\u001b[39m'\u001b[39;49m)\n\u001b[1;32m      <a href='vscode-notebook-cell:/Users/kaergell/Desktop/Neue%20Fische/Bootcamp/Tag-28-MLproject/airquality/EDA-and-modeling.ipynb#ch0000048?line=1'>2</a>\u001b[0m test_z\u001b[39m.\u001b[39mto_csv(\u001b[39m'\u001b[39m\u001b[39mdata/test_ours.csv\u001b[39m\u001b[39m'\u001b[39m)\n",
      "File \u001b[0;32m~/Desktop/Neue Fische/Bootcamp/Tag-28-MLproject/airquality/.venv/lib/python3.9/site-packages/pandas/core/generic.py:3466\u001b[0m, in \u001b[0;36mto_csv\u001b[0;34m(self, path_or_buf, sep, na_rep, float_format, columns, header, index, index_label, mode, encoding, compression, quoting, quotechar, line_terminator, chunksize, date_format, doublequote, escapechar, decimal, errors, storage_options)\u001b[0m\n\u001b[1;32m   <a href='file:///Users/kaergell/Desktop/Neue%20Fische/Bootcamp/Tag-28-MLproject/airquality/.venv/lib/python3.9/site-packages/pandas/core/generic.py?line=3387'>3388</a>\u001b[0m \u001b[39m@final\u001b[39m\n\u001b[1;32m   <a href='file:///Users/kaergell/Desktop/Neue%20Fische/Bootcamp/Tag-28-MLproject/airquality/.venv/lib/python3.9/site-packages/pandas/core/generic.py?line=3388'>3389</a>\u001b[0m \u001b[39m@doc\u001b[39m(\n\u001b[1;32m   <a href='file:///Users/kaergell/Desktop/Neue%20Fische/Bootcamp/Tag-28-MLproject/airquality/.venv/lib/python3.9/site-packages/pandas/core/generic.py?line=3389'>3390</a>\u001b[0m     storage_options\u001b[39m=\u001b[39m_shared_docs[\u001b[39m\"\u001b[39m\u001b[39mstorage_options\u001b[39m\u001b[39m\"\u001b[39m],\n\u001b[0;32m   (...)\u001b[0m\n\u001b[1;32m   <a href='file:///Users/kaergell/Desktop/Neue%20Fische/Bootcamp/Tag-28-MLproject/airquality/.venv/lib/python3.9/site-packages/pandas/core/generic.py?line=3414'>3415</a>\u001b[0m     storage_options: StorageOptions \u001b[39m=\u001b[39m \u001b[39mNone\u001b[39;00m,\n\u001b[1;32m   <a href='file:///Users/kaergell/Desktop/Neue%20Fische/Bootcamp/Tag-28-MLproject/airquality/.venv/lib/python3.9/site-packages/pandas/core/generic.py?line=3415'>3416</a>\u001b[0m ) \u001b[39m-\u001b[39m\u001b[39m>\u001b[39m \u001b[39mstr\u001b[39m \u001b[39m|\u001b[39m \u001b[39mNone\u001b[39;00m:\n\u001b[1;32m   <a href='file:///Users/kaergell/Desktop/Neue%20Fische/Bootcamp/Tag-28-MLproject/airquality/.venv/lib/python3.9/site-packages/pandas/core/generic.py?line=3416'>3417</a>\u001b[0m     \u001b[39mr\u001b[39m\u001b[39m\"\"\"\u001b[39;00m\n\u001b[1;32m   <a href='file:///Users/kaergell/Desktop/Neue%20Fische/Bootcamp/Tag-28-MLproject/airquality/.venv/lib/python3.9/site-packages/pandas/core/generic.py?line=3417'>3418</a>\u001b[0m \u001b[39m    Write object to a comma-separated values (csv) file.\u001b[39;00m\n\u001b[1;32m   <a href='file:///Users/kaergell/Desktop/Neue%20Fische/Bootcamp/Tag-28-MLproject/airquality/.venv/lib/python3.9/site-packages/pandas/core/generic.py?line=3418'>3419</a>\u001b[0m \n\u001b[1;32m   <a href='file:///Users/kaergell/Desktop/Neue%20Fische/Bootcamp/Tag-28-MLproject/airquality/.venv/lib/python3.9/site-packages/pandas/core/generic.py?line=3419'>3420</a>\u001b[0m \u001b[39m    Parameters\u001b[39;00m\n\u001b[1;32m   <a href='file:///Users/kaergell/Desktop/Neue%20Fische/Bootcamp/Tag-28-MLproject/airquality/.venv/lib/python3.9/site-packages/pandas/core/generic.py?line=3420'>3421</a>\u001b[0m \u001b[39m    ----------\u001b[39;00m\n\u001b[1;32m   <a href='file:///Users/kaergell/Desktop/Neue%20Fische/Bootcamp/Tag-28-MLproject/airquality/.venv/lib/python3.9/site-packages/pandas/core/generic.py?line=3421'>3422</a>\u001b[0m \u001b[39m    path_or_buf : str, path object, file-like object, or None, default None\u001b[39;00m\n\u001b[1;32m   <a href='file:///Users/kaergell/Desktop/Neue%20Fische/Bootcamp/Tag-28-MLproject/airquality/.venv/lib/python3.9/site-packages/pandas/core/generic.py?line=3422'>3423</a>\u001b[0m \u001b[39m        String, path object (implementing os.PathLike[str]), or file-like\u001b[39;00m\n\u001b[1;32m   <a href='file:///Users/kaergell/Desktop/Neue%20Fische/Bootcamp/Tag-28-MLproject/airquality/.venv/lib/python3.9/site-packages/pandas/core/generic.py?line=3423'>3424</a>\u001b[0m \u001b[39m        object implementing a write() function. If None, the result is\u001b[39;00m\n\u001b[1;32m   <a href='file:///Users/kaergell/Desktop/Neue%20Fische/Bootcamp/Tag-28-MLproject/airquality/.venv/lib/python3.9/site-packages/pandas/core/generic.py?line=3424'>3425</a>\u001b[0m \u001b[39m        returned as a string. If a non-binary file object is passed, it should\u001b[39;00m\n\u001b[1;32m   <a href='file:///Users/kaergell/Desktop/Neue%20Fische/Bootcamp/Tag-28-MLproject/airquality/.venv/lib/python3.9/site-packages/pandas/core/generic.py?line=3425'>3426</a>\u001b[0m \u001b[39m        be opened with `newline=''`, disabling universal newlines. If a binary\u001b[39;00m\n\u001b[1;32m   <a href='file:///Users/kaergell/Desktop/Neue%20Fische/Bootcamp/Tag-28-MLproject/airquality/.venv/lib/python3.9/site-packages/pandas/core/generic.py?line=3426'>3427</a>\u001b[0m \u001b[39m        file object is passed, `mode` might need to contain a `'b'`.\u001b[39;00m\n\u001b[1;32m   <a href='file:///Users/kaergell/Desktop/Neue%20Fische/Bootcamp/Tag-28-MLproject/airquality/.venv/lib/python3.9/site-packages/pandas/core/generic.py?line=3427'>3428</a>\u001b[0m \n\u001b[1;32m   <a href='file:///Users/kaergell/Desktop/Neue%20Fische/Bootcamp/Tag-28-MLproject/airquality/.venv/lib/python3.9/site-packages/pandas/core/generic.py?line=3428'>3429</a>\u001b[0m \u001b[39m        .. versionchanged:: 1.2.0\u001b[39;00m\n\u001b[1;32m   <a href='file:///Users/kaergell/Desktop/Neue%20Fische/Bootcamp/Tag-28-MLproject/airquality/.venv/lib/python3.9/site-packages/pandas/core/generic.py?line=3429'>3430</a>\u001b[0m \n\u001b[1;32m   <a href='file:///Users/kaergell/Desktop/Neue%20Fische/Bootcamp/Tag-28-MLproject/airquality/.venv/lib/python3.9/site-packages/pandas/core/generic.py?line=3430'>3431</a>\u001b[0m \u001b[39m           Support for binary file objects was introduced.\u001b[39;00m\n\u001b[1;32m   <a href='file:///Users/kaergell/Desktop/Neue%20Fische/Bootcamp/Tag-28-MLproject/airquality/.venv/lib/python3.9/site-packages/pandas/core/generic.py?line=3431'>3432</a>\u001b[0m \n\u001b[1;32m   <a href='file:///Users/kaergell/Desktop/Neue%20Fische/Bootcamp/Tag-28-MLproject/airquality/.venv/lib/python3.9/site-packages/pandas/core/generic.py?line=3432'>3433</a>\u001b[0m \u001b[39m    sep : str, default ','\u001b[39;00m\n\u001b[1;32m   <a href='file:///Users/kaergell/Desktop/Neue%20Fische/Bootcamp/Tag-28-MLproject/airquality/.venv/lib/python3.9/site-packages/pandas/core/generic.py?line=3433'>3434</a>\u001b[0m \u001b[39m        String of length 1. Field delimiter for the output file.\u001b[39;00m\n\u001b[1;32m   <a href='file:///Users/kaergell/Desktop/Neue%20Fische/Bootcamp/Tag-28-MLproject/airquality/.venv/lib/python3.9/site-packages/pandas/core/generic.py?line=3434'>3435</a>\u001b[0m \u001b[39m    na_rep : str, default ''\u001b[39;00m\n\u001b[1;32m   <a href='file:///Users/kaergell/Desktop/Neue%20Fische/Bootcamp/Tag-28-MLproject/airquality/.venv/lib/python3.9/site-packages/pandas/core/generic.py?line=3435'>3436</a>\u001b[0m \u001b[39m        Missing data representation.\u001b[39;00m\n\u001b[1;32m   <a href='file:///Users/kaergell/Desktop/Neue%20Fische/Bootcamp/Tag-28-MLproject/airquality/.venv/lib/python3.9/site-packages/pandas/core/generic.py?line=3436'>3437</a>\u001b[0m \u001b[39m    float_format : str, default None\u001b[39;00m\n\u001b[1;32m   <a href='file:///Users/kaergell/Desktop/Neue%20Fische/Bootcamp/Tag-28-MLproject/airquality/.venv/lib/python3.9/site-packages/pandas/core/generic.py?line=3437'>3438</a>\u001b[0m \u001b[39m        Format string for floating point numbers.\u001b[39;00m\n\u001b[1;32m   <a href='file:///Users/kaergell/Desktop/Neue%20Fische/Bootcamp/Tag-28-MLproject/airquality/.venv/lib/python3.9/site-packages/pandas/core/generic.py?line=3438'>3439</a>\u001b[0m \u001b[39m    columns : sequence, optional\u001b[39;00m\n\u001b[1;32m   <a href='file:///Users/kaergell/Desktop/Neue%20Fische/Bootcamp/Tag-28-MLproject/airquality/.venv/lib/python3.9/site-packages/pandas/core/generic.py?line=3439'>3440</a>\u001b[0m \u001b[39m        Columns to write.\u001b[39;00m\n\u001b[1;32m   <a href='file:///Users/kaergell/Desktop/Neue%20Fische/Bootcamp/Tag-28-MLproject/airquality/.venv/lib/python3.9/site-packages/pandas/core/generic.py?line=3440'>3441</a>\u001b[0m \u001b[39m    header : bool or list of str, default True\u001b[39;00m\n\u001b[1;32m   <a href='file:///Users/kaergell/Desktop/Neue%20Fische/Bootcamp/Tag-28-MLproject/airquality/.venv/lib/python3.9/site-packages/pandas/core/generic.py?line=3441'>3442</a>\u001b[0m \u001b[39m        Write out the column names. If a list of strings is given it is\u001b[39;00m\n\u001b[1;32m   <a href='file:///Users/kaergell/Desktop/Neue%20Fische/Bootcamp/Tag-28-MLproject/airquality/.venv/lib/python3.9/site-packages/pandas/core/generic.py?line=3442'>3443</a>\u001b[0m \u001b[39m        assumed to be aliases for the column names.\u001b[39;00m\n\u001b[1;32m   <a href='file:///Users/kaergell/Desktop/Neue%20Fische/Bootcamp/Tag-28-MLproject/airquality/.venv/lib/python3.9/site-packages/pandas/core/generic.py?line=3443'>3444</a>\u001b[0m \u001b[39m    index : bool, default True\u001b[39;00m\n\u001b[1;32m   <a href='file:///Users/kaergell/Desktop/Neue%20Fische/Bootcamp/Tag-28-MLproject/airquality/.venv/lib/python3.9/site-packages/pandas/core/generic.py?line=3444'>3445</a>\u001b[0m \u001b[39m        Write row names (index).\u001b[39;00m\n\u001b[1;32m   <a href='file:///Users/kaergell/Desktop/Neue%20Fische/Bootcamp/Tag-28-MLproject/airquality/.venv/lib/python3.9/site-packages/pandas/core/generic.py?line=3445'>3446</a>\u001b[0m \u001b[39m    index_label : str or sequence, or False, default None\u001b[39;00m\n\u001b[1;32m   <a href='file:///Users/kaergell/Desktop/Neue%20Fische/Bootcamp/Tag-28-MLproject/airquality/.venv/lib/python3.9/site-packages/pandas/core/generic.py?line=3446'>3447</a>\u001b[0m \u001b[39m        Column label for index column(s) if desired. If None is given, and\u001b[39;00m\n\u001b[1;32m   <a href='file:///Users/kaergell/Desktop/Neue%20Fische/Bootcamp/Tag-28-MLproject/airquality/.venv/lib/python3.9/site-packages/pandas/core/generic.py?line=3447'>3448</a>\u001b[0m \u001b[39m        `header` and `index` are True, then the index names are used. A\u001b[39;00m\n\u001b[1;32m   <a href='file:///Users/kaergell/Desktop/Neue%20Fische/Bootcamp/Tag-28-MLproject/airquality/.venv/lib/python3.9/site-packages/pandas/core/generic.py?line=3448'>3449</a>\u001b[0m \u001b[39m        sequence should be given if the object uses MultiIndex. If\u001b[39;00m\n\u001b[1;32m   <a href='file:///Users/kaergell/Desktop/Neue%20Fische/Bootcamp/Tag-28-MLproject/airquality/.venv/lib/python3.9/site-packages/pandas/core/generic.py?line=3449'>3450</a>\u001b[0m \u001b[39m        False do not print fields for index names. Use index_label=False\u001b[39;00m\n\u001b[1;32m   <a href='file:///Users/kaergell/Desktop/Neue%20Fische/Bootcamp/Tag-28-MLproject/airquality/.venv/lib/python3.9/site-packages/pandas/core/generic.py?line=3450'>3451</a>\u001b[0m \u001b[39m        for easier importing in R.\u001b[39;00m\n\u001b[1;32m   <a href='file:///Users/kaergell/Desktop/Neue%20Fische/Bootcamp/Tag-28-MLproject/airquality/.venv/lib/python3.9/site-packages/pandas/core/generic.py?line=3451'>3452</a>\u001b[0m \u001b[39m    mode : str\u001b[39;00m\n\u001b[1;32m   <a href='file:///Users/kaergell/Desktop/Neue%20Fische/Bootcamp/Tag-28-MLproject/airquality/.venv/lib/python3.9/site-packages/pandas/core/generic.py?line=3452'>3453</a>\u001b[0m \u001b[39m        Python write mode, default 'w'.\u001b[39;00m\n\u001b[1;32m   <a href='file:///Users/kaergell/Desktop/Neue%20Fische/Bootcamp/Tag-28-MLproject/airquality/.venv/lib/python3.9/site-packages/pandas/core/generic.py?line=3453'>3454</a>\u001b[0m \u001b[39m    encoding : str, optional\u001b[39;00m\n\u001b[1;32m   <a href='file:///Users/kaergell/Desktop/Neue%20Fische/Bootcamp/Tag-28-MLproject/airquality/.venv/lib/python3.9/site-packages/pandas/core/generic.py?line=3454'>3455</a>\u001b[0m \u001b[39m        A string representing the encoding to use in the output file,\u001b[39;00m\n\u001b[1;32m   <a href='file:///Users/kaergell/Desktop/Neue%20Fische/Bootcamp/Tag-28-MLproject/airquality/.venv/lib/python3.9/site-packages/pandas/core/generic.py?line=3455'>3456</a>\u001b[0m \u001b[39m        defaults to 'utf-8'. `encoding` is not supported if `path_or_buf`\u001b[39;00m\n\u001b[1;32m   <a href='file:///Users/kaergell/Desktop/Neue%20Fische/Bootcamp/Tag-28-MLproject/airquality/.venv/lib/python3.9/site-packages/pandas/core/generic.py?line=3456'>3457</a>\u001b[0m \u001b[39m        is a non-binary file object.\u001b[39;00m\n\u001b[1;32m   <a href='file:///Users/kaergell/Desktop/Neue%20Fische/Bootcamp/Tag-28-MLproject/airquality/.venv/lib/python3.9/site-packages/pandas/core/generic.py?line=3457'>3458</a>\u001b[0m \u001b[39m    {compression_options}\u001b[39;00m\n\u001b[1;32m   <a href='file:///Users/kaergell/Desktop/Neue%20Fische/Bootcamp/Tag-28-MLproject/airquality/.venv/lib/python3.9/site-packages/pandas/core/generic.py?line=3458'>3459</a>\u001b[0m \n\u001b[1;32m   <a href='file:///Users/kaergell/Desktop/Neue%20Fische/Bootcamp/Tag-28-MLproject/airquality/.venv/lib/python3.9/site-packages/pandas/core/generic.py?line=3459'>3460</a>\u001b[0m \u001b[39m        .. versionchanged:: 1.0.0\u001b[39;00m\n\u001b[1;32m   <a href='file:///Users/kaergell/Desktop/Neue%20Fische/Bootcamp/Tag-28-MLproject/airquality/.venv/lib/python3.9/site-packages/pandas/core/generic.py?line=3460'>3461</a>\u001b[0m \n\u001b[1;32m   <a href='file:///Users/kaergell/Desktop/Neue%20Fische/Bootcamp/Tag-28-MLproject/airquality/.venv/lib/python3.9/site-packages/pandas/core/generic.py?line=3461'>3462</a>\u001b[0m \u001b[39m           May now be a dict with key 'method' as compression mode\u001b[39;00m\n\u001b[1;32m   <a href='file:///Users/kaergell/Desktop/Neue%20Fische/Bootcamp/Tag-28-MLproject/airquality/.venv/lib/python3.9/site-packages/pandas/core/generic.py?line=3462'>3463</a>\u001b[0m \u001b[39m           and other entries as additional compression options if\u001b[39;00m\n\u001b[1;32m   <a href='file:///Users/kaergell/Desktop/Neue%20Fische/Bootcamp/Tag-28-MLproject/airquality/.venv/lib/python3.9/site-packages/pandas/core/generic.py?line=3463'>3464</a>\u001b[0m \u001b[39m           compression mode is 'zip'.\u001b[39;00m\n\u001b[1;32m   <a href='file:///Users/kaergell/Desktop/Neue%20Fische/Bootcamp/Tag-28-MLproject/airquality/.venv/lib/python3.9/site-packages/pandas/core/generic.py?line=3464'>3465</a>\u001b[0m \n\u001b[0;32m-> <a href='file:///Users/kaergell/Desktop/Neue%20Fische/Bootcamp/Tag-28-MLproject/airquality/.venv/lib/python3.9/site-packages/pandas/core/generic.py?line=3465'>3466</a>\u001b[0m \u001b[39m        .. versionchanged:: 1.1.0\u001b[39;00m\n\u001b[1;32m   <a href='file:///Users/kaergell/Desktop/Neue%20Fische/Bootcamp/Tag-28-MLproject/airquality/.venv/lib/python3.9/site-packages/pandas/core/generic.py?line=3466'>3467</a>\u001b[0m \n\u001b[1;32m   <a href='file:///Users/kaergell/Desktop/Neue%20Fische/Bootcamp/Tag-28-MLproject/airquality/.venv/lib/python3.9/site-packages/pandas/core/generic.py?line=3467'>3468</a>\u001b[0m \u001b[39m           Passing compression options as keys in dict is\u001b[39;00m\n\u001b[1;32m   <a href='file:///Users/kaergell/Desktop/Neue%20Fische/Bootcamp/Tag-28-MLproject/airquality/.venv/lib/python3.9/site-packages/pandas/core/generic.py?line=3468'>3469</a>\u001b[0m \u001b[39m           supported for compression modes 'gzip', 'bz2', 'zstd', and 'zip'.\u001b[39;00m\n\u001b[1;32m   <a href='file:///Users/kaergell/Desktop/Neue%20Fische/Bootcamp/Tag-28-MLproject/airquality/.venv/lib/python3.9/site-packages/pandas/core/generic.py?line=3469'>3470</a>\u001b[0m \n\u001b[1;32m   <a href='file:///Users/kaergell/Desktop/Neue%20Fische/Bootcamp/Tag-28-MLproject/airquality/.venv/lib/python3.9/site-packages/pandas/core/generic.py?line=3470'>3471</a>\u001b[0m \u001b[39m        .. versionchanged:: 1.2.0\u001b[39;00m\n\u001b[1;32m   <a href='file:///Users/kaergell/Desktop/Neue%20Fische/Bootcamp/Tag-28-MLproject/airquality/.venv/lib/python3.9/site-packages/pandas/core/generic.py?line=3471'>3472</a>\u001b[0m \n\u001b[1;32m   <a href='file:///Users/kaergell/Desktop/Neue%20Fische/Bootcamp/Tag-28-MLproject/airquality/.venv/lib/python3.9/site-packages/pandas/core/generic.py?line=3472'>3473</a>\u001b[0m \u001b[39m            Compression is supported for binary file objects.\u001b[39;00m\n\u001b[1;32m   <a href='file:///Users/kaergell/Desktop/Neue%20Fische/Bootcamp/Tag-28-MLproject/airquality/.venv/lib/python3.9/site-packages/pandas/core/generic.py?line=3473'>3474</a>\u001b[0m \n\u001b[1;32m   <a href='file:///Users/kaergell/Desktop/Neue%20Fische/Bootcamp/Tag-28-MLproject/airquality/.venv/lib/python3.9/site-packages/pandas/core/generic.py?line=3474'>3475</a>\u001b[0m \u001b[39m        .. versionchanged:: 1.2.0\u001b[39;00m\n\u001b[1;32m   <a href='file:///Users/kaergell/Desktop/Neue%20Fische/Bootcamp/Tag-28-MLproject/airquality/.venv/lib/python3.9/site-packages/pandas/core/generic.py?line=3475'>3476</a>\u001b[0m \n\u001b[1;32m   <a href='file:///Users/kaergell/Desktop/Neue%20Fische/Bootcamp/Tag-28-MLproject/airquality/.venv/lib/python3.9/site-packages/pandas/core/generic.py?line=3476'>3477</a>\u001b[0m \u001b[39m            Previous versions forwarded dict entries for 'gzip' to\u001b[39;00m\n\u001b[1;32m   <a href='file:///Users/kaergell/Desktop/Neue%20Fische/Bootcamp/Tag-28-MLproject/airquality/.venv/lib/python3.9/site-packages/pandas/core/generic.py?line=3477'>3478</a>\u001b[0m \u001b[39m            `gzip.open` instead of `gzip.GzipFile` which prevented\u001b[39;00m\n\u001b[1;32m   <a href='file:///Users/kaergell/Desktop/Neue%20Fische/Bootcamp/Tag-28-MLproject/airquality/.venv/lib/python3.9/site-packages/pandas/core/generic.py?line=3478'>3479</a>\u001b[0m \u001b[39m            setting `mtime`.\u001b[39;00m\n\u001b[1;32m   <a href='file:///Users/kaergell/Desktop/Neue%20Fische/Bootcamp/Tag-28-MLproject/airquality/.venv/lib/python3.9/site-packages/pandas/core/generic.py?line=3479'>3480</a>\u001b[0m \n\u001b[1;32m   <a href='file:///Users/kaergell/Desktop/Neue%20Fische/Bootcamp/Tag-28-MLproject/airquality/.venv/lib/python3.9/site-packages/pandas/core/generic.py?line=3480'>3481</a>\u001b[0m \u001b[39m    quoting : optional constant from csv module\u001b[39;00m\n\u001b[1;32m   <a href='file:///Users/kaergell/Desktop/Neue%20Fische/Bootcamp/Tag-28-MLproject/airquality/.venv/lib/python3.9/site-packages/pandas/core/generic.py?line=3481'>3482</a>\u001b[0m \u001b[39m        Defaults to csv.QUOTE_MINIMAL. If you have set a `float_format`\u001b[39;00m\n\u001b[1;32m   <a href='file:///Users/kaergell/Desktop/Neue%20Fische/Bootcamp/Tag-28-MLproject/airquality/.venv/lib/python3.9/site-packages/pandas/core/generic.py?line=3482'>3483</a>\u001b[0m \u001b[39m        then floats are converted to strings and thus csv.QUOTE_NONNUMERIC\u001b[39;00m\n\u001b[1;32m   <a href='file:///Users/kaergell/Desktop/Neue%20Fische/Bootcamp/Tag-28-MLproject/airquality/.venv/lib/python3.9/site-packages/pandas/core/generic.py?line=3483'>3484</a>\u001b[0m \u001b[39m        will treat them as non-numeric.\u001b[39;00m\n\u001b[1;32m   <a href='file:///Users/kaergell/Desktop/Neue%20Fische/Bootcamp/Tag-28-MLproject/airquality/.venv/lib/python3.9/site-packages/pandas/core/generic.py?line=3484'>3485</a>\u001b[0m \u001b[39m    quotechar : str, default '\\\"'\u001b[39;00m\n\u001b[1;32m   <a href='file:///Users/kaergell/Desktop/Neue%20Fische/Bootcamp/Tag-28-MLproject/airquality/.venv/lib/python3.9/site-packages/pandas/core/generic.py?line=3485'>3486</a>\u001b[0m \u001b[39m        String of length 1. Character used to quote fields.\u001b[39;00m\n\u001b[1;32m   <a href='file:///Users/kaergell/Desktop/Neue%20Fische/Bootcamp/Tag-28-MLproject/airquality/.venv/lib/python3.9/site-packages/pandas/core/generic.py?line=3486'>3487</a>\u001b[0m \u001b[39m    line_terminator : str, optional\u001b[39;00m\n\u001b[1;32m   <a href='file:///Users/kaergell/Desktop/Neue%20Fische/Bootcamp/Tag-28-MLproject/airquality/.venv/lib/python3.9/site-packages/pandas/core/generic.py?line=3487'>3488</a>\u001b[0m \u001b[39m        The newline character or character sequence to use in the output\u001b[39;00m\n\u001b[1;32m   <a href='file:///Users/kaergell/Desktop/Neue%20Fische/Bootcamp/Tag-28-MLproject/airquality/.venv/lib/python3.9/site-packages/pandas/core/generic.py?line=3488'>3489</a>\u001b[0m \u001b[39m        file. Defaults to `os.linesep`, which depends on the OS in which\u001b[39;00m\n\u001b[1;32m   <a href='file:///Users/kaergell/Desktop/Neue%20Fische/Bootcamp/Tag-28-MLproject/airquality/.venv/lib/python3.9/site-packages/pandas/core/generic.py?line=3489'>3490</a>\u001b[0m \u001b[39m        this method is called ('\\\\n' for linux, '\\\\r\\\\n' for Windows, i.e.).\u001b[39;00m\n\u001b[1;32m   <a href='file:///Users/kaergell/Desktop/Neue%20Fische/Bootcamp/Tag-28-MLproject/airquality/.venv/lib/python3.9/site-packages/pandas/core/generic.py?line=3490'>3491</a>\u001b[0m \u001b[39m    chunksize : int or None\u001b[39;00m\n\u001b[1;32m   <a href='file:///Users/kaergell/Desktop/Neue%20Fische/Bootcamp/Tag-28-MLproject/airquality/.venv/lib/python3.9/site-packages/pandas/core/generic.py?line=3491'>3492</a>\u001b[0m \u001b[39m        Rows to write at a time.\u001b[39;00m\n\u001b[1;32m   <a href='file:///Users/kaergell/Desktop/Neue%20Fische/Bootcamp/Tag-28-MLproject/airquality/.venv/lib/python3.9/site-packages/pandas/core/generic.py?line=3492'>3493</a>\u001b[0m \u001b[39m    date_format : str, default None\u001b[39;00m\n\u001b[1;32m   <a href='file:///Users/kaergell/Desktop/Neue%20Fische/Bootcamp/Tag-28-MLproject/airquality/.venv/lib/python3.9/site-packages/pandas/core/generic.py?line=3493'>3494</a>\u001b[0m \u001b[39m        Format string for datetime objects.\u001b[39;00m\n\u001b[1;32m   <a href='file:///Users/kaergell/Desktop/Neue%20Fische/Bootcamp/Tag-28-MLproject/airquality/.venv/lib/python3.9/site-packages/pandas/core/generic.py?line=3494'>3495</a>\u001b[0m \u001b[39m    doublequote : bool, default True\u001b[39;00m\n\u001b[1;32m   <a href='file:///Users/kaergell/Desktop/Neue%20Fische/Bootcamp/Tag-28-MLproject/airquality/.venv/lib/python3.9/site-packages/pandas/core/generic.py?line=3495'>3496</a>\u001b[0m \u001b[39m        Control quoting of `quotechar` inside a field.\u001b[39;00m\n\u001b[1;32m   <a href='file:///Users/kaergell/Desktop/Neue%20Fische/Bootcamp/Tag-28-MLproject/airquality/.venv/lib/python3.9/site-packages/pandas/core/generic.py?line=3496'>3497</a>\u001b[0m \u001b[39m    escapechar : str, default None\u001b[39;00m\n\u001b[1;32m   <a href='file:///Users/kaergell/Desktop/Neue%20Fische/Bootcamp/Tag-28-MLproject/airquality/.venv/lib/python3.9/site-packages/pandas/core/generic.py?line=3497'>3498</a>\u001b[0m \u001b[39m        String of length 1. Character used to escape `sep` and `quotechar`\u001b[39;00m\n\u001b[1;32m   <a href='file:///Users/kaergell/Desktop/Neue%20Fische/Bootcamp/Tag-28-MLproject/airquality/.venv/lib/python3.9/site-packages/pandas/core/generic.py?line=3498'>3499</a>\u001b[0m \u001b[39m        when appropriate.\u001b[39;00m\n\u001b[1;32m   <a href='file:///Users/kaergell/Desktop/Neue%20Fische/Bootcamp/Tag-28-MLproject/airquality/.venv/lib/python3.9/site-packages/pandas/core/generic.py?line=3499'>3500</a>\u001b[0m \u001b[39m    decimal : str, default '.'\u001b[39;00m\n\u001b[1;32m   <a href='file:///Users/kaergell/Desktop/Neue%20Fische/Bootcamp/Tag-28-MLproject/airquality/.venv/lib/python3.9/site-packages/pandas/core/generic.py?line=3500'>3501</a>\u001b[0m \u001b[39m        Character recognized as decimal separator. E.g. use ',' for\u001b[39;00m\n\u001b[1;32m   <a href='file:///Users/kaergell/Desktop/Neue%20Fische/Bootcamp/Tag-28-MLproject/airquality/.venv/lib/python3.9/site-packages/pandas/core/generic.py?line=3501'>3502</a>\u001b[0m \u001b[39m        European data.\u001b[39;00m\n\u001b[1;32m   <a href='file:///Users/kaergell/Desktop/Neue%20Fische/Bootcamp/Tag-28-MLproject/airquality/.venv/lib/python3.9/site-packages/pandas/core/generic.py?line=3502'>3503</a>\u001b[0m \u001b[39m    errors : str, default 'strict'\u001b[39;00m\n\u001b[1;32m   <a href='file:///Users/kaergell/Desktop/Neue%20Fische/Bootcamp/Tag-28-MLproject/airquality/.venv/lib/python3.9/site-packages/pandas/core/generic.py?line=3503'>3504</a>\u001b[0m \u001b[39m        Specifies how encoding and decoding errors are to be handled.\u001b[39;00m\n\u001b[1;32m   <a href='file:///Users/kaergell/Desktop/Neue%20Fische/Bootcamp/Tag-28-MLproject/airquality/.venv/lib/python3.9/site-packages/pandas/core/generic.py?line=3504'>3505</a>\u001b[0m \u001b[39m        See the errors argument for :func:`open` for a full list\u001b[39;00m\n\u001b[1;32m   <a href='file:///Users/kaergell/Desktop/Neue%20Fische/Bootcamp/Tag-28-MLproject/airquality/.venv/lib/python3.9/site-packages/pandas/core/generic.py?line=3505'>3506</a>\u001b[0m \u001b[39m        of options.\u001b[39;00m\n\u001b[1;32m   <a href='file:///Users/kaergell/Desktop/Neue%20Fische/Bootcamp/Tag-28-MLproject/airquality/.venv/lib/python3.9/site-packages/pandas/core/generic.py?line=3506'>3507</a>\u001b[0m \n\u001b[1;32m   <a href='file:///Users/kaergell/Desktop/Neue%20Fische/Bootcamp/Tag-28-MLproject/airquality/.venv/lib/python3.9/site-packages/pandas/core/generic.py?line=3507'>3508</a>\u001b[0m \u001b[39m        .. versionadded:: 1.1.0\u001b[39;00m\n\u001b[1;32m   <a href='file:///Users/kaergell/Desktop/Neue%20Fische/Bootcamp/Tag-28-MLproject/airquality/.venv/lib/python3.9/site-packages/pandas/core/generic.py?line=3508'>3509</a>\u001b[0m \n\u001b[1;32m   <a href='file:///Users/kaergell/Desktop/Neue%20Fische/Bootcamp/Tag-28-MLproject/airquality/.venv/lib/python3.9/site-packages/pandas/core/generic.py?line=3509'>3510</a>\u001b[0m \u001b[39m    {storage_options}\u001b[39;00m\n\u001b[1;32m   <a href='file:///Users/kaergell/Desktop/Neue%20Fische/Bootcamp/Tag-28-MLproject/airquality/.venv/lib/python3.9/site-packages/pandas/core/generic.py?line=3510'>3511</a>\u001b[0m \n\u001b[1;32m   <a href='file:///Users/kaergell/Desktop/Neue%20Fische/Bootcamp/Tag-28-MLproject/airquality/.venv/lib/python3.9/site-packages/pandas/core/generic.py?line=3511'>3512</a>\u001b[0m \u001b[39m        .. versionadded:: 1.2.0\u001b[39;00m\n\u001b[1;32m   <a href='file:///Users/kaergell/Desktop/Neue%20Fische/Bootcamp/Tag-28-MLproject/airquality/.venv/lib/python3.9/site-packages/pandas/core/generic.py?line=3512'>3513</a>\u001b[0m \n\u001b[1;32m   <a href='file:///Users/kaergell/Desktop/Neue%20Fische/Bootcamp/Tag-28-MLproject/airquality/.venv/lib/python3.9/site-packages/pandas/core/generic.py?line=3513'>3514</a>\u001b[0m \u001b[39m    Returns\u001b[39;00m\n\u001b[1;32m   <a href='file:///Users/kaergell/Desktop/Neue%20Fische/Bootcamp/Tag-28-MLproject/airquality/.venv/lib/python3.9/site-packages/pandas/core/generic.py?line=3514'>3515</a>\u001b[0m \u001b[39m    -------\u001b[39;00m\n\u001b[1;32m   <a href='file:///Users/kaergell/Desktop/Neue%20Fische/Bootcamp/Tag-28-MLproject/airquality/.venv/lib/python3.9/site-packages/pandas/core/generic.py?line=3515'>3516</a>\u001b[0m \u001b[39m    None or str\u001b[39;00m\n\u001b[1;32m   <a href='file:///Users/kaergell/Desktop/Neue%20Fische/Bootcamp/Tag-28-MLproject/airquality/.venv/lib/python3.9/site-packages/pandas/core/generic.py?line=3516'>3517</a>\u001b[0m \u001b[39m        If path_or_buf is None, returns the resulting csv format as a\u001b[39;00m\n\u001b[1;32m   <a href='file:///Users/kaergell/Desktop/Neue%20Fische/Bootcamp/Tag-28-MLproject/airquality/.venv/lib/python3.9/site-packages/pandas/core/generic.py?line=3517'>3518</a>\u001b[0m \u001b[39m        string. Otherwise returns None.\u001b[39;00m\n\u001b[1;32m   <a href='file:///Users/kaergell/Desktop/Neue%20Fische/Bootcamp/Tag-28-MLproject/airquality/.venv/lib/python3.9/site-packages/pandas/core/generic.py?line=3518'>3519</a>\u001b[0m \n\u001b[1;32m   <a href='file:///Users/kaergell/Desktop/Neue%20Fische/Bootcamp/Tag-28-MLproject/airquality/.venv/lib/python3.9/site-packages/pandas/core/generic.py?line=3519'>3520</a>\u001b[0m \u001b[39m    See Also\u001b[39;00m\n\u001b[1;32m   <a href='file:///Users/kaergell/Desktop/Neue%20Fische/Bootcamp/Tag-28-MLproject/airquality/.venv/lib/python3.9/site-packages/pandas/core/generic.py?line=3520'>3521</a>\u001b[0m \u001b[39m    --------\u001b[39;00m\n\u001b[1;32m   <a href='file:///Users/kaergell/Desktop/Neue%20Fische/Bootcamp/Tag-28-MLproject/airquality/.venv/lib/python3.9/site-packages/pandas/core/generic.py?line=3521'>3522</a>\u001b[0m \u001b[39m    read_csv : Load a CSV file into a DataFrame.\u001b[39;00m\n\u001b[1;32m   <a href='file:///Users/kaergell/Desktop/Neue%20Fische/Bootcamp/Tag-28-MLproject/airquality/.venv/lib/python3.9/site-packages/pandas/core/generic.py?line=3522'>3523</a>\u001b[0m \u001b[39m    to_excel : Write DataFrame to an Excel file.\u001b[39;00m\n\u001b[1;32m   <a href='file:///Users/kaergell/Desktop/Neue%20Fische/Bootcamp/Tag-28-MLproject/airquality/.venv/lib/python3.9/site-packages/pandas/core/generic.py?line=3523'>3524</a>\u001b[0m \n\u001b[1;32m   <a href='file:///Users/kaergell/Desktop/Neue%20Fische/Bootcamp/Tag-28-MLproject/airquality/.venv/lib/python3.9/site-packages/pandas/core/generic.py?line=3524'>3525</a>\u001b[0m \u001b[39m    Examples\u001b[39;00m\n\u001b[1;32m   <a href='file:///Users/kaergell/Desktop/Neue%20Fische/Bootcamp/Tag-28-MLproject/airquality/.venv/lib/python3.9/site-packages/pandas/core/generic.py?line=3525'>3526</a>\u001b[0m \u001b[39m    --------\u001b[39;00m\n\u001b[1;32m   <a href='file:///Users/kaergell/Desktop/Neue%20Fische/Bootcamp/Tag-28-MLproject/airquality/.venv/lib/python3.9/site-packages/pandas/core/generic.py?line=3526'>3527</a>\u001b[0m \u001b[39m    >>> df = pd.DataFrame({{'name': ['Raphael', 'Donatello'],\u001b[39;00m\n\u001b[1;32m   <a href='file:///Users/kaergell/Desktop/Neue%20Fische/Bootcamp/Tag-28-MLproject/airquality/.venv/lib/python3.9/site-packages/pandas/core/generic.py?line=3527'>3528</a>\u001b[0m \u001b[39m    ...                    'mask': ['red', 'purple'],\u001b[39;00m\n\u001b[1;32m   <a href='file:///Users/kaergell/Desktop/Neue%20Fische/Bootcamp/Tag-28-MLproject/airquality/.venv/lib/python3.9/site-packages/pandas/core/generic.py?line=3528'>3529</a>\u001b[0m \u001b[39m    ...                    'weapon': ['sai', 'bo staff']}})\u001b[39;00m\n\u001b[1;32m   <a href='file:///Users/kaergell/Desktop/Neue%20Fische/Bootcamp/Tag-28-MLproject/airquality/.venv/lib/python3.9/site-packages/pandas/core/generic.py?line=3529'>3530</a>\u001b[0m \u001b[39m    >>> df.to_csv(index=False)\u001b[39;00m\n\u001b[1;32m   <a href='file:///Users/kaergell/Desktop/Neue%20Fische/Bootcamp/Tag-28-MLproject/airquality/.venv/lib/python3.9/site-packages/pandas/core/generic.py?line=3530'>3531</a>\u001b[0m \u001b[39m    'name,mask,weapon\\nRaphael,red,sai\\nDonatello,purple,bo staff\\n'\u001b[39;00m\n\u001b[1;32m   <a href='file:///Users/kaergell/Desktop/Neue%20Fische/Bootcamp/Tag-28-MLproject/airquality/.venv/lib/python3.9/site-packages/pandas/core/generic.py?line=3531'>3532</a>\u001b[0m \n\u001b[1;32m   <a href='file:///Users/kaergell/Desktop/Neue%20Fische/Bootcamp/Tag-28-MLproject/airquality/.venv/lib/python3.9/site-packages/pandas/core/generic.py?line=3532'>3533</a>\u001b[0m \u001b[39m    Create 'out.zip' containing 'out.csv'\u001b[39;00m\n\u001b[1;32m   <a href='file:///Users/kaergell/Desktop/Neue%20Fische/Bootcamp/Tag-28-MLproject/airquality/.venv/lib/python3.9/site-packages/pandas/core/generic.py?line=3533'>3534</a>\u001b[0m \n\u001b[1;32m   <a href='file:///Users/kaergell/Desktop/Neue%20Fische/Bootcamp/Tag-28-MLproject/airquality/.venv/lib/python3.9/site-packages/pandas/core/generic.py?line=3534'>3535</a>\u001b[0m \u001b[39m    >>> compression_opts = dict(method='zip',\u001b[39;00m\n\u001b[1;32m   <a href='file:///Users/kaergell/Desktop/Neue%20Fische/Bootcamp/Tag-28-MLproject/airquality/.venv/lib/python3.9/site-packages/pandas/core/generic.py?line=3535'>3536</a>\u001b[0m \u001b[39m    ...                         archive_name='out.csv')  # doctest: +SKIP\u001b[39;00m\n\u001b[1;32m   <a href='file:///Users/kaergell/Desktop/Neue%20Fische/Bootcamp/Tag-28-MLproject/airquality/.venv/lib/python3.9/site-packages/pandas/core/generic.py?line=3536'>3537</a>\u001b[0m \u001b[39m    >>> df.to_csv('out.zip', index=False,\u001b[39;00m\n\u001b[1;32m   <a href='file:///Users/kaergell/Desktop/Neue%20Fische/Bootcamp/Tag-28-MLproject/airquality/.venv/lib/python3.9/site-packages/pandas/core/generic.py?line=3537'>3538</a>\u001b[0m \u001b[39m    ...           compression=compression_opts)  # doctest: +SKIP\u001b[39;00m\n\u001b[1;32m   <a href='file:///Users/kaergell/Desktop/Neue%20Fische/Bootcamp/Tag-28-MLproject/airquality/.venv/lib/python3.9/site-packages/pandas/core/generic.py?line=3538'>3539</a>\u001b[0m \n\u001b[1;32m   <a href='file:///Users/kaergell/Desktop/Neue%20Fische/Bootcamp/Tag-28-MLproject/airquality/.venv/lib/python3.9/site-packages/pandas/core/generic.py?line=3539'>3540</a>\u001b[0m \u001b[39m    To write a csv file to a new folder or nested folder you will first\u001b[39;00m\n\u001b[1;32m   <a href='file:///Users/kaergell/Desktop/Neue%20Fische/Bootcamp/Tag-28-MLproject/airquality/.venv/lib/python3.9/site-packages/pandas/core/generic.py?line=3540'>3541</a>\u001b[0m \u001b[39m    need to create it using either Pathlib or os:\u001b[39;00m\n\u001b[1;32m   <a href='file:///Users/kaergell/Desktop/Neue%20Fische/Bootcamp/Tag-28-MLproject/airquality/.venv/lib/python3.9/site-packages/pandas/core/generic.py?line=3541'>3542</a>\u001b[0m \n\u001b[1;32m   <a href='file:///Users/kaergell/Desktop/Neue%20Fische/Bootcamp/Tag-28-MLproject/airquality/.venv/lib/python3.9/site-packages/pandas/core/generic.py?line=3542'>3543</a>\u001b[0m \u001b[39m    >>> from pathlib import Path  # doctest: +SKIP\u001b[39;00m\n\u001b[1;32m   <a href='file:///Users/kaergell/Desktop/Neue%20Fische/Bootcamp/Tag-28-MLproject/airquality/.venv/lib/python3.9/site-packages/pandas/core/generic.py?line=3543'>3544</a>\u001b[0m \u001b[39m    >>> filepath = Path('folder/subfolder/out.csv')  # doctest: +SKIP\u001b[39;00m\n\u001b[1;32m   <a href='file:///Users/kaergell/Desktop/Neue%20Fische/Bootcamp/Tag-28-MLproject/airquality/.venv/lib/python3.9/site-packages/pandas/core/generic.py?line=3544'>3545</a>\u001b[0m \u001b[39m    >>> filepath.parent.mkdir(parents=True, exist_ok=True)  # doctest: +SKIP\u001b[39;00m\n\u001b[1;32m   <a href='file:///Users/kaergell/Desktop/Neue%20Fische/Bootcamp/Tag-28-MLproject/airquality/.venv/lib/python3.9/site-packages/pandas/core/generic.py?line=3545'>3546</a>\u001b[0m \u001b[39m    >>> df.to_csv(filepath)  # doctest: +SKIP\u001b[39;00m\n\u001b[1;32m   <a href='file:///Users/kaergell/Desktop/Neue%20Fische/Bootcamp/Tag-28-MLproject/airquality/.venv/lib/python3.9/site-packages/pandas/core/generic.py?line=3546'>3547</a>\u001b[0m \n\u001b[1;32m   <a href='file:///Users/kaergell/Desktop/Neue%20Fische/Bootcamp/Tag-28-MLproject/airquality/.venv/lib/python3.9/site-packages/pandas/core/generic.py?line=3547'>3548</a>\u001b[0m \u001b[39m    >>> import os  # doctest: +SKIP\u001b[39;00m\n\u001b[1;32m   <a href='file:///Users/kaergell/Desktop/Neue%20Fische/Bootcamp/Tag-28-MLproject/airquality/.venv/lib/python3.9/site-packages/pandas/core/generic.py?line=3548'>3549</a>\u001b[0m \u001b[39m    >>> os.makedirs('folder/subfolder', exist_ok=True)  # doctest: +SKIP\u001b[39;00m\n\u001b[1;32m   <a href='file:///Users/kaergell/Desktop/Neue%20Fische/Bootcamp/Tag-28-MLproject/airquality/.venv/lib/python3.9/site-packages/pandas/core/generic.py?line=3549'>3550</a>\u001b[0m \u001b[39m    >>> df.to_csv('folder/subfolder/out.csv')  # doctest: +SKIP\u001b[39;00m\n\u001b[1;32m   <a href='file:///Users/kaergell/Desktop/Neue%20Fische/Bootcamp/Tag-28-MLproject/airquality/.venv/lib/python3.9/site-packages/pandas/core/generic.py?line=3550'>3551</a>\u001b[0m \u001b[39m    \"\"\"\u001b[39;00m\n\u001b[1;32m   <a href='file:///Users/kaergell/Desktop/Neue%20Fische/Bootcamp/Tag-28-MLproject/airquality/.venv/lib/python3.9/site-packages/pandas/core/generic.py?line=3551'>3552</a>\u001b[0m     df \u001b[39m=\u001b[39m \u001b[39mself\u001b[39m \u001b[39mif\u001b[39;00m \u001b[39misinstance\u001b[39m(\u001b[39mself\u001b[39m, ABCDataFrame) \u001b[39melse\u001b[39;00m \u001b[39mself\u001b[39m\u001b[39m.\u001b[39mto_frame()\n\u001b[1;32m   <a href='file:///Users/kaergell/Desktop/Neue%20Fische/Bootcamp/Tag-28-MLproject/airquality/.venv/lib/python3.9/site-packages/pandas/core/generic.py?line=3553'>3554</a>\u001b[0m     formatter \u001b[39m=\u001b[39m DataFrameFormatter(\n\u001b[1;32m   <a href='file:///Users/kaergell/Desktop/Neue%20Fische/Bootcamp/Tag-28-MLproject/airquality/.venv/lib/python3.9/site-packages/pandas/core/generic.py?line=3554'>3555</a>\u001b[0m         frame\u001b[39m=\u001b[39mdf,\n\u001b[1;32m   <a href='file:///Users/kaergell/Desktop/Neue%20Fische/Bootcamp/Tag-28-MLproject/airquality/.venv/lib/python3.9/site-packages/pandas/core/generic.py?line=3555'>3556</a>\u001b[0m         header\u001b[39m=\u001b[39mheader,\n\u001b[0;32m   (...)\u001b[0m\n\u001b[1;32m   <a href='file:///Users/kaergell/Desktop/Neue%20Fische/Bootcamp/Tag-28-MLproject/airquality/.venv/lib/python3.9/site-packages/pandas/core/generic.py?line=3559'>3560</a>\u001b[0m         decimal\u001b[39m=\u001b[39mdecimal,\n\u001b[1;32m   <a href='file:///Users/kaergell/Desktop/Neue%20Fische/Bootcamp/Tag-28-MLproject/airquality/.venv/lib/python3.9/site-packages/pandas/core/generic.py?line=3560'>3561</a>\u001b[0m     )\n",
      "File \u001b[0;32m~/Desktop/Neue Fische/Bootcamp/Tag-28-MLproject/airquality/.venv/lib/python3.9/site-packages/pandas/io/formats/format.py:1078\u001b[0m, in \u001b[0;36mto_csv\u001b[0;34m(self, path_or_buf, encoding, sep, columns, index_label, mode, compression, quoting, quotechar, line_terminator, chunksize, date_format, doublequote, escapechar, errors, storage_options)\u001b[0m\n\u001b[1;32m   <a href='file:///Users/kaergell/Desktop/Neue%20Fische/Bootcamp/Tag-28-MLproject/airquality/.venv/lib/python3.9/site-packages/pandas/io/formats/format.py?line=1053'>1054</a>\u001b[0m \u001b[39mdef\u001b[39;00m \u001b[39mto_html\u001b[39m(\n\u001b[1;32m   <a href='file:///Users/kaergell/Desktop/Neue%20Fische/Bootcamp/Tag-28-MLproject/airquality/.venv/lib/python3.9/site-packages/pandas/io/formats/format.py?line=1054'>1055</a>\u001b[0m     \u001b[39mself\u001b[39m,\n\u001b[1;32m   <a href='file:///Users/kaergell/Desktop/Neue%20Fische/Bootcamp/Tag-28-MLproject/airquality/.venv/lib/python3.9/site-packages/pandas/io/formats/format.py?line=1055'>1056</a>\u001b[0m     buf: FilePath \u001b[39m|\u001b[39m WriteBuffer[\u001b[39mstr\u001b[39m] \u001b[39m|\u001b[39m \u001b[39mNone\u001b[39;00m \u001b[39m=\u001b[39m \u001b[39mNone\u001b[39;00m,\n\u001b[0;32m   (...)\u001b[0m\n\u001b[1;32m   <a href='file:///Users/kaergell/Desktop/Neue%20Fische/Bootcamp/Tag-28-MLproject/airquality/.venv/lib/python3.9/site-packages/pandas/io/formats/format.py?line=1061'>1062</a>\u001b[0m     render_links: \u001b[39mbool\u001b[39m \u001b[39m=\u001b[39m \u001b[39mFalse\u001b[39;00m,\n\u001b[1;32m   <a href='file:///Users/kaergell/Desktop/Neue%20Fische/Bootcamp/Tag-28-MLproject/airquality/.venv/lib/python3.9/site-packages/pandas/io/formats/format.py?line=1062'>1063</a>\u001b[0m ) \u001b[39m-\u001b[39m\u001b[39m>\u001b[39m \u001b[39mstr\u001b[39m \u001b[39m|\u001b[39m \u001b[39mNone\u001b[39;00m:\n\u001b[1;32m   <a href='file:///Users/kaergell/Desktop/Neue%20Fische/Bootcamp/Tag-28-MLproject/airquality/.venv/lib/python3.9/site-packages/pandas/io/formats/format.py?line=1063'>1064</a>\u001b[0m     \u001b[39m\"\"\"\u001b[39;00m\n\u001b[1;32m   <a href='file:///Users/kaergell/Desktop/Neue%20Fische/Bootcamp/Tag-28-MLproject/airquality/.venv/lib/python3.9/site-packages/pandas/io/formats/format.py?line=1064'>1065</a>\u001b[0m \u001b[39m    Render a DataFrame to a html table.\u001b[39;00m\n\u001b[1;32m   <a href='file:///Users/kaergell/Desktop/Neue%20Fische/Bootcamp/Tag-28-MLproject/airquality/.venv/lib/python3.9/site-packages/pandas/io/formats/format.py?line=1065'>1066</a>\u001b[0m \n\u001b[1;32m   <a href='file:///Users/kaergell/Desktop/Neue%20Fische/Bootcamp/Tag-28-MLproject/airquality/.venv/lib/python3.9/site-packages/pandas/io/formats/format.py?line=1066'>1067</a>\u001b[0m \u001b[39m    Parameters\u001b[39;00m\n\u001b[1;32m   <a href='file:///Users/kaergell/Desktop/Neue%20Fische/Bootcamp/Tag-28-MLproject/airquality/.venv/lib/python3.9/site-packages/pandas/io/formats/format.py?line=1067'>1068</a>\u001b[0m \u001b[39m    ----------\u001b[39;00m\n\u001b[1;32m   <a href='file:///Users/kaergell/Desktop/Neue%20Fische/Bootcamp/Tag-28-MLproject/airquality/.venv/lib/python3.9/site-packages/pandas/io/formats/format.py?line=1068'>1069</a>\u001b[0m \u001b[39m    buf : str, path object, file-like object, or None, default None\u001b[39;00m\n\u001b[1;32m   <a href='file:///Users/kaergell/Desktop/Neue%20Fische/Bootcamp/Tag-28-MLproject/airquality/.venv/lib/python3.9/site-packages/pandas/io/formats/format.py?line=1069'>1070</a>\u001b[0m \u001b[39m        String, path object (implementing ``os.PathLike[str]``), or file-like\u001b[39;00m\n\u001b[1;32m   <a href='file:///Users/kaergell/Desktop/Neue%20Fische/Bootcamp/Tag-28-MLproject/airquality/.venv/lib/python3.9/site-packages/pandas/io/formats/format.py?line=1070'>1071</a>\u001b[0m \u001b[39m        object implementing a string ``write()`` function. If None, the result is\u001b[39;00m\n\u001b[1;32m   <a href='file:///Users/kaergell/Desktop/Neue%20Fische/Bootcamp/Tag-28-MLproject/airquality/.venv/lib/python3.9/site-packages/pandas/io/formats/format.py?line=1071'>1072</a>\u001b[0m \u001b[39m        returned as a string.\u001b[39;00m\n\u001b[1;32m   <a href='file:///Users/kaergell/Desktop/Neue%20Fische/Bootcamp/Tag-28-MLproject/airquality/.venv/lib/python3.9/site-packages/pandas/io/formats/format.py?line=1072'>1073</a>\u001b[0m \u001b[39m    encoding : str, default “utf-8”\u001b[39;00m\n\u001b[1;32m   <a href='file:///Users/kaergell/Desktop/Neue%20Fische/Bootcamp/Tag-28-MLproject/airquality/.venv/lib/python3.9/site-packages/pandas/io/formats/format.py?line=1073'>1074</a>\u001b[0m \u001b[39m        Set character encoding.\u001b[39;00m\n\u001b[1;32m   <a href='file:///Users/kaergell/Desktop/Neue%20Fische/Bootcamp/Tag-28-MLproject/airquality/.venv/lib/python3.9/site-packages/pandas/io/formats/format.py?line=1074'>1075</a>\u001b[0m \u001b[39m    classes : str or list-like\u001b[39;00m\n\u001b[1;32m   <a href='file:///Users/kaergell/Desktop/Neue%20Fische/Bootcamp/Tag-28-MLproject/airquality/.venv/lib/python3.9/site-packages/pandas/io/formats/format.py?line=1075'>1076</a>\u001b[0m \u001b[39m        classes to include in the `class` attribute of the opening\u001b[39;00m\n\u001b[1;32m   <a href='file:///Users/kaergell/Desktop/Neue%20Fische/Bootcamp/Tag-28-MLproject/airquality/.venv/lib/python3.9/site-packages/pandas/io/formats/format.py?line=1076'>1077</a>\u001b[0m \u001b[39m        ``<table>`` tag, in addition to the default \"dataframe\".\u001b[39;00m\n\u001b[0;32m-> <a href='file:///Users/kaergell/Desktop/Neue%20Fische/Bootcamp/Tag-28-MLproject/airquality/.venv/lib/python3.9/site-packages/pandas/io/formats/format.py?line=1077'>1078</a>\u001b[0m \u001b[39m    notebook : {True, False}, optional, default False\u001b[39;00m\n\u001b[1;32m   <a href='file:///Users/kaergell/Desktop/Neue%20Fische/Bootcamp/Tag-28-MLproject/airquality/.venv/lib/python3.9/site-packages/pandas/io/formats/format.py?line=1078'>1079</a>\u001b[0m \u001b[39m        Whether the generated HTML is for IPython Notebook.\u001b[39;00m\n\u001b[1;32m   <a href='file:///Users/kaergell/Desktop/Neue%20Fische/Bootcamp/Tag-28-MLproject/airquality/.venv/lib/python3.9/site-packages/pandas/io/formats/format.py?line=1079'>1080</a>\u001b[0m \u001b[39m    border : int\u001b[39;00m\n\u001b[1;32m   <a href='file:///Users/kaergell/Desktop/Neue%20Fische/Bootcamp/Tag-28-MLproject/airquality/.venv/lib/python3.9/site-packages/pandas/io/formats/format.py?line=1080'>1081</a>\u001b[0m \u001b[39m        A ``border=border`` attribute is included in the opening\u001b[39;00m\n\u001b[1;32m   <a href='file:///Users/kaergell/Desktop/Neue%20Fische/Bootcamp/Tag-28-MLproject/airquality/.venv/lib/python3.9/site-packages/pandas/io/formats/format.py?line=1081'>1082</a>\u001b[0m \u001b[39m        ``<table>`` tag. Default ``pd.options.display.html.border``.\u001b[39;00m\n\u001b[1;32m   <a href='file:///Users/kaergell/Desktop/Neue%20Fische/Bootcamp/Tag-28-MLproject/airquality/.venv/lib/python3.9/site-packages/pandas/io/formats/format.py?line=1082'>1083</a>\u001b[0m \u001b[39m    table_id : str, optional\u001b[39;00m\n\u001b[1;32m   <a href='file:///Users/kaergell/Desktop/Neue%20Fische/Bootcamp/Tag-28-MLproject/airquality/.venv/lib/python3.9/site-packages/pandas/io/formats/format.py?line=1083'>1084</a>\u001b[0m \u001b[39m        A css id is included in the opening `<table>` tag if specified.\u001b[39;00m\n\u001b[1;32m   <a href='file:///Users/kaergell/Desktop/Neue%20Fische/Bootcamp/Tag-28-MLproject/airquality/.venv/lib/python3.9/site-packages/pandas/io/formats/format.py?line=1084'>1085</a>\u001b[0m \u001b[39m    render_links : bool, default False\u001b[39;00m\n\u001b[1;32m   <a href='file:///Users/kaergell/Desktop/Neue%20Fische/Bootcamp/Tag-28-MLproject/airquality/.venv/lib/python3.9/site-packages/pandas/io/formats/format.py?line=1085'>1086</a>\u001b[0m \u001b[39m        Convert URLs to HTML links.\u001b[39;00m\n\u001b[1;32m   <a href='file:///Users/kaergell/Desktop/Neue%20Fische/Bootcamp/Tag-28-MLproject/airquality/.venv/lib/python3.9/site-packages/pandas/io/formats/format.py?line=1086'>1087</a>\u001b[0m \u001b[39m    \"\"\"\u001b[39;00m\n\u001b[1;32m   <a href='file:///Users/kaergell/Desktop/Neue%20Fische/Bootcamp/Tag-28-MLproject/airquality/.venv/lib/python3.9/site-packages/pandas/io/formats/format.py?line=1087'>1088</a>\u001b[0m     \u001b[39mfrom\u001b[39;00m \u001b[39mpandas\u001b[39;00m\u001b[39m.\u001b[39;00m\u001b[39mio\u001b[39;00m\u001b[39m.\u001b[39;00m\u001b[39mformats\u001b[39;00m\u001b[39m.\u001b[39;00m\u001b[39mhtml\u001b[39;00m \u001b[39mimport\u001b[39;00m (\n\u001b[1;32m   <a href='file:///Users/kaergell/Desktop/Neue%20Fische/Bootcamp/Tag-28-MLproject/airquality/.venv/lib/python3.9/site-packages/pandas/io/formats/format.py?line=1088'>1089</a>\u001b[0m         HTMLFormatter,\n\u001b[1;32m   <a href='file:///Users/kaergell/Desktop/Neue%20Fische/Bootcamp/Tag-28-MLproject/airquality/.venv/lib/python3.9/site-packages/pandas/io/formats/format.py?line=1089'>1090</a>\u001b[0m         NotebookFormatter,\n\u001b[1;32m   <a href='file:///Users/kaergell/Desktop/Neue%20Fische/Bootcamp/Tag-28-MLproject/airquality/.venv/lib/python3.9/site-packages/pandas/io/formats/format.py?line=1090'>1091</a>\u001b[0m     )\n\u001b[1;32m   <a href='file:///Users/kaergell/Desktop/Neue%20Fische/Bootcamp/Tag-28-MLproject/airquality/.venv/lib/python3.9/site-packages/pandas/io/formats/format.py?line=1092'>1093</a>\u001b[0m     Klass \u001b[39m=\u001b[39m NotebookFormatter \u001b[39mif\u001b[39;00m notebook \u001b[39melse\u001b[39;00m HTMLFormatter\n",
      "File \u001b[0;32m~/Desktop/Neue Fische/Bootcamp/Tag-28-MLproject/airquality/.venv/lib/python3.9/site-packages/pandas/io/formats/csvs.py:21\u001b[0m, in \u001b[0;36m<module>\u001b[0;34m\u001b[0m\n\u001b[1;32m     <a href='file:///Users/kaergell/Desktop/Neue%20Fische/Bootcamp/Tag-28-MLproject/airquality/.venv/lib/python3.9/site-packages/pandas/io/formats/csvs.py?line=17'>18</a>\u001b[0m \u001b[39mimport\u001b[39;00m \u001b[39mnumpy\u001b[39;00m \u001b[39mas\u001b[39;00m \u001b[39mnp\u001b[39;00m\n\u001b[1;32m     <a href='file:///Users/kaergell/Desktop/Neue%20Fische/Bootcamp/Tag-28-MLproject/airquality/.venv/lib/python3.9/site-packages/pandas/io/formats/csvs.py?line=19'>20</a>\u001b[0m \u001b[39mfrom\u001b[39;00m \u001b[39mpandas\u001b[39;00m\u001b[39m.\u001b[39;00m\u001b[39m_libs\u001b[39;00m \u001b[39mimport\u001b[39;00m writers \u001b[39mas\u001b[39;00m libwriters\n\u001b[0;32m---> <a href='file:///Users/kaergell/Desktop/Neue%20Fische/Bootcamp/Tag-28-MLproject/airquality/.venv/lib/python3.9/site-packages/pandas/io/formats/csvs.py?line=20'>21</a>\u001b[0m \u001b[39mfrom\u001b[39;00m \u001b[39mpandas\u001b[39;00m\u001b[39m.\u001b[39;00m\u001b[39m_typing\u001b[39;00m \u001b[39mimport\u001b[39;00m (\n\u001b[1;32m     <a href='file:///Users/kaergell/Desktop/Neue%20Fische/Bootcamp/Tag-28-MLproject/airquality/.venv/lib/python3.9/site-packages/pandas/io/formats/csvs.py?line=21'>22</a>\u001b[0m     CompressionOptions,\n\u001b[1;32m     <a href='file:///Users/kaergell/Desktop/Neue%20Fische/Bootcamp/Tag-28-MLproject/airquality/.venv/lib/python3.9/site-packages/pandas/io/formats/csvs.py?line=22'>23</a>\u001b[0m     FilePath,\n\u001b[1;32m     <a href='file:///Users/kaergell/Desktop/Neue%20Fische/Bootcamp/Tag-28-MLproject/airquality/.venv/lib/python3.9/site-packages/pandas/io/formats/csvs.py?line=23'>24</a>\u001b[0m     FloatFormatType,\n\u001b[1;32m     <a href='file:///Users/kaergell/Desktop/Neue%20Fische/Bootcamp/Tag-28-MLproject/airquality/.venv/lib/python3.9/site-packages/pandas/io/formats/csvs.py?line=24'>25</a>\u001b[0m     IndexLabel,\n\u001b[1;32m     <a href='file:///Users/kaergell/Desktop/Neue%20Fische/Bootcamp/Tag-28-MLproject/airquality/.venv/lib/python3.9/site-packages/pandas/io/formats/csvs.py?line=25'>26</a>\u001b[0m     StorageOptions,\n\u001b[1;32m     <a href='file:///Users/kaergell/Desktop/Neue%20Fische/Bootcamp/Tag-28-MLproject/airquality/.venv/lib/python3.9/site-packages/pandas/io/formats/csvs.py?line=26'>27</a>\u001b[0m     WriteBuffer,\n\u001b[1;32m     <a href='file:///Users/kaergell/Desktop/Neue%20Fische/Bootcamp/Tag-28-MLproject/airquality/.venv/lib/python3.9/site-packages/pandas/io/formats/csvs.py?line=27'>28</a>\u001b[0m )\n\u001b[1;32m     <a href='file:///Users/kaergell/Desktop/Neue%20Fische/Bootcamp/Tag-28-MLproject/airquality/.venv/lib/python3.9/site-packages/pandas/io/formats/csvs.py?line=28'>29</a>\u001b[0m \u001b[39mfrom\u001b[39;00m \u001b[39mpandas\u001b[39;00m\u001b[39m.\u001b[39;00m\u001b[39mutil\u001b[39;00m\u001b[39m.\u001b[39;00m\u001b[39m_decorators\u001b[39;00m \u001b[39mimport\u001b[39;00m cache_readonly\n\u001b[1;32m     <a href='file:///Users/kaergell/Desktop/Neue%20Fische/Bootcamp/Tag-28-MLproject/airquality/.venv/lib/python3.9/site-packages/pandas/io/formats/csvs.py?line=30'>31</a>\u001b[0m \u001b[39mfrom\u001b[39;00m \u001b[39mpandas\u001b[39;00m\u001b[39m.\u001b[39;00m\u001b[39mcore\u001b[39;00m\u001b[39m.\u001b[39;00m\u001b[39mdtypes\u001b[39;00m\u001b[39m.\u001b[39;00m\u001b[39mgeneric\u001b[39;00m \u001b[39mimport\u001b[39;00m (\n\u001b[1;32m     <a href='file:///Users/kaergell/Desktop/Neue%20Fische/Bootcamp/Tag-28-MLproject/airquality/.venv/lib/python3.9/site-packages/pandas/io/formats/csvs.py?line=31'>32</a>\u001b[0m     ABCDatetimeIndex,\n\u001b[1;32m     <a href='file:///Users/kaergell/Desktop/Neue%20Fische/Bootcamp/Tag-28-MLproject/airquality/.venv/lib/python3.9/site-packages/pandas/io/formats/csvs.py?line=32'>33</a>\u001b[0m     ABCIndex,\n\u001b[1;32m     <a href='file:///Users/kaergell/Desktop/Neue%20Fische/Bootcamp/Tag-28-MLproject/airquality/.venv/lib/python3.9/site-packages/pandas/io/formats/csvs.py?line=33'>34</a>\u001b[0m     ABCMultiIndex,\n\u001b[1;32m     <a href='file:///Users/kaergell/Desktop/Neue%20Fische/Bootcamp/Tag-28-MLproject/airquality/.venv/lib/python3.9/site-packages/pandas/io/formats/csvs.py?line=34'>35</a>\u001b[0m     ABCPeriodIndex,\n\u001b[1;32m     <a href='file:///Users/kaergell/Desktop/Neue%20Fische/Bootcamp/Tag-28-MLproject/airquality/.venv/lib/python3.9/site-packages/pandas/io/formats/csvs.py?line=35'>36</a>\u001b[0m )\n",
      "\u001b[0;31mImportError\u001b[0m: cannot import name 'FilePath' from 'pandas._typing' (/Users/kaergell/Desktop/Neue Fische/Bootcamp/Tag-28-MLproject/airquality/.venv/lib/python3.9/site-packages/pandas/_typing.py)"
     ]
    }
   ],
   "source": [
    "train_z.to_csv('data/train_ours.csv')\n",
    "test_z.to_csv('data/test_ours.csv')"
   ]
  },
  {
   "cell_type": "markdown",
   "metadata": {},
   "source": [
    "## Basis Model\n",
    "\n",
    "the prediction gives the mean value of the target"
   ]
  },
  {
   "cell_type": "code",
   "execution_count": 56,
   "metadata": {},
   "outputs": [],
   "source": [
    "from sklearn.metrics import mean_squared_error"
   ]
  },
  {
   "cell_type": "code",
   "execution_count": 57,
   "metadata": {},
   "outputs": [],
   "source": [
    "def rmse(y_true, y_pred):\n",
    "    return np.sqrt(mean_squared_error(y_true, y_pred))"
   ]
  },
  {
   "cell_type": "code",
   "execution_count": 58,
   "metadata": {},
   "outputs": [],
   "source": [
    "def error_analysis(y_test, y_pred_test):\n",
    "    \"\"\"Generated true vs. predicted values and residual scatter plot for models\n",
    "\n",
    "    Args:\n",
    "        y_test (array): true values for y_test\n",
    "        y_pred_test (array): predicted values of model for y_test\n",
    "    \"\"\"     \n",
    "    # Calculate residuals\n",
    "    residuals = y_test - y_pred_test\n",
    "    \n",
    "    # Plot real vs. predicted values \n",
    "    fig, ax = plt.subplots(1,2, figsize=(15, 5))\n",
    "    plt.subplots_adjust(right=1)\n",
    "    plt.suptitle('Error Analysis')\n",
    "    \n",
    "    ax[0].scatter(y_pred_test, y_test, color=\"#FF5A36\", alpha=0.7)\n",
    "    ax[0].plot([-400, 350], [-400, 350], color=\"#193251\")\n",
    "    ax[0].set_title(\"True vs. predicted values\", fontsize=16)\n",
    "    ax[0].set_xlabel(\"predicted values\")\n",
    "    ax[0].set_ylabel(\"true values\")\n",
    "    #ax[0].set_xlim((y_pred_test.min()-10), (y_pred_test.max()+10))\n",
    "    ax[0].set_ylim((y_test.min()-40), (y_test.max()+40))\n",
    "    \n",
    "    ax[1].scatter(y_pred_test, residuals, color=\"#FF5A36\", alpha=0.7)\n",
    "    ax[1].plot([-400, 350], [0,0], color=\"#193251\")\n",
    "    ax[1].set_title(\"Residual Scatter Plot\", fontsize=16)\n",
    "    ax[1].set_xlabel(\"predicted values\")\n",
    "    ax[1].set_ylabel(\"residuals\")\n",
    "    #ax[1].set_xlim((y_pred_test.min()-10), (y_pred_test.max()+10))\n",
    "    #ax[1].set_ylim((residuals.min()-10), (residuals.max()+10));"
   ]
  },
  {
   "cell_type": "code",
   "execution_count": 59,
   "metadata": {},
   "outputs": [
    {
     "name": "stdout",
     "output_type": "stream",
     "text": [
      "Zindi: \n",
      "Mean Target : 58.24 \t RMSE: 42.37 \t NRMSE: 0.73\n",
      "Our (log_transform)\n",
      "Mean Target: 4.08 \t RMSE: 0.64 \t NRMSE:0.16\n"
     ]
    }
   ],
   "source": [
    "# with zindi data:\n",
    "\n",
    "# mean target\n",
    "mean_target_zindi = train_z.target.mean() # 58.24\n",
    "# prediction are all the mean of the target 58.24\n",
    "y_target_zindi = [mean_target_zindi for x in range (train_z.target.shape[0])]\n",
    "\n",
    "# with our data : \n",
    "\n",
    "# transform all target values to log: \n",
    "y_target_log = [np.log1p(x) for x in y_target_zindi]\n",
    "# mean value for log_target values\n",
    "mean_target_log = np.mean(y_target_log) # 4.081\n",
    "# prediction are all the mean of the log_target \n",
    "y_target_log = [mean_target_log for x in range (train_z.target.shape[0])]\n",
    "\n",
    "\n",
    "rmse_zindi = rmse(train_z.target, y_target_zindi)\n",
    "rmse_our =   rmse(train_z.log_target, y_target_log)\n",
    "\n",
    "\n",
    "\n",
    "print('Zindi: ')\n",
    "print (f'Mean Target : {mean_target_zindi:.2f} \\t RMSE: {rmse_zindi:.2f} \\t NRMSE: {rmse_zindi/mean_target_zindi:.2f}')\n",
    "print('Our (log_transform)')\n",
    "print (f'Mean Target: {mean_target_log:.2f} \\t RMSE: {rmse_our:.2f} \\t NRMSE:{rmse_our/mean_target_log:.2f}') #54.354144\n"
   ]
  },
  {
   "cell_type": "code",
   "execution_count": 60,
   "metadata": {},
   "outputs": [
    {
     "data": {
      "image/png": "[encoded data removed]",
      "text/plain": [
       "<Figure size 1080x360 with 2 Axes>"
      ]
     },
     "metadata": {
      "needs_background": "light"
     },
     "output_type": "display_data"
    }
   ],
   "source": [
    "# error analysis \n",
    "error_analysis(train_z.target, y_target_zindi)           "
   ]
  },
  {
   "cell_type": "code",
   "execution_count": 61,
   "metadata": {},
   "outputs": [
    {
     "data": {
      "image/png": "[encoded data removed]",
      "text/plain": [
       "<Figure size 1080x360 with 2 Axes>"
      ]
     },
     "metadata": {
      "needs_background": "light"
     },
     "output_type": "display_data"
    }
   ],
   "source": [
    "# error analysis in our data\n",
    "error_analysis(train_z.log_target, y_target_log)"
   ]
  },
  {
   "cell_type": "code",
   "execution_count": 68,
   "metadata": {},
   "outputs": [
    {
     "data": {
      "text/html": [
       "<div>\n",
       "<style scoped>\n",
       "    .dataframe tbody tr th:only-of-type {\n",
       "        vertical-align: middle;\n",
       "    }\n",
       "\n",
       "    .dataframe tbody tr th {\n",
       "        vertical-align: top;\n",
       "    }\n",
       "\n",
       "    .dataframe thead th {\n",
       "        text-align: right;\n",
       "    }\n",
       "</style>\n",
       "<table border=\"1\" class=\"dataframe\">\n",
       "  <thead>\n",
       "    <tr style=\"text-align: right;\">\n",
       "      <th></th>\n",
       "      <th>ID</th>\n",
       "      <th>location</th>\n",
       "      <th>temp</th>\n",
       "      <th>precip</th>\n",
       "      <th>rel_humidity</th>\n",
       "      <th>wind_dir</th>\n",
       "      <th>wind_spd</th>\n",
       "      <th>atmos_press</th>\n",
       "      <th>target</th>\n",
       "      <th>max_temp</th>\n",
       "      <th>...</th>\n",
       "      <th>median_wind_spd</th>\n",
       "      <th>ptp_wind_spd</th>\n",
       "      <th>max_atmos_press</th>\n",
       "      <th>min_atmos_press</th>\n",
       "      <th>mean_atmos_press</th>\n",
       "      <th>std_atmos_press</th>\n",
       "      <th>var_atmos_press</th>\n",
       "      <th>median_atmos_press</th>\n",
       "      <th>ptp_atmos_press</th>\n",
       "      <th>target_log</th>\n",
       "    </tr>\n",
       "  </thead>\n",
       "  <tbody>\n",
       "    <tr>\n",
       "      <th>0</th>\n",
       "      <td>ID_train_0</td>\n",
       "      <td>2</td>\n",
       "      <td>[26.90909091, 27.20833333, 26.18333333, 24.7, ...</td>\n",
       "      <td>[0.0, 0.0, 0.0, 0.0, 0.0, 0.0, 0.0, 0.0, 0.0, ...</td>\n",
       "      <td>[0.5108181820000001, 0.535416667, 0.6145, 0.63...</td>\n",
       "      <td>[272.90275160000004, 104.565241, 167.1772247, ...</td>\n",
       "      <td>[0.800909091, 1.073333333, 1.5175, 1.4625, 0.5...</td>\n",
       "      <td>[87.77727273, 87.6525, 87.61416667, 87.6375, 8...</td>\n",
       "      <td>45.126304</td>\n",
       "      <td>27.208333</td>\n",
       "      <td>...</td>\n",
       "      <td>0.666250</td>\n",
       "      <td>1.355000</td>\n",
       "      <td>87.871667</td>\n",
       "      <td>87.614167</td>\n",
       "      <td>87.752434</td>\n",
       "      <td>0.070374</td>\n",
       "      <td>0.004952</td>\n",
       "      <td>87.762083</td>\n",
       "      <td>0.257500</td>\n",
       "      <td>3.831383</td>\n",
       "    </tr>\n",
       "    <tr>\n",
       "      <th>1</th>\n",
       "      <td>ID_train_1</td>\n",
       "      <td>3</td>\n",
       "      <td>[22.53333333, 21.71666667, 20.83333333, 20.983...</td>\n",
       "      <td>[0.102, 0.0, 0.0, 0.0, 0.0, 0.0, 0.0, 0.034, 0...</td>\n",
       "      <td>[0.744583333, 0.808083333, 0.911166667, 0.9163...</td>\n",
       "      <td>[281.6643101, 89.15629262, 81.96853891, 291.01...</td>\n",
       "      <td>[2.3775, 1.126666667, 0.700833333, 0.341666667...</td>\n",
       "      <td>[90.32, 90.3775, 90.44083333, 90.4725, 90.4541...</td>\n",
       "      <td>79.131702</td>\n",
       "      <td>33.616667</td>\n",
       "      <td>...</td>\n",
       "      <td>0.744167</td>\n",
       "      <td>2.760833</td>\n",
       "      <td>90.725000</td>\n",
       "      <td>90.056667</td>\n",
       "      <td>90.429924</td>\n",
       "      <td>0.156000</td>\n",
       "      <td>0.024336</td>\n",
       "      <td>90.429167</td>\n",
       "      <td>0.668333</td>\n",
       "      <td>4.383672</td>\n",
       "    </tr>\n",
       "    <tr>\n",
       "      <th>2</th>\n",
       "      <td>ID_train_10</td>\n",
       "      <td>0</td>\n",
       "      <td>[28.975, 27.95, 29.6, 26.425, 22.09166667, 21....</td>\n",
       "      <td>[0.0, 0.0, 0.0, 0.102, 0.136, 0.0, 0.0, 2.16, ...</td>\n",
       "      <td>[0.573333333, 0.597166667, 0.5668333329999999,...</td>\n",
       "      <td>[328.68291380000005, 307.8251459, 319.0177512,...</td>\n",
       "      <td>[1.0325, 1.193333333, 1.275833333, 1.493333333...</td>\n",
       "      <td>[88.55166667, 88.46416667, 88.31916667, 88.24,...</td>\n",
       "      <td>32.661304</td>\n",
       "      <td>31.841667</td>\n",
       "      <td>...</td>\n",
       "      <td>0.942500</td>\n",
       "      <td>2.420000</td>\n",
       "      <td>88.813333</td>\n",
       "      <td>87.982500</td>\n",
       "      <td>88.420931</td>\n",
       "      <td>0.179481</td>\n",
       "      <td>0.032213</td>\n",
       "      <td>88.425000</td>\n",
       "      <td>0.830833</td>\n",
       "      <td>3.516349</td>\n",
       "    </tr>\n",
       "    <tr>\n",
       "      <th>3</th>\n",
       "      <td>ID_train_100</td>\n",
       "      <td>0</td>\n",
       "      <td>[22.96666667, 24.26666667, 25.275, 25.625, 25....</td>\n",
       "      <td>[0.0, 0.0, 0.0, 0.0, 0.0, 0.0, 0.0, 0.0, 7.77,...</td>\n",
       "      <td>[0.8430833329999999, 0.79025, 0.7375, 0.728, 0...</td>\n",
       "      <td>[300.0850574, 293.6769595, 294.5174647, 301.92...</td>\n",
       "      <td>[1.446666667, 1.1925, 1.324166667, 1.544166666...</td>\n",
       "      <td>[88.615, 88.53083333, 88.4, 88.27166667, 88.20...</td>\n",
       "      <td>53.850238</td>\n",
       "      <td>27.491667</td>\n",
       "      <td>...</td>\n",
       "      <td>1.388333</td>\n",
       "      <td>2.469167</td>\n",
       "      <td>88.685000</td>\n",
       "      <td>87.965000</td>\n",
       "      <td>88.376915</td>\n",
       "      <td>0.161758</td>\n",
       "      <td>0.026166</td>\n",
       "      <td>88.400000</td>\n",
       "      <td>0.720000</td>\n",
       "      <td>4.004607</td>\n",
       "    </tr>\n",
       "    <tr>\n",
       "      <th>4</th>\n",
       "      <td>ID_train_1000</td>\n",
       "      <td>0</td>\n",
       "      <td>[21.875, 21.575, 21.525, 21.43333333, 20.50833...</td>\n",
       "      <td>[0.0, 0.0, 0.0, 0.0, 0.0, 0.0, 0.0, 0.0, 0.0, ...</td>\n",
       "      <td>[0.8564166670000001, 0.874916667, 0.879833333,...</td>\n",
       "      <td>[21.83997432, 17.05405341, 89.26406044, 123.58...</td>\n",
       "      <td>[0.1975, 0.244166667, 0.411666667, 0.56, 0.577...</td>\n",
       "      <td>[88.55666667, 88.64083333, 88.65833333, 88.647...</td>\n",
       "      <td>177.418750</td>\n",
       "      <td>28.750000</td>\n",
       "      <td>...</td>\n",
       "      <td>0.542917</td>\n",
       "      <td>1.796667</td>\n",
       "      <td>88.719167</td>\n",
       "      <td>88.268333</td>\n",
       "      <td>88.538104</td>\n",
       "      <td>0.118369</td>\n",
       "      <td>0.014011</td>\n",
       "      <td>88.552500</td>\n",
       "      <td>0.450833</td>\n",
       "      <td>5.184133</td>\n",
       "    </tr>\n",
       "  </tbody>\n",
       "</table>\n",
       "<p>5 rows × 52 columns</p>\n",
       "</div>"
      ],
      "text/plain": [
       "              ID  location                                               temp  \\\n",
       "0     ID_train_0         2  [26.90909091, 27.20833333, 26.18333333, 24.7, ...   \n",
       "1     ID_train_1         3  [22.53333333, 21.71666667, 20.83333333, 20.983...   \n",
       "2    ID_train_10         0  [28.975, 27.95, 29.6, 26.425, 22.09166667, 21....   \n",
       "3   ID_train_100         0  [22.96666667, 24.26666667, 25.275, 25.625, 25....   \n",
       "4  ID_train_1000         0  [21.875, 21.575, 21.525, 21.43333333, 20.50833...   \n",
       "\n",
       "                                              precip  \\\n",
       "0  [0.0, 0.0, 0.0, 0.0, 0.0, 0.0, 0.0, 0.0, 0.0, ...   \n",
       "1  [0.102, 0.0, 0.0, 0.0, 0.0, 0.0, 0.0, 0.034, 0...   \n",
       "2  [0.0, 0.0, 0.0, 0.102, 0.136, 0.0, 0.0, 2.16, ...   \n",
       "3  [0.0, 0.0, 0.0, 0.0, 0.0, 0.0, 0.0, 0.0, 7.77,...   \n",
       "4  [0.0, 0.0, 0.0, 0.0, 0.0, 0.0, 0.0, 0.0, 0.0, ...   \n",
       "\n",
       "                                        rel_humidity  \\\n",
       "0  [0.5108181820000001, 0.535416667, 0.6145, 0.63...   \n",
       "1  [0.744583333, 0.808083333, 0.911166667, 0.9163...   \n",
       "2  [0.573333333, 0.597166667, 0.5668333329999999,...   \n",
       "3  [0.8430833329999999, 0.79025, 0.7375, 0.728, 0...   \n",
       "4  [0.8564166670000001, 0.874916667, 0.879833333,...   \n",
       "\n",
       "                                            wind_dir  \\\n",
       "0  [272.90275160000004, 104.565241, 167.1772247, ...   \n",
       "1  [281.6643101, 89.15629262, 81.96853891, 291.01...   \n",
       "2  [328.68291380000005, 307.8251459, 319.0177512,...   \n",
       "3  [300.0850574, 293.6769595, 294.5174647, 301.92...   \n",
       "4  [21.83997432, 17.05405341, 89.26406044, 123.58...   \n",
       "\n",
       "                                            wind_spd  \\\n",
       "0  [0.800909091, 1.073333333, 1.5175, 1.4625, 0.5...   \n",
       "1  [2.3775, 1.126666667, 0.700833333, 0.341666667...   \n",
       "2  [1.0325, 1.193333333, 1.275833333, 1.493333333...   \n",
       "3  [1.446666667, 1.1925, 1.324166667, 1.544166666...   \n",
       "4  [0.1975, 0.244166667, 0.411666667, 0.56, 0.577...   \n",
       "\n",
       "                                         atmos_press      target   max_temp  \\\n",
       "0  [87.77727273, 87.6525, 87.61416667, 87.6375, 8...   45.126304  27.208333   \n",
       "1  [90.32, 90.3775, 90.44083333, 90.4725, 90.4541...   79.131702  33.616667   \n",
       "2  [88.55166667, 88.46416667, 88.31916667, 88.24,...   32.661304  31.841667   \n",
       "3  [88.615, 88.53083333, 88.4, 88.27166667, 88.20...   53.850238  27.491667   \n",
       "4  [88.55666667, 88.64083333, 88.65833333, 88.647...  177.418750  28.750000   \n",
       "\n",
       "   ...  median_wind_spd  ptp_wind_spd  max_atmos_press  min_atmos_press  \\\n",
       "0  ...         0.666250      1.355000        87.871667        87.614167   \n",
       "1  ...         0.744167      2.760833        90.725000        90.056667   \n",
       "2  ...         0.942500      2.420000        88.813333        87.982500   \n",
       "3  ...         1.388333      2.469167        88.685000        87.965000   \n",
       "4  ...         0.542917      1.796667        88.719167        88.268333   \n",
       "\n",
       "   mean_atmos_press  std_atmos_press  var_atmos_press  median_atmos_press  \\\n",
       "0         87.752434         0.070374         0.004952           87.762083   \n",
       "1         90.429924         0.156000         0.024336           90.429167   \n",
       "2         88.420931         0.179481         0.032213           88.425000   \n",
       "3         88.376915         0.161758         0.026166           88.400000   \n",
       "4         88.538104         0.118369         0.014011           88.552500   \n",
       "\n",
       "   ptp_atmos_press  target_log  \n",
       "0         0.257500    3.831383  \n",
       "1         0.668333    4.383672  \n",
       "2         0.830833    3.516349  \n",
       "3         0.720000    4.004607  \n",
       "4         0.450833    5.184133  \n",
       "\n",
       "[5 rows x 52 columns]"
      ]
     },
     "execution_count": 68,
     "metadata": {},
     "output_type": "execute_result"
    }
   ],
   "source": [
    "data."
   ]
  },
  {
   "cell_type": "code",
   "execution_count": null,
   "metadata": {},
   "outputs": [],
   "source": [
    "pd.cut(data[\"target\"], bins =2 , labels=[])"
   ]
  }
 ],
 "metadata": {
  "kernelspec": {
   "display_name": "Python 3",
   "language": "python",
   "name": "python3"
  },
  "language_info": {
   "codemirror_mode": {
    "name": "ipython",
    "version": 3
   },
   "file_extension": ".py",
   "mimetype": "text/x-python",
   "name": "python",
   "nbconvert_exporter": "python",
   "pygments_lexer": "ipython3",
   "version": "3.9.4"
  }
 },
 "nbformat": 4,
 "nbformat_minor": 4
}
