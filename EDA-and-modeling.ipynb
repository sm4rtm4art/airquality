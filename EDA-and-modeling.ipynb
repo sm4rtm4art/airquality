{
 "cells": [
  {
   "cell_type": "code",
   "execution_count": 88,
   "metadata": {},
   "outputs": [],
   "source": [
    "# import packages\n",
    "import pandas as pd\n",
    "import numpy as np\n",
    "import warnings\n",
    "\n",
    "import seaborn as sns\n",
    "import matplotlib.pyplot as plt\n",
    "\n",
    "from scipy.stats import boxcox\n",
    "warnings.filterwarnings('ignore')\n"
   ]
  },
  {
   "cell_type": "code",
   "execution_count": 2,
   "metadata": {},
   "outputs": [
    {
     "data": {
      "text/html": [
       "<div>\n",
       "<style scoped>\n",
       "    .dataframe tbody tr th:only-of-type {\n",
       "        vertical-align: middle;\n",
       "    }\n",
       "\n",
       "    .dataframe tbody tr th {\n",
       "        vertical-align: top;\n",
       "    }\n",
       "\n",
       "    .dataframe thead th {\n",
       "        text-align: right;\n",
       "    }\n",
       "</style>\n",
       "<table border=\"1\" class=\"dataframe\">\n",
       "  <thead>\n",
       "    <tr style=\"text-align: right;\">\n",
       "      <th></th>\n",
       "      <th>ID</th>\n",
       "      <th>location</th>\n",
       "      <th>temp</th>\n",
       "      <th>precip</th>\n",
       "      <th>rel_humidity</th>\n",
       "      <th>wind_dir</th>\n",
       "      <th>wind_spd</th>\n",
       "      <th>atmos_press</th>\n",
       "      <th>target</th>\n",
       "      <th>max_temp</th>\n",
       "      <th>...</th>\n",
       "      <th>var_wind_spd</th>\n",
       "      <th>median_wind_spd</th>\n",
       "      <th>ptp_wind_spd</th>\n",
       "      <th>max_atmos_press</th>\n",
       "      <th>min_atmos_press</th>\n",
       "      <th>mean_atmos_press</th>\n",
       "      <th>std_atmos_press</th>\n",
       "      <th>var_atmos_press</th>\n",
       "      <th>median_atmos_press</th>\n",
       "      <th>ptp_atmos_press</th>\n",
       "    </tr>\n",
       "  </thead>\n",
       "  <tbody>\n",
       "    <tr>\n",
       "      <th>0</th>\n",
       "      <td>ID_train_0</td>\n",
       "      <td>C</td>\n",
       "      <td>[26.90909091, 27.20833333, 26.18333333, 24.7, ...</td>\n",
       "      <td>[0.0, 0.0, 0.0, 0.0, 0.0, 0.0, 0.0, 0.0, 0.0, ...</td>\n",
       "      <td>[0.5108181820000001, 0.535416667, 0.6145, 0.63...</td>\n",
       "      <td>[272.90275160000004, 104.565241, 167.1772247, ...</td>\n",
       "      <td>[0.800909091, 1.073333333, 1.5175, 1.4625, 0.5...</td>\n",
       "      <td>[87.77727273, 87.6525, 87.61416667, 87.6375, 8...</td>\n",
       "      <td>45.126304</td>\n",
       "      <td>27.208333</td>\n",
       "      <td>...</td>\n",
       "      <td>0.155268</td>\n",
       "      <td>0.666250</td>\n",
       "      <td>1.355000</td>\n",
       "      <td>87.871667</td>\n",
       "      <td>87.614167</td>\n",
       "      <td>87.752434</td>\n",
       "      <td>0.070374</td>\n",
       "      <td>0.004952</td>\n",
       "      <td>87.762083</td>\n",
       "      <td>0.257500</td>\n",
       "    </tr>\n",
       "    <tr>\n",
       "      <th>1</th>\n",
       "      <td>ID_train_1</td>\n",
       "      <td>D</td>\n",
       "      <td>[22.53333333, 21.71666667, 20.83333333, 20.983...</td>\n",
       "      <td>[0.102, 0.0, 0.0, 0.0, 0.0, 0.0, 0.0, 0.034, 0...</td>\n",
       "      <td>[0.744583333, 0.808083333, 0.911166667, 0.9163...</td>\n",
       "      <td>[281.6643101, 89.15629262, 81.96853891, 291.01...</td>\n",
       "      <td>[2.3775, 1.126666667, 0.700833333, 0.341666667...</td>\n",
       "      <td>[90.32, 90.3775, 90.44083333, 90.4725, 90.4541...</td>\n",
       "      <td>79.131702</td>\n",
       "      <td>33.616667</td>\n",
       "      <td>...</td>\n",
       "      <td>0.290736</td>\n",
       "      <td>0.744167</td>\n",
       "      <td>2.760833</td>\n",
       "      <td>90.725000</td>\n",
       "      <td>90.056667</td>\n",
       "      <td>90.429924</td>\n",
       "      <td>0.156000</td>\n",
       "      <td>0.024336</td>\n",
       "      <td>90.429167</td>\n",
       "      <td>0.668333</td>\n",
       "    </tr>\n",
       "  </tbody>\n",
       "</table>\n",
       "<p>2 rows × 51 columns</p>\n",
       "</div>"
      ],
      "text/plain": [
       "           ID location                                               temp  \\\n",
       "0  ID_train_0        C  [26.90909091, 27.20833333, 26.18333333, 24.7, ...   \n",
       "1  ID_train_1        D  [22.53333333, 21.71666667, 20.83333333, 20.983...   \n",
       "\n",
       "                                              precip  \\\n",
       "0  [0.0, 0.0, 0.0, 0.0, 0.0, 0.0, 0.0, 0.0, 0.0, ...   \n",
       "1  [0.102, 0.0, 0.0, 0.0, 0.0, 0.0, 0.0, 0.034, 0...   \n",
       "\n",
       "                                        rel_humidity  \\\n",
       "0  [0.5108181820000001, 0.535416667, 0.6145, 0.63...   \n",
       "1  [0.744583333, 0.808083333, 0.911166667, 0.9163...   \n",
       "\n",
       "                                            wind_dir  \\\n",
       "0  [272.90275160000004, 104.565241, 167.1772247, ...   \n",
       "1  [281.6643101, 89.15629262, 81.96853891, 291.01...   \n",
       "\n",
       "                                            wind_spd  \\\n",
       "0  [0.800909091, 1.073333333, 1.5175, 1.4625, 0.5...   \n",
       "1  [2.3775, 1.126666667, 0.700833333, 0.341666667...   \n",
       "\n",
       "                                         atmos_press     target   max_temp  \\\n",
       "0  [87.77727273, 87.6525, 87.61416667, 87.6375, 8...  45.126304  27.208333   \n",
       "1  [90.32, 90.3775, 90.44083333, 90.4725, 90.4541...  79.131702  33.616667   \n",
       "\n",
       "   ...  var_wind_spd  median_wind_spd  ptp_wind_spd  max_atmos_press  \\\n",
       "0  ...      0.155268         0.666250      1.355000        87.871667   \n",
       "1  ...      0.290736         0.744167      2.760833        90.725000   \n",
       "\n",
       "   min_atmos_press  mean_atmos_press  std_atmos_press  var_atmos_press  \\\n",
       "0        87.614167         87.752434         0.070374         0.004952   \n",
       "1        90.056667         90.429924         0.156000         0.024336   \n",
       "\n",
       "   median_atmos_press  ptp_atmos_press  \n",
       "0           87.762083         0.257500  \n",
       "1           90.429167         0.668333  \n",
       "\n",
       "[2 rows x 51 columns]"
      ]
     },
     "execution_count": 2,
     "metadata": {},
     "output_type": "execute_result"
    }
   ],
   "source": [
    "# import data\n",
    "data = pd.read_pickle('data/data_51.pkl')\n",
    "data.head(2)"
   ]
  },
  {
   "cell_type": "code",
   "execution_count": 7,
   "metadata": {},
   "outputs": [],
   "source": [
    "# name of columns\n",
    "features=[\"temp\",\"precip\",\"rel_humidity\",\"wind_dir\",\"wind_spd\",\"atmos_press\"]\n",
    "max_features = [\"max_\" + str(feat) for feat in features]\n",
    "min_features = [\"min_\" + str(feat) for feat in features]\n",
    "mean_features = [\"mean_\" + str(feat) for feat in features]\n",
    "std_features = [\"std_\" + str(feat) for feat in features]\n",
    "var_features = [\"vat_\" + str(feat) for feat in features]\n",
    "median_features = [\"median_\" + str(feat) for feat in features]\n",
    "ptp_features = [\"ptp_\" + str(feat) for feat in features]\n"
   ]
  },
  {
   "cell_type": "code",
   "execution_count": 3,
   "metadata": {},
   "outputs": [
    {
     "data": {
      "text/plain": [
       "<AxesSubplot:xlabel='target', ylabel='Count'>"
      ]
     },
     "execution_count": 3,
     "metadata": {},
     "output_type": "execute_result"
    },
    {
     "data": {
      "image/png": "[encoded data removed]",
      "text/plain": [
       "<Figure size 432x288 with 1 Axes>"
      ]
     },
     "metadata": {
      "needs_background": "light"
     },
     "output_type": "display_data"
    }
   ],
   "source": [
    "# overview of the target \n",
    "sns.histplot(data.target, bins=10)  # TODO bins passend zu der Klassifizierung\n",
    "\n"
   ]
  },
  {
   "cell_type": "code",
   "execution_count": 4,
   "metadata": {},
   "outputs": [
    {
     "data": {
      "text/plain": [
       "0        3.831383\n",
       "1        4.383672\n",
       "2        3.516349\n",
       "3        4.004607\n",
       "4        5.184133\n",
       "           ...   \n",
       "20569         NaN\n",
       "20570         NaN\n",
       "20571         NaN\n",
       "20572         NaN\n",
       "20573         NaN\n",
       "Name: target, Length: 20574, dtype: float64"
      ]
     },
     "execution_count": 4,
     "metadata": {},
     "output_type": "execute_result"
    }
   ],
   "source": [
    "#data['target'], lmbda=boxcox(data['target'], lmbda=None)\n",
    "data['target'].apply(np.log1p)"
   ]
  },
  {
   "cell_type": "code",
   "execution_count": 5,
   "metadata": {},
   "outputs": [
    {
     "data": {
      "text/plain": [
       "<AxesSubplot:xlabel='target', ylabel='Count'>"
      ]
     },
     "execution_count": 5,
     "metadata": {},
     "output_type": "execute_result"
    },
    {
     "data": {
      "image/png": "[encoded data removed]",
      "text/plain": [
       "<Figure size 432x288 with 1 Axes>"
      ]
     },
     "metadata": {
      "needs_background": "light"
     },
     "output_type": "display_data"
    }
   ],
   "source": [
    "sns.histplot(data.target)\n"
   ]
  },
  {
   "cell_type": "code",
   "execution_count": 8,
   "metadata": {},
   "outputs": [
    {
     "name": "stdout",
     "output_type": "stream",
     "text": [
      "target    5035.000000\n",
      "target      24.472635\n",
      "dtype: float64\n"
     ]
    }
   ],
   "source": [
    "# null values\n",
    "def print_null(df):\n",
    "    total = df.isnull().sum().sort_values(ascending=False)\n",
    "    total = total[df.isnull().sum().sort_values(ascending=False) != 0]\n",
    "    percent = total /df.shape[0]*100\n",
    "    percent = percent[df.isnull().sum().sort_values(ascending=False) != 0]\n",
    "    concat = pd.concat([total, percent])\n",
    "    print (concat)\n",
    "\n",
    "    \n",
    "print_null(data.drop(features, axis=1))"
   ]
  },
  {
   "cell_type": "code",
   "execution_count": null,
   "metadata": {},
   "outputs": [],
   "source": [
    "#sns.pairplot(data[mean_features])"
   ]
  },
  {
   "cell_type": "markdown",
   "metadata": {},
   "source": [
    "#### EDA on precipitation"
   ]
  },
  {
   "cell_type": "code",
   "execution_count": 56,
   "metadata": {},
   "outputs": [],
   "source": [
    "# EDA precipitation:\n",
    "precip_stats = pd.concat([data.max_precip, \n",
    "                        data.min_precip, \n",
    "                        data.mean_precip, \n",
    "                        data.std_precip, \n",
    "                        data.var_precip, \n",
    "                        data.median_precip,  # all 0,0\n",
    "                        data.ptp_precip],\n",
    "                        axis=1)\n",
    "precip_stats['r_std_precip'] = precip_stats['std_precip'] / precip_stats['mean_precip'] *100\n",
    "data['sum_precip'] = data['precip'].apply(lambda x: np.sum(x))"
   ]
  },
  {
   "cell_type": "code",
   "execution_count": 53,
   "metadata": {},
   "outputs": [
    {
     "data": {
      "text/plain": [
       "<AxesSubplot:xlabel='mean_precip', ylabel='target'>"
      ]
     },
     "execution_count": 53,
     "metadata": {},
     "output_type": "execute_result"
    },
    {
     "data": {
      "image/png": "[encoded data removed]",
      "text/plain": [
       "<Figure size 432x288 with 1 Axes>"
      ]
     },
     "metadata": {
      "needs_background": "light"
     },
     "output_type": "display_data"
    }
   ],
   "source": [
    "sns.scatterplot(data=data, x='mean_precip', y='target')"
   ]
  },
  {
   "cell_type": "code",
   "execution_count": 57,
   "metadata": {},
   "outputs": [
    {
     "data": {
      "text/plain": [
       "<AxesSubplot:xlabel='sum_precip', ylabel='target'>"
      ]
     },
     "execution_count": 57,
     "metadata": {},
     "output_type": "execute_result"
    },
    {
     "data": {
      "image/png": "[encoded data removed]",
      "text/plain": [
       "<Figure size 432x288 with 1 Axes>"
      ]
     },
     "metadata": {
      "needs_background": "light"
     },
     "output_type": "display_data"
    }
   ],
   "source": [
    "sns.scatterplot(data=data, x='sum_precip', y='target')"
   ]
  },
  {
   "cell_type": "code",
   "execution_count": 47,
   "metadata": {},
   "outputs": [
    {
     "data": {
      "text/plain": [
       "array([0.])"
      ]
     },
     "execution_count": 47,
     "metadata": {},
     "output_type": "execute_result"
    }
   ],
   "source": [
    "data.median_precip.unique()"
   ]
  },
  {
   "cell_type": "code",
   "execution_count": 10,
   "metadata": {},
   "outputs": [
    {
     "data": {
      "text/html": [
       "<div>\n",
       "<style scoped>\n",
       "    .dataframe tbody tr th:only-of-type {\n",
       "        vertical-align: middle;\n",
       "    }\n",
       "\n",
       "    .dataframe tbody tr th {\n",
       "        vertical-align: top;\n",
       "    }\n",
       "\n",
       "    .dataframe thead th {\n",
       "        text-align: right;\n",
       "    }\n",
       "</style>\n",
       "<table border=\"1\" class=\"dataframe\">\n",
       "  <thead>\n",
       "    <tr style=\"text-align: right;\">\n",
       "      <th></th>\n",
       "      <th>precip</th>\n",
       "      <th>std_precip</th>\n",
       "      <th>mean_precip</th>\n",
       "    </tr>\n",
       "  </thead>\n",
       "  <tbody>\n",
       "    <tr>\n",
       "      <th>0</th>\n",
       "      <td>[0.0, 0.0, 0.0, 0.0, 0.0, 0.0, 0.0, 0.0, 0.0, ...</td>\n",
       "      <td>0.000000</td>\n",
       "      <td>0.000000</td>\n",
       "    </tr>\n",
       "    <tr>\n",
       "      <th>1</th>\n",
       "      <td>[0.102, 0.0, 0.0, 0.0, 0.0, 0.0, 0.0, 0.034, 0...</td>\n",
       "      <td>0.051706</td>\n",
       "      <td>0.007025</td>\n",
       "    </tr>\n",
       "  </tbody>\n",
       "</table>\n",
       "</div>"
      ],
      "text/plain": [
       "                                              precip  std_precip  mean_precip\n",
       "0  [0.0, 0.0, 0.0, 0.0, 0.0, 0.0, 0.0, 0.0, 0.0, ...    0.000000     0.000000\n",
       "1  [0.102, 0.0, 0.0, 0.0, 0.0, 0.0, 0.0, 0.034, 0...    0.051706     0.007025"
      ]
     },
     "execution_count": 10,
     "metadata": {},
     "output_type": "execute_result"
    }
   ],
   "source": [
    "data[['precip', 'std_precip','mean_precip']].head(2)\n",
    "\n"
   ]
  },
  {
   "cell_type": "code",
   "execution_count": 11,
   "metadata": {},
   "outputs": [
    {
     "data": {
      "text/plain": [
       "array([0.])"
      ]
     },
     "execution_count": 11,
     "metadata": {},
     "output_type": "execute_result"
    }
   ],
   "source": [
    "precip_stats.median_precip.unique() #median values are all 0, why?"
   ]
  },
  {
   "cell_type": "code",
   "execution_count": 12,
   "metadata": {},
   "outputs": [
    {
     "data": {
      "text/plain": [
       "<AxesSubplot:xlabel='mean_precip', ylabel='Count'>"
      ]
     },
     "execution_count": 12,
     "metadata": {},
     "output_type": "execute_result"
    },
    {
     "data": {
      "image/png": "[encoded data removed]",
      "text/plain": [
       "<Figure size 432x288 with 1 Axes>"
      ]
     },
     "metadata": {
      "needs_background": "light"
     },
     "output_type": "display_data"
    }
   ],
   "source": [
    "sns.histplot(precip_stats.mean_precip) # a lot of mean values == 0, when it doesnt rain"
   ]
  },
  {
   "cell_type": "code",
   "execution_count": null,
   "metadata": {},
   "outputs": [],
   "source": [
    "\"\"\"def log1p(x):\n",
    "    return np.log1p(x)\n",
    "\n",
    "precip_stats['log_mean_precip'] = precip_stats['mean_precip'].apply(lambda x: log1p(X) for X in precip_stats.mean_precip )\"\"\""
   ]
  },
  {
   "cell_type": "code",
   "execution_count": 13,
   "metadata": {},
   "outputs": [
    {
     "data": {
      "text/plain": [
       "<AxesSubplot:xlabel='r_std_precip', ylabel='Count'>"
      ]
     },
     "execution_count": 13,
     "metadata": {},
     "output_type": "execute_result"
    },
    {
     "data": {
      "image/png": "[encoded data removed]",
      "text/plain": [
       "<Figure size 432x288 with 1 Axes>"
      ]
     },
     "metadata": {
      "needs_background": "light"
     },
     "output_type": "display_data"
    }
   ],
   "source": [
    "# relative Standard deviation of the precipitation\n",
    "sns.histplot(precip_stats.r_std_precip)"
   ]
  },
  {
   "cell_type": "code",
   "execution_count": 14,
   "metadata": {},
   "outputs": [
    {
     "data": {
      "text/plain": [
       "90      1095.445115\n",
       "7371    1095.445115\n",
       "7451    1095.445115\n",
       "Name: r_std_precip, dtype: float64"
      ]
     },
     "execution_count": 14,
     "metadata": {},
     "output_type": "execute_result"
    }
   ],
   "source": [
    "precip_stats.r_std_precip.sort_values(ascending=False)[:3]"
   ]
  },
  {
   "cell_type": "code",
   "execution_count": 51,
   "metadata": {},
   "outputs": [
    {
     "data": {
      "text/plain": [
       "array([ 25.787     ,   0.        ,   1.12727273,   3.73988635,\n",
       "        13.98674993,   0.        ,  25.787     , 331.76411197])"
      ]
     },
     "execution_count": 51,
     "metadata": {},
     "output_type": "execute_result"
    }
   ],
   "source": [
    "precip_stats.values[3]"
   ]
  },
  {
   "cell_type": "code",
   "execution_count": 59,
   "metadata": {},
   "outputs": [
    {
     "data": {
      "text/plain": [
       "1.127272727272727"
      ]
     },
     "execution_count": 59,
     "metadata": {},
     "output_type": "execute_result"
    }
   ],
   "source": [
    "\n",
    "#np.std(data.precip[90])/\n",
    "np.mean(data.precip[3])#*100"
   ]
  },
  {
   "cell_type": "code",
   "execution_count": 60,
   "metadata": {},
   "outputs": [
    {
     "data": {
      "text/plain": [
       "3.7398863530706783"
      ]
     },
     "execution_count": 60,
     "metadata": {},
     "output_type": "execute_result"
    }
   ],
   "source": [
    "np.std(data.precip[3])"
   ]
  },
  {
   "cell_type": "markdown",
   "metadata": {},
   "source": [
    "The relative standard deviation is less than 15%, it should be ok"
   ]
  },
  {
   "cell_type": "markdown",
   "metadata": {},
   "source": [
    "#### EDA on humidity "
   ]
  },
  {
   "cell_type": "markdown",
   "metadata": {},
   "source": []
  },
  {
   "cell_type": "code",
   "execution_count": 19,
   "metadata": {},
   "outputs": [],
   "source": [
    "# EDA humidity:\n",
    "rel_hum_stats = pd.concat([data.max_rel_humidity, \n",
    "                        data.min_rel_humidity, \n",
    "                        data.mean_rel_humidity, \n",
    "                        data.std_rel_humidity, \n",
    "                        data.var_rel_humidity, \n",
    "                        data.median_rel_humidity,  # all 0\n",
    "                        data.ptp_rel_humidity],\n",
    "                        axis=1)\n",
    "rel_hum_stats['r_std_rel_humidity'] = rel_hum_stats['std_rel_humidity'] / rel_hum_stats['mean_rel_humidity'] * 100\n"
   ]
  },
  {
   "cell_type": "code",
   "execution_count": 20,
   "metadata": {},
   "outputs": [
    {
     "data": {
      "text/plain": [
       "<AxesSubplot:xlabel='mean_rel_humidity', ylabel='Count'>"
      ]
     },
     "execution_count": 20,
     "metadata": {},
     "output_type": "execute_result"
    },
    {
     "data": {
      "image/png": "[encoded data removed]",
      "text/plain": [
       "<Figure size 432x288 with 1 Axes>"
      ]
     },
     "metadata": {
      "needs_background": "light"
     },
     "output_type": "display_data"
    }
   ],
   "source": [
    "sns.histplot(rel_hum_stats.mean_rel_humidity) # a lot of mean values == 0, when it doesnt rain"
   ]
  },
  {
   "cell_type": "code",
   "execution_count": 21,
   "metadata": {},
   "outputs": [
    {
     "data": {
      "text/plain": [
       "<AxesSubplot:xlabel='r_std_rel_humidity', ylabel='Count'>"
      ]
     },
     "execution_count": 21,
     "metadata": {},
     "output_type": "execute_result"
    },
    {
     "data": {
      "image/png": "[encoded data removed]",
      "text/plain": [
       "<Figure size 432x288 with 1 Axes>"
      ]
     },
     "metadata": {
      "needs_background": "light"
     },
     "output_type": "display_data"
    }
   ],
   "source": [
    "# relative Standard deviation of the precipitation\n",
    "sns.histplot(rel_hum_stats.r_std_rel_humidity)"
   ]
  },
  {
   "cell_type": "markdown",
   "metadata": {},
   "source": [
    "### EDA on wind speed"
   ]
  },
  {
   "cell_type": "code",
   "execution_count": 22,
   "metadata": {},
   "outputs": [],
   "source": [
    "# EDA wind speed on metres per second:\n",
    "wind_spd_stats = pd.concat([data.max_wind_spd, \n",
    "                        data.min_wind_spd, \n",
    "                        data.mean_wind_spd, \n",
    "                        data.std_wind_spd, \n",
    "                        data.var_wind_spd, \n",
    "                        data.median_wind_spd,  # all 0\n",
    "                        data.ptp_wind_spd],\n",
    "                        axis=1)\n",
    "wind_spd_stats['r_std_wind_spd'] = wind_spd_stats['std_wind_spd'] / wind_spd_stats['mean_wind_spd'] * 100"
   ]
  },
  {
   "cell_type": "code",
   "execution_count": 23,
   "metadata": {},
   "outputs": [
    {
     "data": {
      "text/plain": [
       "<AxesSubplot:xlabel='mean_wind_spd', ylabel='Count'>"
      ]
     },
     "execution_count": 23,
     "metadata": {},
     "output_type": "execute_result"
    },
    {
     "data": {
      "image/png": "[encoded data removed]",
      "text/plain": [
       "<Figure size 432x288 with 1 Axes>"
      ]
     },
     "metadata": {
      "needs_background": "light"
     },
     "output_type": "display_data"
    }
   ],
   "source": [
    "sns.histplot(wind_spd_stats.mean_wind_spd) # 5m/2 means Beafourt 3 -> leichte brise"
   ]
  },
  {
   "cell_type": "code",
   "execution_count": 24,
   "metadata": {},
   "outputs": [
    {
     "data": {
      "text/plain": [
       "<AxesSubplot:xlabel='r_std_wind_spd', ylabel='Count'>"
      ]
     },
     "execution_count": 24,
     "metadata": {},
     "output_type": "execute_result"
    },
    {
     "data": {
      "image/png": "[encoded data removed]",
      "text/plain": [
       "<Figure size 432x288 with 1 Axes>"
      ]
     },
     "metadata": {
      "needs_background": "light"
     },
     "output_type": "display_data"
    }
   ],
   "source": [
    "sns.histplot(wind_spd_stats.r_std_wind_spd)"
   ]
  },
  {
   "cell_type": "markdown",
   "metadata": {},
   "source": [
    "#### atmos_press: mean atmospheric pressure(atm)*"
   ]
  },
  {
   "cell_type": "code",
   "execution_count": 31,
   "metadata": {},
   "outputs": [
    {
     "data": {
      "text/plain": [
       "[(87.5, 91.0)]"
      ]
     },
     "execution_count": 31,
     "metadata": {},
     "output_type": "execute_result"
    },
    {
     "data": {
      "image/png": "[encoded data removed]",
      "text/plain": [
       "<Figure size 432x288 with 1 Axes>"
      ]
     },
     "metadata": {
      "needs_background": "light"
     },
     "output_type": "display_data"
    }
   ],
   "source": [
    "p = sns.histplot(data=data , x = 'mean_atmos_press', hue='location')\n",
    "p.set(xlim=(87.5, 91))\n"
   ]
  },
  {
   "cell_type": "code",
   "execution_count": 64,
   "metadata": {},
   "outputs": [
    {
     "data": {
      "text/plain": [
       "[(87.5, 91.0)]"
      ]
     },
     "execution_count": 64,
     "metadata": {},
     "output_type": "execute_result"
    },
    {
     "data": {
      "image/png": "[encoded data removed]",
      "text/plain": [
       "<Figure size 432x288 with 1 Axes>"
      ]
     },
     "metadata": {
      "needs_background": "light"
     },
     "output_type": "display_data"
    }
   ],
   "source": [
    "locations = ['A', 'B', 'C', 'D', 'E']\n",
    "\n",
    "a = data[(data['location']=='E')]\n",
    "ad= sns.histplot(a.mean_atmos_press)\n",
    "ad.set(xlim=(87.5, 91))"
   ]
  },
  {
   "cell_type": "markdown",
   "metadata": {},
   "source": [
    "mean_atmos_press depends on the location. \n",
    "?needs to level?"
   ]
  },
  {
   "cell_type": "code",
   "execution_count": null,
   "metadata": {},
   "outputs": [],
   "source": []
  },
  {
   "cell_type": "markdown",
   "metadata": {},
   "source": [
    "# Feature engineering"
   ]
  },
  {
   "cell_type": "markdown",
   "metadata": {},
   "source": [
    "on data process"
   ]
  },
  {
   "cell_type": "code",
   "execution_count": 75,
   "metadata": {},
   "outputs": [
    {
     "data": {
      "text/html": [
       "<div>\n",
       "<style scoped>\n",
       "    .dataframe tbody tr th:only-of-type {\n",
       "        vertical-align: middle;\n",
       "    }\n",
       "\n",
       "    .dataframe tbody tr th {\n",
       "        vertical-align: top;\n",
       "    }\n",
       "\n",
       "    .dataframe thead th {\n",
       "        text-align: right;\n",
       "    }\n",
       "</style>\n",
       "<table border=\"1\" class=\"dataframe\">\n",
       "  <thead>\n",
       "    <tr style=\"text-align: right;\">\n",
       "      <th></th>\n",
       "      <th>ID</th>\n",
       "      <th>location</th>\n",
       "      <th>target</th>\n",
       "      <th>max_temp</th>\n",
       "      <th>min_temp</th>\n",
       "      <th>mean_temp</th>\n",
       "      <th>std_temp</th>\n",
       "      <th>var_temp</th>\n",
       "      <th>median_temp</th>\n",
       "      <th>ptp_temp</th>\n",
       "      <th>...</th>\n",
       "      <th>newrel_humidity119</th>\n",
       "      <th>newwind_dir119</th>\n",
       "      <th>windspeed119</th>\n",
       "      <th>atmospherepressure119</th>\n",
       "      <th>newtemp120</th>\n",
       "      <th>newprecip120</th>\n",
       "      <th>newrel_humidity120</th>\n",
       "      <th>newwind_dir120</th>\n",
       "      <th>windspeed120</th>\n",
       "      <th>atmospherepressure120</th>\n",
       "    </tr>\n",
       "  </thead>\n",
       "  <tbody>\n",
       "    <tr>\n",
       "      <th>0</th>\n",
       "      <td>ID_train_0</td>\n",
       "      <td>C</td>\n",
       "      <td>45.126304</td>\n",
       "      <td>27.208333</td>\n",
       "      <td>19.275000</td>\n",
       "      <td>22.299527</td>\n",
       "      <td>2.594011</td>\n",
       "      <td>6.728895</td>\n",
       "      <td>21.358333</td>\n",
       "      <td>7.933333</td>\n",
       "      <td>...</td>\n",
       "      <td>NaN</td>\n",
       "      <td>NaN</td>\n",
       "      <td>NaN</td>\n",
       "      <td>NaN</td>\n",
       "      <td>NaN</td>\n",
       "      <td>NaN</td>\n",
       "      <td>NaN</td>\n",
       "      <td>NaN</td>\n",
       "      <td>NaN</td>\n",
       "      <td>NaN</td>\n",
       "    </tr>\n",
       "    <tr>\n",
       "      <th>1</th>\n",
       "      <td>ID_train_1</td>\n",
       "      <td>D</td>\n",
       "      <td>79.131702</td>\n",
       "      <td>33.616667</td>\n",
       "      <td>17.983333</td>\n",
       "      <td>24.679063</td>\n",
       "      <td>4.266955</td>\n",
       "      <td>18.206903</td>\n",
       "      <td>23.791667</td>\n",
       "      <td>15.633333</td>\n",
       "      <td>...</td>\n",
       "      <td>0.649250</td>\n",
       "      <td>73.528733</td>\n",
       "      <td>1.475833</td>\n",
       "      <td>90.439167</td>\n",
       "      <td>21.450000</td>\n",
       "      <td>0.561</td>\n",
       "      <td>0.797333</td>\n",
       "      <td>296.967254</td>\n",
       "      <td>1.019167</td>\n",
       "      <td>90.529167</td>\n",
       "    </tr>\n",
       "    <tr>\n",
       "      <th>2</th>\n",
       "      <td>ID_train_10</td>\n",
       "      <td>A</td>\n",
       "      <td>32.661304</td>\n",
       "      <td>31.841667</td>\n",
       "      <td>18.458333</td>\n",
       "      <td>24.112317</td>\n",
       "      <td>3.776377</td>\n",
       "      <td>14.261020</td>\n",
       "      <td>23.304167</td>\n",
       "      <td>13.383333</td>\n",
       "      <td>...</td>\n",
       "      <td>0.437917</td>\n",
       "      <td>NaN</td>\n",
       "      <td>NaN</td>\n",
       "      <td>88.415833</td>\n",
       "      <td>NaN</td>\n",
       "      <td>NaN</td>\n",
       "      <td>NaN</td>\n",
       "      <td>NaN</td>\n",
       "      <td>NaN</td>\n",
       "      <td>NaN</td>\n",
       "    </tr>\n",
       "    <tr>\n",
       "      <th>3</th>\n",
       "      <td>ID_train_100</td>\n",
       "      <td>A</td>\n",
       "      <td>53.850238</td>\n",
       "      <td>27.491667</td>\n",
       "      <td>16.941667</td>\n",
       "      <td>20.845273</td>\n",
       "      <td>3.080140</td>\n",
       "      <td>9.487259</td>\n",
       "      <td>19.541667</td>\n",
       "      <td>10.550000</td>\n",
       "      <td>...</td>\n",
       "      <td>0.766417</td>\n",
       "      <td>NaN</td>\n",
       "      <td>NaN</td>\n",
       "      <td>88.490833</td>\n",
       "      <td>24.641667</td>\n",
       "      <td>0.000</td>\n",
       "      <td>0.719667</td>\n",
       "      <td>NaN</td>\n",
       "      <td>NaN</td>\n",
       "      <td>88.465833</td>\n",
       "    </tr>\n",
       "    <tr>\n",
       "      <th>4</th>\n",
       "      <td>ID_train_1000</td>\n",
       "      <td>A</td>\n",
       "      <td>177.418750</td>\n",
       "      <td>28.750000</td>\n",
       "      <td>17.525000</td>\n",
       "      <td>21.870732</td>\n",
       "      <td>3.286870</td>\n",
       "      <td>10.803515</td>\n",
       "      <td>20.950000</td>\n",
       "      <td>11.225000</td>\n",
       "      <td>...</td>\n",
       "      <td>NaN</td>\n",
       "      <td>NaN</td>\n",
       "      <td>NaN</td>\n",
       "      <td>NaN</td>\n",
       "      <td>NaN</td>\n",
       "      <td>NaN</td>\n",
       "      <td>NaN</td>\n",
       "      <td>NaN</td>\n",
       "      <td>NaN</td>\n",
       "      <td>NaN</td>\n",
       "    </tr>\n",
       "  </tbody>\n",
       "</table>\n",
       "<p>5 rows × 771 columns</p>\n",
       "</div>"
      ],
      "text/plain": [
       "              ID location      target   max_temp   min_temp  mean_temp  \\\n",
       "0     ID_train_0        C   45.126304  27.208333  19.275000  22.299527   \n",
       "1     ID_train_1        D   79.131702  33.616667  17.983333  24.679063   \n",
       "2    ID_train_10        A   32.661304  31.841667  18.458333  24.112317   \n",
       "3   ID_train_100        A   53.850238  27.491667  16.941667  20.845273   \n",
       "4  ID_train_1000        A  177.418750  28.750000  17.525000  21.870732   \n",
       "\n",
       "   std_temp   var_temp  median_temp   ptp_temp  ...  newrel_humidity119  \\\n",
       "0  2.594011   6.728895    21.358333   7.933333  ...                 NaN   \n",
       "1  4.266955  18.206903    23.791667  15.633333  ...            0.649250   \n",
       "2  3.776377  14.261020    23.304167  13.383333  ...            0.437917   \n",
       "3  3.080140   9.487259    19.541667  10.550000  ...            0.766417   \n",
       "4  3.286870  10.803515    20.950000  11.225000  ...                 NaN   \n",
       "\n",
       "   newwind_dir119  windspeed119  atmospherepressure119  newtemp120  \\\n",
       "0             NaN           NaN                    NaN         NaN   \n",
       "1       73.528733      1.475833              90.439167   21.450000   \n",
       "2             NaN           NaN              88.415833         NaN   \n",
       "3             NaN           NaN              88.490833   24.641667   \n",
       "4             NaN           NaN                    NaN         NaN   \n",
       "\n",
       "   newprecip120  newrel_humidity120  newwind_dir120  windspeed120  \\\n",
       "0           NaN                 NaN             NaN           NaN   \n",
       "1         0.561            0.797333      296.967254      1.019167   \n",
       "2           NaN                 NaN             NaN           NaN   \n",
       "3         0.000            0.719667             NaN           NaN   \n",
       "4           NaN                 NaN             NaN           NaN   \n",
       "\n",
       "   atmospherepressure120  \n",
       "0                    NaN  \n",
       "1              90.529167  \n",
       "2                    NaN  \n",
       "3              88.465833  \n",
       "4                    NaN  \n",
       "\n",
       "[5 rows x 771 columns]"
      ]
     },
     "execution_count": 75,
     "metadata": {},
     "output_type": "execute_result"
    }
   ],
   "source": [
    "train_z = pd.read_pickle('data/train_process.pkl')\n",
    "test_z = pd.read_pickle('data/test_process.pkl')"
   ]
  },
  {
   "cell_type": "markdown",
   "metadata": {},
   "source": [
    "### Log(1+x) Tranform target"
   ]
  },
  {
   "cell_type": "code",
   "execution_count": 76,
   "metadata": {},
   "outputs": [],
   "source": [
    "train_z['log_target'] = train_z['target'].apply(np.log1p)"
   ]
  },
  {
   "cell_type": "markdown",
   "metadata": {},
   "source": [
    "### One Hot encoder location"
   ]
  },
  {
   "cell_type": "code",
   "execution_count": 71,
   "metadata": {},
   "outputs": [],
   "source": [
    "from sklearn.preprocessing import LabelEncoder\n",
    "enc = LabelEncoder()\n",
    "\n",
    "# TODO"
   ]
  },
  {
   "cell_type": "markdown",
   "metadata": {},
   "source": [
    "### original feature drop\n",
    "\n",
    "in Zindi database is done"
   ]
  },
  {
   "cell_type": "markdown",
   "metadata": {},
   "source": []
  },
  {
   "cell_type": "markdown",
   "metadata": {},
   "source": [
    "### export as csv\n"
   ]
  },
  {
   "cell_type": "code",
   "execution_count": null,
   "metadata": {},
   "outputs": [],
   "source": [
    "train_z.to_csv('data/train_ours.csv')\n",
    "test_z.to_csv('data/test_ours.csv')"
   ]
  },
  {
   "cell_type": "markdown",
   "metadata": {},
   "source": [
    "## Basis Model\n",
    "\n",
    "the prediction gives the mean value of the target"
   ]
  },
  {
   "cell_type": "code",
   "execution_count": 78,
   "metadata": {},
   "outputs": [],
   "source": [
    "from sklearn.metrics import mean_squared_error"
   ]
  },
  {
   "cell_type": "code",
   "execution_count": 79,
   "metadata": {},
   "outputs": [],
   "source": [
    "def rmse(y_true, y_pred):\n",
    "    return np.sqrt(mean_squared_error(y_true, y_pred))"
   ]
  },
  {
   "cell_type": "code",
   "execution_count": 92,
   "metadata": {},
   "outputs": [],
   "source": [
    "def error_analysis(y_test, y_pred_test):\n",
    "    \"\"\"Generated true vs. predicted values and residual scatter plot for models\n",
    "\n",
    "    Args:\n",
    "        y_test (array): true values for y_test\n",
    "        y_pred_test (array): predicted values of model for y_test\n",
    "    \"\"\"     \n",
    "    # Calculate residuals\n",
    "    residuals = y_test - y_pred_test\n",
    "    \n",
    "    # Plot real vs. predicted values \n",
    "    fig, ax = plt.subplots(1,2, figsize=(15, 5))\n",
    "    plt.subplots_adjust(right=1)\n",
    "    plt.suptitle('Error Analysis')\n",
    "    \n",
    "    ax[0].scatter(y_pred_test, y_test, color=\"#FF5A36\", alpha=0.7)\n",
    "    ax[0].plot([-400, 350], [-400, 350], color=\"#193251\")\n",
    "    ax[0].set_title(\"True vs. predicted values\", fontsize=16)\n",
    "    ax[0].set_xlabel(\"predicted values\")\n",
    "    ax[0].set_ylabel(\"true values\")\n",
    "    #ax[0].set_xlim((y_pred_test.min()-10), (y_pred_test.max()+10))\n",
    "    ax[0].set_ylim((y_test.min()-40), (y_test.max()+40))\n",
    "    \n",
    "    ax[1].scatter(y_pred_test, residuals, color=\"#FF5A36\", alpha=0.7)\n",
    "    ax[1].plot([-400, 350], [0,0], color=\"#193251\")\n",
    "    ax[1].set_title(\"Residual Scatter Plot\", fontsize=16)\n",
    "    ax[1].set_xlabel(\"predicted values\")\n",
    "    ax[1].set_ylabel(\"residuals\")\n",
    "    #ax[1].set_xlim((y_pred_test.min()-10), (y_pred_test.max()+10))\n",
    "    #ax[1].set_ylim((residuals.min()-10), (residuals.max()+10));"
   ]
  },
  {
   "cell_type": "code",
   "execution_count": 85,
   "metadata": {},
   "outputs": [
    {
     "name": "stdout",
     "output_type": "stream",
     "text": [
      "RMSE for Zindi: 42.372336\n",
      "RMSE for Our: 54.354144\n"
     ]
    }
   ],
   "source": [
    "# with zindi data:\n",
    "\n",
    "# mean target\n",
    "mean_target_zindi = train_z.target.mean()\n",
    "y_target_zindi = [mean_target_zindi for x in range (train_z.target.shape[0])]\n",
    "\n",
    "# with our data : \n",
    "#mean_target_our= train_z.log_target.mean()\n",
    "mean_target_our = np.log1p(y_target_zindi)\n",
    "y_target_our = [mean_target_our for x in range (train_z.target.shape[0])]\n",
    "\n",
    "rmse_zindi = rmse(train_z.target, y_target_zindi)\n",
    "rmse_our =   rmse(train_z.log_target, y_target_zindi)\n",
    "\n",
    "print (f'RMSE for Zindi: {rmse_zindi:2f}')\n",
    "print (f'RMSE for Our: {rmse_our:2f}') #54.354144"
   ]
  },
  {
   "cell_type": "code",
   "execution_count": 93,
   "metadata": {},
   "outputs": [
    {
     "data": {
      "image/png": "[encoded data removed]",
      "text/plain": [
       "<Figure size 1080x360 with 2 Axes>"
      ]
     },
     "metadata": {
      "needs_background": "light"
     },
     "output_type": "display_data"
    }
   ],
   "source": [
    "# error analysis \n",
    "error_analysis(train_z.target, y_target_zindi)"
   ]
  },
  {
   "cell_type": "code",
   "execution_count": 94,
   "metadata": {},
   "outputs": [
    {
     "data": {
      "image/png": "[encoded data removed]",
      "text/plain": [
       "<Figure size 1080x360 with 2 Axes>"
      ]
     },
     "metadata": {
      "needs_background": "light"
     },
     "output_type": "display_data"
    }
   ],
   "source": [
    "# error analysis in our data\n",
    "error_analysis(train_z.log_target, y_target_zindi)"
   ]
  },
  {
   "cell_type": "code",
   "execution_count": null,
   "metadata": {},
   "outputs": [],
   "source": [
    "X_train.info()"
   ]
  },
  {
   "cell_type": "code",
   "execution_count": null,
   "metadata": {},
   "outputs": [],
   "source": [
    "altitude_low_meters_mean = X_train[\"altitude_low_meters\"].mean()\n",
    "altitude_high_meters_mean = X_train[\"altitude_high_meters\"].mean()\n",
    "altitude_mean_log_mean = X_train[\"altitude_mean_log\"].mean()"
   ]
  },
  {
   "cell_type": "code",
   "execution_count": null,
   "metadata": {},
   "outputs": [],
   "source": [
    "# fillna with mean.. \n",
    "X_train[\"altitude_low_meters\"] = X_train[\"altitude_low_meters\"].fillna(altitude_low_meters_mean)\n",
    "X_train[\"altitude_high_meters\"] = X_train[\"altitude_high_meters\"].fillna(altitude_high_meters_mean)\n",
    "X_train[\"altitude_mean_log\"] = X_train[\"altitude_mean_log\"].fillna(altitude_mean_log_mean)"
   ]
  },
  {
   "cell_type": "code",
   "execution_count": null,
   "metadata": {},
   "outputs": [],
   "source": [
    "print(f\"altitude low meters mean is {altitude_low_meters_mean}\")\n",
    "print(f\"altitude_high_meters_mean is {altitude_high_meters_mean}\")\n",
    "print(f\"altitude_mean_log_mean is {altitude_mean_log_mean}\")"
   ]
  },
  {
   "cell_type": "markdown",
   "metadata": {},
   "source": [
    "## Trainining the model"
   ]
  },
  {
   "cell_type": "code",
   "execution_count": null,
   "metadata": {},
   "outputs": [],
   "source": [
    "## in order to exemplify how the predict will work.. we will save the y_train\n",
    "X_test.to_csv(\"data/X_test.csv\")\n",
    "y_test.to_csv(\"data/y_test.csv\")"
   ]
  },
  {
   "cell_type": "code",
   "execution_count": null,
   "metadata": {},
   "outputs": [],
   "source": [
    "#training the model\n",
    "from sklearn.linear_model import LinearRegression\n",
    "reg = LinearRegression().fit(X_train, y_train)"
   ]
  },
  {
   "cell_type": "code",
   "execution_count": null,
   "metadata": {},
   "outputs": [],
   "source": [
    "from sklearn.metrics import mean_squared_error\n",
    "y_train_pred = reg.predict(X_train)\n",
    "mse = mean_squared_error(y_train, y_train_pred)\n",
    "print(mse)"
   ]
  },
  {
   "cell_type": "code",
   "execution_count": null,
   "metadata": {},
   "outputs": [],
   "source": [
    "#dropping Quakers column and unnamed\n",
    "#changing one of the altitude to log and droping the original\n",
    "X_test[\"altitude_mean_log\"] = np.log(X_test[\"altitude_mean_meters\"])\n",
    "X_test.drop(['altitude_mean_meters'], axis=1, inplace=True)\n",
    "X_test.drop(['Quakers'], axis=1, inplace=True)\n",
    "X_test.drop(['Unnamed: 0'], axis=1, inplace=True)\n",
    "# fillna with mean.. \n",
    "X_test[\"altitude_low_meters\"] = X_test[\"altitude_low_meters\"].fillna(altitude_low_meters_mean)\n",
    "X_test[\"altitude_high_meters\"] = X_test[\"altitude_high_meters\"].fillna(altitude_high_meters_mean)\n",
    "X_test[\"altitude_mean_log\"] = X_test[\"altitude_mean_log\"].fillna(altitude_mean_log_mean)"
   ]
  },
  {
   "cell_type": "code",
   "execution_count": null,
   "metadata": {},
   "outputs": [],
   "source": [
    "y_test_pred = reg.predict(X_test)\n",
    "mse = mean_squared_error(y_test, y_test_pred)\n",
    "print(mse)"
   ]
  }
 ],
 "metadata": {
  "kernelspec": {
   "display_name": "Python 3",
   "language": "python",
   "name": "python3"
  },
  "language_info": {
   "codemirror_mode": {
    "name": "ipython",
    "version": 3
   },
   "file_extension": ".py",
   "mimetype": "text/x-python",
   "name": "python",
   "nbconvert_exporter": "python",
   "pygments_lexer": "ipython3",
   "version": "3.9.4"
  }
 },
 "nbformat": 4,
 "nbformat_minor": 4
}
