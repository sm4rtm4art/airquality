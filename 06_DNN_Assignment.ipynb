{
 "cells": [
  {
   "cell_type": "markdown",
   "id": "f35455b7",
   "metadata": {},
   "source": [
    "# DNN Assignment\n",
    "In this assignment you are working together with your teammates from the second project. You will apply your new knowledge about dense neural networks to the data from your ML project to investigate, if you can make further improvements on prediction performance. Your data is (hopefully) already cleaned and transformed (this was part of your ML project) such that you can focus fully on feeding it to your neural network. Use TensorFlow 2.x in this assignment as it makes training with real-life data much more easier with many implemented features (e.g. early-stopping, tensorboard, regularization, etc.). \n",
    "\n",
    "In this notebook you will learn\n",
    "- how to apply a neural network to your own data using TensorFlow 2.x\n",
    "- how to tune the network and monitor learning\n",
    "- how to train several networks and ensemble them into a stronger model"
   ]
  },
  {
   "cell_type": "markdown",
   "id": "3f967c6d",
   "metadata": {},
   "source": [
    "# Module loading\n",
    "Load all the necessary packages for your assignment. We give you some modules in advance, feel free to add more, if you need them."
   ]
  },
  {
   "cell_type": "code",
   "execution_count": 1,
   "id": "4e0d764d",
   "metadata": {},
   "outputs": [
    {
     "name": "stdout",
     "output_type": "stream",
     "text": [
      "Using TensorFlow version: 2.8.0\n"
     ]
    }
   ],
   "source": [
    "import datetime, time, os\n",
    "import numpy as np\n",
    "import pandas as pd\n",
    "\n",
    "import tensorflow as tf\n",
    "import matplotlib.pyplot as plt\n",
    "\n",
    "from tensorflow.keras import layers\n",
    "from tensorflow.keras import regularizers\n",
    "\n",
    "from sklearn.model_selection import train_test_split\n",
    "from sklearn.metrics import mean_squared_error\n",
    "    \n",
    "print('Using TensorFlow version: %s' % tf.__version__)\n",
    "\n",
    "RSEED = 1337"
   ]
  },
  {
   "cell_type": "code",
   "execution_count": 2,
   "id": "28b25ae6",
   "metadata": {},
   "outputs": [],
   "source": [
    "!pip install -q git+https://github.com/tensorflow/docs\n",
    "    \n",
    "import tensorflow_docs as tfdocs\n",
    "import tensorflow_docs.modeling\n",
    "import tensorflow_docs.plots"
   ]
  },
  {
   "cell_type": "markdown",
   "id": "9a12ef62",
   "metadata": {},
   "source": [
    "## Data loading\n",
    "Load here your data from your ML project. You can use either `pandas` or `numpy` to format your data. "
   ]
  },
  {
   "cell_type": "code",
   "execution_count": 3,
   "id": "9eb56623",
   "metadata": {},
   "outputs": [
    {
     "name": "stdout",
     "output_type": "stream",
     "text": [
      "Data: (4990, 44)\n"
     ]
    }
   ],
   "source": [
    "# Import Data\n",
    "\n",
    "data = pd.read_csv('data/data_prep_reg.csv', index_col=[0]) # includes the statistics of the features only location D\n",
    "#data = pd.read_csv('data/data_prep_feat.csv', index_col=[0]) # includes all values as a new features only location D\n",
    "#data = pd.read_csv('data/data_prep_reg_all.csv', index_col=[0]) # include the statistics of the features an all locations\n",
    "\n",
    "print(f'Data: {data.shape}')"
   ]
  },
  {
   "cell_type": "code",
   "execution_count": 4,
   "id": "373b02f5",
   "metadata": {},
   "outputs": [],
   "source": [
    "#fillna\n",
    "data = data.fillna(data.mean())"
   ]
  },
  {
   "cell_type": "code",
   "execution_count": 5,
   "id": "698f82cf",
   "metadata": {},
   "outputs": [
    {
     "data": {
      "text/html": [
       "<div>\n",
       "<style scoped>\n",
       "    .dataframe tbody tr th:only-of-type {\n",
       "        vertical-align: middle;\n",
       "    }\n",
       "\n",
       "    .dataframe tbody tr th {\n",
       "        vertical-align: top;\n",
       "    }\n",
       "\n",
       "    .dataframe thead th {\n",
       "        text-align: right;\n",
       "    }\n",
       "</style>\n",
       "<table border=\"1\" class=\"dataframe\">\n",
       "  <thead>\n",
       "    <tr style=\"text-align: right;\">\n",
       "      <th></th>\n",
       "      <th>location</th>\n",
       "      <th>target</th>\n",
       "      <th>max_temp</th>\n",
       "      <th>min_temp</th>\n",
       "      <th>mean_temp</th>\n",
       "      <th>std_temp</th>\n",
       "      <th>var_temp</th>\n",
       "      <th>median_temp</th>\n",
       "      <th>ptp_temp</th>\n",
       "      <th>max_precip</th>\n",
       "      <th>...</th>\n",
       "      <th>var_wind_spd</th>\n",
       "      <th>median_wind_spd</th>\n",
       "      <th>ptp_wind_spd</th>\n",
       "      <th>max_atmos_press</th>\n",
       "      <th>min_atmos_press</th>\n",
       "      <th>mean_atmos_press</th>\n",
       "      <th>std_atmos_press</th>\n",
       "      <th>var_atmos_press</th>\n",
       "      <th>median_atmos_press</th>\n",
       "      <th>ptp_atmos_press</th>\n",
       "    </tr>\n",
       "  </thead>\n",
       "  <tbody>\n",
       "    <tr>\n",
       "      <th>1</th>\n",
       "      <td>3</td>\n",
       "      <td>79.131702</td>\n",
       "      <td>33.616667</td>\n",
       "      <td>17.983333</td>\n",
       "      <td>24.679063</td>\n",
       "      <td>4.266955</td>\n",
       "      <td>18.206903</td>\n",
       "      <td>23.791667</td>\n",
       "      <td>15.633333</td>\n",
       "      <td>0.561</td>\n",
       "      <td>...</td>\n",
       "      <td>0.290736</td>\n",
       "      <td>0.744167</td>\n",
       "      <td>2.760833</td>\n",
       "      <td>90.725000</td>\n",
       "      <td>90.056667</td>\n",
       "      <td>90.429924</td>\n",
       "      <td>0.156000</td>\n",
       "      <td>0.024336</td>\n",
       "      <td>90.429167</td>\n",
       "      <td>0.668333</td>\n",
       "    </tr>\n",
       "    <tr>\n",
       "      <th>10</th>\n",
       "      <td>3</td>\n",
       "      <td>55.638261</td>\n",
       "      <td>34.041667</td>\n",
       "      <td>17.191667</td>\n",
       "      <td>23.189507</td>\n",
       "      <td>4.432786</td>\n",
       "      <td>19.649595</td>\n",
       "      <td>22.033333</td>\n",
       "      <td>16.850000</td>\n",
       "      <td>10.302</td>\n",
       "      <td>...</td>\n",
       "      <td>0.533776</td>\n",
       "      <td>0.840833</td>\n",
       "      <td>3.285000</td>\n",
       "      <td>90.986667</td>\n",
       "      <td>90.211667</td>\n",
       "      <td>90.624814</td>\n",
       "      <td>0.179998</td>\n",
       "      <td>0.032399</td>\n",
       "      <td>90.641667</td>\n",
       "      <td>0.775000</td>\n",
       "    </tr>\n",
       "    <tr>\n",
       "      <th>13</th>\n",
       "      <td>3</td>\n",
       "      <td>32.240851</td>\n",
       "      <td>29.608333</td>\n",
       "      <td>19.166667</td>\n",
       "      <td>23.151446</td>\n",
       "      <td>2.808773</td>\n",
       "      <td>7.889204</td>\n",
       "      <td>22.291667</td>\n",
       "      <td>10.441667</td>\n",
       "      <td>2.229</td>\n",
       "      <td>...</td>\n",
       "      <td>0.195908</td>\n",
       "      <td>0.627500</td>\n",
       "      <td>1.705000</td>\n",
       "      <td>90.744167</td>\n",
       "      <td>90.102500</td>\n",
       "      <td>90.454477</td>\n",
       "      <td>0.149374</td>\n",
       "      <td>0.022312</td>\n",
       "      <td>90.471667</td>\n",
       "      <td>0.641667</td>\n",
       "    </tr>\n",
       "    <tr>\n",
       "      <th>15</th>\n",
       "      <td>3</td>\n",
       "      <td>72.717021</td>\n",
       "      <td>29.133333</td>\n",
       "      <td>17.516667</td>\n",
       "      <td>22.341529</td>\n",
       "      <td>3.161073</td>\n",
       "      <td>9.992384</td>\n",
       "      <td>21.683333</td>\n",
       "      <td>11.616667</td>\n",
       "      <td>13.588</td>\n",
       "      <td>...</td>\n",
       "      <td>0.124645</td>\n",
       "      <td>0.625000</td>\n",
       "      <td>1.608333</td>\n",
       "      <td>90.873333</td>\n",
       "      <td>90.284167</td>\n",
       "      <td>90.607307</td>\n",
       "      <td>0.139059</td>\n",
       "      <td>0.019337</td>\n",
       "      <td>90.620833</td>\n",
       "      <td>0.589167</td>\n",
       "    </tr>\n",
       "    <tr>\n",
       "      <th>22</th>\n",
       "      <td>3</td>\n",
       "      <td>35.833571</td>\n",
       "      <td>30.558333</td>\n",
       "      <td>16.983333</td>\n",
       "      <td>22.401240</td>\n",
       "      <td>3.592899</td>\n",
       "      <td>12.908921</td>\n",
       "      <td>21.333333</td>\n",
       "      <td>13.575000</td>\n",
       "      <td>43.080</td>\n",
       "      <td>...</td>\n",
       "      <td>0.186272</td>\n",
       "      <td>0.678333</td>\n",
       "      <td>2.197500</td>\n",
       "      <td>91.004167</td>\n",
       "      <td>90.217500</td>\n",
       "      <td>90.600544</td>\n",
       "      <td>0.172882</td>\n",
       "      <td>0.029888</td>\n",
       "      <td>90.600833</td>\n",
       "      <td>0.786667</td>\n",
       "    </tr>\n",
       "  </tbody>\n",
       "</table>\n",
       "<p>5 rows × 44 columns</p>\n",
       "</div>"
      ],
      "text/plain": [
       "    location     target   max_temp   min_temp  mean_temp  std_temp   var_temp  \\\n",
       "1          3  79.131702  33.616667  17.983333  24.679063  4.266955  18.206903   \n",
       "10         3  55.638261  34.041667  17.191667  23.189507  4.432786  19.649595   \n",
       "13         3  32.240851  29.608333  19.166667  23.151446  2.808773   7.889204   \n",
       "15         3  72.717021  29.133333  17.516667  22.341529  3.161073   9.992384   \n",
       "22         3  35.833571  30.558333  16.983333  22.401240  3.592899  12.908921   \n",
       "\n",
       "    median_temp   ptp_temp  max_precip  ...  var_wind_spd  median_wind_spd  \\\n",
       "1     23.791667  15.633333       0.561  ...      0.290736         0.744167   \n",
       "10    22.033333  16.850000      10.302  ...      0.533776         0.840833   \n",
       "13    22.291667  10.441667       2.229  ...      0.195908         0.627500   \n",
       "15    21.683333  11.616667      13.588  ...      0.124645         0.625000   \n",
       "22    21.333333  13.575000      43.080  ...      0.186272         0.678333   \n",
       "\n",
       "    ptp_wind_spd  max_atmos_press  min_atmos_press  mean_atmos_press  \\\n",
       "1       2.760833        90.725000        90.056667         90.429924   \n",
       "10      3.285000        90.986667        90.211667         90.624814   \n",
       "13      1.705000        90.744167        90.102500         90.454477   \n",
       "15      1.608333        90.873333        90.284167         90.607307   \n",
       "22      2.197500        91.004167        90.217500         90.600544   \n",
       "\n",
       "    std_atmos_press  var_atmos_press  median_atmos_press  ptp_atmos_press  \n",
       "1          0.156000         0.024336           90.429167         0.668333  \n",
       "10         0.179998         0.032399           90.641667         0.775000  \n",
       "13         0.149374         0.022312           90.471667         0.641667  \n",
       "15         0.139059         0.019337           90.620833         0.589167  \n",
       "22         0.172882         0.029888           90.600833         0.786667  \n",
       "\n",
       "[5 rows x 44 columns]"
      ]
     },
     "execution_count": 5,
     "metadata": {},
     "output_type": "execute_result"
    }
   ],
   "source": [
    "data.head()"
   ]
  },
  {
   "cell_type": "code",
   "execution_count": 6,
   "id": "5c198ff2",
   "metadata": {},
   "outputs": [
    {
     "name": "stdout",
     "output_type": "stream",
     "text": [
      "X: (4990, 42)\n",
      "y: (4990,)\n",
      "X_train: (3493, 42)\n",
      "y_train: (3493,)\n",
      "X_test: (1497, 42)\n",
      "y_test: (1497,)\n"
     ]
    }
   ],
   "source": [
    "columns_to_drop = ['target', 'location']\n",
    "# define features and target\n",
    "X = data.drop(columns_to_drop, axis=1)\n",
    "y = data.target\n",
    "\n",
    "# test train split: \n",
    "X_train, X_test, y_train, y_test = train_test_split(  \n",
    "                                    X, y, test_size = 0.3, \n",
    "                                    random_state = RSEED) \n",
    "\n",
    "print (f'X: {X.shape}')\n",
    "print (f'y: {y.shape}')\n",
    "\n",
    "print (f'X_train: {X_train.shape}')\n",
    "print (f'y_train: {y_train.shape}')\n",
    "\n",
    "print (f'X_test: {X_test.shape}')\n",
    "print (f'y_test: {y_test.shape}')"
   ]
  },
  {
   "cell_type": "markdown",
   "id": "26098865",
   "metadata": {},
   "source": [
    "## Training\n",
    "For training you need a train/val split (hopefully you did a train/test split before (and you should use the same as in your ML project to make results comparable). "
   ]
  },
  {
   "cell_type": "code",
   "execution_count": 7,
   "id": "467c0dc4",
   "metadata": {},
   "outputs": [],
   "source": [
    "N_VAL =  len(X_test)\n",
    "N_TRAIN = len(X_train)\n",
    "BATCH_SIZE = 32\n",
    "STEPS_PER_EPOCH = N_TRAIN // BATCH_SIZE\n",
    "EPOCHS = 2000"
   ]
  },
  {
   "cell_type": "markdown",
   "id": "afda48b9",
   "metadata": {},
   "source": [
    "### Build, compile and fit your model\n",
    "To become fast at retraining your (different) models it is good practice to define a function that gets fed by a model, its name, an optimizer to use and the number of epochs you want the model to be trained. \n",
    "\n",
    "If your model trains for many epochs you will receive a lot of logging from TensorFlow. To reduce the logging noise you can use a callback (provided by the `tensorflow_docs` module we installed and imported for you) named `EpochDots()` that simply prints a `.` for each epoch and a full set of metrics after a number of epochs have been trained. \n",
    "\n",
    "If you want to produce logs for using Tensorboard you also need to include the `callbacks.Tensorboard()`."
   ]
  },
  {
   "cell_type": "code",
   "execution_count": 8,
   "id": "80056b03",
   "metadata": {},
   "outputs": [],
   "source": [
    "# aktiviert\n",
    "!rm -rf my_logs/\n"
   ]
  },
  {
   "cell_type": "code",
   "execution_count": 9,
   "id": "ce0a2e45",
   "metadata": {},
   "outputs": [],
   "source": [
    "# preparation for Tensorboard\n",
    "\n",
    "# Define path for new directory \n",
    "root_logdir = os.path.join(os.curdir, \"my_logs\")\n",
    "\n",
    "# Define function for creating a new folder for each run\n",
    "def get_run_logdir():\n",
    "    run_id = time.strftime('run_%d_%m_%Y-%H_%M_%S')\n",
    "    return os.path.join(root_logdir, run_id)\n",
    "    \n",
    "run_logdir = get_run_logdir()\n",
    "#def get_callbacks():\n",
    "\n",
    "def get_callbacks(name):\n",
    "    return tf.keras.callbacks.TensorBoard(run_logdir+name, histogram_freq=1)"
   ]
  },
  {
   "cell_type": "code",
   "execution_count": 10,
   "id": "54c05fe5",
   "metadata": {},
   "outputs": [],
   "source": [
    "# checkpoint \n",
    "\n",
    "# Define path where checkpoints should be stored\n",
    "checkpoint_path = \"DNN/cp.ckpt\"\n",
    "checkpoint_dir = os.path.dirname(checkpoint_path)\n",
    "\n",
    "# Create a callback that saves the model's weights\n",
    "cp_callback = tf.keras.callbacks.ModelCheckpoint(filepath=checkpoint_path,\n",
    "                                                 save_weights_only=False,\n",
    "                                                 verbose=1) # Set verbose != 0 if you want output during training\n"
   ]
  },
  {
   "cell_type": "code",
   "execution_count": 11,
   "id": "c140b140",
   "metadata": {},
   "outputs": [],
   "source": [
    "# Plotting function for MSE\n",
    "def plot_metric(history):\n",
    "    plt.plot(history.history['mse'])\n",
    "    plt.plot(history.history['val_mse'])\n",
    "    plt.title('Model MSE')\n",
    "    plt.ylabel('MSE')\n",
    "    plt.xlabel('Epoch')\n",
    "    plt.legend(['train', 'validation'], loc='upper right')\n",
    "    plt.show()"
   ]
  },
  {
   "cell_type": "code",
   "execution_count": 12,
   "id": "c7246703",
   "metadata": {},
   "outputs": [],
   "source": [
    "# Plotting function for loss\n",
    "def plot_loss(history):\n",
    "    plt.plot(history.history['loss'], label='loss')\n",
    "    plt.plot(history.history['val_loss'], label='val_loss')\n",
    "    plt.title('Model Loss')\n",
    "    plt.ylim([0, 10])\n",
    "    plt.xlabel('Epoch')\n",
    "    plt.ylabel('Error')\n",
    "    plt.legend()\n",
    "    plt.grid(True)"
   ]
  },
  {
   "cell_type": "markdown",
   "id": "abfcdd8a",
   "metadata": {},
   "source": [
    "You can implement your callbacks in the `model.fit()` method below."
   ]
  },
  {
   "cell_type": "code",
   "execution_count": 13,
   "id": "73f412e9",
   "metadata": {},
   "outputs": [],
   "source": [
    "# Define dictionary to store results\n",
    "training_history = {}"
   ]
  },
  {
   "cell_type": "code",
   "execution_count": 14,
   "id": "f042f336",
   "metadata": {},
   "outputs": [],
   "source": [
    "def model_compile_and_fit(X, y, model, name, optimizer, max_epochs=30):\n",
    "    # Get optimizer\n",
    "    #optimizer=tf.keras.optimizers.Adam()\n",
    "\n",
    "    # model.compile\n",
    "    model.compile(optimizer=optimizer,\n",
    "                metrics='mse',\n",
    "                loss='mae')\n",
    "    # model.fit\n",
    "    training_history[name] = model.fit(X, \n",
    "                        y,\n",
    "                        validation_split=0.2,\n",
    "                        verbose=1,\n",
    "                        steps_per_epoch=STEPS_PER_EPOCH,\n",
    "                        epochs=EPOCHS, \n",
    "                        callbacks=get_callbacks(name))\n",
    "    # return results\n",
    "    return training_history[name]\n",
    "\n"
   ]
  },
  {
   "cell_type": "markdown",
   "id": "b436f486",
   "metadata": {},
   "source": [
    "#### Build your model\n",
    "You can build your model by using `tf.keras.Sequential()` that helps you to sequentially define your different layers from input to output. "
   ]
  },
  {
   "cell_type": "code",
   "execution_count": 15,
   "id": "535bfd4b",
   "metadata": {},
   "outputs": [
    {
     "name": "stdout",
     "output_type": "stream",
     "text": [
      "Metal device set to: Apple M1\n",
      "\n",
      "systemMemory: 8.00 GB\n",
      "maxCacheSize: 2.67 GB\n",
      "\n"
     ]
    },
    {
     "name": "stderr",
     "output_type": "stream",
     "text": [
      "2022-04-07 12:08:27.734885: I tensorflow/core/common_runtime/pluggable_device/pluggable_device_factory.cc:305] Could not identify NUMA node of platform GPU ID 0, defaulting to 0. Your kernel may not have been built with NUMA support.\n",
      "2022-04-07 12:08:27.735021: I tensorflow/core/common_runtime/pluggable_device/pluggable_device_factory.cc:271] Created TensorFlow device (/job:localhost/replica:0/task:0/device:GPU:0 with 0 MB memory) -> physical PluggableDevice (device: 0, name: METAL, pci bus id: <undefined>)\n"
     ]
    }
   ],
   "source": [
    "with tf.device('/cpu:0'):\n",
    "      first_model = tf.keras.Sequential([\n",
    "            tf.keras.layers.Dense(512,kernel_initializer = 'uniform', activation='relu', input_dim = 42),\n",
    "            tf.keras.layers.Dense(512,kernel_initializer = 'uniform', activation='relu'),\n",
    "            tf.keras.layers.Dense(512,kernel_initializer = 'uniform', activation='relu'),\n",
    "            tf.keras.layers.Dense(512,kernel_initializer = 'uniform', activation='relu'),\n",
    "            tf.keras.layers.Dense(1,kernel_initializer = 'uniform')\n",
    "      ])"
   ]
  },
  {
   "cell_type": "markdown",
   "id": "c31056e5",
   "metadata": {},
   "source": [
    "#### Train your model\n",
    "Train your model by using your `model_compile_and_fit()` function you defined above."
   ]
  },
  {
   "cell_type": "code",
   "execution_count": 16,
   "id": "0df56c37",
   "metadata": {},
   "outputs": [
    {
     "name": "stdout",
     "output_type": "stream",
     "text": [
      "Epoch 1/2000\n"
     ]
    },
    {
     "name": "stderr",
     "output_type": "stream",
     "text": [
      "2022-04-07 12:08:27.853973: W tensorflow/core/platform/profile_utils/cpu_utils.cc:128] Failed to get CPU frequency: 0 Hz\n"
     ]
    },
    {
     "name": "stdout",
     "output_type": "stream",
     "text": [
      "109/109 [==============================] - 1s 6ms/step - loss: 24.7671 - mse: 1238.3518 - val_loss: 21.9657 - val_mse: 1070.2920\n",
      "Epoch 2/2000\n",
      "109/109 [==============================] - 1s 5ms/step - loss: 22.0129 - mse: 973.2617 - val_loss: 21.0993 - val_mse: 976.8189\n",
      "Epoch 3/2000\n",
      "109/109 [==============================] - 1s 6ms/step - loss: 22.0319 - mse: 996.1413 - val_loss: 21.3764 - val_mse: 906.1563\n",
      "Epoch 4/2000\n",
      "109/109 [==============================] - 1s 6ms/step - loss: 22.2718 - mse: 986.0566 - val_loss: 22.6687 - val_mse: 1144.5714\n",
      "Epoch 5/2000\n",
      "109/109 [==============================] - 1s 5ms/step - loss: 22.1388 - mse: 998.6678 - val_loss: 21.7423 - val_mse: 1070.2229\n",
      "Epoch 6/2000\n",
      "109/109 [==============================] - 1s 5ms/step - loss: 22.2119 - mse: 1010.7408 - val_loss: 20.9884 - val_mse: 991.1952\n",
      "Epoch 7/2000\n",
      "109/109 [==============================] - 0s 5ms/step - loss: 21.3098 - mse: 954.7574 - val_loss: 20.8566 - val_mse: 987.3890\n",
      "Epoch 8/2000\n",
      "109/109 [==============================] - 0s 5ms/step - loss: 21.6954 - mse: 981.5626 - val_loss: 21.3833 - val_mse: 1050.1875\n",
      "Epoch 9/2000\n",
      "109/109 [==============================] - 1s 5ms/step - loss: 21.0391 - mse: 886.2520 - val_loss: 20.7796 - val_mse: 986.6390\n",
      "Epoch 10/2000\n",
      "109/109 [==============================] - 1s 5ms/step - loss: 21.3569 - mse: 957.2230 - val_loss: 23.6665 - val_mse: 1236.5391\n",
      "Epoch 11/2000\n",
      "109/109 [==============================] - 0s 5ms/step - loss: 21.6418 - mse: 973.0621 - val_loss: 20.5308 - val_mse: 964.5170\n",
      "Epoch 12/2000\n",
      "109/109 [==============================] - 1s 5ms/step - loss: 21.1415 - mse: 923.9307 - val_loss: 21.1959 - val_mse: 1043.4503\n",
      "Epoch 13/2000\n",
      "109/109 [==============================] - 1s 5ms/step - loss: 20.6530 - mse: 907.4269 - val_loss: 22.3778 - val_mse: 1140.1686\n",
      "Epoch 14/2000\n",
      "109/109 [==============================] - 0s 5ms/step - loss: 20.9549 - mse: 946.0561 - val_loss: 22.1535 - val_mse: 862.8335\n",
      "Epoch 15/2000\n",
      "109/109 [==============================] - 0s 4ms/step - loss: 20.8092 - mse: 898.1420 - val_loss: 20.2374 - val_mse: 922.9476\n",
      "Epoch 16/2000\n",
      "109/109 [==============================] - 0s 4ms/step - loss: 20.7298 - mse: 910.4169 - val_loss: 21.0554 - val_mse: 1028.9923\n",
      "Epoch 17/2000\n",
      "109/109 [==============================] - 0s 4ms/step - loss: 21.1339 - mse: 944.9450 - val_loss: 20.5800 - val_mse: 979.6931\n",
      "Epoch 18/2000\n",
      "109/109 [==============================] - 1s 5ms/step - loss: 20.3306 - mse: 872.5145 - val_loss: 21.4861 - val_mse: 1063.0587\n",
      "Epoch 19/2000\n",
      "109/109 [==============================] - 0s 4ms/step - loss: 20.6878 - mse: 923.6608 - val_loss: 21.1470 - val_mse: 1034.8597\n",
      "Epoch 20/2000\n",
      "109/109 [==============================] - 0s 4ms/step - loss: 20.5299 - mse: 896.0399 - val_loss: 20.9872 - val_mse: 847.7898\n",
      "Epoch 21/2000\n",
      "109/109 [==============================] - 0s 4ms/step - loss: 20.7300 - mse: 911.5449 - val_loss: 20.3058 - val_mse: 946.8527\n",
      "Epoch 22/2000\n",
      "109/109 [==============================] - 0s 4ms/step - loss: 20.9100 - mse: 949.2882 - val_loss: 20.8787 - val_mse: 1008.2786\n",
      "Epoch 23/2000\n",
      "109/109 [==============================] - 0s 4ms/step - loss: 21.1072 - mse: 920.5964 - val_loss: 20.4294 - val_mse: 865.7413\n",
      "Epoch 24/2000\n",
      "109/109 [==============================] - 0s 4ms/step - loss: 20.6603 - mse: 916.6241 - val_loss: 20.1891 - val_mse: 926.0612\n",
      "Epoch 25/2000\n",
      "109/109 [==============================] - 1s 5ms/step - loss: 20.4465 - mse: 875.0318 - val_loss: 21.0816 - val_mse: 1027.2552\n",
      "Epoch 26/2000\n",
      "109/109 [==============================] - 0s 5ms/step - loss: 20.6700 - mse: 931.0927 - val_loss: 20.3245 - val_mse: 938.6633\n",
      "Epoch 27/2000\n",
      "109/109 [==============================] - 0s 4ms/step - loss: 20.7690 - mse: 930.1387 - val_loss: 20.2053 - val_mse: 894.0065\n",
      "Epoch 28/2000\n",
      "109/109 [==============================] - 1s 5ms/step - loss: 21.0571 - mse: 921.8737 - val_loss: 20.1650 - val_mse: 884.8659\n",
      "Epoch 29/2000\n",
      "109/109 [==============================] - 0s 4ms/step - loss: 20.6785 - mse: 899.0410 - val_loss: 20.8607 - val_mse: 1007.9311\n",
      "Epoch 30/2000\n",
      "109/109 [==============================] - 0s 4ms/step - loss: 20.6506 - mse: 920.1823 - val_loss: 20.5236 - val_mse: 852.5410\n",
      "Epoch 31/2000\n",
      "109/109 [==============================] - 0s 4ms/step - loss: 20.5150 - mse: 934.6278 - val_loss: 20.1835 - val_mse: 915.5969\n",
      "Epoch 32/2000\n",
      "109/109 [==============================] - 0s 4ms/step - loss: 20.5986 - mse: 878.4683 - val_loss: 20.1481 - val_mse: 892.9976\n",
      "Epoch 33/2000\n",
      "109/109 [==============================] - 0s 4ms/step - loss: 20.8235 - mse: 917.8558 - val_loss: 21.0324 - val_mse: 1023.5818\n",
      "Epoch 34/2000\n",
      "109/109 [==============================] - 0s 4ms/step - loss: 20.5896 - mse: 944.5049 - val_loss: 20.2610 - val_mse: 861.9927\n",
      "Epoch 35/2000\n",
      "109/109 [==============================] - 0s 4ms/step - loss: 20.7137 - mse: 900.1682 - val_loss: 20.3292 - val_mse: 903.2026\n",
      "Epoch 36/2000\n",
      "109/109 [==============================] - 0s 4ms/step - loss: 20.7477 - mse: 908.0912 - val_loss: 22.5901 - val_mse: 1147.7916\n",
      "Epoch 37/2000\n",
      "109/109 [==============================] - 0s 4ms/step - loss: 20.3736 - mse: 894.3651 - val_loss: 20.2541 - val_mse: 880.7319\n",
      "Epoch 38/2000\n",
      "109/109 [==============================] - 0s 4ms/step - loss: 20.9160 - mse: 937.1188 - val_loss: 20.2274 - val_mse: 890.0683\n",
      "Epoch 39/2000\n",
      "109/109 [==============================] - 0s 4ms/step - loss: 20.4702 - mse: 904.2460 - val_loss: 20.6649 - val_mse: 983.2377\n",
      "Epoch 40/2000\n",
      "109/109 [==============================] - 0s 4ms/step - loss: 20.7853 - mse: 899.9667 - val_loss: 20.2276 - val_mse: 936.7371\n",
      "Epoch 41/2000\n",
      "109/109 [==============================] - 0s 4ms/step - loss: 20.8065 - mse: 911.7880 - val_loss: 20.2783 - val_mse: 872.6314\n",
      "Epoch 42/2000\n",
      "109/109 [==============================] - 0s 4ms/step - loss: 20.4874 - mse: 919.9530 - val_loss: 20.1075 - val_mse: 881.0473\n",
      "Epoch 43/2000\n",
      "109/109 [==============================] - 0s 4ms/step - loss: 20.5209 - mse: 900.5168 - val_loss: 20.1469 - val_mse: 871.8279\n",
      "Epoch 44/2000\n",
      "109/109 [==============================] - 0s 4ms/step - loss: 20.0467 - mse: 849.5305 - val_loss: 20.3987 - val_mse: 938.8964\n",
      "Epoch 45/2000\n",
      "109/109 [==============================] - 0s 4ms/step - loss: 21.3439 - mse: 978.9612 - val_loss: 20.1620 - val_mse: 898.1562\n",
      "Epoch 46/2000\n",
      "109/109 [==============================] - 0s 4ms/step - loss: 20.4964 - mse: 888.0168 - val_loss: 20.5015 - val_mse: 966.7839\n",
      "Epoch 47/2000\n",
      "109/109 [==============================] - 0s 4ms/step - loss: 20.3948 - mse: 909.2610 - val_loss: 20.0942 - val_mse: 880.3931\n",
      "Epoch 48/2000\n",
      "109/109 [==============================] - 0s 4ms/step - loss: 19.9784 - mse: 859.9706 - val_loss: 20.2399 - val_mse: 862.5927\n",
      "Epoch 49/2000\n",
      "109/109 [==============================] - 0s 4ms/step - loss: 20.7660 - mse: 951.3367 - val_loss: 21.5326 - val_mse: 1064.2739\n",
      "Epoch 50/2000\n",
      "109/109 [==============================] - 0s 4ms/step - loss: 20.4657 - mse: 871.2122 - val_loss: 20.1777 - val_mse: 862.6911\n",
      "Epoch 51/2000\n",
      "109/109 [==============================] - 0s 4ms/step - loss: 20.7035 - mse: 905.9905 - val_loss: 20.2507 - val_mse: 938.9800\n",
      "Epoch 52/2000\n",
      "109/109 [==============================] - 0s 5ms/step - loss: 20.8788 - mse: 902.3669 - val_loss: 20.0830 - val_mse: 878.2430\n",
      "Epoch 53/2000\n",
      "109/109 [==============================] - 0s 4ms/step - loss: 20.4537 - mse: 929.3835 - val_loss: 20.4736 - val_mse: 853.9802\n",
      "Epoch 54/2000\n",
      "109/109 [==============================] - 0s 4ms/step - loss: 20.4434 - mse: 909.8367 - val_loss: 20.2052 - val_mse: 914.9175\n",
      "Epoch 55/2000\n",
      "109/109 [==============================] - 0s 4ms/step - loss: 20.3073 - mse: 893.3854 - val_loss: 20.1636 - val_mse: 879.4199\n",
      "Epoch 56/2000\n",
      "109/109 [==============================] - 0s 4ms/step - loss: 20.5591 - mse: 913.9967 - val_loss: 20.2061 - val_mse: 905.4975\n",
      "Epoch 57/2000\n",
      "109/109 [==============================] - 0s 4ms/step - loss: 20.7228 - mse: 929.5880 - val_loss: 20.1296 - val_mse: 897.8582\n",
      "Epoch 58/2000\n",
      "109/109 [==============================] - 0s 4ms/step - loss: 20.1052 - mse: 849.3885 - val_loss: 20.2208 - val_mse: 868.7150\n",
      "Epoch 59/2000\n",
      "109/109 [==============================] - 1s 5ms/step - loss: 20.4325 - mse: 913.0676 - val_loss: 20.1323 - val_mse: 908.4512\n",
      "Epoch 60/2000\n",
      "109/109 [==============================] - 1s 5ms/step - loss: 20.6908 - mse: 919.9111 - val_loss: 20.4616 - val_mse: 953.6962\n",
      "Epoch 61/2000\n",
      "109/109 [==============================] - 1s 5ms/step - loss: 20.2437 - mse: 881.9115 - val_loss: 20.1506 - val_mse: 902.5381\n",
      "Epoch 62/2000\n",
      "109/109 [==============================] - 1s 5ms/step - loss: 20.3941 - mse: 901.9185 - val_loss: 20.1146 - val_mse: 915.4550\n",
      "Epoch 63/2000\n",
      "109/109 [==============================] - 1s 5ms/step - loss: 20.6091 - mse: 910.4807 - val_loss: 20.2893 - val_mse: 926.4681\n",
      "Epoch 64/2000\n",
      "105/109 [===========================>..] - ETA: 0s - loss: 20.5538 - mse: 924.8762"
     ]
    }
   ],
   "source": [
    "with tf.device('/cpu:0'):\n",
    "    first_model_history = model_compile_and_fit(X=X_train, \n",
    "                                            y=y_train,\n",
    "                                            model= first_model,\n",
    "                                            name='first_model',\n",
    "                                            optimizer='Adam', \n",
    "                                            max_epochs= EPOCHS )\n"
   ]
  },
  {
   "cell_type": "markdown",
   "id": "74a0e282",
   "metadata": {},
   "source": [
    "#### Evaluate your model training\n",
    "TensorFlow offers now (this was more cumbersome before) a simple history plotter that you can use to plot training histories and see how the model performed on training and validation data set."
   ]
  },
  {
   "cell_type": "code",
   "execution_count": null,
   "id": "4554e3d4",
   "metadata": {},
   "outputs": [],
   "source": [
    "with tf.device('/cpu:0'):\n",
    "    history_plotter = tfdocs.plots.HistoryPlotter(metric = 'mse', smoothing_std=10)\n",
    "    history_plotter.plot(first_model_history)"
   ]
  },
  {
   "cell_type": "code",
   "execution_count": null,
   "id": "43aec80f",
   "metadata": {},
   "outputs": [],
   "source": [
    "with tf.device('/cpu:0'):\n",
    "    # plot MSE history \n",
    "    plot_metric(first_model_history)\n",
    "\n",
    "    # Evaluate the small model on test set using .evaluate\n",
    "    loss, mse = first_model.evaluate(X_test, y_test, verbose=2)\n",
    "    print(f'Model MSE: {mse}')\n",
    "    print('--------'*5)\n",
    "\n",
    "# Predict values for test set\n",
    "    y_pred = first_model.predict(X_test)\n",
    "    print('MSE:', mean_squared_error(y_test, y_pred))"
   ]
  },
  {
   "cell_type": "markdown",
   "id": "85938cce",
   "metadata": {},
   "source": [
    "## Model tuning\n",
    "You might have no luck with your first model (most surely you did not). In this section you will apply methods you know to tune your model's performance. An obvious way of course is to change your model's architecture (removing or adding layers or layer dimensions, changing activation functions). \n",
    "\n",
    "However, after this you might still be able to detect some overfitting and there are some more methods you can apply to improve your neural network. Some of them are regularization, learning rate decay, early stopping, or dropout. \n",
    "\n",
    "If you want to add regularization you can apply directly layer-wise L2- or L1-regularization by using a layer's `kernel_regularization` argument and an appropriate regularizer from the [`tensorflow.keras.regularizers`](https://www.tensorflow.org/api_docs/python/tf/keras/regularizers) module we imported for you.  \n",
    "\n",
    "__Optimizer schedules__<br>\n",
    "Quite often your optimizer does not run efficiently through the loss function surface. Remember that theory ensures a convergence of mini-batch SGD if and only if the learing rate decreases sufficiently fast. A way to apply this to your model training is to use a learning rate scheduler (learning rate decay) that reduces the learning rate over the number of update steps. The [`tf.keras.optimizers.schedules`](https://www.tensorflow.org/api_docs/python/tf/keras/optimizers/schedules) module offers you some approaches to do that. \n",
    "\n",
    "Note that to apply this to your `model_compile_and_fit()` function you defined above you need to implement the learning rate schedule either in there or with a helper function that your function calls inside. \n",
    "\n",
    "If you want to visualize different schedulers you can define them and call them on a range of values and plot them in a line plot. \n",
    "\n",
    "__Early stopping__<br>\n",
    "Earyl stopping is a procedure that enables you to stop your training earlier than defined by your `max_epochs` argument. It is used in practices to \n",
    "1. determine the optimal parameter vector by monitoring the validation error closely (if it rises again too much stuck with the best parameters found until then) and\n",
    "2. to save expensive resources (either in terms of monetary costs or ecological costs).\n",
    "\n",
    "To implement early stopping in TensorFlow the `tf.keras` module offers you a `callback` named [`tf.keras.callback.EarlyStopping()`](https://www.tensorflow.org/api_docs/python/tf/keras/callbacks/EarlyStopping) that monitors for you a certain metric (it makes sense here to use a validation metric) and to stop training after a certain number of epochs with no improvement or by defining a certain `min_delta` that defines a minimum value of improvement - if below the callback stops your training. \n",
    "\n",
    "You can add this callback simply to the callbacks defined in your `get_callbacks()` function you defined above.\n",
    "\n",
    "__Dropout__<br>\n",
    "Dropout was one of the important developments in regularization for neural networks. It was developed by Geoffrey Hinton and his team at Toronto University. \n",
    "\n",
    "Dropout can be applied to each layer in your network and is implemented in `tf.keras` by an own layer named `Dropout()` awaiting a dropout rate set by you. So to introduce dropout you have to rework your model design.  \n",
    "\n",
    "Make use of your knowledge and apply tuning techniques to improve your network. "
   ]
  },
  {
   "cell_type": "code",
   "execution_count": null,
   "id": "dc3acc24",
   "metadata": {},
   "outputs": [],
   "source": [
    "#===========#\n",
    "# YOUR CODE #\n",
    "#===========#"
   ]
  },
  {
   "cell_type": "markdown",
   "id": "25560d3a",
   "metadata": {},
   "source": [
    "## Model ensembling\n",
    "You have learned that models can be ensembled. What is possible in `scikit-learn` is also possible in TensorFlow, just a little different as it is relying on its computation graph. However, any model is callable like a `layer` by invoking it on either an `Input` or on the output of another layer. Furthermore, you can also stack outputs together.\n",
    "\n",
    "To produce an ensemble you can define a couple of models, than use their predictions as inputs for another model and produce a final output (using `keras.Model(input, output)`). But you can also start simple and use the mean predictions over all models and then compute the `argmax()` to assign them to a class in classification (via using `layers.average([model1_preds,model2_preds,...])`). You will be surprised how well this works. \n",
    "\n",
    "Now implement your own ensemble to improve your work even a little more and to have something more to polish up your ML project on `GitHub` ;) "
   ]
  },
  {
   "cell_type": "code",
   "execution_count": null,
   "id": "2cde4649",
   "metadata": {},
   "outputs": [],
   "source": [
    "#===========#\n",
    "# YOUR CODE #\n",
    "#===========#"
   ]
  }
 ],
 "metadata": {
  "kernelspec": {
   "display_name": "Python 3 (ipykernel)",
   "language": "python",
   "name": "python3"
  },
  "language_info": {
   "codemirror_mode": {
    "name": "ipython",
    "version": 3
   },
   "file_extension": ".py",
   "mimetype": "text/x-python",
   "name": "python",
   "nbconvert_exporter": "python",
   "pygments_lexer": "ipython3",
   "version": "3.9.4"
  }
 },
 "nbformat": 4,
 "nbformat_minor": 5
}
