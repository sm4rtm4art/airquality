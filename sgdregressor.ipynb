{
 "cells": [
  {
   "cell_type": "code",
   "execution_count": 7,
   "metadata": {},
   "outputs": [],
   "source": [
    "# Import required packages \n",
    "import numpy as np\n",
    "import pandas as pd\n",
    "import matplotlib.pyplot as plt\n",
    "import seaborn as sns\n",
    "\n",
    "\n",
    "from sklearn.linear_model import SGDRegressor\n",
    "from sklearn.model_selection import train_test_split\n",
    "from sklearn.metrics import mean_squared_error\n",
    "\n",
    "from sklearn.preprocessing import StandardScaler\n",
    "\n",
    "# Set figure stile and size for entire notebook\n",
    "sns.set_style(\"ticks\")\n",
    "plt.rcParams[\"figure.figsize\"] = (7,4)"
   ]
  },
  {
   "cell_type": "code",
   "execution_count": 8,
   "metadata": {},
   "outputs": [
    {
     "name": "stdout",
     "output_type": "stream",
     "text": [
      "Data: (4990, 44)\n"
     ]
    }
   ],
   "source": [
    "# Import Data\n",
    "\n",
    "data = pd.read_csv('data/data_prep_reg.csv', index_col=[0])\n",
    "\n",
    "#fillna\n",
    "data = data.fillna(data.mean())\n",
    "print(f'Data: {data.shape}')\n"
   ]
  },
  {
   "cell_type": "code",
   "execution_count": 9,
   "metadata": {},
   "outputs": [
    {
     "data": {
      "text/html": [
       "<div>\n",
       "<style scoped>\n",
       "    .dataframe tbody tr th:only-of-type {\n",
       "        vertical-align: middle;\n",
       "    }\n",
       "\n",
       "    .dataframe tbody tr th {\n",
       "        vertical-align: top;\n",
       "    }\n",
       "\n",
       "    .dataframe thead th {\n",
       "        text-align: right;\n",
       "    }\n",
       "</style>\n",
       "<table border=\"1\" class=\"dataframe\">\n",
       "  <thead>\n",
       "    <tr style=\"text-align: right;\">\n",
       "      <th></th>\n",
       "      <th>location</th>\n",
       "      <th>target</th>\n",
       "      <th>max_temp</th>\n",
       "      <th>min_temp</th>\n",
       "      <th>mean_temp</th>\n",
       "      <th>std_temp</th>\n",
       "      <th>var_temp</th>\n",
       "      <th>median_temp</th>\n",
       "      <th>ptp_temp</th>\n",
       "      <th>max_precip</th>\n",
       "      <th>...</th>\n",
       "      <th>var_wind_spd</th>\n",
       "      <th>median_wind_spd</th>\n",
       "      <th>ptp_wind_spd</th>\n",
       "      <th>max_atmos_press</th>\n",
       "      <th>min_atmos_press</th>\n",
       "      <th>mean_atmos_press</th>\n",
       "      <th>std_atmos_press</th>\n",
       "      <th>var_atmos_press</th>\n",
       "      <th>median_atmos_press</th>\n",
       "      <th>ptp_atmos_press</th>\n",
       "    </tr>\n",
       "  </thead>\n",
       "  <tbody>\n",
       "    <tr>\n",
       "      <th>1</th>\n",
       "      <td>3</td>\n",
       "      <td>79.131702</td>\n",
       "      <td>33.616667</td>\n",
       "      <td>17.983333</td>\n",
       "      <td>24.679063</td>\n",
       "      <td>4.266955</td>\n",
       "      <td>18.206903</td>\n",
       "      <td>23.791667</td>\n",
       "      <td>15.633333</td>\n",
       "      <td>0.561</td>\n",
       "      <td>...</td>\n",
       "      <td>0.290736</td>\n",
       "      <td>0.744167</td>\n",
       "      <td>2.760833</td>\n",
       "      <td>90.725000</td>\n",
       "      <td>90.056667</td>\n",
       "      <td>90.429924</td>\n",
       "      <td>0.156000</td>\n",
       "      <td>0.024336</td>\n",
       "      <td>90.429167</td>\n",
       "      <td>0.668333</td>\n",
       "    </tr>\n",
       "    <tr>\n",
       "      <th>10</th>\n",
       "      <td>3</td>\n",
       "      <td>55.638261</td>\n",
       "      <td>34.041667</td>\n",
       "      <td>17.191667</td>\n",
       "      <td>23.189507</td>\n",
       "      <td>4.432786</td>\n",
       "      <td>19.649595</td>\n",
       "      <td>22.033333</td>\n",
       "      <td>16.850000</td>\n",
       "      <td>10.302</td>\n",
       "      <td>...</td>\n",
       "      <td>0.533776</td>\n",
       "      <td>0.840833</td>\n",
       "      <td>3.285000</td>\n",
       "      <td>90.986667</td>\n",
       "      <td>90.211667</td>\n",
       "      <td>90.624814</td>\n",
       "      <td>0.179998</td>\n",
       "      <td>0.032399</td>\n",
       "      <td>90.641667</td>\n",
       "      <td>0.775000</td>\n",
       "    </tr>\n",
       "    <tr>\n",
       "      <th>13</th>\n",
       "      <td>3</td>\n",
       "      <td>32.240851</td>\n",
       "      <td>29.608333</td>\n",
       "      <td>19.166667</td>\n",
       "      <td>23.151446</td>\n",
       "      <td>2.808773</td>\n",
       "      <td>7.889204</td>\n",
       "      <td>22.291667</td>\n",
       "      <td>10.441667</td>\n",
       "      <td>2.229</td>\n",
       "      <td>...</td>\n",
       "      <td>0.195908</td>\n",
       "      <td>0.627500</td>\n",
       "      <td>1.705000</td>\n",
       "      <td>90.744167</td>\n",
       "      <td>90.102500</td>\n",
       "      <td>90.454477</td>\n",
       "      <td>0.149374</td>\n",
       "      <td>0.022312</td>\n",
       "      <td>90.471667</td>\n",
       "      <td>0.641667</td>\n",
       "    </tr>\n",
       "    <tr>\n",
       "      <th>15</th>\n",
       "      <td>3</td>\n",
       "      <td>72.717021</td>\n",
       "      <td>29.133333</td>\n",
       "      <td>17.516667</td>\n",
       "      <td>22.341529</td>\n",
       "      <td>3.161073</td>\n",
       "      <td>9.992384</td>\n",
       "      <td>21.683333</td>\n",
       "      <td>11.616667</td>\n",
       "      <td>13.588</td>\n",
       "      <td>...</td>\n",
       "      <td>0.124645</td>\n",
       "      <td>0.625000</td>\n",
       "      <td>1.608333</td>\n",
       "      <td>90.873333</td>\n",
       "      <td>90.284167</td>\n",
       "      <td>90.607307</td>\n",
       "      <td>0.139059</td>\n",
       "      <td>0.019337</td>\n",
       "      <td>90.620833</td>\n",
       "      <td>0.589167</td>\n",
       "    </tr>\n",
       "    <tr>\n",
       "      <th>22</th>\n",
       "      <td>3</td>\n",
       "      <td>35.833571</td>\n",
       "      <td>30.558333</td>\n",
       "      <td>16.983333</td>\n",
       "      <td>22.401240</td>\n",
       "      <td>3.592899</td>\n",
       "      <td>12.908921</td>\n",
       "      <td>21.333333</td>\n",
       "      <td>13.575000</td>\n",
       "      <td>43.080</td>\n",
       "      <td>...</td>\n",
       "      <td>0.186272</td>\n",
       "      <td>0.678333</td>\n",
       "      <td>2.197500</td>\n",
       "      <td>91.004167</td>\n",
       "      <td>90.217500</td>\n",
       "      <td>90.600544</td>\n",
       "      <td>0.172882</td>\n",
       "      <td>0.029888</td>\n",
       "      <td>90.600833</td>\n",
       "      <td>0.786667</td>\n",
       "    </tr>\n",
       "  </tbody>\n",
       "</table>\n",
       "<p>5 rows × 44 columns</p>\n",
       "</div>"
      ],
      "text/plain": [
       "    location     target   max_temp   min_temp  mean_temp  std_temp   var_temp  \\\n",
       "1          3  79.131702  33.616667  17.983333  24.679063  4.266955  18.206903   \n",
       "10         3  55.638261  34.041667  17.191667  23.189507  4.432786  19.649595   \n",
       "13         3  32.240851  29.608333  19.166667  23.151446  2.808773   7.889204   \n",
       "15         3  72.717021  29.133333  17.516667  22.341529  3.161073   9.992384   \n",
       "22         3  35.833571  30.558333  16.983333  22.401240  3.592899  12.908921   \n",
       "\n",
       "    median_temp   ptp_temp  max_precip  ...  var_wind_spd  median_wind_spd  \\\n",
       "1     23.791667  15.633333       0.561  ...      0.290736         0.744167   \n",
       "10    22.033333  16.850000      10.302  ...      0.533776         0.840833   \n",
       "13    22.291667  10.441667       2.229  ...      0.195908         0.627500   \n",
       "15    21.683333  11.616667      13.588  ...      0.124645         0.625000   \n",
       "22    21.333333  13.575000      43.080  ...      0.186272         0.678333   \n",
       "\n",
       "    ptp_wind_spd  max_atmos_press  min_atmos_press  mean_atmos_press  \\\n",
       "1       2.760833        90.725000        90.056667         90.429924   \n",
       "10      3.285000        90.986667        90.211667         90.624814   \n",
       "13      1.705000        90.744167        90.102500         90.454477   \n",
       "15      1.608333        90.873333        90.284167         90.607307   \n",
       "22      2.197500        91.004167        90.217500         90.600544   \n",
       "\n",
       "    std_atmos_press  var_atmos_press  median_atmos_press  ptp_atmos_press  \n",
       "1          0.156000         0.024336           90.429167         0.668333  \n",
       "10         0.179998         0.032399           90.641667         0.775000  \n",
       "13         0.149374         0.022312           90.471667         0.641667  \n",
       "15         0.139059         0.019337           90.620833         0.589167  \n",
       "22         0.172882         0.029888           90.600833         0.786667  \n",
       "\n",
       "[5 rows x 44 columns]"
      ]
     },
     "execution_count": 9,
     "metadata": {},
     "output_type": "execute_result"
    }
   ],
   "source": [
    "data.head()"
   ]
  },
  {
   "cell_type": "code",
   "execution_count": 10,
   "metadata": {},
   "outputs": [
    {
     "name": "stdout",
     "output_type": "stream",
     "text": [
      "X: (4990, 42)\n",
      "y: (4990,)\n",
      "X_train: (3493, 42)\n",
      "y_train: (3493,)\n",
      "X_test: (1497, 42)\n",
      "y_test: (1497,)\n"
     ]
    }
   ],
   "source": [
    "columns_to_drop = ['target', 'location']\n",
    "# define features and target\n",
    "X = data.drop(columns_to_drop, axis=1)\n",
    "y = data.target\n",
    "\n",
    "# test train split: \n",
    "X_train, X_test, y_train, y_test = train_test_split(  \n",
    "                                    X, y, test_size = 0.3, random_state = 100) \n",
    "\n",
    "print (f'X: {X.shape}')\n",
    "print (f'y: {y.shape}')\n",
    "\n",
    "print (f'X_train: {X_train.shape}')\n",
    "print (f'y_train: {y_train.shape}')\n",
    "\n",
    "print (f'X_test: {X_test.shape}')\n",
    "print (f'y_test: {y_test.shape}')"
   ]
  },
  {
   "cell_type": "code",
   "execution_count": 13,
   "metadata": {},
   "outputs": [],
   "source": [
    "from sklearn.metrics import mean_squared_error\n",
    "\n",
    "def rmse(y_true, y_pred):\n",
    "    return np.sqrt(mean_squared_error(y_true, y_pred))\n",
    "\n",
    "def error_analysis(y_test, y_pred_test):\n",
    "    \"\"\"Generated true vs. predicted values and residual scatter plot for models\n",
    "\n",
    "    Args:\n",
    "        y_test (array): true values for y_test\n",
    "        y_pred_test (array): predicted values of model for y_test\n",
    "    \"\"\"     \n",
    "    # Calculate residuals\n",
    "    residuals = y_test - y_pred_test\n",
    "    \n",
    "    # Plot real vs. predicted values \n",
    "    fig, ax = plt.subplots(1,2, figsize=(15, 5))\n",
    "    plt.subplots_adjust(right=1)\n",
    "    plt.suptitle('Error Analysis')\n",
    "    \n",
    "    ax[0].scatter(y_pred_test, y_test, color=\"#FF5A36\", alpha=0.7)\n",
    "    ax[0].plot([-400, 350], [-400, 350], color=\"#193251\")\n",
    "    ax[0].set_title(\"True vs. predicted values\", fontsize=16)\n",
    "    ax[0].set_xlabel(\"predicted values\")\n",
    "    ax[0].set_ylabel(\"true values\")\n",
    "    #ax[0].set_xlim((y_pred_test.min()-10), (y_pred_test.max()+10))\n",
    "    ax[0].set_ylim((y_test.min()-40), (y_test.max()+40))\n",
    "    \n",
    "    ax[1].scatter(y_pred_test, residuals, color=\"#FF5A36\", alpha=0.7)\n",
    "    ax[1].plot([-400, 350], [0,0], color=\"#193251\")\n",
    "    ax[1].set_title(\"Residual Scatter Plot\", fontsize=16)\n",
    "    ax[1].set_xlabel(\"predicted values\")\n",
    "    ax[1].set_ylabel(\"residuals\")\n",
    "    #ax[1].set_xlim((y_pred_test.min()-10), (y_pred_test.max()+10))\n",
    "    #ax[1].set_ylim((residuals.min()-10), (residuals.max()+10));"
   ]
  },
  {
   "cell_type": "markdown",
   "metadata": {},
   "source": [
    "# SGD Regressor"
   ]
  },
  {
   "cell_type": "code",
   "execution_count": 11,
   "metadata": {},
   "outputs": [],
   "source": [
    "# Scaling with standard scaler\n",
    "scaler = StandardScaler()\n",
    "X_train_scaled = scaler.fit_transform(X_train)\n",
    "X_test_scaled = scaler.transform(X_test)\n"
   ]
  },
  {
   "cell_type": "code",
   "execution_count": 12,
   "metadata": {},
   "outputs": [
    {
     "data": {
      "text/plain": [
       "SGDRegressor()"
      ]
     },
     "execution_count": 12,
     "metadata": {},
     "output_type": "execute_result"
    }
   ],
   "source": [
    "# Instantiate our model \n",
    "sgd_reg = SGDRegressor()\n",
    "sgd_reg_scaled = SGDRegressor()\n",
    "# Train the model using our data\n",
    "sgd_reg.fit(X_train, y_train)\n",
    "sgd_reg_scaled.fit(X_train_scaled, y_train)"
   ]
  },
  {
   "cell_type": "code",
   "execution_count": 19,
   "metadata": {},
   "outputs": [],
   "source": [
    "# predict\n",
    "\n",
    "y_pred_train = sgd_reg.predict(X_train)\n",
    "y_pred_test = sgd_reg.predict(X_test)\n",
    "\n",
    "y_pred_train_scaled = sgd_reg_scaled.predict(X_train_scaled)\n",
    "y_pred_test_scaled = sgd_reg_scaled.predict(X_test_scaled)"
   ]
  },
  {
   "cell_type": "code",
   "execution_count": 22,
   "metadata": {},
   "outputs": [
    {
     "name": "stdout",
     "output_type": "stream",
     "text": [
      "RSME _ train: 3.240537126437416e+16\n",
      "RSME _ test: 3.2465529681903516e+16\n",
      "RSME _ train_scaled: 26.01\n",
      "RSME _ test_scaled: 28.12\n"
     ]
    }
   ],
   "source": [
    "rsme_sgd_reg_train = rmse(y_train, y_pred_train)\n",
    "rsme_sgd_reg_test = rmse(y_test, y_pred_test)\n",
    "\n",
    "print(f'RSME _ train: {rsme_sgd_reg_train}')\n",
    "print(f'RSME _ test: {rsme_sgd_reg_test}')\n",
    "\n",
    "rsme_sgd_reg_train_scaled = rmse(y_train, y_pred_train_scaled )\n",
    "rsme_sgd_reg_test_scaled = rmse(y_test, y_pred_test_scaled )\n",
    "\n",
    "print(f'RSME _ train_scaled: {rsme_sgd_reg_train_scaled:.2f}')\n",
    "print(f'RSME _ test_scaled: {rsme_sgd_reg_test_scaled:.2f}')"
   ]
  },
  {
   "cell_type": "code",
   "execution_count": null,
   "metadata": {},
   "outputs": [],
   "source": [
    "# error analysis train:\n",
    "error_analysis(y_train, y_pred_train)"
   ]
  },
  {
   "cell_type": "code",
   "execution_count": null,
   "metadata": {},
   "outputs": [],
   "source": [
    "# error analysis test:\n",
    "error_analysis(y_test, y_pred_test)"
   ]
  }
 ],
 "metadata": {
  "interpreter": {
   "hash": "d8f548114482b487876add26679caae41a2a9f4541ddf007921bd7bf3c60f478"
  },
  "kernelspec": {
   "display_name": "Python 3.9.4 ('.venv': venv)",
   "language": "python",
   "name": "python3"
  },
  "language_info": {
   "codemirror_mode": {
    "name": "ipython",
    "version": 3
   },
   "file_extension": ".py",
   "mimetype": "text/x-python",
   "name": "python",
   "nbconvert_exporter": "python",
   "pygments_lexer": "ipython3",
   "version": "3.9.4"
  },
  "orig_nbformat": 4
 },
 "nbformat": 4,
 "nbformat_minor": 2
}
