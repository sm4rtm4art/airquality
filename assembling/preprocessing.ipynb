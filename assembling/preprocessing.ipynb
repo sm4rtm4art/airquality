{
 "cells": [
  {
   "cell_type": "code",
   "execution_count": 1,
   "metadata": {},
   "outputs": [],
   "source": [
    "import pandas as pd \n",
    "import numpy as np \n",
    "from tqdm import tqdm\n",
    "import math\n",
    "import gc\n",
    "\n",
    "import matplotlib.pyplot as plt\n",
    "import seaborn as sns"
   ]
  },
  {
   "cell_type": "code",
   "execution_count": 2,
   "metadata": {},
   "outputs": [],
   "source": [
    "train=pd.read_csv(\"../data/Train.csv\")\n",
    "#test=pd.read_csv(\"./data/Test.csv\")\n",
    "meta=pd.read_csv(\"../data/airqo_metadata.csv\")"
   ]
  },
  {
   "cell_type": "code",
   "execution_count": 3,
   "metadata": {},
   "outputs": [
    {
     "data": {
      "text/html": [
       "<div>\n",
       "<style scoped>\n",
       "    .dataframe tbody tr th:only-of-type {\n",
       "        vertical-align: middle;\n",
       "    }\n",
       "\n",
       "    .dataframe tbody tr th {\n",
       "        vertical-align: top;\n",
       "    }\n",
       "\n",
       "    .dataframe thead th {\n",
       "        text-align: right;\n",
       "    }\n",
       "</style>\n",
       "<table border=\"1\" class=\"dataframe\">\n",
       "  <thead>\n",
       "    <tr style=\"text-align: right;\">\n",
       "      <th></th>\n",
       "      <th>ID</th>\n",
       "      <th>location</th>\n",
       "      <th>temp</th>\n",
       "      <th>precip</th>\n",
       "      <th>rel_humidity</th>\n",
       "      <th>wind_dir</th>\n",
       "      <th>wind_spd</th>\n",
       "      <th>atmos_press</th>\n",
       "      <th>target</th>\n",
       "    </tr>\n",
       "  </thead>\n",
       "  <tbody>\n",
       "    <tr>\n",
       "      <th>0</th>\n",
       "      <td>ID_train_0</td>\n",
       "      <td>C</td>\n",
       "      <td>nan,nan,nan,nan,nan,nan,nan,nan,nan,nan,nan,na...</td>\n",
       "      <td>nan,nan,nan,nan,nan,nan,nan,nan,nan,nan,nan,na...</td>\n",
       "      <td>nan,nan,nan,nan,nan,nan,nan,nan,nan,nan,nan,na...</td>\n",
       "      <td>nan,nan,nan,nan,nan,nan,nan,nan,nan,nan,nan,na...</td>\n",
       "      <td>nan,nan,nan,nan,nan,nan,nan,nan,nan,nan,nan,na...</td>\n",
       "      <td>nan,nan,nan,nan,nan,nan,nan,nan,nan,nan,nan,na...</td>\n",
       "      <td>45.126304</td>\n",
       "    </tr>\n",
       "    <tr>\n",
       "      <th>1</th>\n",
       "      <td>ID_train_1</td>\n",
       "      <td>D</td>\n",
       "      <td>22.53333333,21.71666667,20.83333333,20.9833333...</td>\n",
       "      <td>0.102,0.0,0.0,0.0,0.0,0.0,0.0,0.034,0.017,0.01...</td>\n",
       "      <td>0.744583333,0.808083333,0.911166667,0.91633333...</td>\n",
       "      <td>281.6643101,89.15629262,81.96853891,291.018632...</td>\n",
       "      <td>2.3775,1.126666667,0.700833333,0.3416666670000...</td>\n",
       "      <td>90.32,90.3775,90.44083333,90.4725,90.45416667,...</td>\n",
       "      <td>79.131702</td>\n",
       "    </tr>\n",
       "    <tr>\n",
       "      <th>2</th>\n",
       "      <td>ID_train_10</td>\n",
       "      <td>A</td>\n",
       "      <td>28.975,27.95,29.6,26.425,22.09166667,21.775,22...</td>\n",
       "      <td>0.0,0.0,0.0,0.102,0.136,0.0,0.0,2.16,1.276,0.0...</td>\n",
       "      <td>0.573333333,0.597166667,0.5668333329999999,0.6...</td>\n",
       "      <td>nan,nan,nan,nan,nan,nan,nan,nan,nan,nan,nan,na...</td>\n",
       "      <td>nan,nan,nan,nan,nan,nan,nan,nan,nan,nan,nan,na...</td>\n",
       "      <td>88.55166667,88.46416667,88.31916667,88.24,88.2...</td>\n",
       "      <td>32.661304</td>\n",
       "    </tr>\n",
       "    <tr>\n",
       "      <th>3</th>\n",
       "      <td>ID_train_100</td>\n",
       "      <td>A</td>\n",
       "      <td>22.96666667,24.26666667,25.275,25.625,25.86666...</td>\n",
       "      <td>0.0,0.0,0.0,0.0,0.0,0.0,0.0,0.0,7.77,3.012,1.0...</td>\n",
       "      <td>0.8430833329999999,0.79025,0.7375,0.728,0.7049...</td>\n",
       "      <td>300.0850574,293.6769595,294.5174647,301.921416...</td>\n",
       "      <td>1.446666667,1.1925,1.324166667,1.5441666669999...</td>\n",
       "      <td>88.615,88.53083333,88.4,88.27166667,88.2075,88...</td>\n",
       "      <td>53.850238</td>\n",
       "    </tr>\n",
       "    <tr>\n",
       "      <th>4</th>\n",
       "      <td>ID_train_1000</td>\n",
       "      <td>A</td>\n",
       "      <td>21.875,21.575,21.525,21.43333333,20.50833333,1...</td>\n",
       "      <td>0.0,0.0,0.0,0.0,0.0,0.0,0.0,0.0,0.0,0.0,0.0,0....</td>\n",
       "      <td>0.8564166670000001,0.874916667,0.879833333,0.8...</td>\n",
       "      <td>21.83997432,17.05405341,89.26406044,123.585424...</td>\n",
       "      <td>0.1975,0.244166667,0.411666667,0.56,0.5775,0.4...</td>\n",
       "      <td>88.55666667,88.64083333,88.65833333,88.6475,88...</td>\n",
       "      <td>177.418750</td>\n",
       "    </tr>\n",
       "  </tbody>\n",
       "</table>\n",
       "</div>"
      ],
      "text/plain": [
       "              ID location                                               temp  \\\n",
       "0     ID_train_0        C  nan,nan,nan,nan,nan,nan,nan,nan,nan,nan,nan,na...   \n",
       "1     ID_train_1        D  22.53333333,21.71666667,20.83333333,20.9833333...   \n",
       "2    ID_train_10        A  28.975,27.95,29.6,26.425,22.09166667,21.775,22...   \n",
       "3   ID_train_100        A  22.96666667,24.26666667,25.275,25.625,25.86666...   \n",
       "4  ID_train_1000        A  21.875,21.575,21.525,21.43333333,20.50833333,1...   \n",
       "\n",
       "                                              precip  \\\n",
       "0  nan,nan,nan,nan,nan,nan,nan,nan,nan,nan,nan,na...   \n",
       "1  0.102,0.0,0.0,0.0,0.0,0.0,0.0,0.034,0.017,0.01...   \n",
       "2  0.0,0.0,0.0,0.102,0.136,0.0,0.0,2.16,1.276,0.0...   \n",
       "3  0.0,0.0,0.0,0.0,0.0,0.0,0.0,0.0,7.77,3.012,1.0...   \n",
       "4  0.0,0.0,0.0,0.0,0.0,0.0,0.0,0.0,0.0,0.0,0.0,0....   \n",
       "\n",
       "                                        rel_humidity  \\\n",
       "0  nan,nan,nan,nan,nan,nan,nan,nan,nan,nan,nan,na...   \n",
       "1  0.744583333,0.808083333,0.911166667,0.91633333...   \n",
       "2  0.573333333,0.597166667,0.5668333329999999,0.6...   \n",
       "3  0.8430833329999999,0.79025,0.7375,0.728,0.7049...   \n",
       "4  0.8564166670000001,0.874916667,0.879833333,0.8...   \n",
       "\n",
       "                                            wind_dir  \\\n",
       "0  nan,nan,nan,nan,nan,nan,nan,nan,nan,nan,nan,na...   \n",
       "1  281.6643101,89.15629262,81.96853891,291.018632...   \n",
       "2  nan,nan,nan,nan,nan,nan,nan,nan,nan,nan,nan,na...   \n",
       "3  300.0850574,293.6769595,294.5174647,301.921416...   \n",
       "4  21.83997432,17.05405341,89.26406044,123.585424...   \n",
       "\n",
       "                                            wind_spd  \\\n",
       "0  nan,nan,nan,nan,nan,nan,nan,nan,nan,nan,nan,na...   \n",
       "1  2.3775,1.126666667,0.700833333,0.3416666670000...   \n",
       "2  nan,nan,nan,nan,nan,nan,nan,nan,nan,nan,nan,na...   \n",
       "3  1.446666667,1.1925,1.324166667,1.5441666669999...   \n",
       "4  0.1975,0.244166667,0.411666667,0.56,0.5775,0.4...   \n",
       "\n",
       "                                         atmos_press      target  \n",
       "0  nan,nan,nan,nan,nan,nan,nan,nan,nan,nan,nan,na...   45.126304  \n",
       "1  90.32,90.3775,90.44083333,90.4725,90.45416667,...   79.131702  \n",
       "2  88.55166667,88.46416667,88.31916667,88.24,88.2...   32.661304  \n",
       "3  88.615,88.53083333,88.4,88.27166667,88.2075,88...   53.850238  \n",
       "4  88.55666667,88.64083333,88.65833333,88.6475,88...  177.418750  "
      ]
     },
     "execution_count": 3,
     "metadata": {},
     "output_type": "execute_result"
    }
   ],
   "source": [
    "train.head()\n"
   ]
  },
  {
   "cell_type": "code",
   "execution_count": 4,
   "metadata": {},
   "outputs": [],
   "source": [
    "# covert features  from string to List of values \n",
    "def replace_nan(x):\n",
    "    if x==\" \":\n",
    "        return np.nan\n",
    "    else :\n",
    "        return float(x)\n",
    "        \n",
    "features=[\"temp\",\"precip\",\"rel_humidity\",\"wind_dir\",\"wind_spd\",\"atmos_press\"]\n",
    "for feature in features : \n",
    "    train[feature]=train[feature].apply(lambda x: [ replace_nan(X) for X in x.replace(\"nan\",\" \").split(\",\")])\n",
    "    #test[feature]=test[feature].apply(lambda x: [ replace_nan(X)  for X in x.replace(\"nan\",\" \").split(\",\")])    "
   ]
  },
  {
   "cell_type": "markdown",
   "metadata": {},
   "source": [
    "count nan values"
   ]
  },
  {
   "cell_type": "code",
   "execution_count": 5,
   "metadata": {},
   "outputs": [
    {
     "data": {
      "text/plain": [
       "(15539, 10)"
      ]
     },
     "execution_count": 5,
     "metadata": {},
     "output_type": "execute_result"
    }
   ],
   "source": [
    "list_columns = ['temp', 'precip', 'rel_humidity', 'wind_dir', 'wind_spd', 'atmos_press']\n",
    "def count_nan(row):\n",
    "    counter = 0\n",
    "    if isinstance(row, type(list())):\n",
    "        for x in row:\n",
    "            if np.isnan(x):\n",
    "                counter += 1\n",
    "        return counter \n",
    "    else: return np.nan\n",
    "    \n",
    "for col in list_columns:\n",
    "    train['nan_' + str(col)] = round(train[col].apply(count_nan))\n",
    "data_nan = train.drop(list_columns, axis=1)\n",
    "\n",
    "data_nan['sum'] = round(data_nan.sum(axis=1, numeric_only=True)/726*100,2)\n",
    "data_nan.shape"
   ]
  },
  {
   "cell_type": "code",
   "execution_count": 6,
   "metadata": {},
   "outputs": [
    {
     "data": {
      "text/plain": [
       "(14536, 16)"
      ]
     },
     "execution_count": 6,
     "metadata": {},
     "output_type": "execute_result"
    }
   ],
   "source": [
    "data_wo_outlier = train.join(data_nan['sum'])[(train.join(data_nan['sum'])['sum']<50)]\n",
    "data_wo_outlier.shape"
   ]
  },
  {
   "cell_type": "code",
   "execution_count": 7,
   "metadata": {},
   "outputs": [
    {
     "data": {
      "text/html": [
       "<div>\n",
       "<style scoped>\n",
       "    .dataframe tbody tr th:only-of-type {\n",
       "        vertical-align: middle;\n",
       "    }\n",
       "\n",
       "    .dataframe tbody tr th {\n",
       "        vertical-align: top;\n",
       "    }\n",
       "\n",
       "    .dataframe thead th {\n",
       "        text-align: right;\n",
       "    }\n",
       "</style>\n",
       "<table border=\"1\" class=\"dataframe\">\n",
       "  <thead>\n",
       "    <tr style=\"text-align: right;\">\n",
       "      <th></th>\n",
       "      <th>ID</th>\n",
       "      <th>location</th>\n",
       "      <th>temp</th>\n",
       "      <th>precip</th>\n",
       "      <th>rel_humidity</th>\n",
       "      <th>wind_dir</th>\n",
       "      <th>wind_spd</th>\n",
       "      <th>atmos_press</th>\n",
       "      <th>target</th>\n",
       "      <th>nan_temp</th>\n",
       "      <th>nan_precip</th>\n",
       "      <th>nan_rel_humidity</th>\n",
       "      <th>nan_wind_dir</th>\n",
       "      <th>nan_wind_spd</th>\n",
       "      <th>nan_atmos_press</th>\n",
       "      <th>sum</th>\n",
       "    </tr>\n",
       "  </thead>\n",
       "  <tbody>\n",
       "    <tr>\n",
       "      <th>1</th>\n",
       "      <td>ID_train_1</td>\n",
       "      <td>D</td>\n",
       "      <td>[22.53333333, 21.71666667, 20.83333333, 20.983...</td>\n",
       "      <td>[0.102, 0.0, 0.0, 0.0, 0.0, 0.0, 0.0, 0.034, 0...</td>\n",
       "      <td>[0.744583333, 0.808083333, 0.911166667, 0.9163...</td>\n",
       "      <td>[281.6643101, 89.15629262, 81.96853891, 291.01...</td>\n",
       "      <td>[2.3775, 1.126666667, 0.700833333, 0.341666667...</td>\n",
       "      <td>[90.32, 90.3775, 90.44083333, 90.4725, 90.4541...</td>\n",
       "      <td>79.131702</td>\n",
       "      <td>0</td>\n",
       "      <td>0</td>\n",
       "      <td>0</td>\n",
       "      <td>0</td>\n",
       "      <td>0</td>\n",
       "      <td>0</td>\n",
       "      <td>10.90</td>\n",
       "    </tr>\n",
       "    <tr>\n",
       "      <th>2</th>\n",
       "      <td>ID_train_10</td>\n",
       "      <td>A</td>\n",
       "      <td>[28.975, 27.95, 29.6, 26.425, 22.09166667, 21....</td>\n",
       "      <td>[0.0, 0.0, 0.0, 0.102, 0.136, 0.0, 0.0, 2.16, ...</td>\n",
       "      <td>[0.573333333, 0.597166667, 0.5668333329999999,...</td>\n",
       "      <td>[nan, nan, nan, nan, nan, nan, nan, nan, nan, ...</td>\n",
       "      <td>[nan, nan, nan, nan, nan, nan, nan, nan, nan, ...</td>\n",
       "      <td>[88.55166667, 88.46416667, 88.31916667, 88.24,...</td>\n",
       "      <td>32.661304</td>\n",
       "      <td>1</td>\n",
       "      <td>1</td>\n",
       "      <td>1</td>\n",
       "      <td>46</td>\n",
       "      <td>46</td>\n",
       "      <td>1</td>\n",
       "      <td>17.72</td>\n",
       "    </tr>\n",
       "  </tbody>\n",
       "</table>\n",
       "</div>"
      ],
      "text/plain": [
       "            ID location                                               temp  \\\n",
       "1   ID_train_1        D  [22.53333333, 21.71666667, 20.83333333, 20.983...   \n",
       "2  ID_train_10        A  [28.975, 27.95, 29.6, 26.425, 22.09166667, 21....   \n",
       "\n",
       "                                              precip  \\\n",
       "1  [0.102, 0.0, 0.0, 0.0, 0.0, 0.0, 0.0, 0.034, 0...   \n",
       "2  [0.0, 0.0, 0.0, 0.102, 0.136, 0.0, 0.0, 2.16, ...   \n",
       "\n",
       "                                        rel_humidity  \\\n",
       "1  [0.744583333, 0.808083333, 0.911166667, 0.9163...   \n",
       "2  [0.573333333, 0.597166667, 0.5668333329999999,...   \n",
       "\n",
       "                                            wind_dir  \\\n",
       "1  [281.6643101, 89.15629262, 81.96853891, 291.01...   \n",
       "2  [nan, nan, nan, nan, nan, nan, nan, nan, nan, ...   \n",
       "\n",
       "                                            wind_spd  \\\n",
       "1  [2.3775, 1.126666667, 0.700833333, 0.341666667...   \n",
       "2  [nan, nan, nan, nan, nan, nan, nan, nan, nan, ...   \n",
       "\n",
       "                                         atmos_press     target  nan_temp  \\\n",
       "1  [90.32, 90.3775, 90.44083333, 90.4725, 90.4541...  79.131702         0   \n",
       "2  [88.55166667, 88.46416667, 88.31916667, 88.24,...  32.661304         1   \n",
       "\n",
       "   nan_precip  nan_rel_humidity  nan_wind_dir  nan_wind_spd  nan_atmos_press  \\\n",
       "1           0                 0             0             0                0   \n",
       "2           1                 1            46            46                1   \n",
       "\n",
       "     sum  \n",
       "1  10.90  \n",
       "2  17.72  "
      ]
     },
     "execution_count": 7,
     "metadata": {},
     "output_type": "execute_result"
    }
   ],
   "source": [
    "data_wo_outlier.head(2)"
   ]
  },
  {
   "cell_type": "markdown",
   "metadata": {},
   "source": [
    "fill nan values with mean"
   ]
  },
  {
   "cell_type": "markdown",
   "metadata": {},
   "source": []
  },
  {
   "cell_type": "code",
   "execution_count": 8,
   "metadata": {},
   "outputs": [],
   "source": [
    "# removing the nan values and show the remain values\n",
    "def mean_without_nan(row):\n",
    "    mean = np.nanmean(row)\n",
    "    new_row = []\n",
    "    for x in row: \n",
    "        if np.isnan(x): new_row.append(mean)\n",
    "        else: new_row.append(x)\n",
    "    return new_row"
   ]
  },
  {
   "cell_type": "code",
   "execution_count": 9,
   "metadata": {},
   "outputs": [
    {
     "data": {
      "text/plain": [
       "['nan_temp',\n",
       " 'nan_precip',\n",
       " 'nan_rel_humidity',\n",
       " 'nan_wind_dir',\n",
       " 'nan_wind_spd',\n",
       " 'nan_atmos_press']"
      ]
     },
     "execution_count": 9,
     "metadata": {},
     "output_type": "execute_result"
    }
   ],
   "source": [
    "features = data_wo_outlier.columns[2:8]\n",
    "features\n",
    "nan_featuers = [\"nan_\"+ str(feature) for feature in features]\n",
    "nan_featuers"
   ]
  },
  {
   "cell_type": "code",
   "execution_count": 10,
   "metadata": {},
   "outputs": [],
   "source": [
    "# fill nan\n",
    "for feat in features:\n",
    "    data_wo_outlier[\"new_\" + str(feat)] = data_wo_outlier[feat].apply(mean_without_nan)\n",
    "\n",
    "\n"
   ]
  },
  {
   "cell_type": "code",
   "execution_count": 11,
   "metadata": {},
   "outputs": [],
   "source": [
    "features_to_drop = features #.extend(nan_featuers,['sum'])\n",
    "data_process = data_wo_outlier.drop(features, axis=1)\n",
    "data_process.drop(nan_featuers, axis=1, inplace=True)\n",
    "data_process.drop(['sum'], axis=1, inplace=True)\n"
   ]
  },
  {
   "cell_type": "code",
   "execution_count": 12,
   "metadata": {},
   "outputs": [],
   "source": [
    "def convert_vector(row):\n",
    "    new_row = []\n",
    "    rad = []\n",
    "    for x in row: \n",
    "        rad.append(x*np.pi/180)\n",
    "    \n",
    "    for r in rad: \n",
    "        wx = round(np.cos(r),2)\n",
    "        wy = round(np.sin(r),2)\n",
    "        new_row.append([wx,wy])\n",
    "    return new_row\n",
    "    \n",
    "\n",
    "data_process['new_wind_vec'] = data_process['new_wind_dir'].apply(convert_vector)"
   ]
  },
  {
   "cell_type": "code",
   "execution_count": 13,
   "metadata": {},
   "outputs": [
    {
     "data": {
      "text/html": [
       "<div>\n",
       "<style scoped>\n",
       "    .dataframe tbody tr th:only-of-type {\n",
       "        vertical-align: middle;\n",
       "    }\n",
       "\n",
       "    .dataframe tbody tr th {\n",
       "        vertical-align: top;\n",
       "    }\n",
       "\n",
       "    .dataframe thead th {\n",
       "        text-align: right;\n",
       "    }\n",
       "</style>\n",
       "<table border=\"1\" class=\"dataframe\">\n",
       "  <thead>\n",
       "    <tr style=\"text-align: right;\">\n",
       "      <th></th>\n",
       "      <th>ID</th>\n",
       "      <th>location</th>\n",
       "      <th>target</th>\n",
       "      <th>new_temp</th>\n",
       "      <th>new_precip</th>\n",
       "      <th>new_rel_humidity</th>\n",
       "      <th>new_wind_spd</th>\n",
       "      <th>new_atmos_press</th>\n",
       "      <th>new_wind_vec</th>\n",
       "    </tr>\n",
       "  </thead>\n",
       "  <tbody>\n",
       "    <tr>\n",
       "      <th>1</th>\n",
       "      <td>ID_train_1</td>\n",
       "      <td>D</td>\n",
       "      <td>79.131702</td>\n",
       "      <td>[22.53333333, 21.71666667, 20.83333333, 20.983...</td>\n",
       "      <td>[0.102, 0.0, 0.0, 0.0, 0.0, 0.0, 0.0, 0.034, 0...</td>\n",
       "      <td>[0.744583333, 0.808083333, 0.911166667, 0.9163...</td>\n",
       "      <td>[2.3775, 1.126666667, 0.700833333, 0.341666667...</td>\n",
       "      <td>[90.32, 90.3775, 90.44083333, 90.4725, 90.4541...</td>\n",
       "      <td>[[0.2, -0.98], [0.01, 1.0], [0.14, 0.99], [0.3...</td>\n",
       "    </tr>\n",
       "    <tr>\n",
       "      <th>2</th>\n",
       "      <td>ID_train_10</td>\n",
       "      <td>A</td>\n",
       "      <td>32.661304</td>\n",
       "      <td>[28.975, 27.95, 29.6, 26.425, 22.09166667, 21....</td>\n",
       "      <td>[0.0, 0.0, 0.0, 0.102, 0.136, 0.0, 0.0, 2.16, ...</td>\n",
       "      <td>[0.573333333, 0.597166667, 0.5668333329999999,...</td>\n",
       "      <td>[1.0386555556, 1.0386555556, 1.0386555556, 1.0...</td>\n",
       "      <td>[88.55166667, 88.46416667, 88.31916667, 88.24,...</td>\n",
       "      <td>[[-0.93, -0.36], [-0.93, -0.36], [-0.93, -0.36...</td>\n",
       "    </tr>\n",
       "    <tr>\n",
       "      <th>3</th>\n",
       "      <td>ID_train_100</td>\n",
       "      <td>A</td>\n",
       "      <td>53.850238</td>\n",
       "      <td>[22.96666667, 24.26666667, 25.275, 25.625, 25....</td>\n",
       "      <td>[0.0, 0.0, 0.0, 0.0, 0.0, 0.0, 0.0, 0.0, 7.77,...</td>\n",
       "      <td>[0.8430833329999999, 0.79025, 0.7375, 0.728, 0...</td>\n",
       "      <td>[1.446666667, 1.1925, 1.324166667, 1.544166666...</td>\n",
       "      <td>[88.615, 88.53083333, 88.4, 88.27166667, 88.20...</td>\n",
       "      <td>[[0.5, -0.87], [0.4, -0.92], [0.41, -0.91], [0...</td>\n",
       "    </tr>\n",
       "    <tr>\n",
       "      <th>5</th>\n",
       "      <td>ID_train_10000</td>\n",
       "      <td>E</td>\n",
       "      <td>17.005000</td>\n",
       "      <td>[26.225, 26.25, 26.95833333, 27.925, 28.416666...</td>\n",
       "      <td>[0.0, 0.0, 0.0, 0.0, 0.0, 0.0, 0.0, 0.0, 0.0, ...</td>\n",
       "      <td>[0.7566666670000001, 0.7090833329999999, 0.632...</td>\n",
       "      <td>[1.1332211538846155, 1.4858333330000002, 1.090...</td>\n",
       "      <td>[88.56583333, 88.55, 88.50916667, 88.44083333,...</td>\n",
       "      <td>[[-0.98, 0.2], [-0.25, 0.97], [-0.95, 0.32], [...</td>\n",
       "    </tr>\n",
       "    <tr>\n",
       "      <th>6</th>\n",
       "      <td>ID_train_10001</td>\n",
       "      <td>C</td>\n",
       "      <td>53.100000</td>\n",
       "      <td>[21.86666667, 21.38333333, 20.75, 20.74166667,...</td>\n",
       "      <td>[0.0, 0.0, 0.0, 0.0, 0.0, 0.0, 0.0, 0.0, 0.0, ...</td>\n",
       "      <td>[0.548333333, 0.571666667, 0.589166667, 0.57, ...</td>\n",
       "      <td>[1.1525, 1.055, 1.11, 1.385833333, 1.2, 1.2508...</td>\n",
       "      <td>[87.73666667, 87.74416667, 87.7475, 87.78, 87....</td>\n",
       "      <td>[[0.9, -0.44], [0.89, -0.46], [0.85, -0.52], [...</td>\n",
       "    </tr>\n",
       "  </tbody>\n",
       "</table>\n",
       "</div>"
      ],
      "text/plain": [
       "               ID location     target  \\\n",
       "1      ID_train_1        D  79.131702   \n",
       "2     ID_train_10        A  32.661304   \n",
       "3    ID_train_100        A  53.850238   \n",
       "5  ID_train_10000        E  17.005000   \n",
       "6  ID_train_10001        C  53.100000   \n",
       "\n",
       "                                            new_temp  \\\n",
       "1  [22.53333333, 21.71666667, 20.83333333, 20.983...   \n",
       "2  [28.975, 27.95, 29.6, 26.425, 22.09166667, 21....   \n",
       "3  [22.96666667, 24.26666667, 25.275, 25.625, 25....   \n",
       "5  [26.225, 26.25, 26.95833333, 27.925, 28.416666...   \n",
       "6  [21.86666667, 21.38333333, 20.75, 20.74166667,...   \n",
       "\n",
       "                                          new_precip  \\\n",
       "1  [0.102, 0.0, 0.0, 0.0, 0.0, 0.0, 0.0, 0.034, 0...   \n",
       "2  [0.0, 0.0, 0.0, 0.102, 0.136, 0.0, 0.0, 2.16, ...   \n",
       "3  [0.0, 0.0, 0.0, 0.0, 0.0, 0.0, 0.0, 0.0, 7.77,...   \n",
       "5  [0.0, 0.0, 0.0, 0.0, 0.0, 0.0, 0.0, 0.0, 0.0, ...   \n",
       "6  [0.0, 0.0, 0.0, 0.0, 0.0, 0.0, 0.0, 0.0, 0.0, ...   \n",
       "\n",
       "                                    new_rel_humidity  \\\n",
       "1  [0.744583333, 0.808083333, 0.911166667, 0.9163...   \n",
       "2  [0.573333333, 0.597166667, 0.5668333329999999,...   \n",
       "3  [0.8430833329999999, 0.79025, 0.7375, 0.728, 0...   \n",
       "5  [0.7566666670000001, 0.7090833329999999, 0.632...   \n",
       "6  [0.548333333, 0.571666667, 0.589166667, 0.57, ...   \n",
       "\n",
       "                                        new_wind_spd  \\\n",
       "1  [2.3775, 1.126666667, 0.700833333, 0.341666667...   \n",
       "2  [1.0386555556, 1.0386555556, 1.0386555556, 1.0...   \n",
       "3  [1.446666667, 1.1925, 1.324166667, 1.544166666...   \n",
       "5  [1.1332211538846155, 1.4858333330000002, 1.090...   \n",
       "6  [1.1525, 1.055, 1.11, 1.385833333, 1.2, 1.2508...   \n",
       "\n",
       "                                     new_atmos_press  \\\n",
       "1  [90.32, 90.3775, 90.44083333, 90.4725, 90.4541...   \n",
       "2  [88.55166667, 88.46416667, 88.31916667, 88.24,...   \n",
       "3  [88.615, 88.53083333, 88.4, 88.27166667, 88.20...   \n",
       "5  [88.56583333, 88.55, 88.50916667, 88.44083333,...   \n",
       "6  [87.73666667, 87.74416667, 87.7475, 87.78, 87....   \n",
       "\n",
       "                                        new_wind_vec  \n",
       "1  [[0.2, -0.98], [0.01, 1.0], [0.14, 0.99], [0.3...  \n",
       "2  [[-0.93, -0.36], [-0.93, -0.36], [-0.93, -0.36...  \n",
       "3  [[0.5, -0.87], [0.4, -0.92], [0.41, -0.91], [0...  \n",
       "5  [[-0.98, 0.2], [-0.25, 0.97], [-0.95, 0.32], [...  \n",
       "6  [[0.9, -0.44], [0.89, -0.46], [0.85, -0.52], [...  "
      ]
     },
     "execution_count": 13,
     "metadata": {},
     "output_type": "execute_result"
    }
   ],
   "source": [
    "data_process.drop(['new_wind_dir'], axis=1, inplace=True)\n",
    "data_process.head()"
   ]
  },
  {
   "cell_type": "markdown",
   "metadata": {},
   "source": [
    "- create new dataframes for each feature and observation"
   ]
  },
  {
   "cell_type": "code",
   "execution_count": 14,
   "metadata": {},
   "outputs": [
    {
     "data": {
      "text/plain": [
       "['df_temp',\n",
       " 'df_precip',\n",
       " 'df_rel_humidity',\n",
       " 'df_wind_dir',\n",
       " 'df_wind_spd',\n",
       " 'df_atmos_press']"
      ]
     },
     "execution_count": 14,
     "metadata": {},
     "output_type": "execute_result"
    }
   ],
   "source": [
    "# name of dataframes:\n",
    "df_names = [\"df_\" + str(feat) for feat in features]\n",
    "df_names"
   ]
  },
  {
   "cell_type": "code",
   "execution_count": 15,
   "metadata": {},
   "outputs": [
    {
     "ename": "KeyError",
     "evalue": "'new_wind_dir'",
     "output_type": "error",
     "traceback": [
      "\u001b[0;31m---------------------------------------------------------------------------\u001b[0m",
      "\u001b[0;31mKeyError\u001b[0m                                  Traceback (most recent call last)",
      "File \u001b[0;32m~/ds/airquality/.venv/lib/python3.9/site-packages/pandas/core/indexes/base.py:3621\u001b[0m, in \u001b[0;36mIndex.get_loc\u001b[0;34m(self, key, method, tolerance)\u001b[0m\n\u001b[1;32m   <a href='file:///Users/valentina/ds/airquality/.venv/lib/python3.9/site-packages/pandas/core/indexes/base.py?line=3619'>3620</a>\u001b[0m \u001b[39mtry\u001b[39;00m:\n\u001b[0;32m-> <a href='file:///Users/valentina/ds/airquality/.venv/lib/python3.9/site-packages/pandas/core/indexes/base.py?line=3620'>3621</a>\u001b[0m     \u001b[39mreturn\u001b[39;00m \u001b[39mself\u001b[39;49m\u001b[39m.\u001b[39;49m_engine\u001b[39m.\u001b[39;49mget_loc(casted_key)\n\u001b[1;32m   <a href='file:///Users/valentina/ds/airquality/.venv/lib/python3.9/site-packages/pandas/core/indexes/base.py?line=3621'>3622</a>\u001b[0m \u001b[39mexcept\u001b[39;00m \u001b[39mKeyError\u001b[39;00m \u001b[39mas\u001b[39;00m err:\n",
      "File \u001b[0;32m~/ds/airquality/.venv/lib/python3.9/site-packages/pandas/_libs/index.pyx:136\u001b[0m, in \u001b[0;36mpandas._libs.index.IndexEngine.get_loc\u001b[0;34m()\u001b[0m\n",
      "File \u001b[0;32m~/ds/airquality/.venv/lib/python3.9/site-packages/pandas/_libs/index.pyx:163\u001b[0m, in \u001b[0;36mpandas._libs.index.IndexEngine.get_loc\u001b[0;34m()\u001b[0m\n",
      "File \u001b[0;32mpandas/_libs/hashtable_class_helper.pxi:5198\u001b[0m, in \u001b[0;36mpandas._libs.hashtable.PyObjectHashTable.get_item\u001b[0;34m()\u001b[0m\n",
      "File \u001b[0;32mpandas/_libs/hashtable_class_helper.pxi:5206\u001b[0m, in \u001b[0;36mpandas._libs.hashtable.PyObjectHashTable.get_item\u001b[0;34m()\u001b[0m\n",
      "\u001b[0;31mKeyError\u001b[0m: 'new_wind_dir'",
      "\nThe above exception was the direct cause of the following exception:\n",
      "\u001b[0;31mKeyError\u001b[0m                                  Traceback (most recent call last)",
      "\u001b[1;32m/Users/valentina/ds/airquality/assembling/preprocessing.ipynb Cell 19'\u001b[0m in \u001b[0;36m<cell line: 2>\u001b[0;34m()\u001b[0m\n\u001b[1;32m      <a href='vscode-notebook-cell:/Users/valentina/ds/airquality/assembling/preprocessing.ipynb#ch0000021?line=0'>1</a>\u001b[0m features\n\u001b[1;32m      <a href='vscode-notebook-cell:/Users/valentina/ds/airquality/assembling/preprocessing.ipynb#ch0000021?line=1'>2</a>\u001b[0m \u001b[39mfor\u001b[39;00m f \u001b[39min\u001b[39;00m features: \n\u001b[0;32m----> <a href='vscode-notebook-cell:/Users/valentina/ds/airquality/assembling/preprocessing.ipynb#ch0000021?line=2'>3</a>\u001b[0m     exec(\u001b[39mf\u001b[39;49m\u001b[39m'\u001b[39;49m\u001b[39mdf_\u001b[39;49m\u001b[39m{\u001b[39;49;00mf\u001b[39m}\u001b[39;49;00m\u001b[39m = pd.DataFrame(data_process[\u001b[39;49m\u001b[39m\"\u001b[39;49m\u001b[39mnew_\u001b[39;49m\u001b[39m{\u001b[39;49;00mf\u001b[39m}\u001b[39;49;00m\u001b[39m\"\u001b[39;49m\u001b[39m])\u001b[39;49m\u001b[39m'\u001b[39;49m)\n",
      "File \u001b[0;32m<string>:1\u001b[0m, in \u001b[0;36m<module>\u001b[0;34m\u001b[0m\n",
      "File \u001b[0;32m~/ds/airquality/.venv/lib/python3.9/site-packages/pandas/core/frame.py:3505\u001b[0m, in \u001b[0;36mDataFrame.__getitem__\u001b[0;34m(self, key)\u001b[0m\n\u001b[1;32m   <a href='file:///Users/valentina/ds/airquality/.venv/lib/python3.9/site-packages/pandas/core/frame.py?line=3502'>3503</a>\u001b[0m \u001b[39mif\u001b[39;00m \u001b[39mself\u001b[39m\u001b[39m.\u001b[39mcolumns\u001b[39m.\u001b[39mnlevels \u001b[39m>\u001b[39m \u001b[39m1\u001b[39m:\n\u001b[1;32m   <a href='file:///Users/valentina/ds/airquality/.venv/lib/python3.9/site-packages/pandas/core/frame.py?line=3503'>3504</a>\u001b[0m     \u001b[39mreturn\u001b[39;00m \u001b[39mself\u001b[39m\u001b[39m.\u001b[39m_getitem_multilevel(key)\n\u001b[0;32m-> <a href='file:///Users/valentina/ds/airquality/.venv/lib/python3.9/site-packages/pandas/core/frame.py?line=3504'>3505</a>\u001b[0m indexer \u001b[39m=\u001b[39m \u001b[39mself\u001b[39;49m\u001b[39m.\u001b[39;49mcolumns\u001b[39m.\u001b[39;49mget_loc(key)\n\u001b[1;32m   <a href='file:///Users/valentina/ds/airquality/.venv/lib/python3.9/site-packages/pandas/core/frame.py?line=3505'>3506</a>\u001b[0m \u001b[39mif\u001b[39;00m is_integer(indexer):\n\u001b[1;32m   <a href='file:///Users/valentina/ds/airquality/.venv/lib/python3.9/site-packages/pandas/core/frame.py?line=3506'>3507</a>\u001b[0m     indexer \u001b[39m=\u001b[39m [indexer]\n",
      "File \u001b[0;32m~/ds/airquality/.venv/lib/python3.9/site-packages/pandas/core/indexes/base.py:3623\u001b[0m, in \u001b[0;36mIndex.get_loc\u001b[0;34m(self, key, method, tolerance)\u001b[0m\n\u001b[1;32m   <a href='file:///Users/valentina/ds/airquality/.venv/lib/python3.9/site-packages/pandas/core/indexes/base.py?line=3620'>3621</a>\u001b[0m     \u001b[39mreturn\u001b[39;00m \u001b[39mself\u001b[39m\u001b[39m.\u001b[39m_engine\u001b[39m.\u001b[39mget_loc(casted_key)\n\u001b[1;32m   <a href='file:///Users/valentina/ds/airquality/.venv/lib/python3.9/site-packages/pandas/core/indexes/base.py?line=3621'>3622</a>\u001b[0m \u001b[39mexcept\u001b[39;00m \u001b[39mKeyError\u001b[39;00m \u001b[39mas\u001b[39;00m err:\n\u001b[0;32m-> <a href='file:///Users/valentina/ds/airquality/.venv/lib/python3.9/site-packages/pandas/core/indexes/base.py?line=3622'>3623</a>\u001b[0m     \u001b[39mraise\u001b[39;00m \u001b[39mKeyError\u001b[39;00m(key) \u001b[39mfrom\u001b[39;00m \u001b[39merr\u001b[39;00m\n\u001b[1;32m   <a href='file:///Users/valentina/ds/airquality/.venv/lib/python3.9/site-packages/pandas/core/indexes/base.py?line=3623'>3624</a>\u001b[0m \u001b[39mexcept\u001b[39;00m \u001b[39mTypeError\u001b[39;00m:\n\u001b[1;32m   <a href='file:///Users/valentina/ds/airquality/.venv/lib/python3.9/site-packages/pandas/core/indexes/base.py?line=3624'>3625</a>\u001b[0m     \u001b[39m# If we have a listlike key, _check_indexing_error will raise\u001b[39;00m\n\u001b[1;32m   <a href='file:///Users/valentina/ds/airquality/.venv/lib/python3.9/site-packages/pandas/core/indexes/base.py?line=3625'>3626</a>\u001b[0m     \u001b[39m#  InvalidIndexError. Otherwise we fall through and re-raise\u001b[39;00m\n\u001b[1;32m   <a href='file:///Users/valentina/ds/airquality/.venv/lib/python3.9/site-packages/pandas/core/indexes/base.py?line=3626'>3627</a>\u001b[0m     \u001b[39m#  the TypeError.\u001b[39;00m\n\u001b[1;32m   <a href='file:///Users/valentina/ds/airquality/.venv/lib/python3.9/site-packages/pandas/core/indexes/base.py?line=3627'>3628</a>\u001b[0m     \u001b[39mself\u001b[39m\u001b[39m.\u001b[39m_check_indexing_error(key)\n",
      "\u001b[0;31mKeyError\u001b[0m: 'new_wind_dir'"
     ]
    }
   ],
   "source": [
    "features\n",
    "for f in features: \n",
    "    exec(f'df_{f} = pd.DataFrame(data_process[\"new_{f}\"])')\n",
    "    "
   ]
  },
  {
   "cell_type": "markdown",
   "metadata": {},
   "source": [
    "unpack all values: "
   ]
  },
  {
   "cell_type": "code",
   "execution_count": null,
   "metadata": {},
   "outputs": [],
   "source": [
    "for dframe in df_names:\n",
    "    df = locals()[dframe]\n",
    "    name = df.columns[0]\n",
    "    for x in range(121): # 121 messdaten pro punkt \n",
    "        df[name+ str(x)] = df[name].str[x]\n",
    "        #df.drop(name, axis=1, inplace=True)\n",
    "    "
   ]
  },
  {
   "cell_type": "code",
   "execution_count": null,
   "metadata": {},
   "outputs": [],
   "source": [
    "for dframe in df_names:\n",
    "    df = locals()[dframe]\n",
    "    name = df.columns[0]\n",
    "    df.drop(name, axis=1, inplace=True)"
   ]
  },
  {
   "cell_type": "markdown",
   "metadata": {},
   "source": [
    "add meta information"
   ]
  },
  {
   "cell_type": "code",
   "execution_count": null,
   "metadata": {},
   "outputs": [],
   "source": [
    "meta.head()"
   ]
  },
  {
   "cell_type": "markdown",
   "metadata": {},
   "source": [
    "input nan dist_trunk, dist_primary and dist_secondary with knn imputer"
   ]
  },
  {
   "cell_type": "code",
   "execution_count": null,
   "metadata": {},
   "outputs": [],
   "source": [
    "from sklearn.impute import KNNImputer\n",
    "\n",
    "imputer = KNNImputer(n_neighbors=2)\n",
    "meta_imp = imputer.fit_transform(meta.drop(['location'], axis=1))"
   ]
  },
  {
   "cell_type": "code",
   "execution_count": null,
   "metadata": {},
   "outputs": [],
   "source": [
    "meta_imp = pd.DataFrame(meta_imp)\n",
    "meta_imp.columns = [col for col in meta.columns[1:] if col != 'dist_motorway']\n",
    "meta_imp"
   ]
  },
  {
   "cell_type": "code",
   "execution_count": null,
   "metadata": {},
   "outputs": [],
   "source": [
    "meta_imp['location'] = meta.location"
   ]
  },
  {
   "cell_type": "code",
   "execution_count": null,
   "metadata": {},
   "outputs": [],
   "source": [
    "meta_imp"
   ]
  },
  {
   "cell_type": "markdown",
   "metadata": {},
   "source": [
    "add the meta data into each dataframe according to the location"
   ]
  },
  {
   "cell_type": "markdown",
   "metadata": {},
   "source": [
    "- add meta daten to the df\n"
   ]
  },
  {
   "cell_type": "code",
   "execution_count": null,
   "metadata": {},
   "outputs": [],
   "source": [
    "for dframe in df_names:\n",
    "    df = locals()[dframe]\n",
    "    \n",
    "    name = df.columns[0]\n",
    "    df_1 = df.join(data_process[\"location\"])\n",
    "    exec(f'f_{name} = pd.merge(df_1, meta_imp, how=\"left\", on=\"location\")')"
   ]
  },
  {
   "cell_type": "code",
   "execution_count": null,
   "metadata": {},
   "outputs": [],
   "source": [
    "list_features = []\n",
    "for dframe in df_names:\n",
    "    df = locals()[dframe]\n",
    "    name = df.columns[0]\n",
    "    list_features.append(\"f_\"+str(name))"
   ]
  },
  {
   "cell_type": "code",
   "execution_count": null,
   "metadata": {},
   "outputs": [],
   "source": [
    "list_features"
   ]
  },
  {
   "cell_type": "markdown",
   "metadata": {},
   "source": []
  },
  {
   "cell_type": "code",
   "execution_count": null,
   "metadata": {},
   "outputs": [],
   "source": [
    "target = data_process.target"
   ]
  },
  {
   "cell_type": "code",
   "execution_count": null,
   "metadata": {},
   "outputs": [],
   "source": [
    "list_features = []\n",
    "for dframe in df_names:\n",
    "    df = locals()[dframe]\n",
    "    print(df.shape)"
   ]
  },
  {
   "cell_type": "code",
   "execution_count": null,
   "metadata": {},
   "outputs": [],
   "source": [
    "data_process.shape"
   ]
  },
  {
   "cell_type": "markdown",
   "metadata": {},
   "source": [
    "## Model forecast for each feature"
   ]
  },
  {
   "cell_type": "code",
   "execution_count": null,
   "metadata": {},
   "outputs": [],
   "source": [
    "from sklearn.linear_model import LinearRegression\n",
    "from sklearn.model_selection import train_test_split\n",
    "from sklearn.metrics import mean_squared_error"
   ]
  },
  {
   "cell_type": "code",
   "execution_count": null,
   "metadata": {},
   "outputs": [],
   "source": [
    "def train_predict(model, df, target):\n",
    "    # data split\n",
    "    X_train, X_test, y_train, y_test = train_test_split(df, target,random_state=44)\n",
    "    #model\n",
    "    \n",
    "    model.fit(X_train, y_train)\n",
    "    # predict\n",
    "    y_pred_train = model.predict(X_train)\n",
    "    y_pred_test = model.predict(X_test)\n",
    "    \n",
    "    rsme_train = np.sqrt(mean_squared_error(y_train, y_pred_train))\n",
    "    rsme_test = np.sqrt(mean_squared_error(y_test, y_pred_test))\n",
    "\n",
    "    test_results[str(model) + \"_\"+ df.columns[0]] = [rsme_train, rsme_test]\n",
    "\n",
    "    print(df.columns[0])\n",
    "    print (f'[{rsme_train:.2f}, {rsme_test:.2f}]')\n",
    "    return y_pred_train\n",
    "\n"
   ]
  },
  {
   "cell_type": "code",
   "execution_count": null,
   "metadata": {},
   "outputs": [],
   "source": []
  },
  {
   "cell_type": "code",
   "execution_count": null,
   "metadata": {},
   "outputs": [],
   "source": [
    "test_results = {}\n",
    "linear = LinearRegression()\n",
    "for dframe in df_names:\n",
    "    df = locals()[dframe]\n",
    "    name = df.columns[0]\n",
    "\n",
    "    train_predict(linear, df, target)\n"
   ]
  },
  {
   "cell_type": "code",
   "execution_count": null,
   "metadata": {},
   "outputs": [],
   "source": [
    "pd.DataFrame(test_results).T"
   ]
  },
  {
   "cell_type": "markdown",
   "metadata": {},
   "source": [
    "temperatur has the best fit\n"
   ]
  },
  {
   "cell_type": "markdown",
   "metadata": {},
   "source": [
    "# dnn"
   ]
  },
  {
   "cell_type": "code",
   "execution_count": null,
   "metadata": {},
   "outputs": [],
   "source": [
    "import tensorflow as tf\n",
    "from tensorflow.keras import layers\n",
    "from tensorflow.keras import regularizers"
   ]
  },
  {
   "cell_type": "code",
   "execution_count": null,
   "metadata": {},
   "outputs": [],
   "source": [
    "def model_compile_and_fit(df, target, max_epochs=30):\n",
    "    # Get optimizer\n",
    "    #optimizer=tf.keras.optimizers.Adam()\n",
    "    # data split\n",
    "    X_train, X_test, y_train, y_test = train_test_split(df, target,random_state=44)\n",
    "\n",
    "    # model \n",
    "    with tf.device('/cpu:0'):\n",
    "      model = tf.keras.Sequential([\n",
    "            tf.keras.layers.Dense(32,kernel_initializer = 'uniform', activation='relu', input_dim = 121),\n",
    "            #tf.keras.layers.Dense(121,kernel_initializer = 'uniform', activation='relu', input_dim = 121),\n",
    "            tf.keras.layers.Dense(1,kernel_initializer = 'uniform')\n",
    "            ])\n",
    "\n",
    "    N_VAL =  len(X_test)\n",
    "    N_TRAIN = len(X_train)\n",
    "    BATCH_SIZE = 96\n",
    "    STEPS_PER_EPOCH = N_TRAIN // BATCH_SIZE\n",
    "    EPOCHS = 500\n",
    "\n",
    "    # model.compile\n",
    "    model.compile(optimizer='Adam',\n",
    "                metrics='mse', # [tf.keras.metrics.RootMeanSquaredError()]\n",
    "                loss='mae')\n",
    "    # model.fit\n",
    "    with tf.device('/cpu:0'):\n",
    "      train_history = model.fit(X_train, \n",
    "                        y_train,\n",
    "                        validation_split=0.2,\n",
    "                        verbose=1,\n",
    "                        steps_per_epoch=STEPS_PER_EPOCH,\n",
    "                        epochs=EPOCHS, \n",
    "                        )\n",
    "   \n",
    "\n",
    "    # Predict values for test set\n",
    "    y_pred = model.predict(X_test)\n",
    "    y_pred_train = model.predict(X_train)\n",
    "\n",
    "    rmse_train = np.sqrt(mean_squared_error(y_train, y_pred_train))\n",
    "    rmse_test = np.sqrt(mean_squared_error(y_test, y_pred))\n",
    "\n",
    "    print(df.columns[0])\n",
    "    print (f'[{rmse_train:.2f}, {rmse_test:.2f}]')\n",
    "\n",
    "    test_results[str(model) + \"_\"+ df.columns[0]] = [rmse_train, rmse_test]\n",
    "    pass"
   ]
  },
  {
   "cell_type": "code",
   "execution_count": null,
   "metadata": {},
   "outputs": [],
   "source": [
    "for dframe in df_names:\n",
    "    df = locals()[dframe]\n",
    "    name = df.columns[0]\n",
    "\n",
    "    model_compile_and_fit(df, target)"
   ]
  },
  {
   "cell_type": "code",
   "execution_count": null,
   "metadata": {},
   "outputs": [],
   "source": [
    "pd.DataFrame(test_results).T"
   ]
  }
 ],
 "metadata": {
  "interpreter": {
   "hash": "d8f548114482b487876add26679caae41a2a9f4541ddf007921bd7bf3c60f478"
  },
  "kernelspec": {
   "display_name": "Python 3.9.4 ('.venv': venv)",
   "language": "python",
   "name": "python3"
  },
  "language_info": {
   "codemirror_mode": {
    "name": "ipython",
    "version": 3
   },
   "file_extension": ".py",
   "mimetype": "text/x-python",
   "name": "python",
   "nbconvert_exporter": "python",
   "pygments_lexer": "ipython3",
   "version": "3.9.4"
  },
  "orig_nbformat": 4
 },
 "nbformat": 4,
 "nbformat_minor": 2
}
