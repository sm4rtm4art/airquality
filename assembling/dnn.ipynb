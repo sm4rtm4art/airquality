{
 "cells": [
  {
   "cell_type": "code",
   "execution_count": 2,
   "metadata": {},
   "outputs": [],
   "source": [
    "import pandas as pd \n",
    "import numpy as np \n",
    "from tqdm import tqdm\n",
    "import math\n",
    "import gc\n",
    "\n",
    "import matplotlib.pyplot as plt\n",
    "import seaborn as sns"
   ]
  },
  {
   "cell_type": "code",
   "execution_count": 9,
   "metadata": {},
   "outputs": [],
   "source": [
    "# features \n",
    "features = [\n",
    "    'temp',\n",
    "    'precip',\n",
    "    'rel_humidity',\n",
    "    'wind_spd',\n",
    "    'atmos_press',\n",
    "    'wind_vec', \n",
    "    'target'\n",
    "    ]\n",
    "\n",
    "for feat in features:\n",
    "    exec(f'{feat} = pd.read_csv(\"./data/\" + str(feat) + \".csv\", index_col=[0])')\n",
    "\n",
    "\n"
   ]
  },
  {
   "cell_type": "code",
   "execution_count": 17,
   "metadata": {},
   "outputs": [
    {
     "name": "stdout",
     "output_type": "stream",
     "text": [
      "DF: temp: /t/t (14536, 121)\n",
      "DF: precip: /t/t (14536, 121)\n",
      "DF: rel_humidity: /t/t (14536, 121)\n",
      "DF: wind_spd: /t/t (14536, 121)\n",
      "DF: atmos_press: /t/t (14536, 121)\n",
      "DF: wind_vec: /t/t (14536, 121)\n",
      "DF: e: /t/t (14536, 1)\n"
     ]
    }
   ],
   "source": [
    "for feat in features:\n",
    "    df = locals()[feat]\n",
    "    name = df.columns[0][4:-1]\n",
    "    print(f'DF: {name}:  {df.shape}')"
   ]
  },
  {
   "cell_type": "markdown",
   "metadata": {},
   "source": [
    "## Model forecast for each feature"
   ]
  },
  {
   "cell_type": "code",
   "execution_count": 18,
   "metadata": {},
   "outputs": [],
   "source": [
    "from sklearn.linear_model import LinearRegression\n",
    "from sklearn.model_selection import train_test_split\n",
    "from sklearn.metrics import mean_squared_error"
   ]
  },
  {
   "cell_type": "code",
   "execution_count": 19,
   "metadata": {},
   "outputs": [],
   "source": [
    "def train_predict(model, df, target):\n",
    "    # data split\n",
    "    X_train, X_test, y_train, y_test = train_test_split(df, target,random_state=44)\n",
    "    #model\n",
    "    \n",
    "    model.fit(X_train, y_train)\n",
    "    # predict\n",
    "    y_pred_train = model.predict(X_train)\n",
    "    y_pred_test = model.predict(X_test)\n",
    "    \n",
    "    rsme_train = np.sqrt(mean_squared_error(y_train, y_pred_train))\n",
    "    rsme_test = np.sqrt(mean_squared_error(y_test, y_pred_test))\n",
    "\n",
    "    test_results[str(model) + \"_\"+ df.columns[0]] = [rsme_train, rsme_test]\n",
    "\n",
    "    print(df.columns[0])\n",
    "    print (f'[{rsme_train:.2f}, {rsme_test:.2f}]')\n",
    "    return y_pred_train\n",
    "\n"
   ]
  },
  {
   "cell_type": "code",
   "execution_count": 24,
   "metadata": {},
   "outputs": [],
   "source": [
    "features.remove('target')"
   ]
  },
  {
   "cell_type": "code",
   "execution_count": 25,
   "metadata": {},
   "outputs": [
    {
     "name": "stdout",
     "output_type": "stream",
     "text": [
      "new_temp0\n",
      "[38.04, 38.50]\n",
      "new_precip0\n",
      "[40.44, 41.09]\n",
      "new_rel_humidity0\n",
      "[38.57, 39.10]\n",
      "new_wind_spd0\n",
      "[38.95, 39.39]\n",
      "new_atmos_press0\n",
      "[38.58, 38.92]\n"
     ]
    },
    {
     "ename": "ValueError",
     "evalue": "could not convert string to float: '[0.13, -0.99]'",
     "output_type": "error",
     "traceback": [
      "\u001b[0;31m---------------------------------------------------------------------------\u001b[0m",
      "\u001b[0;31mValueError\u001b[0m                                Traceback (most recent call last)",
      "\u001b[1;32m/Users/valentina/ds/airquality/assembling/dnn.ipynb Cell 8'\u001b[0m in \u001b[0;36m<cell line: 3>\u001b[0;34m()\u001b[0m\n\u001b[1;32m      <a href='vscode-notebook-cell:/Users/valentina/ds/airquality/assembling/dnn.ipynb#ch0000047?line=3'>4</a>\u001b[0m df \u001b[39m=\u001b[39m \u001b[39mlocals\u001b[39m()[dframe]\n\u001b[1;32m      <a href='vscode-notebook-cell:/Users/valentina/ds/airquality/assembling/dnn.ipynb#ch0000047?line=4'>5</a>\u001b[0m name \u001b[39m=\u001b[39m df\u001b[39m.\u001b[39mcolumns[\u001b[39m0\u001b[39m]\n\u001b[0;32m----> <a href='vscode-notebook-cell:/Users/valentina/ds/airquality/assembling/dnn.ipynb#ch0000047?line=6'>7</a>\u001b[0m train_predict(linear, df, target)\n",
      "\u001b[1;32m/Users/valentina/ds/airquality/assembling/dnn.ipynb Cell 6'\u001b[0m in \u001b[0;36mtrain_predict\u001b[0;34m(model, df, target)\u001b[0m\n\u001b[1;32m      <a href='vscode-notebook-cell:/Users/valentina/ds/airquality/assembling/dnn.ipynb#ch0000042?line=2'>3</a>\u001b[0m X_train, X_test, y_train, y_test \u001b[39m=\u001b[39m train_test_split(df, target,random_state\u001b[39m=\u001b[39m\u001b[39m44\u001b[39m)\n\u001b[1;32m      <a href='vscode-notebook-cell:/Users/valentina/ds/airquality/assembling/dnn.ipynb#ch0000042?line=3'>4</a>\u001b[0m \u001b[39m#model\u001b[39;00m\n\u001b[0;32m----> <a href='vscode-notebook-cell:/Users/valentina/ds/airquality/assembling/dnn.ipynb#ch0000042?line=5'>6</a>\u001b[0m model\u001b[39m.\u001b[39;49mfit(X_train, y_train)\n\u001b[1;32m      <a href='vscode-notebook-cell:/Users/valentina/ds/airquality/assembling/dnn.ipynb#ch0000042?line=6'>7</a>\u001b[0m \u001b[39m# predict\u001b[39;00m\n\u001b[1;32m      <a href='vscode-notebook-cell:/Users/valentina/ds/airquality/assembling/dnn.ipynb#ch0000042?line=7'>8</a>\u001b[0m y_pred_train \u001b[39m=\u001b[39m model\u001b[39m.\u001b[39mpredict(X_train)\n",
      "File \u001b[0;32m~/ds/airquality/.venv/lib/python3.9/site-packages/sklearn/linear_model/_base.py:662\u001b[0m, in \u001b[0;36mLinearRegression.fit\u001b[0;34m(self, X, y, sample_weight)\u001b[0m\n\u001b[1;32m    <a href='file:///Users/valentina/ds/airquality/.venv/lib/python3.9/site-packages/sklearn/linear_model/_base.py?line=657'>658</a>\u001b[0m n_jobs_ \u001b[39m=\u001b[39m \u001b[39mself\u001b[39m\u001b[39m.\u001b[39mn_jobs\n\u001b[1;32m    <a href='file:///Users/valentina/ds/airquality/.venv/lib/python3.9/site-packages/sklearn/linear_model/_base.py?line=659'>660</a>\u001b[0m accept_sparse \u001b[39m=\u001b[39m \u001b[39mFalse\u001b[39;00m \u001b[39mif\u001b[39;00m \u001b[39mself\u001b[39m\u001b[39m.\u001b[39mpositive \u001b[39melse\u001b[39;00m [\u001b[39m\"\u001b[39m\u001b[39mcsr\u001b[39m\u001b[39m\"\u001b[39m, \u001b[39m\"\u001b[39m\u001b[39mcsc\u001b[39m\u001b[39m\"\u001b[39m, \u001b[39m\"\u001b[39m\u001b[39mcoo\u001b[39m\u001b[39m\"\u001b[39m]\n\u001b[0;32m--> <a href='file:///Users/valentina/ds/airquality/.venv/lib/python3.9/site-packages/sklearn/linear_model/_base.py?line=661'>662</a>\u001b[0m X, y \u001b[39m=\u001b[39m \u001b[39mself\u001b[39;49m\u001b[39m.\u001b[39;49m_validate_data(\n\u001b[1;32m    <a href='file:///Users/valentina/ds/airquality/.venv/lib/python3.9/site-packages/sklearn/linear_model/_base.py?line=662'>663</a>\u001b[0m     X, y, accept_sparse\u001b[39m=\u001b[39;49maccept_sparse, y_numeric\u001b[39m=\u001b[39;49m\u001b[39mTrue\u001b[39;49;00m, multi_output\u001b[39m=\u001b[39;49m\u001b[39mTrue\u001b[39;49;00m\n\u001b[1;32m    <a href='file:///Users/valentina/ds/airquality/.venv/lib/python3.9/site-packages/sklearn/linear_model/_base.py?line=663'>664</a>\u001b[0m )\n\u001b[1;32m    <a href='file:///Users/valentina/ds/airquality/.venv/lib/python3.9/site-packages/sklearn/linear_model/_base.py?line=665'>666</a>\u001b[0m \u001b[39mif\u001b[39;00m sample_weight \u001b[39mis\u001b[39;00m \u001b[39mnot\u001b[39;00m \u001b[39mNone\u001b[39;00m:\n\u001b[1;32m    <a href='file:///Users/valentina/ds/airquality/.venv/lib/python3.9/site-packages/sklearn/linear_model/_base.py?line=666'>667</a>\u001b[0m     sample_weight \u001b[39m=\u001b[39m _check_sample_weight(sample_weight, X, dtype\u001b[39m=\u001b[39mX\u001b[39m.\u001b[39mdtype)\n",
      "File \u001b[0;32m~/ds/airquality/.venv/lib/python3.9/site-packages/sklearn/base.py:581\u001b[0m, in \u001b[0;36mBaseEstimator._validate_data\u001b[0;34m(self, X, y, reset, validate_separately, **check_params)\u001b[0m\n\u001b[1;32m    <a href='file:///Users/valentina/ds/airquality/.venv/lib/python3.9/site-packages/sklearn/base.py?line=578'>579</a>\u001b[0m         y \u001b[39m=\u001b[39m check_array(y, \u001b[39m*\u001b[39m\u001b[39m*\u001b[39mcheck_y_params)\n\u001b[1;32m    <a href='file:///Users/valentina/ds/airquality/.venv/lib/python3.9/site-packages/sklearn/base.py?line=579'>580</a>\u001b[0m     \u001b[39melse\u001b[39;00m:\n\u001b[0;32m--> <a href='file:///Users/valentina/ds/airquality/.venv/lib/python3.9/site-packages/sklearn/base.py?line=580'>581</a>\u001b[0m         X, y \u001b[39m=\u001b[39m check_X_y(X, y, \u001b[39m*\u001b[39;49m\u001b[39m*\u001b[39;49mcheck_params)\n\u001b[1;32m    <a href='file:///Users/valentina/ds/airquality/.venv/lib/python3.9/site-packages/sklearn/base.py?line=581'>582</a>\u001b[0m     out \u001b[39m=\u001b[39m X, y\n\u001b[1;32m    <a href='file:///Users/valentina/ds/airquality/.venv/lib/python3.9/site-packages/sklearn/base.py?line=583'>584</a>\u001b[0m \u001b[39mif\u001b[39;00m \u001b[39mnot\u001b[39;00m no_val_X \u001b[39mand\u001b[39;00m check_params\u001b[39m.\u001b[39mget(\u001b[39m\"\u001b[39m\u001b[39mensure_2d\u001b[39m\u001b[39m\"\u001b[39m, \u001b[39mTrue\u001b[39;00m):\n",
      "File \u001b[0;32m~/ds/airquality/.venv/lib/python3.9/site-packages/sklearn/utils/validation.py:964\u001b[0m, in \u001b[0;36mcheck_X_y\u001b[0;34m(X, y, accept_sparse, accept_large_sparse, dtype, order, copy, force_all_finite, ensure_2d, allow_nd, multi_output, ensure_min_samples, ensure_min_features, y_numeric, estimator)\u001b[0m\n\u001b[1;32m    <a href='file:///Users/valentina/ds/airquality/.venv/lib/python3.9/site-packages/sklearn/utils/validation.py?line=960'>961</a>\u001b[0m \u001b[39mif\u001b[39;00m y \u001b[39mis\u001b[39;00m \u001b[39mNone\u001b[39;00m:\n\u001b[1;32m    <a href='file:///Users/valentina/ds/airquality/.venv/lib/python3.9/site-packages/sklearn/utils/validation.py?line=961'>962</a>\u001b[0m     \u001b[39mraise\u001b[39;00m \u001b[39mValueError\u001b[39;00m(\u001b[39m\"\u001b[39m\u001b[39my cannot be None\u001b[39m\u001b[39m\"\u001b[39m)\n\u001b[0;32m--> <a href='file:///Users/valentina/ds/airquality/.venv/lib/python3.9/site-packages/sklearn/utils/validation.py?line=963'>964</a>\u001b[0m X \u001b[39m=\u001b[39m check_array(\n\u001b[1;32m    <a href='file:///Users/valentina/ds/airquality/.venv/lib/python3.9/site-packages/sklearn/utils/validation.py?line=964'>965</a>\u001b[0m     X,\n\u001b[1;32m    <a href='file:///Users/valentina/ds/airquality/.venv/lib/python3.9/site-packages/sklearn/utils/validation.py?line=965'>966</a>\u001b[0m     accept_sparse\u001b[39m=\u001b[39;49maccept_sparse,\n\u001b[1;32m    <a href='file:///Users/valentina/ds/airquality/.venv/lib/python3.9/site-packages/sklearn/utils/validation.py?line=966'>967</a>\u001b[0m     accept_large_sparse\u001b[39m=\u001b[39;49maccept_large_sparse,\n\u001b[1;32m    <a href='file:///Users/valentina/ds/airquality/.venv/lib/python3.9/site-packages/sklearn/utils/validation.py?line=967'>968</a>\u001b[0m     dtype\u001b[39m=\u001b[39;49mdtype,\n\u001b[1;32m    <a href='file:///Users/valentina/ds/airquality/.venv/lib/python3.9/site-packages/sklearn/utils/validation.py?line=968'>969</a>\u001b[0m     order\u001b[39m=\u001b[39;49morder,\n\u001b[1;32m    <a href='file:///Users/valentina/ds/airquality/.venv/lib/python3.9/site-packages/sklearn/utils/validation.py?line=969'>970</a>\u001b[0m     copy\u001b[39m=\u001b[39;49mcopy,\n\u001b[1;32m    <a href='file:///Users/valentina/ds/airquality/.venv/lib/python3.9/site-packages/sklearn/utils/validation.py?line=970'>971</a>\u001b[0m     force_all_finite\u001b[39m=\u001b[39;49mforce_all_finite,\n\u001b[1;32m    <a href='file:///Users/valentina/ds/airquality/.venv/lib/python3.9/site-packages/sklearn/utils/validation.py?line=971'>972</a>\u001b[0m     ensure_2d\u001b[39m=\u001b[39;49mensure_2d,\n\u001b[1;32m    <a href='file:///Users/valentina/ds/airquality/.venv/lib/python3.9/site-packages/sklearn/utils/validation.py?line=972'>973</a>\u001b[0m     allow_nd\u001b[39m=\u001b[39;49mallow_nd,\n\u001b[1;32m    <a href='file:///Users/valentina/ds/airquality/.venv/lib/python3.9/site-packages/sklearn/utils/validation.py?line=973'>974</a>\u001b[0m     ensure_min_samples\u001b[39m=\u001b[39;49mensure_min_samples,\n\u001b[1;32m    <a href='file:///Users/valentina/ds/airquality/.venv/lib/python3.9/site-packages/sklearn/utils/validation.py?line=974'>975</a>\u001b[0m     ensure_min_features\u001b[39m=\u001b[39;49mensure_min_features,\n\u001b[1;32m    <a href='file:///Users/valentina/ds/airquality/.venv/lib/python3.9/site-packages/sklearn/utils/validation.py?line=975'>976</a>\u001b[0m     estimator\u001b[39m=\u001b[39;49mestimator,\n\u001b[1;32m    <a href='file:///Users/valentina/ds/airquality/.venv/lib/python3.9/site-packages/sklearn/utils/validation.py?line=976'>977</a>\u001b[0m )\n\u001b[1;32m    <a href='file:///Users/valentina/ds/airquality/.venv/lib/python3.9/site-packages/sklearn/utils/validation.py?line=978'>979</a>\u001b[0m y \u001b[39m=\u001b[39m _check_y(y, multi_output\u001b[39m=\u001b[39mmulti_output, y_numeric\u001b[39m=\u001b[39my_numeric)\n\u001b[1;32m    <a href='file:///Users/valentina/ds/airquality/.venv/lib/python3.9/site-packages/sklearn/utils/validation.py?line=980'>981</a>\u001b[0m check_consistent_length(X, y)\n",
      "File \u001b[0;32m~/ds/airquality/.venv/lib/python3.9/site-packages/sklearn/utils/validation.py:746\u001b[0m, in \u001b[0;36mcheck_array\u001b[0;34m(array, accept_sparse, accept_large_sparse, dtype, order, copy, force_all_finite, ensure_2d, allow_nd, ensure_min_samples, ensure_min_features, estimator)\u001b[0m\n\u001b[1;32m    <a href='file:///Users/valentina/ds/airquality/.venv/lib/python3.9/site-packages/sklearn/utils/validation.py?line=743'>744</a>\u001b[0m         array \u001b[39m=\u001b[39m array\u001b[39m.\u001b[39mastype(dtype, casting\u001b[39m=\u001b[39m\u001b[39m\"\u001b[39m\u001b[39munsafe\u001b[39m\u001b[39m\"\u001b[39m, copy\u001b[39m=\u001b[39m\u001b[39mFalse\u001b[39;00m)\n\u001b[1;32m    <a href='file:///Users/valentina/ds/airquality/.venv/lib/python3.9/site-packages/sklearn/utils/validation.py?line=744'>745</a>\u001b[0m     \u001b[39melse\u001b[39;00m:\n\u001b[0;32m--> <a href='file:///Users/valentina/ds/airquality/.venv/lib/python3.9/site-packages/sklearn/utils/validation.py?line=745'>746</a>\u001b[0m         array \u001b[39m=\u001b[39m np\u001b[39m.\u001b[39;49masarray(array, order\u001b[39m=\u001b[39;49morder, dtype\u001b[39m=\u001b[39;49mdtype)\n\u001b[1;32m    <a href='file:///Users/valentina/ds/airquality/.venv/lib/python3.9/site-packages/sklearn/utils/validation.py?line=746'>747</a>\u001b[0m \u001b[39mexcept\u001b[39;00m ComplexWarning \u001b[39mas\u001b[39;00m complex_warning:\n\u001b[1;32m    <a href='file:///Users/valentina/ds/airquality/.venv/lib/python3.9/site-packages/sklearn/utils/validation.py?line=747'>748</a>\u001b[0m     \u001b[39mraise\u001b[39;00m \u001b[39mValueError\u001b[39;00m(\n\u001b[1;32m    <a href='file:///Users/valentina/ds/airquality/.venv/lib/python3.9/site-packages/sklearn/utils/validation.py?line=748'>749</a>\u001b[0m         \u001b[39m\"\u001b[39m\u001b[39mComplex data not supported\u001b[39m\u001b[39m\\n\u001b[39;00m\u001b[39m{}\u001b[39;00m\u001b[39m\\n\u001b[39;00m\u001b[39m\"\u001b[39m\u001b[39m.\u001b[39mformat(array)\n\u001b[1;32m    <a href='file:///Users/valentina/ds/airquality/.venv/lib/python3.9/site-packages/sklearn/utils/validation.py?line=749'>750</a>\u001b[0m     ) \u001b[39mfrom\u001b[39;00m \u001b[39mcomplex_warning\u001b[39;00m\n",
      "File \u001b[0;32m~/ds/airquality/.venv/lib/python3.9/site-packages/pandas/core/generic.py:2072\u001b[0m, in \u001b[0;36mNDFrame.__array__\u001b[0;34m(self, dtype)\u001b[0m\n\u001b[1;32m   <a href='file:///Users/valentina/ds/airquality/.venv/lib/python3.9/site-packages/pandas/core/generic.py?line=2070'>2071</a>\u001b[0m \u001b[39mdef\u001b[39;00m \u001b[39m__array__\u001b[39m(\u001b[39mself\u001b[39m, dtype: npt\u001b[39m.\u001b[39mDTypeLike \u001b[39m|\u001b[39m \u001b[39mNone\u001b[39;00m \u001b[39m=\u001b[39m \u001b[39mNone\u001b[39;00m) \u001b[39m-\u001b[39m\u001b[39m>\u001b[39m np\u001b[39m.\u001b[39mndarray:\n\u001b[0;32m-> <a href='file:///Users/valentina/ds/airquality/.venv/lib/python3.9/site-packages/pandas/core/generic.py?line=2071'>2072</a>\u001b[0m     \u001b[39mreturn\u001b[39;00m np\u001b[39m.\u001b[39;49masarray(\u001b[39mself\u001b[39;49m\u001b[39m.\u001b[39;49m_values, dtype\u001b[39m=\u001b[39;49mdtype)\n",
      "\u001b[0;31mValueError\u001b[0m: could not convert string to float: '[0.13, -0.99]'"
     ]
    }
   ],
   "source": [
    "test_results = {}\n",
    "linear = LinearRegression()\n",
    "for dframe in features:\n",
    "    df = locals()[dframe]\n",
    "    name = df.columns[0]\n",
    "\n",
    "    train_predict(linear, df, target)\n"
   ]
  },
  {
   "cell_type": "code",
   "execution_count": 26,
   "metadata": {},
   "outputs": [
    {
     "data": {
      "text/html": [
       "<div>\n",
       "<style scoped>\n",
       "    .dataframe tbody tr th:only-of-type {\n",
       "        vertical-align: middle;\n",
       "    }\n",
       "\n",
       "    .dataframe tbody tr th {\n",
       "        vertical-align: top;\n",
       "    }\n",
       "\n",
       "    .dataframe thead th {\n",
       "        text-align: right;\n",
       "    }\n",
       "</style>\n",
       "<table border=\"1\" class=\"dataframe\">\n",
       "  <thead>\n",
       "    <tr style=\"text-align: right;\">\n",
       "      <th></th>\n",
       "      <th>0</th>\n",
       "      <th>1</th>\n",
       "    </tr>\n",
       "  </thead>\n",
       "  <tbody>\n",
       "    <tr>\n",
       "      <th>LinearRegression()_new_temp0</th>\n",
       "      <td>38.044771</td>\n",
       "      <td>38.503181</td>\n",
       "    </tr>\n",
       "    <tr>\n",
       "      <th>LinearRegression()_new_precip0</th>\n",
       "      <td>40.441800</td>\n",
       "      <td>41.090318</td>\n",
       "    </tr>\n",
       "    <tr>\n",
       "      <th>LinearRegression()_new_rel_humidity0</th>\n",
       "      <td>38.566880</td>\n",
       "      <td>39.104745</td>\n",
       "    </tr>\n",
       "    <tr>\n",
       "      <th>LinearRegression()_new_wind_spd0</th>\n",
       "      <td>38.951910</td>\n",
       "      <td>39.394749</td>\n",
       "    </tr>\n",
       "    <tr>\n",
       "      <th>LinearRegression()_new_atmos_press0</th>\n",
       "      <td>38.578760</td>\n",
       "      <td>38.918730</td>\n",
       "    </tr>\n",
       "  </tbody>\n",
       "</table>\n",
       "</div>"
      ],
      "text/plain": [
       "                                              0          1\n",
       "LinearRegression()_new_temp0          38.044771  38.503181\n",
       "LinearRegression()_new_precip0        40.441800  41.090318\n",
       "LinearRegression()_new_rel_humidity0  38.566880  39.104745\n",
       "LinearRegression()_new_wind_spd0      38.951910  39.394749\n",
       "LinearRegression()_new_atmos_press0   38.578760  38.918730"
      ]
     },
     "execution_count": 26,
     "metadata": {},
     "output_type": "execute_result"
    }
   ],
   "source": [
    "pd.DataFrame(test_results).T"
   ]
  },
  {
   "cell_type": "markdown",
   "metadata": {},
   "source": [
    "temperatur has the best fit\n"
   ]
  },
  {
   "cell_type": "markdown",
   "metadata": {},
   "source": [
    "# dnn"
   ]
  },
  {
   "cell_type": "code",
   "execution_count": null,
   "metadata": {},
   "outputs": [],
   "source": [
    "import tensorflow as tf\n",
    "from tensorflow.keras import layers\n",
    "from tensorflow.keras import regularizers"
   ]
  },
  {
   "cell_type": "code",
   "execution_count": null,
   "metadata": {},
   "outputs": [],
   "source": [
    "def model_compile_and_fit(df, target, max_epochs=30):\n",
    "    # Get optimizer\n",
    "    #optimizer=tf.keras.optimizers.Adam()\n",
    "    # data split\n",
    "    X_train, X_test, y_train, y_test = train_test_split(df, target,random_state=44)\n",
    "\n",
    "    # model \n",
    "    with tf.device('/cpu:0'):\n",
    "      model = tf.keras.Sequential([\n",
    "            tf.keras.layers.Dense(32,kernel_initializer = 'uniform', activation='relu', input_dim = 121),\n",
    "            #tf.keras.layers.Dense(121,kernel_initializer = 'uniform', activation='relu', input_dim = 121),\n",
    "            tf.keras.layers.Dense(1,kernel_initializer = 'uniform')\n",
    "            ])\n",
    "\n",
    "    N_VAL =  len(X_test)\n",
    "    N_TRAIN = len(X_train)\n",
    "    BATCH_SIZE = 96\n",
    "    STEPS_PER_EPOCH = N_TRAIN // BATCH_SIZE\n",
    "    EPOCHS = 500\n",
    "\n",
    "    # model.compile\n",
    "    model.compile(optimizer='Adam',\n",
    "                metrics='mse', # [tf.keras.metrics.RootMeanSquaredError()]\n",
    "                loss='mae')\n",
    "    # model.fit\n",
    "    with tf.device('/cpu:0'):\n",
    "      train_history = model.fit(X_train, \n",
    "                        y_train,\n",
    "                        validation_split=0.2,\n",
    "                        verbose=1,\n",
    "                        steps_per_epoch=STEPS_PER_EPOCH,\n",
    "                        epochs=EPOCHS, \n",
    "                        )\n",
    "   \n",
    "\n",
    "    # Predict values for test set\n",
    "    y_pred = model.predict(X_test)\n",
    "    y_pred_train = model.predict(X_train)\n",
    "\n",
    "    rmse_train = np.sqrt(mean_squared_error(y_train, y_pred_train))\n",
    "    rmse_test = np.sqrt(mean_squared_error(y_test, y_pred))\n",
    "\n",
    "    print(df.columns[0])\n",
    "    print (f'[{rmse_train:.2f}, {rmse_test:.2f}]')\n",
    "\n",
    "    test_results[str(model) + \"_\"+ df.columns[0]] = [rmse_train, rmse_test]\n",
    "    pass"
   ]
  },
  {
   "cell_type": "code",
   "execution_count": null,
   "metadata": {},
   "outputs": [],
   "source": [
    "for dframe in df_names:\n",
    "    df = locals()[dframe]\n",
    "    name = df.columns[0]\n",
    "\n",
    "    model_compile_and_fit(df, target)"
   ]
  },
  {
   "cell_type": "code",
   "execution_count": null,
   "metadata": {},
   "outputs": [],
   "source": [
    "pd.DataFrame(test_results).T"
   ]
  }
 ],
 "metadata": {
  "interpreter": {
   "hash": "d8f548114482b487876add26679caae41a2a9f4541ddf007921bd7bf3c60f478"
  },
  "kernelspec": {
   "display_name": "Python 3.9.4 ('.venv': venv)",
   "language": "python",
   "name": "python3"
  },
  "language_info": {
   "codemirror_mode": {
    "name": "ipython",
    "version": 3
   },
   "file_extension": ".py",
   "mimetype": "text/x-python",
   "name": "python",
   "nbconvert_exporter": "python",
   "pygments_lexer": "ipython3",
   "version": "3.9.4"
  },
  "orig_nbformat": 4
 },
 "nbformat": 4,
 "nbformat_minor": 2
}
