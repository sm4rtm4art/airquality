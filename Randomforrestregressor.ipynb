{
 "cells": [
  {
   "cell_type": "code",
   "execution_count": 2,
   "metadata": {},
   "outputs": [],
   "source": [
    "import pandas as pd\n",
    "import numpy as np\n",
    "import warnings\n",
    "\n",
    "import seaborn as sns\n",
    "import matplotlib.pyplot as plt\n",
    "\n",
    "from scipy.stats import boxcox\n",
    "warnings.filterwarnings('ignore')\n",
    "\n",
    "RSEED=42\n",
    "\n",
    "sns.set_context('talk')\n",
    "plt.style.use(['dark_background'])\n",
    "#plt.rcParams['image.cmap'] = \"orangered\"\n",
    "plt.rcParams.update({'font.sans-serif':'Helvetica'})"
   ]
  },
  {
   "cell_type": "code",
   "execution_count": 5,
   "metadata": {},
   "outputs": [],
   "source": [
    "data = pd.read_csv(\"./data/data_prep_reg.csv\", index_col=[0])"
   ]
  },
  {
   "cell_type": "code",
   "execution_count": 6,
   "metadata": {},
   "outputs": [
    {
     "data": {
      "text/html": [
       "<div>\n",
       "<style scoped>\n",
       "    .dataframe tbody tr th:only-of-type {\n",
       "        vertical-align: middle;\n",
       "    }\n",
       "\n",
       "    .dataframe tbody tr th {\n",
       "        vertical-align: top;\n",
       "    }\n",
       "\n",
       "    .dataframe thead th {\n",
       "        text-align: right;\n",
       "    }\n",
       "</style>\n",
       "<table border=\"1\" class=\"dataframe\">\n",
       "  <thead>\n",
       "    <tr style=\"text-align: right;\">\n",
       "      <th></th>\n",
       "      <th>location</th>\n",
       "      <th>target</th>\n",
       "      <th>max_temp</th>\n",
       "      <th>min_temp</th>\n",
       "      <th>mean_temp</th>\n",
       "      <th>std_temp</th>\n",
       "      <th>var_temp</th>\n",
       "      <th>median_temp</th>\n",
       "      <th>ptp_temp</th>\n",
       "      <th>max_precip</th>\n",
       "      <th>...</th>\n",
       "      <th>var_wind_spd</th>\n",
       "      <th>median_wind_spd</th>\n",
       "      <th>ptp_wind_spd</th>\n",
       "      <th>max_atmos_press</th>\n",
       "      <th>min_atmos_press</th>\n",
       "      <th>mean_atmos_press</th>\n",
       "      <th>std_atmos_press</th>\n",
       "      <th>var_atmos_press</th>\n",
       "      <th>median_atmos_press</th>\n",
       "      <th>ptp_atmos_press</th>\n",
       "    </tr>\n",
       "  </thead>\n",
       "  <tbody>\n",
       "    <tr>\n",
       "      <th>0</th>\n",
       "      <td>2</td>\n",
       "      <td>45.126304</td>\n",
       "      <td>27.208333</td>\n",
       "      <td>19.275000</td>\n",
       "      <td>22.299527</td>\n",
       "      <td>2.594011</td>\n",
       "      <td>6.728895</td>\n",
       "      <td>21.358333</td>\n",
       "      <td>7.933333</td>\n",
       "      <td>0.000</td>\n",
       "      <td>...</td>\n",
       "      <td>0.155268</td>\n",
       "      <td>0.666250</td>\n",
       "      <td>1.355000</td>\n",
       "      <td>87.871667</td>\n",
       "      <td>87.614167</td>\n",
       "      <td>87.752434</td>\n",
       "      <td>0.070374</td>\n",
       "      <td>0.004952</td>\n",
       "      <td>87.762083</td>\n",
       "      <td>0.257500</td>\n",
       "    </tr>\n",
       "    <tr>\n",
       "      <th>1</th>\n",
       "      <td>3</td>\n",
       "      <td>79.131702</td>\n",
       "      <td>33.616667</td>\n",
       "      <td>17.983333</td>\n",
       "      <td>24.679063</td>\n",
       "      <td>4.266955</td>\n",
       "      <td>18.206903</td>\n",
       "      <td>23.791667</td>\n",
       "      <td>15.633333</td>\n",
       "      <td>0.561</td>\n",
       "      <td>...</td>\n",
       "      <td>0.290736</td>\n",
       "      <td>0.744167</td>\n",
       "      <td>2.760833</td>\n",
       "      <td>90.725000</td>\n",
       "      <td>90.056667</td>\n",
       "      <td>90.429924</td>\n",
       "      <td>0.156000</td>\n",
       "      <td>0.024336</td>\n",
       "      <td>90.429167</td>\n",
       "      <td>0.668333</td>\n",
       "    </tr>\n",
       "    <tr>\n",
       "      <th>2</th>\n",
       "      <td>0</td>\n",
       "      <td>32.661304</td>\n",
       "      <td>31.841667</td>\n",
       "      <td>18.458333</td>\n",
       "      <td>24.112317</td>\n",
       "      <td>3.776377</td>\n",
       "      <td>14.261020</td>\n",
       "      <td>23.304167</td>\n",
       "      <td>13.383333</td>\n",
       "      <td>7.804</td>\n",
       "      <td>...</td>\n",
       "      <td>0.342484</td>\n",
       "      <td>0.942500</td>\n",
       "      <td>2.420000</td>\n",
       "      <td>88.813333</td>\n",
       "      <td>87.982500</td>\n",
       "      <td>88.420931</td>\n",
       "      <td>0.179481</td>\n",
       "      <td>0.032213</td>\n",
       "      <td>88.425000</td>\n",
       "      <td>0.830833</td>\n",
       "    </tr>\n",
       "    <tr>\n",
       "      <th>3</th>\n",
       "      <td>0</td>\n",
       "      <td>53.850238</td>\n",
       "      <td>27.491667</td>\n",
       "      <td>16.941667</td>\n",
       "      <td>20.845273</td>\n",
       "      <td>3.080140</td>\n",
       "      <td>9.487259</td>\n",
       "      <td>19.541667</td>\n",
       "      <td>10.550000</td>\n",
       "      <td>25.787</td>\n",
       "      <td>...</td>\n",
       "      <td>0.336701</td>\n",
       "      <td>1.388333</td>\n",
       "      <td>2.469167</td>\n",
       "      <td>88.685000</td>\n",
       "      <td>87.965000</td>\n",
       "      <td>88.376915</td>\n",
       "      <td>0.161758</td>\n",
       "      <td>0.026166</td>\n",
       "      <td>88.400000</td>\n",
       "      <td>0.720000</td>\n",
       "    </tr>\n",
       "    <tr>\n",
       "      <th>4</th>\n",
       "      <td>0</td>\n",
       "      <td>177.418750</td>\n",
       "      <td>28.750000</td>\n",
       "      <td>17.525000</td>\n",
       "      <td>21.870732</td>\n",
       "      <td>3.286870</td>\n",
       "      <td>10.803515</td>\n",
       "      <td>20.950000</td>\n",
       "      <td>11.225000</td>\n",
       "      <td>0.136</td>\n",
       "      <td>...</td>\n",
       "      <td>0.181690</td>\n",
       "      <td>0.542917</td>\n",
       "      <td>1.796667</td>\n",
       "      <td>88.719167</td>\n",
       "      <td>88.268333</td>\n",
       "      <td>88.538104</td>\n",
       "      <td>0.118369</td>\n",
       "      <td>0.014011</td>\n",
       "      <td>88.552500</td>\n",
       "      <td>0.450833</td>\n",
       "    </tr>\n",
       "    <tr>\n",
       "      <th>...</th>\n",
       "      <td>...</td>\n",
       "      <td>...</td>\n",
       "      <td>...</td>\n",
       "      <td>...</td>\n",
       "      <td>...</td>\n",
       "      <td>...</td>\n",
       "      <td>...</td>\n",
       "      <td>...</td>\n",
       "      <td>...</td>\n",
       "      <td>...</td>\n",
       "      <td>...</td>\n",
       "      <td>...</td>\n",
       "      <td>...</td>\n",
       "      <td>...</td>\n",
       "      <td>...</td>\n",
       "      <td>...</td>\n",
       "      <td>...</td>\n",
       "      <td>...</td>\n",
       "      <td>...</td>\n",
       "      <td>...</td>\n",
       "      <td>...</td>\n",
       "    </tr>\n",
       "    <tr>\n",
       "      <th>15534</th>\n",
       "      <td>0</td>\n",
       "      <td>44.850286</td>\n",
       "      <td>27.841667</td>\n",
       "      <td>16.550000</td>\n",
       "      <td>20.573209</td>\n",
       "      <td>2.987662</td>\n",
       "      <td>8.926124</td>\n",
       "      <td>19.458333</td>\n",
       "      <td>11.291667</td>\n",
       "      <td>31.842</td>\n",
       "      <td>...</td>\n",
       "      <td>0.234138</td>\n",
       "      <td>0.890000</td>\n",
       "      <td>2.194167</td>\n",
       "      <td>88.730000</td>\n",
       "      <td>87.890833</td>\n",
       "      <td>88.382934</td>\n",
       "      <td>0.187366</td>\n",
       "      <td>0.035106</td>\n",
       "      <td>88.393333</td>\n",
       "      <td>0.839167</td>\n",
       "    </tr>\n",
       "    <tr>\n",
       "      <th>15535</th>\n",
       "      <td>4</td>\n",
       "      <td>24.330455</td>\n",
       "      <td>29.550000</td>\n",
       "      <td>18.991667</td>\n",
       "      <td>23.546832</td>\n",
       "      <td>2.614979</td>\n",
       "      <td>6.838117</td>\n",
       "      <td>23.208333</td>\n",
       "      <td>10.558333</td>\n",
       "      <td>9.046</td>\n",
       "      <td>...</td>\n",
       "      <td>0.385348</td>\n",
       "      <td>1.094167</td>\n",
       "      <td>2.330833</td>\n",
       "      <td>88.704167</td>\n",
       "      <td>88.082500</td>\n",
       "      <td>88.435840</td>\n",
       "      <td>0.141562</td>\n",
       "      <td>0.020040</td>\n",
       "      <td>88.450000</td>\n",
       "      <td>0.621667</td>\n",
       "    </tr>\n",
       "    <tr>\n",
       "      <th>15536</th>\n",
       "      <td>3</td>\n",
       "      <td>38.972128</td>\n",
       "      <td>34.108333</td>\n",
       "      <td>16.950000</td>\n",
       "      <td>24.637083</td>\n",
       "      <td>4.352597</td>\n",
       "      <td>18.945097</td>\n",
       "      <td>24.179167</td>\n",
       "      <td>17.158333</td>\n",
       "      <td>3.893</td>\n",
       "      <td>...</td>\n",
       "      <td>0.389128</td>\n",
       "      <td>0.897500</td>\n",
       "      <td>3.608333</td>\n",
       "      <td>90.885000</td>\n",
       "      <td>90.145833</td>\n",
       "      <td>90.522397</td>\n",
       "      <td>0.161257</td>\n",
       "      <td>0.026004</td>\n",
       "      <td>90.520000</td>\n",
       "      <td>0.739167</td>\n",
       "    </tr>\n",
       "    <tr>\n",
       "      <th>15537</th>\n",
       "      <td>3</td>\n",
       "      <td>41.720952</td>\n",
       "      <td>30.900000</td>\n",
       "      <td>15.891667</td>\n",
       "      <td>23.472934</td>\n",
       "      <td>4.651403</td>\n",
       "      <td>21.635547</td>\n",
       "      <td>23.066667</td>\n",
       "      <td>15.008333</td>\n",
       "      <td>0.017</td>\n",
       "      <td>...</td>\n",
       "      <td>0.359279</td>\n",
       "      <td>0.828333</td>\n",
       "      <td>2.683333</td>\n",
       "      <td>90.793333</td>\n",
       "      <td>90.106667</td>\n",
       "      <td>90.486202</td>\n",
       "      <td>0.160746</td>\n",
       "      <td>0.025839</td>\n",
       "      <td>90.512500</td>\n",
       "      <td>0.686667</td>\n",
       "    </tr>\n",
       "    <tr>\n",
       "      <th>15538</th>\n",
       "      <td>2</td>\n",
       "      <td>127.983333</td>\n",
       "      <td>30.450000</td>\n",
       "      <td>19.033333</td>\n",
       "      <td>24.012603</td>\n",
       "      <td>3.215774</td>\n",
       "      <td>10.341200</td>\n",
       "      <td>22.833333</td>\n",
       "      <td>11.416667</td>\n",
       "      <td>0.187</td>\n",
       "      <td>...</td>\n",
       "      <td>0.085276</td>\n",
       "      <td>0.569167</td>\n",
       "      <td>1.319167</td>\n",
       "      <td>88.116667</td>\n",
       "      <td>87.562500</td>\n",
       "      <td>87.810847</td>\n",
       "      <td>0.121178</td>\n",
       "      <td>0.014684</td>\n",
       "      <td>87.804167</td>\n",
       "      <td>0.554167</td>\n",
       "    </tr>\n",
       "  </tbody>\n",
       "</table>\n",
       "<p>15539 rows × 44 columns</p>\n",
       "</div>"
      ],
      "text/plain": [
       "       location      target   max_temp   min_temp  mean_temp  std_temp  \\\n",
       "0             2   45.126304  27.208333  19.275000  22.299527  2.594011   \n",
       "1             3   79.131702  33.616667  17.983333  24.679063  4.266955   \n",
       "2             0   32.661304  31.841667  18.458333  24.112317  3.776377   \n",
       "3             0   53.850238  27.491667  16.941667  20.845273  3.080140   \n",
       "4             0  177.418750  28.750000  17.525000  21.870732  3.286870   \n",
       "...         ...         ...        ...        ...        ...       ...   \n",
       "15534         0   44.850286  27.841667  16.550000  20.573209  2.987662   \n",
       "15535         4   24.330455  29.550000  18.991667  23.546832  2.614979   \n",
       "15536         3   38.972128  34.108333  16.950000  24.637083  4.352597   \n",
       "15537         3   41.720952  30.900000  15.891667  23.472934  4.651403   \n",
       "15538         2  127.983333  30.450000  19.033333  24.012603  3.215774   \n",
       "\n",
       "        var_temp  median_temp   ptp_temp  max_precip  ...  var_wind_spd  \\\n",
       "0       6.728895    21.358333   7.933333       0.000  ...      0.155268   \n",
       "1      18.206903    23.791667  15.633333       0.561  ...      0.290736   \n",
       "2      14.261020    23.304167  13.383333       7.804  ...      0.342484   \n",
       "3       9.487259    19.541667  10.550000      25.787  ...      0.336701   \n",
       "4      10.803515    20.950000  11.225000       0.136  ...      0.181690   \n",
       "...          ...          ...        ...         ...  ...           ...   \n",
       "15534   8.926124    19.458333  11.291667      31.842  ...      0.234138   \n",
       "15535   6.838117    23.208333  10.558333       9.046  ...      0.385348   \n",
       "15536  18.945097    24.179167  17.158333       3.893  ...      0.389128   \n",
       "15537  21.635547    23.066667  15.008333       0.017  ...      0.359279   \n",
       "15538  10.341200    22.833333  11.416667       0.187  ...      0.085276   \n",
       "\n",
       "       median_wind_spd  ptp_wind_spd  max_atmos_press  min_atmos_press  \\\n",
       "0             0.666250      1.355000        87.871667        87.614167   \n",
       "1             0.744167      2.760833        90.725000        90.056667   \n",
       "2             0.942500      2.420000        88.813333        87.982500   \n",
       "3             1.388333      2.469167        88.685000        87.965000   \n",
       "4             0.542917      1.796667        88.719167        88.268333   \n",
       "...                ...           ...              ...              ...   \n",
       "15534         0.890000      2.194167        88.730000        87.890833   \n",
       "15535         1.094167      2.330833        88.704167        88.082500   \n",
       "15536         0.897500      3.608333        90.885000        90.145833   \n",
       "15537         0.828333      2.683333        90.793333        90.106667   \n",
       "15538         0.569167      1.319167        88.116667        87.562500   \n",
       "\n",
       "       mean_atmos_press  std_atmos_press  var_atmos_press  median_atmos_press  \\\n",
       "0             87.752434         0.070374         0.004952           87.762083   \n",
       "1             90.429924         0.156000         0.024336           90.429167   \n",
       "2             88.420931         0.179481         0.032213           88.425000   \n",
       "3             88.376915         0.161758         0.026166           88.400000   \n",
       "4             88.538104         0.118369         0.014011           88.552500   \n",
       "...                 ...              ...              ...                 ...   \n",
       "15534         88.382934         0.187366         0.035106           88.393333   \n",
       "15535         88.435840         0.141562         0.020040           88.450000   \n",
       "15536         90.522397         0.161257         0.026004           90.520000   \n",
       "15537         90.486202         0.160746         0.025839           90.512500   \n",
       "15538         87.810847         0.121178         0.014684           87.804167   \n",
       "\n",
       "       ptp_atmos_press  \n",
       "0             0.257500  \n",
       "1             0.668333  \n",
       "2             0.830833  \n",
       "3             0.720000  \n",
       "4             0.450833  \n",
       "...                ...  \n",
       "15534         0.839167  \n",
       "15535         0.621667  \n",
       "15536         0.739167  \n",
       "15537         0.686667  \n",
       "15538         0.554167  \n",
       "\n",
       "[15539 rows x 44 columns]"
      ]
     },
     "execution_count": 6,
     "metadata": {},
     "output_type": "execute_result"
    }
   ],
   "source": [
    "data"
   ]
  },
  {
   "cell_type": "code",
   "execution_count": 7,
   "metadata": {},
   "outputs": [],
   "source": [
    "y = data[\"target\"]\n",
    "X=np.array(data.drop([\"target\"], axis= 1),ndmin=2)"
   ]
  },
  {
   "cell_type": "code",
   "execution_count": 127,
   "metadata": {},
   "outputs": [
    {
     "data": {
      "text/plain": [
       "(15539, 43)"
      ]
     },
     "execution_count": 127,
     "metadata": {},
     "output_type": "execute_result"
    }
   ],
   "source": [
    "X.shape"
   ]
  },
  {
   "cell_type": "code",
   "execution_count": 128,
   "metadata": {},
   "outputs": [
    {
     "data": {
      "text/plain": [
       "0"
      ]
     },
     "execution_count": 128,
     "metadata": {},
     "output_type": "execute_result"
    }
   ],
   "source": [
    "y.isnull().sum()"
   ]
  },
  {
   "cell_type": "code",
   "execution_count": 8,
   "metadata": {},
   "outputs": [],
   "source": [
    "from sklearn.model_selection import train_test_split\n",
    "\n",
    "X_train, X_test, y_train, y_test = train_test_split(X,\n",
    "                                         y,\n",
    "                                         test_size = 0.3, \n",
    "                                         random_state = RSEED)"
   ]
  },
  {
   "cell_type": "code",
   "execution_count": 130,
   "metadata": {},
   "outputs": [
    {
     "data": {
      "text/plain": [
       "(10877, 43)"
      ]
     },
     "execution_count": 130,
     "metadata": {},
     "output_type": "execute_result"
    }
   ],
   "source": [
    "X_train.shape"
   ]
  },
  {
   "cell_type": "code",
   "execution_count": 131,
   "metadata": {},
   "outputs": [],
   "source": [
    "y_train =y_train.values.reshape(-1,1)"
   ]
  },
  {
   "cell_type": "code",
   "execution_count": 132,
   "metadata": {},
   "outputs": [],
   "source": [
    "from sklearn.ensemble import RandomForestRegressor\n",
    "\n",
    "#features = list(X_train.columns)\n",
    "\n",
    "RFR = RandomForestRegressor(n_estimators=100, \n",
    "                               random_state=RSEED,\n",
    "                               criterion= \"poisson\",\n",
    "                               n_jobs=-1, verbose = 10)"
   ]
  },
  {
   "cell_type": "code",
   "execution_count": 133,
   "metadata": {},
   "outputs": [
    {
     "name": "stderr",
     "output_type": "stream",
     "text": [
      "[Parallel(n_jobs=-1)]: Using backend ThreadingBackend with 8 concurrent workers.\n"
     ]
    },
    {
     "name": "stdout",
     "output_type": "stream",
     "text": [
      "building tree 1 of 100building tree 2 of 100\n",
      "\n",
      "building tree 3 of 100\n",
      "building tree 4 of 100\n",
      "building tree 5 of 100\n",
      "building tree 6 of 100\n",
      "building tree 7 of 100\n",
      "building tree 8 of 100\n",
      "building tree 9 of 100\n",
      "building tree 10 of 100\n",
      "building tree 11 of 100\n"
     ]
    },
    {
     "name": "stderr",
     "output_type": "stream",
     "text": [
      "[Parallel(n_jobs=-1)]: Done   2 tasks      | elapsed:    4.6s\n"
     ]
    },
    {
     "name": "stdout",
     "output_type": "stream",
     "text": [
      "building tree 12 of 100\n",
      "building tree 13 of 100\n",
      "building tree 14 of 100\n",
      "building tree 15 of 100\n",
      "building tree 16 of 100\n",
      "building tree 17 of 100\n"
     ]
    },
    {
     "name": "stderr",
     "output_type": "stream",
     "text": [
      "[Parallel(n_jobs=-1)]: Done   9 tasks      | elapsed:    9.0s\n"
     ]
    },
    {
     "name": "stdout",
     "output_type": "stream",
     "text": [
      "building tree 18 of 100\n",
      "building tree 19 of 100\n",
      "building tree 20 of 100\n",
      "building tree 21 of 100\n",
      "building tree 22 of 100\n",
      "building tree 23 of 100\n",
      "building tree 24 of 100\n"
     ]
    },
    {
     "name": "stderr",
     "output_type": "stream",
     "text": [
      "[Parallel(n_jobs=-1)]: Done  16 tasks      | elapsed:   10.0s\n"
     ]
    },
    {
     "name": "stdout",
     "output_type": "stream",
     "text": [
      "building tree 25 of 100\n",
      "building tree 26 of 100\n",
      "building tree 27 of 100\n",
      "building tree 28 of 100\n",
      "building tree 29 of 100\n",
      "building tree 30 of 100\n",
      "building tree 31 of 100\n",
      "building tree 32 of 100\n",
      "building tree 33 of 100\n"
     ]
    },
    {
     "name": "stderr",
     "output_type": "stream",
     "text": [
      "[Parallel(n_jobs=-1)]: Done  25 tasks      | elapsed:   18.4s\n"
     ]
    },
    {
     "name": "stdout",
     "output_type": "stream",
     "text": [
      "building tree 34 of 100\n",
      "building tree 35 of 100\n",
      "building tree 36 of 100\n",
      "building tree 37 of 100\n",
      "building tree 38 of 100\n",
      "building tree 39 of 100\n",
      "building tree 40 of 100\n",
      "building tree 41 of 100\n",
      "building tree 42 of 100\n"
     ]
    },
    {
     "name": "stderr",
     "output_type": "stream",
     "text": [
      "[Parallel(n_jobs=-1)]: Done  34 tasks      | elapsed:   24.0s\n"
     ]
    },
    {
     "name": "stdout",
     "output_type": "stream",
     "text": [
      "building tree 43 of 100\n",
      "building tree 44 of 100\n",
      "building tree 45 of 100\n",
      "building tree 46 of 100\n",
      "building tree 47 of 100\n",
      "building tree 48 of 100\n",
      "building tree 49 of 100\n",
      "building tree 50 of 100\n",
      "building tree 51 of 100\n",
      "building tree 52 of 100\n",
      "building tree 53 of 100\n"
     ]
    },
    {
     "name": "stderr",
     "output_type": "stream",
     "text": [
      "[Parallel(n_jobs=-1)]: Done  45 tasks      | elapsed:   30.3s\n"
     ]
    },
    {
     "name": "stdout",
     "output_type": "stream",
     "text": [
      "building tree 54 of 100\n",
      "building tree 55 of 100\n",
      "building tree 56 of 100\n",
      "building tree 57 of 100\n",
      "building tree 58 of 100\n",
      "building tree 59 of 100\n",
      "building tree 60 of 100\n",
      "building tree 61 of 100\n",
      "building tree 62 of 100\n",
      "building tree 63 of 100\n",
      "building tree 64 of 100\n"
     ]
    },
    {
     "name": "stderr",
     "output_type": "stream",
     "text": [
      "[Parallel(n_jobs=-1)]: Done  56 tasks      | elapsed:   38.0s\n"
     ]
    },
    {
     "name": "stdout",
     "output_type": "stream",
     "text": [
      "building tree 65 of 100\n",
      "building tree 66 of 100\n",
      "building tree 67 of 100\n",
      "building tree 68 of 100\n",
      "building tree 69 of 100\n",
      "building tree 70 of 100\n",
      "building tree 71 of 100\n",
      "building tree 72 of 100\n",
      "building tree 73 of 100\n",
      "building tree 74 of 100\n",
      "building tree 75 of 100\n",
      "building tree 76 of 100\n",
      "building tree 77 of 100\n",
      "building tree 78 of 100\n"
     ]
    },
    {
     "name": "stderr",
     "output_type": "stream",
     "text": [
      "[Parallel(n_jobs=-1)]: Done  69 tasks      | elapsed:   47.6s\n"
     ]
    },
    {
     "name": "stdout",
     "output_type": "stream",
     "text": [
      "building tree 79 of 100\n",
      "building tree 80 of 100\n",
      "building tree 81 of 100\n",
      "building tree 82 of 100\n",
      "building tree 83 of 100\n",
      "building tree 84 of 100\n",
      "building tree 85 of 100\n",
      "building tree 86 of 100\n",
      "building tree 87 of 100\n",
      "building tree 88 of 100\n",
      "building tree 89 of 100\n",
      "building tree 90 of 100\n"
     ]
    },
    {
     "name": "stderr",
     "output_type": "stream",
     "text": [
      "[Parallel(n_jobs=-1)]: Done  82 tasks      | elapsed:   58.9s\n"
     ]
    },
    {
     "name": "stdout",
     "output_type": "stream",
     "text": [
      "building tree 91 of 100\n",
      "building tree 92 of 100\n",
      "building tree 93 of 100\n",
      "building tree 94 of 100\n",
      "building tree 95 of 100\n",
      "building tree 96 of 100\n",
      "building tree 97 of 100\n",
      "building tree 98 of 100\n",
      "building tree 99 of 100\n",
      "building tree 100 of 100\n"
     ]
    },
    {
     "name": "stderr",
     "output_type": "stream",
     "text": [
      "[Parallel(n_jobs=-1)]: Done  96 out of 100 | elapsed:  1.1min remaining:    2.8s\n",
      "[Parallel(n_jobs=-1)]: Done 100 out of 100 | elapsed:  1.2min finished\n",
      "[Parallel(n_jobs=8)]: Using backend ThreadingBackend with 8 concurrent workers.\n",
      "[Parallel(n_jobs=8)]: Done   2 tasks      | elapsed:    0.0s\n",
      "[Parallel(n_jobs=8)]: Done   9 tasks      | elapsed:    0.0s\n",
      "[Parallel(n_jobs=8)]: Done  16 tasks      | elapsed:    0.0s\n",
      "[Parallel(n_jobs=8)]: Done  25 tasks      | elapsed:    0.0s\n",
      "[Parallel(n_jobs=8)]: Done  34 tasks      | elapsed:    0.0s\n",
      "[Parallel(n_jobs=8)]: Done  45 tasks      | elapsed:    0.0s\n",
      "[Parallel(n_jobs=8)]: Done  56 tasks      | elapsed:    0.0s\n",
      "[Parallel(n_jobs=8)]: Done  69 tasks      | elapsed:    0.0s\n",
      "[Parallel(n_jobs=8)]: Done  82 tasks      | elapsed:    0.0s\n",
      "[Parallel(n_jobs=8)]: Done  96 out of 100 | elapsed:    0.1s remaining:    0.0s\n",
      "[Parallel(n_jobs=8)]: Done 100 out of 100 | elapsed:    0.1s finished\n",
      "[Parallel(n_jobs=8)]: Using backend ThreadingBackend with 8 concurrent workers.\n",
      "[Parallel(n_jobs=8)]: Done   2 tasks      | elapsed:    0.0s\n",
      "[Parallel(n_jobs=8)]: Done   9 tasks      | elapsed:    0.0s\n",
      "[Parallel(n_jobs=8)]: Done  16 tasks      | elapsed:    0.0s\n",
      "[Parallel(n_jobs=8)]: Done  25 tasks      | elapsed:    0.0s\n",
      "[Parallel(n_jobs=8)]: Done  34 tasks      | elapsed:    0.0s\n",
      "[Parallel(n_jobs=8)]: Done  45 tasks      | elapsed:    0.0s\n",
      "[Parallel(n_jobs=8)]: Done  56 tasks      | elapsed:    0.0s\n",
      "[Parallel(n_jobs=8)]: Done  69 tasks      | elapsed:    0.0s\n",
      "[Parallel(n_jobs=8)]: Done  82 tasks      | elapsed:    0.0s\n",
      "[Parallel(n_jobs=8)]: Done  96 out of 100 | elapsed:    0.0s remaining:    0.0s\n",
      "[Parallel(n_jobs=8)]: Done 100 out of 100 | elapsed:    0.0s finished\n"
     ]
    }
   ],
   "source": [
    "\n",
    "RFR.fit(X_train, y_train)\n",
    "\n",
    "y_pred_train = RFR.predict(X_train)\n",
    "y_pred_test = RFR.predict(X_test)\n"
   ]
  },
  {
   "cell_type": "code",
   "execution_count": 33,
   "metadata": {},
   "outputs": [],
   "source": [
    "from sklearn.metrics import mean_squared_error\n",
    "\n",
    "def rmse(y_true, y_pred):\n",
    "    return np.sqrt(mean_squared_error(y_true, y_pred))\n",
    "\n",
    "def error_analysis(y_test, y_pred_test):\n",
    "    \"\"\"Generated true vs. predicted values and residual scatter plot for models\n",
    "\n",
    "    Args:\n",
    "        y_test (array): true values for y_test\n",
    "        y_pred_test (array): predicted values of model for y_test\n",
    "    \"\"\"     \n",
    "    # Calculate residuals\n",
    "    residuals = y_test - y_pred_test\n",
    "    \n",
    "    # Plot real vs. predicted values \n",
    "    fig, ax = plt.subplots(1,2, figsize=(15, 5))\n",
    "    plt.subplots_adjust(right=1)\n",
    "    plt.suptitle('Error Analysis')\n",
    "    \n",
    "    ax[0].scatter(y_pred_test, y_test, color=\"#FF5A36\", alpha=0.7)\n",
    "    ax[0].plot([-400, 350], [-400, 350], color=\"#193251\")\n",
    "    ax[0].set_title(\"True vs. predicted values\", fontsize=16)\n",
    "    ax[0].set_xlabel(\"predicted values\")\n",
    "    ax[0].set_ylabel(\"true values\")\n",
    "    #ax[0].set_xlim((y_pred_test.min()-10), (y_pred_test.max()+10))\n",
    "    ax[0].set_ylim((y_test.min()-40), (y_test.max()+40))\n",
    "    \n",
    "    ax[1].scatter(y_pred_test, residuals, color=\"#FF5A36\", alpha=0.7)\n",
    "    ax[1].plot([-400, 350], [0,0], color=\"#193251\")\n",
    "    ax[1].set_title(\"Residual Scatter Plot\", fontsize=16)\n",
    "    ax[1].set_xlabel(\"predicted values\")\n",
    "    ax[1].set_ylabel(\"residuals\")\n",
    "    #ax[1].set_xlim((y_pred_test.min()-10), (y_pred_test.max()+10))\n",
    "    #ax[1].set_ylim((residuals.min()-10), (residuals.max()+10));"
   ]
  },
  {
   "cell_type": "code",
   "execution_count": 134,
   "metadata": {},
   "outputs": [],
   "source": [
    "rmse_train = rmse(y_train, y_pred_train)\n",
    "rmse_test= rmse(y_test, y_pred_test)"
   ]
  },
  {
   "cell_type": "code",
   "execution_count": 135,
   "metadata": {},
   "outputs": [
    {
     "data": {
      "text/plain": [
       "64.7034884801539"
      ]
     },
     "metadata": {},
     "output_type": "display_data"
    },
    {
     "data": {
      "text/plain": [
       "66.07499515233306"
      ]
     },
     "metadata": {},
     "output_type": "display_data"
    }
   ],
   "source": [
    "display(rmse_train, rmse_test)"
   ]
  },
  {
   "cell_type": "code",
   "execution_count": 136,
   "metadata": {},
   "outputs": [
    {
     "data": {
      "image/png": "[encoded data removed]",
      "text/plain": [
       "<Figure size 1080x360 with 2 Axes>"
      ]
     },
     "metadata": {},
     "output_type": "display_data"
    }
   ],
   "source": [
    "error_analysis(y_test, y_pred_test)"
   ]
  },
  {
   "cell_type": "code",
   "execution_count": 137,
   "metadata": {},
   "outputs": [
    {
     "ename": "ValueError",
     "evalue": "x and y must be the same size",
     "output_type": "error",
     "traceback": [
      "\u001b[0;31m---------------------------------------------------------------------------\u001b[0m",
      "\u001b[0;31mValueError\u001b[0m                                Traceback (most recent call last)",
      "Input \u001b[0;32mIn [137]\u001b[0m, in \u001b[0;36m<cell line: 1>\u001b[0;34m()\u001b[0m\n\u001b[0;32m----> 1\u001b[0m error_analysis(y_train,y_pred_train)\n",
      "\u001b[1;32m/Users/kaergell/Desktop/Neue Fische/Bootcamp/Tag-28-MLproject/airquality/modelpreparation.ipynb Cell 12'\u001b[0m in \u001b[0;36merror_analysis\u001b[0;34m(y_test, y_pred_test)\u001b[0m\n\u001b[1;32m     <a href='vscode-notebook-cell:/Users/kaergell/Desktop/Neue%20Fische/Bootcamp/Tag-28-MLproject/airquality/modelpreparation.ipynb#ch0000016?line=25'>26</a>\u001b[0m \u001b[39m#ax[0].set_xlim((y_pred_test.min()-10), (y_pred_test.max()+10))\u001b[39;00m\n\u001b[1;32m     <a href='vscode-notebook-cell:/Users/kaergell/Desktop/Neue%20Fische/Bootcamp/Tag-28-MLproject/airquality/modelpreparation.ipynb#ch0000016?line=26'>27</a>\u001b[0m ax[\u001b[39m0\u001b[39m]\u001b[39m.\u001b[39mset_ylim((y_test\u001b[39m.\u001b[39mmin()\u001b[39m-\u001b[39m\u001b[39m40\u001b[39m), (y_test\u001b[39m.\u001b[39mmax()\u001b[39m+\u001b[39m\u001b[39m40\u001b[39m))\n\u001b[0;32m---> <a href='vscode-notebook-cell:/Users/kaergell/Desktop/Neue%20Fische/Bootcamp/Tag-28-MLproject/airquality/modelpreparation.ipynb#ch0000016?line=28'>29</a>\u001b[0m ax[\u001b[39m1\u001b[39;49m]\u001b[39m.\u001b[39;49mscatter(y_pred_test, residuals, color\u001b[39m=\u001b[39;49m\u001b[39m\"\u001b[39;49m\u001b[39m#FF5A36\u001b[39;49m\u001b[39m\"\u001b[39;49m, alpha\u001b[39m=\u001b[39;49m\u001b[39m0.7\u001b[39;49m)\n\u001b[1;32m     <a href='vscode-notebook-cell:/Users/kaergell/Desktop/Neue%20Fische/Bootcamp/Tag-28-MLproject/airquality/modelpreparation.ipynb#ch0000016?line=29'>30</a>\u001b[0m ax[\u001b[39m1\u001b[39m]\u001b[39m.\u001b[39mplot([\u001b[39m-\u001b[39m\u001b[39m400\u001b[39m, \u001b[39m350\u001b[39m], [\u001b[39m0\u001b[39m,\u001b[39m0\u001b[39m], color\u001b[39m=\u001b[39m\u001b[39m\"\u001b[39m\u001b[39m#193251\u001b[39m\u001b[39m\"\u001b[39m)\n\u001b[1;32m     <a href='vscode-notebook-cell:/Users/kaergell/Desktop/Neue%20Fische/Bootcamp/Tag-28-MLproject/airquality/modelpreparation.ipynb#ch0000016?line=30'>31</a>\u001b[0m ax[\u001b[39m1\u001b[39m]\u001b[39m.\u001b[39mset_title(\u001b[39m\"\u001b[39m\u001b[39mResidual Scatter Plot\u001b[39m\u001b[39m\"\u001b[39m, fontsize\u001b[39m=\u001b[39m\u001b[39m16\u001b[39m)\n",
      "File \u001b[0;32m~/Desktop/Neue Fische/Bootcamp/Tag-28-MLproject/airquality/.venv/lib/python3.9/site-packages/matplotlib/__init__.py:1412\u001b[0m, in \u001b[0;36m_preprocess_data.<locals>.inner\u001b[0;34m(ax, data, *args, **kwargs)\u001b[0m\n\u001b[1;32m   <a href='file:///Users/kaergell/Desktop/Neue%20Fische/Bootcamp/Tag-28-MLproject/airquality/.venv/lib/python3.9/site-packages/matplotlib/__init__.py?line=1408'>1409</a>\u001b[0m \u001b[39m@functools\u001b[39m\u001b[39m.\u001b[39mwraps(func)\n\u001b[1;32m   <a href='file:///Users/kaergell/Desktop/Neue%20Fische/Bootcamp/Tag-28-MLproject/airquality/.venv/lib/python3.9/site-packages/matplotlib/__init__.py?line=1409'>1410</a>\u001b[0m \u001b[39mdef\u001b[39;00m \u001b[39minner\u001b[39m(ax, \u001b[39m*\u001b[39margs, data\u001b[39m=\u001b[39m\u001b[39mNone\u001b[39;00m, \u001b[39m*\u001b[39m\u001b[39m*\u001b[39mkwargs):\n\u001b[1;32m   <a href='file:///Users/kaergell/Desktop/Neue%20Fische/Bootcamp/Tag-28-MLproject/airquality/.venv/lib/python3.9/site-packages/matplotlib/__init__.py?line=1410'>1411</a>\u001b[0m     \u001b[39mif\u001b[39;00m data \u001b[39mis\u001b[39;00m \u001b[39mNone\u001b[39;00m:\n\u001b[0;32m-> <a href='file:///Users/kaergell/Desktop/Neue%20Fische/Bootcamp/Tag-28-MLproject/airquality/.venv/lib/python3.9/site-packages/matplotlib/__init__.py?line=1411'>1412</a>\u001b[0m         \u001b[39mreturn\u001b[39;00m func(ax, \u001b[39m*\u001b[39;49m\u001b[39mmap\u001b[39;49m(sanitize_sequence, args), \u001b[39m*\u001b[39;49m\u001b[39m*\u001b[39;49mkwargs)\n\u001b[1;32m   <a href='file:///Users/kaergell/Desktop/Neue%20Fische/Bootcamp/Tag-28-MLproject/airquality/.venv/lib/python3.9/site-packages/matplotlib/__init__.py?line=1413'>1414</a>\u001b[0m     bound \u001b[39m=\u001b[39m new_sig\u001b[39m.\u001b[39mbind(ax, \u001b[39m*\u001b[39margs, \u001b[39m*\u001b[39m\u001b[39m*\u001b[39mkwargs)\n\u001b[1;32m   <a href='file:///Users/kaergell/Desktop/Neue%20Fische/Bootcamp/Tag-28-MLproject/airquality/.venv/lib/python3.9/site-packages/matplotlib/__init__.py?line=1414'>1415</a>\u001b[0m     auto_label \u001b[39m=\u001b[39m (bound\u001b[39m.\u001b[39marguments\u001b[39m.\u001b[39mget(label_namer)\n\u001b[1;32m   <a href='file:///Users/kaergell/Desktop/Neue%20Fische/Bootcamp/Tag-28-MLproject/airquality/.venv/lib/python3.9/site-packages/matplotlib/__init__.py?line=1415'>1416</a>\u001b[0m                   \u001b[39mor\u001b[39;00m bound\u001b[39m.\u001b[39mkwargs\u001b[39m.\u001b[39mget(label_namer))\n",
      "File \u001b[0;32m~/Desktop/Neue Fische/Bootcamp/Tag-28-MLproject/airquality/.venv/lib/python3.9/site-packages/matplotlib/axes/_axes.py:4369\u001b[0m, in \u001b[0;36mAxes.scatter\u001b[0;34m(self, x, y, s, c, marker, cmap, norm, vmin, vmax, alpha, linewidths, edgecolors, plotnonfinite, **kwargs)\u001b[0m\n\u001b[1;32m   <a href='file:///Users/kaergell/Desktop/Neue%20Fische/Bootcamp/Tag-28-MLproject/airquality/.venv/lib/python3.9/site-packages/matplotlib/axes/_axes.py?line=4366'>4367</a>\u001b[0m y \u001b[39m=\u001b[39m np\u001b[39m.\u001b[39mma\u001b[39m.\u001b[39mravel(y)\n\u001b[1;32m   <a href='file:///Users/kaergell/Desktop/Neue%20Fische/Bootcamp/Tag-28-MLproject/airquality/.venv/lib/python3.9/site-packages/matplotlib/axes/_axes.py?line=4367'>4368</a>\u001b[0m \u001b[39mif\u001b[39;00m x\u001b[39m.\u001b[39msize \u001b[39m!=\u001b[39m y\u001b[39m.\u001b[39msize:\n\u001b[0;32m-> <a href='file:///Users/kaergell/Desktop/Neue%20Fische/Bootcamp/Tag-28-MLproject/airquality/.venv/lib/python3.9/site-packages/matplotlib/axes/_axes.py?line=4368'>4369</a>\u001b[0m     \u001b[39mraise\u001b[39;00m \u001b[39mValueError\u001b[39;00m(\u001b[39m\"\u001b[39m\u001b[39mx and y must be the same size\u001b[39m\u001b[39m\"\u001b[39m)\n\u001b[1;32m   <a href='file:///Users/kaergell/Desktop/Neue%20Fische/Bootcamp/Tag-28-MLproject/airquality/.venv/lib/python3.9/site-packages/matplotlib/axes/_axes.py?line=4370'>4371</a>\u001b[0m \u001b[39mif\u001b[39;00m s \u001b[39mis\u001b[39;00m \u001b[39mNone\u001b[39;00m:\n\u001b[1;32m   <a href='file:///Users/kaergell/Desktop/Neue%20Fische/Bootcamp/Tag-28-MLproject/airquality/.venv/lib/python3.9/site-packages/matplotlib/axes/_axes.py?line=4371'>4372</a>\u001b[0m     s \u001b[39m=\u001b[39m (\u001b[39m20\u001b[39m \u001b[39mif\u001b[39;00m rcParams[\u001b[39m'\u001b[39m\u001b[39m_internal.classic_mode\u001b[39m\u001b[39m'\u001b[39m] \u001b[39melse\u001b[39;00m\n\u001b[1;32m   <a href='file:///Users/kaergell/Desktop/Neue%20Fische/Bootcamp/Tag-28-MLproject/airquality/.venv/lib/python3.9/site-packages/matplotlib/axes/_axes.py?line=4372'>4373</a>\u001b[0m          rcParams[\u001b[39m'\u001b[39m\u001b[39mlines.markersize\u001b[39m\u001b[39m'\u001b[39m] \u001b[39m*\u001b[39m\u001b[39m*\u001b[39m \u001b[39m2.0\u001b[39m)\n",
      "\u001b[0;31mValueError\u001b[0m: x and y must be the same size"
     ]
    },
    {
     "data": {
      "image/png": "[encoded data removed]",
      "text/plain": [
       "<Figure size 1080x360 with 2 Axes>"
      ]
     },
     "metadata": {},
     "output_type": "display_data"
    }
   ],
   "source": [
    "error_analysis(y_train,y_pred_train)"
   ]
  },
  {
   "cell_type": "code",
   "execution_count": 138,
   "metadata": {},
   "outputs": [
    {
     "data": {
      "text/plain": [
       "<bound method BaseEstimator.get_params of RandomForestRegressor(criterion='poisson', n_jobs=-1, random_state=42,\n",
       "                      verbose=10)>"
      ]
     },
     "execution_count": 138,
     "metadata": {},
     "output_type": "execute_result"
    }
   ],
   "source": [
    "model.get_params"
   ]
  },
  {
   "cell_type": "code",
   "execution_count": 19,
   "metadata": {},
   "outputs": [],
   "source": [
    "from sklearn.model_selection import GridSearchCV"
   ]
  },
  {
   "cell_type": "code",
   "execution_count": 158,
   "metadata": {},
   "outputs": [],
   "source": [
    "# Defining parameter grid (as dictionary)\n",
    "# Create the parameters list you wish to tune\n",
    "parameters = {#'n_estimators':np.arange(155, 175, 1),                               \n",
    "              #'min_samples_leaf' : np.arange(1, 40, 5),               \n",
    "              'max_depth' : np.arange(15, 25, 1),\n",
    "              #\"max_features\":[\"auto\", \"sqrt\", \"log2\"],\n",
    "             #'criterion': [\"squared_error\", \"absolute_error\", \"poisson\"]    \n",
    "             } \n",
    "\n",
    "             #estimators = 163, min_samples_leaf= 10, max_depth = 17, max_features = \"auto\"\n"
   ]
  },
  {
   "cell_type": "code",
   "execution_count": 159,
   "metadata": {},
   "outputs": [],
   "source": [
    "# Instantiate gridsearch and define the metric to optimize \n",
    "gs = GridSearchCV(RandomForestRegressor(random_state=RSEED ,n_estimators=172 ,max_features = \"auto\" , max_depth=24,min_samples_leaf=30 , criterion=\"squared_error\"), parameters, scoring='neg_root_mean_squared_error',\n",
    "                  cv=5, verbose=5, n_jobs=-1)"
   ]
  },
  {
   "cell_type": "code",
   "execution_count": 160,
   "metadata": {},
   "outputs": [
    {
     "name": "stdout",
     "output_type": "stream",
     "text": [
      "Fitting 5 folds for each of 10 candidates, totalling 50 fits\n",
      "[CV 4/5] END ....................max_depth=15;, score=-34.314 total time=  34.5s\n",
      "[CV 2/5] END ....................max_depth=15;, score=-34.188 total time=  34.7s\n",
      "[CV 5/5] END ....................max_depth=15;, score=-35.797 total time=  34.6s\n",
      "[CV 2/5] END ....................max_depth=16;, score=-34.183 total time=  34.7s\n",
      "[CV 1/5] END ....................max_depth=15;, score=-33.885 total time=  34.8s\n",
      "[CV 3/5] END ....................max_depth=15;, score=-35.302 total time=  34.9s\n",
      "[CV 1/5] END ....................max_depth=16;, score=-33.880 total time=  34.9s\n",
      "[CV 3/5] END ....................max_depth=16;, score=-35.297 total time=  35.0s\n",
      "[CV 4/5] END ....................max_depth=16;, score=-34.311 total time=  36.4s\n",
      "[CV 5/5] END ....................max_depth=16;, score=-35.793 total time=  36.6s\n",
      "[CV 2/5] END ....................max_depth=17;, score=-34.182 total time=  36.6s\n",
      "[CV 4/5] END ....................max_depth=17;, score=-34.310 total time=  36.5s\n",
      "[CV 1/5] END ....................max_depth=17;, score=-33.880 total time=  36.8s\n",
      "[CV 3/5] END ....................max_depth=17;, score=-35.296 total time=  36.7s\n",
      "[CV 5/5] END ....................max_depth=17;, score=-35.792 total time=  36.6s\n",
      "[CV 1/5] END ....................max_depth=18;, score=-33.879 total time=  36.8s\n",
      "[CV 2/5] END ....................max_depth=18;, score=-34.181 total time=  36.1s\n",
      "[CV 4/5] END ....................max_depth=18;, score=-34.309 total time=  35.9s\n",
      "[CV 2/5] END ....................max_depth=19;, score=-34.180 total time=  36.0s\n",
      "[CV 5/5] END ....................max_depth=18;, score=-35.793 total time=  36.2s\n",
      "[CV 3/5] END ....................max_depth=18;, score=-35.294 total time=  36.4s\n",
      "[CV 3/5] END ....................max_depth=19;, score=-35.294 total time=  36.2s\n",
      "[CV 4/5] END ....................max_depth=19;, score=-34.309 total time=  36.0s\n",
      "[CV 1/5] END ....................max_depth=19;, score=-33.879 total time=  36.4s\n",
      "[CV 5/5] END ....................max_depth=19;, score=-35.793 total time=  36.1s\n",
      "[CV 2/5] END ....................max_depth=20;, score=-34.180 total time=  35.8s\n",
      "[CV 1/5] END ....................max_depth=20;, score=-33.879 total time=  36.4s\n",
      "[CV 4/5] END ....................max_depth=20;, score=-34.309 total time=  35.9s\n",
      "[CV 5/5] END ....................max_depth=20;, score=-35.792 total time=  36.0s\n",
      "[CV 3/5] END ....................max_depth=20;, score=-35.294 total time=  36.1s\n",
      "[CV 1/5] END ....................max_depth=21;, score=-33.879 total time=  36.1s\n",
      "[CV 2/5] END ....................max_depth=21;, score=-34.180 total time=  36.2s\n",
      "[CV 4/5] END ....................max_depth=21;, score=-34.309 total time=  32.8s\n",
      "[CV 3/5] END ....................max_depth=21;, score=-35.294 total time=  33.2s\n",
      "[CV 5/5] END ....................max_depth=21;, score=-35.792 total time=  32.8s\n",
      "[CV 2/5] END ....................max_depth=22;, score=-34.180 total time=  33.0s\n",
      "[CV 1/5] END ....................max_depth=22;, score=-33.879 total time=  33.3s\n",
      "[CV 3/5] END ....................max_depth=22;, score=-35.294 total time=  33.2s\n",
      "[CV 4/5] END ....................max_depth=22;, score=-34.309 total time=  33.1s\n",
      "[CV 5/5] END ....................max_depth=22;, score=-35.792 total time=  33.0s\n",
      "[CV 2/5] END ....................max_depth=23;, score=-34.180 total time=  32.2s\n",
      "[CV 4/5] END ....................max_depth=23;, score=-34.309 total time=  32.1s\n",
      "[CV 3/5] END ....................max_depth=23;, score=-35.294 total time=  32.5s\n",
      "[CV 1/5] END ....................max_depth=23;, score=-33.879 total time=  32.8s\n",
      "[CV 2/5] END ....................max_depth=24;, score=-34.180 total time=  32.1s\n",
      "[CV 5/5] END ....................max_depth=23;, score=-35.792 total time=  32.2s\n",
      "[CV 1/5] END ....................max_depth=24;, score=-33.879 total time=  32.3s\n",
      "[CV 3/5] END ....................max_depth=24;, score=-35.294 total time=  32.2s\n",
      "[CV 4/5] END ....................max_depth=24;, score=-34.309 total time=  18.3s\n",
      "[CV 5/5] END ....................max_depth=24;, score=-35.792 total time=  18.2s\n"
     ]
    },
    {
     "data": {
      "text/plain": [
       "GridSearchCV(cv=5,\n",
       "             estimator=RandomForestRegressor(min_samples_leaf=30,\n",
       "                                             n_estimators=172,\n",
       "                                             random_state=42),\n",
       "             n_jobs=-1,\n",
       "             param_grid={'max_depth': array([15, 16, 17, 18, 19, 20, 21, 22, 23, 24])},\n",
       "             scoring='neg_root_mean_squared_error', verbose=5)"
      ]
     },
     "execution_count": 160,
     "metadata": {},
     "output_type": "execute_result"
    }
   ],
   "source": [
    "gs.fit(X_train, y_train.ravel())"
   ]
  },
  {
   "cell_type": "code",
   "execution_count": 161,
   "metadata": {},
   "outputs": [
    {
     "name": "stdout",
     "output_type": "stream",
     "text": [
      "Best score: -34.691\n",
      "Best parameters: {'max_depth': 24}\n"
     ]
    }
   ],
   "source": [
    "# Best score\n",
    "print('Best score:', round(gs.best_score_, 3))\n",
    "\n",
    "# Best parameters\n",
    "print('Best parameters:', gs.best_params_)"
   ]
  },
  {
   "cell_type": "code",
   "execution_count": 163,
   "metadata": {},
   "outputs": [],
   "source": [
    "# Assigning the fitted SGDClassifier model with best parameter combination to a new variable \n",
    "rf_best = gs.best_estimator_"
   ]
  },
  {
   "cell_type": "code",
   "execution_count": 164,
   "metadata": {},
   "outputs": [],
   "source": [
    "y_pred_train = rf_best.predict(X_train)\n",
    "y_pred_test = rf_best.predict(X_test)"
   ]
  },
  {
   "cell_type": "code",
   "execution_count": 165,
   "metadata": {},
   "outputs": [
    {
     "data": {
      "text/plain": [
       "RandomForestRegressor(max_depth=24, min_samples_leaf=30, n_estimators=172,\n",
       "                      random_state=42)"
      ]
     },
     "execution_count": 165,
     "metadata": {},
     "output_type": "execute_result"
    }
   ],
   "source": [
    "rf_best"
   ]
  },
  {
   "cell_type": "markdown",
   "metadata": {},
   "source": [
    "## Optimiertes Model "
   ]
  },
  {
   "cell_type": "code",
   "execution_count": 162,
   "metadata": {},
   "outputs": [],
   "source": [
    "RFR_opt = RandomForestRegressor(random_state=RSEED ,n_estimators=172 ,max_features = \"auto\" , max_depth=24,min_samples_leaf=30 , criterion=\"squared_error\", n_jobs=-1, verbose=5)"
   ]
  },
  {
   "cell_type": "code",
   "execution_count": 166,
   "metadata": {},
   "outputs": [
    {
     "name": "stderr",
     "output_type": "stream",
     "text": [
      "[Parallel(n_jobs=-1)]: Using backend ThreadingBackend with 8 concurrent workers.\n"
     ]
    },
    {
     "name": "stdout",
     "output_type": "stream",
     "text": [
      "building tree 1 of 172building tree 2 of 172\n",
      "\n",
      "building tree 3 of 172\n",
      "building tree 4 of 172\n",
      "building tree 5 of 172\n",
      "building tree 6 of 172\n",
      "building tree 7 of 172\n",
      "building tree 8 of 172\n",
      "building tree 9 of 172\n",
      "building tree 10 of 172\n",
      "building tree 11 of 172\n",
      "building tree 12 of 172\n",
      "building tree 13 of 172\n",
      "building tree 14 of 172\n",
      "building tree 15 of 172\n",
      "building tree 16 of 172\n"
     ]
    },
    {
     "name": "stderr",
     "output_type": "stream",
     "text": [
      "[Parallel(n_jobs=-1)]: Done   2 tasks      | elapsed:    0.3s\n"
     ]
    },
    {
     "name": "stdout",
     "output_type": "stream",
     "text": [
      "building tree 17 of 172\n",
      "building tree 18 of 172\n",
      "building tree 19 of 172\n",
      "building tree 20 of 172\n",
      "building tree 21 of 172\n",
      "building tree 22 of 172\n",
      "building tree 23 of 172\n",
      "building tree 24 of 172\n",
      "building tree 25 of 172\n",
      "building tree 26 of 172\n",
      "building tree 27 of 172\n",
      "building tree 28 of 172\n",
      "building tree 29 of 172\n",
      "building tree 30 of 172\n",
      "building tree 31 of 172\n",
      "building tree 32 of 172\n",
      "building tree 33 of 172\n",
      "building tree 34 of 172\n",
      "building tree 35 of 172\n",
      "building tree 36 of 172\n",
      "building tree 37 of 172\n",
      "building tree 38 of 172\n",
      "building tree 39 of 172\n",
      "building tree 40 of 172\n",
      "building tree 41 of 172\n",
      "building tree 42 of 172\n",
      "building tree 43 of 172\n",
      "building tree 44 of 172\n",
      "building tree 45 of 172\n",
      "building tree 46 of 172\n",
      "building tree 47 of 172\n",
      "building tree 48 of 172\n",
      "building tree 49 of 172\n",
      "building tree 50 of 172\n",
      "building tree 51 of 172\n",
      "building tree 52 of 172\n",
      "building tree 53 of 172\n",
      "building tree 54 of 172\n",
      "building tree 55 of 172\n",
      "building tree 56 of 172\n",
      "building tree 57 of 172\n",
      "building tree 58 of 172\n",
      "building tree 59 of 172\n",
      "building tree 60 of 172\n",
      "building tree 61 of 172\n",
      "building tree 62 of 172\n",
      "building tree 63 of 172\n",
      "building tree 64 of 172\n",
      "building tree 65 of 172\n",
      "building tree 66 of 172\n",
      "building tree 67 of 172\n"
     ]
    },
    {
     "name": "stderr",
     "output_type": "stream",
     "text": [
      "[Parallel(n_jobs=-1)]: Done  56 tasks      | elapsed:    1.7s\n"
     ]
    },
    {
     "name": "stdout",
     "output_type": "stream",
     "text": [
      "building tree 68 of 172\n",
      "building tree 69 of 172\n",
      "building tree 70 of 172\n",
      "building tree 71 of 172\n",
      "building tree 72 of 172\n",
      "building tree 73 of 172\n",
      "building tree 74 of 172\n",
      "building tree 75 of 172\n",
      "building tree 76 of 172\n",
      "building tree 77 of 172\n",
      "building tree 78 of 172\n",
      "building tree 79 of 172\n",
      "building tree 80 of 172\n",
      "building tree 81 of 172\n",
      "building tree 82 of 172building tree 83 of 172\n",
      "\n",
      "building tree 84 of 172\n",
      "building tree 85 of 172\n",
      "building tree 86 of 172\n",
      "building tree 87 of 172\n",
      "building tree 88 of 172\n",
      "building tree 89 of 172\n",
      "building tree 90 of 172\n",
      "building tree 91 of 172\n",
      "building tree 92 of 172\n",
      "building tree 93 of 172\n",
      "building tree 94 of 172\n",
      "building tree 95 of 172\n",
      "building tree 96 of 172\n",
      "building tree 97 of 172\n",
      "building tree 98 of 172\n",
      "building tree 99 of 172\n",
      "building tree 100 of 172\n",
      "building tree 101 of 172\n",
      "building tree 102 of 172\n",
      "building tree 103 of 172\n",
      "building tree 104 of 172\n",
      "building tree 105 of 172\n",
      "building tree 106 of 172building tree 107 of 172\n",
      "\n",
      "building tree 108 of 172\n",
      "building tree 109 of 172\n",
      "building tree 110 of 172\n",
      "building tree 111 of 172\n",
      "building tree 112 of 172\n",
      "building tree 113 of 172\n",
      "building tree 114 of 172\n",
      "building tree 115 of 172\n",
      "building tree 116 of 172\n",
      "building tree 117 of 172\n",
      "building tree 118 of 172\n",
      "building tree 119 of 172\n",
      "building tree 120 of 172\n",
      "building tree 121 of 172\n",
      "building tree 122 of 172building tree 123 of 172\n",
      "\n",
      "building tree 124 of 172\n",
      "building tree 125 of 172\n",
      "building tree 126 of 172\n",
      "building tree 127 of 172\n",
      "building tree 128 of 172\n",
      "building tree 129 of 172\n",
      "building tree 130 of 172building tree 131 of 172\n",
      "\n",
      "building tree 132 of 172\n",
      "building tree 133 of 172\n",
      "building tree 134 of 172\n",
      "building tree 135 of 172\n",
      "building tree 136 of 172\n",
      "building tree 137 of 172\n",
      "building tree 138 of 172building tree 139 of 172\n",
      "building tree 140 of 172\n",
      "building tree 141 of 172\n",
      "\n",
      "building tree 142 of 172\n",
      "building tree 143 of 172\n",
      "building tree 144 of 172\n",
      "building tree 145 of 172\n",
      "building tree 146 of 172\n",
      "building tree 147 of 172\n",
      "building tree 148 of 172\n",
      "building tree 149 of 172\n",
      "building tree 150 of 172\n",
      "building tree 151 of 172\n",
      "building tree 152 of 172\n",
      "building tree 153 of 172\n",
      "building tree 154 of 172\n",
      "building tree 155 of 172\n",
      "building tree 156 of 172\n",
      "building tree 157 of 172\n",
      "building tree 158 of 172\n",
      "building tree 159 of 172\n",
      "building tree 160 of 172\n"
     ]
    },
    {
     "name": "stderr",
     "output_type": "stream",
     "text": [
      "[Parallel(n_jobs=-1)]: Done 146 tasks      | elapsed:    4.5s\n"
     ]
    },
    {
     "name": "stdout",
     "output_type": "stream",
     "text": [
      "building tree 161 of 172\n",
      "building tree 162 of 172\n",
      "building tree 163 of 172\n",
      "building tree 164 of 172\n",
      "building tree 165 of 172\n",
      "building tree 166 of 172\n",
      "building tree 167 of 172\n",
      "building tree 168 of 172\n",
      "building tree 169 of 172\n",
      "building tree 170 of 172\n",
      "building tree 171 of 172\n",
      "building tree 172 of 172\n"
     ]
    },
    {
     "name": "stderr",
     "output_type": "stream",
     "text": [
      "[Parallel(n_jobs=-1)]: Done 172 out of 172 | elapsed:    5.2s finished\n",
      "[Parallel(n_jobs=8)]: Using backend ThreadingBackend with 8 concurrent workers.\n",
      "[Parallel(n_jobs=8)]: Done   2 tasks      | elapsed:    0.0s\n",
      "[Parallel(n_jobs=8)]: Done  56 tasks      | elapsed:    0.0s\n",
      "[Parallel(n_jobs=8)]: Done 146 tasks      | elapsed:    0.1s\n",
      "[Parallel(n_jobs=8)]: Done 172 out of 172 | elapsed:    0.1s finished\n",
      "[Parallel(n_jobs=8)]: Using backend ThreadingBackend with 8 concurrent workers.\n",
      "[Parallel(n_jobs=8)]: Done   2 tasks      | elapsed:    0.0s\n",
      "[Parallel(n_jobs=8)]: Done  56 tasks      | elapsed:    0.0s\n",
      "[Parallel(n_jobs=8)]: Done 146 tasks      | elapsed:    0.0s\n",
      "[Parallel(n_jobs=8)]: Done 172 out of 172 | elapsed:    0.0s finished\n"
     ]
    }
   ],
   "source": [
    "RFR_opt.fit(X_train, y_train)\n",
    "\n",
    "y_pred_train = RFR_opt.predict(X_train)\n",
    "y_pred_test = RFR_opt.predict(X_test)"
   ]
  },
  {
   "cell_type": "code",
   "execution_count": 167,
   "metadata": {},
   "outputs": [],
   "source": [
    "rmse_train = rmse(y_train, y_pred_train)\n",
    "rmse_test= rmse(y_test, y_pred_test)"
   ]
  },
  {
   "cell_type": "code",
   "execution_count": 168,
   "metadata": {},
   "outputs": [
    {
     "data": {
      "text/plain": [
       "31.577530864107967"
      ]
     },
     "metadata": {},
     "output_type": "display_data"
    },
    {
     "data": {
      "text/plain": [
       "34.446754869525094"
      ]
     },
     "metadata": {},
     "output_type": "display_data"
    }
   ],
   "source": [
    "display(rmse_train, rmse_test)"
   ]
  },
  {
   "cell_type": "code",
   "execution_count": 169,
   "metadata": {},
   "outputs": [
    {
     "data": {
      "image/png": "[encoded data removed]",
      "text/plain": [
       "<Figure size 1080x360 with 2 Axes>"
      ]
     },
     "metadata": {},
     "output_type": "display_data"
    }
   ],
   "source": [
    "error_analysis(y_test, y_pred_test)"
   ]
  },
  {
   "cell_type": "markdown",
   "metadata": {},
   "source": [
    "## Location D"
   ]
  },
  {
   "cell_type": "code",
   "execution_count": 10,
   "metadata": {},
   "outputs": [],
   "source": [
    "data_d = pd.read_csv(\"./data/data_prep_reg_d.csv\", index_col=[0])"
   ]
  },
  {
   "cell_type": "code",
   "execution_count": 11,
   "metadata": {},
   "outputs": [
    {
     "data": {
      "text/html": [
       "<div>\n",
       "<style scoped>\n",
       "    .dataframe tbody tr th:only-of-type {\n",
       "        vertical-align: middle;\n",
       "    }\n",
       "\n",
       "    .dataframe tbody tr th {\n",
       "        vertical-align: top;\n",
       "    }\n",
       "\n",
       "    .dataframe thead th {\n",
       "        text-align: right;\n",
       "    }\n",
       "</style>\n",
       "<table border=\"1\" class=\"dataframe\">\n",
       "  <thead>\n",
       "    <tr style=\"text-align: right;\">\n",
       "      <th></th>\n",
       "      <th>location</th>\n",
       "      <th>target</th>\n",
       "      <th>max_temp</th>\n",
       "      <th>min_temp</th>\n",
       "      <th>mean_temp</th>\n",
       "      <th>std_temp</th>\n",
       "      <th>var_temp</th>\n",
       "      <th>median_temp</th>\n",
       "      <th>ptp_temp</th>\n",
       "      <th>max_precip</th>\n",
       "      <th>...</th>\n",
       "      <th>var_wind_spd</th>\n",
       "      <th>median_wind_spd</th>\n",
       "      <th>ptp_wind_spd</th>\n",
       "      <th>max_atmos_press</th>\n",
       "      <th>min_atmos_press</th>\n",
       "      <th>mean_atmos_press</th>\n",
       "      <th>std_atmos_press</th>\n",
       "      <th>var_atmos_press</th>\n",
       "      <th>median_atmos_press</th>\n",
       "      <th>ptp_atmos_press</th>\n",
       "    </tr>\n",
       "  </thead>\n",
       "  <tbody>\n",
       "    <tr>\n",
       "      <th>1</th>\n",
       "      <td>3</td>\n",
       "      <td>79.131702</td>\n",
       "      <td>33.616667</td>\n",
       "      <td>17.983333</td>\n",
       "      <td>24.679063</td>\n",
       "      <td>4.266955</td>\n",
       "      <td>18.206903</td>\n",
       "      <td>23.791667</td>\n",
       "      <td>15.633333</td>\n",
       "      <td>0.561</td>\n",
       "      <td>...</td>\n",
       "      <td>0.290736</td>\n",
       "      <td>0.744167</td>\n",
       "      <td>2.760833</td>\n",
       "      <td>90.725000</td>\n",
       "      <td>90.056667</td>\n",
       "      <td>90.429924</td>\n",
       "      <td>0.156000</td>\n",
       "      <td>0.024336</td>\n",
       "      <td>90.429167</td>\n",
       "      <td>0.668333</td>\n",
       "    </tr>\n",
       "    <tr>\n",
       "      <th>10</th>\n",
       "      <td>3</td>\n",
       "      <td>55.638261</td>\n",
       "      <td>34.041667</td>\n",
       "      <td>17.191667</td>\n",
       "      <td>23.189507</td>\n",
       "      <td>4.432786</td>\n",
       "      <td>19.649595</td>\n",
       "      <td>22.033333</td>\n",
       "      <td>16.850000</td>\n",
       "      <td>10.302</td>\n",
       "      <td>...</td>\n",
       "      <td>0.533776</td>\n",
       "      <td>0.840833</td>\n",
       "      <td>3.285000</td>\n",
       "      <td>90.986667</td>\n",
       "      <td>90.211667</td>\n",
       "      <td>90.624814</td>\n",
       "      <td>0.179998</td>\n",
       "      <td>0.032399</td>\n",
       "      <td>90.641667</td>\n",
       "      <td>0.775000</td>\n",
       "    </tr>\n",
       "    <tr>\n",
       "      <th>13</th>\n",
       "      <td>3</td>\n",
       "      <td>32.240851</td>\n",
       "      <td>29.608333</td>\n",
       "      <td>19.166667</td>\n",
       "      <td>23.151446</td>\n",
       "      <td>2.808773</td>\n",
       "      <td>7.889204</td>\n",
       "      <td>22.291667</td>\n",
       "      <td>10.441667</td>\n",
       "      <td>2.229</td>\n",
       "      <td>...</td>\n",
       "      <td>0.195908</td>\n",
       "      <td>0.627500</td>\n",
       "      <td>1.705000</td>\n",
       "      <td>90.744167</td>\n",
       "      <td>90.102500</td>\n",
       "      <td>90.454477</td>\n",
       "      <td>0.149374</td>\n",
       "      <td>0.022312</td>\n",
       "      <td>90.471667</td>\n",
       "      <td>0.641667</td>\n",
       "    </tr>\n",
       "    <tr>\n",
       "      <th>15</th>\n",
       "      <td>3</td>\n",
       "      <td>72.717021</td>\n",
       "      <td>29.133333</td>\n",
       "      <td>17.516667</td>\n",
       "      <td>22.341529</td>\n",
       "      <td>3.161073</td>\n",
       "      <td>9.992384</td>\n",
       "      <td>21.683333</td>\n",
       "      <td>11.616667</td>\n",
       "      <td>13.588</td>\n",
       "      <td>...</td>\n",
       "      <td>0.124645</td>\n",
       "      <td>0.625000</td>\n",
       "      <td>1.608333</td>\n",
       "      <td>90.873333</td>\n",
       "      <td>90.284167</td>\n",
       "      <td>90.607307</td>\n",
       "      <td>0.139059</td>\n",
       "      <td>0.019337</td>\n",
       "      <td>90.620833</td>\n",
       "      <td>0.589167</td>\n",
       "    </tr>\n",
       "    <tr>\n",
       "      <th>22</th>\n",
       "      <td>3</td>\n",
       "      <td>35.833571</td>\n",
       "      <td>30.558333</td>\n",
       "      <td>16.983333</td>\n",
       "      <td>22.401240</td>\n",
       "      <td>3.592899</td>\n",
       "      <td>12.908921</td>\n",
       "      <td>21.333333</td>\n",
       "      <td>13.575000</td>\n",
       "      <td>43.080</td>\n",
       "      <td>...</td>\n",
       "      <td>0.186272</td>\n",
       "      <td>0.678333</td>\n",
       "      <td>2.197500</td>\n",
       "      <td>91.004167</td>\n",
       "      <td>90.217500</td>\n",
       "      <td>90.600544</td>\n",
       "      <td>0.172882</td>\n",
       "      <td>0.029888</td>\n",
       "      <td>90.600833</td>\n",
       "      <td>0.786667</td>\n",
       "    </tr>\n",
       "    <tr>\n",
       "      <th>...</th>\n",
       "      <td>...</td>\n",
       "      <td>...</td>\n",
       "      <td>...</td>\n",
       "      <td>...</td>\n",
       "      <td>...</td>\n",
       "      <td>...</td>\n",
       "      <td>...</td>\n",
       "      <td>...</td>\n",
       "      <td>...</td>\n",
       "      <td>...</td>\n",
       "      <td>...</td>\n",
       "      <td>...</td>\n",
       "      <td>...</td>\n",
       "      <td>...</td>\n",
       "      <td>...</td>\n",
       "      <td>...</td>\n",
       "      <td>...</td>\n",
       "      <td>...</td>\n",
       "      <td>...</td>\n",
       "      <td>...</td>\n",
       "      <td>...</td>\n",
       "    </tr>\n",
       "    <tr>\n",
       "      <th>15529</th>\n",
       "      <td>3</td>\n",
       "      <td>72.446739</td>\n",
       "      <td>32.533333</td>\n",
       "      <td>17.758333</td>\n",
       "      <td>24.051928</td>\n",
       "      <td>4.023836</td>\n",
       "      <td>16.191253</td>\n",
       "      <td>23.466667</td>\n",
       "      <td>14.775000</td>\n",
       "      <td>13.769</td>\n",
       "      <td>...</td>\n",
       "      <td>0.463855</td>\n",
       "      <td>0.645417</td>\n",
       "      <td>3.691667</td>\n",
       "      <td>90.808333</td>\n",
       "      <td>90.039167</td>\n",
       "      <td>90.450585</td>\n",
       "      <td>0.179468</td>\n",
       "      <td>0.032209</td>\n",
       "      <td>90.467500</td>\n",
       "      <td>0.769167</td>\n",
       "    </tr>\n",
       "    <tr>\n",
       "      <th>15530</th>\n",
       "      <td>3</td>\n",
       "      <td>40.978298</td>\n",
       "      <td>28.633333</td>\n",
       "      <td>17.341667</td>\n",
       "      <td>21.456752</td>\n",
       "      <td>3.259868</td>\n",
       "      <td>10.626741</td>\n",
       "      <td>20.216667</td>\n",
       "      <td>11.291667</td>\n",
       "      <td>18.300</td>\n",
       "      <td>...</td>\n",
       "      <td>0.407898</td>\n",
       "      <td>0.740833</td>\n",
       "      <td>3.158333</td>\n",
       "      <td>90.797500</td>\n",
       "      <td>90.149167</td>\n",
       "      <td>90.507605</td>\n",
       "      <td>0.143908</td>\n",
       "      <td>0.020710</td>\n",
       "      <td>90.526667</td>\n",
       "      <td>0.648333</td>\n",
       "    </tr>\n",
       "    <tr>\n",
       "      <th>15532</th>\n",
       "      <td>3</td>\n",
       "      <td>32.002766</td>\n",
       "      <td>30.683333</td>\n",
       "      <td>17.425000</td>\n",
       "      <td>23.125482</td>\n",
       "      <td>3.748884</td>\n",
       "      <td>14.054135</td>\n",
       "      <td>22.166667</td>\n",
       "      <td>13.258333</td>\n",
       "      <td>4.204</td>\n",
       "      <td>...</td>\n",
       "      <td>0.232164</td>\n",
       "      <td>0.707500</td>\n",
       "      <td>2.388333</td>\n",
       "      <td>90.673333</td>\n",
       "      <td>89.910833</td>\n",
       "      <td>90.331026</td>\n",
       "      <td>0.187706</td>\n",
       "      <td>0.035233</td>\n",
       "      <td>90.369167</td>\n",
       "      <td>0.762500</td>\n",
       "    </tr>\n",
       "    <tr>\n",
       "      <th>15536</th>\n",
       "      <td>3</td>\n",
       "      <td>38.972128</td>\n",
       "      <td>34.108333</td>\n",
       "      <td>16.950000</td>\n",
       "      <td>24.637083</td>\n",
       "      <td>4.352597</td>\n",
       "      <td>18.945097</td>\n",
       "      <td>24.179167</td>\n",
       "      <td>17.158333</td>\n",
       "      <td>3.893</td>\n",
       "      <td>...</td>\n",
       "      <td>0.389128</td>\n",
       "      <td>0.897500</td>\n",
       "      <td>3.608333</td>\n",
       "      <td>90.885000</td>\n",
       "      <td>90.145833</td>\n",
       "      <td>90.522397</td>\n",
       "      <td>0.161257</td>\n",
       "      <td>0.026004</td>\n",
       "      <td>90.520000</td>\n",
       "      <td>0.739167</td>\n",
       "    </tr>\n",
       "    <tr>\n",
       "      <th>15537</th>\n",
       "      <td>3</td>\n",
       "      <td>41.720952</td>\n",
       "      <td>30.900000</td>\n",
       "      <td>15.891667</td>\n",
       "      <td>23.472934</td>\n",
       "      <td>4.651403</td>\n",
       "      <td>21.635547</td>\n",
       "      <td>23.066667</td>\n",
       "      <td>15.008333</td>\n",
       "      <td>0.017</td>\n",
       "      <td>...</td>\n",
       "      <td>0.359279</td>\n",
       "      <td>0.828333</td>\n",
       "      <td>2.683333</td>\n",
       "      <td>90.793333</td>\n",
       "      <td>90.106667</td>\n",
       "      <td>90.486202</td>\n",
       "      <td>0.160746</td>\n",
       "      <td>0.025839</td>\n",
       "      <td>90.512500</td>\n",
       "      <td>0.686667</td>\n",
       "    </tr>\n",
       "  </tbody>\n",
       "</table>\n",
       "<p>4990 rows × 44 columns</p>\n",
       "</div>"
      ],
      "text/plain": [
       "       location     target   max_temp   min_temp  mean_temp  std_temp  \\\n",
       "1             3  79.131702  33.616667  17.983333  24.679063  4.266955   \n",
       "10            3  55.638261  34.041667  17.191667  23.189507  4.432786   \n",
       "13            3  32.240851  29.608333  19.166667  23.151446  2.808773   \n",
       "15            3  72.717021  29.133333  17.516667  22.341529  3.161073   \n",
       "22            3  35.833571  30.558333  16.983333  22.401240  3.592899   \n",
       "...         ...        ...        ...        ...        ...       ...   \n",
       "15529         3  72.446739  32.533333  17.758333  24.051928  4.023836   \n",
       "15530         3  40.978298  28.633333  17.341667  21.456752  3.259868   \n",
       "15532         3  32.002766  30.683333  17.425000  23.125482  3.748884   \n",
       "15536         3  38.972128  34.108333  16.950000  24.637083  4.352597   \n",
       "15537         3  41.720952  30.900000  15.891667  23.472934  4.651403   \n",
       "\n",
       "        var_temp  median_temp   ptp_temp  max_precip  ...  var_wind_spd  \\\n",
       "1      18.206903    23.791667  15.633333       0.561  ...      0.290736   \n",
       "10     19.649595    22.033333  16.850000      10.302  ...      0.533776   \n",
       "13      7.889204    22.291667  10.441667       2.229  ...      0.195908   \n",
       "15      9.992384    21.683333  11.616667      13.588  ...      0.124645   \n",
       "22     12.908921    21.333333  13.575000      43.080  ...      0.186272   \n",
       "...          ...          ...        ...         ...  ...           ...   \n",
       "15529  16.191253    23.466667  14.775000      13.769  ...      0.463855   \n",
       "15530  10.626741    20.216667  11.291667      18.300  ...      0.407898   \n",
       "15532  14.054135    22.166667  13.258333       4.204  ...      0.232164   \n",
       "15536  18.945097    24.179167  17.158333       3.893  ...      0.389128   \n",
       "15537  21.635547    23.066667  15.008333       0.017  ...      0.359279   \n",
       "\n",
       "       median_wind_spd  ptp_wind_spd  max_atmos_press  min_atmos_press  \\\n",
       "1             0.744167      2.760833        90.725000        90.056667   \n",
       "10            0.840833      3.285000        90.986667        90.211667   \n",
       "13            0.627500      1.705000        90.744167        90.102500   \n",
       "15            0.625000      1.608333        90.873333        90.284167   \n",
       "22            0.678333      2.197500        91.004167        90.217500   \n",
       "...                ...           ...              ...              ...   \n",
       "15529         0.645417      3.691667        90.808333        90.039167   \n",
       "15530         0.740833      3.158333        90.797500        90.149167   \n",
       "15532         0.707500      2.388333        90.673333        89.910833   \n",
       "15536         0.897500      3.608333        90.885000        90.145833   \n",
       "15537         0.828333      2.683333        90.793333        90.106667   \n",
       "\n",
       "       mean_atmos_press  std_atmos_press  var_atmos_press  median_atmos_press  \\\n",
       "1             90.429924         0.156000         0.024336           90.429167   \n",
       "10            90.624814         0.179998         0.032399           90.641667   \n",
       "13            90.454477         0.149374         0.022312           90.471667   \n",
       "15            90.607307         0.139059         0.019337           90.620833   \n",
       "22            90.600544         0.172882         0.029888           90.600833   \n",
       "...                 ...              ...              ...                 ...   \n",
       "15529         90.450585         0.179468         0.032209           90.467500   \n",
       "15530         90.507605         0.143908         0.020710           90.526667   \n",
       "15532         90.331026         0.187706         0.035233           90.369167   \n",
       "15536         90.522397         0.161257         0.026004           90.520000   \n",
       "15537         90.486202         0.160746         0.025839           90.512500   \n",
       "\n",
       "       ptp_atmos_press  \n",
       "1             0.668333  \n",
       "10            0.775000  \n",
       "13            0.641667  \n",
       "15            0.589167  \n",
       "22            0.786667  \n",
       "...                ...  \n",
       "15529         0.769167  \n",
       "15530         0.648333  \n",
       "15532         0.762500  \n",
       "15536         0.739167  \n",
       "15537         0.686667  \n",
       "\n",
       "[4990 rows x 44 columns]"
      ]
     },
     "execution_count": 11,
     "metadata": {},
     "output_type": "execute_result"
    }
   ],
   "source": [
    "data_d"
   ]
  },
  {
   "cell_type": "code",
   "execution_count": 13,
   "metadata": {},
   "outputs": [],
   "source": [
    "y = data_d[\"target\"]\n",
    "X=np.array(data_d.drop([\"target\"], axis= 1),ndmin=2)"
   ]
  },
  {
   "cell_type": "code",
   "execution_count": 14,
   "metadata": {},
   "outputs": [],
   "source": [
    "from sklearn.model_selection import train_test_split\n",
    "\n",
    "X_train, X_test, y_train, y_test = train_test_split(X,\n",
    "                                         y,\n",
    "                                         test_size = 0.3, \n",
    "                                         random_state = RSEED)"
   ]
  },
  {
   "cell_type": "code",
   "execution_count": 15,
   "metadata": {},
   "outputs": [],
   "source": [
    "y_train =y_train.values.reshape(-1,1)"
   ]
  },
  {
   "cell_type": "code",
   "execution_count": 26,
   "metadata": {},
   "outputs": [],
   "source": [
    "# Defining parameter grid (as dictionary)\n",
    "# Create the parameters list you wish to tune\n",
    "parameters = {#'n_estimators':np.arange(155, 175, 1),                               \n",
    "              #'min_samples_leaf' : np.arange(15, 40, 5),               \n",
    "              #'max_depth' : np.arange(5, 25, 1),\n",
    "              #\"max_features\":[\"auto\", \"sqrt\", \"log2\"],\n",
    "             #'criterion': [\"squared_error\", \"absolute_error\", \"poisson\"]    \n",
    "             } \n",
    "\n",
    "             #estimators = 163, min_samples_leaf= 10, max_depth = 17, max_features = \"auto\"\n"
   ]
  },
  {
   "cell_type": "code",
   "execution_count": 27,
   "metadata": {},
   "outputs": [],
   "source": [
    "# Instantiate gridsearch and define the metric to optimize \n",
    "gs = GridSearchCV(RandomForestRegressor(random_state=RSEED ,n_estimators=163 , max_depth =20, criterion=\"squared_error\"), parameters, scoring='neg_root_mean_squared_error',\n",
    "                  cv=5, verbose=5, n_jobs=-1)"
   ]
  },
  {
   "cell_type": "code",
   "execution_count": 28,
   "metadata": {},
   "outputs": [
    {
     "name": "stdout",
     "output_type": "stream",
     "text": [
      "Fitting 5 folds for each of 20 candidates, totalling 100 fits\n",
      "[CV 3/5] END .....................max_depth=5;, score=-23.167 total time=   5.7s\n",
      "[CV 1/5] END .....................max_depth=5;, score=-27.156 total time=   5.7s\n",
      "[CV 4/5] END .....................max_depth=5;, score=-22.658 total time=   5.7s\n",
      "[CV 2/5] END .....................max_depth=5;, score=-25.711 total time=   5.7s\n",
      "[CV 5/5] END .....................max_depth=5;, score=-23.305 total time=   5.8s\n",
      "[CV 1/5] END .....................max_depth=6;, score=-26.704 total time=   6.5s\n",
      "[CV 3/5] END .....................max_depth=6;, score=-22.564 total time=   6.5s\n",
      "[CV 2/5] END .....................max_depth=6;, score=-25.081 total time=   6.5s\n",
      "[CV 4/5] END .....................max_depth=6;, score=-22.076 total time=   6.4s\n",
      "[CV 5/5] END .....................max_depth=6;, score=-22.532 total time=   6.5s\n",
      "[CV 1/5] END .....................max_depth=7;, score=-26.335 total time=   7.2s\n",
      "[CV 2/5] END .....................max_depth=7;, score=-24.654 total time=   7.3s\n",
      "[CV 3/5] END .....................max_depth=7;, score=-22.297 total time=   7.2s\n",
      "[CV 4/5] END .....................max_depth=7;, score=-21.677 total time=   7.2s\n",
      "[CV 5/5] END .....................max_depth=7;, score=-22.070 total time=   7.3s\n",
      "[CV 1/5] END .....................max_depth=8;, score=-26.023 total time=   7.9s\n",
      "[CV 2/5] END .....................max_depth=8;, score=-24.380 total time=   8.0s\n",
      "[CV 3/5] END .....................max_depth=8;, score=-22.135 total time=   8.0s\n",
      "[CV 4/5] END .....................max_depth=8;, score=-21.461 total time=   7.9s\n",
      "[CV 5/5] END .....................max_depth=8;, score=-21.818 total time=   8.0s\n",
      "[CV 1/5] END .....................max_depth=9;, score=-25.809 total time=   8.6s\n",
      "[CV 2/5] END .....................max_depth=9;, score=-24.206 total time=   8.5s\n",
      "[CV 3/5] END .....................max_depth=9;, score=-22.076 total time=   8.4s\n",
      "[CV 4/5] END .....................max_depth=9;, score=-21.307 total time=   8.4s\n",
      "[CV 5/5] END .....................max_depth=9;, score=-21.612 total time=   8.4s\n",
      "[CV 1/5] END ....................max_depth=10;, score=-25.664 total time=   8.8s\n",
      "[CV 2/5] END ....................max_depth=10;, score=-24.077 total time=   8.8s\n",
      "[CV 3/5] END ....................max_depth=10;, score=-22.051 total time=   8.7s\n",
      "[CV 4/5] END ....................max_depth=10;, score=-21.231 total time=   8.7s\n",
      "[CV 5/5] END ....................max_depth=10;, score=-21.516 total time=   8.8s\n",
      "[CV 1/5] END ....................max_depth=11;, score=-25.556 total time=   9.0s\n",
      "[CV 2/5] END ....................max_depth=11;, score=-24.016 total time=   9.1s\n",
      "[CV 3/5] END ....................max_depth=11;, score=-22.014 total time=   9.3s\n",
      "[CV 4/5] END ....................max_depth=11;, score=-21.196 total time=   9.3s\n",
      "[CV 5/5] END ....................max_depth=11;, score=-21.467 total time=   9.5s\n",
      "[CV 1/5] END ....................max_depth=12;, score=-25.506 total time=   9.8s\n",
      "[CV 2/5] END ....................max_depth=12;, score=-23.980 total time=   9.9s\n",
      "[CV 3/5] END ....................max_depth=12;, score=-21.987 total time=  10.1s\n",
      "[CV 4/5] END ....................max_depth=12;, score=-21.167 total time=  10.1s\n",
      "[CV 5/5] END ....................max_depth=12;, score=-21.435 total time=  10.6s\n",
      "[CV 1/5] END ....................max_depth=13;, score=-25.478 total time=  11.9s\n",
      "[CV 2/5] END ....................max_depth=13;, score=-23.955 total time=  12.3s\n",
      "[CV 3/5] END ....................max_depth=13;, score=-21.970 total time=  12.4s\n",
      "[CV 4/5] END ....................max_depth=13;, score=-21.155 total time=  12.3s\n",
      "[CV 5/5] END ....................max_depth=13;, score=-21.420 total time=  12.5s\n",
      "[CV 1/5] END ....................max_depth=14;, score=-25.458 total time=  12.4s\n",
      "[CV 2/5] END ....................max_depth=14;, score=-23.944 total time=  12.5s\n",
      "[CV 3/5] END ....................max_depth=14;, score=-21.959 total time=  12.1s\n",
      "[CV 4/5] END ....................max_depth=14;, score=-21.146 total time=  10.8s\n",
      "[CV 5/5] END ....................max_depth=14;, score=-21.419 total time=  10.5s\n",
      "[CV 1/5] END ....................max_depth=15;, score=-25.454 total time=  10.3s\n",
      "[CV 2/5] END ....................max_depth=15;, score=-23.936 total time=  10.3s\n",
      "[CV 3/5] END ....................max_depth=15;, score=-21.961 total time=  10.0s\n",
      "[CV 4/5] END ....................max_depth=15;, score=-21.141 total time=   9.6s\n",
      "[CV 5/5] END ....................max_depth=15;, score=-21.417 total time=   9.7s\n",
      "[CV 1/5] END ....................max_depth=16;, score=-25.450 total time=   9.8s\n",
      "[CV 2/5] END ....................max_depth=16;, score=-23.934 total time=   9.7s\n",
      "[CV 3/5] END ....................max_depth=16;, score=-21.960 total time=   9.5s\n",
      "[CV 4/5] END ....................max_depth=16;, score=-21.143 total time=   9.3s\n",
      "[CV 5/5] END ....................max_depth=16;, score=-21.417 total time=   9.5s\n",
      "[CV 1/5] END ....................max_depth=17;, score=-25.450 total time=   9.7s\n",
      "[CV 2/5] END ....................max_depth=17;, score=-23.932 total time=   9.7s\n",
      "[CV 3/5] END ....................max_depth=17;, score=-21.958 total time=   9.5s\n",
      "[CV 4/5] END ....................max_depth=17;, score=-21.143 total time=   9.3s\n",
      "[CV 5/5] END ....................max_depth=17;, score=-21.417 total time=   9.6s\n",
      "[CV 1/5] END ....................max_depth=18;, score=-25.449 total time=   9.7s\n",
      "[CV 2/5] END ....................max_depth=18;, score=-23.930 total time=   9.7s\n",
      "[CV 3/5] END ....................max_depth=18;, score=-21.958 total time=   9.5s\n",
      "[CV 4/5] END ....................max_depth=18;, score=-21.142 total time=   9.4s\n",
      "[CV 5/5] END ....................max_depth=18;, score=-21.416 total time=   9.5s\n",
      "[CV 1/5] END ....................max_depth=19;, score=-25.448 total time=   9.7s\n",
      "[CV 2/5] END ....................max_depth=19;, score=-23.931 total time=   9.7s\n",
      "[CV 3/5] END ....................max_depth=19;, score=-21.957 total time=   9.4s\n",
      "[CV 4/5] END ....................max_depth=19;, score=-21.142 total time=   9.2s\n",
      "[CV 5/5] END ....................max_depth=19;, score=-21.416 total time=   9.4s\n",
      "[CV 1/5] END ....................max_depth=20;, score=-25.448 total time=   9.5s\n",
      "[CV 2/5] END ....................max_depth=20;, score=-23.929 total time=   9.5s\n",
      "[CV 4/5] END ....................max_depth=20;, score=-21.142 total time=   9.0s\n",
      "[CV 3/5] END ....................max_depth=20;, score=-21.957 total time=   9.4s\n",
      "[CV 5/5] END ....................max_depth=20;, score=-21.416 total time=   9.3s\n",
      "[CV 1/5] END ....................max_depth=21;, score=-25.448 total time=   9.3s\n",
      "[CV 2/5] END ....................max_depth=21;, score=-23.931 total time=   9.4s\n",
      "[CV 4/5] END ....................max_depth=21;, score=-21.142 total time=   9.1s\n",
      "[CV 3/5] END ....................max_depth=21;, score=-21.957 total time=   9.4s\n",
      "[CV 5/5] END ....................max_depth=21;, score=-21.416 total time=   9.3s\n",
      "[CV 1/5] END ....................max_depth=22;, score=-25.448 total time=   9.3s\n",
      "[CV 2/5] END ....................max_depth=22;, score=-23.931 total time=   9.5s\n",
      "[CV 3/5] END ....................max_depth=22;, score=-21.957 total time=   9.5s\n",
      "[CV 4/5] END ....................max_depth=22;, score=-21.142 total time=   9.8s\n",
      "[CV 5/5] END ....................max_depth=22;, score=-21.416 total time=  10.0s\n",
      "[CV 1/5] END ....................max_depth=23;, score=-25.448 total time=  10.1s\n",
      "[CV 2/5] END ....................max_depth=23;, score=-23.931 total time=  10.2s\n",
      "[CV 3/5] END ....................max_depth=23;, score=-21.957 total time=  10.1s\n",
      "[CV 4/5] END ....................max_depth=23;, score=-21.142 total time=   9.9s\n",
      "[CV 5/5] END ....................max_depth=23;, score=-21.416 total time=   9.9s\n",
      "[CV 1/5] END ....................max_depth=24;, score=-25.448 total time=   9.7s\n",
      "[CV 2/5] END ....................max_depth=24;, score=-23.931 total time=   7.3s\n",
      "[CV 3/5] END ....................max_depth=24;, score=-21.957 total time=   6.9s\n",
      "[CV 4/5] END ....................max_depth=24;, score=-21.142 total time=   6.6s\n",
      "[CV 5/5] END ....................max_depth=24;, score=-21.416 total time=   6.7s\n"
     ]
    },
    {
     "data": {
      "text/plain": [
       "GridSearchCV(cv=5,\n",
       "             estimator=RandomForestRegressor(min_samples_leaf=15,\n",
       "                                             n_estimators=163,\n",
       "                                             random_state=42),\n",
       "             n_jobs=-1,\n",
       "             param_grid={'max_depth': array([ 5,  6,  7,  8,  9, 10, 11, 12, 13, 14, 15, 16, 17, 18, 19, 20, 21,\n",
       "       22, 23, 24])},\n",
       "             scoring='neg_root_mean_squared_error', verbose=5)"
      ]
     },
     "execution_count": 28,
     "metadata": {},
     "output_type": "execute_result"
    }
   ],
   "source": [
    "gs.fit(X_train, y_train.ravel())"
   ]
  },
  {
   "cell_type": "code",
   "execution_count": 29,
   "metadata": {},
   "outputs": [
    {
     "name": "stdout",
     "output_type": "stream",
     "text": [
      "Best score: -22.778\n",
      "Best parameters: {'max_depth': 20}\n"
     ]
    }
   ],
   "source": [
    "# Best score\n",
    "print('Best score:', round(gs.best_score_, 3))\n",
    "\n",
    "# Best parameters\n",
    "print('Best parameters:', gs.best_params_)"
   ]
  },
  {
   "cell_type": "code",
   "execution_count": 30,
   "metadata": {},
   "outputs": [],
   "source": [
    "rcf_d_opt = RandomForestRegressor(random_state=RSEED ,n_estimators=163 , max_depth =20, criterion=\"squared_error\",verbose=5)"
   ]
  },
  {
   "cell_type": "code",
   "execution_count": 32,
   "metadata": {},
   "outputs": [
    {
     "name": "stderr",
     "output_type": "stream",
     "text": [
      "[Parallel(n_jobs=1)]: Using backend SequentialBackend with 1 concurrent workers.\n",
      "[Parallel(n_jobs=1)]: Done   1 out of   1 | elapsed:    0.1s remaining:    0.0s\n",
      "[Parallel(n_jobs=1)]: Done   2 out of   2 | elapsed:    0.1s remaining:    0.0s\n",
      "[Parallel(n_jobs=1)]: Done   3 out of   3 | elapsed:    0.2s remaining:    0.0s\n"
     ]
    },
    {
     "name": "stdout",
     "output_type": "stream",
     "text": [
      "building tree 1 of 163\n",
      "building tree 2 of 163\n",
      "building tree 3 of 163\n",
      "building tree 4 of 163\n"
     ]
    },
    {
     "name": "stderr",
     "output_type": "stream",
     "text": [
      "[Parallel(n_jobs=1)]: Done   4 out of   4 | elapsed:    0.2s remaining:    0.0s\n"
     ]
    },
    {
     "name": "stdout",
     "output_type": "stream",
     "text": [
      "building tree 5 of 163\n",
      "building tree 6 of 163\n",
      "building tree 7 of 163\n",
      "building tree 8 of 163\n",
      "building tree 9 of 163\n",
      "building tree 10 of 163\n",
      "building tree 11 of 163\n",
      "building tree 12 of 163\n",
      "building tree 13 of 163\n",
      "building tree 14 of 163\n",
      "building tree 15 of 163\n",
      "building tree 16 of 163\n",
      "building tree 17 of 163\n",
      "building tree 18 of 163\n",
      "building tree 19 of 163\n",
      "building tree 20 of 163\n",
      "building tree 21 of 163\n",
      "building tree 22 of 163\n",
      "building tree 23 of 163\n",
      "building tree 24 of 163\n",
      "building tree 25 of 163\n",
      "building tree 26 of 163\n",
      "building tree 27 of 163\n",
      "building tree 28 of 163\n",
      "building tree 29 of 163\n",
      "building tree 30 of 163\n",
      "building tree 31 of 163\n",
      "building tree 32 of 163\n",
      "building tree 33 of 163\n",
      "building tree 34 of 163\n",
      "building tree 35 of 163\n",
      "building tree 36 of 163\n",
      "building tree 37 of 163\n",
      "building tree 38 of 163\n",
      "building tree 39 of 163\n",
      "building tree 40 of 163\n",
      "building tree 41 of 163\n",
      "building tree 42 of 163\n",
      "building tree 43 of 163\n",
      "building tree 44 of 163\n",
      "building tree 45 of 163\n",
      "building tree 46 of 163\n",
      "building tree 47 of 163\n",
      "building tree 48 of 163\n",
      "building tree 49 of 163\n",
      "building tree 50 of 163\n",
      "building tree 51 of 163\n",
      "building tree 52 of 163\n",
      "building tree 53 of 163\n",
      "building tree 54 of 163\n",
      "building tree 55 of 163\n",
      "building tree 56 of 163\n",
      "building tree 57 of 163\n",
      "building tree 58 of 163\n",
      "building tree 59 of 163\n",
      "building tree 60 of 163\n",
      "building tree 61 of 163\n",
      "building tree 62 of 163\n",
      "building tree 63 of 163\n",
      "building tree 64 of 163\n",
      "building tree 65 of 163\n",
      "building tree 66 of 163\n",
      "building tree 67 of 163\n",
      "building tree 68 of 163\n",
      "building tree 69 of 163\n",
      "building tree 70 of 163\n",
      "building tree 71 of 163\n",
      "building tree 72 of 163\n",
      "building tree 73 of 163\n",
      "building tree 74 of 163\n",
      "building tree 75 of 163\n",
      "building tree 76 of 163\n",
      "building tree 77 of 163\n",
      "building tree 78 of 163\n",
      "building tree 79 of 163\n",
      "building tree 80 of 163\n",
      "building tree 81 of 163\n",
      "building tree 82 of 163\n",
      "building tree 83 of 163\n",
      "building tree 84 of 163\n",
      "building tree 85 of 163\n",
      "building tree 86 of 163\n",
      "building tree 87 of 163\n",
      "building tree 88 of 163\n",
      "building tree 89 of 163\n",
      "building tree 90 of 163\n",
      "building tree 91 of 163\n",
      "building tree 92 of 163\n",
      "building tree 93 of 163\n",
      "building tree 94 of 163\n",
      "building tree 95 of 163\n",
      "building tree 96 of 163\n",
      "building tree 97 of 163\n",
      "building tree 98 of 163\n",
      "building tree 99 of 163\n",
      "building tree 100 of 163\n",
      "building tree 101 of 163\n",
      "building tree 102 of 163\n",
      "building tree 103 of 163\n",
      "building tree 104 of 163\n",
      "building tree 105 of 163\n",
      "building tree 106 of 163\n",
      "building tree 107 of 163\n",
      "building tree 108 of 163\n",
      "building tree 109 of 163\n",
      "building tree 110 of 163\n",
      "building tree 111 of 163\n",
      "building tree 112 of 163\n",
      "building tree 113 of 163\n",
      "building tree 114 of 163\n",
      "building tree 115 of 163\n",
      "building tree 116 of 163\n",
      "building tree 117 of 163\n",
      "building tree 118 of 163\n",
      "building tree 119 of 163\n",
      "building tree 120 of 163\n",
      "building tree 121 of 163\n",
      "building tree 122 of 163\n",
      "building tree 123 of 163\n",
      "building tree 124 of 163\n",
      "building tree 125 of 163\n",
      "building tree 126 of 163\n",
      "building tree 127 of 163\n",
      "building tree 128 of 163\n",
      "building tree 129 of 163\n",
      "building tree 130 of 163\n",
      "building tree 131 of 163\n",
      "building tree 132 of 163\n",
      "building tree 133 of 163\n",
      "building tree 134 of 163\n",
      "building tree 135 of 163\n",
      "building tree 136 of 163\n",
      "building tree 137 of 163\n",
      "building tree 138 of 163\n",
      "building tree 139 of 163\n",
      "building tree 140 of 163\n",
      "building tree 141 of 163\n",
      "building tree 142 of 163\n",
      "building tree 143 of 163\n",
      "building tree 144 of 163\n",
      "building tree 145 of 163\n",
      "building tree 146 of 163\n",
      "building tree 147 of 163\n",
      "building tree 148 of 163\n",
      "building tree 149 of 163\n",
      "building tree 150 of 163\n",
      "building tree 151 of 163\n",
      "building tree 152 of 163\n",
      "building tree 153 of 163\n",
      "building tree 154 of 163\n",
      "building tree 155 of 163\n",
      "building tree 156 of 163\n",
      "building tree 157 of 163\n",
      "building tree 158 of 163\n",
      "building tree 159 of 163\n",
      "building tree 160 of 163\n",
      "building tree 161 of 163\n",
      "building tree 162 of 163\n",
      "building tree 163 of 163\n"
     ]
    },
    {
     "name": "stderr",
     "output_type": "stream",
     "text": [
      "[Parallel(n_jobs=1)]: Done 163 out of 163 | elapsed:   10.4s finished\n"
     ]
    },
    {
     "data": {
      "text/plain": [
       "RandomForestRegressor(max_depth=20, n_estimators=163, random_state=42,\n",
       "                      verbose=5)"
      ]
     },
     "execution_count": 32,
     "metadata": {},
     "output_type": "execute_result"
    }
   ],
   "source": [
    "rcf_d_opt.fit(X_train, y_train.ravel())"
   ]
  },
  {
   "cell_type": "code",
   "execution_count": 36,
   "metadata": {},
   "outputs": [
    {
     "name": "stderr",
     "output_type": "stream",
     "text": [
      "[Parallel(n_jobs=1)]: Using backend SequentialBackend with 1 concurrent workers.\n",
      "[Parallel(n_jobs=1)]: Done   1 out of   1 | elapsed:    0.0s remaining:    0.0s\n",
      "[Parallel(n_jobs=1)]: Done   2 out of   2 | elapsed:    0.0s remaining:    0.0s\n",
      "[Parallel(n_jobs=1)]: Done   3 out of   3 | elapsed:    0.0s remaining:    0.0s\n",
      "[Parallel(n_jobs=1)]: Done   4 out of   4 | elapsed:    0.0s remaining:    0.0s\n",
      "[Parallel(n_jobs=1)]: Done 163 out of 163 | elapsed:    0.1s finished\n",
      "[Parallel(n_jobs=1)]: Using backend SequentialBackend with 1 concurrent workers.\n",
      "[Parallel(n_jobs=1)]: Done   1 out of   1 | elapsed:    0.0s remaining:    0.0s\n",
      "[Parallel(n_jobs=1)]: Done   2 out of   2 | elapsed:    0.0s remaining:    0.0s\n",
      "[Parallel(n_jobs=1)]: Done   3 out of   3 | elapsed:    0.0s remaining:    0.0s\n",
      "[Parallel(n_jobs=1)]: Done   4 out of   4 | elapsed:    0.0s remaining:    0.0s\n",
      "[Parallel(n_jobs=1)]: Done 163 out of 163 | elapsed:    0.1s finished\n"
     ]
    }
   ],
   "source": [
    "y_pred_train = rcf_d_opt.predict(X_train)\n",
    "y_pred_test = rcf_d_opt.predict(X_test)"
   ]
  },
  {
   "cell_type": "code",
   "execution_count": 37,
   "metadata": {},
   "outputs": [],
   "source": [
    "rmse_train = rmse(y_train, y_pred_train)\n",
    "rmse_test= rmse(y_test, y_pred_test)"
   ]
  },
  {
   "cell_type": "code",
   "execution_count": 38,
   "metadata": {},
   "outputs": [
    {
     "data": {
      "image/png": "[encoded data removed]",
      "text/plain": [
       "<Figure size 1080x360 with 2 Axes>"
      ]
     },
     "metadata": {},
     "output_type": "display_data"
    }
   ],
   "source": [
    "error_analysis(y_test, y_pred_test)"
   ]
  },
  {
   "cell_type": "code",
   "execution_count": null,
   "metadata": {},
   "outputs": [],
   "source": []
  }
 ],
 "metadata": {
  "interpreter": {
   "hash": "2e7abca54acc13c53ef3404d75211e27b5076aad57df6065b7009d7b1b84f2d4"
  },
  "kernelspec": {
   "display_name": "Python 3.9.4 ('.venv': venv)",
   "language": "python",
   "name": "python3"
  },
  "language_info": {
   "codemirror_mode": {
    "name": "ipython",
    "version": 3
   },
   "file_extension": ".py",
   "mimetype": "text/x-python",
   "name": "python",
   "nbconvert_exporter": "python",
   "pygments_lexer": "ipython3",
   "version": "3.9.4"
  },
  "orig_nbformat": 4
 },
 "nbformat": 4,
 "nbformat_minor": 2
}
