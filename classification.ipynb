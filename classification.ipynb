{
 "cells": [
  {
   "cell_type": "code",
   "execution_count": 104,
   "metadata": {},
   "outputs": [],
   "source": [
    "import pandas as pd\n",
    "import numpy as np\n",
    "import warnings\n",
    "\n",
    "import seaborn as sns\n",
    "import matplotlib.pyplot as plt\n",
    "\n",
    "from scipy.stats import boxcox\n",
    "warnings.filterwarnings('ignore')\n",
    "\n",
    "RSEED=42\n"
   ]
  },
  {
   "cell_type": "code",
   "execution_count": 115,
   "metadata": {},
   "outputs": [],
   "source": [
    "data =  pd.read_csv(\"./data/data_classification.csv\", index_col=[0])"
   ]
  },
  {
   "cell_type": "code",
   "execution_count": 116,
   "metadata": {},
   "outputs": [],
   "source": [
    "data=data.dropna(subset=[\"target\",\"Bi_airquality\",\t\"trafic_airquality\",\t\"6fold_airquality\"])"
   ]
  },
  {
   "cell_type": "code",
   "execution_count": 117,
   "metadata": {},
   "outputs": [
    {
     "data": {
      "text/html": [
       "<div>\n",
       "<style scoped>\n",
       "    .dataframe tbody tr th:only-of-type {\n",
       "        vertical-align: middle;\n",
       "    }\n",
       "\n",
       "    .dataframe tbody tr th {\n",
       "        vertical-align: top;\n",
       "    }\n",
       "\n",
       "    .dataframe thead th {\n",
       "        text-align: right;\n",
       "    }\n",
       "</style>\n",
       "<table border=\"1\" class=\"dataframe\">\n",
       "  <thead>\n",
       "    <tr style=\"text-align: right;\">\n",
       "      <th></th>\n",
       "      <th>ID</th>\n",
       "      <th>location</th>\n",
       "      <th>temp</th>\n",
       "      <th>precip</th>\n",
       "      <th>rel_humidity</th>\n",
       "      <th>wind_dir</th>\n",
       "      <th>wind_spd</th>\n",
       "      <th>atmos_press</th>\n",
       "      <th>target</th>\n",
       "      <th>max_temp</th>\n",
       "      <th>...</th>\n",
       "      <th>min_atmos_press</th>\n",
       "      <th>mean_atmos_press</th>\n",
       "      <th>std_atmos_press</th>\n",
       "      <th>var_atmos_press</th>\n",
       "      <th>median_atmos_press</th>\n",
       "      <th>ptp_atmos_press</th>\n",
       "      <th>target_log</th>\n",
       "      <th>Bi_airquality</th>\n",
       "      <th>trafic_airquality</th>\n",
       "      <th>6fold_airquality</th>\n",
       "    </tr>\n",
       "  </thead>\n",
       "  <tbody>\n",
       "    <tr>\n",
       "      <th>0</th>\n",
       "      <td>ID_train_0</td>\n",
       "      <td>2</td>\n",
       "      <td>[26.90909091, 27.20833333, 26.18333333, 24.7, ...</td>\n",
       "      <td>[0.0, 0.0, 0.0, 0.0, 0.0, 0.0, 0.0, 0.0, 0.0, ...</td>\n",
       "      <td>[0.5108181820000001, 0.535416667, 0.6145, 0.63...</td>\n",
       "      <td>[272.90275160000004, 104.565241, 167.1772247, ...</td>\n",
       "      <td>[0.800909091, 1.073333333, 1.5175, 1.4625, 0.5...</td>\n",
       "      <td>[87.77727273, 87.6525, 87.61416667, 87.6375, 8...</td>\n",
       "      <td>45.126304</td>\n",
       "      <td>27.208333</td>\n",
       "      <td>...</td>\n",
       "      <td>87.614167</td>\n",
       "      <td>87.752434</td>\n",
       "      <td>0.070374</td>\n",
       "      <td>0.004952</td>\n",
       "      <td>87.762083</td>\n",
       "      <td>0.257500</td>\n",
       "      <td>3.831383</td>\n",
       "      <td>0.0</td>\n",
       "      <td>2.0</td>\n",
       "      <td>3.0</td>\n",
       "    </tr>\n",
       "    <tr>\n",
       "      <th>1</th>\n",
       "      <td>ID_train_1</td>\n",
       "      <td>3</td>\n",
       "      <td>[22.53333333, 21.71666667, 20.83333333, 20.983...</td>\n",
       "      <td>[0.102, 0.0, 0.0, 0.0, 0.0, 0.0, 0.0, 0.034, 0...</td>\n",
       "      <td>[0.744583333, 0.808083333, 0.911166667, 0.9163...</td>\n",
       "      <td>[281.6643101, 89.15629262, 81.96853891, 291.01...</td>\n",
       "      <td>[2.3775, 1.126666667, 0.700833333, 0.341666667...</td>\n",
       "      <td>[90.32, 90.3775, 90.44083333, 90.4725, 90.4541...</td>\n",
       "      <td>79.131702</td>\n",
       "      <td>33.616667</td>\n",
       "      <td>...</td>\n",
       "      <td>90.056667</td>\n",
       "      <td>90.429924</td>\n",
       "      <td>0.156000</td>\n",
       "      <td>0.024336</td>\n",
       "      <td>90.429167</td>\n",
       "      <td>0.668333</td>\n",
       "      <td>4.383672</td>\n",
       "      <td>0.0</td>\n",
       "      <td>2.0</td>\n",
       "      <td>4.0</td>\n",
       "    </tr>\n",
       "    <tr>\n",
       "      <th>2</th>\n",
       "      <td>ID_train_10</td>\n",
       "      <td>0</td>\n",
       "      <td>[28.975, 27.95, 29.6, 26.425, 22.09166667, 21....</td>\n",
       "      <td>[0.0, 0.0, 0.0, 0.102, 0.136, 0.0, 0.0, 2.16, ...</td>\n",
       "      <td>[0.573333333, 0.597166667, 0.5668333329999999,...</td>\n",
       "      <td>[328.68291380000005, 307.8251459, 319.0177512,...</td>\n",
       "      <td>[1.0325, 1.193333333, 1.275833333, 1.493333333...</td>\n",
       "      <td>[88.55166667, 88.46416667, 88.31916667, 88.24,...</td>\n",
       "      <td>32.661304</td>\n",
       "      <td>31.841667</td>\n",
       "      <td>...</td>\n",
       "      <td>87.982500</td>\n",
       "      <td>88.420931</td>\n",
       "      <td>0.179481</td>\n",
       "      <td>0.032213</td>\n",
       "      <td>88.425000</td>\n",
       "      <td>0.830833</td>\n",
       "      <td>3.516349</td>\n",
       "      <td>1.0</td>\n",
       "      <td>1.0</td>\n",
       "      <td>2.0</td>\n",
       "    </tr>\n",
       "    <tr>\n",
       "      <th>3</th>\n",
       "      <td>ID_train_100</td>\n",
       "      <td>0</td>\n",
       "      <td>[22.96666667, 24.26666667, 25.275, 25.625, 25....</td>\n",
       "      <td>[0.0, 0.0, 0.0, 0.0, 0.0, 0.0, 0.0, 0.0, 7.77,...</td>\n",
       "      <td>[0.8430833329999999, 0.79025, 0.7375, 0.728, 0...</td>\n",
       "      <td>[300.0850574, 293.6769595, 294.5174647, 301.92...</td>\n",
       "      <td>[1.446666667, 1.1925, 1.324166667, 1.544166666...</td>\n",
       "      <td>[88.615, 88.53083333, 88.4, 88.27166667, 88.20...</td>\n",
       "      <td>53.850238</td>\n",
       "      <td>27.491667</td>\n",
       "      <td>...</td>\n",
       "      <td>87.965000</td>\n",
       "      <td>88.376915</td>\n",
       "      <td>0.161758</td>\n",
       "      <td>0.026166</td>\n",
       "      <td>88.400000</td>\n",
       "      <td>0.720000</td>\n",
       "      <td>4.004607</td>\n",
       "      <td>0.0</td>\n",
       "      <td>2.0</td>\n",
       "      <td>3.0</td>\n",
       "    </tr>\n",
       "    <tr>\n",
       "      <th>4</th>\n",
       "      <td>ID_train_1000</td>\n",
       "      <td>0</td>\n",
       "      <td>[21.875, 21.575, 21.525, 21.43333333, 20.50833...</td>\n",
       "      <td>[0.0, 0.0, 0.0, 0.0, 0.0, 0.0, 0.0, 0.0, 0.0, ...</td>\n",
       "      <td>[0.8564166670000001, 0.874916667, 0.879833333,...</td>\n",
       "      <td>[21.83997432, 17.05405341, 89.26406044, 123.58...</td>\n",
       "      <td>[0.1975, 0.244166667, 0.411666667, 0.56, 0.577...</td>\n",
       "      <td>[88.55666667, 88.64083333, 88.65833333, 88.647...</td>\n",
       "      <td>177.418750</td>\n",
       "      <td>28.750000</td>\n",
       "      <td>...</td>\n",
       "      <td>88.268333</td>\n",
       "      <td>88.538104</td>\n",
       "      <td>0.118369</td>\n",
       "      <td>0.014011</td>\n",
       "      <td>88.552500</td>\n",
       "      <td>0.450833</td>\n",
       "      <td>5.184133</td>\n",
       "      <td>0.0</td>\n",
       "      <td>3.0</td>\n",
       "      <td>5.0</td>\n",
       "    </tr>\n",
       "  </tbody>\n",
       "</table>\n",
       "<p>5 rows × 55 columns</p>\n",
       "</div>"
      ],
      "text/plain": [
       "              ID  location                                               temp  \\\n",
       "0     ID_train_0         2  [26.90909091, 27.20833333, 26.18333333, 24.7, ...   \n",
       "1     ID_train_1         3  [22.53333333, 21.71666667, 20.83333333, 20.983...   \n",
       "2    ID_train_10         0  [28.975, 27.95, 29.6, 26.425, 22.09166667, 21....   \n",
       "3   ID_train_100         0  [22.96666667, 24.26666667, 25.275, 25.625, 25....   \n",
       "4  ID_train_1000         0  [21.875, 21.575, 21.525, 21.43333333, 20.50833...   \n",
       "\n",
       "                                              precip  \\\n",
       "0  [0.0, 0.0, 0.0, 0.0, 0.0, 0.0, 0.0, 0.0, 0.0, ...   \n",
       "1  [0.102, 0.0, 0.0, 0.0, 0.0, 0.0, 0.0, 0.034, 0...   \n",
       "2  [0.0, 0.0, 0.0, 0.102, 0.136, 0.0, 0.0, 2.16, ...   \n",
       "3  [0.0, 0.0, 0.0, 0.0, 0.0, 0.0, 0.0, 0.0, 7.77,...   \n",
       "4  [0.0, 0.0, 0.0, 0.0, 0.0, 0.0, 0.0, 0.0, 0.0, ...   \n",
       "\n",
       "                                        rel_humidity  \\\n",
       "0  [0.5108181820000001, 0.535416667, 0.6145, 0.63...   \n",
       "1  [0.744583333, 0.808083333, 0.911166667, 0.9163...   \n",
       "2  [0.573333333, 0.597166667, 0.5668333329999999,...   \n",
       "3  [0.8430833329999999, 0.79025, 0.7375, 0.728, 0...   \n",
       "4  [0.8564166670000001, 0.874916667, 0.879833333,...   \n",
       "\n",
       "                                            wind_dir  \\\n",
       "0  [272.90275160000004, 104.565241, 167.1772247, ...   \n",
       "1  [281.6643101, 89.15629262, 81.96853891, 291.01...   \n",
       "2  [328.68291380000005, 307.8251459, 319.0177512,...   \n",
       "3  [300.0850574, 293.6769595, 294.5174647, 301.92...   \n",
       "4  [21.83997432, 17.05405341, 89.26406044, 123.58...   \n",
       "\n",
       "                                            wind_spd  \\\n",
       "0  [0.800909091, 1.073333333, 1.5175, 1.4625, 0.5...   \n",
       "1  [2.3775, 1.126666667, 0.700833333, 0.341666667...   \n",
       "2  [1.0325, 1.193333333, 1.275833333, 1.493333333...   \n",
       "3  [1.446666667, 1.1925, 1.324166667, 1.544166666...   \n",
       "4  [0.1975, 0.244166667, 0.411666667, 0.56, 0.577...   \n",
       "\n",
       "                                         atmos_press      target   max_temp  \\\n",
       "0  [87.77727273, 87.6525, 87.61416667, 87.6375, 8...   45.126304  27.208333   \n",
       "1  [90.32, 90.3775, 90.44083333, 90.4725, 90.4541...   79.131702  33.616667   \n",
       "2  [88.55166667, 88.46416667, 88.31916667, 88.24,...   32.661304  31.841667   \n",
       "3  [88.615, 88.53083333, 88.4, 88.27166667, 88.20...   53.850238  27.491667   \n",
       "4  [88.55666667, 88.64083333, 88.65833333, 88.647...  177.418750  28.750000   \n",
       "\n",
       "   ...  min_atmos_press  mean_atmos_press  std_atmos_press  var_atmos_press  \\\n",
       "0  ...        87.614167         87.752434         0.070374         0.004952   \n",
       "1  ...        90.056667         90.429924         0.156000         0.024336   \n",
       "2  ...        87.982500         88.420931         0.179481         0.032213   \n",
       "3  ...        87.965000         88.376915         0.161758         0.026166   \n",
       "4  ...        88.268333         88.538104         0.118369         0.014011   \n",
       "\n",
       "   median_atmos_press  ptp_atmos_press  target_log  Bi_airquality  \\\n",
       "0           87.762083         0.257500    3.831383            0.0   \n",
       "1           90.429167         0.668333    4.383672            0.0   \n",
       "2           88.425000         0.830833    3.516349            1.0   \n",
       "3           88.400000         0.720000    4.004607            0.0   \n",
       "4           88.552500         0.450833    5.184133            0.0   \n",
       "\n",
       "   trafic_airquality  6fold_airquality  \n",
       "0                2.0               3.0  \n",
       "1                2.0               4.0  \n",
       "2                1.0               2.0  \n",
       "3                2.0               3.0  \n",
       "4                3.0               5.0  \n",
       "\n",
       "[5 rows x 55 columns]"
      ]
     },
     "execution_count": 117,
     "metadata": {},
     "output_type": "execute_result"
    }
   ],
   "source": [
    "data.head()"
   ]
  },
  {
   "cell_type": "markdown",
   "metadata": {},
   "source": [
    "## Bi KNN"
   ]
  },
  {
   "cell_type": "code",
   "execution_count": 118,
   "metadata": {},
   "outputs": [],
   "source": [
    "from sklearn.datasets import load_breast_cancer\n",
    "from sklearn.metrics import confusion_matrix, accuracy_score, recall_score\n",
    "from sklearn.neighbors import KNeighborsClassifier\n",
    "from sklearn.model_selection import train_test_split"
   ]
  },
  {
   "cell_type": "code",
   "execution_count": 119,
   "metadata": {},
   "outputs": [],
   "source": [
    " data_b = data.drop([\"ID\", \"temp\", \"precip\", \"rel_humidity\", \"wind_dir\", \"wind_spd\", \"atmos_press\" ,\"trafic_airquality\",\"6fold_airquality\",\"target_log\", \"target\"], axis= 1)"
   ]
  },
  {
   "cell_type": "code",
   "execution_count": 120,
   "metadata": {},
   "outputs": [
    {
     "data": {
      "text/html": [
       "<div>\n",
       "<style scoped>\n",
       "    .dataframe tbody tr th:only-of-type {\n",
       "        vertical-align: middle;\n",
       "    }\n",
       "\n",
       "    .dataframe tbody tr th {\n",
       "        vertical-align: top;\n",
       "    }\n",
       "\n",
       "    .dataframe thead th {\n",
       "        text-align: right;\n",
       "    }\n",
       "</style>\n",
       "<table border=\"1\" class=\"dataframe\">\n",
       "  <thead>\n",
       "    <tr style=\"text-align: right;\">\n",
       "      <th></th>\n",
       "      <th>location</th>\n",
       "      <th>max_temp</th>\n",
       "      <th>min_temp</th>\n",
       "      <th>mean_temp</th>\n",
       "      <th>std_temp</th>\n",
       "      <th>var_temp</th>\n",
       "      <th>median_temp</th>\n",
       "      <th>ptp_temp</th>\n",
       "      <th>max_precip</th>\n",
       "      <th>min_precip</th>\n",
       "      <th>...</th>\n",
       "      <th>median_wind_spd</th>\n",
       "      <th>ptp_wind_spd</th>\n",
       "      <th>max_atmos_press</th>\n",
       "      <th>min_atmos_press</th>\n",
       "      <th>mean_atmos_press</th>\n",
       "      <th>std_atmos_press</th>\n",
       "      <th>var_atmos_press</th>\n",
       "      <th>median_atmos_press</th>\n",
       "      <th>ptp_atmos_press</th>\n",
       "      <th>Bi_airquality</th>\n",
       "    </tr>\n",
       "  </thead>\n",
       "  <tbody>\n",
       "    <tr>\n",
       "      <th>0</th>\n",
       "      <td>2</td>\n",
       "      <td>27.208333</td>\n",
       "      <td>19.275000</td>\n",
       "      <td>22.299527</td>\n",
       "      <td>2.594011</td>\n",
       "      <td>6.728895</td>\n",
       "      <td>21.358333</td>\n",
       "      <td>7.933333</td>\n",
       "      <td>0.000</td>\n",
       "      <td>0.0</td>\n",
       "      <td>...</td>\n",
       "      <td>0.666250</td>\n",
       "      <td>1.355000</td>\n",
       "      <td>87.871667</td>\n",
       "      <td>87.614167</td>\n",
       "      <td>87.752434</td>\n",
       "      <td>0.070374</td>\n",
       "      <td>0.004952</td>\n",
       "      <td>87.762083</td>\n",
       "      <td>0.257500</td>\n",
       "      <td>0.0</td>\n",
       "    </tr>\n",
       "    <tr>\n",
       "      <th>1</th>\n",
       "      <td>3</td>\n",
       "      <td>33.616667</td>\n",
       "      <td>17.983333</td>\n",
       "      <td>24.679063</td>\n",
       "      <td>4.266955</td>\n",
       "      <td>18.206903</td>\n",
       "      <td>23.791667</td>\n",
       "      <td>15.633333</td>\n",
       "      <td>0.561</td>\n",
       "      <td>0.0</td>\n",
       "      <td>...</td>\n",
       "      <td>0.744167</td>\n",
       "      <td>2.760833</td>\n",
       "      <td>90.725000</td>\n",
       "      <td>90.056667</td>\n",
       "      <td>90.429924</td>\n",
       "      <td>0.156000</td>\n",
       "      <td>0.024336</td>\n",
       "      <td>90.429167</td>\n",
       "      <td>0.668333</td>\n",
       "      <td>0.0</td>\n",
       "    </tr>\n",
       "    <tr>\n",
       "      <th>2</th>\n",
       "      <td>0</td>\n",
       "      <td>31.841667</td>\n",
       "      <td>18.458333</td>\n",
       "      <td>24.112317</td>\n",
       "      <td>3.776377</td>\n",
       "      <td>14.261020</td>\n",
       "      <td>23.304167</td>\n",
       "      <td>13.383333</td>\n",
       "      <td>7.804</td>\n",
       "      <td>0.0</td>\n",
       "      <td>...</td>\n",
       "      <td>0.942500</td>\n",
       "      <td>2.420000</td>\n",
       "      <td>88.813333</td>\n",
       "      <td>87.982500</td>\n",
       "      <td>88.420931</td>\n",
       "      <td>0.179481</td>\n",
       "      <td>0.032213</td>\n",
       "      <td>88.425000</td>\n",
       "      <td>0.830833</td>\n",
       "      <td>1.0</td>\n",
       "    </tr>\n",
       "    <tr>\n",
       "      <th>3</th>\n",
       "      <td>0</td>\n",
       "      <td>27.491667</td>\n",
       "      <td>16.941667</td>\n",
       "      <td>20.845273</td>\n",
       "      <td>3.080140</td>\n",
       "      <td>9.487259</td>\n",
       "      <td>19.541667</td>\n",
       "      <td>10.550000</td>\n",
       "      <td>25.787</td>\n",
       "      <td>0.0</td>\n",
       "      <td>...</td>\n",
       "      <td>1.388333</td>\n",
       "      <td>2.469167</td>\n",
       "      <td>88.685000</td>\n",
       "      <td>87.965000</td>\n",
       "      <td>88.376915</td>\n",
       "      <td>0.161758</td>\n",
       "      <td>0.026166</td>\n",
       "      <td>88.400000</td>\n",
       "      <td>0.720000</td>\n",
       "      <td>0.0</td>\n",
       "    </tr>\n",
       "    <tr>\n",
       "      <th>4</th>\n",
       "      <td>0</td>\n",
       "      <td>28.750000</td>\n",
       "      <td>17.525000</td>\n",
       "      <td>21.870732</td>\n",
       "      <td>3.286870</td>\n",
       "      <td>10.803515</td>\n",
       "      <td>20.950000</td>\n",
       "      <td>11.225000</td>\n",
       "      <td>0.136</td>\n",
       "      <td>0.0</td>\n",
       "      <td>...</td>\n",
       "      <td>0.542917</td>\n",
       "      <td>1.796667</td>\n",
       "      <td>88.719167</td>\n",
       "      <td>88.268333</td>\n",
       "      <td>88.538104</td>\n",
       "      <td>0.118369</td>\n",
       "      <td>0.014011</td>\n",
       "      <td>88.552500</td>\n",
       "      <td>0.450833</td>\n",
       "      <td>0.0</td>\n",
       "    </tr>\n",
       "  </tbody>\n",
       "</table>\n",
       "<p>5 rows × 44 columns</p>\n",
       "</div>"
      ],
      "text/plain": [
       "   location   max_temp   min_temp  mean_temp  std_temp   var_temp  \\\n",
       "0         2  27.208333  19.275000  22.299527  2.594011   6.728895   \n",
       "1         3  33.616667  17.983333  24.679063  4.266955  18.206903   \n",
       "2         0  31.841667  18.458333  24.112317  3.776377  14.261020   \n",
       "3         0  27.491667  16.941667  20.845273  3.080140   9.487259   \n",
       "4         0  28.750000  17.525000  21.870732  3.286870  10.803515   \n",
       "\n",
       "   median_temp   ptp_temp  max_precip  min_precip  ...  median_wind_spd  \\\n",
       "0    21.358333   7.933333       0.000         0.0  ...         0.666250   \n",
       "1    23.791667  15.633333       0.561         0.0  ...         0.744167   \n",
       "2    23.304167  13.383333       7.804         0.0  ...         0.942500   \n",
       "3    19.541667  10.550000      25.787         0.0  ...         1.388333   \n",
       "4    20.950000  11.225000       0.136         0.0  ...         0.542917   \n",
       "\n",
       "   ptp_wind_spd  max_atmos_press  min_atmos_press  mean_atmos_press  \\\n",
       "0      1.355000        87.871667        87.614167         87.752434   \n",
       "1      2.760833        90.725000        90.056667         90.429924   \n",
       "2      2.420000        88.813333        87.982500         88.420931   \n",
       "3      2.469167        88.685000        87.965000         88.376915   \n",
       "4      1.796667        88.719167        88.268333         88.538104   \n",
       "\n",
       "   std_atmos_press  var_atmos_press  median_atmos_press  ptp_atmos_press  \\\n",
       "0         0.070374         0.004952           87.762083         0.257500   \n",
       "1         0.156000         0.024336           90.429167         0.668333   \n",
       "2         0.179481         0.032213           88.425000         0.830833   \n",
       "3         0.161758         0.026166           88.400000         0.720000   \n",
       "4         0.118369         0.014011           88.552500         0.450833   \n",
       "\n",
       "   Bi_airquality  \n",
       "0            0.0  \n",
       "1            0.0  \n",
       "2            1.0  \n",
       "3            0.0  \n",
       "4            0.0  \n",
       "\n",
       "[5 rows x 44 columns]"
      ]
     },
     "execution_count": 120,
     "metadata": {},
     "output_type": "execute_result"
    }
   ],
   "source": [
    "data_b.head()"
   ]
  },
  {
   "cell_type": "code",
   "execution_count": 121,
   "metadata": {},
   "outputs": [],
   "source": [
    "y=data_b[\"Bi_airquality\"]\n",
    "X= np.array(data_b.drop([\"Bi_airquality\"], axis =1),ndmin=2)"
   ]
  },
  {
   "cell_type": "code",
   "execution_count": 122,
   "metadata": {},
   "outputs": [],
   "source": [
    "X_train, X_test, y_train, y_test = train_test_split(X, y, test_size=0.3, random_state=RSEED)"
   ]
  },
  {
   "cell_type": "code",
   "execution_count": 123,
   "metadata": {},
   "outputs": [
    {
     "data": {
      "text/plain": [
       "(10877, 43)"
      ]
     },
     "metadata": {},
     "output_type": "display_data"
    },
    {
     "data": {
      "text/plain": [
       "(10877,)"
      ]
     },
     "metadata": {},
     "output_type": "display_data"
    }
   ],
   "source": [
    "display(X_train.shape, y_train.shape)"
   ]
  },
  {
   "cell_type": "code",
   "execution_count": 124,
   "metadata": {},
   "outputs": [
    {
     "data": {
      "text/plain": [
       "KNeighborsClassifier(metric='euclidean')"
      ]
     },
     "execution_count": 124,
     "metadata": {},
     "output_type": "execute_result"
    }
   ],
   "source": [
    "knn = KNeighborsClassifier(n_neighbors=5, metric='euclidean')\n",
    "knn.fit(X_train, np.ravel(y_train))"
   ]
  },
  {
   "cell_type": "code",
   "execution_count": 125,
   "metadata": {},
   "outputs": [
    {
     "name": "stdout",
     "output_type": "stream",
     "text": [
      "Accuracy: 0.74\n",
      "Recall: 0.4\n",
      "--------------------------------------------------\n"
     ]
    },
    {
     "data": {
      "image/png": "[encoded data removed]",
      "text/plain": [
       "<Figure size 432x288 with 2 Axes>"
      ]
     },
     "metadata": {
      "needs_background": "light"
     },
     "output_type": "display_data"
    }
   ],
   "source": [
    "# Predict on test set\n",
    "y_pred = knn.predict(X_test)\n",
    "\n",
    "# Print accuracy score \n",
    "print(\"Accuracy:\", accuracy_score(y_test, y_pred).round(2))\n",
    "print(\"Recall:\", recall_score(y_test, y_pred).round(2))\n",
    "print(\"-----\"*10)\n",
    "\n",
    "# Print confusion matrix\n",
    "sns.heatmap(confusion_matrix(y_test, y_pred), annot=True, cmap='YlGn');"
   ]
  },
  {
   "cell_type": "markdown",
   "metadata": {},
   "source": [
    "## Randomforest, adaboost"
   ]
  },
  {
   "cell_type": "code",
   "execution_count": 127,
   "metadata": {},
   "outputs": [],
   "source": [
    "from sklearn.ensemble import RandomForestClassifier, AdaBoostClassifier"
   ]
  },
  {
   "cell_type": "code",
   "execution_count": 134,
   "metadata": {},
   "outputs": [
    {
     "name": "stderr",
     "output_type": "stream",
     "text": [
      "[Parallel(n_jobs=-1)]: Using backend ThreadingBackend with 8 concurrent workers.\n",
      "[Parallel(n_jobs=-1)]: Done  34 tasks      | elapsed:    0.4s\n",
      "[Parallel(n_jobs=-1)]: Done 100 out of 100 | elapsed:    1.0s finished\n"
     ]
    },
    {
     "data": {
      "text/plain": [
       "RandomForestClassifier(max_features='sqrt', n_jobs=-1, random_state=42,\n",
       "                       verbose=1)"
      ]
     },
     "execution_count": 134,
     "metadata": {},
     "output_type": "execute_result"
    }
   ],
   "source": [
    "rfc = RandomForestClassifier(n_estimators=100, \n",
    "                               random_state=RSEED, \n",
    "                               max_features = 'sqrt',\n",
    "                               n_jobs=-1, verbose = 1)\n",
    "\n",
    "# Fit on training data\n",
    "rfc.fit(X_train, y_train)"
   ]
  },
  {
   "cell_type": "code",
   "execution_count": 136,
   "metadata": {},
   "outputs": [
    {
     "name": "stdout",
     "output_type": "stream",
     "text": [
      "Average number of nodes 2512\n",
      "Average maximum depth 29\n"
     ]
    }
   ],
   "source": [
    "n_nodes = []\n",
    "max_depths = []\n",
    "\n",
    "for ind_tree in rfc.estimators_:\n",
    "    n_nodes.append(ind_tree.tree_.node_count)\n",
    "    max_depths.append(ind_tree.tree_.max_depth)\n",
    "    \n",
    "print(f'Average number of nodes {int(np.mean(n_nodes))}')\n",
    "print(f'Average maximum depth {int(np.mean(max_depths))}')"
   ]
  },
  {
   "cell_type": "code",
   "execution_count": 138,
   "metadata": {},
   "outputs": [
    {
     "name": "stderr",
     "output_type": "stream",
     "text": [
      "[Parallel(n_jobs=8)]: Using backend ThreadingBackend with 8 concurrent workers.\n",
      "[Parallel(n_jobs=8)]: Done  34 tasks      | elapsed:    0.0s\n",
      "[Parallel(n_jobs=8)]: Done 100 out of 100 | elapsed:    0.1s finished\n",
      "[Parallel(n_jobs=8)]: Using backend ThreadingBackend with 8 concurrent workers.\n",
      "[Parallel(n_jobs=8)]: Done  34 tasks      | elapsed:    0.0s\n",
      "[Parallel(n_jobs=8)]: Done 100 out of 100 | elapsed:    0.1s finished\n",
      "[Parallel(n_jobs=8)]: Using backend ThreadingBackend with 8 concurrent workers.\n",
      "[Parallel(n_jobs=8)]: Done  34 tasks      | elapsed:    0.0s\n",
      "[Parallel(n_jobs=8)]: Done 100 out of 100 | elapsed:    0.0s finished\n",
      "[Parallel(n_jobs=8)]: Using backend ThreadingBackend with 8 concurrent workers.\n",
      "[Parallel(n_jobs=8)]: Done  34 tasks      | elapsed:    0.0s\n",
      "[Parallel(n_jobs=8)]: Done 100 out of 100 | elapsed:    0.1s finished\n"
     ]
    }
   ],
   "source": [
    "train_rf_predictions = rfc.predict(X_train)\n",
    "train_rf_probs = rfc.predict_proba(X_train)[:, 1]\n",
    "\n",
    "rf_predictions = rfc.predict(X_test)\n",
    "rf_probs = rfc.predict_proba(X_test)[:, 1]"
   ]
  },
  {
   "cell_type": "code",
   "execution_count": 141,
   "metadata": {},
   "outputs": [],
   "source": [
    "def evaluate_model(predictions, probs, train_predictions, train_probs):\n",
    "    \"\"\"Compare machine learning model to baseline performance.\n",
    "    Computes statistics and shows ROC curve.\"\"\"\n",
    "    \n",
    "    baseline = {}\n",
    "    \n",
    "    baseline['recall'] = recall_score(test_labels, [1 for _ in range(len(test_labels))])\n",
    "    baseline['precision'] = precision_score(test_labels, [1 for _ in range(len(test_labels))])\n",
    "    baseline['roc'] = 0.5\n",
    "    \n",
    "    results = {}\n",
    "    \n",
    "    results['recall'] = recall_score(test_labels, predictions)\n",
    "    results['precision'] = precision_score(test_labels, predictions)\n",
    "    results['roc'] = roc_auc_score(test_labels, probs)\n",
    "    \n",
    "    train_results = {}\n",
    "    train_results['recall'] = recall_score(train_labels, train_predictions)\n",
    "    train_results['precision'] = precision_score(train_labels, train_predictions)\n",
    "    train_results['roc'] = roc_auc_score(train_labels, train_probs)\n",
    "    \n",
    "    for metric in ['recall', 'precision', 'roc']:\n",
    "        print(f'{metric.capitalize()} Baseline: {round(baseline[metric], 2)} Test: {round(results[metric], 2)} Train: {round(train_results[metric], 2)}')\n",
    "    \n",
    "    # Calculate false positive rates and true positive rates\n",
    "    base_fpr, base_tpr, _ = roc_curve(test_labels, [1 for _ in range(len(test_labels))])\n",
    "    model_fpr, model_tpr, _ = roc_curve(test_labels, probs)\n",
    "\n",
    "    plt.figure(figsize = (8, 6))\n",
    "    plt.rcParams['font.size'] = 16\n",
    "    \n",
    "    # Plot both curves\n",
    "    plt.plot(base_fpr, base_tpr, 'b', label = 'baseline')\n",
    "    plt.plot(model_fpr, model_tpr, 'r', label = 'model')\n",
    "    plt.legend();\n",
    "    plt.xlabel('False Positive Rate'); plt.ylabel('True Positive Rate'); plt.title('ROC Curves');\n"
   ]
  },
  {
   "cell_type": "code",
   "execution_count": 142,
   "metadata": {},
   "outputs": [
    {
     "ename": "NameError",
     "evalue": "name 'predictions' is not defined",
     "output_type": "error",
     "traceback": [
      "\u001b[0;31m---------------------------------------------------------------------------\u001b[0m",
      "\u001b[0;31mNameError\u001b[0m                                 Traceback (most recent call last)",
      "\u001b[1;32m/Users/kaergell/Desktop/Neue Fische/Bootcamp/Tag-28-MLproject/airquality/classification.ipynb Cell 21'\u001b[0m in \u001b[0;36m<cell line: 1>\u001b[0;34m()\u001b[0m\n\u001b[0;32m----> <a href='vscode-notebook-cell:/Users/kaergell/Desktop/Neue%20Fische/Bootcamp/Tag-28-MLproject/airquality/classification.ipynb#ch0000025?line=0'>1</a>\u001b[0m evaluate_model(predictions, probs, train_predictions, train_probs)\n",
      "\u001b[0;31mNameError\u001b[0m: name 'predictions' is not defined"
     ]
    }
   ],
   "source": [
    "evaluate_model(predictions, probs, train_predictions, train_probs)"
   ]
  },
  {
   "cell_type": "code",
   "execution_count": 143,
   "metadata": {},
   "outputs": [],
   "source": [
    "from sklearn.metrics import confusion_matrix\n",
    "import itertools\n",
    "\n",
    "def plot_confusion_matrix(cm, classes,\n",
    "                          normalize=False,\n",
    "                          title='Confusion matrix',\n",
    "                          cmap=plt.cm.Oranges):\n",
    "    \"\"\"\n",
    "    This function prints and plots the confusion matrix.\n",
    "    Normalization can be applied by setting `normalize=True`.\n",
    "    Source: http://scikit-learn.org/stable/auto_examples/model_selection/plot_confusion_matrix.html\n",
    "    \"\"\"\n",
    "    if normalize:\n",
    "        cm = cm.astype('float') / cm.sum(axis=1)[:, np.newaxis]\n",
    "        print(\"Normalized confusion matrix\")\n",
    "    else:\n",
    "        print('Confusion matrix, without normalization')\n",
    "\n",
    "    print(cm)\n",
    "\n",
    "    plt.figure(figsize = (10, 10))\n",
    "    plt.imshow(cm, interpolation='nearest', cmap=cmap)\n",
    "    plt.title(title, size = 24)\n",
    "    plt.colorbar(aspect=4)\n",
    "    tick_marks = np.arange(len(classes))\n",
    "    plt.xticks(tick_marks, classes, rotation=45, size = 14)\n",
    "    plt.yticks(tick_marks, classes, size = 14)\n",
    "\n",
    "    fmt = '.2f' if normalize else 'd'\n",
    "    thresh = cm.max() / 2.\n",
    "    \n",
    "    # Labeling the plot\n",
    "    for i, j in itertools.product(range(cm.shape[0]), range(cm.shape[1])):\n",
    "        plt.text(j, i, format(cm[i, j], fmt), fontsize = 20,\n",
    "                 horizontalalignment=\"center\",\n",
    "                 color=\"white\" if cm[i, j] > thresh else \"black\")\n",
    "        \n",
    "    plt.grid(None)\n",
    "    plt.tight_layout()\n",
    "    plt.ylabel('True label', size = 18)\n",
    "    plt.xlabel('Predicted label', size = 18)"
   ]
  },
  {
   "cell_type": "code",
   "execution_count": 144,
   "metadata": {},
   "outputs": [
    {
     "ename": "NameError",
     "evalue": "name 'test_labels' is not defined",
     "output_type": "error",
     "traceback": [
      "\u001b[0;31m---------------------------------------------------------------------------\u001b[0m",
      "\u001b[0;31mNameError\u001b[0m                                 Traceback (most recent call last)",
      "\u001b[1;32m/Users/kaergell/Desktop/Neue Fische/Bootcamp/Tag-28-MLproject/airquality/classification.ipynb Cell 22'\u001b[0m in \u001b[0;36m<cell line: 1>\u001b[0;34m()\u001b[0m\n\u001b[0;32m----> <a href='vscode-notebook-cell:/Users/kaergell/Desktop/Neue%20Fische/Bootcamp/Tag-28-MLproject/airquality/classification.ipynb#ch0000027?line=0'>1</a>\u001b[0m cm \u001b[39m=\u001b[39m confusion_matrix(test_labels, predictions)\n\u001b[1;32m      <a href='vscode-notebook-cell:/Users/kaergell/Desktop/Neue%20Fische/Bootcamp/Tag-28-MLproject/airquality/classification.ipynb#ch0000027?line=1'>2</a>\u001b[0m plot_confusion_matrix(cm, classes \u001b[39m=\u001b[39m [\u001b[39m'\u001b[39m\u001b[39mPoor Health\u001b[39m\u001b[39m'\u001b[39m, \u001b[39m'\u001b[39m\u001b[39mGood Health\u001b[39m\u001b[39m'\u001b[39m],\n\u001b[1;32m      <a href='vscode-notebook-cell:/Users/kaergell/Desktop/Neue%20Fische/Bootcamp/Tag-28-MLproject/airquality/classification.ipynb#ch0000027?line=2'>3</a>\u001b[0m                       title \u001b[39m=\u001b[39m \u001b[39m'\u001b[39m\u001b[39mHealth Confusion Matrix\u001b[39m\u001b[39m'\u001b[39m)\n",
      "\u001b[0;31mNameError\u001b[0m: name 'test_labels' is not defined"
     ]
    }
   ],
   "source": [
    "cm = confusion_matrix(test_labels, predictions)\n",
    "plot_confusion_matrix(cm, classes = ['Poor Health', 'Good Health'],\n",
    "                      title = 'Health Confusion Matrix')"
   ]
  },
  {
   "cell_type": "markdown",
   "metadata": {},
   "source": [
    "## Feature importance"
   ]
  },
  {
   "cell_type": "code",
   "execution_count": 145,
   "metadata": {},
   "outputs": [
    {
     "ename": "NameError",
     "evalue": "name 'features' is not defined",
     "output_type": "error",
     "traceback": [
      "\u001b[0;31m---------------------------------------------------------------------------\u001b[0m",
      "\u001b[0;31mNameError\u001b[0m                                 Traceback (most recent call last)",
      "\u001b[1;32m/Users/kaergell/Desktop/Neue Fische/Bootcamp/Tag-28-MLproject/airquality/classification.ipynb Cell 24'\u001b[0m in \u001b[0;36m<cell line: 1>\u001b[0;34m()\u001b[0m\n\u001b[0;32m----> <a href='vscode-notebook-cell:/Users/kaergell/Desktop/Neue%20Fische/Bootcamp/Tag-28-MLproject/airquality/classification.ipynb#ch0000032?line=0'>1</a>\u001b[0m fi \u001b[39m=\u001b[39m pd\u001b[39m.\u001b[39mDataFrame({\u001b[39m'\u001b[39m\u001b[39mfeature\u001b[39m\u001b[39m'\u001b[39m: features,\n\u001b[1;32m      <a href='vscode-notebook-cell:/Users/kaergell/Desktop/Neue%20Fische/Bootcamp/Tag-28-MLproject/airquality/classification.ipynb#ch0000032?line=1'>2</a>\u001b[0m                    \u001b[39m'\u001b[39m\u001b[39mimportance\u001b[39m\u001b[39m'\u001b[39m: tree\u001b[39m.\u001b[39mfeature_importances_})\u001b[39m.\u001b[39m\\\n\u001b[1;32m      <a href='vscode-notebook-cell:/Users/kaergell/Desktop/Neue%20Fische/Bootcamp/Tag-28-MLproject/airquality/classification.ipynb#ch0000032?line=2'>3</a>\u001b[0m                     sort_values(\u001b[39m'\u001b[39m\u001b[39mimportance\u001b[39m\u001b[39m'\u001b[39m, ascending \u001b[39m=\u001b[39m \u001b[39mFalse\u001b[39;00m)\n\u001b[1;32m      <a href='vscode-notebook-cell:/Users/kaergell/Desktop/Neue%20Fische/Bootcamp/Tag-28-MLproject/airquality/classification.ipynb#ch0000032?line=3'>4</a>\u001b[0m fi\u001b[39m.\u001b[39mhead()\n",
      "\u001b[0;31mNameError\u001b[0m: name 'features' is not defined"
     ]
    }
   ],
   "source": [
    "fi = pd.DataFrame({'feature': features,\n",
    "                   'importance': tree.feature_importances_}).\\\n",
    "                    sort_values('importance', ascending = False)\n",
    "fi.head()"
   ]
  },
  {
   "cell_type": "markdown",
   "metadata": {},
   "source": []
  },
  {
   "cell_type": "code",
   "execution_count": 147,
   "metadata": {},
   "outputs": [
    {
     "name": "stdout",
     "output_type": "stream",
     "text": [
      "Fitting 3 folds for each of 10 candidates, totalling 30 fits\n",
      "[CV 2/3] END bootstrap=False, max_depth=13, max_features=0.6, max_leaf_nodes=36, min_samples_split=10, n_estimators=48;, score=0.825 total time=   7.3s\n",
      "[CV 3/3] END bootstrap=False, max_depth=13, max_features=0.6, max_leaf_nodes=36, min_samples_split=10, n_estimators=48;, score=0.819 total time=   7.4s\n",
      "[CV 1/3] END bootstrap=False, max_depth=13, max_features=0.6, max_leaf_nodes=36, min_samples_split=10, n_estimators=48;, score=0.813 total time=   7.5s\n",
      "[CV 3/3] END bootstrap=False, max_depth=17, max_features=0.5, max_leaf_nodes=18, min_samples_split=10, n_estimators=149;, score=0.797 total time=  16.0s\n",
      "[CV 2/3] END bootstrap=False, max_depth=17, max_features=0.5, max_leaf_nodes=18, min_samples_split=10, n_estimators=149;, score=0.796 total time=  16.4s\n",
      "[CV 1/3] END bootstrap=False, max_depth=17, max_features=0.5, max_leaf_nodes=18, min_samples_split=10, n_estimators=149;, score=0.780 total time=  16.5s\n",
      "[CV 1/3] END bootstrap=True, max_depth=14, max_features=auto, max_leaf_nodes=31, min_samples_split=2, n_estimators=157;, score=0.805 total time=   4.6s\n",
      "[CV 2/3] END bootstrap=True, max_depth=14, max_features=auto, max_leaf_nodes=31, min_samples_split=2, n_estimators=157;, score=0.820 total time=   4.6s\n",
      "[CV 1/3] END bootstrap=False, max_depth=17, max_features=0.6, max_leaf_nodes=46, min_samples_split=2, n_estimators=134;, score=0.822 total time=  22.3s\n",
      "[CV 2/3] END bootstrap=False, max_depth=17, max_features=0.6, max_leaf_nodes=46, min_samples_split=2, n_estimators=134;, score=0.832 total time=  22.3s\n",
      "[CV 3/3] END bootstrap=True, max_depth=14, max_features=auto, max_leaf_nodes=31, min_samples_split=2, n_estimators=157;, score=0.816 total time=   4.7s\n",
      "[CV 1/3] END bootstrap=True, max_depth=10, max_features=sqrt, max_leaf_nodes=17, min_samples_split=2, n_estimators=172;, score=0.780 total time=   4.7s\n",
      "[CV 3/3] END bootstrap=True, max_depth=10, max_features=sqrt, max_leaf_nodes=17, min_samples_split=2, n_estimators=172;, score=0.792 total time=   4.5s\n",
      "[CV 2/3] END bootstrap=True, max_depth=10, max_features=sqrt, max_leaf_nodes=17, min_samples_split=2, n_estimators=172;, score=0.797 total time=   4.5s\n",
      "[CV 3/3] END bootstrap=False, max_depth=17, max_features=0.6, max_leaf_nodes=46, min_samples_split=2, n_estimators=134;, score=0.827 total time=  22.1s\n",
      "[CV 1/3] END bootstrap=False, max_depth=19, max_features=0.5, max_leaf_nodes=45, min_samples_split=2, n_estimators=200;, score=0.821 total time=  28.3s\n",
      "[CV 2/3] END bootstrap=False, max_depth=19, max_features=0.5, max_leaf_nodes=45, min_samples_split=2, n_estimators=200;, score=0.832 total time=  28.4s\n",
      "[CV 2/3] END bootstrap=False, max_depth=5, max_features=0.6, max_leaf_nodes=19, min_samples_split=10, n_estimators=91;, score=0.791 total time=  11.3s\n",
      "[CV 1/3] END bootstrap=False, max_depth=5, max_features=0.6, max_leaf_nodes=19, min_samples_split=10, n_estimators=91;, score=0.777 total time=  11.5s\n",
      "[CV 3/3] END bootstrap=False, max_depth=5, max_features=0.6, max_leaf_nodes=19, min_samples_split=10, n_estimators=91;, score=0.794 total time=  11.1s\n",
      "[CV 1/3] END bootstrap=True, max_depth=17, max_features=0.5, max_leaf_nodes=40, min_samples_split=10, n_estimators=126;, score=0.819 total time=  13.1s\n",
      "[CV 1/3] END bootstrap=False, max_depth=12, max_features=auto, max_leaf_nodes=33, min_samples_split=5, n_estimators=79;, score=0.805 total time=   4.5s\n",
      "[CV 2/3] END bootstrap=False, max_depth=12, max_features=auto, max_leaf_nodes=33, min_samples_split=5, n_estimators=79;, score=0.820 total time=   4.3s\n",
      "[CV 3/3] END bootstrap=False, max_depth=12, max_features=auto, max_leaf_nodes=33, min_samples_split=5, n_estimators=79;, score=0.816 total time=   4.2s\n",
      "[CV 2/3] END bootstrap=True, max_depth=17, max_features=0.5, max_leaf_nodes=40, min_samples_split=10, n_estimators=126;, score=0.831 total time=  12.9s\n",
      "[CV 3/3] END bootstrap=False, max_depth=19, max_features=0.5, max_leaf_nodes=45, min_samples_split=2, n_estimators=200;, score=0.828 total time=  28.2s\n",
      "[CV 3/3] END bootstrap=True, max_depth=17, max_features=0.5, max_leaf_nodes=40, min_samples_split=10, n_estimators=126;, score=0.829 total time=  10.6s\n",
      "[CV 1/3] END bootstrap=True, max_depth=17, max_features=0.7, max_leaf_nodes=49, min_samples_split=10, n_estimators=196;, score=0.824 total time=  17.5s\n",
      "[CV 2/3] END bootstrap=True, max_depth=17, max_features=0.7, max_leaf_nodes=49, min_samples_split=10, n_estimators=196;, score=0.838 total time=  15.9s\n",
      "[CV 3/3] END bootstrap=True, max_depth=17, max_features=0.7, max_leaf_nodes=49, min_samples_split=10, n_estimators=196;, score=0.835 total time=  15.5s\n"
     ]
    },
    {
     "data": {
      "text/plain": [
       "RandomizedSearchCV(cv=3, estimator=RandomForestClassifier(random_state=42),\n",
       "                   n_jobs=-1,\n",
       "                   param_distributions={'bootstrap': [True, False],\n",
       "                                        'max_depth': [None, 3, 3, 3, 4, 4, 4, 5,\n",
       "                                                      5, 5, 6, 6, 6, 7, 7, 7, 8,\n",
       "                                                      8, 8, 9, 9, 9, 10, 10, 10,\n",
       "                                                      11, 11, 12, 12, 12, ...],\n",
       "                                        'max_features': ['auto', 'sqrt', None,\n",
       "                                                         0.5, 0.6, 0.7,\n",
       "                                                         0.7999999999999999,\n",
       "                                                         0.8999999999999999],\n",
       "                                        'max_leaf_nodes': [None, 10, 10, 10, 10,\n",
       "                                                           10, 10, 10, 10, 10,\n",
       "                                                           10, 10, 10, 10, 11,\n",
       "                                                           11, 11, 11, 11, 11,\n",
       "                                                           11, 11, 11, 11, 11,\n",
       "                                                           11, 12, 12, 12, 12, ...],\n",
       "                                        'min_samples_split': [2, 5, 10],\n",
       "                                        'n_estimators': array([ 10,  13,  17,  21,  25,  29,  33,  37,  41,  44,  48,  52,  56,\n",
       "        60,  64,  68,  72,  75,  79,  83,  87,  91,  95,  99, 103, 106,\n",
       "       110, 114, 118, 122, 126, 130, 134, 137, 141, 145, 149, 153, 157,\n",
       "       161, 165, 168, 172, 176, 180, 184, 188, 192, 196, 200])},\n",
       "                   random_state=42, scoring='roc_auc', verbose=5)"
      ]
     },
     "execution_count": 147,
     "metadata": {},
     "output_type": "execute_result"
    }
   ],
   "source": [
    "from sklearn.model_selection import RandomizedSearchCV\n",
    "\n",
    "# Hyperparameter grid\n",
    "param_grid = {\n",
    "    'n_estimators': np.linspace(10, 200).astype(int),\n",
    "    'max_depth': [None] + list(np.linspace(3, 20).astype(int)),\n",
    "    'max_features': ['auto', 'sqrt', None] + list(np.arange(0.5, 1, 0.1)),\n",
    "    'max_leaf_nodes': [None] + list(np.linspace(10, 50, 500).astype(int)),\n",
    "    'min_samples_split': [2, 5, 10],\n",
    "    'bootstrap': [True, False]\n",
    "}\n",
    "\n",
    "# Estimator for use in random search\n",
    "estimator = RandomForestClassifier(random_state = RSEED)\n",
    "\n",
    "# Create the random search model\n",
    "rs = RandomizedSearchCV(estimator, param_grid, n_jobs = -1, \n",
    "                        scoring = 'roc_auc', cv = 3, \n",
    "                        n_iter = 10, verbose = 5, random_state=RSEED)\n",
    "\n",
    "# Fit \n",
    "rs.fit(X_train, y_train)"
   ]
  },
  {
   "cell_type": "code",
   "execution_count": 148,
   "metadata": {},
   "outputs": [
    {
     "data": {
      "text/plain": [
       "{'n_estimators': 196,\n",
       " 'min_samples_split': 10,\n",
       " 'max_leaf_nodes': 49,\n",
       " 'max_features': 0.7,\n",
       " 'max_depth': 17,\n",
       " 'bootstrap': True}"
      ]
     },
     "execution_count": 148,
     "metadata": {},
     "output_type": "execute_result"
    }
   ],
   "source": [
    "rs.best_params_"
   ]
  },
  {
   "cell_type": "code",
   "execution_count": 152,
   "metadata": {},
   "outputs": [
    {
     "ename": "SyntaxError",
     "evalue": "keyword argument repeated: max_features (4103132511.py, line 1)",
     "output_type": "error",
     "traceback": [
      "\u001b[0;36m  Input \u001b[0;32mIn [152]\u001b[0;36m\u001b[0m\n\u001b[0;31m    rfc_opt = RandomForestClassifier(n_estimators=196,\u001b[0m\n\u001b[0m                                ^\u001b[0m\n\u001b[0;31mSyntaxError\u001b[0m\u001b[0;31m:\u001b[0m keyword argument repeated: max_features\n"
     ]
    }
   ],
   "source": [
    "rfc_opt = RandomForestClassifier(n_estimators=196,\n",
    "                            random_state=RSEED,\n",
    "                            min_samples_split = 10,\n",
    "                            max_leaf_nodes = 49,\n",
    "                            max_features = 0.7,\n",
    "                            max_depth = 17,\n",
    "                            max_features = 'sqrt',\n",
    "                            bootstrap = True,\n",
    "                            n_jobs=-1, verbose = 1)\n",
    "\n",
    "# Fit on training data\n",
    "rfc_opt.fit(X_train, y_train)"
   ]
  },
  {
   "cell_type": "code",
   "execution_count": null,
   "metadata": {},
   "outputs": [],
   "source": []
  }
 ],
 "metadata": {
  "interpreter": {
   "hash": "1634e1a92e10410d5b0035006da6032b8aca6b4a2205a7dfcf1a483d5219ac37"
  },
  "kernelspec": {
   "display_name": "Python 3.9.4 64-bit ('3.9.4')",
   "language": "python",
   "name": "python3"
  },
  "language_info": {
   "codemirror_mode": {
    "name": "ipython",
    "version": 3
   },
   "file_extension": ".py",
   "mimetype": "text/x-python",
   "name": "python",
   "nbconvert_exporter": "python",
   "pygments_lexer": "ipython3",
   "version": "3.9.4"
  },
  "orig_nbformat": 4
 },
 "nbformat": 4,
 "nbformat_minor": 2
}
