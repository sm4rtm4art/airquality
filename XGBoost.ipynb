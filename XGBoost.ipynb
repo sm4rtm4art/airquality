{
 "cells": [
  {
   "cell_type": "code",
   "execution_count": 68,
   "metadata": {},
   "outputs": [],
   "source": [
    "import pandas as pd\n",
    "import numpy as np\n",
    "import warnings\n",
    "\n",
    "import seaborn as sns\n",
    "import matplotlib.pyplot as plt\n",
    "\n",
    "from scipy.stats import boxcox\n",
    "warnings.filterwarnings('ignore')\n",
    "\n",
    "from xgboost import XGBClassifier\n",
    "\n",
    "import xgboost as xgb\n",
    "\n",
    "RSEED=42\n",
    "\n",
    "sns.set_context('talk')\n",
    "plt.style.use(['dark_background'])\n",
    "#plt.rcParams['image.cmap'] = \"orangered\"\n",
    "plt.rcParams.update({'font.sans-serif':'Helvetica'})"
   ]
  },
  {
   "cell_type": "code",
   "execution_count": 69,
   "metadata": {},
   "outputs": [],
   "source": [
    "data = pd.read_csv(\"./data/data_prep_clf.csv\", index_col=[0])"
   ]
  },
  {
   "cell_type": "code",
   "execution_count": 70,
   "metadata": {},
   "outputs": [],
   "source": [
    "data_b=data.drop([\"target\",'trafic_airquality', '6fold_airquality'],axis=1)"
   ]
  },
  {
   "cell_type": "code",
   "execution_count": 71,
   "metadata": {},
   "outputs": [
    {
     "data": {
      "text/plain": [
       "Index(['location', 'max_temp', 'min_temp', 'mean_temp', 'std_temp', 'var_temp',\n",
       "       'median_temp', 'ptp_temp', 'max_precip', 'min_precip', 'mean_precip',\n",
       "       'std_precip', 'var_precip', 'median_precip', 'ptp_precip',\n",
       "       'max_rel_humidity', 'min_rel_humidity', 'mean_rel_humidity',\n",
       "       'std_rel_humidity', 'var_rel_humidity', 'median_rel_humidity',\n",
       "       'ptp_rel_humidity', 'max_wind_dir', 'min_wind_dir', 'mean_wind_dir',\n",
       "       'std_wind_dir', 'var_wind_dir', 'median_wind_dir', 'ptp_wind_dir',\n",
       "       'max_wind_spd', 'min_wind_spd', 'mean_wind_spd', 'std_wind_spd',\n",
       "       'var_wind_spd', 'median_wind_spd', 'ptp_wind_spd', 'max_atmos_press',\n",
       "       'min_atmos_press', 'mean_atmos_press', 'std_atmos_press',\n",
       "       'var_atmos_press', 'median_atmos_press', 'ptp_atmos_press',\n",
       "       'Bi_airquality'],\n",
       "      dtype='object')"
      ]
     },
     "execution_count": 71,
     "metadata": {},
     "output_type": "execute_result"
    }
   ],
   "source": [
    "data_b.columns"
   ]
  },
  {
   "cell_type": "code",
   "execution_count": 72,
   "metadata": {},
   "outputs": [],
   "source": [
    "column_names = ['location', 'max_temp', 'min_temp', 'mean_temp', 'std_temp', 'var_temp',\n",
    "       'median_temp', 'ptp_temp', 'max_precip', 'min_precip', 'mean_precip',\n",
    "       'std_precip', 'var_precip', 'median_precip', 'ptp_precip',\n",
    "       'max_rel_humidity', 'min_rel_humidity', 'mean_rel_humidity',\n",
    "       'std_rel_humidity', 'var_rel_humidity', 'median_rel_humidity',\n",
    "       'ptp_rel_humidity', 'max_wind_dir', 'min_wind_dir', 'mean_wind_dir',\n",
    "       'std_wind_dir', 'var_wind_dir', 'median_wind_dir', 'ptp_wind_dir',\n",
    "       'max_wind_spd', 'min_wind_spd', 'mean_wind_spd', 'std_wind_spd',\n",
    "       'var_wind_spd', 'median_wind_spd', 'ptp_wind_spd', 'max_atmos_press',\n",
    "       'min_atmos_press', 'mean_atmos_press', 'std_atmos_press',\n",
    "       'var_atmos_press', 'median_atmos_press', 'ptp_atmos_press',\n",
    "       'Bi_airquality']"
   ]
  },
  {
   "cell_type": "code",
   "execution_count": 73,
   "metadata": {},
   "outputs": [],
   "source": [
    "from sklearn.model_selection import train_test_split\n",
    "\n",
    "y=data_b[\"Bi_airquality\"]\n",
    "X= data_b.drop([\"Bi_airquality\"], axis =1)\n",
    "X_train, X_test, y_train, y_test = train_test_split(X, y, test_size=0.3,  stratify=y ,random_state=RSEED)"
   ]
  },
  {
   "cell_type": "code",
   "execution_count": 74,
   "metadata": {},
   "outputs": [
    {
     "name": "stdout",
     "output_type": "stream",
     "text": [
      "[22:30:52] WARNING: /Users/runner/work/xgboost/xgboost/src/learner.cc:1115: Starting in XGBoost 1.3.0, the default evaluation metric used with the objective 'binary:logistic' was changed from 'error' to 'logloss'. Explicitly set eval_metric if you'd like to restore the old behavior.\n"
     ]
    },
    {
     "data": {
      "text/plain": [
       "XGBClassifier(base_score=0.5, booster='gbtree', colsample_bylevel=1,\n",
       "              colsample_bynode=1, colsample_bytree=1, enable_categorical=False,\n",
       "              gamma=0, gpu_id=-1, importance_type=None,\n",
       "              interaction_constraints='', learning_rate=0.300000012,\n",
       "              max_delta_step=0, max_depth=6, min_child_weight=1, missing=nan,\n",
       "              monotone_constraints='()', n_estimators=100, n_jobs=8,\n",
       "              num_parallel_tree=1, predictor='auto', random_state=0,\n",
       "              reg_alpha=0, reg_lambda=1, scale_pos_weight=1, subsample=1,\n",
       "              tree_method='exact', validate_parameters=1, verbosity=None)"
      ]
     },
     "execution_count": 74,
     "metadata": {},
     "output_type": "execute_result"
    }
   ],
   "source": [
    "xgb1= XGBClassifier()\n",
    "\n",
    "xgb1.fit(X_train,y_train)\n"
   ]
  },
  {
   "cell_type": "code",
   "execution_count": 75,
   "metadata": {},
   "outputs": [],
   "source": [
    "y_pred = xgb1.predict(X_test)"
   ]
  },
  {
   "cell_type": "code",
   "execution_count": 76,
   "metadata": {},
   "outputs": [],
   "source": [
    "from sklearn.metrics import precision_score, recall_score, roc_auc_score, roc_curve\n",
    "from sklearn.metrics import confusion_matrix, classification_report\n",
    "import itertools\n",
    "\n"
   ]
  },
  {
   "cell_type": "code",
   "execution_count": 77,
   "metadata": {},
   "outputs": [
    {
     "data": {
      "text/plain": [
       "array([[3073,  501],\n",
       "       [ 291,  797]])"
      ]
     },
     "execution_count": 77,
     "metadata": {},
     "output_type": "execute_result"
    }
   ],
   "source": [
    "confusion_matrix(y_pred, y_test)"
   ]
  },
  {
   "cell_type": "code",
   "execution_count": 78,
   "metadata": {},
   "outputs": [
    {
     "name": "stdout",
     "output_type": "stream",
     "text": [
      "              precision    recall  f1-score   support\n",
      "\n",
      "         bad       0.91      0.86      0.89      3574\n",
      "        good       0.61      0.73      0.67      1088\n",
      "\n",
      "    accuracy                           0.83      4662\n",
      "   macro avg       0.76      0.80      0.78      4662\n",
      "weighted avg       0.84      0.83      0.84      4662\n",
      "\n"
     ]
    }
   ],
   "source": [
    "print(classification_report(y_pred, y_test))"
   ]
  },
  {
   "cell_type": "code",
   "execution_count": 87,
   "metadata": {},
   "outputs": [
    {
     "name": "stdout",
     "output_type": "stream",
     "text": [
      "Confusion matrix, without normalization\n",
      "[[3073  291]\n",
      " [ 501  797]]\n"
     ]
    },
    {
     "data": {
      "image/png": "[encoded data removed]",
      "text/plain": [
       "<Figure size 720x720 with 2 Axes>"
      ]
     },
     "metadata": {},
     "output_type": "display_data"
    }
   ],
   "source": [
    "def plot_confusion_matrix(cm, classes,\n",
    "                          normalize=False,\n",
    "                          title='Confusion matrix',\n",
    "                          cmap=plt.cm.Oranges):\n",
    "    \"\"\"\n",
    "    This function prints and plots the confusion matrix.\n",
    "    Normalization can be applied by setting `normalize=True`.\n",
    "    Source: http://scikit-learn.org/stable/auto_examples/model_selection/plot_confusion_matrix.html\n",
    "    \"\"\"\n",
    "    if normalize:\n",
    "        cm = cm.astype('float') / cm.sum(axis=1)[:, np.newaxis]\n",
    "        print(\"Normalized confusion matrix\")\n",
    "    else:\n",
    "        print('Confusion matrix, without normalization')\n",
    "\n",
    "    print(cm)\n",
    "\n",
    "    # Plot the confusion matrix\n",
    "    plt.figure(figsize = (10, 10))\n",
    "    plt.imshow(cm, interpolation='nearest', cmap=cmap)\n",
    "    plt.title(title, size = 24)\n",
    "    plt.colorbar(aspect=4)\n",
    "    tick_marks = np.arange(len(classes))\n",
    "    plt.xticks(tick_marks, classes, rotation=45, size = 14)\n",
    "    plt.yticks(tick_marks, classes, size = 14)\n",
    "\n",
    "    fmt = '.2f' if normalize else 'd'\n",
    "    thresh = cm.max() / 2.\n",
    "    \n",
    "    # Labeling the plot\n",
    "    for i, j in itertools.product(range(cm.shape[0]), range(cm.shape[1])):\n",
    "        plt.text(j, i, format(cm[i, j], fmt), fontsize = 20,\n",
    "                 horizontalalignment=\"center\",\n",
    "                 color=\"white\" if cm[i, j] > thresh else \"black\")\n",
    "        \n",
    "    plt.grid(None)\n",
    "    plt.tight_layout()\n",
    "    plt.ylabel('True label', size = 18)\n",
    "    plt.xlabel('Predicted label', size = 18)\n",
    "\n",
    "# Confusion matrix\n",
    "cm = confusion_matrix(y_test, y_pred)\n",
    "plot_confusion_matrix(cm, classes = ['Bad Airquality', 'Good Airquality'],\n",
    "                      title = 'Airqualty Confusion Matrix')\n",
    "# Evaluate your model "
   ]
  },
  {
   "cell_type": "markdown",
   "metadata": {},
   "source": [
    "## Tri"
   ]
  },
  {
   "cell_type": "code",
   "execution_count": 80,
   "metadata": {},
   "outputs": [],
   "source": [
    "data_t = data_b=data.drop([\"target\",'Bi_airquality', '6fold_airquality'],axis=1)"
   ]
  },
  {
   "cell_type": "code",
   "execution_count": 81,
   "metadata": {},
   "outputs": [
    {
     "data": {
      "text/html": [
       "<div>\n",
       "<style scoped>\n",
       "    .dataframe tbody tr th:only-of-type {\n",
       "        vertical-align: middle;\n",
       "    }\n",
       "\n",
       "    .dataframe tbody tr th {\n",
       "        vertical-align: top;\n",
       "    }\n",
       "\n",
       "    .dataframe thead th {\n",
       "        text-align: right;\n",
       "    }\n",
       "</style>\n",
       "<table border=\"1\" class=\"dataframe\">\n",
       "  <thead>\n",
       "    <tr style=\"text-align: right;\">\n",
       "      <th></th>\n",
       "      <th>location</th>\n",
       "      <th>max_temp</th>\n",
       "      <th>min_temp</th>\n",
       "      <th>mean_temp</th>\n",
       "      <th>std_temp</th>\n",
       "      <th>var_temp</th>\n",
       "      <th>median_temp</th>\n",
       "      <th>ptp_temp</th>\n",
       "      <th>max_precip</th>\n",
       "      <th>min_precip</th>\n",
       "      <th>...</th>\n",
       "      <th>median_wind_spd</th>\n",
       "      <th>ptp_wind_spd</th>\n",
       "      <th>max_atmos_press</th>\n",
       "      <th>min_atmos_press</th>\n",
       "      <th>mean_atmos_press</th>\n",
       "      <th>std_atmos_press</th>\n",
       "      <th>var_atmos_press</th>\n",
       "      <th>median_atmos_press</th>\n",
       "      <th>ptp_atmos_press</th>\n",
       "      <th>trafic_airquality</th>\n",
       "    </tr>\n",
       "  </thead>\n",
       "  <tbody>\n",
       "    <tr>\n",
       "      <th>0</th>\n",
       "      <td>2</td>\n",
       "      <td>27.208333</td>\n",
       "      <td>19.275000</td>\n",
       "      <td>22.299527</td>\n",
       "      <td>2.594011</td>\n",
       "      <td>6.728895</td>\n",
       "      <td>21.358333</td>\n",
       "      <td>7.933333</td>\n",
       "      <td>0.000</td>\n",
       "      <td>0.0</td>\n",
       "      <td>...</td>\n",
       "      <td>0.666250</td>\n",
       "      <td>1.355000</td>\n",
       "      <td>87.871667</td>\n",
       "      <td>87.614167</td>\n",
       "      <td>87.752434</td>\n",
       "      <td>0.070374</td>\n",
       "      <td>0.004952</td>\n",
       "      <td>87.762083</td>\n",
       "      <td>0.257500</td>\n",
       "      <td>yellow</td>\n",
       "    </tr>\n",
       "    <tr>\n",
       "      <th>1</th>\n",
       "      <td>3</td>\n",
       "      <td>33.616667</td>\n",
       "      <td>17.983333</td>\n",
       "      <td>24.679063</td>\n",
       "      <td>4.266955</td>\n",
       "      <td>18.206903</td>\n",
       "      <td>23.791667</td>\n",
       "      <td>15.633333</td>\n",
       "      <td>0.561</td>\n",
       "      <td>0.0</td>\n",
       "      <td>...</td>\n",
       "      <td>0.744167</td>\n",
       "      <td>2.760833</td>\n",
       "      <td>90.725000</td>\n",
       "      <td>90.056667</td>\n",
       "      <td>90.429924</td>\n",
       "      <td>0.156000</td>\n",
       "      <td>0.024336</td>\n",
       "      <td>90.429167</td>\n",
       "      <td>0.668333</td>\n",
       "      <td>yellow</td>\n",
       "    </tr>\n",
       "    <tr>\n",
       "      <th>2</th>\n",
       "      <td>0</td>\n",
       "      <td>31.841667</td>\n",
       "      <td>18.458333</td>\n",
       "      <td>24.112317</td>\n",
       "      <td>3.776377</td>\n",
       "      <td>14.261020</td>\n",
       "      <td>23.304167</td>\n",
       "      <td>13.383333</td>\n",
       "      <td>7.804</td>\n",
       "      <td>0.0</td>\n",
       "      <td>...</td>\n",
       "      <td>0.942500</td>\n",
       "      <td>2.420000</td>\n",
       "      <td>88.813333</td>\n",
       "      <td>87.982500</td>\n",
       "      <td>88.420931</td>\n",
       "      <td>0.179481</td>\n",
       "      <td>0.032213</td>\n",
       "      <td>88.425000</td>\n",
       "      <td>0.830833</td>\n",
       "      <td>green</td>\n",
       "    </tr>\n",
       "    <tr>\n",
       "      <th>3</th>\n",
       "      <td>0</td>\n",
       "      <td>27.491667</td>\n",
       "      <td>16.941667</td>\n",
       "      <td>20.845273</td>\n",
       "      <td>3.080140</td>\n",
       "      <td>9.487259</td>\n",
       "      <td>19.541667</td>\n",
       "      <td>10.550000</td>\n",
       "      <td>25.787</td>\n",
       "      <td>0.0</td>\n",
       "      <td>...</td>\n",
       "      <td>1.388333</td>\n",
       "      <td>2.469167</td>\n",
       "      <td>88.685000</td>\n",
       "      <td>87.965000</td>\n",
       "      <td>88.376915</td>\n",
       "      <td>0.161758</td>\n",
       "      <td>0.026166</td>\n",
       "      <td>88.400000</td>\n",
       "      <td>0.720000</td>\n",
       "      <td>yellow</td>\n",
       "    </tr>\n",
       "    <tr>\n",
       "      <th>4</th>\n",
       "      <td>0</td>\n",
       "      <td>28.750000</td>\n",
       "      <td>17.525000</td>\n",
       "      <td>21.870732</td>\n",
       "      <td>3.286870</td>\n",
       "      <td>10.803515</td>\n",
       "      <td>20.950000</td>\n",
       "      <td>11.225000</td>\n",
       "      <td>0.136</td>\n",
       "      <td>0.0</td>\n",
       "      <td>...</td>\n",
       "      <td>0.542917</td>\n",
       "      <td>1.796667</td>\n",
       "      <td>88.719167</td>\n",
       "      <td>88.268333</td>\n",
       "      <td>88.538104</td>\n",
       "      <td>0.118369</td>\n",
       "      <td>0.014011</td>\n",
       "      <td>88.552500</td>\n",
       "      <td>0.450833</td>\n",
       "      <td>red</td>\n",
       "    </tr>\n",
       "    <tr>\n",
       "      <th>...</th>\n",
       "      <td>...</td>\n",
       "      <td>...</td>\n",
       "      <td>...</td>\n",
       "      <td>...</td>\n",
       "      <td>...</td>\n",
       "      <td>...</td>\n",
       "      <td>...</td>\n",
       "      <td>...</td>\n",
       "      <td>...</td>\n",
       "      <td>...</td>\n",
       "      <td>...</td>\n",
       "      <td>...</td>\n",
       "      <td>...</td>\n",
       "      <td>...</td>\n",
       "      <td>...</td>\n",
       "      <td>...</td>\n",
       "      <td>...</td>\n",
       "      <td>...</td>\n",
       "      <td>...</td>\n",
       "      <td>...</td>\n",
       "      <td>...</td>\n",
       "    </tr>\n",
       "    <tr>\n",
       "      <th>15534</th>\n",
       "      <td>0</td>\n",
       "      <td>27.841667</td>\n",
       "      <td>16.550000</td>\n",
       "      <td>20.573209</td>\n",
       "      <td>2.987662</td>\n",
       "      <td>8.926124</td>\n",
       "      <td>19.458333</td>\n",
       "      <td>11.291667</td>\n",
       "      <td>31.842</td>\n",
       "      <td>0.0</td>\n",
       "      <td>...</td>\n",
       "      <td>0.890000</td>\n",
       "      <td>2.194167</td>\n",
       "      <td>88.730000</td>\n",
       "      <td>87.890833</td>\n",
       "      <td>88.382934</td>\n",
       "      <td>0.187366</td>\n",
       "      <td>0.035106</td>\n",
       "      <td>88.393333</td>\n",
       "      <td>0.839167</td>\n",
       "      <td>yellow</td>\n",
       "    </tr>\n",
       "    <tr>\n",
       "      <th>15535</th>\n",
       "      <td>4</td>\n",
       "      <td>29.550000</td>\n",
       "      <td>18.991667</td>\n",
       "      <td>23.546832</td>\n",
       "      <td>2.614979</td>\n",
       "      <td>6.838117</td>\n",
       "      <td>23.208333</td>\n",
       "      <td>10.558333</td>\n",
       "      <td>9.046</td>\n",
       "      <td>0.0</td>\n",
       "      <td>...</td>\n",
       "      <td>1.094167</td>\n",
       "      <td>2.330833</td>\n",
       "      <td>88.704167</td>\n",
       "      <td>88.082500</td>\n",
       "      <td>88.435840</td>\n",
       "      <td>0.141562</td>\n",
       "      <td>0.020040</td>\n",
       "      <td>88.450000</td>\n",
       "      <td>0.621667</td>\n",
       "      <td>green</td>\n",
       "    </tr>\n",
       "    <tr>\n",
       "      <th>15536</th>\n",
       "      <td>3</td>\n",
       "      <td>34.108333</td>\n",
       "      <td>16.950000</td>\n",
       "      <td>24.637083</td>\n",
       "      <td>4.352597</td>\n",
       "      <td>18.945097</td>\n",
       "      <td>24.179167</td>\n",
       "      <td>17.158333</td>\n",
       "      <td>3.893</td>\n",
       "      <td>0.0</td>\n",
       "      <td>...</td>\n",
       "      <td>0.897500</td>\n",
       "      <td>3.608333</td>\n",
       "      <td>90.885000</td>\n",
       "      <td>90.145833</td>\n",
       "      <td>90.522397</td>\n",
       "      <td>0.161257</td>\n",
       "      <td>0.026004</td>\n",
       "      <td>90.520000</td>\n",
       "      <td>0.739167</td>\n",
       "      <td>yellow</td>\n",
       "    </tr>\n",
       "    <tr>\n",
       "      <th>15537</th>\n",
       "      <td>3</td>\n",
       "      <td>30.900000</td>\n",
       "      <td>15.891667</td>\n",
       "      <td>23.472934</td>\n",
       "      <td>4.651403</td>\n",
       "      <td>21.635547</td>\n",
       "      <td>23.066667</td>\n",
       "      <td>15.008333</td>\n",
       "      <td>0.017</td>\n",
       "      <td>0.0</td>\n",
       "      <td>...</td>\n",
       "      <td>0.828333</td>\n",
       "      <td>2.683333</td>\n",
       "      <td>90.793333</td>\n",
       "      <td>90.106667</td>\n",
       "      <td>90.486202</td>\n",
       "      <td>0.160746</td>\n",
       "      <td>0.025839</td>\n",
       "      <td>90.512500</td>\n",
       "      <td>0.686667</td>\n",
       "      <td>yellow</td>\n",
       "    </tr>\n",
       "    <tr>\n",
       "      <th>15538</th>\n",
       "      <td>2</td>\n",
       "      <td>30.450000</td>\n",
       "      <td>19.033333</td>\n",
       "      <td>24.012603</td>\n",
       "      <td>3.215774</td>\n",
       "      <td>10.341200</td>\n",
       "      <td>22.833333</td>\n",
       "      <td>11.416667</td>\n",
       "      <td>0.187</td>\n",
       "      <td>0.0</td>\n",
       "      <td>...</td>\n",
       "      <td>0.569167</td>\n",
       "      <td>1.319167</td>\n",
       "      <td>88.116667</td>\n",
       "      <td>87.562500</td>\n",
       "      <td>87.810847</td>\n",
       "      <td>0.121178</td>\n",
       "      <td>0.014684</td>\n",
       "      <td>87.804167</td>\n",
       "      <td>0.554167</td>\n",
       "      <td>yellow</td>\n",
       "    </tr>\n",
       "  </tbody>\n",
       "</table>\n",
       "<p>15539 rows × 44 columns</p>\n",
       "</div>"
      ],
      "text/plain": [
       "       location   max_temp   min_temp  mean_temp  std_temp   var_temp  \\\n",
       "0             2  27.208333  19.275000  22.299527  2.594011   6.728895   \n",
       "1             3  33.616667  17.983333  24.679063  4.266955  18.206903   \n",
       "2             0  31.841667  18.458333  24.112317  3.776377  14.261020   \n",
       "3             0  27.491667  16.941667  20.845273  3.080140   9.487259   \n",
       "4             0  28.750000  17.525000  21.870732  3.286870  10.803515   \n",
       "...         ...        ...        ...        ...       ...        ...   \n",
       "15534         0  27.841667  16.550000  20.573209  2.987662   8.926124   \n",
       "15535         4  29.550000  18.991667  23.546832  2.614979   6.838117   \n",
       "15536         3  34.108333  16.950000  24.637083  4.352597  18.945097   \n",
       "15537         3  30.900000  15.891667  23.472934  4.651403  21.635547   \n",
       "15538         2  30.450000  19.033333  24.012603  3.215774  10.341200   \n",
       "\n",
       "       median_temp   ptp_temp  max_precip  min_precip  ...  median_wind_spd  \\\n",
       "0        21.358333   7.933333       0.000         0.0  ...         0.666250   \n",
       "1        23.791667  15.633333       0.561         0.0  ...         0.744167   \n",
       "2        23.304167  13.383333       7.804         0.0  ...         0.942500   \n",
       "3        19.541667  10.550000      25.787         0.0  ...         1.388333   \n",
       "4        20.950000  11.225000       0.136         0.0  ...         0.542917   \n",
       "...            ...        ...         ...         ...  ...              ...   \n",
       "15534    19.458333  11.291667      31.842         0.0  ...         0.890000   \n",
       "15535    23.208333  10.558333       9.046         0.0  ...         1.094167   \n",
       "15536    24.179167  17.158333       3.893         0.0  ...         0.897500   \n",
       "15537    23.066667  15.008333       0.017         0.0  ...         0.828333   \n",
       "15538    22.833333  11.416667       0.187         0.0  ...         0.569167   \n",
       "\n",
       "       ptp_wind_spd  max_atmos_press  min_atmos_press  mean_atmos_press  \\\n",
       "0          1.355000        87.871667        87.614167         87.752434   \n",
       "1          2.760833        90.725000        90.056667         90.429924   \n",
       "2          2.420000        88.813333        87.982500         88.420931   \n",
       "3          2.469167        88.685000        87.965000         88.376915   \n",
       "4          1.796667        88.719167        88.268333         88.538104   \n",
       "...             ...              ...              ...               ...   \n",
       "15534      2.194167        88.730000        87.890833         88.382934   \n",
       "15535      2.330833        88.704167        88.082500         88.435840   \n",
       "15536      3.608333        90.885000        90.145833         90.522397   \n",
       "15537      2.683333        90.793333        90.106667         90.486202   \n",
       "15538      1.319167        88.116667        87.562500         87.810847   \n",
       "\n",
       "       std_atmos_press  var_atmos_press  median_atmos_press  ptp_atmos_press  \\\n",
       "0             0.070374         0.004952           87.762083         0.257500   \n",
       "1             0.156000         0.024336           90.429167         0.668333   \n",
       "2             0.179481         0.032213           88.425000         0.830833   \n",
       "3             0.161758         0.026166           88.400000         0.720000   \n",
       "4             0.118369         0.014011           88.552500         0.450833   \n",
       "...                ...              ...                 ...              ...   \n",
       "15534         0.187366         0.035106           88.393333         0.839167   \n",
       "15535         0.141562         0.020040           88.450000         0.621667   \n",
       "15536         0.161257         0.026004           90.520000         0.739167   \n",
       "15537         0.160746         0.025839           90.512500         0.686667   \n",
       "15538         0.121178         0.014684           87.804167         0.554167   \n",
       "\n",
       "       trafic_airquality  \n",
       "0                 yellow  \n",
       "1                 yellow  \n",
       "2                  green  \n",
       "3                 yellow  \n",
       "4                    red  \n",
       "...                  ...  \n",
       "15534             yellow  \n",
       "15535              green  \n",
       "15536             yellow  \n",
       "15537             yellow  \n",
       "15538             yellow  \n",
       "\n",
       "[15539 rows x 44 columns]"
      ]
     },
     "execution_count": 81,
     "metadata": {},
     "output_type": "execute_result"
    }
   ],
   "source": [
    "data_t"
   ]
  },
  {
   "cell_type": "markdown",
   "metadata": {},
   "source": []
  },
  {
   "cell_type": "code",
   "execution_count": 82,
   "metadata": {},
   "outputs": [],
   "source": [
    "y=data_t[\"trafic_airquality\"]\n",
    "X= data_t.drop([\"trafic_airquality\"], axis =1)"
   ]
  },
  {
   "cell_type": "code",
   "execution_count": 83,
   "metadata": {},
   "outputs": [],
   "source": [
    "from sklearn.model_selection import train_test_split\n",
    "\n",
    "X_train_t, X_test_t, y_train_t, y_test_t = train_test_split(X, y, test_size=0.3, stratify=y, random_state=RSEED)"
   ]
  },
  {
   "cell_type": "code",
   "execution_count": 84,
   "metadata": {},
   "outputs": [
    {
     "name": "stdout",
     "output_type": "stream",
     "text": [
      "[22:30:56] WARNING: /Users/runner/work/xgboost/xgboost/src/learner.cc:1115: Starting in XGBoost 1.3.0, the default evaluation metric used with the objective 'multi:softprob' was changed from 'merror' to 'mlogloss'. Explicitly set eval_metric if you'd like to restore the old behavior.\n"
     ]
    },
    {
     "data": {
      "text/plain": [
       "XGBClassifier(base_score=0.5, booster='gbtree', colsample_bylevel=1,\n",
       "              colsample_bynode=1, colsample_bytree=1, enable_categorical=False,\n",
       "              gamma=0, gpu_id=-1, importance_type=None,\n",
       "              interaction_constraints='', learning_rate=0.300000012,\n",
       "              max_delta_step=0, max_depth=6, min_child_weight=1, missing=nan,\n",
       "              monotone_constraints='()', n_estimators=100, n_jobs=8,\n",
       "              num_parallel_tree=1, objective='multi:softprob', predictor='auto',\n",
       "              random_state=0, reg_alpha=0, reg_lambda=1, scale_pos_weight=None,\n",
       "              subsample=1, tree_method='exact', validate_parameters=1,\n",
       "              verbosity=None)"
      ]
     },
     "execution_count": 84,
     "metadata": {},
     "output_type": "execute_result"
    }
   ],
   "source": [
    "xgb2= XGBClassifier()\n",
    "\n",
    "xgb2.fit(X_train_t,y_train_t)\n"
   ]
  },
  {
   "cell_type": "code",
   "execution_count": 85,
   "metadata": {},
   "outputs": [],
   "source": [
    "y_pred_t = xgb2.predict(X_test_t)"
   ]
  },
  {
   "cell_type": "code",
   "execution_count": 88,
   "metadata": {},
   "outputs": [
    {
     "name": "stdout",
     "output_type": "stream",
     "text": [
      "Confusion matrix, without normalization\n",
      "[[ 838    1  459]\n",
      " [   1   67  119]\n",
      " [ 303   27 2847]]\n"
     ]
    },
    {
     "data": {
      "image/png": "[encoded data removed]",
      "text/plain": [
       "<Figure size 720x720 with 2 Axes>"
      ]
     },
     "metadata": {},
     "output_type": "display_data"
    }
   ],
   "source": [
    "cm = confusion_matrix(y_test_t, y_pred_t)\n",
    "plot_confusion_matrix(cm, classes = ['Bad','Medium','Good'],\n",
    "                      title = 'Airqualty Confusion Matrix')"
   ]
  },
  {
   "cell_type": "code",
   "execution_count": null,
   "metadata": {},
   "outputs": [],
   "source": []
  }
 ],
 "metadata": {
  "interpreter": {
   "hash": "2e7abca54acc13c53ef3404d75211e27b5076aad57df6065b7009d7b1b84f2d4"
  },
  "kernelspec": {
   "display_name": "Python 3.9.4 ('.venv': venv)",
   "language": "python",
   "name": "python3"
  },
  "language_info": {
   "codemirror_mode": {
    "name": "ipython",
    "version": 3
   },
   "file_extension": ".py",
   "mimetype": "text/x-python",
   "name": "python",
   "nbconvert_exporter": "python",
   "pygments_lexer": "ipython3",
   "version": "3.9.4"
  },
  "orig_nbformat": 4
 },
 "nbformat": 4,
 "nbformat_minor": 2
}
