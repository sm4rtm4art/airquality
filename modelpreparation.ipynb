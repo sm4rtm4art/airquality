{
 "cells": [
  {
   "cell_type": "code",
   "execution_count": 52,
   "metadata": {},
   "outputs": [],
   "source": [
    "import pandas as pd\n",
    "import numpy as np\n",
    "import warnings\n",
    "\n",
    "import seaborn as sns\n",
    "import matplotlib.pyplot as plt\n",
    "\n",
    "from scipy.stats import boxcox\n",
    "warnings.filterwarnings('ignore')\n",
    "\n",
    "RSEED=42"
   ]
  },
  {
   "cell_type": "code",
   "execution_count": 53,
   "metadata": {},
   "outputs": [],
   "source": [
    "data = pd.read_csv(\"./data/data_encod.csv\", index_col=[0])"
   ]
  },
  {
   "cell_type": "code",
   "execution_count": 54,
   "metadata": {},
   "outputs": [],
   "source": [
    "data=data.dropna(subset=[\"target\"])"
   ]
  },
  {
   "cell_type": "code",
   "execution_count": 30,
   "metadata": {},
   "outputs": [
    {
     "data": {
      "text/plain": [
       "(15539, 52)"
      ]
     },
     "execution_count": 30,
     "metadata": {},
     "output_type": "execute_result"
    }
   ],
   "source": [
    "data.shape"
   ]
  },
  {
   "cell_type": "code",
   "execution_count": 55,
   "metadata": {},
   "outputs": [
    {
     "data": {
      "text/html": [
       "<div>\n",
       "<style scoped>\n",
       "    .dataframe tbody tr th:only-of-type {\n",
       "        vertical-align: middle;\n",
       "    }\n",
       "\n",
       "    .dataframe tbody tr th {\n",
       "        vertical-align: top;\n",
       "    }\n",
       "\n",
       "    .dataframe thead th {\n",
       "        text-align: right;\n",
       "    }\n",
       "</style>\n",
       "<table border=\"1\" class=\"dataframe\">\n",
       "  <thead>\n",
       "    <tr style=\"text-align: right;\">\n",
       "      <th></th>\n",
       "      <th>ID</th>\n",
       "      <th>location</th>\n",
       "      <th>temp</th>\n",
       "      <th>precip</th>\n",
       "      <th>rel_humidity</th>\n",
       "      <th>wind_dir</th>\n",
       "      <th>wind_spd</th>\n",
       "      <th>atmos_press</th>\n",
       "      <th>target</th>\n",
       "      <th>max_temp</th>\n",
       "      <th>...</th>\n",
       "      <th>median_wind_spd</th>\n",
       "      <th>ptp_wind_spd</th>\n",
       "      <th>max_atmos_press</th>\n",
       "      <th>min_atmos_press</th>\n",
       "      <th>mean_atmos_press</th>\n",
       "      <th>std_atmos_press</th>\n",
       "      <th>var_atmos_press</th>\n",
       "      <th>median_atmos_press</th>\n",
       "      <th>ptp_atmos_press</th>\n",
       "      <th>target_log</th>\n",
       "    </tr>\n",
       "  </thead>\n",
       "  <tbody>\n",
       "    <tr>\n",
       "      <th>0</th>\n",
       "      <td>ID_train_0</td>\n",
       "      <td>2</td>\n",
       "      <td>[26.90909091, 27.20833333, 26.18333333, 24.7, ...</td>\n",
       "      <td>[0.0, 0.0, 0.0, 0.0, 0.0, 0.0, 0.0, 0.0, 0.0, ...</td>\n",
       "      <td>[0.5108181820000001, 0.535416667, 0.6145, 0.63...</td>\n",
       "      <td>[272.90275160000004, 104.565241, 167.1772247, ...</td>\n",
       "      <td>[0.800909091, 1.073333333, 1.5175, 1.4625, 0.5...</td>\n",
       "      <td>[87.77727273, 87.6525, 87.61416667, 87.6375, 8...</td>\n",
       "      <td>45.126304</td>\n",
       "      <td>27.208333</td>\n",
       "      <td>...</td>\n",
       "      <td>0.666250</td>\n",
       "      <td>1.355000</td>\n",
       "      <td>87.871667</td>\n",
       "      <td>87.614167</td>\n",
       "      <td>87.752434</td>\n",
       "      <td>0.070374</td>\n",
       "      <td>0.004952</td>\n",
       "      <td>87.762083</td>\n",
       "      <td>0.257500</td>\n",
       "      <td>3.831383</td>\n",
       "    </tr>\n",
       "    <tr>\n",
       "      <th>1</th>\n",
       "      <td>ID_train_1</td>\n",
       "      <td>3</td>\n",
       "      <td>[22.53333333, 21.71666667, 20.83333333, 20.983...</td>\n",
       "      <td>[0.102, 0.0, 0.0, 0.0, 0.0, 0.0, 0.0, 0.034, 0...</td>\n",
       "      <td>[0.744583333, 0.808083333, 0.911166667, 0.9163...</td>\n",
       "      <td>[281.6643101, 89.15629262, 81.96853891, 291.01...</td>\n",
       "      <td>[2.3775, 1.126666667, 0.700833333, 0.341666667...</td>\n",
       "      <td>[90.32, 90.3775, 90.44083333, 90.4725, 90.4541...</td>\n",
       "      <td>79.131702</td>\n",
       "      <td>33.616667</td>\n",
       "      <td>...</td>\n",
       "      <td>0.744167</td>\n",
       "      <td>2.760833</td>\n",
       "      <td>90.725000</td>\n",
       "      <td>90.056667</td>\n",
       "      <td>90.429924</td>\n",
       "      <td>0.156000</td>\n",
       "      <td>0.024336</td>\n",
       "      <td>90.429167</td>\n",
       "      <td>0.668333</td>\n",
       "      <td>4.383672</td>\n",
       "    </tr>\n",
       "    <tr>\n",
       "      <th>2</th>\n",
       "      <td>ID_train_10</td>\n",
       "      <td>0</td>\n",
       "      <td>[28.975, 27.95, 29.6, 26.425, 22.09166667, 21....</td>\n",
       "      <td>[0.0, 0.0, 0.0, 0.102, 0.136, 0.0, 0.0, 2.16, ...</td>\n",
       "      <td>[0.573333333, 0.597166667, 0.5668333329999999,...</td>\n",
       "      <td>[328.68291380000005, 307.8251459, 319.0177512,...</td>\n",
       "      <td>[1.0325, 1.193333333, 1.275833333, 1.493333333...</td>\n",
       "      <td>[88.55166667, 88.46416667, 88.31916667, 88.24,...</td>\n",
       "      <td>32.661304</td>\n",
       "      <td>31.841667</td>\n",
       "      <td>...</td>\n",
       "      <td>0.942500</td>\n",
       "      <td>2.420000</td>\n",
       "      <td>88.813333</td>\n",
       "      <td>87.982500</td>\n",
       "      <td>88.420931</td>\n",
       "      <td>0.179481</td>\n",
       "      <td>0.032213</td>\n",
       "      <td>88.425000</td>\n",
       "      <td>0.830833</td>\n",
       "      <td>3.516349</td>\n",
       "    </tr>\n",
       "    <tr>\n",
       "      <th>3</th>\n",
       "      <td>ID_train_100</td>\n",
       "      <td>0</td>\n",
       "      <td>[22.96666667, 24.26666667, 25.275, 25.625, 25....</td>\n",
       "      <td>[0.0, 0.0, 0.0, 0.0, 0.0, 0.0, 0.0, 0.0, 7.77,...</td>\n",
       "      <td>[0.8430833329999999, 0.79025, 0.7375, 0.728, 0...</td>\n",
       "      <td>[300.0850574, 293.6769595, 294.5174647, 301.92...</td>\n",
       "      <td>[1.446666667, 1.1925, 1.324166667, 1.544166666...</td>\n",
       "      <td>[88.615, 88.53083333, 88.4, 88.27166667, 88.20...</td>\n",
       "      <td>53.850238</td>\n",
       "      <td>27.491667</td>\n",
       "      <td>...</td>\n",
       "      <td>1.388333</td>\n",
       "      <td>2.469167</td>\n",
       "      <td>88.685000</td>\n",
       "      <td>87.965000</td>\n",
       "      <td>88.376915</td>\n",
       "      <td>0.161758</td>\n",
       "      <td>0.026166</td>\n",
       "      <td>88.400000</td>\n",
       "      <td>0.720000</td>\n",
       "      <td>4.004607</td>\n",
       "    </tr>\n",
       "    <tr>\n",
       "      <th>4</th>\n",
       "      <td>ID_train_1000</td>\n",
       "      <td>0</td>\n",
       "      <td>[21.875, 21.575, 21.525, 21.43333333, 20.50833...</td>\n",
       "      <td>[0.0, 0.0, 0.0, 0.0, 0.0, 0.0, 0.0, 0.0, 0.0, ...</td>\n",
       "      <td>[0.8564166670000001, 0.874916667, 0.879833333,...</td>\n",
       "      <td>[21.83997432, 17.05405341, 89.26406044, 123.58...</td>\n",
       "      <td>[0.1975, 0.244166667, 0.411666667, 0.56, 0.577...</td>\n",
       "      <td>[88.55666667, 88.64083333, 88.65833333, 88.647...</td>\n",
       "      <td>177.418750</td>\n",
       "      <td>28.750000</td>\n",
       "      <td>...</td>\n",
       "      <td>0.542917</td>\n",
       "      <td>1.796667</td>\n",
       "      <td>88.719167</td>\n",
       "      <td>88.268333</td>\n",
       "      <td>88.538104</td>\n",
       "      <td>0.118369</td>\n",
       "      <td>0.014011</td>\n",
       "      <td>88.552500</td>\n",
       "      <td>0.450833</td>\n",
       "      <td>5.184133</td>\n",
       "    </tr>\n",
       "  </tbody>\n",
       "</table>\n",
       "<p>5 rows × 52 columns</p>\n",
       "</div>"
      ],
      "text/plain": [
       "              ID  location                                               temp  \\\n",
       "0     ID_train_0         2  [26.90909091, 27.20833333, 26.18333333, 24.7, ...   \n",
       "1     ID_train_1         3  [22.53333333, 21.71666667, 20.83333333, 20.983...   \n",
       "2    ID_train_10         0  [28.975, 27.95, 29.6, 26.425, 22.09166667, 21....   \n",
       "3   ID_train_100         0  [22.96666667, 24.26666667, 25.275, 25.625, 25....   \n",
       "4  ID_train_1000         0  [21.875, 21.575, 21.525, 21.43333333, 20.50833...   \n",
       "\n",
       "                                              precip  \\\n",
       "0  [0.0, 0.0, 0.0, 0.0, 0.0, 0.0, 0.0, 0.0, 0.0, ...   \n",
       "1  [0.102, 0.0, 0.0, 0.0, 0.0, 0.0, 0.0, 0.034, 0...   \n",
       "2  [0.0, 0.0, 0.0, 0.102, 0.136, 0.0, 0.0, 2.16, ...   \n",
       "3  [0.0, 0.0, 0.0, 0.0, 0.0, 0.0, 0.0, 0.0, 7.77,...   \n",
       "4  [0.0, 0.0, 0.0, 0.0, 0.0, 0.0, 0.0, 0.0, 0.0, ...   \n",
       "\n",
       "                                        rel_humidity  \\\n",
       "0  [0.5108181820000001, 0.535416667, 0.6145, 0.63...   \n",
       "1  [0.744583333, 0.808083333, 0.911166667, 0.9163...   \n",
       "2  [0.573333333, 0.597166667, 0.5668333329999999,...   \n",
       "3  [0.8430833329999999, 0.79025, 0.7375, 0.728, 0...   \n",
       "4  [0.8564166670000001, 0.874916667, 0.879833333,...   \n",
       "\n",
       "                                            wind_dir  \\\n",
       "0  [272.90275160000004, 104.565241, 167.1772247, ...   \n",
       "1  [281.6643101, 89.15629262, 81.96853891, 291.01...   \n",
       "2  [328.68291380000005, 307.8251459, 319.0177512,...   \n",
       "3  [300.0850574, 293.6769595, 294.5174647, 301.92...   \n",
       "4  [21.83997432, 17.05405341, 89.26406044, 123.58...   \n",
       "\n",
       "                                            wind_spd  \\\n",
       "0  [0.800909091, 1.073333333, 1.5175, 1.4625, 0.5...   \n",
       "1  [2.3775, 1.126666667, 0.700833333, 0.341666667...   \n",
       "2  [1.0325, 1.193333333, 1.275833333, 1.493333333...   \n",
       "3  [1.446666667, 1.1925, 1.324166667, 1.544166666...   \n",
       "4  [0.1975, 0.244166667, 0.411666667, 0.56, 0.577...   \n",
       "\n",
       "                                         atmos_press      target   max_temp  \\\n",
       "0  [87.77727273, 87.6525, 87.61416667, 87.6375, 8...   45.126304  27.208333   \n",
       "1  [90.32, 90.3775, 90.44083333, 90.4725, 90.4541...   79.131702  33.616667   \n",
       "2  [88.55166667, 88.46416667, 88.31916667, 88.24,...   32.661304  31.841667   \n",
       "3  [88.615, 88.53083333, 88.4, 88.27166667, 88.20...   53.850238  27.491667   \n",
       "4  [88.55666667, 88.64083333, 88.65833333, 88.647...  177.418750  28.750000   \n",
       "\n",
       "   ...  median_wind_spd  ptp_wind_spd  max_atmos_press  min_atmos_press  \\\n",
       "0  ...         0.666250      1.355000        87.871667        87.614167   \n",
       "1  ...         0.744167      2.760833        90.725000        90.056667   \n",
       "2  ...         0.942500      2.420000        88.813333        87.982500   \n",
       "3  ...         1.388333      2.469167        88.685000        87.965000   \n",
       "4  ...         0.542917      1.796667        88.719167        88.268333   \n",
       "\n",
       "   mean_atmos_press  std_atmos_press  var_atmos_press  median_atmos_press  \\\n",
       "0         87.752434         0.070374         0.004952           87.762083   \n",
       "1         90.429924         0.156000         0.024336           90.429167   \n",
       "2         88.420931         0.179481         0.032213           88.425000   \n",
       "3         88.376915         0.161758         0.026166           88.400000   \n",
       "4         88.538104         0.118369         0.014011           88.552500   \n",
       "\n",
       "   ptp_atmos_press  target_log  \n",
       "0         0.257500    3.831383  \n",
       "1         0.668333    4.383672  \n",
       "2         0.830833    3.516349  \n",
       "3         0.720000    4.004607  \n",
       "4         0.450833    5.184133  \n",
       "\n",
       "[5 rows x 52 columns]"
      ]
     },
     "execution_count": 55,
     "metadata": {},
     "output_type": "execute_result"
    }
   ],
   "source": [
    "data.head()"
   ]
  },
  {
   "cell_type": "code",
   "execution_count": 56,
   "metadata": {},
   "outputs": [],
   "source": [
    "data= data.drop([\"ID\", \"temp\", \"precip\", \"rel_humidity\", \"wind_dir\", \"wind_spd\", \"atmos_press\", \"target_log\"], axis = 1)"
   ]
  },
  {
   "cell_type": "code",
   "execution_count": 109,
   "metadata": {},
   "outputs": [],
   "source": [
    "y = data[\"target\"]\n",
    "X=np.array(data.drop([\"target\"], axis= 1),ndmin=2)"
   ]
  },
  {
   "cell_type": "code",
   "execution_count": 95,
   "metadata": {},
   "outputs": [
    {
     "data": {
      "text/plain": [
       "(15539, 43)"
      ]
     },
     "execution_count": 95,
     "metadata": {},
     "output_type": "execute_result"
    }
   ],
   "source": [
    "X.shape"
   ]
  },
  {
   "cell_type": "code",
   "execution_count": 42,
   "metadata": {},
   "outputs": [
    {
     "data": {
      "text/plain": [
       "0"
      ]
     },
     "execution_count": 42,
     "metadata": {},
     "output_type": "execute_result"
    }
   ],
   "source": [
    "y.isnull().sum()"
   ]
  },
  {
   "cell_type": "code",
   "execution_count": 44,
   "metadata": {},
   "outputs": [
    {
     "data": {
      "text/plain": [
       "(15539,)"
      ]
     },
     "execution_count": 44,
     "metadata": {},
     "output_type": "execute_result"
    }
   ],
   "source": [
    "y.shape"
   ]
  },
  {
   "cell_type": "code",
   "execution_count": 110,
   "metadata": {},
   "outputs": [],
   "source": [
    "from sklearn.model_selection import train_test_split\n",
    "\n",
    "X_train, X_test, y_train, y_test = train_test_split(X,\n",
    "                                         y,\n",
    "                                         test_size = 0.3, \n",
    "                                         random_state = RSEED)"
   ]
  },
  {
   "cell_type": "code",
   "execution_count": 86,
   "metadata": {},
   "outputs": [
    {
     "data": {
      "text/plain": [
       "(10877, 43)"
      ]
     },
     "execution_count": 86,
     "metadata": {},
     "output_type": "execute_result"
    }
   ],
   "source": [
    "X_train.shape"
   ]
  },
  {
   "cell_type": "code",
   "execution_count": null,
   "metadata": {},
   "outputs": [],
   "source": []
  },
  {
   "cell_type": "code",
   "execution_count": 117,
   "metadata": {},
   "outputs": [],
   "source": [
    "y_train =y_train.values.reshape(-1,1)"
   ]
  },
  {
   "cell_type": "code",
   "execution_count": 127,
   "metadata": {},
   "outputs": [],
   "source": [
    "from sklearn.ensemble import RandomForestRegressor\n",
    "\n",
    "#features = list(X_train.columns)\n",
    "\n",
    "model = RandomForestRegressor(n_estimators=100, \n",
    "                               random_state=RSEED,\n",
    "                               criterion= \"poisson\",\n",
    "                               n_jobs=-1, verbose = 10)"
   ]
  },
  {
   "cell_type": "code",
   "execution_count": 128,
   "metadata": {},
   "outputs": [
    {
     "name": "stderr",
     "output_type": "stream",
     "text": [
      "[Parallel(n_jobs=-1)]: Using backend ThreadingBackend with 8 concurrent workers.\n"
     ]
    },
    {
     "name": "stdout",
     "output_type": "stream",
     "text": [
      "building tree 1 of 100\n",
      "building tree 2 of 100\n",
      "building tree 3 of 100\n",
      "building tree 4 of 100\n",
      "building tree 5 of 100\n",
      "building tree 6 of 100\n",
      "building tree 7 of 100\n",
      "building tree 8 of 100\n",
      "building tree 9 of 100\n",
      "building tree 10 of 100building tree 11 of 100\n",
      "\n"
     ]
    },
    {
     "name": "stderr",
     "output_type": "stream",
     "text": [
      "[Parallel(n_jobs=-1)]: Done   2 tasks      | elapsed:    6.9s\n"
     ]
    },
    {
     "name": "stdout",
     "output_type": "stream",
     "text": [
      "building tree 12 of 100\n",
      "building tree 13 of 100\n",
      "building tree 14 of 100\n",
      "building tree 15 of 100\n",
      "building tree 16 of 100\n",
      "building tree 17 of 100\n"
     ]
    },
    {
     "name": "stderr",
     "output_type": "stream",
     "text": [
      "[Parallel(n_jobs=-1)]: Done   9 tasks      | elapsed:   13.8s\n"
     ]
    },
    {
     "name": "stdout",
     "output_type": "stream",
     "text": [
      "building tree 18 of 100\n",
      "building tree 19 of 100\n",
      "building tree 20 of 100\n",
      "building tree 21 of 100\n",
      "building tree 22 of 100\n",
      "building tree 23 of 100\n",
      "building tree 24 of 100\n"
     ]
    },
    {
     "name": "stderr",
     "output_type": "stream",
     "text": [
      "[Parallel(n_jobs=-1)]: Done  16 tasks      | elapsed:   15.3s\n"
     ]
    },
    {
     "name": "stdout",
     "output_type": "stream",
     "text": [
      "building tree 25 of 100\n",
      "building tree 26 of 100\n",
      "building tree 27 of 100\n",
      "building tree 28 of 100\n",
      "building tree 29 of 100\n",
      "building tree 30 of 100\n",
      "building tree 31 of 100\n",
      "building tree 32 of 100\n",
      "building tree 33 of 100\n"
     ]
    },
    {
     "name": "stderr",
     "output_type": "stream",
     "text": [
      "[Parallel(n_jobs=-1)]: Done  25 tasks      | elapsed:   27.3s\n"
     ]
    },
    {
     "name": "stdout",
     "output_type": "stream",
     "text": [
      "building tree 34 of 100\n",
      "building tree 35 of 100\n",
      "building tree 36 of 100\n",
      "building tree 37 of 100\n",
      "building tree 38 of 100\n",
      "building tree 39 of 100\n",
      "building tree 40 of 100\n",
      "building tree 41 of 100\n",
      "building tree 42 of 100\n"
     ]
    },
    {
     "name": "stderr",
     "output_type": "stream",
     "text": [
      "[Parallel(n_jobs=-1)]: Done  34 tasks      | elapsed:   35.8s\n"
     ]
    },
    {
     "name": "stdout",
     "output_type": "stream",
     "text": [
      "building tree 43 of 100\n",
      "building tree 44 of 100\n",
      "building tree 45 of 100\n",
      "building tree 46 of 100\n",
      "building tree 47 of 100\n",
      "building tree 48 of 100\n",
      "building tree 49 of 100\n",
      "building tree 50 of 100\n",
      "building tree 51 of 100\n",
      "building tree 52 of 100\n",
      "building tree 53 of 100\n"
     ]
    },
    {
     "name": "stderr",
     "output_type": "stream",
     "text": [
      "[Parallel(n_jobs=-1)]: Done  45 tasks      | elapsed:   45.3s\n"
     ]
    },
    {
     "name": "stdout",
     "output_type": "stream",
     "text": [
      "building tree 54 of 100\n",
      "building tree 55 of 100\n",
      "building tree 56 of 100\n",
      "building tree 57 of 100\n",
      "building tree 58 of 100\n",
      "building tree 59 of 100\n",
      "building tree 60 of 100\n",
      "building tree 61 of 100\n",
      "building tree 62 of 100\n",
      "building tree 63 of 100\n",
      "building tree 64 of 100\n"
     ]
    },
    {
     "name": "stderr",
     "output_type": "stream",
     "text": [
      "[Parallel(n_jobs=-1)]: Done  56 tasks      | elapsed:   55.1s\n"
     ]
    },
    {
     "name": "stdout",
     "output_type": "stream",
     "text": [
      "building tree 65 of 100\n",
      "building tree 66 of 100\n",
      "building tree 67 of 100\n",
      "building tree 68 of 100\n",
      "building tree 69 of 100\n",
      "building tree 70 of 100\n",
      "building tree 71 of 100\n",
      "building tree 72 of 100\n",
      "building tree 73 of 100\n",
      "building tree 74 of 100\n",
      "building tree 75 of 100\n",
      "building tree 76 of 100\n",
      "building tree 77 of 100\n",
      "building tree 78 of 100\n"
     ]
    },
    {
     "name": "stderr",
     "output_type": "stream",
     "text": [
      "[Parallel(n_jobs=-1)]: Done  69 tasks      | elapsed:  1.1min\n"
     ]
    },
    {
     "name": "stdout",
     "output_type": "stream",
     "text": [
      "building tree 79 of 100\n",
      "building tree 80 of 100\n",
      "building tree 81 of 100\n",
      "building tree 82 of 100\n",
      "building tree 83 of 100\n",
      "building tree 84 of 100\n",
      "building tree 85 of 100\n",
      "building tree 86 of 100\n",
      "building tree 87 of 100\n",
      "building tree 88 of 100\n",
      "building tree 89 of 100\n",
      "building tree 90 of 100\n"
     ]
    },
    {
     "name": "stderr",
     "output_type": "stream",
     "text": [
      "[Parallel(n_jobs=-1)]: Done  82 tasks      | elapsed:  1.3min\n"
     ]
    },
    {
     "name": "stdout",
     "output_type": "stream",
     "text": [
      "building tree 91 of 100\n",
      "building tree 92 of 100\n",
      "building tree 93 of 100\n",
      "building tree 94 of 100\n",
      "building tree 95 of 100\n",
      "building tree 96 of 100\n",
      "building tree 97 of 100\n",
      "building tree 98 of 100\n",
      "building tree 99 of 100\n",
      "building tree 100 of 100\n"
     ]
    },
    {
     "name": "stderr",
     "output_type": "stream",
     "text": [
      "[Parallel(n_jobs=-1)]: Done  96 out of 100 | elapsed:  1.5min remaining:    3.8s\n",
      "[Parallel(n_jobs=-1)]: Done 100 out of 100 | elapsed:  1.5min finished\n"
     ]
    },
    {
     "data": {
      "text/plain": [
       "RandomForestRegressor(criterion='poisson', n_jobs=-1, random_state=42,\n",
       "                      verbose=10)"
      ]
     },
     "execution_count": 128,
     "metadata": {},
     "output_type": "execute_result"
    }
   ],
   "source": [
    "\n",
    "model.fit(X_train, y_train)\n",
    "\n",
    "\n",
    "#n_nodes = []\n",
    "#max_depths = []\n",
    "\n",
    "# Stats about the trees in random forest\n",
    "#for ind_tree in model.estimators_:\n",
    " #   n_nodes.append(ind_tree.tree_.node_count)\n",
    "  #  max_depths.append(ind_tree.tree_.max_depth)\n",
    "    \n",
    "#print(f'Average number of nodes {int(np.mean(n_nodes))}')\n",
    "#print(f'Average maximum depth {int(np.mean(max_depths))}')\n",
    "\n",
    "# Training predictions (to demonstrate overfitting)\n",

    "train_rf_predictions = model.predict(X_train)\n",
    "#train_rf_probs = model.predict_proba(X_train)[:, 1]\n",
    "\n",
    "# Testing predictions (to determine performance)\n",
    "rf_predictions = model.predict(X_test)\n",
     
    "#rf_probs = model.predict_proba(X_test)[:, 1]"
   ]
  },
  {
   "cell_type": "code",

  },
  {
   "cell_type": "code",
   "execution_count": 66,
   "metadata": {},
   "outputs": [
    {
     "data": {
      "text/plain": [
       "location                 int64\n",
       "target                 float64\n",
       "max_temp               float64\n",
       "min_temp               float64\n",
       "mean_temp              float64\n",
       "std_temp               float64\n",
       "var_temp               float64\n",
       "median_temp            float64\n",
       "ptp_temp               float64\n",
       "max_precip             float64\n",
       "min_precip             float64\n",
       "mean_precip            float64\n",
       "std_precip             float64\n",
       "var_precip             float64\n",
       "median_precip          float64\n",
       "ptp_precip             float64\n",
       "max_rel_humidity       float64\n",
       "min_rel_humidity       float64\n",
       "mean_rel_humidity      float64\n",
       "std_rel_humidity       float64\n",
       "var_rel_humidity       float64\n",
       "median_rel_humidity    float64\n",
       "ptp_rel_humidity       float64\n",
       "max_wind_dir           float64\n",
       "min_wind_dir           float64\n",
       "mean_wind_dir          float64\n",
       "std_wind_dir           float64\n",
       "var_wind_dir           float64\n",
       "median_wind_dir        float64\n",
       "ptp_wind_dir           float64\n",
       "max_wind_spd           float64\n",
       "min_wind_spd           float64\n",
       "mean_wind_spd          float64\n",
       "std_wind_spd           float64\n",
       "var_wind_spd           float64\n",
       "median_wind_spd        float64\n",
       "ptp_wind_spd           float64\n",
       "max_atmos_press        float64\n",
       "min_atmos_press        float64\n",
       "mean_atmos_press       float64\n",
       "std_atmos_press        float64\n",
       "var_atmos_press        float64\n",
       "median_atmos_press     float64\n",
       "ptp_atmos_press        float64\n",
       "dtype: object"
      ]
     },
     "execution_count": 66,
     "metadata": {},
     "output_type": "execute_result"
    }
   ],
   "source": [
    "data.dtypes"
   ]
  },
  {
   "cell_type": "code",
   "execution_count": null,
   "metadata": {},
   "outputs": [],
   "source": []
  }
 ],
 "metadata": {
  "interpreter": {
   "hash": "2e7abca54acc13c53ef3404d75211e27b5076aad57df6065b7009d7b1b84f2d4"
  },
  "kernelspec": {
   "display_name": "Python 3.9.4 ('.venv': venv)",
   "language": "python",
   "name": "python3"
  },
  "language_info": {
   "codemirror_mode": {
    "name": "ipython",
    "version": 3
   },
   "file_extension": ".py",
   "mimetype": "text/x-python",
   "name": "python",
   "nbconvert_exporter": "python",
   "pygments_lexer": "ipython3",
   "version": "3.9.4"
  },
  "orig_nbformat": 4
 },
 "nbformat": 4,
 "nbformat_minor": 2
}
