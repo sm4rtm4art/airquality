{
 "cells": [
  {
   "cell_type": "code",
   "execution_count": null,
   "metadata": {},
   "outputs": [],
   "source": [
    "# Import required packages \n",
    "import numpy as np\n",
    "import pandas as pd\n",
    "import matplotlib.pyplot as plt\n",
    "import seaborn as sns\n",
    "\n",
    "\n",
    "from sklearn.linear_model import LinearRegression\n",
    "import lightgbm as lgbm \n",
    "from sklearn.model_selection import train_test_split\n",
    "from sklearn.metrics import mean_squared_error\n",
    "\n",
    "from sklearn.preprocessing import StandardScaler\n",
    "\n",
    "# Set figure stile and size for entire notebook\n",
    "sns.set_context('talk')\n",
    "plt.style.use(['dark_background'])\n",
    "#plt.rcParams['image.cmap'] = \"orangered\"\n",
    "plt.rcParams.update({'font.sans-serif':'Helvetica'})\n"
   ]
  },
  {
   "cell_type": "code",
   "execution_count": null,
   "metadata": {},
   "outputs": [],
   "source": [
    "# Import Data\n",
    "\n",
    "data = pd.read_csv('data/data_prep_reg.csv', index_col=[0])\n",
    "#data = pd.read_csv('data/data_prep_feat.csv', index_col=[0])\n",
    "\n",
    "print(f'Data: {data.shape}')"
   ]
  },
  {
   "cell_type": "code",
   "execution_count": null,
   "metadata": {},
   "outputs": [],
   "source": [
    "#fillna\n",
    "data = data.fillna(data.mean())"
   ]
  },
  {
   "cell_type": "code",
   "execution_count": null,
   "metadata": {},
   "outputs": [],
   "source": [
    "data.head()"
   ]
  },
  {
   "cell_type": "code",
   "execution_count": null,
   "metadata": {},
   "outputs": [],
   "source": [
    "columns_to_drop = ['target', 'location']\n",
    "# define features and target\n",
    "X = data.drop(columns_to_drop, axis=1)\n",
    "y = data.target\n",
    "\n",
    "# test train split: \n",
    "X_train, X_test, y_train, y_test = train_test_split(  \n",
    "                                    X, y, test_size = 0.3, random_state = 100) \n",
    "\n",
    "print (f'X: {X.shape}')\n",
    "print (f'y: {y.shape}')\n",
    "\n",
    "print (f'X_train: {X_train.shape}')\n",
    "print (f'y_train: {y_train.shape}')\n",
    "\n",
    "print (f'X_test: {X_test.shape}')\n",
    "print (f'y_test: {y_test.shape}')"
   ]
  },
  {
   "cell_type": "code",
   "execution_count": null,
   "metadata": {},
   "outputs": [],
   "source": [
    "lgbm_params = {\n",
    "    \"bagging_fraction\": 0.8,\n",
    "    \"bagging_freq\": 2,\n",
    "    \"boosting_type\": \"gbdt\",\n",
    "    \"feature_fraction\": 0.8,\n",
    "    \"learning_rate\": 0.01,\n",
    "    \"max_depth\": 8,\n",
    "    \"num_threads\": 16,\n",
    "    \"objective\": \"regression\",\n",
    "    \"metric\": \"rmse\",\n",
    "    \"seed\": 2020,\n",
    "}\n",
    "\n",
    "dtrain = lgbm.Dataset(data=X_train, label=y_train)\n",
    "\n",
    "model = lgbm.train(params=lgbm_params,\n",
    "        train_set=dtrain\n",
    "        )"
   ]
  },
  {
   "cell_type": "code",
   "execution_count": null,
   "metadata": {},
   "outputs": [],
   "source": []
  }
 ],
 "metadata": {
  "language_info": {
   "name": "python"
  },
  "orig_nbformat": 4
 },
 "nbformat": 4,
 "nbformat_minor": 2
}
