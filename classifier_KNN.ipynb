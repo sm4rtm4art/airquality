{
 "cells": [
  {
   "cell_type": "code",
   "execution_count": 101,
   "metadata": {},
   "outputs": [],
   "source": [
    "import pandas as pd\n",
    "import numpy as np\n",
    "import warnings\n",
    "from tqdm import tqdm\n",
    "\n",
    "\n",
    "import seaborn as sns\n",
    "import matplotlib.pyplot as plt\n",
    "\n",
    "from scipy.stats import boxcox\n",
    "warnings.filterwarnings('ignore')\n",
    "\n",
    "RSEED=42\n",
    "\n",
    "sns.set_context('talk')\n",
    "plt.style.use(['dark_background'])\n",
    "#plt.rcParams['image.cmap'] = \"orangered\"\n",
    "plt.rcParams.update({'font.sans-serif':'Helvetica'})"
   ]
  },
  {
   "cell_type": "code",
   "execution_count": 104,
   "metadata": {},
   "outputs": [],
   "source": [
    "data =  pd.read_csv(\"./data/data_prep_clf.csv\", index_col=[0])"
   ]
  },
  {
   "cell_type": "code",
   "execution_count": 17,
   "metadata": {},
   "outputs": [
    {
     "data": {
      "text/plain": [
       "Index(['location', 'target', 'max_temp', 'min_temp', 'mean_temp', 'std_temp',\n",
       "       'var_temp', 'median_temp', 'ptp_temp', 'max_precip', 'min_precip',\n",
       "       'mean_precip', 'std_precip', 'var_precip', 'median_precip',\n",
       "       'ptp_precip', 'max_rel_humidity', 'min_rel_humidity',\n",
       "       'mean_rel_humidity', 'std_rel_humidity', 'var_rel_humidity',\n",
       "       'median_rel_humidity', 'ptp_rel_humidity', 'max_wind_dir',\n",
       "       'min_wind_dir', 'mean_wind_dir', 'std_wind_dir', 'var_wind_dir',\n",
       "       'median_wind_dir', 'ptp_wind_dir', 'max_wind_spd', 'min_wind_spd',\n",
       "       'mean_wind_spd', 'std_wind_spd', 'var_wind_spd', 'median_wind_spd',\n",
       "       'ptp_wind_spd', 'max_atmos_press', 'min_atmos_press',\n",
       "       'mean_atmos_press', 'std_atmos_press', 'var_atmos_press',\n",
       "       'median_atmos_press', 'ptp_atmos_press', 'Bi_airquality',\n",
       "       'trafic_airquality', '6fold_airquality'],\n",
       "      dtype='object')"
      ]
     },
     "execution_count": 17,
     "metadata": {},
     "output_type": "execute_result"
    }
   ],
   "source": [
    "data.columns"
   ]
  },
  {
   "cell_type": "code",
   "execution_count": 105,
   "metadata": {},
   "outputs": [],
   "source": [
    "data_b=data.drop([\"target\",'trafic_airquality', '6fold_airquality'],axis=1)"
   ]
  },
  {
   "cell_type": "code",
   "execution_count": 106,
   "metadata": {},
   "outputs": [
    {
     "data": {
      "text/html": [
       "<div>\n",
       "<style scoped>\n",
       "    .dataframe tbody tr th:only-of-type {\n",
       "        vertical-align: middle;\n",
       "    }\n",
       "\n",
       "    .dataframe tbody tr th {\n",
       "        vertical-align: top;\n",
       "    }\n",
       "\n",
       "    .dataframe thead th {\n",
       "        text-align: right;\n",
       "    }\n",
       "</style>\n",
       "<table border=\"1\" class=\"dataframe\">\n",
       "  <thead>\n",
       "    <tr style=\"text-align: right;\">\n",
       "      <th></th>\n",
       "      <th>location</th>\n",
       "      <th>max_temp</th>\n",
       "      <th>min_temp</th>\n",
       "      <th>mean_temp</th>\n",
       "      <th>std_temp</th>\n",
       "      <th>var_temp</th>\n",
       "      <th>median_temp</th>\n",
       "      <th>ptp_temp</th>\n",
       "      <th>max_precip</th>\n",
       "      <th>min_precip</th>\n",
       "      <th>...</th>\n",
       "      <th>median_wind_spd</th>\n",
       "      <th>ptp_wind_spd</th>\n",
       "      <th>max_atmos_press</th>\n",
       "      <th>min_atmos_press</th>\n",
       "      <th>mean_atmos_press</th>\n",
       "      <th>std_atmos_press</th>\n",
       "      <th>var_atmos_press</th>\n",
       "      <th>median_atmos_press</th>\n",
       "      <th>ptp_atmos_press</th>\n",
       "      <th>Bi_airquality</th>\n",
       "    </tr>\n",
       "  </thead>\n",
       "  <tbody>\n",
       "    <tr>\n",
       "      <th>0</th>\n",
       "      <td>2</td>\n",
       "      <td>27.208333</td>\n",
       "      <td>19.275000</td>\n",
       "      <td>22.299527</td>\n",
       "      <td>2.594011</td>\n",
       "      <td>6.728895</td>\n",
       "      <td>21.358333</td>\n",
       "      <td>7.933333</td>\n",
       "      <td>0.000</td>\n",
       "      <td>0.0</td>\n",
       "      <td>...</td>\n",
       "      <td>0.666250</td>\n",
       "      <td>1.355000</td>\n",
       "      <td>87.871667</td>\n",
       "      <td>87.614167</td>\n",
       "      <td>87.752434</td>\n",
       "      <td>0.070374</td>\n",
       "      <td>0.004952</td>\n",
       "      <td>87.762083</td>\n",
       "      <td>0.257500</td>\n",
       "      <td>bad</td>\n",
       "    </tr>\n",
       "    <tr>\n",
       "      <th>1</th>\n",
       "      <td>3</td>\n",
       "      <td>33.616667</td>\n",
       "      <td>17.983333</td>\n",
       "      <td>24.679063</td>\n",
       "      <td>4.266955</td>\n",
       "      <td>18.206903</td>\n",
       "      <td>23.791667</td>\n",
       "      <td>15.633333</td>\n",
       "      <td>0.561</td>\n",
       "      <td>0.0</td>\n",
       "      <td>...</td>\n",
       "      <td>0.744167</td>\n",
       "      <td>2.760833</td>\n",
       "      <td>90.725000</td>\n",
       "      <td>90.056667</td>\n",
       "      <td>90.429924</td>\n",
       "      <td>0.156000</td>\n",
       "      <td>0.024336</td>\n",
       "      <td>90.429167</td>\n",
       "      <td>0.668333</td>\n",
       "      <td>bad</td>\n",
       "    </tr>\n",
       "    <tr>\n",
       "      <th>2</th>\n",
       "      <td>0</td>\n",
       "      <td>31.841667</td>\n",
       "      <td>18.458333</td>\n",
       "      <td>24.112317</td>\n",
       "      <td>3.776377</td>\n",
       "      <td>14.261020</td>\n",
       "      <td>23.304167</td>\n",
       "      <td>13.383333</td>\n",
       "      <td>7.804</td>\n",
       "      <td>0.0</td>\n",
       "      <td>...</td>\n",
       "      <td>0.942500</td>\n",
       "      <td>2.420000</td>\n",
       "      <td>88.813333</td>\n",
       "      <td>87.982500</td>\n",
       "      <td>88.420931</td>\n",
       "      <td>0.179481</td>\n",
       "      <td>0.032213</td>\n",
       "      <td>88.425000</td>\n",
       "      <td>0.830833</td>\n",
       "      <td>good</td>\n",
       "    </tr>\n",
       "    <tr>\n",
       "      <th>3</th>\n",
       "      <td>0</td>\n",
       "      <td>27.491667</td>\n",
       "      <td>16.941667</td>\n",
       "      <td>20.845273</td>\n",
       "      <td>3.080140</td>\n",
       "      <td>9.487259</td>\n",
       "      <td>19.541667</td>\n",
       "      <td>10.550000</td>\n",
       "      <td>25.787</td>\n",
       "      <td>0.0</td>\n",
       "      <td>...</td>\n",
       "      <td>1.388333</td>\n",
       "      <td>2.469167</td>\n",
       "      <td>88.685000</td>\n",
       "      <td>87.965000</td>\n",
       "      <td>88.376915</td>\n",
       "      <td>0.161758</td>\n",
       "      <td>0.026166</td>\n",
       "      <td>88.400000</td>\n",
       "      <td>0.720000</td>\n",
       "      <td>bad</td>\n",
       "    </tr>\n",
       "    <tr>\n",
       "      <th>4</th>\n",
       "      <td>0</td>\n",
       "      <td>28.750000</td>\n",
       "      <td>17.525000</td>\n",
       "      <td>21.870732</td>\n",
       "      <td>3.286870</td>\n",
       "      <td>10.803515</td>\n",
       "      <td>20.950000</td>\n",
       "      <td>11.225000</td>\n",
       "      <td>0.136</td>\n",
       "      <td>0.0</td>\n",
       "      <td>...</td>\n",
       "      <td>0.542917</td>\n",
       "      <td>1.796667</td>\n",
       "      <td>88.719167</td>\n",
       "      <td>88.268333</td>\n",
       "      <td>88.538104</td>\n",
       "      <td>0.118369</td>\n",
       "      <td>0.014011</td>\n",
       "      <td>88.552500</td>\n",
       "      <td>0.450833</td>\n",
       "      <td>bad</td>\n",
       "    </tr>\n",
       "  </tbody>\n",
       "</table>\n",
       "<p>5 rows × 44 columns</p>\n",
       "</div>"
      ],
      "text/plain": [
       "   location   max_temp   min_temp  mean_temp  std_temp   var_temp  \\\n",
       "0         2  27.208333  19.275000  22.299527  2.594011   6.728895   \n",
       "1         3  33.616667  17.983333  24.679063  4.266955  18.206903   \n",
       "2         0  31.841667  18.458333  24.112317  3.776377  14.261020   \n",
       "3         0  27.491667  16.941667  20.845273  3.080140   9.487259   \n",
       "4         0  28.750000  17.525000  21.870732  3.286870  10.803515   \n",
       "\n",
       "   median_temp   ptp_temp  max_precip  min_precip  ...  median_wind_spd  \\\n",
       "0    21.358333   7.933333       0.000         0.0  ...         0.666250   \n",
       "1    23.791667  15.633333       0.561         0.0  ...         0.744167   \n",
       "2    23.304167  13.383333       7.804         0.0  ...         0.942500   \n",
       "3    19.541667  10.550000      25.787         0.0  ...         1.388333   \n",
       "4    20.950000  11.225000       0.136         0.0  ...         0.542917   \n",
       "\n",
       "   ptp_wind_spd  max_atmos_press  min_atmos_press  mean_atmos_press  \\\n",
       "0      1.355000        87.871667        87.614167         87.752434   \n",
       "1      2.760833        90.725000        90.056667         90.429924   \n",
       "2      2.420000        88.813333        87.982500         88.420931   \n",
       "3      2.469167        88.685000        87.965000         88.376915   \n",
       "4      1.796667        88.719167        88.268333         88.538104   \n",
       "\n",
       "   std_atmos_press  var_atmos_press  median_atmos_press  ptp_atmos_press  \\\n",
       "0         0.070374         0.004952           87.762083         0.257500   \n",
       "1         0.156000         0.024336           90.429167         0.668333   \n",
       "2         0.179481         0.032213           88.425000         0.830833   \n",
       "3         0.161758         0.026166           88.400000         0.720000   \n",
       "4         0.118369         0.014011           88.552500         0.450833   \n",
       "\n",
       "   Bi_airquality  \n",
       "0            bad  \n",
       "1            bad  \n",
       "2           good  \n",
       "3            bad  \n",
       "4            bad  \n",
       "\n",
       "[5 rows x 44 columns]"
      ]
     },
     "execution_count": 106,
     "metadata": {},
     "output_type": "execute_result"
    }
   ],
   "source": [
    "data_b.head()"
   ]
  },
  {
   "cell_type": "code",
   "execution_count": 107,
   "metadata": {},
   "outputs": [],
   "source": [
    "y=data_b[\"Bi_airquality\"]\n",
    "X= data_b.drop([\"Bi_airquality\"], axis =1)"
   ]
  },
  {
   "cell_type": "code",
   "execution_count": 108,
   "metadata": {},
   "outputs": [],
   "source": [
    "from sklearn.model_selection import train_test_split\n",
    "\n",
    "X_train, X_test, y_train, y_test = train_test_split(X, y, test_size=0.3, stratify=y, random_state=RSEED)"
   ]
  },
  {
   "cell_type": "markdown",
   "metadata": {},
   "source": [
    "## Scaling"
   ]
  },
  {
   "cell_type": "code",
   "execution_count": 109,
   "metadata": {},
   "outputs": [],
   "source": [
    "from sklearn.preprocessing import StandardScaler, MinMaxScaler"
   ]
  },
  {
   "cell_type": "code",
   "execution_count": 11,
   "metadata": {},
   "outputs": [
    {
     "data": {
      "text/plain": [
       "Index(['location', 'target', 'max_temp', 'min_temp', 'mean_temp', 'std_temp',\n",
       "       'var_temp', 'median_temp', 'ptp_temp', 'max_precip', 'min_precip',\n",
       "       'mean_precip', 'std_precip', 'var_precip', 'median_precip',\n",
       "       'ptp_precip', 'max_rel_humidity', 'min_rel_humidity',\n",
       "       'mean_rel_humidity', 'std_rel_humidity', 'var_rel_humidity',\n",
       "       'median_rel_humidity', 'ptp_rel_humidity', 'max_wind_dir',\n",
       "       'min_wind_dir', 'mean_wind_dir', 'std_wind_dir', 'var_wind_dir',\n",
       "       'median_wind_dir', 'ptp_wind_dir', 'max_wind_spd', 'min_wind_spd',\n",
       "       'mean_wind_spd', 'std_wind_spd', 'var_wind_spd', 'median_wind_spd',\n",
       "       'ptp_wind_spd', 'max_atmos_press', 'min_atmos_press',\n",
       "       'mean_atmos_press', 'std_atmos_press', 'var_atmos_press',\n",
       "       'median_atmos_press', 'ptp_atmos_press'],\n",
       "      dtype='object')"
      ]
     },
     "execution_count": 11,
     "metadata": {},
     "output_type": "execute_result"
    }
   ],
   "source": [
    "X.columns"
   ]
  },
  {
   "cell_type": "code",
   "execution_count": 111,
   "metadata": {},
   "outputs": [],
   "source": [
    "col_scale = ['location', 'max_temp', 'min_temp', 'mean_temp', 'std_temp',\n",
    "       'var_temp', 'median_temp', 'ptp_temp', 'max_precip', 'min_precip',\n",
    "       'mean_precip', 'std_precip', 'var_precip', 'median_precip',\n",
    "       'ptp_precip', 'max_rel_humidity', 'min_rel_humidity',\n",
    "       'mean_rel_humidity', 'std_rel_humidity', 'var_rel_humidity',\n",
    "       'median_rel_humidity', 'ptp_rel_humidity', 'max_wind_dir',\n",
    "       'min_wind_dir', 'mean_wind_dir', 'std_wind_dir', 'var_wind_dir',\n",
    "       'median_wind_dir', 'ptp_wind_dir', 'max_wind_spd', 'min_wind_spd',\n",
    "       'mean_wind_spd', 'std_wind_spd', 'var_wind_spd', 'median_wind_spd',\n",
    "       'ptp_wind_spd', 'max_atmos_press', 'min_atmos_press',\n",
    "       'mean_atmos_press', 'std_atmos_press', 'var_atmos_press',\n",
    "       'median_atmos_press', 'ptp_atmos_press']"
   ]
  },
  {
   "cell_type": "code",
   "execution_count": 112,
   "metadata": {},
   "outputs": [],
   "source": [
    "scaler = StandardScaler()\n",
    "\n",
    "X_train_scaled = scaler.fit_transform(X_train[col_scale])\n",
    "X_test_scaled = scaler.transform(X_test[col_scale])"
   ]
  },
  {
   "cell_type": "code",
   "execution_count": 185,
   "metadata": {},
   "outputs": [
    {
     "name": "stdout",
     "output_type": "stream",
     "text": [
      "Train data\n",
      "# df_train:     10877\n",
      "====\n",
      "Test data\n",
      "# df_test:     4662\n"
     ]
    }
   ],
   "source": [
    "print('Train data')\n",
    "print('# df_train:     {}'.format(X_train_scaled.shape[0]))\n",
    "print('====')\n",
    "print('Test data')\n",
    "print('# df_test:     {}'.format(X_test_scaled.shape[0]))"
   ]
  },
  {
   "cell_type": "code",
   "execution_count": 113,
   "metadata": {},
   "outputs": [
    {
     "data": {
      "text/plain": [
       "(10877, 43)"
      ]
     },
     "metadata": {},
     "output_type": "display_data"
    },
    {
     "data": {
      "text/plain": [
       "(10877,)"
      ]
     },
     "metadata": {},
     "output_type": "display_data"
    }
   ],
   "source": [
    "display(X_train.shape, y_train.shape)"
   ]
  },
  {
   "cell_type": "code",
   "execution_count": 114,
   "metadata": {},
   "outputs": [
    {
     "data": {
      "text/plain": [
       "13461     bad\n",
       "3535     good\n",
       "4517      bad\n",
       "10396    good\n",
       "10042    good\n",
       "         ... \n",
       "4790     good\n",
       "1332      bad\n",
       "10377     bad\n",
       "7514      bad\n",
       "13861     bad\n",
       "Name: Bi_airquality, Length: 4662, dtype: object"
      ]
     },
     "execution_count": 114,
     "metadata": {},
     "output_type": "execute_result"
    }
   ],
   "source": [
    "y_test"
   ]
  },
  {
   "cell_type": "code",
   "execution_count": 115,
   "metadata": {},
   "outputs": [],
   "source": [
    "X_train_scaled =np.array( X_train_scaled, ndmin=2)\n",
    "X_test_scaled = np.array(X_test_scaled, ndmin = 2)"
   ]
  },
  {
   "cell_type": "code",
   "execution_count": 116,
   "metadata": {},
   "outputs": [],
   "source": [
    "from sklearn.neighbors import KNeighborsClassifier\n",
    "\n"
   ]
  },
  {
   "cell_type": "code",
   "execution_count": 117,
   "metadata": {},
   "outputs": [
    {
     "data": {
      "text/plain": [
       "KNeighborsClassifier(metric='euclidean')"
      ]
     },
     "execution_count": 117,
     "metadata": {},
     "output_type": "execute_result"
    }
   ],
   "source": [
    "knn = KNeighborsClassifier(n_neighbors=5, metric='euclidean')\n",
    "knn.fit(X_train_scaled, np.ravel(y_train))"
   ]
  },
  {
   "cell_type": "code",
   "execution_count": 118,
   "metadata": {},
   "outputs": [],
   "source": [
    "y_pred = knn.predict(X_test)"
   ]
  },
  {
   "cell_type": "markdown",
   "metadata": {},
   "source": [
    "## Finding best K"
   ]
  },
  {
   "cell_type": "code",
   "execution_count": 119,
   "metadata": {},
   "outputs": [],
   "source": [
    "from sklearn.metrics import confusion_matrix, accuracy_score, recall_score"
   ]
  },
  {
   "cell_type": "code",
   "execution_count": 120,
   "metadata": {},
   "outputs": [
    {
     "name": "stdout",
     "output_type": "stream",
     "text": [
      "Accuracy: 0.681\n"
     ]
    },
    {
     "ename": "ValueError",
     "evalue": "pos_label=1 is not a valid label. It should be one of ['bad', 'good']",
     "output_type": "error",
     "traceback": [
      "\u001b[0;31m---------------------------------------------------------------------------\u001b[0m",
      "\u001b[0;31mValueError\u001b[0m                                Traceback (most recent call last)",
      "Input \u001b[0;32mIn [120]\u001b[0m, in \u001b[0;36m<cell line: 3>\u001b[0;34m()\u001b[0m\n\u001b[1;32m      1\u001b[0m \u001b[39m# Print accuracy score \u001b[39;00m\n\u001b[1;32m      2\u001b[0m \u001b[39mprint\u001b[39m(\u001b[39m\"\u001b[39m\u001b[39mAccuracy:\u001b[39m\u001b[39m\"\u001b[39m, accuracy_score(y_test, y_pred)\u001b[39m.\u001b[39mround(\u001b[39m3\u001b[39m))\n\u001b[0;32m----> 3\u001b[0m \u001b[39mprint\u001b[39m(\u001b[39m\"\u001b[39m\u001b[39mRecall:\u001b[39m\u001b[39m\"\u001b[39m, recall_score(y_test, y_pred)\u001b[39m.\u001b[39mround(\u001b[39m3\u001b[39m))\n\u001b[1;32m      4\u001b[0m \u001b[39mprint\u001b[39m(\u001b[39m\"\u001b[39m\u001b[39m-----\u001b[39m\u001b[39m\"\u001b[39m\u001b[39m*\u001b[39m\u001b[39m10\u001b[39m)\n\u001b[1;32m      6\u001b[0m \u001b[39m# Print confusion matrix\u001b[39;00m\n",
      "File \u001b[0;32m~/Desktop/Neue Fische/Bootcamp/Tag-28-MLproject/airquality/.venv/lib/python3.9/site-packages/sklearn/metrics/_classification.py:1901\u001b[0m, in \u001b[0;36mrecall_score\u001b[0;34m(y_true, y_pred, labels, pos_label, average, sample_weight, zero_division)\u001b[0m\n\u001b[1;32m   <a href='file:///Users/kaergell/Desktop/Neue%20Fische/Bootcamp/Tag-28-MLproject/airquality/.venv/lib/python3.9/site-packages/sklearn/metrics/_classification.py?line=1769'>1770</a>\u001b[0m \u001b[39mdef\u001b[39;00m \u001b[39mrecall_score\u001b[39m(\n\u001b[1;32m   <a href='file:///Users/kaergell/Desktop/Neue%20Fische/Bootcamp/Tag-28-MLproject/airquality/.venv/lib/python3.9/site-packages/sklearn/metrics/_classification.py?line=1770'>1771</a>\u001b[0m     y_true,\n\u001b[1;32m   <a href='file:///Users/kaergell/Desktop/Neue%20Fische/Bootcamp/Tag-28-MLproject/airquality/.venv/lib/python3.9/site-packages/sklearn/metrics/_classification.py?line=1771'>1772</a>\u001b[0m     y_pred,\n\u001b[0;32m   (...)\u001b[0m\n\u001b[1;32m   <a href='file:///Users/kaergell/Desktop/Neue%20Fische/Bootcamp/Tag-28-MLproject/airquality/.venv/lib/python3.9/site-packages/sklearn/metrics/_classification.py?line=1777'>1778</a>\u001b[0m     zero_division\u001b[39m=\u001b[39m\u001b[39m\"\u001b[39m\u001b[39mwarn\u001b[39m\u001b[39m\"\u001b[39m,\n\u001b[1;32m   <a href='file:///Users/kaergell/Desktop/Neue%20Fische/Bootcamp/Tag-28-MLproject/airquality/.venv/lib/python3.9/site-packages/sklearn/metrics/_classification.py?line=1778'>1779</a>\u001b[0m ):\n\u001b[1;32m   <a href='file:///Users/kaergell/Desktop/Neue%20Fische/Bootcamp/Tag-28-MLproject/airquality/.venv/lib/python3.9/site-packages/sklearn/metrics/_classification.py?line=1779'>1780</a>\u001b[0m     \u001b[39m\"\"\"Compute the recall.\u001b[39;00m\n\u001b[1;32m   <a href='file:///Users/kaergell/Desktop/Neue%20Fische/Bootcamp/Tag-28-MLproject/airquality/.venv/lib/python3.9/site-packages/sklearn/metrics/_classification.py?line=1780'>1781</a>\u001b[0m \n\u001b[1;32m   <a href='file:///Users/kaergell/Desktop/Neue%20Fische/Bootcamp/Tag-28-MLproject/airquality/.venv/lib/python3.9/site-packages/sklearn/metrics/_classification.py?line=1781'>1782</a>\u001b[0m \u001b[39m    The recall is the ratio ``tp / (tp + fn)`` where ``tp`` is the number of\u001b[39;00m\n\u001b[0;32m   (...)\u001b[0m\n\u001b[1;32m   <a href='file:///Users/kaergell/Desktop/Neue%20Fische/Bootcamp/Tag-28-MLproject/airquality/.venv/lib/python3.9/site-packages/sklearn/metrics/_classification.py?line=1898'>1899</a>\u001b[0m \u001b[39m    array([1. , 1. , 0.5])\u001b[39;00m\n\u001b[1;32m   <a href='file:///Users/kaergell/Desktop/Neue%20Fische/Bootcamp/Tag-28-MLproject/airquality/.venv/lib/python3.9/site-packages/sklearn/metrics/_classification.py?line=1899'>1900</a>\u001b[0m \u001b[39m    \"\"\"\u001b[39;00m\n\u001b[0;32m-> <a href='file:///Users/kaergell/Desktop/Neue%20Fische/Bootcamp/Tag-28-MLproject/airquality/.venv/lib/python3.9/site-packages/sklearn/metrics/_classification.py?line=1900'>1901</a>\u001b[0m     _, r, _, _ \u001b[39m=\u001b[39m precision_recall_fscore_support(\n\u001b[1;32m   <a href='file:///Users/kaergell/Desktop/Neue%20Fische/Bootcamp/Tag-28-MLproject/airquality/.venv/lib/python3.9/site-packages/sklearn/metrics/_classification.py?line=1901'>1902</a>\u001b[0m         y_true,\n\u001b[1;32m   <a href='file:///Users/kaergell/Desktop/Neue%20Fische/Bootcamp/Tag-28-MLproject/airquality/.venv/lib/python3.9/site-packages/sklearn/metrics/_classification.py?line=1902'>1903</a>\u001b[0m         y_pred,\n\u001b[1;32m   <a href='file:///Users/kaergell/Desktop/Neue%20Fische/Bootcamp/Tag-28-MLproject/airquality/.venv/lib/python3.9/site-packages/sklearn/metrics/_classification.py?line=1903'>1904</a>\u001b[0m         labels\u001b[39m=\u001b[39;49mlabels,\n\u001b[1;32m   <a href='file:///Users/kaergell/Desktop/Neue%20Fische/Bootcamp/Tag-28-MLproject/airquality/.venv/lib/python3.9/site-packages/sklearn/metrics/_classification.py?line=1904'>1905</a>\u001b[0m         pos_label\u001b[39m=\u001b[39;49mpos_label,\n\u001b[1;32m   <a href='file:///Users/kaergell/Desktop/Neue%20Fische/Bootcamp/Tag-28-MLproject/airquality/.venv/lib/python3.9/site-packages/sklearn/metrics/_classification.py?line=1905'>1906</a>\u001b[0m         average\u001b[39m=\u001b[39;49maverage,\n\u001b[1;32m   <a href='file:///Users/kaergell/Desktop/Neue%20Fische/Bootcamp/Tag-28-MLproject/airquality/.venv/lib/python3.9/site-packages/sklearn/metrics/_classification.py?line=1906'>1907</a>\u001b[0m         warn_for\u001b[39m=\u001b[39;49m(\u001b[39m\"\u001b[39;49m\u001b[39mrecall\u001b[39;49m\u001b[39m\"\u001b[39;49m,),\n\u001b[1;32m   <a href='file:///Users/kaergell/Desktop/Neue%20Fische/Bootcamp/Tag-28-MLproject/airquality/.venv/lib/python3.9/site-packages/sklearn/metrics/_classification.py?line=1907'>1908</a>\u001b[0m         sample_weight\u001b[39m=\u001b[39;49msample_weight,\n\u001b[1;32m   <a href='file:///Users/kaergell/Desktop/Neue%20Fische/Bootcamp/Tag-28-MLproject/airquality/.venv/lib/python3.9/site-packages/sklearn/metrics/_classification.py?line=1908'>1909</a>\u001b[0m         zero_division\u001b[39m=\u001b[39;49mzero_division,\n\u001b[1;32m   <a href='file:///Users/kaergell/Desktop/Neue%20Fische/Bootcamp/Tag-28-MLproject/airquality/.venv/lib/python3.9/site-packages/sklearn/metrics/_classification.py?line=1909'>1910</a>\u001b[0m     )\n\u001b[1;32m   <a href='file:///Users/kaergell/Desktop/Neue%20Fische/Bootcamp/Tag-28-MLproject/airquality/.venv/lib/python3.9/site-packages/sklearn/metrics/_classification.py?line=1910'>1911</a>\u001b[0m     \u001b[39mreturn\u001b[39;00m r\n",
      "File \u001b[0;32m~/Desktop/Neue Fische/Bootcamp/Tag-28-MLproject/airquality/.venv/lib/python3.9/site-packages/sklearn/metrics/_classification.py:1544\u001b[0m, in \u001b[0;36mprecision_recall_fscore_support\u001b[0;34m(y_true, y_pred, beta, labels, pos_label, average, warn_for, sample_weight, zero_division)\u001b[0m\n\u001b[1;32m   <a href='file:///Users/kaergell/Desktop/Neue%20Fische/Bootcamp/Tag-28-MLproject/airquality/.venv/lib/python3.9/site-packages/sklearn/metrics/_classification.py?line=1541'>1542</a>\u001b[0m \u001b[39mif\u001b[39;00m beta \u001b[39m<\u001b[39m \u001b[39m0\u001b[39m:\n\u001b[1;32m   <a href='file:///Users/kaergell/Desktop/Neue%20Fische/Bootcamp/Tag-28-MLproject/airquality/.venv/lib/python3.9/site-packages/sklearn/metrics/_classification.py?line=1542'>1543</a>\u001b[0m     \u001b[39mraise\u001b[39;00m \u001b[39mValueError\u001b[39;00m(\u001b[39m\"\u001b[39m\u001b[39mbeta should be >=0 in the F-beta score\u001b[39m\u001b[39m\"\u001b[39m)\n\u001b[0;32m-> <a href='file:///Users/kaergell/Desktop/Neue%20Fische/Bootcamp/Tag-28-MLproject/airquality/.venv/lib/python3.9/site-packages/sklearn/metrics/_classification.py?line=1543'>1544</a>\u001b[0m labels \u001b[39m=\u001b[39m _check_set_wise_labels(y_true, y_pred, average, labels, pos_label)\n\u001b[1;32m   <a href='file:///Users/kaergell/Desktop/Neue%20Fische/Bootcamp/Tag-28-MLproject/airquality/.venv/lib/python3.9/site-packages/sklearn/metrics/_classification.py?line=1545'>1546</a>\u001b[0m \u001b[39m# Calculate tp_sum, pred_sum, true_sum ###\u001b[39;00m\n\u001b[1;32m   <a href='file:///Users/kaergell/Desktop/Neue%20Fische/Bootcamp/Tag-28-MLproject/airquality/.venv/lib/python3.9/site-packages/sklearn/metrics/_classification.py?line=1546'>1547</a>\u001b[0m samplewise \u001b[39m=\u001b[39m average \u001b[39m==\u001b[39m \u001b[39m\"\u001b[39m\u001b[39msamples\u001b[39m\u001b[39m\"\u001b[39m\n",
      "File \u001b[0;32m~/Desktop/Neue Fische/Bootcamp/Tag-28-MLproject/airquality/.venv/lib/python3.9/site-packages/sklearn/metrics/_classification.py:1356\u001b[0m, in \u001b[0;36m_check_set_wise_labels\u001b[0;34m(y_true, y_pred, average, labels, pos_label)\u001b[0m\n\u001b[1;32m   <a href='file:///Users/kaergell/Desktop/Neue%20Fische/Bootcamp/Tag-28-MLproject/airquality/.venv/lib/python3.9/site-packages/sklearn/metrics/_classification.py?line=1353'>1354</a>\u001b[0m     \u001b[39mif\u001b[39;00m pos_label \u001b[39mnot\u001b[39;00m \u001b[39min\u001b[39;00m present_labels:\n\u001b[1;32m   <a href='file:///Users/kaergell/Desktop/Neue%20Fische/Bootcamp/Tag-28-MLproject/airquality/.venv/lib/python3.9/site-packages/sklearn/metrics/_classification.py?line=1354'>1355</a>\u001b[0m         \u001b[39mif\u001b[39;00m \u001b[39mlen\u001b[39m(present_labels) \u001b[39m>\u001b[39m\u001b[39m=\u001b[39m \u001b[39m2\u001b[39m:\n\u001b[0;32m-> <a href='file:///Users/kaergell/Desktop/Neue%20Fische/Bootcamp/Tag-28-MLproject/airquality/.venv/lib/python3.9/site-packages/sklearn/metrics/_classification.py?line=1355'>1356</a>\u001b[0m             \u001b[39mraise\u001b[39;00m \u001b[39mValueError\u001b[39;00m(\n\u001b[1;32m   <a href='file:///Users/kaergell/Desktop/Neue%20Fische/Bootcamp/Tag-28-MLproject/airquality/.venv/lib/python3.9/site-packages/sklearn/metrics/_classification.py?line=1356'>1357</a>\u001b[0m                 \u001b[39mf\u001b[39m\u001b[39m\"\u001b[39m\u001b[39mpos_label=\u001b[39m\u001b[39m{\u001b[39;00mpos_label\u001b[39m}\u001b[39;00m\u001b[39m is not a valid label. It \u001b[39m\u001b[39m\"\u001b[39m\n\u001b[1;32m   <a href='file:///Users/kaergell/Desktop/Neue%20Fische/Bootcamp/Tag-28-MLproject/airquality/.venv/lib/python3.9/site-packages/sklearn/metrics/_classification.py?line=1357'>1358</a>\u001b[0m                 \u001b[39mf\u001b[39m\u001b[39m\"\u001b[39m\u001b[39mshould be one of \u001b[39m\u001b[39m{\u001b[39;00mpresent_labels\u001b[39m}\u001b[39;00m\u001b[39m\"\u001b[39m\n\u001b[1;32m   <a href='file:///Users/kaergell/Desktop/Neue%20Fische/Bootcamp/Tag-28-MLproject/airquality/.venv/lib/python3.9/site-packages/sklearn/metrics/_classification.py?line=1358'>1359</a>\u001b[0m             )\n\u001b[1;32m   <a href='file:///Users/kaergell/Desktop/Neue%20Fische/Bootcamp/Tag-28-MLproject/airquality/.venv/lib/python3.9/site-packages/sklearn/metrics/_classification.py?line=1359'>1360</a>\u001b[0m     labels \u001b[39m=\u001b[39m [pos_label]\n\u001b[1;32m   <a href='file:///Users/kaergell/Desktop/Neue%20Fische/Bootcamp/Tag-28-MLproject/airquality/.venv/lib/python3.9/site-packages/sklearn/metrics/_classification.py?line=1360'>1361</a>\u001b[0m \u001b[39melse\u001b[39;00m:\n",
      "\u001b[0;31mValueError\u001b[0m: pos_label=1 is not a valid label. It should be one of ['bad', 'good']"
     ]
    }
   ],
   "source": [
    "# Print accuracy score \n",
    "print(\"Accuracy:\", accuracy_score(y_test, y_pred).round(3))\n",
    "print(\"Recall:\", recall_score(y_test, y_pred).round(3))\n",
    "print(\"-----\"*10)\n",
    "\n",
    "# Print confusion matrix\n",
    "sns.heatmap(confusion_matrix(y_test, y_pred), annot=True, cmap='YlGn');"
   ]
  },
  {
   "cell_type": "markdown",
   "metadata": {},
   "source": []
  },
  {
   "cell_type": "code",
   "execution_count": 122,
   "metadata": {},
   "outputs": [
    {
     "name": "stderr",
     "output_type": "stream",
     "text": [
      "100%|██████████| 190/190 [23:12<00:00,  7.33s/it]\n"
     ]
    }
   ],
   "source": [
    "error_rate = []\n",
    "error_rate_t=[]\n",
    "\n",
    "for i in tqdm(range(10,200)):\n",
    "     knn = KNeighborsClassifier(n_neighbors=i, metric=\"euclidean\", n_jobs=-1)\n",
    "     knn.fit(X_train_scaled,y_train)\n",
    "     pred_i = knn.predict(X_test_scaled)\n",
    "     pred_i_2=knn.predict(X_train_scaled)\n",
    "     error_rate.append(np.mean(pred_i != y_test))\n",
    "     error_rate_t.append(np.mean(pred_i_2 != y_train))\n"
   ]
  },
  {
   "cell_type": "code",
   "execution_count": 123,
   "metadata": {},
   "outputs": [
    {
     "name": "stdout",
     "output_type": "stream",
     "text": [
      "Minimum error:- 0.20141570141570142 at K = 1\n"
     ]
    },
    {
     "data": {
      "image/png": "[encoded data removed]",
      "text/plain": [
       "<Figure size 1440x864 with 1 Axes>"
      ]
     },
     "metadata": {},
     "output_type": "display_data"
    }
   ],
   "source": [
    "plt.figure(figsize=(20,12))\n",
    "plt.plot(range(10,200),error_rate,color='white', linestyle='dashed',\n",
    "        marker='o',markerfacecolor='orange', markersize=5)\n",
    "plt.plot(range(10,200),error_rate_t,color='yellow', linestyle='dashed',\n",
    "        marker='o',markerfacecolor='red', markersize=5)\n",
    "plt.title('Error Rate vs. K Value')\n",
    "plt.xlabel('K')\n",
    "plt.ylabel('Error Rate')\n",
    "print(\"Minimum error:-\",min(error_rate),\"at K =\",error_rate.index(min(error_rate)))\n",
    "   \n"
   ]
  },
  {
   "cell_type": "code",
   "execution_count": 125,
   "metadata": {},
   "outputs": [
    {
     "name": "stderr",
     "output_type": "stream",
     "text": [
      "100%|██████████| 150/150 [18:23<00:00,  7.36s/it]\n"
     ]
    }
   ],
   "source": [
    "acc_corse= []\n",
    "acct_corse=[]\n",
    "    # Will take some time\\n\",\n",
    "from sklearn import metrics\n",
    "for i in tqdm(range(50,200)):\n",
    "    neigh = KNeighborsClassifier(n_neighbors = i,  metric='euclidean',n_jobs=-1).fit(X_train_scaled,y_train)\n",
    "    yhat = neigh.predict(X_test_scaled)\n",
    "    yhat2=neigh.predict(X_train_scaled)\n",
    "    acc_corse.append(metrics.accuracy_score(y_test, yhat))\n",
    "    acct_corse.append(metrics.accuracy_score(y_train, yhat2))"
   ]
  },
  {
   "cell_type": "code",
   "execution_count": 128,
   "metadata": {},
   "outputs": [
    {
     "name": "stdout",
     "output_type": "stream",
     "text": [
      "Minimum error:- 0.20141570141570142 at K = 1\n"
     ]
    },
    {
     "data": {
      "image/png": "[encoded data removed]",
      "text/plain": [
       "<Figure size 720x432 with 1 Axes>"
      ]
     },
     "metadata": {},
     "output_type": "display_data"
    }
   ],
   "source": [
    "plt.figure(figsize=(10,6))\n",
    "plt.plot(range(50,200),acc_corse,color='white', linestyle='dashed',\n",
    "        marker='o',markerfacecolor='orange', markersize=5)\n",
    "plt.plot(range(50,200),acct_corse,color='yellow', linestyle='dashed',\n",
    "        marker='o',markerfacecolor='red', markersize=5)\n",
    "plt.title(\"accuracy vs. K Value\")\n",
    "plt.xlabel('K')\n",
    "plt.ylabel('Accuracy')\n",
    "print(\"Minimum error:-\",min(error_rate),\"at K =\",error_rate.index(min(error_rate)))\n",
    "   "
   ]
  },
  {
   "cell_type": "code",
   "execution_count": 129,
   "metadata": {},
   "outputs": [
    {
     "name": "stderr",
     "output_type": "stream",
     "text": [
      "100%|██████████| 60/60 [07:17<00:00,  7.30s/it]\n"
     ]
    }
   ],
   "source": [
    "acc_fine = []\n",
    "acct_fine= []\n",
    "    # Will take some time\\n\",\n",
    "from sklearn import metrics\n",
    "for i in tqdm(range(80,140)):\n",
    "    neigh = KNeighborsClassifier(n_neighbors = i,  metric='euclidean',n_jobs=-1).fit(X_train_scaled,y_train)\n",
    "    yhat = neigh.predict(X_test_scaled)\n",
    "    yhat2=neigh.predict(X_train_scaled)\n",
    "    acc_fine.append(metrics.accuracy_score(y_test, yhat))\n",
    "    acct_fine.append(metrics.accuracy_score(y_train, yhat2))\n"
   ]
  },
  {
   "cell_type": "code",
   "execution_count": 164,
   "metadata": {},
   "outputs": [
    {
     "name": "stdout",
     "output_type": "stream",
     "text": [
      "(test)Maximum accuracy:- 0.7996567996567997 at K = 0\n",
      "(Train)Maximum accuracy:- 0.8037142594465385 at K = 0\n"
     ]
    },
    {
     "data": {
      "image/png": "[encoded data removed]",
      "text/plain": [
       "<Figure size 720x432 with 1 Axes>"
      ]
     },
     "metadata": {},
     "output_type": "display_data"
    }
   ],
   "source": [
    "plt.figure(figsize=(10,6))\n",
    "plt.plot(range(80,140),acc,color = 'blue',linestyle='dashed', \n",
    "    marker='o',markerfacecolor='orangered', markersize=10)\n",
    "plt.plot(range(80,140),acct,color = 'green',linestyle='dashed',\n",
    "    marker='o',markerfacecolor='blueviolet', markersize=1)\n",
    "plt.title('accuracy vs. K Value')\n",
    "plt.xlabel('K')\n",
    "plt.ylabel('Accuracy')\n",
    "print(\"(test)Maximum accuracy:-\",max(acc),\"at K =\",acc.index(max(acc)))\n",
    "print(\"(Train)Maximum accuracy:-\",max(acct),\"at K =\",acct.index(max(acct)))"
   ]
  },
  {
   "cell_type": "markdown",
   "metadata": {},
   "source": [
    "## Optimization of K"
   ]
  },
  {
   "cell_type": "code",
   "execution_count": 132,
   "metadata": {},
   "outputs": [
    {
     "data": {
      "text/plain": [
       "KNeighborsClassifier(metric='euclidean', n_neighbors=104)"
      ]
     },
     "execution_count": 132,
     "metadata": {},
     "output_type": "execute_result"
    }
   ],
   "source": [
    "knn_opt = KNeighborsClassifier(n_neighbors=104, metric='euclidean')\n",
    "knn_opt.fit(X_train_scaled, np.ravel(y_train))"
   ]
  },
  {
   "cell_type": "code",
   "execution_count": 133,
   "metadata": {},
   "outputs": [],
   "source": [
    "y_pred = knn_opt.predict(X_test_scaled)"
   ]
  },
  {
   "cell_type": "code",
   "execution_count": 173,
   "metadata": {},
   "outputs": [
    {
     "data": {
      "text/plain": [
       "13461     bad\n",
       "3535     good\n",
       "4517      bad\n",
       "10396    good\n",
       "10042    good\n",
       "         ... \n",
       "4790     good\n",
       "1332      bad\n",
       "10377     bad\n",
       "7514      bad\n",
       "13861     bad\n",
       "Name: Bi_airquality, Length: 4662, dtype: object"
      ]
     },
     "execution_count": 173,
     "metadata": {},
     "output_type": "execute_result"
    }
   ],
   "source": []
  },
  {
   "cell_type": "markdown",
   "metadata": {},
   "source": [
    "## Evaluation"
   ]
  },
  {
   "cell_type": "code",
   "execution_count": 170,
   "metadata": {},
   "outputs": [
    {
     "name": "stdout",
     "output_type": "stream",
     "text": [
      "Accuracy: 0.78\n"
     ]
    },
    {
     "ename": "ValueError",
     "evalue": "pos_label=1 is not a valid label. It should be one of ['bad', 'good']",
     "output_type": "error",
     "traceback": [
      "\u001b[0;31m---------------------------------------------------------------------------\u001b[0m",
      "\u001b[0;31mValueError\u001b[0m                                Traceback (most recent call last)",
      "Input \u001b[0;32mIn [170]\u001b[0m, in \u001b[0;36m<cell line: 3>\u001b[0;34m()\u001b[0m\n\u001b[1;32m      1\u001b[0m \u001b[39m# Print accuracy score \\n\",\u001b[39;00m\n\u001b[1;32m      2\u001b[0m \u001b[39mprint\u001b[39m(\u001b[39m\"\u001b[39m\u001b[39mAccuracy:\u001b[39m\u001b[39m\"\u001b[39m, accuracy_score(y_test, y_pred)\u001b[39m.\u001b[39mround(\u001b[39m2\u001b[39m))\n\u001b[0;32m----> 3\u001b[0m \u001b[39mprint\u001b[39m(\u001b[39m\"\u001b[39m\u001b[39mRecall:\u001b[39m\u001b[39m\"\u001b[39m, recall_score(y_test, y_pred)\u001b[39m.\u001b[39mround(\u001b[39m2\u001b[39m))\n\u001b[1;32m      4\u001b[0m \u001b[39mprint\u001b[39m(\u001b[39m\"\u001b[39m\u001b[39m-----\u001b[39m\u001b[39m\"\u001b[39m\u001b[39m*\u001b[39m\u001b[39m10\u001b[39m)\n\u001b[1;32m      6\u001b[0m \u001b[39m# Print confusion matrix\\n\",\u001b[39;00m\n",
      "File \u001b[0;32m~/Desktop/Neue Fische/Bootcamp/Tag-28-MLproject/airquality/.venv/lib/python3.9/site-packages/sklearn/metrics/_classification.py:1901\u001b[0m, in \u001b[0;36mrecall_score\u001b[0;34m(y_true, y_pred, labels, pos_label, average, sample_weight, zero_division)\u001b[0m\n\u001b[1;32m   <a href='file:///Users/kaergell/Desktop/Neue%20Fische/Bootcamp/Tag-28-MLproject/airquality/.venv/lib/python3.9/site-packages/sklearn/metrics/_classification.py?line=1769'>1770</a>\u001b[0m \u001b[39mdef\u001b[39;00m \u001b[39mrecall_score\u001b[39m(\n\u001b[1;32m   <a href='file:///Users/kaergell/Desktop/Neue%20Fische/Bootcamp/Tag-28-MLproject/airquality/.venv/lib/python3.9/site-packages/sklearn/metrics/_classification.py?line=1770'>1771</a>\u001b[0m     y_true,\n\u001b[1;32m   <a href='file:///Users/kaergell/Desktop/Neue%20Fische/Bootcamp/Tag-28-MLproject/airquality/.venv/lib/python3.9/site-packages/sklearn/metrics/_classification.py?line=1771'>1772</a>\u001b[0m     y_pred,\n\u001b[0;32m   (...)\u001b[0m\n\u001b[1;32m   <a href='file:///Users/kaergell/Desktop/Neue%20Fische/Bootcamp/Tag-28-MLproject/airquality/.venv/lib/python3.9/site-packages/sklearn/metrics/_classification.py?line=1777'>1778</a>\u001b[0m     zero_division\u001b[39m=\u001b[39m\u001b[39m\"\u001b[39m\u001b[39mwarn\u001b[39m\u001b[39m\"\u001b[39m,\n\u001b[1;32m   <a href='file:///Users/kaergell/Desktop/Neue%20Fische/Bootcamp/Tag-28-MLproject/airquality/.venv/lib/python3.9/site-packages/sklearn/metrics/_classification.py?line=1778'>1779</a>\u001b[0m ):\n\u001b[1;32m   <a href='file:///Users/kaergell/Desktop/Neue%20Fische/Bootcamp/Tag-28-MLproject/airquality/.venv/lib/python3.9/site-packages/sklearn/metrics/_classification.py?line=1779'>1780</a>\u001b[0m     \u001b[39m\"\"\"Compute the recall.\u001b[39;00m\n\u001b[1;32m   <a href='file:///Users/kaergell/Desktop/Neue%20Fische/Bootcamp/Tag-28-MLproject/airquality/.venv/lib/python3.9/site-packages/sklearn/metrics/_classification.py?line=1780'>1781</a>\u001b[0m \n\u001b[1;32m   <a href='file:///Users/kaergell/Desktop/Neue%20Fische/Bootcamp/Tag-28-MLproject/airquality/.venv/lib/python3.9/site-packages/sklearn/metrics/_classification.py?line=1781'>1782</a>\u001b[0m \u001b[39m    The recall is the ratio ``tp / (tp + fn)`` where ``tp`` is the number of\u001b[39;00m\n\u001b[0;32m   (...)\u001b[0m\n\u001b[1;32m   <a href='file:///Users/kaergell/Desktop/Neue%20Fische/Bootcamp/Tag-28-MLproject/airquality/.venv/lib/python3.9/site-packages/sklearn/metrics/_classification.py?line=1898'>1899</a>\u001b[0m \u001b[39m    array([1. , 1. , 0.5])\u001b[39;00m\n\u001b[1;32m   <a href='file:///Users/kaergell/Desktop/Neue%20Fische/Bootcamp/Tag-28-MLproject/airquality/.venv/lib/python3.9/site-packages/sklearn/metrics/_classification.py?line=1899'>1900</a>\u001b[0m \u001b[39m    \"\"\"\u001b[39;00m\n\u001b[0;32m-> <a href='file:///Users/kaergell/Desktop/Neue%20Fische/Bootcamp/Tag-28-MLproject/airquality/.venv/lib/python3.9/site-packages/sklearn/metrics/_classification.py?line=1900'>1901</a>\u001b[0m     _, r, _, _ \u001b[39m=\u001b[39m precision_recall_fscore_support(\n\u001b[1;32m   <a href='file:///Users/kaergell/Desktop/Neue%20Fische/Bootcamp/Tag-28-MLproject/airquality/.venv/lib/python3.9/site-packages/sklearn/metrics/_classification.py?line=1901'>1902</a>\u001b[0m         y_true,\n\u001b[1;32m   <a href='file:///Users/kaergell/Desktop/Neue%20Fische/Bootcamp/Tag-28-MLproject/airquality/.venv/lib/python3.9/site-packages/sklearn/metrics/_classification.py?line=1902'>1903</a>\u001b[0m         y_pred,\n\u001b[1;32m   <a href='file:///Users/kaergell/Desktop/Neue%20Fische/Bootcamp/Tag-28-MLproject/airquality/.venv/lib/python3.9/site-packages/sklearn/metrics/_classification.py?line=1903'>1904</a>\u001b[0m         labels\u001b[39m=\u001b[39;49mlabels,\n\u001b[1;32m   <a href='file:///Users/kaergell/Desktop/Neue%20Fische/Bootcamp/Tag-28-MLproject/airquality/.venv/lib/python3.9/site-packages/sklearn/metrics/_classification.py?line=1904'>1905</a>\u001b[0m         pos_label\u001b[39m=\u001b[39;49mpos_label,\n\u001b[1;32m   <a href='file:///Users/kaergell/Desktop/Neue%20Fische/Bootcamp/Tag-28-MLproject/airquality/.venv/lib/python3.9/site-packages/sklearn/metrics/_classification.py?line=1905'>1906</a>\u001b[0m         average\u001b[39m=\u001b[39;49maverage,\n\u001b[1;32m   <a href='file:///Users/kaergell/Desktop/Neue%20Fische/Bootcamp/Tag-28-MLproject/airquality/.venv/lib/python3.9/site-packages/sklearn/metrics/_classification.py?line=1906'>1907</a>\u001b[0m         warn_for\u001b[39m=\u001b[39;49m(\u001b[39m\"\u001b[39;49m\u001b[39mrecall\u001b[39;49m\u001b[39m\"\u001b[39;49m,),\n\u001b[1;32m   <a href='file:///Users/kaergell/Desktop/Neue%20Fische/Bootcamp/Tag-28-MLproject/airquality/.venv/lib/python3.9/site-packages/sklearn/metrics/_classification.py?line=1907'>1908</a>\u001b[0m         sample_weight\u001b[39m=\u001b[39;49msample_weight,\n\u001b[1;32m   <a href='file:///Users/kaergell/Desktop/Neue%20Fische/Bootcamp/Tag-28-MLproject/airquality/.venv/lib/python3.9/site-packages/sklearn/metrics/_classification.py?line=1908'>1909</a>\u001b[0m         zero_division\u001b[39m=\u001b[39;49mzero_division,\n\u001b[1;32m   <a href='file:///Users/kaergell/Desktop/Neue%20Fische/Bootcamp/Tag-28-MLproject/airquality/.venv/lib/python3.9/site-packages/sklearn/metrics/_classification.py?line=1909'>1910</a>\u001b[0m     )\n\u001b[1;32m   <a href='file:///Users/kaergell/Desktop/Neue%20Fische/Bootcamp/Tag-28-MLproject/airquality/.venv/lib/python3.9/site-packages/sklearn/metrics/_classification.py?line=1910'>1911</a>\u001b[0m     \u001b[39mreturn\u001b[39;00m r\n",
      "File \u001b[0;32m~/Desktop/Neue Fische/Bootcamp/Tag-28-MLproject/airquality/.venv/lib/python3.9/site-packages/sklearn/metrics/_classification.py:1544\u001b[0m, in \u001b[0;36mprecision_recall_fscore_support\u001b[0;34m(y_true, y_pred, beta, labels, pos_label, average, warn_for, sample_weight, zero_division)\u001b[0m\n\u001b[1;32m   <a href='file:///Users/kaergell/Desktop/Neue%20Fische/Bootcamp/Tag-28-MLproject/airquality/.venv/lib/python3.9/site-packages/sklearn/metrics/_classification.py?line=1541'>1542</a>\u001b[0m \u001b[39mif\u001b[39;00m beta \u001b[39m<\u001b[39m \u001b[39m0\u001b[39m:\n\u001b[1;32m   <a href='file:///Users/kaergell/Desktop/Neue%20Fische/Bootcamp/Tag-28-MLproject/airquality/.venv/lib/python3.9/site-packages/sklearn/metrics/_classification.py?line=1542'>1543</a>\u001b[0m     \u001b[39mraise\u001b[39;00m \u001b[39mValueError\u001b[39;00m(\u001b[39m\"\u001b[39m\u001b[39mbeta should be >=0 in the F-beta score\u001b[39m\u001b[39m\"\u001b[39m)\n\u001b[0;32m-> <a href='file:///Users/kaergell/Desktop/Neue%20Fische/Bootcamp/Tag-28-MLproject/airquality/.venv/lib/python3.9/site-packages/sklearn/metrics/_classification.py?line=1543'>1544</a>\u001b[0m labels \u001b[39m=\u001b[39m _check_set_wise_labels(y_true, y_pred, average, labels, pos_label)\n\u001b[1;32m   <a href='file:///Users/kaergell/Desktop/Neue%20Fische/Bootcamp/Tag-28-MLproject/airquality/.venv/lib/python3.9/site-packages/sklearn/metrics/_classification.py?line=1545'>1546</a>\u001b[0m \u001b[39m# Calculate tp_sum, pred_sum, true_sum ###\u001b[39;00m\n\u001b[1;32m   <a href='file:///Users/kaergell/Desktop/Neue%20Fische/Bootcamp/Tag-28-MLproject/airquality/.venv/lib/python3.9/site-packages/sklearn/metrics/_classification.py?line=1546'>1547</a>\u001b[0m samplewise \u001b[39m=\u001b[39m average \u001b[39m==\u001b[39m \u001b[39m\"\u001b[39m\u001b[39msamples\u001b[39m\u001b[39m\"\u001b[39m\n",
      "File \u001b[0;32m~/Desktop/Neue Fische/Bootcamp/Tag-28-MLproject/airquality/.venv/lib/python3.9/site-packages/sklearn/metrics/_classification.py:1356\u001b[0m, in \u001b[0;36m_check_set_wise_labels\u001b[0;34m(y_true, y_pred, average, labels, pos_label)\u001b[0m\n\u001b[1;32m   <a href='file:///Users/kaergell/Desktop/Neue%20Fische/Bootcamp/Tag-28-MLproject/airquality/.venv/lib/python3.9/site-packages/sklearn/metrics/_classification.py?line=1353'>1354</a>\u001b[0m     \u001b[39mif\u001b[39;00m pos_label \u001b[39mnot\u001b[39;00m \u001b[39min\u001b[39;00m present_labels:\n\u001b[1;32m   <a href='file:///Users/kaergell/Desktop/Neue%20Fische/Bootcamp/Tag-28-MLproject/airquality/.venv/lib/python3.9/site-packages/sklearn/metrics/_classification.py?line=1354'>1355</a>\u001b[0m         \u001b[39mif\u001b[39;00m \u001b[39mlen\u001b[39m(present_labels) \u001b[39m>\u001b[39m\u001b[39m=\u001b[39m \u001b[39m2\u001b[39m:\n\u001b[0;32m-> <a href='file:///Users/kaergell/Desktop/Neue%20Fische/Bootcamp/Tag-28-MLproject/airquality/.venv/lib/python3.9/site-packages/sklearn/metrics/_classification.py?line=1355'>1356</a>\u001b[0m             \u001b[39mraise\u001b[39;00m \u001b[39mValueError\u001b[39;00m(\n\u001b[1;32m   <a href='file:///Users/kaergell/Desktop/Neue%20Fische/Bootcamp/Tag-28-MLproject/airquality/.venv/lib/python3.9/site-packages/sklearn/metrics/_classification.py?line=1356'>1357</a>\u001b[0m                 \u001b[39mf\u001b[39m\u001b[39m\"\u001b[39m\u001b[39mpos_label=\u001b[39m\u001b[39m{\u001b[39;00mpos_label\u001b[39m}\u001b[39;00m\u001b[39m is not a valid label. It \u001b[39m\u001b[39m\"\u001b[39m\n\u001b[1;32m   <a href='file:///Users/kaergell/Desktop/Neue%20Fische/Bootcamp/Tag-28-MLproject/airquality/.venv/lib/python3.9/site-packages/sklearn/metrics/_classification.py?line=1357'>1358</a>\u001b[0m                 \u001b[39mf\u001b[39m\u001b[39m\"\u001b[39m\u001b[39mshould be one of \u001b[39m\u001b[39m{\u001b[39;00mpresent_labels\u001b[39m}\u001b[39;00m\u001b[39m\"\u001b[39m\n\u001b[1;32m   <a href='file:///Users/kaergell/Desktop/Neue%20Fische/Bootcamp/Tag-28-MLproject/airquality/.venv/lib/python3.9/site-packages/sklearn/metrics/_classification.py?line=1358'>1359</a>\u001b[0m             )\n\u001b[1;32m   <a href='file:///Users/kaergell/Desktop/Neue%20Fische/Bootcamp/Tag-28-MLproject/airquality/.venv/lib/python3.9/site-packages/sklearn/metrics/_classification.py?line=1359'>1360</a>\u001b[0m     labels \u001b[39m=\u001b[39m [pos_label]\n\u001b[1;32m   <a href='file:///Users/kaergell/Desktop/Neue%20Fische/Bootcamp/Tag-28-MLproject/airquality/.venv/lib/python3.9/site-packages/sklearn/metrics/_classification.py?line=1360'>1361</a>\u001b[0m \u001b[39melse\u001b[39;00m:\n",
      "\u001b[0;31mValueError\u001b[0m: pos_label=1 is not a valid label. It should be one of ['bad', 'good']"
     ]
    }
   ],
   "source": [
    "    \n",
    "# Print accuracy score \\n\",\n",
    "print(\"Accuracy:\", accuracy_score(y_test, y_pred).round(2))\n",
    "print(\"Recall:\", recall_score(y_test, y_pred).round(2))\n",
    "print(\"-----\"*10)\n",
    "    \n",
    "# Print confusion matrix\\n\",\n",
    "sns.heatmap(confusion_matrix(y_test, y_pred), annot=True, cmap='YlGn')"
   ]
  },
  {
   "cell_type": "code",
   "execution_count": 174,
   "metadata": {},
   "outputs": [
    {
     "name": "stdout",
     "output_type": "stream",
     "text": [
      "Train ROC AUC Score: 0.8023385644512155\n",
      "Test ROC AUC  Score: 0.7791237410889158\n"
     ]
    }
   ],
   "source": [
    "from sklearn.metrics import roc_curve\n",
    "\n",
    "train_probs = knn_opt.predict_proba(X_train_scaled)[:, 1]\n",
    "probs = knn_opt.predict_proba(X_test_scaled)[:, 1]\n",
    "    \n",
    "train_predictions = knn_opt.predict(X_train_scaled)\n",
    "predictions = knn_opt.predict(X_test_scaled)\n",
    "    \n",
    "from sklearn.metrics import precision_score, recall_score, roc_auc_score, roc_curve\n",
    "    \n",
    "print(f'Train ROC AUC Score: {roc_auc_score(y_train, train_probs)}')\n",
    "print(f'Test ROC AUC  Score: {roc_auc_score(y_test, probs)}')"
   ]
  },
  {
   "cell_type": "code",
   "execution_count": 175,
   "metadata": {},
   "outputs": [
    {
     "name": "stdout",
     "output_type": "stream",
     "text": [
      "Baseline ROC AUC: 0.5\n"
     ]
    }
   ],
   "source": [
    "print(f'Baseline ROC AUC: {roc_auc_score(y_test, [1 for _ in range(len(y_test))])}')"
   ]
  },
  {
   "cell_type": "code",
   "execution_count": 176,
   "metadata": {},
   "outputs": [],
   "source": [
    "def evaluate_model(predictions, probs, train_predictions, train_probs):\n",
    "    \"\"\"Compare machine learning model to baseline performance.\n",
    "    Computes statistics and shows ROC curve.\"\"\"\n",
    "    \n",
    "    baseline = {}\n",
    "    \n",
    "    baseline['recall'] = recall_score(y_test, [1 for _ in range(len(y_test))])\n",
    "    baseline['precision'] = precision_score(y_test, [1 for _ in range(len(y_test))])\n",
    "    baseline['roc'] = 0.5\n",
    "    \n",
    "    results = {}\n",
    "    \n",
    "    results['recall'] = recall_score(y_test, predictions)\n",
    "    results['precision'] = precision_score(y_test, predictions)\n",
    "    results['roc'] = roc_auc_score(y_test, probs)\n",
    "    \n",
    "    train_results = {}\n",
    "    train_results['recall'] = recall_score(y_test, train_predictions)\n",
    "    train_results['precision'] = precision_score(y_test, train_predictions)\n",
    "    train_results['roc'] = roc_auc_score(y_test, train_probs)\n",
    "    \n",
    "    for metric in ['recall', 'precision', 'roc']:\n",
    "        print(f'{metric.capitalize()} Baseline: {round(baseline[metric], 2)} Test: {round(results[metric], 2)} Train: {round(train_results[metric], 2)}')\n",
    "    \n",
    "    # Calculate false positive rates and true positive rates\n",
    "    base_fpr, base_tpr, _ = roc_curve(y_test, [1 for _ in range(len(y_test))])\n",
    "    model_fpr, model_tpr, _ = roc_curve(y_test, probs)\n",
    "\n",
    "    plt.figure(figsize = (8, 6))\n",
    "    plt.rcParams['font.size'] = 16\n",
    "    \n",
    "    # Plot both curves\n",
    "    plt.plot(base_fpr, base_tpr, 'b', label = 'baseline')\n",
    "    plt.plot(model_fpr, model_tpr, 'r', label = 'model')\n",
    "    plt.legend();\n",
    "    plt.xlabel('False Positive Rate'); plt.ylabel('True Positive Rate'); plt.title('ROC Curves');\n"
   ]
  },
  {
   "cell_type": "code",
   "execution_count": 177,
   "metadata": {},
   "outputs": [
    {
     "name": "stdout",
     "output_type": "stream",
     "text": [
      "Counter({0.14423076923076922: 172, 0.125: 149, 0.19230769230769232: 145, 0.15384615384615385: 140, 0.09615384615384616: 132, 0.04807692307692308: 129, 0.20192307692307693: 119, 0.21153846153846154: 116, 0.11538461538461539: 115, 0.019230769230769232: 112, 0.18269230769230768: 110, 0.22115384615384615: 104, 0.10576923076923077: 100, 0.1346153846153846: 100, 0.16346153846153846: 93, 0.23076923076923078: 92, 0.07692307692307693: 92, 0.3076923076923077: 91, 0.17307692307692307: 89, 0.08653846153846154: 79, 0.25: 78, 0.4423076923076923: 77, 0.038461538461538464: 76, 0.009615384615384616: 75, 0.25961538461538464: 73, 0.2403846153846154: 72, 0.0673076923076923: 70, 0.028846153846153848: 64, 0.27884615384615385: 60, 0.057692307692307696: 59, 0.2692307692307692: 57, 0.0: 55, 0.28846153846153844: 55, 0.3269230769230769: 54, 0.4326923076923077: 53, 0.2980769230769231: 53, 0.3173076923076923: 53, 0.5288461538461539: 53, 0.5: 52, 0.5384615384615384: 51, 0.33653846153846156: 50, 0.4519230769230769: 46, 0.375: 42, 0.41346153846153844: 40, 0.5096153846153846: 39, 0.5576923076923077: 39, 0.5769230769230769: 36, 0.46153846153846156: 36, 0.4807692307692308: 35, 0.40384615384615385: 34, 0.5192307692307693: 33, 0.4230769230769231: 33, 0.5480769230769231: 32, 0.36538461538461536: 31, 0.5865384615384616: 29, 0.6057692307692307: 29, 0.8557692307692307: 29, 0.7980769230769231: 28, 0.3557692307692308: 27, 0.8461538461538461: 27, 0.49038461538461536: 26, 0.6538461538461539: 25, 0.5673076923076923: 24, 0.47115384615384615: 24, 0.6442307692307693: 23, 0.8269230769230769: 21, 0.34615384615384615: 20, 0.38461538461538464: 18, 0.6153846153846154: 18, 0.5961538461538461: 17, 0.3942307692307692: 17, 0.625: 16, 0.7884615384615384: 16, 0.7596153846153846: 15, 0.6730769230769231: 14, 0.9230769230769231: 13, 0.7307692307692307: 13, 0.75: 13, 0.7115384615384616: 10, 0.8365384615384616: 9, 0.7403846153846154: 9, 0.8173076923076923: 9, 0.8076923076923077: 8, 0.6923076923076923: 8, 0.6826923076923077: 8, 0.7692307692307693: 7, 0.7211538461538461: 6, 0.6346153846153846: 6, 0.9326923076923077: 6, 0.6634615384615384: 5, 0.8942307692307693: 4, 0.7788461538461539: 4, 0.7019230769230769: 4, 0.8653846153846154: 3, 0.9134615384615384: 3, 0.9038461538461539: 2, 0.875: 2, 0.9423076923076923: 1, 0.8846153846153846: 1})\n",
      "Counter({'bad': 3894, 'good': 768})\n"
     ]
    }
   ],
   "source": [
    "from collections import Counter\n",
    "print(Counter(probs))\n",
    "print(Counter(predictions))"
   ]
  },
  {
   "cell_type": "code",
   "execution_count": 178,
   "metadata": {},
   "outputs": [
    {
     "ename": "TypeError",
     "evalue": "Labels in y_true and y_pred should be of the same type. Got y_true=['bad' 'good'] and y_pred=[1]. Make sure that the predictions provided by the classifier coincides with the true labels.",
     "output_type": "error",
     "traceback": [
      "\u001b[0;31m---------------------------------------------------------------------------\u001b[0m",
      "\u001b[0;31mTypeError\u001b[0m                                 Traceback (most recent call last)",
      "File \u001b[0;32m~/Desktop/Neue Fische/Bootcamp/Tag-28-MLproject/airquality/.venv/lib/python3.9/site-packages/sklearn/metrics/_classification.py:111\u001b[0m, in \u001b[0;36m_check_targets\u001b[0;34m(y_true, y_pred)\u001b[0m\n\u001b[1;32m    <a href='file:///Users/kaergell/Desktop/Neue%20Fische/Bootcamp/Tag-28-MLproject/airquality/.venv/lib/python3.9/site-packages/sklearn/metrics/_classification.py?line=109'>110</a>\u001b[0m \u001b[39mtry\u001b[39;00m:\n\u001b[0;32m--> <a href='file:///Users/kaergell/Desktop/Neue%20Fische/Bootcamp/Tag-28-MLproject/airquality/.venv/lib/python3.9/site-packages/sklearn/metrics/_classification.py?line=110'>111</a>\u001b[0m     unique_values \u001b[39m=\u001b[39m np\u001b[39m.\u001b[39;49munion1d(y_true, y_pred)\n\u001b[1;32m    <a href='file:///Users/kaergell/Desktop/Neue%20Fische/Bootcamp/Tag-28-MLproject/airquality/.venv/lib/python3.9/site-packages/sklearn/metrics/_classification.py?line=111'>112</a>\u001b[0m \u001b[39mexcept\u001b[39;00m \u001b[39mTypeError\u001b[39;00m \u001b[39mas\u001b[39;00m e:\n\u001b[1;32m    <a href='file:///Users/kaergell/Desktop/Neue%20Fische/Bootcamp/Tag-28-MLproject/airquality/.venv/lib/python3.9/site-packages/sklearn/metrics/_classification.py?line=112'>113</a>\u001b[0m     \u001b[39m# We expect y_true and y_pred to be of the same data type.\u001b[39;00m\n\u001b[1;32m    <a href='file:///Users/kaergell/Desktop/Neue%20Fische/Bootcamp/Tag-28-MLproject/airquality/.venv/lib/python3.9/site-packages/sklearn/metrics/_classification.py?line=113'>114</a>\u001b[0m     \u001b[39m# If `y_true` was provided to the classifier as strings,\u001b[39;00m\n\u001b[1;32m    <a href='file:///Users/kaergell/Desktop/Neue%20Fische/Bootcamp/Tag-28-MLproject/airquality/.venv/lib/python3.9/site-packages/sklearn/metrics/_classification.py?line=114'>115</a>\u001b[0m     \u001b[39m# `y_pred` given by the classifier will also be encoded with\u001b[39;00m\n\u001b[1;32m    <a href='file:///Users/kaergell/Desktop/Neue%20Fische/Bootcamp/Tag-28-MLproject/airquality/.venv/lib/python3.9/site-packages/sklearn/metrics/_classification.py?line=115'>116</a>\u001b[0m     \u001b[39m# strings. So we raise a meaningful error\u001b[39;00m\n",
      "File \u001b[0;32m<__array_function__ internals>:180\u001b[0m, in \u001b[0;36munion1d\u001b[0;34m(*args, **kwargs)\u001b[0m\n",
      "File \u001b[0;32m~/Desktop/Neue Fische/Bootcamp/Tag-28-MLproject/airquality/.venv/lib/python3.9/site-packages/numpy/lib/arraysetops.py:777\u001b[0m, in \u001b[0;36munion1d\u001b[0;34m(ar1, ar2)\u001b[0m\n\u001b[1;32m    <a href='file:///Users/kaergell/Desktop/Neue%20Fische/Bootcamp/Tag-28-MLproject/airquality/.venv/lib/python3.9/site-packages/numpy/lib/arraysetops.py?line=744'>745</a>\u001b[0m \u001b[39m\"\"\"\u001b[39;00m\n\u001b[1;32m    <a href='file:///Users/kaergell/Desktop/Neue%20Fische/Bootcamp/Tag-28-MLproject/airquality/.venv/lib/python3.9/site-packages/numpy/lib/arraysetops.py?line=745'>746</a>\u001b[0m \u001b[39mFind the union of two arrays.\u001b[39;00m\n\u001b[1;32m    <a href='file:///Users/kaergell/Desktop/Neue%20Fische/Bootcamp/Tag-28-MLproject/airquality/.venv/lib/python3.9/site-packages/numpy/lib/arraysetops.py?line=746'>747</a>\u001b[0m \n\u001b[0;32m   (...)\u001b[0m\n\u001b[1;32m    <a href='file:///Users/kaergell/Desktop/Neue%20Fische/Bootcamp/Tag-28-MLproject/airquality/.venv/lib/python3.9/site-packages/numpy/lib/arraysetops.py?line=774'>775</a>\u001b[0m \u001b[39marray([1, 2, 3, 4, 6])\u001b[39;00m\n\u001b[1;32m    <a href='file:///Users/kaergell/Desktop/Neue%20Fische/Bootcamp/Tag-28-MLproject/airquality/.venv/lib/python3.9/site-packages/numpy/lib/arraysetops.py?line=775'>776</a>\u001b[0m \u001b[39m\"\"\"\u001b[39;00m\n\u001b[0;32m--> <a href='file:///Users/kaergell/Desktop/Neue%20Fische/Bootcamp/Tag-28-MLproject/airquality/.venv/lib/python3.9/site-packages/numpy/lib/arraysetops.py?line=776'>777</a>\u001b[0m \u001b[39mreturn\u001b[39;00m unique(np\u001b[39m.\u001b[39;49mconcatenate((ar1, ar2), axis\u001b[39m=\u001b[39;49m\u001b[39mNone\u001b[39;49;00m))\n",
      "File \u001b[0;32m<__array_function__ internals>:180\u001b[0m, in \u001b[0;36munique\u001b[0;34m(*args, **kwargs)\u001b[0m\n",
      "File \u001b[0;32m~/Desktop/Neue Fische/Bootcamp/Tag-28-MLproject/airquality/.venv/lib/python3.9/site-packages/numpy/lib/arraysetops.py:272\u001b[0m, in \u001b[0;36munique\u001b[0;34m(ar, return_index, return_inverse, return_counts, axis)\u001b[0m\n\u001b[1;32m    <a href='file:///Users/kaergell/Desktop/Neue%20Fische/Bootcamp/Tag-28-MLproject/airquality/.venv/lib/python3.9/site-packages/numpy/lib/arraysetops.py?line=270'>271</a>\u001b[0m \u001b[39mif\u001b[39;00m axis \u001b[39mis\u001b[39;00m \u001b[39mNone\u001b[39;00m:\n\u001b[0;32m--> <a href='file:///Users/kaergell/Desktop/Neue%20Fische/Bootcamp/Tag-28-MLproject/airquality/.venv/lib/python3.9/site-packages/numpy/lib/arraysetops.py?line=271'>272</a>\u001b[0m     ret \u001b[39m=\u001b[39m _unique1d(ar, return_index, return_inverse, return_counts)\n\u001b[1;32m    <a href='file:///Users/kaergell/Desktop/Neue%20Fische/Bootcamp/Tag-28-MLproject/airquality/.venv/lib/python3.9/site-packages/numpy/lib/arraysetops.py?line=272'>273</a>\u001b[0m     \u001b[39mreturn\u001b[39;00m _unpack_tuple(ret)\n",
      "File \u001b[0;32m~/Desktop/Neue Fische/Bootcamp/Tag-28-MLproject/airquality/.venv/lib/python3.9/site-packages/numpy/lib/arraysetops.py:333\u001b[0m, in \u001b[0;36m_unique1d\u001b[0;34m(ar, return_index, return_inverse, return_counts)\u001b[0m\n\u001b[1;32m    <a href='file:///Users/kaergell/Desktop/Neue%20Fische/Bootcamp/Tag-28-MLproject/airquality/.venv/lib/python3.9/site-packages/numpy/lib/arraysetops.py?line=331'>332</a>\u001b[0m \u001b[39melse\u001b[39;00m:\n\u001b[0;32m--> <a href='file:///Users/kaergell/Desktop/Neue%20Fische/Bootcamp/Tag-28-MLproject/airquality/.venv/lib/python3.9/site-packages/numpy/lib/arraysetops.py?line=332'>333</a>\u001b[0m     ar\u001b[39m.\u001b[39;49msort()\n\u001b[1;32m    <a href='file:///Users/kaergell/Desktop/Neue%20Fische/Bootcamp/Tag-28-MLproject/airquality/.venv/lib/python3.9/site-packages/numpy/lib/arraysetops.py?line=333'>334</a>\u001b[0m     aux \u001b[39m=\u001b[39m ar\n",
      "\u001b[0;31mTypeError\u001b[0m: '<' not supported between instances of 'int' and 'str'",
      "\nThe above exception was the direct cause of the following exception:\n",
      "\u001b[0;31mTypeError\u001b[0m                                 Traceback (most recent call last)",
      "Input \u001b[0;32mIn [178]\u001b[0m, in \u001b[0;36m<cell line: 1>\u001b[0;34m()\u001b[0m\n\u001b[0;32m----> 1\u001b[0m evaluate_model(predictions, probs, train_predictions, train_probs)\n",
      "Input \u001b[0;32mIn [176]\u001b[0m, in \u001b[0;36mevaluate_model\u001b[0;34m(predictions, probs, train_predictions, train_probs)\u001b[0m\n\u001b[1;32m      2\u001b[0m \u001b[39m\"\"\"Compare machine learning model to baseline performance.\u001b[39;00m\n\u001b[1;32m      3\u001b[0m \u001b[39mComputes statistics and shows ROC curve.\"\"\"\u001b[39;00m\n\u001b[1;32m      5\u001b[0m baseline \u001b[39m=\u001b[39m {}\n\u001b[0;32m----> 7\u001b[0m baseline[\u001b[39m'\u001b[39m\u001b[39mrecall\u001b[39m\u001b[39m'\u001b[39m] \u001b[39m=\u001b[39m recall_score(y_test, [\u001b[39m1\u001b[39;49m \u001b[39mfor\u001b[39;49;00m _ \u001b[39min\u001b[39;49;00m \u001b[39mrange\u001b[39;49m(\u001b[39mlen\u001b[39;49m(y_test))])\n\u001b[1;32m      8\u001b[0m baseline[\u001b[39m'\u001b[39m\u001b[39mprecision\u001b[39m\u001b[39m'\u001b[39m] \u001b[39m=\u001b[39m precision_score(y_test, [\u001b[39m1\u001b[39m \u001b[39mfor\u001b[39;00m _ \u001b[39min\u001b[39;00m \u001b[39mrange\u001b[39m(\u001b[39mlen\u001b[39m(y_test))])\n\u001b[1;32m      9\u001b[0m baseline[\u001b[39m'\u001b[39m\u001b[39mroc\u001b[39m\u001b[39m'\u001b[39m] \u001b[39m=\u001b[39m \u001b[39m0.5\u001b[39m\n",
      "File \u001b[0;32m~/Desktop/Neue Fische/Bootcamp/Tag-28-MLproject/airquality/.venv/lib/python3.9/site-packages/sklearn/metrics/_classification.py:1901\u001b[0m, in \u001b[0;36mrecall_score\u001b[0;34m(y_true, y_pred, labels, pos_label, average, sample_weight, zero_division)\u001b[0m\n\u001b[1;32m   <a href='file:///Users/kaergell/Desktop/Neue%20Fische/Bootcamp/Tag-28-MLproject/airquality/.venv/lib/python3.9/site-packages/sklearn/metrics/_classification.py?line=1769'>1770</a>\u001b[0m \u001b[39mdef\u001b[39;00m \u001b[39mrecall_score\u001b[39m(\n\u001b[1;32m   <a href='file:///Users/kaergell/Desktop/Neue%20Fische/Bootcamp/Tag-28-MLproject/airquality/.venv/lib/python3.9/site-packages/sklearn/metrics/_classification.py?line=1770'>1771</a>\u001b[0m     y_true,\n\u001b[1;32m   <a href='file:///Users/kaergell/Desktop/Neue%20Fische/Bootcamp/Tag-28-MLproject/airquality/.venv/lib/python3.9/site-packages/sklearn/metrics/_classification.py?line=1771'>1772</a>\u001b[0m     y_pred,\n\u001b[0;32m   (...)\u001b[0m\n\u001b[1;32m   <a href='file:///Users/kaergell/Desktop/Neue%20Fische/Bootcamp/Tag-28-MLproject/airquality/.venv/lib/python3.9/site-packages/sklearn/metrics/_classification.py?line=1777'>1778</a>\u001b[0m     zero_division\u001b[39m=\u001b[39m\u001b[39m\"\u001b[39m\u001b[39mwarn\u001b[39m\u001b[39m\"\u001b[39m,\n\u001b[1;32m   <a href='file:///Users/kaergell/Desktop/Neue%20Fische/Bootcamp/Tag-28-MLproject/airquality/.venv/lib/python3.9/site-packages/sklearn/metrics/_classification.py?line=1778'>1779</a>\u001b[0m ):\n\u001b[1;32m   <a href='file:///Users/kaergell/Desktop/Neue%20Fische/Bootcamp/Tag-28-MLproject/airquality/.venv/lib/python3.9/site-packages/sklearn/metrics/_classification.py?line=1779'>1780</a>\u001b[0m     \u001b[39m\"\"\"Compute the recall.\u001b[39;00m\n\u001b[1;32m   <a href='file:///Users/kaergell/Desktop/Neue%20Fische/Bootcamp/Tag-28-MLproject/airquality/.venv/lib/python3.9/site-packages/sklearn/metrics/_classification.py?line=1780'>1781</a>\u001b[0m \n\u001b[1;32m   <a href='file:///Users/kaergell/Desktop/Neue%20Fische/Bootcamp/Tag-28-MLproject/airquality/.venv/lib/python3.9/site-packages/sklearn/metrics/_classification.py?line=1781'>1782</a>\u001b[0m \u001b[39m    The recall is the ratio ``tp / (tp + fn)`` where ``tp`` is the number of\u001b[39;00m\n\u001b[0;32m   (...)\u001b[0m\n\u001b[1;32m   <a href='file:///Users/kaergell/Desktop/Neue%20Fische/Bootcamp/Tag-28-MLproject/airquality/.venv/lib/python3.9/site-packages/sklearn/metrics/_classification.py?line=1898'>1899</a>\u001b[0m \u001b[39m    array([1. , 1. , 0.5])\u001b[39;00m\n\u001b[1;32m   <a href='file:///Users/kaergell/Desktop/Neue%20Fische/Bootcamp/Tag-28-MLproject/airquality/.venv/lib/python3.9/site-packages/sklearn/metrics/_classification.py?line=1899'>1900</a>\u001b[0m \u001b[39m    \"\"\"\u001b[39;00m\n\u001b[0;32m-> <a href='file:///Users/kaergell/Desktop/Neue%20Fische/Bootcamp/Tag-28-MLproject/airquality/.venv/lib/python3.9/site-packages/sklearn/metrics/_classification.py?line=1900'>1901</a>\u001b[0m     _, r, _, _ \u001b[39m=\u001b[39m precision_recall_fscore_support(\n\u001b[1;32m   <a href='file:///Users/kaergell/Desktop/Neue%20Fische/Bootcamp/Tag-28-MLproject/airquality/.venv/lib/python3.9/site-packages/sklearn/metrics/_classification.py?line=1901'>1902</a>\u001b[0m         y_true,\n\u001b[1;32m   <a href='file:///Users/kaergell/Desktop/Neue%20Fische/Bootcamp/Tag-28-MLproject/airquality/.venv/lib/python3.9/site-packages/sklearn/metrics/_classification.py?line=1902'>1903</a>\u001b[0m         y_pred,\n\u001b[1;32m   <a href='file:///Users/kaergell/Desktop/Neue%20Fische/Bootcamp/Tag-28-MLproject/airquality/.venv/lib/python3.9/site-packages/sklearn/metrics/_classification.py?line=1903'>1904</a>\u001b[0m         labels\u001b[39m=\u001b[39;49mlabels,\n\u001b[1;32m   <a href='file:///Users/kaergell/Desktop/Neue%20Fische/Bootcamp/Tag-28-MLproject/airquality/.venv/lib/python3.9/site-packages/sklearn/metrics/_classification.py?line=1904'>1905</a>\u001b[0m         pos_label\u001b[39m=\u001b[39;49mpos_label,\n\u001b[1;32m   <a href='file:///Users/kaergell/Desktop/Neue%20Fische/Bootcamp/Tag-28-MLproject/airquality/.venv/lib/python3.9/site-packages/sklearn/metrics/_classification.py?line=1905'>1906</a>\u001b[0m         average\u001b[39m=\u001b[39;49maverage,\n\u001b[1;32m   <a href='file:///Users/kaergell/Desktop/Neue%20Fische/Bootcamp/Tag-28-MLproject/airquality/.venv/lib/python3.9/site-packages/sklearn/metrics/_classification.py?line=1906'>1907</a>\u001b[0m         warn_for\u001b[39m=\u001b[39;49m(\u001b[39m\"\u001b[39;49m\u001b[39mrecall\u001b[39;49m\u001b[39m\"\u001b[39;49m,),\n\u001b[1;32m   <a href='file:///Users/kaergell/Desktop/Neue%20Fische/Bootcamp/Tag-28-MLproject/airquality/.venv/lib/python3.9/site-packages/sklearn/metrics/_classification.py?line=1907'>1908</a>\u001b[0m         sample_weight\u001b[39m=\u001b[39;49msample_weight,\n\u001b[1;32m   <a href='file:///Users/kaergell/Desktop/Neue%20Fische/Bootcamp/Tag-28-MLproject/airquality/.venv/lib/python3.9/site-packages/sklearn/metrics/_classification.py?line=1908'>1909</a>\u001b[0m         zero_division\u001b[39m=\u001b[39;49mzero_division,\n\u001b[1;32m   <a href='file:///Users/kaergell/Desktop/Neue%20Fische/Bootcamp/Tag-28-MLproject/airquality/.venv/lib/python3.9/site-packages/sklearn/metrics/_classification.py?line=1909'>1910</a>\u001b[0m     )\n\u001b[1;32m   <a href='file:///Users/kaergell/Desktop/Neue%20Fische/Bootcamp/Tag-28-MLproject/airquality/.venv/lib/python3.9/site-packages/sklearn/metrics/_classification.py?line=1910'>1911</a>\u001b[0m     \u001b[39mreturn\u001b[39;00m r\n",
      "File \u001b[0;32m~/Desktop/Neue Fische/Bootcamp/Tag-28-MLproject/airquality/.venv/lib/python3.9/site-packages/sklearn/metrics/_classification.py:1544\u001b[0m, in \u001b[0;36mprecision_recall_fscore_support\u001b[0;34m(y_true, y_pred, beta, labels, pos_label, average, warn_for, sample_weight, zero_division)\u001b[0m\n\u001b[1;32m   <a href='file:///Users/kaergell/Desktop/Neue%20Fische/Bootcamp/Tag-28-MLproject/airquality/.venv/lib/python3.9/site-packages/sklearn/metrics/_classification.py?line=1541'>1542</a>\u001b[0m \u001b[39mif\u001b[39;00m beta \u001b[39m<\u001b[39m \u001b[39m0\u001b[39m:\n\u001b[1;32m   <a href='file:///Users/kaergell/Desktop/Neue%20Fische/Bootcamp/Tag-28-MLproject/airquality/.venv/lib/python3.9/site-packages/sklearn/metrics/_classification.py?line=1542'>1543</a>\u001b[0m     \u001b[39mraise\u001b[39;00m \u001b[39mValueError\u001b[39;00m(\u001b[39m\"\u001b[39m\u001b[39mbeta should be >=0 in the F-beta score\u001b[39m\u001b[39m\"\u001b[39m)\n\u001b[0;32m-> <a href='file:///Users/kaergell/Desktop/Neue%20Fische/Bootcamp/Tag-28-MLproject/airquality/.venv/lib/python3.9/site-packages/sklearn/metrics/_classification.py?line=1543'>1544</a>\u001b[0m labels \u001b[39m=\u001b[39m _check_set_wise_labels(y_true, y_pred, average, labels, pos_label)\n\u001b[1;32m   <a href='file:///Users/kaergell/Desktop/Neue%20Fische/Bootcamp/Tag-28-MLproject/airquality/.venv/lib/python3.9/site-packages/sklearn/metrics/_classification.py?line=1545'>1546</a>\u001b[0m \u001b[39m# Calculate tp_sum, pred_sum, true_sum ###\u001b[39;00m\n\u001b[1;32m   <a href='file:///Users/kaergell/Desktop/Neue%20Fische/Bootcamp/Tag-28-MLproject/airquality/.venv/lib/python3.9/site-packages/sklearn/metrics/_classification.py?line=1546'>1547</a>\u001b[0m samplewise \u001b[39m=\u001b[39m average \u001b[39m==\u001b[39m \u001b[39m\"\u001b[39m\u001b[39msamples\u001b[39m\u001b[39m\"\u001b[39m\n",
      "File \u001b[0;32m~/Desktop/Neue Fische/Bootcamp/Tag-28-MLproject/airquality/.venv/lib/python3.9/site-packages/sklearn/metrics/_classification.py:1348\u001b[0m, in \u001b[0;36m_check_set_wise_labels\u001b[0;34m(y_true, y_pred, average, labels, pos_label)\u001b[0m\n\u001b[1;32m   <a href='file:///Users/kaergell/Desktop/Neue%20Fische/Bootcamp/Tag-28-MLproject/airquality/.venv/lib/python3.9/site-packages/sklearn/metrics/_classification.py?line=1344'>1345</a>\u001b[0m \u001b[39mif\u001b[39;00m average \u001b[39mnot\u001b[39;00m \u001b[39min\u001b[39;00m average_options \u001b[39mand\u001b[39;00m average \u001b[39m!=\u001b[39m \u001b[39m\"\u001b[39m\u001b[39mbinary\u001b[39m\u001b[39m\"\u001b[39m:\n\u001b[1;32m   <a href='file:///Users/kaergell/Desktop/Neue%20Fische/Bootcamp/Tag-28-MLproject/airquality/.venv/lib/python3.9/site-packages/sklearn/metrics/_classification.py?line=1345'>1346</a>\u001b[0m     \u001b[39mraise\u001b[39;00m \u001b[39mValueError\u001b[39;00m(\u001b[39m\"\u001b[39m\u001b[39maverage has to be one of \u001b[39m\u001b[39m\"\u001b[39m \u001b[39m+\u001b[39m \u001b[39mstr\u001b[39m(average_options))\n\u001b[0;32m-> <a href='file:///Users/kaergell/Desktop/Neue%20Fische/Bootcamp/Tag-28-MLproject/airquality/.venv/lib/python3.9/site-packages/sklearn/metrics/_classification.py?line=1347'>1348</a>\u001b[0m y_type, y_true, y_pred \u001b[39m=\u001b[39m _check_targets(y_true, y_pred)\n\u001b[1;32m   <a href='file:///Users/kaergell/Desktop/Neue%20Fische/Bootcamp/Tag-28-MLproject/airquality/.venv/lib/python3.9/site-packages/sklearn/metrics/_classification.py?line=1348'>1349</a>\u001b[0m \u001b[39m# Convert to Python primitive type to avoid NumPy type / Python str\u001b[39;00m\n\u001b[1;32m   <a href='file:///Users/kaergell/Desktop/Neue%20Fische/Bootcamp/Tag-28-MLproject/airquality/.venv/lib/python3.9/site-packages/sklearn/metrics/_classification.py?line=1349'>1350</a>\u001b[0m \u001b[39m# comparison. See https://github.com/numpy/numpy/issues/6784\u001b[39;00m\n\u001b[1;32m   <a href='file:///Users/kaergell/Desktop/Neue%20Fische/Bootcamp/Tag-28-MLproject/airquality/.venv/lib/python3.9/site-packages/sklearn/metrics/_classification.py?line=1350'>1351</a>\u001b[0m present_labels \u001b[39m=\u001b[39m unique_labels(y_true, y_pred)\u001b[39m.\u001b[39mtolist()\n",
      "File \u001b[0;32m~/Desktop/Neue Fische/Bootcamp/Tag-28-MLproject/airquality/.venv/lib/python3.9/site-packages/sklearn/metrics/_classification.py:117\u001b[0m, in \u001b[0;36m_check_targets\u001b[0;34m(y_true, y_pred)\u001b[0m\n\u001b[1;32m    <a href='file:///Users/kaergell/Desktop/Neue%20Fische/Bootcamp/Tag-28-MLproject/airquality/.venv/lib/python3.9/site-packages/sklearn/metrics/_classification.py?line=110'>111</a>\u001b[0m     unique_values \u001b[39m=\u001b[39m np\u001b[39m.\u001b[39munion1d(y_true, y_pred)\n\u001b[1;32m    <a href='file:///Users/kaergell/Desktop/Neue%20Fische/Bootcamp/Tag-28-MLproject/airquality/.venv/lib/python3.9/site-packages/sklearn/metrics/_classification.py?line=111'>112</a>\u001b[0m \u001b[39mexcept\u001b[39;00m \u001b[39mTypeError\u001b[39;00m \u001b[39mas\u001b[39;00m e:\n\u001b[1;32m    <a href='file:///Users/kaergell/Desktop/Neue%20Fische/Bootcamp/Tag-28-MLproject/airquality/.venv/lib/python3.9/site-packages/sklearn/metrics/_classification.py?line=112'>113</a>\u001b[0m     \u001b[39m# We expect y_true and y_pred to be of the same data type.\u001b[39;00m\n\u001b[1;32m    <a href='file:///Users/kaergell/Desktop/Neue%20Fische/Bootcamp/Tag-28-MLproject/airquality/.venv/lib/python3.9/site-packages/sklearn/metrics/_classification.py?line=113'>114</a>\u001b[0m     \u001b[39m# If `y_true` was provided to the classifier as strings,\u001b[39;00m\n\u001b[1;32m    <a href='file:///Users/kaergell/Desktop/Neue%20Fische/Bootcamp/Tag-28-MLproject/airquality/.venv/lib/python3.9/site-packages/sklearn/metrics/_classification.py?line=114'>115</a>\u001b[0m     \u001b[39m# `y_pred` given by the classifier will also be encoded with\u001b[39;00m\n\u001b[1;32m    <a href='file:///Users/kaergell/Desktop/Neue%20Fische/Bootcamp/Tag-28-MLproject/airquality/.venv/lib/python3.9/site-packages/sklearn/metrics/_classification.py?line=115'>116</a>\u001b[0m     \u001b[39m# strings. So we raise a meaningful error\u001b[39;00m\n\u001b[0;32m--> <a href='file:///Users/kaergell/Desktop/Neue%20Fische/Bootcamp/Tag-28-MLproject/airquality/.venv/lib/python3.9/site-packages/sklearn/metrics/_classification.py?line=116'>117</a>\u001b[0m     \u001b[39mraise\u001b[39;00m \u001b[39mTypeError\u001b[39;00m(\n\u001b[1;32m    <a href='file:///Users/kaergell/Desktop/Neue%20Fische/Bootcamp/Tag-28-MLproject/airquality/.venv/lib/python3.9/site-packages/sklearn/metrics/_classification.py?line=117'>118</a>\u001b[0m         \u001b[39m\"\u001b[39m\u001b[39mLabels in y_true and y_pred should be of the same type. \u001b[39m\u001b[39m\"\u001b[39m\n\u001b[1;32m    <a href='file:///Users/kaergell/Desktop/Neue%20Fische/Bootcamp/Tag-28-MLproject/airquality/.venv/lib/python3.9/site-packages/sklearn/metrics/_classification.py?line=118'>119</a>\u001b[0m         \u001b[39mf\u001b[39m\u001b[39m\"\u001b[39m\u001b[39mGot y_true=\u001b[39m\u001b[39m{\u001b[39;00mnp\u001b[39m.\u001b[39munique(y_true)\u001b[39m}\u001b[39;00m\u001b[39m and \u001b[39m\u001b[39m\"\u001b[39m\n\u001b[1;32m    <a href='file:///Users/kaergell/Desktop/Neue%20Fische/Bootcamp/Tag-28-MLproject/airquality/.venv/lib/python3.9/site-packages/sklearn/metrics/_classification.py?line=119'>120</a>\u001b[0m         \u001b[39mf\u001b[39m\u001b[39m\"\u001b[39m\u001b[39my_pred=\u001b[39m\u001b[39m{\u001b[39;00mnp\u001b[39m.\u001b[39munique(y_pred)\u001b[39m}\u001b[39;00m\u001b[39m. Make sure that the \u001b[39m\u001b[39m\"\u001b[39m\n\u001b[1;32m    <a href='file:///Users/kaergell/Desktop/Neue%20Fische/Bootcamp/Tag-28-MLproject/airquality/.venv/lib/python3.9/site-packages/sklearn/metrics/_classification.py?line=120'>121</a>\u001b[0m         \u001b[39m\"\u001b[39m\u001b[39mpredictions provided by the classifier coincides with \u001b[39m\u001b[39m\"\u001b[39m\n\u001b[1;32m    <a href='file:///Users/kaergell/Desktop/Neue%20Fische/Bootcamp/Tag-28-MLproject/airquality/.venv/lib/python3.9/site-packages/sklearn/metrics/_classification.py?line=121'>122</a>\u001b[0m         \u001b[39m\"\u001b[39m\u001b[39mthe true labels.\u001b[39m\u001b[39m\"\u001b[39m\n\u001b[1;32m    <a href='file:///Users/kaergell/Desktop/Neue%20Fische/Bootcamp/Tag-28-MLproject/airquality/.venv/lib/python3.9/site-packages/sklearn/metrics/_classification.py?line=122'>123</a>\u001b[0m     ) \u001b[39mfrom\u001b[39;00m \u001b[39me\u001b[39;00m\n\u001b[1;32m    <a href='file:///Users/kaergell/Desktop/Neue%20Fische/Bootcamp/Tag-28-MLproject/airquality/.venv/lib/python3.9/site-packages/sklearn/metrics/_classification.py?line=123'>124</a>\u001b[0m \u001b[39mif\u001b[39;00m \u001b[39mlen\u001b[39m(unique_values) \u001b[39m>\u001b[39m \u001b[39m2\u001b[39m:\n\u001b[1;32m    <a href='file:///Users/kaergell/Desktop/Neue%20Fische/Bootcamp/Tag-28-MLproject/airquality/.venv/lib/python3.9/site-packages/sklearn/metrics/_classification.py?line=124'>125</a>\u001b[0m     y_type \u001b[39m=\u001b[39m \u001b[39m\"\u001b[39m\u001b[39mmulticlass\u001b[39m\u001b[39m\"\u001b[39m\n",
      "\u001b[0;31mTypeError\u001b[0m: Labels in y_true and y_pred should be of the same type. Got y_true=['bad' 'good'] and y_pred=[1]. Make sure that the predictions provided by the classifier coincides with the true labels."
     ]
    }
   ],
   "source": [
    "evaluate_model(predictions, probs, train_predictions, train_probs)\n"
   ]
  },
  {
   "cell_type": "code",
   "execution_count": 180,
   "metadata": {},
   "outputs": [
    {
     "ename": "IndentationError",
     "evalue": "expected an indented block (850631051.py, line 8)",
     "output_type": "error",
     "traceback": [
      "\u001b[0;36m  Input \u001b[0;32mIn [180]\u001b[0;36m\u001b[0m\n\u001b[0;31m    '''\u001b[0m\n\u001b[0m    ^\u001b[0m\n\u001b[0;31mIndentationError\u001b[0m\u001b[0;31m:\u001b[0m expected an indented block\n"
     ]
    }
   ],
   "source": [
    "from sklearn.metrics import confusion_matrix\n",
    "import itertools\n",
    "\n",
    "def plot_confusion_matrix(cm, classes,\n",
    "                          normalize=False,\n",
    "                          title='Confusion matrix',\n",
    "                          cmap=plt.cm.Oranges):\n",
    "'''\n",
    "    This function prints and plots the confusion matrix.\n",
    "    Normalization can be applied by setting `normalize=True`.\n",
    "    Source: http://scikit-learn.org/stable/auto_examples/model_selection/plot_confusion_matrix.html\n",
    "'''\n",
    "\n",
    "if normalize:\n",
    "    cm = cm.astype('float') / cm.sum(axis=1)[:, np.newaxis]\n",
    "    print(\"Normalized confusion matrix\")\n",
    "else:\n",
    "    print('Confusion matrix, without normalization')\n",
    " \n",
    "    print(cm)\n",
    "\n",
    "plt.figure(figsize = (10, 10))\n",
    "plt.imshow(cm, interpolation='nearest', cmap=cmap)\n",
    "plt.title(title, size = 24)\n",
    "plt.colorbar(aspect=4)\n",
    "tick_marks = np.arange(len(classes))\n",
    "plt.xticks(tick_marks, classes, rotation=45, size = 14)\n",
    "plt.yticks(tick_marks, classes, size = 14)\n",
    "\n",
    "fmt = '.2f' if normalize else 'd'\n",
    "thresh = cm.max() / 2.\n",
    "       \n",
    "# Labeling the plot\\n\",\n",
    "for i, j in itertools.product(range(cm.shape[0]), range(cm.shape[1])):\n",
    "    plt.text(j, i, format(cm[i, j], fmt), fontsize = 20,\n",
    "        horizontalalignment=\"center\"\n",
    "        color=\"white\" if cm[i, j] > thresh else \"black\")\n",
    "            \n",
    "    plt.grid(None)\n",
    "    plt.tight_layout()\n",
    "    plt.ylabel('True label', size = 18)\n",
    "    plt.xlabel('Predicted label', size = 18)\"\n",
    "   "
   ]
  },
  {
   "cell_type": "code",
   "execution_count": null,
   "metadata": {},
   "outputs": [],
   "source": [
    "cm = confusion_matrix(y_test, predictions)\n",
    "plot_confusion_matrix(cm, classes = ['Bad Airquality', 'Good Airquality'],\n",
    "                      title = 'Health Confusion Matrix')"
   ]
  },
  {
   "cell_type": "code",
   "execution_count": 158,
   "metadata": {},
   "outputs": [
    {
     "data": {
      "text/html": [
       "<div>\n",
       "<style scoped>\n",
       "    .dataframe tbody tr th:only-of-type {\n",
       "        vertical-align: middle;\n",
       "    }\n",
       "\n",
       "    .dataframe tbody tr th {\n",
       "        vertical-align: top;\n",
       "    }\n",
       "\n",
       "    .dataframe thead th {\n",
       "        text-align: right;\n",
       "    }\n",
       "</style>\n",
       "<table border=\"1\" class=\"dataframe\">\n",
       "  <thead>\n",
       "    <tr style=\"text-align: right;\">\n",
       "      <th></th>\n",
       "      <th>prob</th>\n",
       "    </tr>\n",
       "  </thead>\n",
       "  <tbody>\n",
       "    <tr>\n",
       "      <th>0</th>\n",
       "      <td>0.451923</td>\n",
       "    </tr>\n",
       "    <tr>\n",
       "      <th>1</th>\n",
       "      <td>0.586538</td>\n",
       "    </tr>\n",
       "    <tr>\n",
       "      <th>2</th>\n",
       "      <td>0.105769</td>\n",
       "    </tr>\n",
       "    <tr>\n",
       "      <th>3</th>\n",
       "      <td>0.442308</td>\n",
       "    </tr>\n",
       "    <tr>\n",
       "      <th>4</th>\n",
       "      <td>0.250000</td>\n",
       "    </tr>\n",
       "    <tr>\n",
       "      <th>...</th>\n",
       "      <td>...</td>\n",
       "    </tr>\n",
       "    <tr>\n",
       "      <th>4657</th>\n",
       "      <td>0.798077</td>\n",
       "    </tr>\n",
       "    <tr>\n",
       "      <th>4658</th>\n",
       "      <td>0.105769</td>\n",
       "    </tr>\n",
       "    <tr>\n",
       "      <th>4659</th>\n",
       "      <td>0.192308</td>\n",
       "    </tr>\n",
       "    <tr>\n",
       "      <th>4660</th>\n",
       "      <td>0.586538</td>\n",
       "    </tr>\n",
       "    <tr>\n",
       "      <th>4661</th>\n",
       "      <td>0.076923</td>\n",
       "    </tr>\n",
       "  </tbody>\n",
       "</table>\n",
       "<p>4662 rows × 1 columns</p>\n",
       "</div>"
      ],
      "text/plain": [
       "          prob\n",
       "0     0.451923\n",
       "1     0.586538\n",
       "2     0.105769\n",
       "3     0.442308\n",
       "4     0.250000\n",
       "...        ...\n",
       "4657  0.798077\n",
       "4658  0.105769\n",
       "4659  0.192308\n",
       "4660  0.586538\n",
       "4661  0.076923\n",
       "\n",
       "[4662 rows x 1 columns]"
      ]
     },
     "execution_count": 158,
     "metadata": {},
     "output_type": "execute_result"
    }
   ],
   "source": [
    "probs_1 =pd.DataFrame(probs, columns = [\"prob\"])\n",
    "probs_1"
   ]
  },
  {
   "cell_type": "code",
   "execution_count": 159,
   "metadata": {},
   "outputs": [],
   "source": [
    "thresh = 0.75\n",
    "probs_1['Th_0.75'] = (probs_1.prob>= 0.75).astype('int')\n",
    "probs_1['Th_0.25'] = (probs_1.prob >= 0.25).astype('int')\n",
    "    #probs_1.drop([\\\"th_0.75\\\",\\\"Th-0.25\\\"], axis =1)"
   ]
  },
  {
   "cell_type": "code",
   "execution_count": 160,
   "metadata": {},
   "outputs": [
    {
     "ename": "KeyError",
     "evalue": "'th_0.75'",
     "output_type": "error",
     "traceback": [
      "\u001b[0;31m---------------------------------------------------------------------------\u001b[0m",
      "\u001b[0;31mKeyError\u001b[0m                                  Traceback (most recent call last)",
      "File \u001b[0;32m~/Desktop/Neue Fische/Bootcamp/Tag-28-MLproject/airquality/.venv/lib/python3.9/site-packages/pandas/core/indexes/base.py:3361\u001b[0m, in \u001b[0;36mIndex.get_loc\u001b[0;34m(self, key, method, tolerance)\u001b[0m\n\u001b[1;32m   <a href='file:///Users/kaergell/Desktop/Neue%20Fische/Bootcamp/Tag-28-MLproject/airquality/.venv/lib/python3.9/site-packages/pandas/core/indexes/base.py?line=3359'>3360</a>\u001b[0m \u001b[39mtry\u001b[39;00m:\n\u001b[0;32m-> <a href='file:///Users/kaergell/Desktop/Neue%20Fische/Bootcamp/Tag-28-MLproject/airquality/.venv/lib/python3.9/site-packages/pandas/core/indexes/base.py?line=3360'>3361</a>\u001b[0m     \u001b[39mreturn\u001b[39;00m \u001b[39mself\u001b[39;49m\u001b[39m.\u001b[39;49m_engine\u001b[39m.\u001b[39;49mget_loc(casted_key)\n\u001b[1;32m   <a href='file:///Users/kaergell/Desktop/Neue%20Fische/Bootcamp/Tag-28-MLproject/airquality/.venv/lib/python3.9/site-packages/pandas/core/indexes/base.py?line=3361'>3362</a>\u001b[0m \u001b[39mexcept\u001b[39;00m \u001b[39mKeyError\u001b[39;00m \u001b[39mas\u001b[39;00m err:\n",
      "File \u001b[0;32m~/Desktop/Neue Fische/Bootcamp/Tag-28-MLproject/airquality/.venv/lib/python3.9/site-packages/pandas/_libs/index.pyx:76\u001b[0m, in \u001b[0;36mpandas._libs.index.IndexEngine.get_loc\u001b[0;34m()\u001b[0m\n",
      "File \u001b[0;32m~/Desktop/Neue Fische/Bootcamp/Tag-28-MLproject/airquality/.venv/lib/python3.9/site-packages/pandas/_libs/index.pyx:108\u001b[0m, in \u001b[0;36mpandas._libs.index.IndexEngine.get_loc\u001b[0;34m()\u001b[0m\n",
      "File \u001b[0;32mpandas/_libs/hashtable_class_helper.pxi:5198\u001b[0m, in \u001b[0;36mpandas._libs.hashtable.PyObjectHashTable.get_item\u001b[0;34m()\u001b[0m\n",
      "File \u001b[0;32mpandas/_libs/hashtable_class_helper.pxi:5206\u001b[0m, in \u001b[0;36mpandas._libs.hashtable.PyObjectHashTable.get_item\u001b[0;34m()\u001b[0m\n",
      "\u001b[0;31mKeyError\u001b[0m: 'th_0.75'",
      "\nThe above exception was the direct cause of the following exception:\n",
      "\u001b[0;31mKeyError\u001b[0m                                  Traceback (most recent call last)",
      "Input \u001b[0;32mIn [160]\u001b[0m, in \u001b[0;36m<cell line: 1>\u001b[0;34m()\u001b[0m\n\u001b[0;32m----> 1\u001b[0m cm \u001b[39m=\u001b[39m confusion_matrix(y_test, probs_1[\u001b[39m'\u001b[39;49m\u001b[39mth_0.75\u001b[39;49m\u001b[39m'\u001b[39;49m])\n\u001b[1;32m      2\u001b[0m plot_confusion_matrix(cm, classes \u001b[39m=\u001b[39m [\u001b[39m'\u001b[39m\u001b[39mBad Airquality\u001b[39m\u001b[39m'\u001b[39m, \u001b[39m'\u001b[39m\u001b[39mGood Airquality\u001b[39m\u001b[39m'\u001b[39m],\n\u001b[1;32m      3\u001b[0m                       title \u001b[39m=\u001b[39m \u001b[39m'\u001b[39m\u001b[39mAirquality Confusion Matrix (Threshold = 0.75\u001b[39m\u001b[39m'\u001b[39m)\n",
      "File \u001b[0;32m~/Desktop/Neue Fische/Bootcamp/Tag-28-MLproject/airquality/.venv/lib/python3.9/site-packages/pandas/core/frame.py:3458\u001b[0m, in \u001b[0;36mDataFrame.__getitem__\u001b[0;34m(self, key)\u001b[0m\n\u001b[1;32m   <a href='file:///Users/kaergell/Desktop/Neue%20Fische/Bootcamp/Tag-28-MLproject/airquality/.venv/lib/python3.9/site-packages/pandas/core/frame.py?line=3455'>3456</a>\u001b[0m \u001b[39mif\u001b[39;00m \u001b[39mself\u001b[39m\u001b[39m.\u001b[39mcolumns\u001b[39m.\u001b[39mnlevels \u001b[39m>\u001b[39m \u001b[39m1\u001b[39m:\n\u001b[1;32m   <a href='file:///Users/kaergell/Desktop/Neue%20Fische/Bootcamp/Tag-28-MLproject/airquality/.venv/lib/python3.9/site-packages/pandas/core/frame.py?line=3456'>3457</a>\u001b[0m     \u001b[39mreturn\u001b[39;00m \u001b[39mself\u001b[39m\u001b[39m.\u001b[39m_getitem_multilevel(key)\n\u001b[0;32m-> <a href='file:///Users/kaergell/Desktop/Neue%20Fische/Bootcamp/Tag-28-MLproject/airquality/.venv/lib/python3.9/site-packages/pandas/core/frame.py?line=3457'>3458</a>\u001b[0m indexer \u001b[39m=\u001b[39m \u001b[39mself\u001b[39;49m\u001b[39m.\u001b[39;49mcolumns\u001b[39m.\u001b[39;49mget_loc(key)\n\u001b[1;32m   <a href='file:///Users/kaergell/Desktop/Neue%20Fische/Bootcamp/Tag-28-MLproject/airquality/.venv/lib/python3.9/site-packages/pandas/core/frame.py?line=3458'>3459</a>\u001b[0m \u001b[39mif\u001b[39;00m is_integer(indexer):\n\u001b[1;32m   <a href='file:///Users/kaergell/Desktop/Neue%20Fische/Bootcamp/Tag-28-MLproject/airquality/.venv/lib/python3.9/site-packages/pandas/core/frame.py?line=3459'>3460</a>\u001b[0m     indexer \u001b[39m=\u001b[39m [indexer]\n",
      "File \u001b[0;32m~/Desktop/Neue Fische/Bootcamp/Tag-28-MLproject/airquality/.venv/lib/python3.9/site-packages/pandas/core/indexes/base.py:3363\u001b[0m, in \u001b[0;36mIndex.get_loc\u001b[0;34m(self, key, method, tolerance)\u001b[0m\n\u001b[1;32m   <a href='file:///Users/kaergell/Desktop/Neue%20Fische/Bootcamp/Tag-28-MLproject/airquality/.venv/lib/python3.9/site-packages/pandas/core/indexes/base.py?line=3360'>3361</a>\u001b[0m         \u001b[39mreturn\u001b[39;00m \u001b[39mself\u001b[39m\u001b[39m.\u001b[39m_engine\u001b[39m.\u001b[39mget_loc(casted_key)\n\u001b[1;32m   <a href='file:///Users/kaergell/Desktop/Neue%20Fische/Bootcamp/Tag-28-MLproject/airquality/.venv/lib/python3.9/site-packages/pandas/core/indexes/base.py?line=3361'>3362</a>\u001b[0m     \u001b[39mexcept\u001b[39;00m \u001b[39mKeyError\u001b[39;00m \u001b[39mas\u001b[39;00m err:\n\u001b[0;32m-> <a href='file:///Users/kaergell/Desktop/Neue%20Fische/Bootcamp/Tag-28-MLproject/airquality/.venv/lib/python3.9/site-packages/pandas/core/indexes/base.py?line=3362'>3363</a>\u001b[0m         \u001b[39mraise\u001b[39;00m \u001b[39mKeyError\u001b[39;00m(key) \u001b[39mfrom\u001b[39;00m \u001b[39merr\u001b[39;00m\n\u001b[1;32m   <a href='file:///Users/kaergell/Desktop/Neue%20Fische/Bootcamp/Tag-28-MLproject/airquality/.venv/lib/python3.9/site-packages/pandas/core/indexes/base.py?line=3364'>3365</a>\u001b[0m \u001b[39mif\u001b[39;00m is_scalar(key) \u001b[39mand\u001b[39;00m isna(key) \u001b[39mand\u001b[39;00m \u001b[39mnot\u001b[39;00m \u001b[39mself\u001b[39m\u001b[39m.\u001b[39mhasnans:\n\u001b[1;32m   <a href='file:///Users/kaergell/Desktop/Neue%20Fische/Bootcamp/Tag-28-MLproject/airquality/.venv/lib/python3.9/site-packages/pandas/core/indexes/base.py?line=3365'>3366</a>\u001b[0m     \u001b[39mraise\u001b[39;00m \u001b[39mKeyError\u001b[39;00m(key)\n",
      "\u001b[0;31mKeyError\u001b[0m: 'th_0.75'"
     ]
    }
   ],
   "source": [
    "cm = confusion_matrix(y_test, probs_1['th_0.75'])\n",
    "plot_confusion_matrix(cm, classes = ['Bad Airquality', 'Good Airquality'],\n",
    "                      title = 'Airquality Confusion Matrix (Threshold = 0.75')"
   ]
  },
  {
   "cell_type": "code",
   "execution_count": 162,
   "metadata": {},
   "outputs": [
    {
     "ename": "TypeError",
     "evalue": "Labels in y_true and y_pred should be of the same type. Got y_true=['bad' 'good'] and y_pred=[0 1]. Make sure that the predictions provided by the classifier coincides with the true labels.",
     "output_type": "error",
     "traceback": [
      "\u001b[0;31m---------------------------------------------------------------------------\u001b[0m",
      "\u001b[0;31mTypeError\u001b[0m                                 Traceback (most recent call last)",
      "File \u001b[0;32m~/Desktop/Neue Fische/Bootcamp/Tag-28-MLproject/airquality/.venv/lib/python3.9/site-packages/sklearn/metrics/_classification.py:111\u001b[0m, in \u001b[0;36m_check_targets\u001b[0;34m(y_true, y_pred)\u001b[0m\n\u001b[1;32m    <a href='file:///Users/kaergell/Desktop/Neue%20Fische/Bootcamp/Tag-28-MLproject/airquality/.venv/lib/python3.9/site-packages/sklearn/metrics/_classification.py?line=109'>110</a>\u001b[0m \u001b[39mtry\u001b[39;00m:\n\u001b[0;32m--> <a href='file:///Users/kaergell/Desktop/Neue%20Fische/Bootcamp/Tag-28-MLproject/airquality/.venv/lib/python3.9/site-packages/sklearn/metrics/_classification.py?line=110'>111</a>\u001b[0m     unique_values \u001b[39m=\u001b[39m np\u001b[39m.\u001b[39;49munion1d(y_true, y_pred)\n\u001b[1;32m    <a href='file:///Users/kaergell/Desktop/Neue%20Fische/Bootcamp/Tag-28-MLproject/airquality/.venv/lib/python3.9/site-packages/sklearn/metrics/_classification.py?line=111'>112</a>\u001b[0m \u001b[39mexcept\u001b[39;00m \u001b[39mTypeError\u001b[39;00m \u001b[39mas\u001b[39;00m e:\n\u001b[1;32m    <a href='file:///Users/kaergell/Desktop/Neue%20Fische/Bootcamp/Tag-28-MLproject/airquality/.venv/lib/python3.9/site-packages/sklearn/metrics/_classification.py?line=112'>113</a>\u001b[0m     \u001b[39m# We expect y_true and y_pred to be of the same data type.\u001b[39;00m\n\u001b[1;32m    <a href='file:///Users/kaergell/Desktop/Neue%20Fische/Bootcamp/Tag-28-MLproject/airquality/.venv/lib/python3.9/site-packages/sklearn/metrics/_classification.py?line=113'>114</a>\u001b[0m     \u001b[39m# If `y_true` was provided to the classifier as strings,\u001b[39;00m\n\u001b[1;32m    <a href='file:///Users/kaergell/Desktop/Neue%20Fische/Bootcamp/Tag-28-MLproject/airquality/.venv/lib/python3.9/site-packages/sklearn/metrics/_classification.py?line=114'>115</a>\u001b[0m     \u001b[39m# `y_pred` given by the classifier will also be encoded with\u001b[39;00m\n\u001b[1;32m    <a href='file:///Users/kaergell/Desktop/Neue%20Fische/Bootcamp/Tag-28-MLproject/airquality/.venv/lib/python3.9/site-packages/sklearn/metrics/_classification.py?line=115'>116</a>\u001b[0m     \u001b[39m# strings. So we raise a meaningful error\u001b[39;00m\n",
      "File \u001b[0;32m<__array_function__ internals>:180\u001b[0m, in \u001b[0;36munion1d\u001b[0;34m(*args, **kwargs)\u001b[0m\n",
      "File \u001b[0;32m~/Desktop/Neue Fische/Bootcamp/Tag-28-MLproject/airquality/.venv/lib/python3.9/site-packages/numpy/lib/arraysetops.py:777\u001b[0m, in \u001b[0;36munion1d\u001b[0;34m(ar1, ar2)\u001b[0m\n\u001b[1;32m    <a href='file:///Users/kaergell/Desktop/Neue%20Fische/Bootcamp/Tag-28-MLproject/airquality/.venv/lib/python3.9/site-packages/numpy/lib/arraysetops.py?line=744'>745</a>\u001b[0m \u001b[39m\"\"\"\u001b[39;00m\n\u001b[1;32m    <a href='file:///Users/kaergell/Desktop/Neue%20Fische/Bootcamp/Tag-28-MLproject/airquality/.venv/lib/python3.9/site-packages/numpy/lib/arraysetops.py?line=745'>746</a>\u001b[0m \u001b[39mFind the union of two arrays.\u001b[39;00m\n\u001b[1;32m    <a href='file:///Users/kaergell/Desktop/Neue%20Fische/Bootcamp/Tag-28-MLproject/airquality/.venv/lib/python3.9/site-packages/numpy/lib/arraysetops.py?line=746'>747</a>\u001b[0m \n\u001b[0;32m   (...)\u001b[0m\n\u001b[1;32m    <a href='file:///Users/kaergell/Desktop/Neue%20Fische/Bootcamp/Tag-28-MLproject/airquality/.venv/lib/python3.9/site-packages/numpy/lib/arraysetops.py?line=774'>775</a>\u001b[0m \u001b[39marray([1, 2, 3, 4, 6])\u001b[39;00m\n\u001b[1;32m    <a href='file:///Users/kaergell/Desktop/Neue%20Fische/Bootcamp/Tag-28-MLproject/airquality/.venv/lib/python3.9/site-packages/numpy/lib/arraysetops.py?line=775'>776</a>\u001b[0m \u001b[39m\"\"\"\u001b[39;00m\n\u001b[0;32m--> <a href='file:///Users/kaergell/Desktop/Neue%20Fische/Bootcamp/Tag-28-MLproject/airquality/.venv/lib/python3.9/site-packages/numpy/lib/arraysetops.py?line=776'>777</a>\u001b[0m \u001b[39mreturn\u001b[39;00m unique(np\u001b[39m.\u001b[39;49mconcatenate((ar1, ar2), axis\u001b[39m=\u001b[39;49m\u001b[39mNone\u001b[39;49;00m))\n",
      "File \u001b[0;32m<__array_function__ internals>:180\u001b[0m, in \u001b[0;36munique\u001b[0;34m(*args, **kwargs)\u001b[0m\n",
      "File \u001b[0;32m~/Desktop/Neue Fische/Bootcamp/Tag-28-MLproject/airquality/.venv/lib/python3.9/site-packages/numpy/lib/arraysetops.py:272\u001b[0m, in \u001b[0;36munique\u001b[0;34m(ar, return_index, return_inverse, return_counts, axis)\u001b[0m\n\u001b[1;32m    <a href='file:///Users/kaergell/Desktop/Neue%20Fische/Bootcamp/Tag-28-MLproject/airquality/.venv/lib/python3.9/site-packages/numpy/lib/arraysetops.py?line=270'>271</a>\u001b[0m \u001b[39mif\u001b[39;00m axis \u001b[39mis\u001b[39;00m \u001b[39mNone\u001b[39;00m:\n\u001b[0;32m--> <a href='file:///Users/kaergell/Desktop/Neue%20Fische/Bootcamp/Tag-28-MLproject/airquality/.venv/lib/python3.9/site-packages/numpy/lib/arraysetops.py?line=271'>272</a>\u001b[0m     ret \u001b[39m=\u001b[39m _unique1d(ar, return_index, return_inverse, return_counts)\n\u001b[1;32m    <a href='file:///Users/kaergell/Desktop/Neue%20Fische/Bootcamp/Tag-28-MLproject/airquality/.venv/lib/python3.9/site-packages/numpy/lib/arraysetops.py?line=272'>273</a>\u001b[0m     \u001b[39mreturn\u001b[39;00m _unpack_tuple(ret)\n",
      "File \u001b[0;32m~/Desktop/Neue Fische/Bootcamp/Tag-28-MLproject/airquality/.venv/lib/python3.9/site-packages/numpy/lib/arraysetops.py:333\u001b[0m, in \u001b[0;36m_unique1d\u001b[0;34m(ar, return_index, return_inverse, return_counts)\u001b[0m\n\u001b[1;32m    <a href='file:///Users/kaergell/Desktop/Neue%20Fische/Bootcamp/Tag-28-MLproject/airquality/.venv/lib/python3.9/site-packages/numpy/lib/arraysetops.py?line=331'>332</a>\u001b[0m \u001b[39melse\u001b[39;00m:\n\u001b[0;32m--> <a href='file:///Users/kaergell/Desktop/Neue%20Fische/Bootcamp/Tag-28-MLproject/airquality/.venv/lib/python3.9/site-packages/numpy/lib/arraysetops.py?line=332'>333</a>\u001b[0m     ar\u001b[39m.\u001b[39;49msort()\n\u001b[1;32m    <a href='file:///Users/kaergell/Desktop/Neue%20Fische/Bootcamp/Tag-28-MLproject/airquality/.venv/lib/python3.9/site-packages/numpy/lib/arraysetops.py?line=333'>334</a>\u001b[0m     aux \u001b[39m=\u001b[39m ar\n",
      "\u001b[0;31mTypeError\u001b[0m: '<' not supported between instances of 'int' and 'str'",
      "\nThe above exception was the direct cause of the following exception:\n",
      "\u001b[0;31mTypeError\u001b[0m                                 Traceback (most recent call last)",
      "Input \u001b[0;32mIn [162]\u001b[0m, in \u001b[0;36m<cell line: 1>\u001b[0;34m()\u001b[0m\n\u001b[0;32m----> 1\u001b[0m cm \u001b[39m=\u001b[39m confusion_matrix(y_test, probs_1[\u001b[39m'\u001b[39;49m\u001b[39mTh_0.25\u001b[39;49m\u001b[39m'\u001b[39;49m])\n\u001b[1;32m      2\u001b[0m plot_confusion_matrix(cm, classes \u001b[39m=\u001b[39m [\u001b[39m'\u001b[39m\u001b[39mBad Airquality\u001b[39m\u001b[39m'\u001b[39m, \u001b[39m'\u001b[39m\u001b[39mGood Airquality\u001b[39m\u001b[39m'\u001b[39m],\n\u001b[1;32m      3\u001b[0m                          title \u001b[39m=\u001b[39m \u001b[39m'\u001b[39m\u001b[39mAirquality Confusion Matrix (Threshold = 0.25)\u001b[39m\u001b[39m'\u001b[39m)\n",
      "File \u001b[0;32m~/Desktop/Neue Fische/Bootcamp/Tag-28-MLproject/airquality/.venv/lib/python3.9/site-packages/sklearn/metrics/_classification.py:307\u001b[0m, in \u001b[0;36mconfusion_matrix\u001b[0;34m(y_true, y_pred, labels, sample_weight, normalize)\u001b[0m\n\u001b[1;32m    <a href='file:///Users/kaergell/Desktop/Neue%20Fische/Bootcamp/Tag-28-MLproject/airquality/.venv/lib/python3.9/site-packages/sklearn/metrics/_classification.py?line=221'>222</a>\u001b[0m \u001b[39mdef\u001b[39;00m \u001b[39mconfusion_matrix\u001b[39m(\n\u001b[1;32m    <a href='file:///Users/kaergell/Desktop/Neue%20Fische/Bootcamp/Tag-28-MLproject/airquality/.venv/lib/python3.9/site-packages/sklearn/metrics/_classification.py?line=222'>223</a>\u001b[0m     y_true, y_pred, \u001b[39m*\u001b[39m, labels\u001b[39m=\u001b[39m\u001b[39mNone\u001b[39;00m, sample_weight\u001b[39m=\u001b[39m\u001b[39mNone\u001b[39;00m, normalize\u001b[39m=\u001b[39m\u001b[39mNone\u001b[39;00m\n\u001b[1;32m    <a href='file:///Users/kaergell/Desktop/Neue%20Fische/Bootcamp/Tag-28-MLproject/airquality/.venv/lib/python3.9/site-packages/sklearn/metrics/_classification.py?line=223'>224</a>\u001b[0m ):\n\u001b[1;32m    <a href='file:///Users/kaergell/Desktop/Neue%20Fische/Bootcamp/Tag-28-MLproject/airquality/.venv/lib/python3.9/site-packages/sklearn/metrics/_classification.py?line=224'>225</a>\u001b[0m     \u001b[39m\"\"\"Compute confusion matrix to evaluate the accuracy of a classification.\u001b[39;00m\n\u001b[1;32m    <a href='file:///Users/kaergell/Desktop/Neue%20Fische/Bootcamp/Tag-28-MLproject/airquality/.venv/lib/python3.9/site-packages/sklearn/metrics/_classification.py?line=225'>226</a>\u001b[0m \n\u001b[1;32m    <a href='file:///Users/kaergell/Desktop/Neue%20Fische/Bootcamp/Tag-28-MLproject/airquality/.venv/lib/python3.9/site-packages/sklearn/metrics/_classification.py?line=226'>227</a>\u001b[0m \u001b[39m    By definition a confusion matrix :math:`C` is such that :math:`C_{i, j}`\u001b[39;00m\n\u001b[0;32m   (...)\u001b[0m\n\u001b[1;32m    <a href='file:///Users/kaergell/Desktop/Neue%20Fische/Bootcamp/Tag-28-MLproject/airquality/.venv/lib/python3.9/site-packages/sklearn/metrics/_classification.py?line=304'>305</a>\u001b[0m \u001b[39m    (0, 2, 1, 1)\u001b[39;00m\n\u001b[1;32m    <a href='file:///Users/kaergell/Desktop/Neue%20Fische/Bootcamp/Tag-28-MLproject/airquality/.venv/lib/python3.9/site-packages/sklearn/metrics/_classification.py?line=305'>306</a>\u001b[0m \u001b[39m    \"\"\"\u001b[39;00m\n\u001b[0;32m--> <a href='file:///Users/kaergell/Desktop/Neue%20Fische/Bootcamp/Tag-28-MLproject/airquality/.venv/lib/python3.9/site-packages/sklearn/metrics/_classification.py?line=306'>307</a>\u001b[0m     y_type, y_true, y_pred \u001b[39m=\u001b[39m _check_targets(y_true, y_pred)\n\u001b[1;32m    <a href='file:///Users/kaergell/Desktop/Neue%20Fische/Bootcamp/Tag-28-MLproject/airquality/.venv/lib/python3.9/site-packages/sklearn/metrics/_classification.py?line=307'>308</a>\u001b[0m     \u001b[39mif\u001b[39;00m y_type \u001b[39mnot\u001b[39;00m \u001b[39min\u001b[39;00m (\u001b[39m\"\u001b[39m\u001b[39mbinary\u001b[39m\u001b[39m\"\u001b[39m, \u001b[39m\"\u001b[39m\u001b[39mmulticlass\u001b[39m\u001b[39m\"\u001b[39m):\n\u001b[1;32m    <a href='file:///Users/kaergell/Desktop/Neue%20Fische/Bootcamp/Tag-28-MLproject/airquality/.venv/lib/python3.9/site-packages/sklearn/metrics/_classification.py?line=308'>309</a>\u001b[0m         \u001b[39mraise\u001b[39;00m \u001b[39mValueError\u001b[39;00m(\u001b[39m\"\u001b[39m\u001b[39m%s\u001b[39;00m\u001b[39m is not supported\u001b[39m\u001b[39m\"\u001b[39m \u001b[39m%\u001b[39m y_type)\n",
      "File \u001b[0;32m~/Desktop/Neue Fische/Bootcamp/Tag-28-MLproject/airquality/.venv/lib/python3.9/site-packages/sklearn/metrics/_classification.py:117\u001b[0m, in \u001b[0;36m_check_targets\u001b[0;34m(y_true, y_pred)\u001b[0m\n\u001b[1;32m    <a href='file:///Users/kaergell/Desktop/Neue%20Fische/Bootcamp/Tag-28-MLproject/airquality/.venv/lib/python3.9/site-packages/sklearn/metrics/_classification.py?line=110'>111</a>\u001b[0m     unique_values \u001b[39m=\u001b[39m np\u001b[39m.\u001b[39munion1d(y_true, y_pred)\n\u001b[1;32m    <a href='file:///Users/kaergell/Desktop/Neue%20Fische/Bootcamp/Tag-28-MLproject/airquality/.venv/lib/python3.9/site-packages/sklearn/metrics/_classification.py?line=111'>112</a>\u001b[0m \u001b[39mexcept\u001b[39;00m \u001b[39mTypeError\u001b[39;00m \u001b[39mas\u001b[39;00m e:\n\u001b[1;32m    <a href='file:///Users/kaergell/Desktop/Neue%20Fische/Bootcamp/Tag-28-MLproject/airquality/.venv/lib/python3.9/site-packages/sklearn/metrics/_classification.py?line=112'>113</a>\u001b[0m     \u001b[39m# We expect y_true and y_pred to be of the same data type.\u001b[39;00m\n\u001b[1;32m    <a href='file:///Users/kaergell/Desktop/Neue%20Fische/Bootcamp/Tag-28-MLproject/airquality/.venv/lib/python3.9/site-packages/sklearn/metrics/_classification.py?line=113'>114</a>\u001b[0m     \u001b[39m# If `y_true` was provided to the classifier as strings,\u001b[39;00m\n\u001b[1;32m    <a href='file:///Users/kaergell/Desktop/Neue%20Fische/Bootcamp/Tag-28-MLproject/airquality/.venv/lib/python3.9/site-packages/sklearn/metrics/_classification.py?line=114'>115</a>\u001b[0m     \u001b[39m# `y_pred` given by the classifier will also be encoded with\u001b[39;00m\n\u001b[1;32m    <a href='file:///Users/kaergell/Desktop/Neue%20Fische/Bootcamp/Tag-28-MLproject/airquality/.venv/lib/python3.9/site-packages/sklearn/metrics/_classification.py?line=115'>116</a>\u001b[0m     \u001b[39m# strings. So we raise a meaningful error\u001b[39;00m\n\u001b[0;32m--> <a href='file:///Users/kaergell/Desktop/Neue%20Fische/Bootcamp/Tag-28-MLproject/airquality/.venv/lib/python3.9/site-packages/sklearn/metrics/_classification.py?line=116'>117</a>\u001b[0m     \u001b[39mraise\u001b[39;00m \u001b[39mTypeError\u001b[39;00m(\n\u001b[1;32m    <a href='file:///Users/kaergell/Desktop/Neue%20Fische/Bootcamp/Tag-28-MLproject/airquality/.venv/lib/python3.9/site-packages/sklearn/metrics/_classification.py?line=117'>118</a>\u001b[0m         \u001b[39m\"\u001b[39m\u001b[39mLabels in y_true and y_pred should be of the same type. \u001b[39m\u001b[39m\"\u001b[39m\n\u001b[1;32m    <a href='file:///Users/kaergell/Desktop/Neue%20Fische/Bootcamp/Tag-28-MLproject/airquality/.venv/lib/python3.9/site-packages/sklearn/metrics/_classification.py?line=118'>119</a>\u001b[0m         \u001b[39mf\u001b[39m\u001b[39m\"\u001b[39m\u001b[39mGot y_true=\u001b[39m\u001b[39m{\u001b[39;00mnp\u001b[39m.\u001b[39munique(y_true)\u001b[39m}\u001b[39;00m\u001b[39m and \u001b[39m\u001b[39m\"\u001b[39m\n\u001b[1;32m    <a href='file:///Users/kaergell/Desktop/Neue%20Fische/Bootcamp/Tag-28-MLproject/airquality/.venv/lib/python3.9/site-packages/sklearn/metrics/_classification.py?line=119'>120</a>\u001b[0m         \u001b[39mf\u001b[39m\u001b[39m\"\u001b[39m\u001b[39my_pred=\u001b[39m\u001b[39m{\u001b[39;00mnp\u001b[39m.\u001b[39munique(y_pred)\u001b[39m}\u001b[39;00m\u001b[39m. Make sure that the \u001b[39m\u001b[39m\"\u001b[39m\n\u001b[1;32m    <a href='file:///Users/kaergell/Desktop/Neue%20Fische/Bootcamp/Tag-28-MLproject/airquality/.venv/lib/python3.9/site-packages/sklearn/metrics/_classification.py?line=120'>121</a>\u001b[0m         \u001b[39m\"\u001b[39m\u001b[39mpredictions provided by the classifier coincides with \u001b[39m\u001b[39m\"\u001b[39m\n\u001b[1;32m    <a href='file:///Users/kaergell/Desktop/Neue%20Fische/Bootcamp/Tag-28-MLproject/airquality/.venv/lib/python3.9/site-packages/sklearn/metrics/_classification.py?line=121'>122</a>\u001b[0m         \u001b[39m\"\u001b[39m\u001b[39mthe true labels.\u001b[39m\u001b[39m\"\u001b[39m\n\u001b[1;32m    <a href='file:///Users/kaergell/Desktop/Neue%20Fische/Bootcamp/Tag-28-MLproject/airquality/.venv/lib/python3.9/site-packages/sklearn/metrics/_classification.py?line=122'>123</a>\u001b[0m     ) \u001b[39mfrom\u001b[39;00m \u001b[39me\u001b[39;00m\n\u001b[1;32m    <a href='file:///Users/kaergell/Desktop/Neue%20Fische/Bootcamp/Tag-28-MLproject/airquality/.venv/lib/python3.9/site-packages/sklearn/metrics/_classification.py?line=123'>124</a>\u001b[0m \u001b[39mif\u001b[39;00m \u001b[39mlen\u001b[39m(unique_values) \u001b[39m>\u001b[39m \u001b[39m2\u001b[39m:\n\u001b[1;32m    <a href='file:///Users/kaergell/Desktop/Neue%20Fische/Bootcamp/Tag-28-MLproject/airquality/.venv/lib/python3.9/site-packages/sklearn/metrics/_classification.py?line=124'>125</a>\u001b[0m     y_type \u001b[39m=\u001b[39m \u001b[39m\"\u001b[39m\u001b[39mmulticlass\u001b[39m\u001b[39m\"\u001b[39m\n",
      "\u001b[0;31mTypeError\u001b[0m: Labels in y_true and y_pred should be of the same type. Got y_true=['bad' 'good'] and y_pred=[0 1]. Make sure that the predictions provided by the classifier coincides with the true labels."
     ]
    }
   ],
   "source": [
    "cm = confusion_matrix(y_test, probs_1['Th_0.25'])\n",
    "plot_confusion_matrix(cm, classes = ['Bad Airquality', 'Good Airquality'],\n",
    "                         title = 'Airquality Confusion Matrix (Threshold = 0.25)')"
   ]
  },
  {
   "cell_type": "code",
   "execution_count": 161,
   "metadata": {},
   "outputs": [
    {
     "ename": "TypeError",
     "evalue": "Labels in y_true and y_pred should be of the same type. Got y_true=['bad' 'good'] and y_pred=[0 1]. Make sure that the predictions provided by the classifier coincides with the true labels.",
     "output_type": "error",
     "traceback": [
      "\u001b[0;31m---------------------------------------------------------------------------\u001b[0m",
      "\u001b[0;31mTypeError\u001b[0m                                 Traceback (most recent call last)",
      "File \u001b[0;32m~/Desktop/Neue Fische/Bootcamp/Tag-28-MLproject/airquality/.venv/lib/python3.9/site-packages/sklearn/metrics/_classification.py:111\u001b[0m, in \u001b[0;36m_check_targets\u001b[0;34m(y_true, y_pred)\u001b[0m\n\u001b[1;32m    <a href='file:///Users/kaergell/Desktop/Neue%20Fische/Bootcamp/Tag-28-MLproject/airquality/.venv/lib/python3.9/site-packages/sklearn/metrics/_classification.py?line=109'>110</a>\u001b[0m \u001b[39mtry\u001b[39;00m:\n\u001b[0;32m--> <a href='file:///Users/kaergell/Desktop/Neue%20Fische/Bootcamp/Tag-28-MLproject/airquality/.venv/lib/python3.9/site-packages/sklearn/metrics/_classification.py?line=110'>111</a>\u001b[0m     unique_values \u001b[39m=\u001b[39m np\u001b[39m.\u001b[39;49munion1d(y_true, y_pred)\n\u001b[1;32m    <a href='file:///Users/kaergell/Desktop/Neue%20Fische/Bootcamp/Tag-28-MLproject/airquality/.venv/lib/python3.9/site-packages/sklearn/metrics/_classification.py?line=111'>112</a>\u001b[0m \u001b[39mexcept\u001b[39;00m \u001b[39mTypeError\u001b[39;00m \u001b[39mas\u001b[39;00m e:\n\u001b[1;32m    <a href='file:///Users/kaergell/Desktop/Neue%20Fische/Bootcamp/Tag-28-MLproject/airquality/.venv/lib/python3.9/site-packages/sklearn/metrics/_classification.py?line=112'>113</a>\u001b[0m     \u001b[39m# We expect y_true and y_pred to be of the same data type.\u001b[39;00m\n\u001b[1;32m    <a href='file:///Users/kaergell/Desktop/Neue%20Fische/Bootcamp/Tag-28-MLproject/airquality/.venv/lib/python3.9/site-packages/sklearn/metrics/_classification.py?line=113'>114</a>\u001b[0m     \u001b[39m# If `y_true` was provided to the classifier as strings,\u001b[39;00m\n\u001b[1;32m    <a href='file:///Users/kaergell/Desktop/Neue%20Fische/Bootcamp/Tag-28-MLproject/airquality/.venv/lib/python3.9/site-packages/sklearn/metrics/_classification.py?line=114'>115</a>\u001b[0m     \u001b[39m# `y_pred` given by the classifier will also be encoded with\u001b[39;00m\n\u001b[1;32m    <a href='file:///Users/kaergell/Desktop/Neue%20Fische/Bootcamp/Tag-28-MLproject/airquality/.venv/lib/python3.9/site-packages/sklearn/metrics/_classification.py?line=115'>116</a>\u001b[0m     \u001b[39m# strings. So we raise a meaningful error\u001b[39;00m\n",
      "File \u001b[0;32m<__array_function__ internals>:180\u001b[0m, in \u001b[0;36munion1d\u001b[0;34m(*args, **kwargs)\u001b[0m\n",
      "File \u001b[0;32m~/Desktop/Neue Fische/Bootcamp/Tag-28-MLproject/airquality/.venv/lib/python3.9/site-packages/numpy/lib/arraysetops.py:777\u001b[0m, in \u001b[0;36munion1d\u001b[0;34m(ar1, ar2)\u001b[0m\n\u001b[1;32m    <a href='file:///Users/kaergell/Desktop/Neue%20Fische/Bootcamp/Tag-28-MLproject/airquality/.venv/lib/python3.9/site-packages/numpy/lib/arraysetops.py?line=744'>745</a>\u001b[0m \u001b[39m\"\"\"\u001b[39;00m\n\u001b[1;32m    <a href='file:///Users/kaergell/Desktop/Neue%20Fische/Bootcamp/Tag-28-MLproject/airquality/.venv/lib/python3.9/site-packages/numpy/lib/arraysetops.py?line=745'>746</a>\u001b[0m \u001b[39mFind the union of two arrays.\u001b[39;00m\n\u001b[1;32m    <a href='file:///Users/kaergell/Desktop/Neue%20Fische/Bootcamp/Tag-28-MLproject/airquality/.venv/lib/python3.9/site-packages/numpy/lib/arraysetops.py?line=746'>747</a>\u001b[0m \n\u001b[0;32m   (...)\u001b[0m\n\u001b[1;32m    <a href='file:///Users/kaergell/Desktop/Neue%20Fische/Bootcamp/Tag-28-MLproject/airquality/.venv/lib/python3.9/site-packages/numpy/lib/arraysetops.py?line=774'>775</a>\u001b[0m \u001b[39marray([1, 2, 3, 4, 6])\u001b[39;00m\n\u001b[1;32m    <a href='file:///Users/kaergell/Desktop/Neue%20Fische/Bootcamp/Tag-28-MLproject/airquality/.venv/lib/python3.9/site-packages/numpy/lib/arraysetops.py?line=775'>776</a>\u001b[0m \u001b[39m\"\"\"\u001b[39;00m\n\u001b[0;32m--> <a href='file:///Users/kaergell/Desktop/Neue%20Fische/Bootcamp/Tag-28-MLproject/airquality/.venv/lib/python3.9/site-packages/numpy/lib/arraysetops.py?line=776'>777</a>\u001b[0m \u001b[39mreturn\u001b[39;00m unique(np\u001b[39m.\u001b[39;49mconcatenate((ar1, ar2), axis\u001b[39m=\u001b[39;49m\u001b[39mNone\u001b[39;49;00m))\n",
      "File \u001b[0;32m<__array_function__ internals>:180\u001b[0m, in \u001b[0;36munique\u001b[0;34m(*args, **kwargs)\u001b[0m\n",
      "File \u001b[0;32m~/Desktop/Neue Fische/Bootcamp/Tag-28-MLproject/airquality/.venv/lib/python3.9/site-packages/numpy/lib/arraysetops.py:272\u001b[0m, in \u001b[0;36munique\u001b[0;34m(ar, return_index, return_inverse, return_counts, axis)\u001b[0m\n\u001b[1;32m    <a href='file:///Users/kaergell/Desktop/Neue%20Fische/Bootcamp/Tag-28-MLproject/airquality/.venv/lib/python3.9/site-packages/numpy/lib/arraysetops.py?line=270'>271</a>\u001b[0m \u001b[39mif\u001b[39;00m axis \u001b[39mis\u001b[39;00m \u001b[39mNone\u001b[39;00m:\n\u001b[0;32m--> <a href='file:///Users/kaergell/Desktop/Neue%20Fische/Bootcamp/Tag-28-MLproject/airquality/.venv/lib/python3.9/site-packages/numpy/lib/arraysetops.py?line=271'>272</a>\u001b[0m     ret \u001b[39m=\u001b[39m _unique1d(ar, return_index, return_inverse, return_counts)\n\u001b[1;32m    <a href='file:///Users/kaergell/Desktop/Neue%20Fische/Bootcamp/Tag-28-MLproject/airquality/.venv/lib/python3.9/site-packages/numpy/lib/arraysetops.py?line=272'>273</a>\u001b[0m     \u001b[39mreturn\u001b[39;00m _unpack_tuple(ret)\n",
      "File \u001b[0;32m~/Desktop/Neue Fische/Bootcamp/Tag-28-MLproject/airquality/.venv/lib/python3.9/site-packages/numpy/lib/arraysetops.py:333\u001b[0m, in \u001b[0;36m_unique1d\u001b[0;34m(ar, return_index, return_inverse, return_counts)\u001b[0m\n\u001b[1;32m    <a href='file:///Users/kaergell/Desktop/Neue%20Fische/Bootcamp/Tag-28-MLproject/airquality/.venv/lib/python3.9/site-packages/numpy/lib/arraysetops.py?line=331'>332</a>\u001b[0m \u001b[39melse\u001b[39;00m:\n\u001b[0;32m--> <a href='file:///Users/kaergell/Desktop/Neue%20Fische/Bootcamp/Tag-28-MLproject/airquality/.venv/lib/python3.9/site-packages/numpy/lib/arraysetops.py?line=332'>333</a>\u001b[0m     ar\u001b[39m.\u001b[39;49msort()\n\u001b[1;32m    <a href='file:///Users/kaergell/Desktop/Neue%20Fische/Bootcamp/Tag-28-MLproject/airquality/.venv/lib/python3.9/site-packages/numpy/lib/arraysetops.py?line=333'>334</a>\u001b[0m     aux \u001b[39m=\u001b[39m ar\n",
      "\u001b[0;31mTypeError\u001b[0m: '<' not supported between instances of 'int' and 'str'",
      "\nThe above exception was the direct cause of the following exception:\n",
      "\u001b[0;31mTypeError\u001b[0m                                 Traceback (most recent call last)",
      "Input \u001b[0;32mIn [161]\u001b[0m, in \u001b[0;36m<cell line: 1>\u001b[0;34m()\u001b[0m\n\u001b[0;32m----> 1\u001b[0m precision_score(y_test, probs_1[\u001b[39m'\u001b[39;49m\u001b[39mTh_0.75\u001b[39;49m\u001b[39m'\u001b[39;49m])\n",
      "File \u001b[0;32m~/Desktop/Neue Fische/Bootcamp/Tag-28-MLproject/airquality/.venv/lib/python3.9/site-packages/sklearn/metrics/_classification.py:1757\u001b[0m, in \u001b[0;36mprecision_score\u001b[0;34m(y_true, y_pred, labels, pos_label, average, sample_weight, zero_division)\u001b[0m\n\u001b[1;32m   <a href='file:///Users/kaergell/Desktop/Neue%20Fische/Bootcamp/Tag-28-MLproject/airquality/.venv/lib/python3.9/site-packages/sklearn/metrics/_classification.py?line=1627'>1628</a>\u001b[0m \u001b[39mdef\u001b[39;00m \u001b[39mprecision_score\u001b[39m(\n\u001b[1;32m   <a href='file:///Users/kaergell/Desktop/Neue%20Fische/Bootcamp/Tag-28-MLproject/airquality/.venv/lib/python3.9/site-packages/sklearn/metrics/_classification.py?line=1628'>1629</a>\u001b[0m     y_true,\n\u001b[1;32m   <a href='file:///Users/kaergell/Desktop/Neue%20Fische/Bootcamp/Tag-28-MLproject/airquality/.venv/lib/python3.9/site-packages/sklearn/metrics/_classification.py?line=1629'>1630</a>\u001b[0m     y_pred,\n\u001b[0;32m   (...)\u001b[0m\n\u001b[1;32m   <a href='file:///Users/kaergell/Desktop/Neue%20Fische/Bootcamp/Tag-28-MLproject/airquality/.venv/lib/python3.9/site-packages/sklearn/metrics/_classification.py?line=1635'>1636</a>\u001b[0m     zero_division\u001b[39m=\u001b[39m\u001b[39m\"\u001b[39m\u001b[39mwarn\u001b[39m\u001b[39m\"\u001b[39m,\n\u001b[1;32m   <a href='file:///Users/kaergell/Desktop/Neue%20Fische/Bootcamp/Tag-28-MLproject/airquality/.venv/lib/python3.9/site-packages/sklearn/metrics/_classification.py?line=1636'>1637</a>\u001b[0m ):\n\u001b[1;32m   <a href='file:///Users/kaergell/Desktop/Neue%20Fische/Bootcamp/Tag-28-MLproject/airquality/.venv/lib/python3.9/site-packages/sklearn/metrics/_classification.py?line=1637'>1638</a>\u001b[0m     \u001b[39m\"\"\"Compute the precision.\u001b[39;00m\n\u001b[1;32m   <a href='file:///Users/kaergell/Desktop/Neue%20Fische/Bootcamp/Tag-28-MLproject/airquality/.venv/lib/python3.9/site-packages/sklearn/metrics/_classification.py?line=1638'>1639</a>\u001b[0m \n\u001b[1;32m   <a href='file:///Users/kaergell/Desktop/Neue%20Fische/Bootcamp/Tag-28-MLproject/airquality/.venv/lib/python3.9/site-packages/sklearn/metrics/_classification.py?line=1639'>1640</a>\u001b[0m \u001b[39m    The precision is the ratio ``tp / (tp + fp)`` where ``tp`` is the number of\u001b[39;00m\n\u001b[0;32m   (...)\u001b[0m\n\u001b[1;32m   <a href='file:///Users/kaergell/Desktop/Neue%20Fische/Bootcamp/Tag-28-MLproject/airquality/.venv/lib/python3.9/site-packages/sklearn/metrics/_classification.py?line=1754'>1755</a>\u001b[0m \u001b[39m    array([0.5, 1. , 1. ])\u001b[39;00m\n\u001b[1;32m   <a href='file:///Users/kaergell/Desktop/Neue%20Fische/Bootcamp/Tag-28-MLproject/airquality/.venv/lib/python3.9/site-packages/sklearn/metrics/_classification.py?line=1755'>1756</a>\u001b[0m \u001b[39m    \"\"\"\u001b[39;00m\n\u001b[0;32m-> <a href='file:///Users/kaergell/Desktop/Neue%20Fische/Bootcamp/Tag-28-MLproject/airquality/.venv/lib/python3.9/site-packages/sklearn/metrics/_classification.py?line=1756'>1757</a>\u001b[0m     p, _, _, _ \u001b[39m=\u001b[39m precision_recall_fscore_support(\n\u001b[1;32m   <a href='file:///Users/kaergell/Desktop/Neue%20Fische/Bootcamp/Tag-28-MLproject/airquality/.venv/lib/python3.9/site-packages/sklearn/metrics/_classification.py?line=1757'>1758</a>\u001b[0m         y_true,\n\u001b[1;32m   <a href='file:///Users/kaergell/Desktop/Neue%20Fische/Bootcamp/Tag-28-MLproject/airquality/.venv/lib/python3.9/site-packages/sklearn/metrics/_classification.py?line=1758'>1759</a>\u001b[0m         y_pred,\n\u001b[1;32m   <a href='file:///Users/kaergell/Desktop/Neue%20Fische/Bootcamp/Tag-28-MLproject/airquality/.venv/lib/python3.9/site-packages/sklearn/metrics/_classification.py?line=1759'>1760</a>\u001b[0m         labels\u001b[39m=\u001b[39;49mlabels,\n\u001b[1;32m   <a href='file:///Users/kaergell/Desktop/Neue%20Fische/Bootcamp/Tag-28-MLproject/airquality/.venv/lib/python3.9/site-packages/sklearn/metrics/_classification.py?line=1760'>1761</a>\u001b[0m         pos_label\u001b[39m=\u001b[39;49mpos_label,\n\u001b[1;32m   <a href='file:///Users/kaergell/Desktop/Neue%20Fische/Bootcamp/Tag-28-MLproject/airquality/.venv/lib/python3.9/site-packages/sklearn/metrics/_classification.py?line=1761'>1762</a>\u001b[0m         average\u001b[39m=\u001b[39;49maverage,\n\u001b[1;32m   <a href='file:///Users/kaergell/Desktop/Neue%20Fische/Bootcamp/Tag-28-MLproject/airquality/.venv/lib/python3.9/site-packages/sklearn/metrics/_classification.py?line=1762'>1763</a>\u001b[0m         warn_for\u001b[39m=\u001b[39;49m(\u001b[39m\"\u001b[39;49m\u001b[39mprecision\u001b[39;49m\u001b[39m\"\u001b[39;49m,),\n\u001b[1;32m   <a href='file:///Users/kaergell/Desktop/Neue%20Fische/Bootcamp/Tag-28-MLproject/airquality/.venv/lib/python3.9/site-packages/sklearn/metrics/_classification.py?line=1763'>1764</a>\u001b[0m         sample_weight\u001b[39m=\u001b[39;49msample_weight,\n\u001b[1;32m   <a href='file:///Users/kaergell/Desktop/Neue%20Fische/Bootcamp/Tag-28-MLproject/airquality/.venv/lib/python3.9/site-packages/sklearn/metrics/_classification.py?line=1764'>1765</a>\u001b[0m         zero_division\u001b[39m=\u001b[39;49mzero_division,\n\u001b[1;32m   <a href='file:///Users/kaergell/Desktop/Neue%20Fische/Bootcamp/Tag-28-MLproject/airquality/.venv/lib/python3.9/site-packages/sklearn/metrics/_classification.py?line=1765'>1766</a>\u001b[0m     )\n\u001b[1;32m   <a href='file:///Users/kaergell/Desktop/Neue%20Fische/Bootcamp/Tag-28-MLproject/airquality/.venv/lib/python3.9/site-packages/sklearn/metrics/_classification.py?line=1766'>1767</a>\u001b[0m     \u001b[39mreturn\u001b[39;00m p\n",
      "File \u001b[0;32m~/Desktop/Neue Fische/Bootcamp/Tag-28-MLproject/airquality/.venv/lib/python3.9/site-packages/sklearn/metrics/_classification.py:1544\u001b[0m, in \u001b[0;36mprecision_recall_fscore_support\u001b[0;34m(y_true, y_pred, beta, labels, pos_label, average, warn_for, sample_weight, zero_division)\u001b[0m\n\u001b[1;32m   <a href='file:///Users/kaergell/Desktop/Neue%20Fische/Bootcamp/Tag-28-MLproject/airquality/.venv/lib/python3.9/site-packages/sklearn/metrics/_classification.py?line=1541'>1542</a>\u001b[0m \u001b[39mif\u001b[39;00m beta \u001b[39m<\u001b[39m \u001b[39m0\u001b[39m:\n\u001b[1;32m   <a href='file:///Users/kaergell/Desktop/Neue%20Fische/Bootcamp/Tag-28-MLproject/airquality/.venv/lib/python3.9/site-packages/sklearn/metrics/_classification.py?line=1542'>1543</a>\u001b[0m     \u001b[39mraise\u001b[39;00m \u001b[39mValueError\u001b[39;00m(\u001b[39m\"\u001b[39m\u001b[39mbeta should be >=0 in the F-beta score\u001b[39m\u001b[39m\"\u001b[39m)\n\u001b[0;32m-> <a href='file:///Users/kaergell/Desktop/Neue%20Fische/Bootcamp/Tag-28-MLproject/airquality/.venv/lib/python3.9/site-packages/sklearn/metrics/_classification.py?line=1543'>1544</a>\u001b[0m labels \u001b[39m=\u001b[39m _check_set_wise_labels(y_true, y_pred, average, labels, pos_label)\n\u001b[1;32m   <a href='file:///Users/kaergell/Desktop/Neue%20Fische/Bootcamp/Tag-28-MLproject/airquality/.venv/lib/python3.9/site-packages/sklearn/metrics/_classification.py?line=1545'>1546</a>\u001b[0m \u001b[39m# Calculate tp_sum, pred_sum, true_sum ###\u001b[39;00m\n\u001b[1;32m   <a href='file:///Users/kaergell/Desktop/Neue%20Fische/Bootcamp/Tag-28-MLproject/airquality/.venv/lib/python3.9/site-packages/sklearn/metrics/_classification.py?line=1546'>1547</a>\u001b[0m samplewise \u001b[39m=\u001b[39m average \u001b[39m==\u001b[39m \u001b[39m\"\u001b[39m\u001b[39msamples\u001b[39m\u001b[39m\"\u001b[39m\n",
      "File \u001b[0;32m~/Desktop/Neue Fische/Bootcamp/Tag-28-MLproject/airquality/.venv/lib/python3.9/site-packages/sklearn/metrics/_classification.py:1348\u001b[0m, in \u001b[0;36m_check_set_wise_labels\u001b[0;34m(y_true, y_pred, average, labels, pos_label)\u001b[0m\n\u001b[1;32m   <a href='file:///Users/kaergell/Desktop/Neue%20Fische/Bootcamp/Tag-28-MLproject/airquality/.venv/lib/python3.9/site-packages/sklearn/metrics/_classification.py?line=1344'>1345</a>\u001b[0m \u001b[39mif\u001b[39;00m average \u001b[39mnot\u001b[39;00m \u001b[39min\u001b[39;00m average_options \u001b[39mand\u001b[39;00m average \u001b[39m!=\u001b[39m \u001b[39m\"\u001b[39m\u001b[39mbinary\u001b[39m\u001b[39m\"\u001b[39m:\n\u001b[1;32m   <a href='file:///Users/kaergell/Desktop/Neue%20Fische/Bootcamp/Tag-28-MLproject/airquality/.venv/lib/python3.9/site-packages/sklearn/metrics/_classification.py?line=1345'>1346</a>\u001b[0m     \u001b[39mraise\u001b[39;00m \u001b[39mValueError\u001b[39;00m(\u001b[39m\"\u001b[39m\u001b[39maverage has to be one of \u001b[39m\u001b[39m\"\u001b[39m \u001b[39m+\u001b[39m \u001b[39mstr\u001b[39m(average_options))\n\u001b[0;32m-> <a href='file:///Users/kaergell/Desktop/Neue%20Fische/Bootcamp/Tag-28-MLproject/airquality/.venv/lib/python3.9/site-packages/sklearn/metrics/_classification.py?line=1347'>1348</a>\u001b[0m y_type, y_true, y_pred \u001b[39m=\u001b[39m _check_targets(y_true, y_pred)\n\u001b[1;32m   <a href='file:///Users/kaergell/Desktop/Neue%20Fische/Bootcamp/Tag-28-MLproject/airquality/.venv/lib/python3.9/site-packages/sklearn/metrics/_classification.py?line=1348'>1349</a>\u001b[0m \u001b[39m# Convert to Python primitive type to avoid NumPy type / Python str\u001b[39;00m\n\u001b[1;32m   <a href='file:///Users/kaergell/Desktop/Neue%20Fische/Bootcamp/Tag-28-MLproject/airquality/.venv/lib/python3.9/site-packages/sklearn/metrics/_classification.py?line=1349'>1350</a>\u001b[0m \u001b[39m# comparison. See https://github.com/numpy/numpy/issues/6784\u001b[39;00m\n\u001b[1;32m   <a href='file:///Users/kaergell/Desktop/Neue%20Fische/Bootcamp/Tag-28-MLproject/airquality/.venv/lib/python3.9/site-packages/sklearn/metrics/_classification.py?line=1350'>1351</a>\u001b[0m present_labels \u001b[39m=\u001b[39m unique_labels(y_true, y_pred)\u001b[39m.\u001b[39mtolist()\n",
      "File \u001b[0;32m~/Desktop/Neue Fische/Bootcamp/Tag-28-MLproject/airquality/.venv/lib/python3.9/site-packages/sklearn/metrics/_classification.py:117\u001b[0m, in \u001b[0;36m_check_targets\u001b[0;34m(y_true, y_pred)\u001b[0m\n\u001b[1;32m    <a href='file:///Users/kaergell/Desktop/Neue%20Fische/Bootcamp/Tag-28-MLproject/airquality/.venv/lib/python3.9/site-packages/sklearn/metrics/_classification.py?line=110'>111</a>\u001b[0m     unique_values \u001b[39m=\u001b[39m np\u001b[39m.\u001b[39munion1d(y_true, y_pred)\n\u001b[1;32m    <a href='file:///Users/kaergell/Desktop/Neue%20Fische/Bootcamp/Tag-28-MLproject/airquality/.venv/lib/python3.9/site-packages/sklearn/metrics/_classification.py?line=111'>112</a>\u001b[0m \u001b[39mexcept\u001b[39;00m \u001b[39mTypeError\u001b[39;00m \u001b[39mas\u001b[39;00m e:\n\u001b[1;32m    <a href='file:///Users/kaergell/Desktop/Neue%20Fische/Bootcamp/Tag-28-MLproject/airquality/.venv/lib/python3.9/site-packages/sklearn/metrics/_classification.py?line=112'>113</a>\u001b[0m     \u001b[39m# We expect y_true and y_pred to be of the same data type.\u001b[39;00m\n\u001b[1;32m    <a href='file:///Users/kaergell/Desktop/Neue%20Fische/Bootcamp/Tag-28-MLproject/airquality/.venv/lib/python3.9/site-packages/sklearn/metrics/_classification.py?line=113'>114</a>\u001b[0m     \u001b[39m# If `y_true` was provided to the classifier as strings,\u001b[39;00m\n\u001b[1;32m    <a href='file:///Users/kaergell/Desktop/Neue%20Fische/Bootcamp/Tag-28-MLproject/airquality/.venv/lib/python3.9/site-packages/sklearn/metrics/_classification.py?line=114'>115</a>\u001b[0m     \u001b[39m# `y_pred` given by the classifier will also be encoded with\u001b[39;00m\n\u001b[1;32m    <a href='file:///Users/kaergell/Desktop/Neue%20Fische/Bootcamp/Tag-28-MLproject/airquality/.venv/lib/python3.9/site-packages/sklearn/metrics/_classification.py?line=115'>116</a>\u001b[0m     \u001b[39m# strings. So we raise a meaningful error\u001b[39;00m\n\u001b[0;32m--> <a href='file:///Users/kaergell/Desktop/Neue%20Fische/Bootcamp/Tag-28-MLproject/airquality/.venv/lib/python3.9/site-packages/sklearn/metrics/_classification.py?line=116'>117</a>\u001b[0m     \u001b[39mraise\u001b[39;00m \u001b[39mTypeError\u001b[39;00m(\n\u001b[1;32m    <a href='file:///Users/kaergell/Desktop/Neue%20Fische/Bootcamp/Tag-28-MLproject/airquality/.venv/lib/python3.9/site-packages/sklearn/metrics/_classification.py?line=117'>118</a>\u001b[0m         \u001b[39m\"\u001b[39m\u001b[39mLabels in y_true and y_pred should be of the same type. \u001b[39m\u001b[39m\"\u001b[39m\n\u001b[1;32m    <a href='file:///Users/kaergell/Desktop/Neue%20Fische/Bootcamp/Tag-28-MLproject/airquality/.venv/lib/python3.9/site-packages/sklearn/metrics/_classification.py?line=118'>119</a>\u001b[0m         \u001b[39mf\u001b[39m\u001b[39m\"\u001b[39m\u001b[39mGot y_true=\u001b[39m\u001b[39m{\u001b[39;00mnp\u001b[39m.\u001b[39munique(y_true)\u001b[39m}\u001b[39;00m\u001b[39m and \u001b[39m\u001b[39m\"\u001b[39m\n\u001b[1;32m    <a href='file:///Users/kaergell/Desktop/Neue%20Fische/Bootcamp/Tag-28-MLproject/airquality/.venv/lib/python3.9/site-packages/sklearn/metrics/_classification.py?line=119'>120</a>\u001b[0m         \u001b[39mf\u001b[39m\u001b[39m\"\u001b[39m\u001b[39my_pred=\u001b[39m\u001b[39m{\u001b[39;00mnp\u001b[39m.\u001b[39munique(y_pred)\u001b[39m}\u001b[39;00m\u001b[39m. Make sure that the \u001b[39m\u001b[39m\"\u001b[39m\n\u001b[1;32m    <a href='file:///Users/kaergell/Desktop/Neue%20Fische/Bootcamp/Tag-28-MLproject/airquality/.venv/lib/python3.9/site-packages/sklearn/metrics/_classification.py?line=120'>121</a>\u001b[0m         \u001b[39m\"\u001b[39m\u001b[39mpredictions provided by the classifier coincides with \u001b[39m\u001b[39m\"\u001b[39m\n\u001b[1;32m    <a href='file:///Users/kaergell/Desktop/Neue%20Fische/Bootcamp/Tag-28-MLproject/airquality/.venv/lib/python3.9/site-packages/sklearn/metrics/_classification.py?line=121'>122</a>\u001b[0m         \u001b[39m\"\u001b[39m\u001b[39mthe true labels.\u001b[39m\u001b[39m\"\u001b[39m\n\u001b[1;32m    <a href='file:///Users/kaergell/Desktop/Neue%20Fische/Bootcamp/Tag-28-MLproject/airquality/.venv/lib/python3.9/site-packages/sklearn/metrics/_classification.py?line=122'>123</a>\u001b[0m     ) \u001b[39mfrom\u001b[39;00m \u001b[39me\u001b[39;00m\n\u001b[1;32m    <a href='file:///Users/kaergell/Desktop/Neue%20Fische/Bootcamp/Tag-28-MLproject/airquality/.venv/lib/python3.9/site-packages/sklearn/metrics/_classification.py?line=123'>124</a>\u001b[0m \u001b[39mif\u001b[39;00m \u001b[39mlen\u001b[39m(unique_values) \u001b[39m>\u001b[39m \u001b[39m2\u001b[39m:\n\u001b[1;32m    <a href='file:///Users/kaergell/Desktop/Neue%20Fische/Bootcamp/Tag-28-MLproject/airquality/.venv/lib/python3.9/site-packages/sklearn/metrics/_classification.py?line=124'>125</a>\u001b[0m     y_type \u001b[39m=\u001b[39m \u001b[39m\"\u001b[39m\u001b[39mmulticlass\u001b[39m\u001b[39m\"\u001b[39m\n",
      "\u001b[0;31mTypeError\u001b[0m: Labels in y_true and y_pred should be of the same type. Got y_true=['bad' 'good'] and y_pred=[0 1]. Make sure that the predictions provided by the classifier coincides with the true labels."
     ]
    }
   ],
   "source": [
    "precision_score(y_test, probs_1['Th_0.75'])"
   ]
  },
  {
   "cell_type": "markdown",
   "metadata": {},
   "source": [
    "## Tri Ampel"
   ]
  },
  {
   "cell_type": "code",
   "execution_count": 189,
   "metadata": {},
   "outputs": [],
   "source": [
    "data_t = data_b=data.drop([\"target\",'Bi_airquality', '6fold_airquality'],axis=1)"
   ]
  },
  {
   "cell_type": "code",
   "execution_count": 190,
   "metadata": {},
   "outputs": [],
   "source": [
    "y=data_t[\"trafic_airquality\"]\n",
    "X= data_t.drop([\"trafic_airquality\"], axis =1)"
   ]
  },
  {
   "cell_type": "code",
   "execution_count": 191,
   "metadata": {},
   "outputs": [
    {
     "data": {
      "text/html": [
       "<div>\n",
       "<style scoped>\n",
       "    .dataframe tbody tr th:only-of-type {\n",
       "        vertical-align: middle;\n",
       "    }\n",
       "\n",
       "    .dataframe tbody tr th {\n",
       "        vertical-align: top;\n",
       "    }\n",
       "\n",
       "    .dataframe thead th {\n",
       "        text-align: right;\n",
       "    }\n",
       "</style>\n",
       "<table border=\"1\" class=\"dataframe\">\n",
       "  <thead>\n",
       "    <tr style=\"text-align: right;\">\n",
       "      <th></th>\n",
       "      <th>location</th>\n",
       "      <th>max_temp</th>\n",
       "      <th>min_temp</th>\n",
       "      <th>mean_temp</th>\n",
       "      <th>std_temp</th>\n",
       "      <th>var_temp</th>\n",
       "      <th>median_temp</th>\n",
       "      <th>ptp_temp</th>\n",
       "      <th>max_precip</th>\n",
       "      <th>min_precip</th>\n",
       "      <th>...</th>\n",
       "      <th>var_wind_spd</th>\n",
       "      <th>median_wind_spd</th>\n",
       "      <th>ptp_wind_spd</th>\n",
       "      <th>max_atmos_press</th>\n",
       "      <th>min_atmos_press</th>\n",
       "      <th>mean_atmos_press</th>\n",
       "      <th>std_atmos_press</th>\n",
       "      <th>var_atmos_press</th>\n",
       "      <th>median_atmos_press</th>\n",
       "      <th>ptp_atmos_press</th>\n",
       "    </tr>\n",
       "  </thead>\n",
       "  <tbody>\n",
       "    <tr>\n",
       "      <th>0</th>\n",
       "      <td>2</td>\n",
       "      <td>27.208333</td>\n",
       "      <td>19.275000</td>\n",
       "      <td>22.299527</td>\n",
       "      <td>2.594011</td>\n",
       "      <td>6.728895</td>\n",
       "      <td>21.358333</td>\n",
       "      <td>7.933333</td>\n",
       "      <td>0.000</td>\n",
       "      <td>0.0</td>\n",
       "      <td>...</td>\n",
       "      <td>0.155268</td>\n",
       "      <td>0.666250</td>\n",
       "      <td>1.355000</td>\n",
       "      <td>87.871667</td>\n",
       "      <td>87.614167</td>\n",
       "      <td>87.752434</td>\n",
       "      <td>0.070374</td>\n",
       "      <td>0.004952</td>\n",
       "      <td>87.762083</td>\n",
       "      <td>0.257500</td>\n",
       "    </tr>\n",
       "    <tr>\n",
       "      <th>1</th>\n",
       "      <td>3</td>\n",
       "      <td>33.616667</td>\n",
       "      <td>17.983333</td>\n",
       "      <td>24.679063</td>\n",
       "      <td>4.266955</td>\n",
       "      <td>18.206903</td>\n",
       "      <td>23.791667</td>\n",
       "      <td>15.633333</td>\n",
       "      <td>0.561</td>\n",
       "      <td>0.0</td>\n",
       "      <td>...</td>\n",
       "      <td>0.290736</td>\n",
       "      <td>0.744167</td>\n",
       "      <td>2.760833</td>\n",
       "      <td>90.725000</td>\n",
       "      <td>90.056667</td>\n",
       "      <td>90.429924</td>\n",
       "      <td>0.156000</td>\n",
       "      <td>0.024336</td>\n",
       "      <td>90.429167</td>\n",
       "      <td>0.668333</td>\n",
       "    </tr>\n",
       "    <tr>\n",
       "      <th>2</th>\n",
       "      <td>0</td>\n",
       "      <td>31.841667</td>\n",
       "      <td>18.458333</td>\n",
       "      <td>24.112317</td>\n",
       "      <td>3.776377</td>\n",
       "      <td>14.261020</td>\n",
       "      <td>23.304167</td>\n",
       "      <td>13.383333</td>\n",
       "      <td>7.804</td>\n",
       "      <td>0.0</td>\n",
       "      <td>...</td>\n",
       "      <td>0.342484</td>\n",
       "      <td>0.942500</td>\n",
       "      <td>2.420000</td>\n",
       "      <td>88.813333</td>\n",
       "      <td>87.982500</td>\n",
       "      <td>88.420931</td>\n",
       "      <td>0.179481</td>\n",
       "      <td>0.032213</td>\n",
       "      <td>88.425000</td>\n",
       "      <td>0.830833</td>\n",
       "    </tr>\n",
       "    <tr>\n",
       "      <th>3</th>\n",
       "      <td>0</td>\n",
       "      <td>27.491667</td>\n",
       "      <td>16.941667</td>\n",
       "      <td>20.845273</td>\n",
       "      <td>3.080140</td>\n",
       "      <td>9.487259</td>\n",
       "      <td>19.541667</td>\n",
       "      <td>10.550000</td>\n",
       "      <td>25.787</td>\n",
       "      <td>0.0</td>\n",
       "      <td>...</td>\n",
       "      <td>0.336701</td>\n",
       "      <td>1.388333</td>\n",
       "      <td>2.469167</td>\n",
       "      <td>88.685000</td>\n",
       "      <td>87.965000</td>\n",
       "      <td>88.376915</td>\n",
       "      <td>0.161758</td>\n",
       "      <td>0.026166</td>\n",
       "      <td>88.400000</td>\n",
       "      <td>0.720000</td>\n",
       "    </tr>\n",
       "    <tr>\n",
       "      <th>4</th>\n",
       "      <td>0</td>\n",
       "      <td>28.750000</td>\n",
       "      <td>17.525000</td>\n",
       "      <td>21.870732</td>\n",
       "      <td>3.286870</td>\n",
       "      <td>10.803515</td>\n",
       "      <td>20.950000</td>\n",
       "      <td>11.225000</td>\n",
       "      <td>0.136</td>\n",
       "      <td>0.0</td>\n",
       "      <td>...</td>\n",
       "      <td>0.181690</td>\n",
       "      <td>0.542917</td>\n",
       "      <td>1.796667</td>\n",
       "      <td>88.719167</td>\n",
       "      <td>88.268333</td>\n",
       "      <td>88.538104</td>\n",
       "      <td>0.118369</td>\n",
       "      <td>0.014011</td>\n",
       "      <td>88.552500</td>\n",
       "      <td>0.450833</td>\n",
       "    </tr>\n",
       "    <tr>\n",
       "      <th>...</th>\n",
       "      <td>...</td>\n",
       "      <td>...</td>\n",
       "      <td>...</td>\n",
       "      <td>...</td>\n",
       "      <td>...</td>\n",
       "      <td>...</td>\n",
       "      <td>...</td>\n",
       "      <td>...</td>\n",
       "      <td>...</td>\n",
       "      <td>...</td>\n",
       "      <td>...</td>\n",
       "      <td>...</td>\n",
       "      <td>...</td>\n",
       "      <td>...</td>\n",
       "      <td>...</td>\n",
       "      <td>...</td>\n",
       "      <td>...</td>\n",
       "      <td>...</td>\n",
       "      <td>...</td>\n",
       "      <td>...</td>\n",
       "      <td>...</td>\n",
       "    </tr>\n",
       "    <tr>\n",
       "      <th>15534</th>\n",
       "      <td>0</td>\n",
       "      <td>27.841667</td>\n",
       "      <td>16.550000</td>\n",
       "      <td>20.573209</td>\n",
       "      <td>2.987662</td>\n",
       "      <td>8.926124</td>\n",
       "      <td>19.458333</td>\n",
       "      <td>11.291667</td>\n",
       "      <td>31.842</td>\n",
       "      <td>0.0</td>\n",
       "      <td>...</td>\n",
       "      <td>0.234138</td>\n",
       "      <td>0.890000</td>\n",
       "      <td>2.194167</td>\n",
       "      <td>88.730000</td>\n",
       "      <td>87.890833</td>\n",
       "      <td>88.382934</td>\n",
       "      <td>0.187366</td>\n",
       "      <td>0.035106</td>\n",
       "      <td>88.393333</td>\n",
       "      <td>0.839167</td>\n",
       "    </tr>\n",
       "    <tr>\n",
       "      <th>15535</th>\n",
       "      <td>4</td>\n",
       "      <td>29.550000</td>\n",
       "      <td>18.991667</td>\n",
       "      <td>23.546832</td>\n",
       "      <td>2.614979</td>\n",
       "      <td>6.838117</td>\n",
       "      <td>23.208333</td>\n",
       "      <td>10.558333</td>\n",
       "      <td>9.046</td>\n",
       "      <td>0.0</td>\n",
       "      <td>...</td>\n",
       "      <td>0.385348</td>\n",
       "      <td>1.094167</td>\n",
       "      <td>2.330833</td>\n",
       "      <td>88.704167</td>\n",
       "      <td>88.082500</td>\n",
       "      <td>88.435840</td>\n",
       "      <td>0.141562</td>\n",
       "      <td>0.020040</td>\n",
       "      <td>88.450000</td>\n",
       "      <td>0.621667</td>\n",
       "    </tr>\n",
       "    <tr>\n",
       "      <th>15536</th>\n",
       "      <td>3</td>\n",
       "      <td>34.108333</td>\n",
       "      <td>16.950000</td>\n",
       "      <td>24.637083</td>\n",
       "      <td>4.352597</td>\n",
       "      <td>18.945097</td>\n",
       "      <td>24.179167</td>\n",
       "      <td>17.158333</td>\n",
       "      <td>3.893</td>\n",
       "      <td>0.0</td>\n",
       "      <td>...</td>\n",
       "      <td>0.389128</td>\n",
       "      <td>0.897500</td>\n",
       "      <td>3.608333</td>\n",
       "      <td>90.885000</td>\n",
       "      <td>90.145833</td>\n",
       "      <td>90.522397</td>\n",
       "      <td>0.161257</td>\n",
       "      <td>0.026004</td>\n",
       "      <td>90.520000</td>\n",
       "      <td>0.739167</td>\n",
       "    </tr>\n",
       "    <tr>\n",
       "      <th>15537</th>\n",
       "      <td>3</td>\n",
       "      <td>30.900000</td>\n",
       "      <td>15.891667</td>\n",
       "      <td>23.472934</td>\n",
       "      <td>4.651403</td>\n",
       "      <td>21.635547</td>\n",
       "      <td>23.066667</td>\n",
       "      <td>15.008333</td>\n",
       "      <td>0.017</td>\n",
       "      <td>0.0</td>\n",
       "      <td>...</td>\n",
       "      <td>0.359279</td>\n",
       "      <td>0.828333</td>\n",
       "      <td>2.683333</td>\n",
       "      <td>90.793333</td>\n",
       "      <td>90.106667</td>\n",
       "      <td>90.486202</td>\n",
       "      <td>0.160746</td>\n",
       "      <td>0.025839</td>\n",
       "      <td>90.512500</td>\n",
       "      <td>0.686667</td>\n",
       "    </tr>\n",
       "    <tr>\n",
       "      <th>15538</th>\n",
       "      <td>2</td>\n",
       "      <td>30.450000</td>\n",
       "      <td>19.033333</td>\n",
       "      <td>24.012603</td>\n",
       "      <td>3.215774</td>\n",
       "      <td>10.341200</td>\n",
       "      <td>22.833333</td>\n",
       "      <td>11.416667</td>\n",
       "      <td>0.187</td>\n",
       "      <td>0.0</td>\n",
       "      <td>...</td>\n",
       "      <td>0.085276</td>\n",
       "      <td>0.569167</td>\n",
       "      <td>1.319167</td>\n",
       "      <td>88.116667</td>\n",
       "      <td>87.562500</td>\n",
       "      <td>87.810847</td>\n",
       "      <td>0.121178</td>\n",
       "      <td>0.014684</td>\n",
       "      <td>87.804167</td>\n",
       "      <td>0.554167</td>\n",
       "    </tr>\n",
       "  </tbody>\n",
       "</table>\n",
       "<p>15539 rows × 43 columns</p>\n",
       "</div>"
      ],
      "text/plain": [
       "       location   max_temp   min_temp  mean_temp  std_temp   var_temp  \\\n",
       "0             2  27.208333  19.275000  22.299527  2.594011   6.728895   \n",
       "1             3  33.616667  17.983333  24.679063  4.266955  18.206903   \n",
       "2             0  31.841667  18.458333  24.112317  3.776377  14.261020   \n",
       "3             0  27.491667  16.941667  20.845273  3.080140   9.487259   \n",
       "4             0  28.750000  17.525000  21.870732  3.286870  10.803515   \n",
       "...         ...        ...        ...        ...       ...        ...   \n",
       "15534         0  27.841667  16.550000  20.573209  2.987662   8.926124   \n",
       "15535         4  29.550000  18.991667  23.546832  2.614979   6.838117   \n",
       "15536         3  34.108333  16.950000  24.637083  4.352597  18.945097   \n",
       "15537         3  30.900000  15.891667  23.472934  4.651403  21.635547   \n",
       "15538         2  30.450000  19.033333  24.012603  3.215774  10.341200   \n",
       "\n",
       "       median_temp   ptp_temp  max_precip  min_precip  ...  var_wind_spd  \\\n",
       "0        21.358333   7.933333       0.000         0.0  ...      0.155268   \n",
       "1        23.791667  15.633333       0.561         0.0  ...      0.290736   \n",
       "2        23.304167  13.383333       7.804         0.0  ...      0.342484   \n",
       "3        19.541667  10.550000      25.787         0.0  ...      0.336701   \n",
       "4        20.950000  11.225000       0.136         0.0  ...      0.181690   \n",
       "...            ...        ...         ...         ...  ...           ...   \n",
       "15534    19.458333  11.291667      31.842         0.0  ...      0.234138   \n",
       "15535    23.208333  10.558333       9.046         0.0  ...      0.385348   \n",
       "15536    24.179167  17.158333       3.893         0.0  ...      0.389128   \n",
       "15537    23.066667  15.008333       0.017         0.0  ...      0.359279   \n",
       "15538    22.833333  11.416667       0.187         0.0  ...      0.085276   \n",
       "\n",
       "       median_wind_spd  ptp_wind_spd  max_atmos_press  min_atmos_press  \\\n",
       "0             0.666250      1.355000        87.871667        87.614167   \n",
       "1             0.744167      2.760833        90.725000        90.056667   \n",
       "2             0.942500      2.420000        88.813333        87.982500   \n",
       "3             1.388333      2.469167        88.685000        87.965000   \n",
       "4             0.542917      1.796667        88.719167        88.268333   \n",
       "...                ...           ...              ...              ...   \n",
       "15534         0.890000      2.194167        88.730000        87.890833   \n",
       "15535         1.094167      2.330833        88.704167        88.082500   \n",
       "15536         0.897500      3.608333        90.885000        90.145833   \n",
       "15537         0.828333      2.683333        90.793333        90.106667   \n",
       "15538         0.569167      1.319167        88.116667        87.562500   \n",
       "\n",
       "       mean_atmos_press  std_atmos_press  var_atmos_press  median_atmos_press  \\\n",
       "0             87.752434         0.070374         0.004952           87.762083   \n",
       "1             90.429924         0.156000         0.024336           90.429167   \n",
       "2             88.420931         0.179481         0.032213           88.425000   \n",
       "3             88.376915         0.161758         0.026166           88.400000   \n",
       "4             88.538104         0.118369         0.014011           88.552500   \n",
       "...                 ...              ...              ...                 ...   \n",
       "15534         88.382934         0.187366         0.035106           88.393333   \n",
       "15535         88.435840         0.141562         0.020040           88.450000   \n",
       "15536         90.522397         0.161257         0.026004           90.520000   \n",
       "15537         90.486202         0.160746         0.025839           90.512500   \n",
       "15538         87.810847         0.121178         0.014684           87.804167   \n",
       "\n",
       "       ptp_atmos_press  \n",
       "0             0.257500  \n",
       "1             0.668333  \n",
       "2             0.830833  \n",
       "3             0.720000  \n",
       "4             0.450833  \n",
       "...                ...  \n",
       "15534         0.839167  \n",
       "15535         0.621667  \n",
       "15536         0.739167  \n",
       "15537         0.686667  \n",
       "15538         0.554167  \n",
       "\n",
       "[15539 rows x 43 columns]"
      ]
     },
     "execution_count": 191,
     "metadata": {},
     "output_type": "execute_result"
    }
   ],
   "source": []
  },
  {
   "cell_type": "code",
   "execution_count": 193,
   "metadata": {},
   "outputs": [],
   "source": [
    "from sklearn.model_selection import train_test_split\n",
    "\n",
    "X_train, X_test, y_train, y_test = train_test_split(X, y, test_size=0.3, stratify=y, random_state=RSEED)"
   ]
  },
  {
   "cell_type": "code",
   "execution_count": 194,
   "metadata": {},
   "outputs": [],
   "source": [
    "from sklearn.preprocessing import StandardScaler, MinMaxScaler"
   ]
  },
  {
   "cell_type": "code",
   "execution_count": null,
   "metadata": {},
   "outputs": [],
   "source": []
  }
 ],
 "metadata": {
  "interpreter": {
   "hash": "2e7abca54acc13c53ef3404d75211e27b5076aad57df6065b7009d7b1b84f2d4"
  },
  "kernelspec": {
   "display_name": "Python 3.9.4 ('.venv': venv)",
   "language": "python",
   "name": "python3"
  },
  "language_info": {
   "codemirror_mode": {
    "name": "ipython",
    "version": 3
   },
   "file_extension": ".py",
   "mimetype": "text/x-python",
   "name": "python",
   "nbconvert_exporter": "python",
   "pygments_lexer": "ipython3",
   "version": "3.9.4"
  },
  "orig_nbformat": 4
 },
 "nbformat": 4,
 "nbformat_minor": 2
}
