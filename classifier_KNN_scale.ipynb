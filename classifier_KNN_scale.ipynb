{
 "cells": [
  {
   "cell_type": "code",
   "execution_count": 26,
   "metadata": {},
   "outputs": [],
   "source": [
    "import pandas as pd\n",
    "import numpy as np\n",
    "import warnings\n",
    "from tqdm import tqdm\n",
    "\n",
    "\n",
    "import seaborn as sns\n",
    "import matplotlib.pyplot as plt\n",
    "from sklearn.model_selection import train_test_split\n",
    "from sklearn.preprocessing import scale\n",
    "\n",
    "from sklearn.neighbors import KNeighborsClassifier\n",
    "from sklearn.metrics import confusion_matrix, accuracy_score, recall_score\n",
    "\n",
    "from scipy.stats import boxcox\n",
    "warnings.filterwarnings('ignore')\n",
    "\n",
    "RSEED=42\n",
    "\n",
    "sns.set_context('talk')\n",
    "plt.style.use(['dark_background'])\n",
    "#plt.rcParams['image.cmap'] = \"orangered\"\n",
    "plt.rcParams.update({'font.sans-serif':'Helvetica'})"
   ]
  },
  {
   "cell_type": "code",
   "execution_count": 27,
   "metadata": {},
   "outputs": [],
   "source": [
    "data =  pd.read_csv(\"./data/data_prep_clf.csv\", index_col=[0])\n",
    "data_b=data.drop([\"target\",'trafic_airquality', '6fold_airquality'],axis=1)"
   ]
  },
  {
   "cell_type": "code",
   "execution_count": 28,
   "metadata": {},
   "outputs": [],
   "source": [
    "y=data_b[\"Bi_airquality\"]\n",
    "X= data_b.drop([\"Bi_airquality\"], axis =1)"
   ]
  },
  {
   "cell_type": "code",
   "execution_count": 29,
   "metadata": {},
   "outputs": [],
   "source": [
    "X_train, X_test, y_train, y_test = train_test_split(X, y, test_size=0.3, stratify=y, random_state=RSEED)"
   ]
  },
  {
   "cell_type": "code",
   "execution_count": 30,
   "metadata": {},
   "outputs": [],
   "source": [
    "col_scale = ['location', 'max_temp', 'min_temp', 'mean_temp', 'std_temp',\n",
    "       'var_temp', 'median_temp', 'ptp_temp', 'max_precip', 'min_precip',\n",
    "       'mean_precip', 'std_precip', 'var_precip', 'median_precip',\n",
    "       'ptp_precip', 'max_rel_humidity', 'min_rel_humidity',\n",
    "       'mean_rel_humidity', 'std_rel_humidity', 'var_rel_humidity',\n",
    "       'median_rel_humidity', 'ptp_rel_humidity', 'max_wind_dir',\n",
    "       'min_wind_dir', 'mean_wind_dir', 'std_wind_dir', 'var_wind_dir',\n",
    "       'median_wind_dir', 'ptp_wind_dir', 'max_wind_spd', 'min_wind_spd',\n",
    "       'mean_wind_spd', 'std_wind_spd', 'var_wind_spd', 'median_wind_spd',\n",
    "       'ptp_wind_spd', 'max_atmos_press', 'min_atmos_press',\n",
    "       'mean_atmos_press', 'std_atmos_press', 'var_atmos_press',\n",
    "       'median_atmos_press', 'ptp_atmos_press']"
   ]
  },
  {
   "cell_type": "code",
   "execution_count": 31,
   "metadata": {},
   "outputs": [],
   "source": [
    "X_train_scaled = scale(X_train[col_scale])\n",
    "X_test_scaled = scale(X_test[col_scale])"
   ]
  },
  {
   "cell_type": "code",
   "execution_count": 32,
   "metadata": {},
   "outputs": [
    {
     "name": "stdout",
     "output_type": "stream",
     "text": [
      "Train data\n",
      "# df_train:     3493\n",
      "====\n",
      "Test data\n",
      "# df_test:     1497\n"
     ]
    }
   ],
   "source": [
    "print('Train data')\n",
    "print('# df_train:     {}'.format(X_train_scaled.shape[0]))\n",
    "print('====')\n",
    "print('Test data')\n",
    "print('# df_test:     {}'.format(X_test_scaled.shape[0]))"
   ]
  },
  {
   "cell_type": "code",
   "execution_count": 33,
   "metadata": {},
   "outputs": [
    {
     "data": {
      "text/plain": [
       "bad     1224\n",
       "good     273\n",
       "Name: Bi_airquality, dtype: int64"
      ]
     },
     "execution_count": 33,
     "metadata": {},
     "output_type": "execute_result"
    }
   ],
   "source": [
    "y_test.value_counts()"
   ]
  },
  {
   "cell_type": "code",
   "execution_count": 34,
   "metadata": {},
   "outputs": [],
   "source": [
    "X_train_scaled =np.array( X_train_scaled, ndmin=2)\n",
    "X_test_scaled = np.array(X_test_scaled, ndmin = 2)"
   ]
  },
  {
   "cell_type": "code",
   "execution_count": 35,
   "metadata": {},
   "outputs": [
    {
     "data": {
      "text/plain": [
       "KNeighborsClassifier(metric='euclidean', weights='distance')"
      ]
     },
     "execution_count": 35,
     "metadata": {},
     "output_type": "execute_result"
    }
   ],
   "source": [
    "knn = KNeighborsClassifier(n_neighbors=5, metric='euclidean', weights='distance') #117\n",
    "knn.fit(X_train_scaled, np.ravel(y_train))"
   ]
  },
  {
   "cell_type": "code",
   "execution_count": 36,
   "metadata": {},
   "outputs": [
    {
     "data": {
      "text/plain": [
       "array(['bad'], dtype=object)"
      ]
     },
     "execution_count": 36,
     "metadata": {},
     "output_type": "execute_result"
    }
   ],
   "source": [
    "y_pred = knn.predict(X_test)\n",
    "unique, counts = np.unique(y_pred, return_counts=True)\n",
    "unique"
   ]
  },
  {
   "cell_type": "code",
   "execution_count": 37,
   "metadata": {},
   "outputs": [
    {
     "data": {
      "text/plain": [
       "array([[1224,    0],\n",
       "       [ 273,    0]])"
      ]
     },
     "execution_count": 37,
     "metadata": {},
     "output_type": "execute_result"
    }
   ],
   "source": [
    "confusion_matrix(y_test, y_pred)"
   ]
  }
 ],
 "metadata": {
  "interpreter": {
   "hash": "d8f548114482b487876add26679caae41a2a9f4541ddf007921bd7bf3c60f478"
  },
  "kernelspec": {
   "display_name": "Python 3.9.4 ('.venv': venv)",
   "language": "python",
   "name": "python3"
  },
  "language_info": {
   "codemirror_mode": {
    "name": "ipython",
    "version": 3
   },
   "file_extension": ".py",
   "mimetype": "text/x-python",
   "name": "python",
   "nbconvert_exporter": "python",
   "pygments_lexer": "ipython3",
   "version": "3.9.4"
  },
  "orig_nbformat": 4
 },
 "nbformat": 4,
 "nbformat_minor": 2
}
