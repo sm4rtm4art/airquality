{
 "cells": [
  {
   "cell_type": "markdown",
   "metadata": {},
   "source": [
    "# Basis Model"
   ]
  },
  {
   "cell_type": "markdown",
   "metadata": {},
   "source": [
    "basis model predicts allways the mean value of the target"
   ]
  },
  {
   "cell_type": "code",
   "execution_count": 1,
   "metadata": {},
   "outputs": [],
   "source": [
    "# import packages\n",
    "import pandas as pd\n",
    "import numpy as np\n",
    "import warnings\n",
    "\n",
    "import seaborn as sns\n",
    "import matplotlib.pyplot as plt\n",
    "\n",
    "from sklearn.metrics import mean_squared_error\n",
    "\n",
    "warnings.filterwarnings('ignore')"
   ]
  },
  {
   "cell_type": "code",
   "execution_count": 2,
   "metadata": {},
   "outputs": [
    {
     "data": {
      "text/html": [
       "<div>\n",
       "<style scoped>\n",
       "    .dataframe tbody tr th:only-of-type {\n",
       "        vertical-align: middle;\n",
       "    }\n",
       "\n",
       "    .dataframe tbody tr th {\n",
       "        vertical-align: top;\n",
       "    }\n",
       "\n",
       "    .dataframe thead th {\n",
       "        text-align: right;\n",
       "    }\n",
       "</style>\n",
       "<table border=\"1\" class=\"dataframe\">\n",
       "  <thead>\n",
       "    <tr style=\"text-align: right;\">\n",
       "      <th></th>\n",
       "      <th>location</th>\n",
       "      <th>target</th>\n",
       "      <th>max_temp</th>\n",
       "      <th>min_temp</th>\n",
       "      <th>mean_temp</th>\n",
       "      <th>std_temp</th>\n",
       "      <th>var_temp</th>\n",
       "      <th>median_temp</th>\n",
       "      <th>ptp_temp</th>\n",
       "      <th>max_precip</th>\n",
       "      <th>...</th>\n",
       "      <th>max_atmos_press</th>\n",
       "      <th>min_atmos_press</th>\n",
       "      <th>mean_atmos_press</th>\n",
       "      <th>std_atmos_press</th>\n",
       "      <th>var_atmos_press</th>\n",
       "      <th>median_atmos_press</th>\n",
       "      <th>ptp_atmos_press</th>\n",
       "      <th>Bi_airquality</th>\n",
       "      <th>trafic_airquality</th>\n",
       "      <th>6fold_airquality</th>\n",
       "    </tr>\n",
       "  </thead>\n",
       "  <tbody>\n",
       "    <tr>\n",
       "      <th>1</th>\n",
       "      <td>3</td>\n",
       "      <td>79.131702</td>\n",
       "      <td>33.616667</td>\n",
       "      <td>17.983333</td>\n",
       "      <td>24.679063</td>\n",
       "      <td>4.266955</td>\n",
       "      <td>18.206903</td>\n",
       "      <td>23.791667</td>\n",
       "      <td>15.633333</td>\n",
       "      <td>0.561</td>\n",
       "      <td>...</td>\n",
       "      <td>90.725000</td>\n",
       "      <td>90.056667</td>\n",
       "      <td>90.429924</td>\n",
       "      <td>0.156000</td>\n",
       "      <td>0.024336</td>\n",
       "      <td>90.429167</td>\n",
       "      <td>0.668333</td>\n",
       "      <td>bad</td>\n",
       "      <td>yellow</td>\n",
       "      <td>med unhealthy</td>\n",
       "    </tr>\n",
       "    <tr>\n",
       "      <th>10</th>\n",
       "      <td>3</td>\n",
       "      <td>55.638261</td>\n",
       "      <td>34.041667</td>\n",
       "      <td>17.191667</td>\n",
       "      <td>23.189507</td>\n",
       "      <td>4.432786</td>\n",
       "      <td>19.649595</td>\n",
       "      <td>22.033333</td>\n",
       "      <td>16.850000</td>\n",
       "      <td>10.302</td>\n",
       "      <td>...</td>\n",
       "      <td>90.986667</td>\n",
       "      <td>90.211667</td>\n",
       "      <td>90.624814</td>\n",
       "      <td>0.179998</td>\n",
       "      <td>0.032399</td>\n",
       "      <td>90.641667</td>\n",
       "      <td>0.775000</td>\n",
       "      <td>bad</td>\n",
       "      <td>yellow</td>\n",
       "      <td>med unhealthy</td>\n",
       "    </tr>\n",
       "  </tbody>\n",
       "</table>\n",
       "<p>2 rows × 47 columns</p>\n",
       "</div>"
      ],
      "text/plain": [
       "    location     target   max_temp   min_temp  mean_temp  std_temp   var_temp  \\\n",
       "1          3  79.131702  33.616667  17.983333  24.679063  4.266955  18.206903   \n",
       "10         3  55.638261  34.041667  17.191667  23.189507  4.432786  19.649595   \n",
       "\n",
       "    median_temp   ptp_temp  max_precip  ...  max_atmos_press  min_atmos_press  \\\n",
       "1     23.791667  15.633333       0.561  ...        90.725000        90.056667   \n",
       "10    22.033333  16.850000      10.302  ...        90.986667        90.211667   \n",
       "\n",
       "    mean_atmos_press  std_atmos_press  var_atmos_press  median_atmos_press  \\\n",
       "1          90.429924         0.156000         0.024336           90.429167   \n",
       "10         90.624814         0.179998         0.032399           90.641667   \n",
       "\n",
       "    ptp_atmos_press  Bi_airquality  trafic_airquality  6fold_airquality  \n",
       "1          0.668333            bad             yellow     med unhealthy  \n",
       "10         0.775000            bad             yellow     med unhealthy  \n",
       "\n",
       "[2 rows x 47 columns]"
      ]
     },
     "execution_count": 2,
     "metadata": {},
     "output_type": "execute_result"
    }
   ],
   "source": [
    "# import data\n",
    "data = pd.read_csv('data/data_prep_reg.csv', index_col=[0])\n",
    "data.head(2)"
   ]
  },
  {
   "cell_type": "code",
   "execution_count": 3,
   "metadata": {},
   "outputs": [],
   "source": [
    "def rmse(y_true, y_pred):\n",
    "    return np.sqrt(mean_squared_error(y_true, y_pred))\n",
    "\n",
    "def error_analysis(y_test, y_pred_test):\n",
    "    \"\"\"Generated true vs. predicted values and residual scatter plot for models\n",
    "\n",
    "    Args:\n",
    "        y_test (array): true values for y_test\n",
    "        y_pred_test (array): predicted values of model for y_test\n",
    "    \"\"\"     \n",
    "    # Calculate residuals\n",
    "    residuals = y_test - y_pred_test\n",
    "    \n",
    "    # Plot real vs. predicted values \n",
    "    fig, ax = plt.subplots(1,2, figsize=(15, 5))\n",
    "    plt.subplots_adjust(right=1)\n",
    "    plt.suptitle('Error Analysis')\n",
    "    \n",
    "    ax[0].scatter(y_pred_test, y_test, color=\"#FF5A36\", alpha=0.7)\n",
    "    ax[0].plot([-400, 350], [-400, 350], color=\"#193251\")\n",
    "    ax[0].set_title(\"True vs. predicted values\", fontsize=16)\n",
    "    ax[0].set_xlabel(\"predicted values\")\n",
    "    ax[0].set_ylabel(\"true values\")\n",
    "    #ax[0].set_xlim((y_pred_test.min()-10), (y_pred_test.max()+10))\n",
    "    ax[0].set_ylim((y_test.min()-40), (y_test.max()+40))\n",
    "    \n",
    "    ax[1].scatter(y_pred_test, residuals, color=\"#FF5A36\", alpha=0.7)\n",
    "    ax[1].plot([-400, 350], [0,0], color=\"#193251\")\n",
    "    ax[1].set_title(\"Residual Scatter Plot\", fontsize=16)\n",
    "    ax[1].set_xlabel(\"predicted values\")\n",
    "    ax[1].set_ylabel(\"residuals\")\n",
    "    #ax[1].set_xlim((y_pred_test.min()-10), (y_pred_test.max()+10))\n",
    "    #ax[1].set_ylim((residuals.min()-10), (residuals.max()+10));\n",
    "\n"
   ]
  },
  {
   "cell_type": "code",
   "execution_count": 4,
   "metadata": {},
   "outputs": [
    {
     "name": "stdout",
     "output_type": "stream",
     "text": [
      "Zindi: \n",
      "Mean Target : 58.16 \t RMSE: 30.23 \t NRMSE: 0.52\n",
      "Our (log_transform)\n"
     ]
    }
   ],
   "source": [
    "# with zindi data:\n",
    "\n",
    "# mean target\n",
    "mean_target_zindi = data.target.mean() # 58.24\n",
    "# prediction are all the mean of the target 58.24\n",
    "y_target_zindi = [mean_target_zindi for x in range (data.target.shape[0])]\n",
    "\n",
    "# with our data : \n",
    "\n",
    "\"\"\"# transform all target values to log: \n",
    "y_target_log = [np.log1p(x) for x in y_target_zindi]\n",
    "# mean value for log_target values\n",
    "mean_target_log = np.mean(y_target_log) # 4.081\n",
    "# prediction are all the mean of the log_target \n",
    "y_target_log = [mean_target_log for x in range (data.target.shape[0])]\n",
    "\"\"\"\n",
    "\n",
    "rmse_zindi = rmse(data.target, y_target_zindi)\n",
    "#rmse_our =   rmse(data.log_target, y_target_log)\n",
    "\n",
    "\n",
    "\n",
    "print('Zindi: ')\n",
    "print (f'Mean Target : {mean_target_zindi:.2f} \\t RMSE: {rmse_zindi:.2f} \\t NRMSE: {rmse_zindi/mean_target_zindi:.2f}')\n",
    "print('Our (log_transform)')\n",
    "#print (f'Mean Target: {mean_target_log:.2f} \\t RMSE: {rmse_our:.2f} \\t NRMSE:{rmse_our/mean_target_log:.2f}') #54.354144"
   ]
  },
  {
   "cell_type": "code",
   "execution_count": 5,
   "metadata": {},
   "outputs": [
    {
     "data": {
      "image/png": "[encoded data removed]",
      "text/plain": [
       "<Figure size 1080x360 with 2 Axes>"
      ]
     },
     "metadata": {
      "needs_background": "light"
     },
     "output_type": "display_data"
    }
   ],
   "source": [
    "# error analysis \n",
    "error_analysis(data.target, y_target_zindi)  "
   ]
  }
 ],
 "metadata": {
  "interpreter": {
   "hash": "d8f548114482b487876add26679caae41a2a9f4541ddf007921bd7bf3c60f478"
  },
  "kernelspec": {
   "display_name": "Python 3.9.4 ('.venv': venv)",
   "language": "python",
   "name": "python3"
  },
  "language_info": {
   "codemirror_mode": {
    "name": "ipython",
    "version": 3
   },
   "file_extension": ".py",
   "mimetype": "text/x-python",
   "name": "python",
   "nbconvert_exporter": "python",
   "pygments_lexer": "ipython3",
   "version": "3.9.4"
  },
  "orig_nbformat": 4
 },
 "nbformat": 4,
 "nbformat_minor": 2
}
