{
 "cells": [
  {
   "cell_type": "code",
   "execution_count": 120,
   "metadata": {},
   "outputs": [],
   "source": [
    "import pandas as pd \n",
    "import numpy as np \n",
    "from tqdm import tqdm\n",
    "import math\n",
    "import gc\n",
    "\n",
    "import matplotlib.pyplot as plt\n",
    "import seaborn as sns\n",
    "\n",
    "from scipy import signal"
   ]
  },
  {
   "cell_type": "markdown",
   "metadata": {},
   "source": [
    "import the data"
   ]
  },
  {
   "cell_type": "code",
   "execution_count": 121,
   "metadata": {},
   "outputs": [],
   "source": [
    "train=pd.read_csv(\"./data/Train.csv\")\n",
    "test=pd.read_csv(\"./data/Test.csv\")\n",
    "sample_sub=pd.read_csv(\"./data/sample_sub.csv\")"
   ]
  },
  {
   "cell_type": "code",
   "execution_count": 122,
   "metadata": {},
   "outputs": [
    {
     "data": {
      "text/html": [
       "<div>\n",
       "<style scoped>\n",
       "    .dataframe tbody tr th:only-of-type {\n",
       "        vertical-align: middle;\n",
       "    }\n",
       "\n",
       "    .dataframe tbody tr th {\n",
       "        vertical-align: top;\n",
       "    }\n",
       "\n",
       "    .dataframe thead th {\n",
       "        text-align: right;\n",
       "    }\n",
       "</style>\n",
       "<table border=\"1\" class=\"dataframe\">\n",
       "  <thead>\n",
       "    <tr style=\"text-align: right;\">\n",
       "      <th></th>\n",
       "      <th>ID</th>\n",
       "      <th>location</th>\n",
       "      <th>temp</th>\n",
       "      <th>precip</th>\n",
       "      <th>rel_humidity</th>\n",
       "      <th>wind_dir</th>\n",
       "      <th>wind_spd</th>\n",
       "      <th>atmos_press</th>\n",
       "      <th>target</th>\n",
       "    </tr>\n",
       "  </thead>\n",
       "  <tbody>\n",
       "    <tr>\n",
       "      <th>0</th>\n",
       "      <td>ID_train_0</td>\n",
       "      <td>C</td>\n",
       "      <td>nan,nan,nan,nan,nan,nan,nan,nan,nan,nan,nan,na...</td>\n",
       "      <td>nan,nan,nan,nan,nan,nan,nan,nan,nan,nan,nan,na...</td>\n",
       "      <td>nan,nan,nan,nan,nan,nan,nan,nan,nan,nan,nan,na...</td>\n",
       "      <td>nan,nan,nan,nan,nan,nan,nan,nan,nan,nan,nan,na...</td>\n",
       "      <td>nan,nan,nan,nan,nan,nan,nan,nan,nan,nan,nan,na...</td>\n",
       "      <td>nan,nan,nan,nan,nan,nan,nan,nan,nan,nan,nan,na...</td>\n",
       "      <td>45.126304</td>\n",
       "    </tr>\n",
       "    <tr>\n",
       "      <th>1</th>\n",
       "      <td>ID_train_1</td>\n",
       "      <td>D</td>\n",
       "      <td>22.53333333,21.71666667,20.83333333,20.9833333...</td>\n",
       "      <td>0.102,0.0,0.0,0.0,0.0,0.0,0.0,0.034,0.017,0.01...</td>\n",
       "      <td>0.744583333,0.808083333,0.911166667,0.91633333...</td>\n",
       "      <td>281.6643101,89.15629262,81.96853891,291.018632...</td>\n",
       "      <td>2.3775,1.126666667,0.700833333,0.3416666670000...</td>\n",
       "      <td>90.32,90.3775,90.44083333,90.4725,90.45416667,...</td>\n",
       "      <td>79.131702</td>\n",
       "    </tr>\n",
       "    <tr>\n",
       "      <th>2</th>\n",
       "      <td>ID_train_10</td>\n",
       "      <td>A</td>\n",
       "      <td>28.975,27.95,29.6,26.425,22.09166667,21.775,22...</td>\n",
       "      <td>0.0,0.0,0.0,0.102,0.136,0.0,0.0,2.16,1.276,0.0...</td>\n",
       "      <td>0.573333333,0.597166667,0.5668333329999999,0.6...</td>\n",
       "      <td>nan,nan,nan,nan,nan,nan,nan,nan,nan,nan,nan,na...</td>\n",
       "      <td>nan,nan,nan,nan,nan,nan,nan,nan,nan,nan,nan,na...</td>\n",
       "      <td>88.55166667,88.46416667,88.31916667,88.24,88.2...</td>\n",
       "      <td>32.661304</td>\n",
       "    </tr>\n",
       "    <tr>\n",
       "      <th>3</th>\n",
       "      <td>ID_train_100</td>\n",
       "      <td>A</td>\n",
       "      <td>22.96666667,24.26666667,25.275,25.625,25.86666...</td>\n",
       "      <td>0.0,0.0,0.0,0.0,0.0,0.0,0.0,0.0,7.77,3.012,1.0...</td>\n",
       "      <td>0.8430833329999999,0.79025,0.7375,0.728,0.7049...</td>\n",
       "      <td>300.0850574,293.6769595,294.5174647,301.921416...</td>\n",
       "      <td>1.446666667,1.1925,1.324166667,1.5441666669999...</td>\n",
       "      <td>88.615,88.53083333,88.4,88.27166667,88.2075,88...</td>\n",
       "      <td>53.850238</td>\n",
       "    </tr>\n",
       "    <tr>\n",
       "      <th>4</th>\n",
       "      <td>ID_train_1000</td>\n",
       "      <td>A</td>\n",
       "      <td>21.875,21.575,21.525,21.43333333,20.50833333,1...</td>\n",
       "      <td>0.0,0.0,0.0,0.0,0.0,0.0,0.0,0.0,0.0,0.0,0.0,0....</td>\n",
       "      <td>0.8564166670000001,0.874916667,0.879833333,0.8...</td>\n",
       "      <td>21.83997432,17.05405341,89.26406044,123.585424...</td>\n",
       "      <td>0.1975,0.244166667,0.411666667,0.56,0.5775,0.4...</td>\n",
       "      <td>88.55666667,88.64083333,88.65833333,88.6475,88...</td>\n",
       "      <td>177.418750</td>\n",
       "    </tr>\n",
       "  </tbody>\n",
       "</table>\n",
       "</div>"
      ],
      "text/plain": [
       "              ID location                                               temp  \\\n",
       "0     ID_train_0        C  nan,nan,nan,nan,nan,nan,nan,nan,nan,nan,nan,na...   \n",
       "1     ID_train_1        D  22.53333333,21.71666667,20.83333333,20.9833333...   \n",
       "2    ID_train_10        A  28.975,27.95,29.6,26.425,22.09166667,21.775,22...   \n",
       "3   ID_train_100        A  22.96666667,24.26666667,25.275,25.625,25.86666...   \n",
       "4  ID_train_1000        A  21.875,21.575,21.525,21.43333333,20.50833333,1...   \n",
       "\n",
       "                                              precip  \\\n",
       "0  nan,nan,nan,nan,nan,nan,nan,nan,nan,nan,nan,na...   \n",
       "1  0.102,0.0,0.0,0.0,0.0,0.0,0.0,0.034,0.017,0.01...   \n",
       "2  0.0,0.0,0.0,0.102,0.136,0.0,0.0,2.16,1.276,0.0...   \n",
       "3  0.0,0.0,0.0,0.0,0.0,0.0,0.0,0.0,7.77,3.012,1.0...   \n",
       "4  0.0,0.0,0.0,0.0,0.0,0.0,0.0,0.0,0.0,0.0,0.0,0....   \n",
       "\n",
       "                                        rel_humidity  \\\n",
       "0  nan,nan,nan,nan,nan,nan,nan,nan,nan,nan,nan,na...   \n",
       "1  0.744583333,0.808083333,0.911166667,0.91633333...   \n",
       "2  0.573333333,0.597166667,0.5668333329999999,0.6...   \n",
       "3  0.8430833329999999,0.79025,0.7375,0.728,0.7049...   \n",
       "4  0.8564166670000001,0.874916667,0.879833333,0.8...   \n",
       "\n",
       "                                            wind_dir  \\\n",
       "0  nan,nan,nan,nan,nan,nan,nan,nan,nan,nan,nan,na...   \n",
       "1  281.6643101,89.15629262,81.96853891,291.018632...   \n",
       "2  nan,nan,nan,nan,nan,nan,nan,nan,nan,nan,nan,na...   \n",
       "3  300.0850574,293.6769595,294.5174647,301.921416...   \n",
       "4  21.83997432,17.05405341,89.26406044,123.585424...   \n",
       "\n",
       "                                            wind_spd  \\\n",
       "0  nan,nan,nan,nan,nan,nan,nan,nan,nan,nan,nan,na...   \n",
       "1  2.3775,1.126666667,0.700833333,0.3416666670000...   \n",
       "2  nan,nan,nan,nan,nan,nan,nan,nan,nan,nan,nan,na...   \n",
       "3  1.446666667,1.1925,1.324166667,1.5441666669999...   \n",
       "4  0.1975,0.244166667,0.411666667,0.56,0.5775,0.4...   \n",
       "\n",
       "                                         atmos_press      target  \n",
       "0  nan,nan,nan,nan,nan,nan,nan,nan,nan,nan,nan,na...   45.126304  \n",
       "1  90.32,90.3775,90.44083333,90.4725,90.45416667,...   79.131702  \n",
       "2  88.55166667,88.46416667,88.31916667,88.24,88.2...   32.661304  \n",
       "3  88.615,88.53083333,88.4,88.27166667,88.2075,88...   53.850238  \n",
       "4  88.55666667,88.64083333,88.65833333,88.6475,88...  177.418750  "
      ]
     },
     "execution_count": 122,
     "metadata": {},
     "output_type": "execute_result"
    }
   ],
   "source": [
    "train.head()\n"
   ]
  },
  {
   "cell_type": "code",
   "execution_count": 123,
   "metadata": {},
   "outputs": [
    {
     "data": {
      "text/plain": [
       "'0.0,0.0,0.0,0.102,0.136,0.0,0.0,2.16,1.276,0.051,0.936,0.612,0.204,3.112,0.595,0.017,0.782,0.289,0.0,0.0,0.0,0.0,0.0,0.0,0.0,0.0,0.0,0.0,7.8039999999999985,0.0,0.0,0.0,0.0,0.0,0.017,0.0,0.0,0.0,0.0,0.0,0.034,0.017,0.034,0.017,0.017,nan,0.0,0.0,0.0,0.0,0.0,0.0,0.0,0.0,0.0,0.0,0.0,0.0,0.0,0.0,0.0,0.0,0.0,0.0,0.0,0.0,0.0,0.0,0.0,0.0,0.0,0.0,0.0,0.0,0.0,0.0,0.0,0.0,0.0,0.0,0.0,0.0,0.0,0.0,0.0,0.0,0.0,0.0,0.0,0.0,0.0,0.0,0.0,0.0,0.0,0.0,0.0,0.0,0.0,0.0,0.0,0.0,0.0,0.0,0.0,0.0,0.0,0.0,0.0,0.0,0.0,0.0,0.0,0.0,0.0,0.0,0.0,0.0,0.0,0.0,0.0'"
      ]
     },
     "execution_count": 123,
     "metadata": {},
     "output_type": "execute_result"
    }
   ],
   "source": [
    "train.precip[2]"
   ]
  },
  {
   "cell_type": "code",
   "execution_count": 124,
   "metadata": {},
   "outputs": [],
   "source": [
    "# covert features  from string to List of values \n",
    "def replace_nan(x):\n",
    "    if x==\" \":\n",
    "        return np.nan\n",
    "    else :\n",
    "        return float(x)\n",
    "        \n",
    "features=[\"temp\",\"precip\",\"rel_humidity\",\"wind_dir\",\"wind_spd\",\"atmos_press\"]\n",
    "for feature in features : \n",
    "    train[feature]=train[feature].apply(lambda x: [ replace_nan(X) for X in x.replace(\"nan\",\" \").split(\",\")])\n",
    "    test[feature]=test[feature].apply(lambda x: [ replace_nan(X)  for X in x.replace(\"nan\",\" \").split(\",\")])    "
   ]
  },
  {
   "cell_type": "code",
   "execution_count": 125,
   "metadata": {},
   "outputs": [
    {
     "data": {
      "text/plain": [
       "121"
      ]
     },
     "execution_count": 125,
     "metadata": {},
     "output_type": "execute_result"
    }
   ],
   "source": [
    "len(train.precip[2])\n"
   ]
  },
  {
   "cell_type": "markdown",
   "metadata": {},
   "source": [
    "## Analysis of the nan values\n",
    "\n",
    "### stats"
   ]
  },
  {
   "cell_type": "code",
   "execution_count": 126,
   "metadata": {},
   "outputs": [],
   "source": [
    "list_columns = ['temp', 'precip', 'rel_humidity', 'wind_dir', 'wind_spd', 'atmos_press']"
   ]
  },
  {
   "cell_type": "code",
   "execution_count": 127,
   "metadata": {},
   "outputs": [],
   "source": [
    "def count_nan(row):\n",
    "    counter = 0\n",
    "    if isinstance(row, type(list())):\n",
    "        for x in row:\n",
    "            if np.isnan(x):\n",
    "                counter += 1\n",
    "        return counter \n",
    "    else: return np.nan\n",
    "    \n",
    "for col in list_columns:\n",
    "    train['nan_' + str(col)] = round(train[col].apply(count_nan))"
   ]
  },
  {
   "cell_type": "code",
   "execution_count": 128,
   "metadata": {},
   "outputs": [
    {
     "data": {
      "text/html": [
       "<div>\n",
       "<style scoped>\n",
       "    .dataframe tbody tr th:only-of-type {\n",
       "        vertical-align: middle;\n",
       "    }\n",
       "\n",
       "    .dataframe tbody tr th {\n",
       "        vertical-align: top;\n",
       "    }\n",
       "\n",
       "    .dataframe thead th {\n",
       "        text-align: right;\n",
       "    }\n",
       "</style>\n",
       "<table border=\"1\" class=\"dataframe\">\n",
       "  <thead>\n",
       "    <tr style=\"text-align: right;\">\n",
       "      <th></th>\n",
       "      <th>ID</th>\n",
       "      <th>location</th>\n",
       "      <th>target</th>\n",
       "      <th>nan_temp</th>\n",
       "      <th>nan_precip</th>\n",
       "      <th>nan_rel_humidity</th>\n",
       "      <th>nan_wind_dir</th>\n",
       "      <th>nan_wind_spd</th>\n",
       "      <th>nan_atmos_press</th>\n",
       "    </tr>\n",
       "  </thead>\n",
       "  <tbody>\n",
       "    <tr>\n",
       "      <th>0</th>\n",
       "      <td>ID_train_0</td>\n",
       "      <td>C</td>\n",
       "      <td>45.126304</td>\n",
       "      <td>105</td>\n",
       "      <td>105</td>\n",
       "      <td>105</td>\n",
       "      <td>105</td>\n",
       "      <td>105</td>\n",
       "      <td>105</td>\n",
       "    </tr>\n",
       "    <tr>\n",
       "      <th>1</th>\n",
       "      <td>ID_train_1</td>\n",
       "      <td>D</td>\n",
       "      <td>79.131702</td>\n",
       "      <td>0</td>\n",
       "      <td>0</td>\n",
       "      <td>0</td>\n",
       "      <td>0</td>\n",
       "      <td>0</td>\n",
       "      <td>0</td>\n",
       "    </tr>\n",
       "    <tr>\n",
       "      <th>2</th>\n",
       "      <td>ID_train_10</td>\n",
       "      <td>A</td>\n",
       "      <td>32.661304</td>\n",
       "      <td>1</td>\n",
       "      <td>1</td>\n",
       "      <td>1</td>\n",
       "      <td>46</td>\n",
       "      <td>46</td>\n",
       "      <td>1</td>\n",
       "    </tr>\n",
       "    <tr>\n",
       "      <th>3</th>\n",
       "      <td>ID_train_100</td>\n",
       "      <td>A</td>\n",
       "      <td>53.850238</td>\n",
       "      <td>0</td>\n",
       "      <td>0</td>\n",
       "      <td>0</td>\n",
       "      <td>51</td>\n",
       "      <td>51</td>\n",
       "      <td>0</td>\n",
       "    </tr>\n",
       "    <tr>\n",
       "      <th>4</th>\n",
       "      <td>ID_train_1000</td>\n",
       "      <td>A</td>\n",
       "      <td>177.418750</td>\n",
       "      <td>91</td>\n",
       "      <td>91</td>\n",
       "      <td>91</td>\n",
       "      <td>91</td>\n",
       "      <td>91</td>\n",
       "      <td>91</td>\n",
       "    </tr>\n",
       "  </tbody>\n",
       "</table>\n",
       "</div>"
      ],
      "text/plain": [
       "              ID location      target  nan_temp  nan_precip  nan_rel_humidity  \\\n",
       "0     ID_train_0        C   45.126304       105         105               105   \n",
       "1     ID_train_1        D   79.131702         0           0                 0   \n",
       "2    ID_train_10        A   32.661304         1           1                 1   \n",
       "3   ID_train_100        A   53.850238         0           0                 0   \n",
       "4  ID_train_1000        A  177.418750        91          91                91   \n",
       "\n",
       "   nan_wind_dir  nan_wind_spd  nan_atmos_press  \n",
       "0           105           105              105  \n",
       "1             0             0                0  \n",
       "2            46            46                1  \n",
       "3            51            51                0  \n",
       "4            91            91               91  "
      ]
     },
     "execution_count": 128,
     "metadata": {},
     "output_type": "execute_result"
    }
   ],
   "source": [
    "train.drop(list_columns, axis=1).head()"
   ]
  },
  {
   "cell_type": "markdown",
   "metadata": {},
   "source": [
    "- heat map nan values:\n"
   ]
  },
  {
   "cell_type": "code",
   "execution_count": 129,
   "metadata": {},
   "outputs": [
    {
     "data": {
      "image/png": "[encoded data removed]",
      "text/plain": [
       "<Figure size 864x576 with 1 Axes>"
      ]
     },
     "metadata": {
      "needs_background": "light"
     },
     "output_type": "display_data"
    }
   ],
   "source": [
    "list_columns = list_columns+ ['location', 'target']\n",
    "plt.figure(figsize=(12, 8))\n",
    "sns.heatmap(train.drop(list_columns + ['ID'], axis=1), cbar=False,yticklabels=False)\n",
    "plt.show()"
   ]
  },
  {
   "cell_type": "markdown",
   "metadata": {},
   "source": [
    "percentage of missing values"
   ]
  },
  {
   "cell_type": "code",
   "execution_count": 130,
   "metadata": {},
   "outputs": [],
   "source": [
    "# \n",
    "data_nan = train.drop(list_columns, axis=1)"
   ]
  },
  {
   "cell_type": "code",
   "execution_count": 131,
   "metadata": {},
   "outputs": [
    {
     "data": {
      "text/plain": [
       "(15539, 8)"
      ]
     },
     "execution_count": 131,
     "metadata": {},
     "output_type": "execute_result"
    }
   ],
   "source": [
    "data_nan['sum'] = round(data_nan.sum(axis=1, numeric_only=True)/726*100,2)\n",
    "data_nan.shape"
   ]
  },
  {
   "cell_type": "code",
   "execution_count": 132,
   "metadata": {},
   "outputs": [
    {
     "data": {
      "text/plain": [
       "<seaborn.axisgrid.FacetGrid at 0x2d129dbe0>"
      ]
     },
     "execution_count": 132,
     "metadata": {},
     "output_type": "execute_result"
    },
    {
     "data": {
      "image/png": "[encoded data removed]",
      "text/plain": [
       "<Figure size 360x360 with 1 Axes>"
      ]
     },
     "metadata": {
      "needs_background": "light"
     },
     "output_type": "display_data"
    }
   ],
   "source": [
    "from seaborn_qqplot import pplot\n",
    "sns.displot(data_nan, x = data_nan['sum'], kind=\"ecdf\") "
   ]
  },
  {
   "cell_type": "code",
   "execution_count": 133,
   "metadata": {},
   "outputs": [
    {
     "name": "stdout",
     "output_type": "stream",
     "text": [
      "0.00% observation contains more than 90% of missing values\n",
      "1.70% observation contains more than 80% of missing values\n",
      "2.48% observation contains more than 70% of missing values\n",
      "3.29% observation contains more than 60% of missing values\n",
      "4.76% observation contains more than 50% of missing values\n",
      "7.05% observation contains more than 40% of missing values\n"
     ]
    }
   ],
   "source": [
    "for i in [90, 80, 70, 60, 50, 40]:\n",
    "    print('{:.2%} observation contains more than {}% of missing values'\n",
    "                .format(data_nan[(data_nan['sum']>i)].ID.count()/15539, i))"
   ]
  },
  {
   "cell_type": "code",
   "execution_count": 134,
   "metadata": {},
   "outputs": [
    {
     "data": {
      "text/plain": [
       "(739, 8)"
      ]
     },
     "execution_count": 134,
     "metadata": {},
     "output_type": "execute_result"
    }
   ],
   "source": [
    "data_nan[(data_nan['sum']>50)].shape\n"
   ]
  },
  {
   "cell_type": "markdown",
   "metadata": {},
   "source": [
    "the observation with more than 50% nan values can be removed for training. It represents less than 5% of the data"
   ]
  },
  {
   "cell_type": "code",
   "execution_count": 135,
   "metadata": {},
   "outputs": [
    {
     "name": "stdout",
     "output_type": "stream",
     "text": [
      "without outliers remain 8960 observations\n"
     ]
    }
   ],
   "source": [
    "print('without outliers remain {} observations'.format(data_nan[(data_nan['sum']<=1)].ID.count()))\n"
   ]
  },
  {
   "cell_type": "code",
   "execution_count": 136,
   "metadata": {},
   "outputs": [
    {
     "data": {
      "text/html": [
       "<div>\n",
       "<style scoped>\n",
       "    .dataframe tbody tr th:only-of-type {\n",
       "        vertical-align: middle;\n",
       "    }\n",
       "\n",
       "    .dataframe tbody tr th {\n",
       "        vertical-align: top;\n",
       "    }\n",
       "\n",
       "    .dataframe thead th {\n",
       "        text-align: right;\n",
       "    }\n",
       "</style>\n",
       "<table border=\"1\" class=\"dataframe\">\n",
       "  <thead>\n",
       "    <tr style=\"text-align: right;\">\n",
       "      <th></th>\n",
       "      <th>ID</th>\n",
       "      <th>nan_temp</th>\n",
       "      <th>nan_precip</th>\n",
       "      <th>nan_rel_humidity</th>\n",
       "      <th>nan_wind_dir</th>\n",
       "      <th>nan_wind_spd</th>\n",
       "      <th>nan_atmos_press</th>\n",
       "      <th>sum</th>\n",
       "    </tr>\n",
       "  </thead>\n",
       "  <tbody>\n",
       "    <tr>\n",
       "      <th>1</th>\n",
       "      <td>ID_train_1</td>\n",
       "      <td>0</td>\n",
       "      <td>0</td>\n",
       "      <td>0</td>\n",
       "      <td>0</td>\n",
       "      <td>0</td>\n",
       "      <td>0</td>\n",
       "      <td>0.00</td>\n",
       "    </tr>\n",
       "    <tr>\n",
       "      <th>6</th>\n",
       "      <td>ID_train_10001</td>\n",
       "      <td>0</td>\n",
       "      <td>0</td>\n",
       "      <td>0</td>\n",
       "      <td>0</td>\n",
       "      <td>0</td>\n",
       "      <td>0</td>\n",
       "      <td>0.00</td>\n",
       "    </tr>\n",
       "    <tr>\n",
       "      <th>10</th>\n",
       "      <td>ID_train_10005</td>\n",
       "      <td>0</td>\n",
       "      <td>0</td>\n",
       "      <td>1</td>\n",
       "      <td>2</td>\n",
       "      <td>2</td>\n",
       "      <td>0</td>\n",
       "      <td>0.69</td>\n",
       "    </tr>\n",
       "    <tr>\n",
       "      <th>11</th>\n",
       "      <td>ID_train_10006</td>\n",
       "      <td>0</td>\n",
       "      <td>0</td>\n",
       "      <td>0</td>\n",
       "      <td>0</td>\n",
       "      <td>0</td>\n",
       "      <td>0</td>\n",
       "      <td>0.00</td>\n",
       "    </tr>\n",
       "    <tr>\n",
       "      <th>12</th>\n",
       "      <td>ID_train_10007</td>\n",
       "      <td>0</td>\n",
       "      <td>0</td>\n",
       "      <td>0</td>\n",
       "      <td>0</td>\n",
       "      <td>0</td>\n",
       "      <td>0</td>\n",
       "      <td>0.00</td>\n",
       "    </tr>\n",
       "    <tr>\n",
       "      <th>...</th>\n",
       "      <td>...</td>\n",
       "      <td>...</td>\n",
       "      <td>...</td>\n",
       "      <td>...</td>\n",
       "      <td>...</td>\n",
       "      <td>...</td>\n",
       "      <td>...</td>\n",
       "      <td>...</td>\n",
       "    </tr>\n",
       "    <tr>\n",
       "      <th>15532</th>\n",
       "      <td>ID_train_9993</td>\n",
       "      <td>0</td>\n",
       "      <td>0</td>\n",
       "      <td>0</td>\n",
       "      <td>0</td>\n",
       "      <td>0</td>\n",
       "      <td>0</td>\n",
       "      <td>0.00</td>\n",
       "    </tr>\n",
       "    <tr>\n",
       "      <th>15533</th>\n",
       "      <td>ID_train_9994</td>\n",
       "      <td>0</td>\n",
       "      <td>0</td>\n",
       "      <td>0</td>\n",
       "      <td>1</td>\n",
       "      <td>1</td>\n",
       "      <td>0</td>\n",
       "      <td>0.28</td>\n",
       "    </tr>\n",
       "    <tr>\n",
       "      <th>15536</th>\n",
       "      <td>ID_train_9997</td>\n",
       "      <td>1</td>\n",
       "      <td>0</td>\n",
       "      <td>1</td>\n",
       "      <td>0</td>\n",
       "      <td>0</td>\n",
       "      <td>0</td>\n",
       "      <td>0.28</td>\n",
       "    </tr>\n",
       "    <tr>\n",
       "      <th>15537</th>\n",
       "      <td>ID_train_9998</td>\n",
       "      <td>0</td>\n",
       "      <td>0</td>\n",
       "      <td>0</td>\n",
       "      <td>0</td>\n",
       "      <td>0</td>\n",
       "      <td>0</td>\n",
       "      <td>0.00</td>\n",
       "    </tr>\n",
       "    <tr>\n",
       "      <th>15538</th>\n",
       "      <td>ID_train_9999</td>\n",
       "      <td>0</td>\n",
       "      <td>0</td>\n",
       "      <td>0</td>\n",
       "      <td>0</td>\n",
       "      <td>0</td>\n",
       "      <td>0</td>\n",
       "      <td>0.00</td>\n",
       "    </tr>\n",
       "  </tbody>\n",
       "</table>\n",
       "<p>8960 rows × 8 columns</p>\n",
       "</div>"
      ],
      "text/plain": [
       "                   ID  nan_temp  nan_precip  nan_rel_humidity  nan_wind_dir  \\\n",
       "1          ID_train_1         0           0                 0             0   \n",
       "6      ID_train_10001         0           0                 0             0   \n",
       "10     ID_train_10005         0           0                 1             2   \n",
       "11     ID_train_10006         0           0                 0             0   \n",
       "12     ID_train_10007         0           0                 0             0   \n",
       "...               ...       ...         ...               ...           ...   \n",
       "15532   ID_train_9993         0           0                 0             0   \n",
       "15533   ID_train_9994         0           0                 0             1   \n",
       "15536   ID_train_9997         1           0                 1             0   \n",
       "15537   ID_train_9998         0           0                 0             0   \n",
       "15538   ID_train_9999         0           0                 0             0   \n",
       "\n",
       "       nan_wind_spd  nan_atmos_press   sum  \n",
       "1                 0                0  0.00  \n",
       "6                 0                0  0.00  \n",
       "10                2                0  0.69  \n",
       "11                0                0  0.00  \n",
       "12                0                0  0.00  \n",
       "...             ...              ...   ...  \n",
       "15532             0                0  0.00  \n",
       "15533             1                0  0.28  \n",
       "15536             0                0  0.28  \n",
       "15537             0                0  0.00  \n",
       "15538             0                0  0.00  \n",
       "\n",
       "[8960 rows x 8 columns]"
      ]
     },
     "execution_count": 136,
     "metadata": {},
     "output_type": "execute_result"
    }
   ],
   "source": [
    "data_nan[(data_nan['sum']<=1)]"
   ]
  },
  {
   "cell_type": "markdown",
   "metadata": {},
   "source": [
    "- how does it look the target of the values with 50% of nan values?"
   ]
  },
  {
   "cell_type": "code",
   "execution_count": 137,
   "metadata": {},
   "outputs": [
    {
     "data": {
      "text/plain": [
       "(739, 16)"
      ]
     },
     "execution_count": 137,
     "metadata": {},
     "output_type": "execute_result"
    },
    {
     "data": {
      "image/png": "[encoded data removed]",
      "text/plain": [
       "<Figure size 432x288 with 1 Axes>"
      ]
     },
     "metadata": {
      "needs_background": "light"
     },
     "output_type": "display_data"
    }
   ],
   "source": [
    "target_w_50nan = train.join(data_nan['sum'])[(train.join(data_nan['sum'])['sum']>50)]\n",
    "sns.histplot(train.target)\n",
    "sns.histplot(target_w_50nan.target, color='red')\n",
    "\n",
    "target_w_50nan.shape"
   ]
  },
  {
   "cell_type": "markdown",
   "metadata": {},
   "source": [
    "the observation with more than 50% of nan values are well represented over all range of the target. it is ok to remove them"
   ]
  },
  {
   "cell_type": "markdown",
   "metadata": {},
   "source": [
    "- remove observation with more than 50% nan values"
   ]
  },
  {
   "cell_type": "code",
   "execution_count": 138,
   "metadata": {},
   "outputs": [
    {
     "data": {
      "text/plain": [
       "(15539, 15)"
      ]
     },
     "execution_count": 138,
     "metadata": {},
     "output_type": "execute_result"
    }
   ],
   "source": [
    "train.join(data_nan['sum'])\n",
    "train.shape"
   ]
  },
  {
   "cell_type": "code",
   "execution_count": 139,
   "metadata": {},
   "outputs": [
    {
     "data": {
      "text/plain": [
       "(14800, 16)"
      ]
     },
     "execution_count": 139,
     "metadata": {},
     "output_type": "execute_result"
    }
   ],
   "source": [
    "data_process = train.join(data_nan['sum'])[(train.join(data_nan['sum'])['sum']<50)]\n",
    "data_process.shape"
   ]
  },
  {
   "cell_type": "markdown",
   "metadata": {},
   "source": [
    "- remove outliers"
   ]
  },
  {
   "cell_type": "code",
   "execution_count": 140,
   "metadata": {},
   "outputs": [
    {
     "data": {
      "text/plain": [
       "(15539, 10)"
      ]
     },
     "execution_count": 140,
     "metadata": {},
     "output_type": "execute_result"
    }
   ],
   "source": [
    "list_columns = ['temp', 'precip', 'rel_humidity', 'wind_dir', 'wind_spd', 'atmos_press']\n",
    "def count_nan(row):\n",
    "    counter = 0\n",
    "    if isinstance(row, type(list())):\n",
    "        for x in row:\n",
    "            if np.isnan(x):\n",
    "                counter += 1\n",
    "        return counter \n",
    "    else: return np.nan\n",
    "    \n",
    "for col in list_columns:\n",
    "    train['nan_' + str(col)] = round(train[col].apply(count_nan))\n",
    "data_nan = train.drop(list_columns, axis=1)\n",
    "\n",
    "data_nan['sum'] = round(data_nan.sum(axis=1, numeric_only=True)/726*100,2)\n",
    "data_nan.shape"
   ]
  },
  {
   "cell_type": "code",
   "execution_count": 141,
   "metadata": {},
   "outputs": [
    {
     "data": {
      "text/html": [
       "<div>\n",
       "<style scoped>\n",
       "    .dataframe tbody tr th:only-of-type {\n",
       "        vertical-align: middle;\n",
       "    }\n",
       "\n",
       "    .dataframe tbody tr th {\n",
       "        vertical-align: top;\n",
       "    }\n",
       "\n",
       "    .dataframe thead th {\n",
       "        text-align: right;\n",
       "    }\n",
       "</style>\n",
       "<table border=\"1\" class=\"dataframe\">\n",
       "  <thead>\n",
       "    <tr style=\"text-align: right;\">\n",
       "      <th></th>\n",
       "      <th>ID</th>\n",
       "      <th>location</th>\n",
       "      <th>target</th>\n",
       "      <th>nan_temp</th>\n",
       "      <th>nan_precip</th>\n",
       "      <th>nan_rel_humidity</th>\n",
       "      <th>nan_wind_dir</th>\n",
       "      <th>nan_wind_spd</th>\n",
       "      <th>nan_atmos_press</th>\n",
       "      <th>sum</th>\n",
       "    </tr>\n",
       "  </thead>\n",
       "  <tbody>\n",
       "    <tr>\n",
       "      <th>0</th>\n",
       "      <td>ID_train_0</td>\n",
       "      <td>C</td>\n",
       "      <td>45.126304</td>\n",
       "      <td>105</td>\n",
       "      <td>105</td>\n",
       "      <td>105</td>\n",
       "      <td>105</td>\n",
       "      <td>105</td>\n",
       "      <td>105</td>\n",
       "      <td>92.99</td>\n",
       "    </tr>\n",
       "    <tr>\n",
       "      <th>1</th>\n",
       "      <td>ID_train_1</td>\n",
       "      <td>D</td>\n",
       "      <td>79.131702</td>\n",
       "      <td>0</td>\n",
       "      <td>0</td>\n",
       "      <td>0</td>\n",
       "      <td>0</td>\n",
       "      <td>0</td>\n",
       "      <td>0</td>\n",
       "      <td>10.90</td>\n",
       "    </tr>\n",
       "    <tr>\n",
       "      <th>2</th>\n",
       "      <td>ID_train_10</td>\n",
       "      <td>A</td>\n",
       "      <td>32.661304</td>\n",
       "      <td>1</td>\n",
       "      <td>1</td>\n",
       "      <td>1</td>\n",
       "      <td>46</td>\n",
       "      <td>46</td>\n",
       "      <td>1</td>\n",
       "      <td>17.72</td>\n",
       "    </tr>\n",
       "    <tr>\n",
       "      <th>3</th>\n",
       "      <td>ID_train_100</td>\n",
       "      <td>A</td>\n",
       "      <td>53.850238</td>\n",
       "      <td>0</td>\n",
       "      <td>0</td>\n",
       "      <td>0</td>\n",
       "      <td>51</td>\n",
       "      <td>51</td>\n",
       "      <td>0</td>\n",
       "      <td>21.47</td>\n",
       "    </tr>\n",
       "    <tr>\n",
       "      <th>4</th>\n",
       "      <td>ID_train_1000</td>\n",
       "      <td>A</td>\n",
       "      <td>177.418750</td>\n",
       "      <td>91</td>\n",
       "      <td>91</td>\n",
       "      <td>91</td>\n",
       "      <td>91</td>\n",
       "      <td>91</td>\n",
       "      <td>91</td>\n",
       "      <td>99.64</td>\n",
       "    </tr>\n",
       "  </tbody>\n",
       "</table>\n",
       "</div>"
      ],
      "text/plain": [
       "              ID location      target  nan_temp  nan_precip  nan_rel_humidity  \\\n",
       "0     ID_train_0        C   45.126304       105         105               105   \n",
       "1     ID_train_1        D   79.131702         0           0                 0   \n",
       "2    ID_train_10        A   32.661304         1           1                 1   \n",
       "3   ID_train_100        A   53.850238         0           0                 0   \n",
       "4  ID_train_1000        A  177.418750        91          91                91   \n",
       "\n",
       "   nan_wind_dir  nan_wind_spd  nan_atmos_press    sum  \n",
       "0           105           105              105  92.99  \n",
       "1             0             0                0  10.90  \n",
       "2            46            46                1  17.72  \n",
       "3            51            51                0  21.47  \n",
       "4            91            91               91  99.64  "
      ]
     },
     "execution_count": 141,
     "metadata": {},
     "output_type": "execute_result"
    }
   ],
   "source": [
    "data_nan.head()"
   ]
  },
  {
   "cell_type": "code",
   "execution_count": 142,
   "metadata": {},
   "outputs": [
    {
     "data": {
      "text/plain": [
       "(14536, 16)"
      ]
     },
     "execution_count": 142,
     "metadata": {},
     "output_type": "execute_result"
    }
   ],
   "source": [
    "data_wo_outlier = train.join(data_nan['sum'])[(train.join(data_nan['sum'])['sum']<50)]\n",
    "data_wo_outlier.shape"
   ]
  },
  {
   "cell_type": "markdown",
   "metadata": {},
   "source": [
    "### Precipitation\n",
    "precip: total rainfall in mm recorded at the site over the hour (mm)"
   ]
  },
  {
   "cell_type": "code",
   "execution_count": 143,
   "metadata": {},
   "outputs": [
    {
     "data": {
      "text/html": [
       "<div>\n",
       "<style scoped>\n",
       "    .dataframe tbody tr th:only-of-type {\n",
       "        vertical-align: middle;\n",
       "    }\n",
       "\n",
       "    .dataframe tbody tr th {\n",
       "        vertical-align: top;\n",
       "    }\n",
       "\n",
       "    .dataframe thead th {\n",
       "        text-align: right;\n",
       "    }\n",
       "</style>\n",
       "<table border=\"1\" class=\"dataframe\">\n",
       "  <thead>\n",
       "    <tr style=\"text-align: right;\">\n",
       "      <th></th>\n",
       "      <th>precip</th>\n",
       "      <th>nan_precip</th>\n",
       "    </tr>\n",
       "  </thead>\n",
       "  <tbody>\n",
       "    <tr>\n",
       "      <th>1</th>\n",
       "      <td>[0.102, 0.0, 0.0, 0.0, 0.0, 0.0, 0.0, 0.034, 0...</td>\n",
       "      <td>0</td>\n",
       "    </tr>\n",
       "    <tr>\n",
       "      <th>2</th>\n",
       "      <td>[0.0, 0.0, 0.0, 0.102, 0.136, 0.0, 0.0, 2.16, ...</td>\n",
       "      <td>1</td>\n",
       "    </tr>\n",
       "    <tr>\n",
       "      <th>3</th>\n",
       "      <td>[0.0, 0.0, 0.0, 0.0, 0.0, 0.0, 0.0, 0.0, 7.77,...</td>\n",
       "      <td>0</td>\n",
       "    </tr>\n",
       "    <tr>\n",
       "      <th>5</th>\n",
       "      <td>[0.0, 0.0, 0.0, 0.0, 0.0, 0.0, 0.0, 0.0, 0.0, ...</td>\n",
       "      <td>0</td>\n",
       "    </tr>\n",
       "    <tr>\n",
       "      <th>6</th>\n",
       "      <td>[0.0, 0.0, 0.0, 0.0, 0.0, 0.0, 0.0, 0.0, 0.0, ...</td>\n",
       "      <td>0</td>\n",
       "    </tr>\n",
       "  </tbody>\n",
       "</table>\n",
       "</div>"
      ],
      "text/plain": [
       "                                              precip  nan_precip\n",
       "1  [0.102, 0.0, 0.0, 0.0, 0.0, 0.0, 0.0, 0.034, 0...           0\n",
       "2  [0.0, 0.0, 0.0, 0.102, 0.136, 0.0, 0.0, 2.16, ...           1\n",
       "3  [0.0, 0.0, 0.0, 0.0, 0.0, 0.0, 0.0, 0.0, 7.77,...           0\n",
       "5  [0.0, 0.0, 0.0, 0.0, 0.0, 0.0, 0.0, 0.0, 0.0, ...           0\n",
       "6  [0.0, 0.0, 0.0, 0.0, 0.0, 0.0, 0.0, 0.0, 0.0, ...           0"
      ]
     },
     "execution_count": 143,
     "metadata": {},
     "output_type": "execute_result"
    }
   ],
   "source": [
    "precipitation = pd.DataFrame(data_process[['precip', 'nan_precip']])\n",
    "precipitation.head()"
   ]
  },
  {
   "cell_type": "code",
   "execution_count": 144,
   "metadata": {},
   "outputs": [],
   "source": [
    "# removing the nan values and show the remain values\n",
    "def mean_without_nan(row):\n",
    "    new_row = []\n",
    "    for x in row: \n",
    "        if np.isnan(x): pass\n",
    "        else: new_row.append(x)\n",
    "    return np.mean(new_row)"
   ]
  },
  {
   "cell_type": "code",
   "execution_count": 145,
   "metadata": {},
   "outputs": [],
   "source": [
    "precipitation['mean_without_nan'] = precipitation['precip'].apply(mean_without_nan)"
   ]
  },
  {
   "cell_type": "code",
   "execution_count": 146,
   "metadata": {},
   "outputs": [
    {
     "data": {
      "text/html": [
       "<div>\n",
       "<style scoped>\n",
       "    .dataframe tbody tr th:only-of-type {\n",
       "        vertical-align: middle;\n",
       "    }\n",
       "\n",
       "    .dataframe tbody tr th {\n",
       "        vertical-align: top;\n",
       "    }\n",
       "\n",
       "    .dataframe thead th {\n",
       "        text-align: right;\n",
       "    }\n",
       "</style>\n",
       "<table border=\"1\" class=\"dataframe\">\n",
       "  <thead>\n",
       "    <tr style=\"text-align: right;\">\n",
       "      <th></th>\n",
       "      <th>precip</th>\n",
       "      <th>nan_precip</th>\n",
       "      <th>mean_without_nan</th>\n",
       "    </tr>\n",
       "  </thead>\n",
       "  <tbody>\n",
       "    <tr>\n",
       "      <th>1</th>\n",
       "      <td>[0.102, 0.0, 0.0, 0.0, 0.0, 0.0, 0.0, 0.034, 0...</td>\n",
       "      <td>0</td>\n",
       "      <td>0.007025</td>\n",
       "    </tr>\n",
       "    <tr>\n",
       "      <th>2</th>\n",
       "      <td>[0.0, 0.0, 0.0, 0.102, 0.136, 0.0, 0.0, 2.16, ...</td>\n",
       "      <td>1</td>\n",
       "      <td>0.151767</td>\n",
       "    </tr>\n",
       "    <tr>\n",
       "      <th>3</th>\n",
       "      <td>[0.0, 0.0, 0.0, 0.0, 0.0, 0.0, 0.0, 0.0, 7.77,...</td>\n",
       "      <td>0</td>\n",
       "      <td>1.127273</td>\n",
       "    </tr>\n",
       "    <tr>\n",
       "      <th>5</th>\n",
       "      <td>[0.0, 0.0, 0.0, 0.0, 0.0, 0.0, 0.0, 0.0, 0.0, ...</td>\n",
       "      <td>0</td>\n",
       "      <td>0.572736</td>\n",
       "    </tr>\n",
       "    <tr>\n",
       "      <th>6</th>\n",
       "      <td>[0.0, 0.0, 0.0, 0.0, 0.0, 0.0, 0.0, 0.0, 0.0, ...</td>\n",
       "      <td>0</td>\n",
       "      <td>0.057628</td>\n",
       "    </tr>\n",
       "  </tbody>\n",
       "</table>\n",
       "</div>"
      ],
      "text/plain": [
       "                                              precip  nan_precip  \\\n",
       "1  [0.102, 0.0, 0.0, 0.0, 0.0, 0.0, 0.0, 0.034, 0...           0   \n",
       "2  [0.0, 0.0, 0.0, 0.102, 0.136, 0.0, 0.0, 2.16, ...           1   \n",
       "3  [0.0, 0.0, 0.0, 0.0, 0.0, 0.0, 0.0, 0.0, 7.77,...           0   \n",
       "5  [0.0, 0.0, 0.0, 0.0, 0.0, 0.0, 0.0, 0.0, 0.0, ...           0   \n",
       "6  [0.0, 0.0, 0.0, 0.0, 0.0, 0.0, 0.0, 0.0, 0.0, ...           0   \n",
       "\n",
       "   mean_without_nan  \n",
       "1          0.007025  \n",
       "2          0.151767  \n",
       "3          1.127273  \n",
       "5          0.572736  \n",
       "6          0.057628  "
      ]
     },
     "execution_count": 146,
     "metadata": {},
     "output_type": "execute_result"
    }
   ],
   "source": [
    "precipitation.head()"
   ]
  },
  {
   "cell_type": "markdown",
   "metadata": {},
   "source": [
    "- how many observations contain nan values?"
   ]
  },
  {
   "cell_type": "code",
   "execution_count": 147,
   "metadata": {},
   "outputs": [
    {
     "name": "stdout",
     "output_type": "stream",
     "text": [
      "14.37% observations contains nan values\n"
     ]
    }
   ],
   "source": [
    "print ('{:.2%} observations contains nan values'.format( \n",
    "    precipitation[(precipitation['nan_precip'] != 0)].precip.count()/precipitation.shape[0]))"
   ]
  },
  {
   "cell_type": "markdown",
   "metadata": {},
   "source": [
    "distribution of the amount of nan values"
   ]
  },
  {
   "cell_type": "code",
   "execution_count": 148,
   "metadata": {},
   "outputs": [
    {
     "data": {
      "text/plain": [
       "<seaborn.axisgrid.FacetGrid at 0x2c90d7d60>"
      ]
     },
     "execution_count": 148,
     "metadata": {},
     "output_type": "execute_result"
    },
    {
     "data": {
      "image/png": "[encoded data removed]",
      "text/plain": [
       "<Figure size 360x360 with 1 Axes>"
      ]
     },
     "metadata": {
      "needs_background": "light"
     },
     "output_type": "display_data"
    }
   ],
   "source": [
    "from seaborn_qqplot import pplot\n",
    "sns.displot(precipitation, x = precipitation['nan_precip'], kind=\"ecdf\") "
   ]
  },
  {
   "cell_type": "markdown",
   "metadata": {},
   "source": [
    "intensive look into the observations without nan values"
   ]
  },
  {
   "cell_type": "code",
   "execution_count": 149,
   "metadata": {},
   "outputs": [
    {
     "data": {
      "image/png": "[encoded data removed]",
      "text/plain": [
       "<Figure size 432x288 with 1 Axes>"
      ]
     },
     "metadata": {
      "needs_background": "light"
     },
     "output_type": "display_data"
    }
   ],
   "source": [
    "for observ in precipitation[(precipitation['nan_precip'] == 0)].precip[:3]:\n",
    "    sns.lineplot(x=[i for i in range(len(observ))] ,y=observ)\n",
    "    sns.lineplot(x=[i for i in range(len(observ))] ,y=np.mean(observ))\n",
    "    "
   ]
  },
  {
   "cell_type": "markdown",
   "metadata": {},
   "source": [
    "the mean value leaveras to much the observation\n",
    "all observations has to be taken into account"
   ]
  },
  {
   "cell_type": "code",
   "execution_count": 150,
   "metadata": {},
   "outputs": [
    {
     "data": {
      "image/png": "[encoded data removed]",
      "text/plain": [
       "<Figure size 432x288 with 1 Axes>"
      ]
     },
     "metadata": {
      "needs_background": "light"
     },
     "output_type": "display_data"
    }
   ],
   "source": [
    "for observ in precipitation[(precipitation['nan_precip'] > 40)].precip[:3]:\n",
    "    sns.lineplot(x=[i for i in range(len(observ))] ,y=observ)\n",
    "    sns.lineplot(x=[i for i in range(len(observ))] ,y=np.mean(observ))"
   ]
  },
  {
   "cell_type": "markdown",
   "metadata": {},
   "source": [
    "nan values can be taken as mean"
   ]
  },
  {
   "cell_type": "markdown",
   "metadata": {},
   "source": [
    "for data preprocessing precipitation: \n",
    "- changing nan values to the mean precipitation for each observation"
   ]
  },
  {
   "cell_type": "code",
   "execution_count": 151,
   "metadata": {},
   "outputs": [],
   "source": [
    "def fill_nan_in_row(row):\n",
    "    # calculate the mean ignoring nan values\n",
    "    mean = round(np.nanmean(row),2)\n",
    "    new_row = []\n",
    "    for x in row: \n",
    "        if np.isnan(x):\n",
    "            new_row.append(mean)\n",
    "        else: \n",
    "            new_row.append(x)\n",
    "    return new_row"
   ]
  },
  {
   "cell_type": "code",
   "execution_count": 152,
   "metadata": {},
   "outputs": [
    {
     "data": {
      "text/html": [
       "<div>\n",
       "<style scoped>\n",
       "    .dataframe tbody tr th:only-of-type {\n",
       "        vertical-align: middle;\n",
       "    }\n",
       "\n",
       "    .dataframe tbody tr th {\n",
       "        vertical-align: top;\n",
       "    }\n",
       "\n",
       "    .dataframe thead th {\n",
       "        text-align: right;\n",
       "    }\n",
       "</style>\n",
       "<table border=\"1\" class=\"dataframe\">\n",
       "  <thead>\n",
       "    <tr style=\"text-align: right;\">\n",
       "      <th></th>\n",
       "      <th>precip</th>\n",
       "      <th>nan_precip</th>\n",
       "      <th>mean_without_nan</th>\n",
       "      <th>precip_fill</th>\n",
       "    </tr>\n",
       "  </thead>\n",
       "  <tbody>\n",
       "    <tr>\n",
       "      <th>1</th>\n",
       "      <td>[0.102, 0.0, 0.0, 0.0, 0.0, 0.0, 0.0, 0.034, 0...</td>\n",
       "      <td>0</td>\n",
       "      <td>0.007025</td>\n",
       "      <td>[0.102, 0.0, 0.0, 0.0, 0.0, 0.0, 0.0, 0.034, 0...</td>\n",
       "    </tr>\n",
       "    <tr>\n",
       "      <th>2</th>\n",
       "      <td>[0.0, 0.0, 0.0, 0.102, 0.136, 0.0, 0.0, 2.16, ...</td>\n",
       "      <td>1</td>\n",
       "      <td>0.151767</td>\n",
       "      <td>[0.0, 0.0, 0.0, 0.102, 0.136, 0.0, 0.0, 2.16, ...</td>\n",
       "    </tr>\n",
       "    <tr>\n",
       "      <th>3</th>\n",
       "      <td>[0.0, 0.0, 0.0, 0.0, 0.0, 0.0, 0.0, 0.0, 7.77,...</td>\n",
       "      <td>0</td>\n",
       "      <td>1.127273</td>\n",
       "      <td>[0.0, 0.0, 0.0, 0.0, 0.0, 0.0, 0.0, 0.0, 7.77,...</td>\n",
       "    </tr>\n",
       "    <tr>\n",
       "      <th>5</th>\n",
       "      <td>[0.0, 0.0, 0.0, 0.0, 0.0, 0.0, 0.0, 0.0, 0.0, ...</td>\n",
       "      <td>0</td>\n",
       "      <td>0.572736</td>\n",
       "      <td>[0.0, 0.0, 0.0, 0.0, 0.0, 0.0, 0.0, 0.0, 0.0, ...</td>\n",
       "    </tr>\n",
       "    <tr>\n",
       "      <th>6</th>\n",
       "      <td>[0.0, 0.0, 0.0, 0.0, 0.0, 0.0, 0.0, 0.0, 0.0, ...</td>\n",
       "      <td>0</td>\n",
       "      <td>0.057628</td>\n",
       "      <td>[0.0, 0.0, 0.0, 0.0, 0.0, 0.0, 0.0, 0.0, 0.0, ...</td>\n",
       "    </tr>\n",
       "  </tbody>\n",
       "</table>\n",
       "</div>"
      ],
      "text/plain": [
       "                                              precip  nan_precip  \\\n",
       "1  [0.102, 0.0, 0.0, 0.0, 0.0, 0.0, 0.0, 0.034, 0...           0   \n",
       "2  [0.0, 0.0, 0.0, 0.102, 0.136, 0.0, 0.0, 2.16, ...           1   \n",
       "3  [0.0, 0.0, 0.0, 0.0, 0.0, 0.0, 0.0, 0.0, 7.77,...           0   \n",
       "5  [0.0, 0.0, 0.0, 0.0, 0.0, 0.0, 0.0, 0.0, 0.0, ...           0   \n",
       "6  [0.0, 0.0, 0.0, 0.0, 0.0, 0.0, 0.0, 0.0, 0.0, ...           0   \n",
       "\n",
       "   mean_without_nan                                        precip_fill  \n",
       "1          0.007025  [0.102, 0.0, 0.0, 0.0, 0.0, 0.0, 0.0, 0.034, 0...  \n",
       "2          0.151767  [0.0, 0.0, 0.0, 0.102, 0.136, 0.0, 0.0, 2.16, ...  \n",
       "3          1.127273  [0.0, 0.0, 0.0, 0.0, 0.0, 0.0, 0.0, 0.0, 7.77,...  \n",
       "5          0.572736  [0.0, 0.0, 0.0, 0.0, 0.0, 0.0, 0.0, 0.0, 0.0, ...  \n",
       "6          0.057628  [0.0, 0.0, 0.0, 0.0, 0.0, 0.0, 0.0, 0.0, 0.0, ...  "
      ]
     },
     "execution_count": 152,
     "metadata": {},
     "output_type": "execute_result"
    }
   ],
   "source": [
    "precipitation['precip_fill'] = precipitation['precip'].apply(fill_nan_in_row)\n",
    "precipitation.head()"
   ]
  },
  {
   "cell_type": "markdown",
   "metadata": {},
   "source": [
    "### Temperatur"
   ]
  },
  {
   "cell_type": "code",
   "execution_count": 153,
   "metadata": {},
   "outputs": [
    {
     "data": {
      "text/html": [
       "<div>\n",
       "<style scoped>\n",
       "    .dataframe tbody tr th:only-of-type {\n",
       "        vertical-align: middle;\n",
       "    }\n",
       "\n",
       "    .dataframe tbody tr th {\n",
       "        vertical-align: top;\n",
       "    }\n",
       "\n",
       "    .dataframe thead th {\n",
       "        text-align: right;\n",
       "    }\n",
       "</style>\n",
       "<table border=\"1\" class=\"dataframe\">\n",
       "  <thead>\n",
       "    <tr style=\"text-align: right;\">\n",
       "      <th></th>\n",
       "      <th>temp</th>\n",
       "      <th>nan_temp</th>\n",
       "    </tr>\n",
       "  </thead>\n",
       "  <tbody>\n",
       "    <tr>\n",
       "      <th>1</th>\n",
       "      <td>[22.53333333, 21.71666667, 20.83333333, 20.983...</td>\n",
       "      <td>0</td>\n",
       "    </tr>\n",
       "    <tr>\n",
       "      <th>2</th>\n",
       "      <td>[28.975, 27.95, 29.6, 26.425, 22.09166667, 21....</td>\n",
       "      <td>1</td>\n",
       "    </tr>\n",
       "    <tr>\n",
       "      <th>3</th>\n",
       "      <td>[22.96666667, 24.26666667, 25.275, 25.625, 25....</td>\n",
       "      <td>0</td>\n",
       "    </tr>\n",
       "    <tr>\n",
       "      <th>5</th>\n",
       "      <td>[26.225, 26.25, 26.95833333, 27.925, 28.416666...</td>\n",
       "      <td>0</td>\n",
       "    </tr>\n",
       "    <tr>\n",
       "      <th>6</th>\n",
       "      <td>[21.86666667, 21.38333333, 20.75, 20.74166667,...</td>\n",
       "      <td>0</td>\n",
       "    </tr>\n",
       "  </tbody>\n",
       "</table>\n",
       "</div>"
      ],
      "text/plain": [
       "                                                temp  nan_temp\n",
       "1  [22.53333333, 21.71666667, 20.83333333, 20.983...         0\n",
       "2  [28.975, 27.95, 29.6, 26.425, 22.09166667, 21....         1\n",
       "3  [22.96666667, 24.26666667, 25.275, 25.625, 25....         0\n",
       "5  [26.225, 26.25, 26.95833333, 27.925, 28.416666...         0\n",
       "6  [21.86666667, 21.38333333, 20.75, 20.74166667,...         0"
      ]
     },
     "execution_count": 153,
     "metadata": {},
     "output_type": "execute_result"
    }
   ],
   "source": [
    "temperatur = pd.DataFrame(data_process[['temp', 'nan_temp']])\n",
    "temperatur.head()"
   ]
  },
  {
   "cell_type": "code",
   "execution_count": 154,
   "metadata": {},
   "outputs": [
    {
     "name": "stdout",
     "output_type": "stream",
     "text": [
      "16.57% observations contains nan values\n"
     ]
    }
   ],
   "source": [
    "print ('{:.2%} observations contains nan values'.format( \n",
    "    temperatur[(temperatur['nan_temp'] != 0)].temp.count()/temperatur.shape[0]))"
   ]
  },
  {
   "cell_type": "markdown",
   "metadata": {},
   "source": [
    "- look into the distribution of the observation without nan values"
   ]
  },
  {
   "cell_type": "code",
   "execution_count": 155,
   "metadata": {},
   "outputs": [
    {
     "data": {
      "image/png": "[encoded data removed]",
      "text/plain": [
       "<Figure size 432x288 with 1 Axes>"
      ]
     },
     "metadata": {
      "needs_background": "light"
     },
     "output_type": "display_data"
    }
   ],
   "source": [
    "# have a look into the temp data\n",
    "\n",
    "for observ in temperatur[(temperatur['nan_temp'] == 0)].temp[:3]:\n",
    "    sns.lineplot(x=[i for i in range(len(observ))] ,y=observ)\n",
    "    sns.lineplot(x=[i for i in range(len(observ))] ,y=np.mean(observ))\n",
    "    \n",
    "\n",
    "    "
   ]
  },
  {
   "cell_type": "markdown",
   "metadata": {},
   "source": [
    "There are cycle trends in the temperatur features and \n",
    "the temperatur cycles are in different points "
   ]
  },
  {
   "cell_type": "code",
   "execution_count": 156,
   "metadata": {},
   "outputs": [
    {
     "data": {
      "image/png": "[encoded data removed]",
      "text/plain": [
       "<Figure size 432x288 with 1 Axes>"
      ]
     },
     "metadata": {
      "needs_background": "light"
     },
     "output_type": "display_data"
    }
   ],
   "source": [
    "for observ in temperatur[(temperatur['nan_temp'] != 0)].temp[:3]:\n",
    "    sns.lineplot(x=[i for i in range(len(observ))] ,y=observ)\n",
    "    sns.lineplot(x=[i for i in range(len(observ))] ,y=np.mean(observ))\n",
    "    \n",
    "    "
   ]
  },
  {
   "cell_type": "markdown",
   "metadata": {},
   "source": [
    "- for data preparation the reduction of the temperatur by doing maen average"
   ]
  },
  {
   "cell_type": "code",
   "execution_count": 157,
   "metadata": {},
   "outputs": [],
   "source": [
    "def mean(row):\n",
    "    return np.nanmean(row)\n",
    "    \n",
    "temperatur['temp_mean'] = temperatur['temp'].apply(mean)"
   ]
  },
  {
   "cell_type": "markdown",
   "metadata": {},
   "source": [
    "- rolling mean"
   ]
  },
  {
   "cell_type": "code",
   "execution_count": 158,
   "metadata": {},
   "outputs": [
    {
     "data": {
      "text/plain": [
       "[2, 17, 19]"
      ]
     },
     "execution_count": 158,
     "metadata": {},
     "output_type": "execute_result"
    }
   ],
   "source": [
    "t_roll = pd.DataFrame(temperatur[(temperatur['nan_temp'] != 0)].temp[:3])\n",
    "list(t_roll.index)"
   ]
  },
  {
   "cell_type": "code",
   "execution_count": 159,
   "metadata": {},
   "outputs": [],
   "source": [
    "# .interpolate()"
   ]
  },
  {
   "cell_type": "code",
   "execution_count": 160,
   "metadata": {},
   "outputs": [
    {
     "data": {
      "text/html": [
       "<div>\n",
       "<style scoped>\n",
       "    .dataframe tbody tr th:only-of-type {\n",
       "        vertical-align: middle;\n",
       "    }\n",
       "\n",
       "    .dataframe tbody tr th {\n",
       "        vertical-align: top;\n",
       "    }\n",
       "\n",
       "    .dataframe thead tr th {\n",
       "        text-align: left;\n",
       "    }\n",
       "</style>\n",
       "<table border=\"1\" class=\"dataframe\">\n",
       "  <thead>\n",
       "    <tr>\n",
       "      <th></th>\n",
       "      <th>2</th>\n",
       "      <th>17</th>\n",
       "    </tr>\n",
       "    <tr>\n",
       "      <th></th>\n",
       "      <th>0</th>\n",
       "      <th>0</th>\n",
       "    </tr>\n",
       "  </thead>\n",
       "  <tbody>\n",
       "    <tr>\n",
       "      <th>116</th>\n",
       "      <td>NaN</td>\n",
       "      <td>NaN</td>\n",
       "    </tr>\n",
       "    <tr>\n",
       "      <th>117</th>\n",
       "      <td>NaN</td>\n",
       "      <td>18.800000</td>\n",
       "    </tr>\n",
       "    <tr>\n",
       "      <th>118</th>\n",
       "      <td>NaN</td>\n",
       "      <td>18.383333</td>\n",
       "    </tr>\n",
       "    <tr>\n",
       "      <th>119</th>\n",
       "      <td>NaN</td>\n",
       "      <td>18.408333</td>\n",
       "    </tr>\n",
       "    <tr>\n",
       "      <th>120</th>\n",
       "      <td>NaN</td>\n",
       "      <td>18.441667</td>\n",
       "    </tr>\n",
       "  </tbody>\n",
       "</table>\n",
       "</div>"
      ],
      "text/plain": [
       "     2          17\n",
       "      0          0\n",
       "116 NaN        NaN\n",
       "117 NaN  18.800000\n",
       "118 NaN  18.383333\n",
       "119 NaN  18.408333\n",
       "120 NaN  18.441667"
      ]
     },
     "execution_count": 160,
     "metadata": {},
     "output_type": "execute_result"
    }
   ],
   "source": [
    "#for observ in temperatur[(temperatur['nan_temp'] != 0)].temp[:3]:\n",
    "obs = [pd.DataFrame(x) for x in temperatur[(temperatur['nan_temp'] != 0)].temp[1:3]]\n",
    "t = pd.concat(obs, axis = 1, keys=list(t_roll.index))\n",
    "t.tail()\n"
   ]
  },
  {
   "cell_type": "code",
   "execution_count": 161,
   "metadata": {},
   "outputs": [
    {
     "data": {
      "image/png": "[encoded data removed]",
      "text/plain": [
       "<Figure size 432x288 with 1 Axes>"
      ]
     },
     "metadata": {
      "needs_background": "light"
     },
     "output_type": "display_data"
    }
   ],
   "source": [
    "for col in t.columns:\n",
    "    sns.lineplot(y = t[col], x = range(0,len(t)))\n",
    "    sns.lineplot(x=[i for i in range(len(observ))] ,y=np.nanmean(t[col]))\n"
   ]
  },
  {
   "cell_type": "markdown",
   "metadata": {},
   "source": [
    "- filling with rolling mean"
   ]
  },
  {
   "cell_type": "code",
   "execution_count": 162,
   "metadata": {},
   "outputs": [
    {
     "name": "stdout",
     "output_type": "stream",
     "text": [
      "(2, 0)\n",
      "(17, 0)\n"
     ]
    },
    {
     "data": {
      "text/html": [
       "<div>\n",
       "<style scoped>\n",
       "    .dataframe tbody tr th:only-of-type {\n",
       "        vertical-align: middle;\n",
       "    }\n",
       "\n",
       "    .dataframe tbody tr th {\n",
       "        vertical-align: top;\n",
       "    }\n",
       "\n",
       "    .dataframe thead tr th {\n",
       "        text-align: left;\n",
       "    }\n",
       "</style>\n",
       "<table border=\"1\" class=\"dataframe\">\n",
       "  <thead>\n",
       "    <tr>\n",
       "      <th></th>\n",
       "      <th>2</th>\n",
       "      <th>17</th>\n",
       "    </tr>\n",
       "    <tr>\n",
       "      <th></th>\n",
       "      <th>0</th>\n",
       "      <th>0</th>\n",
       "    </tr>\n",
       "  </thead>\n",
       "  <tbody>\n",
       "    <tr>\n",
       "      <th>0</th>\n",
       "      <td>NaN</td>\n",
       "      <td>19.191667</td>\n",
       "    </tr>\n",
       "    <tr>\n",
       "      <th>1</th>\n",
       "      <td>NaN</td>\n",
       "      <td>19.183333</td>\n",
       "    </tr>\n",
       "    <tr>\n",
       "      <th>2</th>\n",
       "      <td>NaN</td>\n",
       "      <td>19.216667</td>\n",
       "    </tr>\n",
       "    <tr>\n",
       "      <th>3</th>\n",
       "      <td>NaN</td>\n",
       "      <td>19.016667</td>\n",
       "    </tr>\n",
       "    <tr>\n",
       "      <th>4</th>\n",
       "      <td>NaN</td>\n",
       "      <td>19.391667</td>\n",
       "    </tr>\n",
       "    <tr>\n",
       "      <th>...</th>\n",
       "      <td>...</td>\n",
       "      <td>...</td>\n",
       "    </tr>\n",
       "    <tr>\n",
       "      <th>116</th>\n",
       "      <td>NaN</td>\n",
       "      <td>NaN</td>\n",
       "    </tr>\n",
       "    <tr>\n",
       "      <th>117</th>\n",
       "      <td>NaN</td>\n",
       "      <td>18.800000</td>\n",
       "    </tr>\n",
       "    <tr>\n",
       "      <th>118</th>\n",
       "      <td>NaN</td>\n",
       "      <td>18.383333</td>\n",
       "    </tr>\n",
       "    <tr>\n",
       "      <th>119</th>\n",
       "      <td>NaN</td>\n",
       "      <td>18.408333</td>\n",
       "    </tr>\n",
       "    <tr>\n",
       "      <th>120</th>\n",
       "      <td>NaN</td>\n",
       "      <td>18.441667</td>\n",
       "    </tr>\n",
       "  </tbody>\n",
       "</table>\n",
       "<p>121 rows × 2 columns</p>\n",
       "</div>"
      ],
      "text/plain": [
       "     2          17\n",
       "      0          0\n",
       "0   NaN  19.191667\n",
       "1   NaN  19.183333\n",
       "2   NaN  19.216667\n",
       "3   NaN  19.016667\n",
       "4   NaN  19.391667\n",
       "..   ..        ...\n",
       "116 NaN        NaN\n",
       "117 NaN  18.800000\n",
       "118 NaN  18.383333\n",
       "119 NaN  18.408333\n",
       "120 NaN  18.441667\n",
       "\n",
       "[121 rows x 2 columns]"
      ]
     },
     "execution_count": 162,
     "metadata": {},
     "output_type": "execute_result"
    }
   ],
   "source": [
    "for col in t.columns:\n",
    "    print (col)\n",
    "    t[col].fillna(t[col].rolling(24).mean(), inplace=True)\n",
    "t"
   ]
  },
  {
   "cell_type": "code",
   "execution_count": 163,
   "metadata": {},
   "outputs": [
    {
     "data": {
      "image/png": "[encoded data removed]",
      "text/plain": [
       "<Figure size 432x288 with 1 Axes>"
      ]
     },
     "metadata": {
      "needs_background": "light"
     },
     "output_type": "display_data"
    }
   ],
   "source": [
    "#\n",
    "\n",
    "for col in t.columns:\n",
    "    sns.lineplot(y = t[col], x = range(0,len(t)))\n",
    "    sns.lineplot(x=[i for i in range(0, len(t))] ,y=np.nanmean(t[col]))"
   ]
  },
  {
   "cell_type": "code",
   "execution_count": 164,
   "metadata": {},
   "outputs": [
    {
     "data": {
      "text/html": [
       "<div>\n",
       "<style scoped>\n",
       "    .dataframe tbody tr th:only-of-type {\n",
       "        vertical-align: middle;\n",
       "    }\n",
       "\n",
       "    .dataframe tbody tr th {\n",
       "        vertical-align: top;\n",
       "    }\n",
       "\n",
       "    .dataframe thead tr th {\n",
       "        text-align: left;\n",
       "    }\n",
       "</style>\n",
       "<table border=\"1\" class=\"dataframe\">\n",
       "  <thead>\n",
       "    <tr>\n",
       "      <th></th>\n",
       "      <th>2</th>\n",
       "      <th>17</th>\n",
       "    </tr>\n",
       "    <tr>\n",
       "      <th></th>\n",
       "      <th>0</th>\n",
       "      <th>0</th>\n",
       "    </tr>\n",
       "  </thead>\n",
       "  <tbody>\n",
       "    <tr>\n",
       "      <th>116</th>\n",
       "      <td>NaN</td>\n",
       "      <td>NaN</td>\n",
       "    </tr>\n",
       "    <tr>\n",
       "      <th>117</th>\n",
       "      <td>NaN</td>\n",
       "      <td>18.800000</td>\n",
       "    </tr>\n",
       "    <tr>\n",
       "      <th>118</th>\n",
       "      <td>NaN</td>\n",
       "      <td>18.383333</td>\n",
       "    </tr>\n",
       "    <tr>\n",
       "      <th>119</th>\n",
       "      <td>NaN</td>\n",
       "      <td>18.408333</td>\n",
       "    </tr>\n",
       "    <tr>\n",
       "      <th>120</th>\n",
       "      <td>NaN</td>\n",
       "      <td>18.441667</td>\n",
       "    </tr>\n",
       "  </tbody>\n",
       "</table>\n",
       "</div>"
      ],
      "text/plain": [
       "     2          17\n",
       "      0          0\n",
       "116 NaN        NaN\n",
       "117 NaN  18.800000\n",
       "118 NaN  18.383333\n",
       "119 NaN  18.408333\n",
       "120 NaN  18.441667"
      ]
     },
     "execution_count": 164,
     "metadata": {},
     "output_type": "execute_result"
    }
   ],
   "source": [
    "t.tail()"
   ]
  },
  {
   "cell_type": "markdown",
   "metadata": {},
   "source": []
  },
  {
   "cell_type": "code",
   "execution_count": 165,
   "metadata": {},
   "outputs": [
    {
     "data": {
      "text/plain": [
       "<AxesSubplot:xlabel='temp_mean', ylabel='Count'>"
      ]
     },
     "execution_count": 165,
     "metadata": {},
     "output_type": "execute_result"
    },
    {
     "data": {
      "image/png": "[encoded data removed]",
      "text/plain": [
       "<Figure size 432x288 with 1 Axes>"
      ]
     },
     "metadata": {
      "needs_background": "light"
     },
     "output_type": "display_data"
    }
   ],
   "source": [
    "sns.histplot(temperatur.temp_mean)"
   ]
  },
  {
   "cell_type": "code",
   "execution_count": 166,
   "metadata": {},
   "outputs": [
    {
     "data": {
      "text/plain": [
       "(0, 3)"
      ]
     },
     "execution_count": 166,
     "metadata": {},
     "output_type": "execute_result"
    }
   ],
   "source": [
    "temperatur[(temperatur['temp_mean']<19)].shape"
   ]
  },
  {
   "cell_type": "markdown",
   "metadata": {},
   "source": [
    "- outliers?\n",
    "have a look into the  mean temperatur lower than 20  ~61 observations\n",
    "lower than 19 ~43 observation\n",
    "   -> maybe remove them"
   ]
  },
  {
   "cell_type": "code",
   "execution_count": 167,
   "metadata": {},
   "outputs": [],
   "source": [
    "temperatur[(temperatur['temp_mean']<20)]\n",
    "\n",
    "for observ in temperatur[(temperatur['temp_mean']<19)].temp:\n",
    "    sns.lineplot(x=[i for i in range(len(observ))] ,y=observ)\n",
    "    #sns.lineplot(x=[i for i in range(len(observ))] ,y=np.nanmean(observ))"
   ]
  },
  {
   "cell_type": "markdown",
   "metadata": {},
   "source": [
    "this observation seems to be related."
   ]
  },
  {
   "cell_type": "markdown",
   "metadata": {},
   "source": [
    "- for data preparation the reduction of the temperatur by doing maen average\n",
    "- or reduction for temperatur for day"
   ]
  },
  {
   "cell_type": "markdown",
   "metadata": {},
   "source": [
    "### relative humidity"
   ]
  },
  {
   "cell_type": "code",
   "execution_count": 168,
   "metadata": {},
   "outputs": [],
   "source": [
    "humidity = pd.DataFrame(train.rel_humidity)\n"
   ]
  },
  {
   "cell_type": "code",
   "execution_count": 169,
   "metadata": {},
   "outputs": [
    {
     "data": {
      "text/html": [
       "<div>\n",
       "<style scoped>\n",
       "    .dataframe tbody tr th:only-of-type {\n",
       "        vertical-align: middle;\n",
       "    }\n",
       "\n",
       "    .dataframe tbody tr th {\n",
       "        vertical-align: top;\n",
       "    }\n",
       "\n",
       "    .dataframe thead th {\n",
       "        text-align: right;\n",
       "    }\n",
       "</style>\n",
       "<table border=\"1\" class=\"dataframe\">\n",
       "  <thead>\n",
       "    <tr style=\"text-align: right;\">\n",
       "      <th></th>\n",
       "      <th>rel_humidity</th>\n",
       "      <th>count_nan</th>\n",
       "    </tr>\n",
       "  </thead>\n",
       "  <tbody>\n",
       "    <tr>\n",
       "      <th>0</th>\n",
       "      <td>[nan, nan, nan, nan, nan, nan, nan, nan, nan, ...</td>\n",
       "      <td>105</td>\n",
       "    </tr>\n",
       "    <tr>\n",
       "      <th>1</th>\n",
       "      <td>[0.744583333, 0.808083333, 0.911166667, 0.9163...</td>\n",
       "      <td>0</td>\n",
       "    </tr>\n",
       "    <tr>\n",
       "      <th>2</th>\n",
       "      <td>[0.573333333, 0.597166667, 0.5668333329999999,...</td>\n",
       "      <td>1</td>\n",
       "    </tr>\n",
       "    <tr>\n",
       "      <th>3</th>\n",
       "      <td>[0.8430833329999999, 0.79025, 0.7375, 0.728, 0...</td>\n",
       "      <td>0</td>\n",
       "    </tr>\n",
       "    <tr>\n",
       "      <th>4</th>\n",
       "      <td>[0.8564166670000001, 0.874916667, 0.879833333,...</td>\n",
       "      <td>91</td>\n",
       "    </tr>\n",
       "  </tbody>\n",
       "</table>\n",
       "</div>"
      ],
      "text/plain": [
       "                                        rel_humidity  count_nan\n",
       "0  [nan, nan, nan, nan, nan, nan, nan, nan, nan, ...        105\n",
       "1  [0.744583333, 0.808083333, 0.911166667, 0.9163...          0\n",
       "2  [0.573333333, 0.597166667, 0.5668333329999999,...          1\n",
       "3  [0.8430833329999999, 0.79025, 0.7375, 0.728, 0...          0\n",
       "4  [0.8564166670000001, 0.874916667, 0.879833333,...         91"
      ]
     },
     "execution_count": 169,
     "metadata": {},
     "output_type": "execute_result"
    }
   ],
   "source": [
    "# count nan values in each row\n",
    "def count_nan(row):\n",
    "    counter = 0\n",
    "    for x in row:\n",
    "        if np.isnan(x):\n",
    "            counter += 1\n",
    "    return counter \n",
    "\n",
    "humidity['count_nan'] = round(humidity['rel_humidity'].apply(count_nan))\n",
    "humidity.head()\n",
    "        "
   ]
  },
  {
   "cell_type": "code",
   "execution_count": 170,
   "metadata": {},
   "outputs": [
    {
     "data": {
      "text/plain": [
       "1    [0.744583333, 0.808083333, 0.911166667, 0.9163...\n",
       "3    [0.8430833329999999, 0.79025, 0.7375, 0.728, 0...\n",
       "5    [0.7566666670000001, 0.7090833329999999, 0.632...\n",
       "Name: rel_humidity, dtype: object"
      ]
     },
     "execution_count": 170,
     "metadata": {},
     "output_type": "execute_result"
    }
   ],
   "source": [
    "# look into data\n",
    "\n",
    "humidity_wo_nan = humidity[(humidity['count_nan']== 0)]\n",
    "humidity_wo_nan.rel_humidity[:3]\n"
   ]
  },
  {
   "cell_type": "code",
   "execution_count": 171,
   "metadata": {},
   "outputs": [
    {
     "data": {
      "image/png": "[encoded data removed]",
      "text/plain": [
       "<Figure size 432x288 with 1 Axes>"
      ]
     },
     "metadata": {
      "needs_background": "light"
     },
     "output_type": "display_data"
    }
   ],
   "source": [
    "\n",
    "for observ in humidity[(humidity['count_nan']== 0)].rel_humidity[2:5]:\n",
    "    sns.lineplot(x=[i for i in range(len(observ))] ,y=observ)\n",
    "    sns.lineplot(x=[i for i in range(len(observ))] ,y=np.nanmean(observ))"
   ]
  },
  {
   "cell_type": "code",
   "execution_count": 172,
   "metadata": {},
   "outputs": [
    {
     "data": {
      "image/png": "[encoded data removed]",
      "text/plain": [
       "<Figure size 432x288 with 1 Axes>"
      ]
     },
     "metadata": {
      "needs_background": "light"
     },
     "output_type": "display_data"
    }
   ],
   "source": [
    "\n",
    "for observ in humidity[(humidity['count_nan']> 50)&(humidity['count_nan']< 60)].rel_humidity[2:4]:\n",
    "    sns.lineplot(x=[i for i in range(len(observ))] ,y=observ)\n",
    "    sns.lineplot(x=[i for i in range(len(observ))] ,y=np.nanmean(observ))"
   ]
  },
  {
   "cell_type": "markdown",
   "metadata": {},
   "source": [
    "- rolling mean"
   ]
  },
  {
   "cell_type": "code",
   "execution_count": 173,
   "metadata": {},
   "outputs": [
    {
     "data": {
      "text/html": [
       "<div>\n",
       "<style scoped>\n",
       "    .dataframe tbody tr th:only-of-type {\n",
       "        vertical-align: middle;\n",
       "    }\n",
       "\n",
       "    .dataframe tbody tr th {\n",
       "        vertical-align: top;\n",
       "    }\n",
       "\n",
       "    .dataframe thead th {\n",
       "        text-align: right;\n",
       "    }\n",
       "</style>\n",
       "<table border=\"1\" class=\"dataframe\">\n",
       "  <thead>\n",
       "    <tr style=\"text-align: right;\">\n",
       "      <th></th>\n",
       "      <th>rel_humidity</th>\n",
       "      <th>count_nan</th>\n",
       "    </tr>\n",
       "  </thead>\n",
       "  <tbody>\n",
       "    <tr>\n",
       "      <th>0</th>\n",
       "      <td>[nan, nan, nan, nan, nan, nan, nan, nan, nan, ...</td>\n",
       "      <td>105</td>\n",
       "    </tr>\n",
       "    <tr>\n",
       "      <th>1</th>\n",
       "      <td>[0.744583333, 0.808083333, 0.911166667, 0.9163...</td>\n",
       "      <td>0</td>\n",
       "    </tr>\n",
       "    <tr>\n",
       "      <th>2</th>\n",
       "      <td>[0.573333333, 0.597166667, 0.5668333329999999,...</td>\n",
       "      <td>1</td>\n",
       "    </tr>\n",
       "    <tr>\n",
       "      <th>3</th>\n",
       "      <td>[0.8430833329999999, 0.79025, 0.7375, 0.728, 0...</td>\n",
       "      <td>0</td>\n",
       "    </tr>\n",
       "    <tr>\n",
       "      <th>4</th>\n",
       "      <td>[0.8564166670000001, 0.874916667, 0.879833333,...</td>\n",
       "      <td>91</td>\n",
       "    </tr>\n",
       "  </tbody>\n",
       "</table>\n",
       "</div>"
      ],
      "text/plain": [
       "                                        rel_humidity  count_nan\n",
       "0  [nan, nan, nan, nan, nan, nan, nan, nan, nan, ...        105\n",
       "1  [0.744583333, 0.808083333, 0.911166667, 0.9163...          0\n",
       "2  [0.573333333, 0.597166667, 0.5668333329999999,...          1\n",
       "3  [0.8430833329999999, 0.79025, 0.7375, 0.728, 0...          0\n",
       "4  [0.8564166670000001, 0.874916667, 0.879833333,...         91"
      ]
     },
     "execution_count": 173,
     "metadata": {},
     "output_type": "execute_result"
    }
   ],
   "source": [
    "humidity.head()"
   ]
  },
  {
   "cell_type": "code",
   "execution_count": 174,
   "metadata": {},
   "outputs": [
    {
     "data": {
      "text/plain": [
       "list"
      ]
     },
     "execution_count": 174,
     "metadata": {},
     "output_type": "execute_result"
    }
   ],
   "source": [
    "type(humidity.rel_humidity[0])"
   ]
  },
  {
   "cell_type": "code",
   "execution_count": 175,
   "metadata": {},
   "outputs": [],
   "source": [
    "def rolling(row):\n",
    "    new_row = pd.Series(row)\n",
    "    new_row.fillna(new_row.rolling(24).mean(), inplace=True)\n",
    "    return new_row.to_list()\n",
    "\n"
   ]
  },
  {
   "cell_type": "code",
   "execution_count": 176,
   "metadata": {},
   "outputs": [],
   "source": [
    "humidity['hum_wo_nan'] = humidity['rel_humidity'].apply(rolling)"
   ]
  },
  {
   "cell_type": "markdown",
   "metadata": {},
   "source": [
    "### wind direction"
   ]
  },
  {
   "cell_type": "code",
   "execution_count": 177,
   "metadata": {},
   "outputs": [],
   "source": [
    "wind = pd.DataFrame(train.wind_dir)\n",
    "\n"
   ]
  },
  {
   "cell_type": "code",
   "execution_count": 178,
   "metadata": {},
   "outputs": [],
   "source": [
    "wind['count_nan'] = round(wind['wind_dir'].apply(count_nan))"
   ]
  },
  {
   "cell_type": "code",
   "execution_count": 179,
   "metadata": {},
   "outputs": [
    {
     "data": {
      "text/html": [
       "<div>\n",
       "<style scoped>\n",
       "    .dataframe tbody tr th:only-of-type {\n",
       "        vertical-align: middle;\n",
       "    }\n",
       "\n",
       "    .dataframe tbody tr th {\n",
       "        vertical-align: top;\n",
       "    }\n",
       "\n",
       "    .dataframe thead th {\n",
       "        text-align: right;\n",
       "    }\n",
       "</style>\n",
       "<table border=\"1\" class=\"dataframe\">\n",
       "  <thead>\n",
       "    <tr style=\"text-align: right;\">\n",
       "      <th></th>\n",
       "      <th>wind_dir</th>\n",
       "      <th>count_nan</th>\n",
       "    </tr>\n",
       "  </thead>\n",
       "  <tbody>\n",
       "    <tr>\n",
       "      <th>0</th>\n",
       "      <td>[nan, nan, nan, nan, nan, nan, nan, nan, nan, ...</td>\n",
       "      <td>105</td>\n",
       "    </tr>\n",
       "    <tr>\n",
       "      <th>1</th>\n",
       "      <td>[281.6643101, 89.15629262, 81.96853891, 291.01...</td>\n",
       "      <td>0</td>\n",
       "    </tr>\n",
       "    <tr>\n",
       "      <th>2</th>\n",
       "      <td>[nan, nan, nan, nan, nan, nan, nan, nan, nan, ...</td>\n",
       "      <td>46</td>\n",
       "    </tr>\n",
       "    <tr>\n",
       "      <th>3</th>\n",
       "      <td>[300.0850574, 293.6769595, 294.5174647, 301.92...</td>\n",
       "      <td>51</td>\n",
       "    </tr>\n",
       "    <tr>\n",
       "      <th>4</th>\n",
       "      <td>[21.83997432, 17.05405341, 89.26406044, 123.58...</td>\n",
       "      <td>91</td>\n",
       "    </tr>\n",
       "  </tbody>\n",
       "</table>\n",
       "</div>"
      ],
      "text/plain": [
       "                                            wind_dir  count_nan\n",
       "0  [nan, nan, nan, nan, nan, nan, nan, nan, nan, ...        105\n",
       "1  [281.6643101, 89.15629262, 81.96853891, 291.01...          0\n",
       "2  [nan, nan, nan, nan, nan, nan, nan, nan, nan, ...         46\n",
       "3  [300.0850574, 293.6769595, 294.5174647, 301.92...         51\n",
       "4  [21.83997432, 17.05405341, 89.26406044, 123.58...         91"
      ]
     },
     "execution_count": 179,
     "metadata": {},
     "output_type": "execute_result"
    }
   ],
   "source": [
    "wind.head()"
   ]
  },
  {
   "cell_type": "markdown",
   "metadata": {},
   "source": [
    "look into data without nan values"
   ]
  },
  {
   "cell_type": "code",
   "execution_count": 180,
   "metadata": {},
   "outputs": [
    {
     "data": {
      "image/png": "[encoded data removed]",
      "text/plain": [
       "<Figure size 432x288 with 1 Axes>"
      ]
     },
     "metadata": {
      "needs_background": "light"
     },
     "output_type": "display_data"
    }
   ],
   "source": [
    "for observ in wind[(wind['count_nan'] ==0 )].wind_dir[:2]:\n",
    "    sns.lineplot(x=[i for i in range(len(observ))] ,y=observ)"
   ]
  },
  {
   "cell_type": "code",
   "execution_count": 181,
   "metadata": {},
   "outputs": [
    {
     "data": {
      "image/png": "[encoded data removed]",
      "text/plain": [
       "<Figure size 432x288 with 1 Axes>"
      ]
     },
     "metadata": {
      "needs_background": "light"
     },
     "output_type": "display_data"
    }
   ],
   "source": [
    "for observ in wind[(wind['count_nan'] !=0 )].wind_dir[:2]:\n",
    "    sns.lineplot(x=[i for i in range(len(observ))] ,y=observ)"
   ]
  },
  {
   "cell_type": "code",
   "execution_count": 182,
   "metadata": {},
   "outputs": [],
   "source": [
    "def convert_vector(row):\n",
    "    new_row = []\n",
    "    rad = []\n",
    "    for x in row: \n",
    "        rad.append(x*np.pi/180)\n",
    "    \n",
    "    for r in rad: \n",
    "        wx = round(np.cos(r),2)\n",
    "        wy = round(np.sin(r),2)\n",
    "        new_row.append([wx,wy])\n",
    "    return new_row\n",
    "    "
   ]
  },
  {
   "cell_type": "code",
   "execution_count": 183,
   "metadata": {},
   "outputs": [],
   "source": [
    "wind['vec'] = wind.wind_dir.apply(convert_vector)"
   ]
  },
  {
   "cell_type": "code",
   "execution_count": 184,
   "metadata": {},
   "outputs": [
    {
     "data": {
      "text/html": [
       "<div>\n",
       "<style scoped>\n",
       "    .dataframe tbody tr th:only-of-type {\n",
       "        vertical-align: middle;\n",
       "    }\n",
       "\n",
       "    .dataframe tbody tr th {\n",
       "        vertical-align: top;\n",
       "    }\n",
       "\n",
       "    .dataframe thead th {\n",
       "        text-align: right;\n",
       "    }\n",
       "</style>\n",
       "<table border=\"1\" class=\"dataframe\">\n",
       "  <thead>\n",
       "    <tr style=\"text-align: right;\">\n",
       "      <th></th>\n",
       "      <th>wind_dir</th>\n",
       "      <th>count_nan</th>\n",
       "      <th>vec</th>\n",
       "    </tr>\n",
       "  </thead>\n",
       "  <tbody>\n",
       "    <tr>\n",
       "      <th>0</th>\n",
       "      <td>[nan, nan, nan, nan, nan, nan, nan, nan, nan, ...</td>\n",
       "      <td>105</td>\n",
       "      <td>[[nan, nan], [nan, nan], [nan, nan], [nan, nan...</td>\n",
       "    </tr>\n",
       "    <tr>\n",
       "      <th>1</th>\n",
       "      <td>[281.6643101, 89.15629262, 81.96853891, 291.01...</td>\n",
       "      <td>0</td>\n",
       "      <td>[[0.2, -0.98], [0.01, 1.0], [0.14, 0.99], [0.3...</td>\n",
       "    </tr>\n",
       "    <tr>\n",
       "      <th>2</th>\n",
       "      <td>[nan, nan, nan, nan, nan, nan, nan, nan, nan, ...</td>\n",
       "      <td>46</td>\n",
       "      <td>[[nan, nan], [nan, nan], [nan, nan], [nan, nan...</td>\n",
       "    </tr>\n",
       "    <tr>\n",
       "      <th>3</th>\n",
       "      <td>[300.0850574, 293.6769595, 294.5174647, 301.92...</td>\n",
       "      <td>51</td>\n",
       "      <td>[[0.5, -0.87], [0.4, -0.92], [0.41, -0.91], [0...</td>\n",
       "    </tr>\n",
       "    <tr>\n",
       "      <th>4</th>\n",
       "      <td>[21.83997432, 17.05405341, 89.26406044, 123.58...</td>\n",
       "      <td>91</td>\n",
       "      <td>[[0.93, 0.37], [0.96, 0.29], [0.01, 1.0], [-0....</td>\n",
       "    </tr>\n",
       "  </tbody>\n",
       "</table>\n",
       "</div>"
      ],
      "text/plain": [
       "                                            wind_dir  count_nan  \\\n",
       "0  [nan, nan, nan, nan, nan, nan, nan, nan, nan, ...        105   \n",
       "1  [281.6643101, 89.15629262, 81.96853891, 291.01...          0   \n",
       "2  [nan, nan, nan, nan, nan, nan, nan, nan, nan, ...         46   \n",
       "3  [300.0850574, 293.6769595, 294.5174647, 301.92...         51   \n",
       "4  [21.83997432, 17.05405341, 89.26406044, 123.58...         91   \n",
       "\n",
       "                                                 vec  \n",
       "0  [[nan, nan], [nan, nan], [nan, nan], [nan, nan...  \n",
       "1  [[0.2, -0.98], [0.01, 1.0], [0.14, 0.99], [0.3...  \n",
       "2  [[nan, nan], [nan, nan], [nan, nan], [nan, nan...  \n",
       "3  [[0.5, -0.87], [0.4, -0.92], [0.41, -0.91], [0...  \n",
       "4  [[0.93, 0.37], [0.96, 0.29], [0.01, 1.0], [-0....  "
      ]
     },
     "execution_count": 184,
     "metadata": {},
     "output_type": "execute_result"
    }
   ],
   "source": [
    "wind.head()"
   ]
  },
  {
   "cell_type": "markdown",
   "metadata": {},
   "source": [
    "for x in wind.vec[1][:3]:"
   ]
  },
  {
   "cell_type": "code",
   "execution_count": 185,
   "metadata": {},
   "outputs": [],
   "source": [
    "\n",
    "\n",
    "xs = [x[0] for x in wind.vec[1][:3]]"
   ]
  },
  {
   "cell_type": "code",
   "execution_count": 186,
   "metadata": {},
   "outputs": [
    {
     "data": {
      "image/png": "[encoded data removed]",
      "text/plain": [
       "<Figure size 432x288 with 1 Axes>"
      ]
     },
     "metadata": {
      "needs_background": "light"
     },
     "output_type": "display_data"
    }
   ],
   "source": [
    "for x in wind.vec[1][:3]:\n",
    "    if x[0] != np.nan:\n",
    "        sns.scatterplot(x=[x[0] for x in wind.vec[1][:10]],\n",
    "                 y=[x[1] for x in wind.vec[1][:10]])"
   ]
  },
  {
   "cell_type": "markdown",
   "metadata": {},
   "source": [
    "### target\n",
    "do we see trend?"
   ]
  },
  {
   "cell_type": "code",
   "execution_count": 187,
   "metadata": {},
   "outputs": [],
   "source": [
    "target = pd.DataFrame(train.target)"
   ]
  },
  {
   "cell_type": "code",
   "execution_count": 188,
   "metadata": {},
   "outputs": [
    {
     "data": {
      "text/plain": [
       "<AxesSubplot:ylabel='target'>"
      ]
     },
     "execution_count": 188,
     "metadata": {},
     "output_type": "execute_result"
    },
    {
     "data": {
      "image/png": "[encoded data removed]",
      "text/plain": [
       "<Figure size 1440x360 with 1 Axes>"
      ]
     },
     "metadata": {
      "needs_background": "light"
     },
     "output_type": "display_data"
    }
   ],
   "source": [
    "plt.figure(figsize= (20,5))\n",
    "sns.lineplot(x=target.index, y = target.target)"
   ]
  },
  {
   "cell_type": "markdown",
   "metadata": {},
   "source": [
    "- discover cycles"
   ]
  },
  {
   "cell_type": "code",
   "execution_count": 189,
   "metadata": {},
   "outputs": [],
   "source": [
    "# detrend series\n",
    "\n",
    "def diff_series(ts, interval=1):\n",
    "    \"\"\"\n",
    "    Differences a time series by a certain lag.\n",
    "    \n",
    "        Args:\n",
    "        ts: array of 1d time series\n",
    "        \n",
    "        Returns:\n",
    "        Differenced time series\n",
    "    \"\"\"\n",
    "    diff = ts[interval:] - ts[:-interval]\n",
    "    return diff\n",
    "\n",
    "\n",
    "y_diff = diff_series(target.values,24)"
   ]
  },
  {
   "cell_type": "code",
   "execution_count": 190,
   "metadata": {},
   "outputs": [],
   "source": [
    "def plot_ts(ts = None, ts_add = None, title ='Time Series', legend=['1']):\n",
    "    \"\"\"\n",
    "    Plots one or two time series in a single plot\n",
    "    \n",
    "        Args:\n",
    "        ts: 1d- or 2d-array of time series. Dimension\n",
    "            must be (n,) or (n,2)\n",
    "        title: Title for the time plot.\n",
    "        legend: list of legend names. If empty no legend.\n",
    "        \n",
    "        Returns:\n",
    "        matplotlib plot object\n",
    "    \"\"\"\n",
    "    plt.figure(figsize=(10, 4))\n",
    "    plt.plot(ts[:,], color='orange')\n",
    "    plt.grid(True,axis='y')\n",
    "    plt.title(title)\n",
    "    if ts_add is not None:\n",
    "        plt.plot(ts_add, color='blue')\n",
    "    if len(legend) > 0:\n",
    "        plt.legend(legend)\n",
    "    plt.show()"
   ]
  },
  {
   "cell_type": "code",
   "execution_count": 191,
   "metadata": {},
   "outputs": [
    {
     "data": {
      "image/png": "[encoded data removed]",
      "text/plain": [
       "<Figure size 720x288 with 1 Axes>"
      ]
     },
     "metadata": {
      "needs_background": "light"
     },
     "output_type": "display_data"
    }
   ],
   "source": [
    "# Detrend the series\n",
    "plot_ts(y_diff, title = '', legend=['1st Diff.'])"
   ]
  },
  {
   "cell_type": "code",
   "execution_count": 192,
   "metadata": {},
   "outputs": [
    {
     "data": {
      "text/plain": [
       "array([0.])"
      ]
     },
     "execution_count": 192,
     "metadata": {},
     "output_type": "execute_result"
    }
   ],
   "source": [
    "from scipy import signal\n",
    "\n",
    "# We use for the sampling frequency 1 as we want to\n",
    "# discover cycles over the original time steps.\n",
    "f, Pxx = signal.periodogram(y_diff, fs = 1, window='boxcar', scaling='spectrum')\n",
    "#plt.plot(f, Pxx, color = 'orange')\n",
    "#plt.title('Periodogram')\n",
    "#plt.show();\n",
    "f"
   ]
  },
  {
   "cell_type": "code",
   "execution_count": 193,
   "metadata": {},
   "outputs": [
    {
     "data": {
      "image/png": "[encoded data removed]",
      "text/plain": [
       "<Figure size 432x288 with 4 Axes>"
      ]
     },
     "metadata": {
      "needs_background": "light"
     },
     "output_type": "display_data"
    }
   ],
   "source": [
    "from statsmodels.tsa.seasonal import seasonal_decompose\n",
    "\n",
    "#Clutter-free version of the plot\n",
    "#1. Compute\n",
    "seas_decomp_yearly = seasonal_decompose(\n",
    "    x=target['target'][:200], \n",
    "    model='additive', \n",
    "    two_sided=True,\n",
    "    period= 24)\n",
    "\n",
    "#2. Plot\n",
    "\n",
    "fig= seas_decomp_yearly.plot()"
   ]
  },
  {
   "cell_type": "code",
   "execution_count": null,
   "metadata": {},
   "outputs": [],
   "source": []
  },
  {
   "cell_type": "markdown",
   "metadata": {},
   "source": [
    "- grid search for seasonality "
   ]
  },
  {
   "cell_type": "markdown",
   "metadata": {},
   "source": [
    "- how good is the data for the largest target values?"
   ]
  },
  {
   "cell_type": "code",
   "execution_count": 194,
   "metadata": {},
   "outputs": [
    {
     "data": {
      "text/html": [
       "<div>\n",
       "<style scoped>\n",
       "    .dataframe tbody tr th:only-of-type {\n",
       "        vertical-align: middle;\n",
       "    }\n",
       "\n",
       "    .dataframe tbody tr th {\n",
       "        vertical-align: top;\n",
       "    }\n",
       "\n",
       "    .dataframe thead th {\n",
       "        text-align: right;\n",
       "    }\n",
       "</style>\n",
       "<table border=\"1\" class=\"dataframe\">\n",
       "  <thead>\n",
       "    <tr style=\"text-align: right;\">\n",
       "      <th></th>\n",
       "      <th>ID</th>\n",
       "      <th>location</th>\n",
       "      <th>temp</th>\n",
       "      <th>precip</th>\n",
       "      <th>rel_humidity</th>\n",
       "      <th>wind_dir</th>\n",
       "      <th>wind_spd</th>\n",
       "      <th>atmos_press</th>\n",
       "      <th>target</th>\n",
       "      <th>nan_temp</th>\n",
       "      <th>nan_precip</th>\n",
       "      <th>nan_rel_humidity</th>\n",
       "      <th>nan_wind_dir</th>\n",
       "      <th>nan_wind_spd</th>\n",
       "      <th>nan_atmos_press</th>\n",
       "    </tr>\n",
       "  </thead>\n",
       "  <tbody>\n",
       "    <tr>\n",
       "      <th>813</th>\n",
       "      <td>ID_train_10729</td>\n",
       "      <td>C</td>\n",
       "      <td>[20.31666667, 20.44166667, 20.325, 20.01666667...</td>\n",
       "      <td>[0.0, 0.0, 0.0, 0.0, 0.0, 0.0, 0.0, 0.0, 0.0, ...</td>\n",
       "      <td>[0.88425, 0.859083333, 0.90475, 0.934166667, 0...</td>\n",
       "      <td>[175.4970919, 208.340072, 279.18336989999995, ...</td>\n",
       "      <td>[0.309166667, 0.308333333, 0.3775, 0.345833333...</td>\n",
       "      <td>[87.76166667, 87.72666667, 87.66583333, 87.617...</td>\n",
       "      <td>350.437917</td>\n",
       "      <td>0</td>\n",
       "      <td>0</td>\n",
       "      <td>1</td>\n",
       "      <td>0</td>\n",
       "      <td>0</td>\n",
       "      <td>0</td>\n",
       "    </tr>\n",
       "    <tr>\n",
       "      <th>1611</th>\n",
       "      <td>ID_train_11447</td>\n",
       "      <td>C</td>\n",
       "      <td>[22.73333333, 20.95833333, 17.78333333, 18.058...</td>\n",
       "      <td>[0.0, 0.629, 0.6459999999999999, 0.0, 0.017, 0...</td>\n",
       "      <td>[0.7095, 0.773833333, 0.896833333, 0.939333333...</td>\n",
       "      <td>[137.33288149999998, 25.73490787, 357.2235515,...</td>\n",
       "      <td>[0.3675, 0.990833333, 1.089166667, 0.370833333...</td>\n",
       "      <td>[87.7, 87.79583333, 87.81833333, 87.87833333, ...</td>\n",
       "      <td>366.063958</td>\n",
       "      <td>0</td>\n",
       "      <td>0</td>\n",
       "      <td>0</td>\n",
       "      <td>0</td>\n",
       "      <td>0</td>\n",
       "      <td>0</td>\n",
       "    </tr>\n",
       "    <tr>\n",
       "      <th>1657</th>\n",
       "      <td>ID_train_11489</td>\n",
       "      <td>C</td>\n",
       "      <td>[21.23333333, 21.05, 20.45833333, 20.39166667,...</td>\n",
       "      <td>[0.0, 0.0, 0.0, 0.0, 2.774, 12.919, 1.02, 1.19...</td>\n",
       "      <td>[0.901666667, 0.9225, 0.930833333, 0.955833333...</td>\n",
       "      <td>[167.8206971, 169.5665424, 145.1419528, 155.80...</td>\n",
       "      <td>[0.465, 0.3725, 0.36, 0.358333333, 0.4, 0.7375...</td>\n",
       "      <td>[87.84666667, 87.84416667, 87.84083333, 87.809...</td>\n",
       "      <td>370.530652</td>\n",
       "      <td>0</td>\n",
       "      <td>0</td>\n",
       "      <td>0</td>\n",
       "      <td>0</td>\n",
       "      <td>0</td>\n",
       "      <td>0</td>\n",
       "    </tr>\n",
       "    <tr>\n",
       "      <th>2083</th>\n",
       "      <td>ID_train_11872</td>\n",
       "      <td>A</td>\n",
       "      <td>[19.6, 19.56666667, 19.5, 19.15833333, 19.1583...</td>\n",
       "      <td>[0.119, 0.0, 0.017, 0.017, 0.017, 3.539, 1.224...</td>\n",
       "      <td>[0.996916667, 0.999583333, 0.999333333, 0.9992...</td>\n",
       "      <td>[nan, nan, nan, nan, nan, nan, nan, nan, nan, ...</td>\n",
       "      <td>[nan, nan, nan, nan, nan, nan, nan, nan, nan, ...</td>\n",
       "      <td>[88.24916667, 88.31583333, 88.36083333, 88.439...</td>\n",
       "      <td>447.340000</td>\n",
       "      <td>0</td>\n",
       "      <td>0</td>\n",
       "      <td>1</td>\n",
       "      <td>43</td>\n",
       "      <td>43</td>\n",
       "      <td>0</td>\n",
       "    </tr>\n",
       "    <tr>\n",
       "      <th>5660</th>\n",
       "      <td>ID_train_15091</td>\n",
       "      <td>C</td>\n",
       "      <td>[22.875, 22.4, 22.03333333, 21.65833333, 21.47...</td>\n",
       "      <td>[0.0, 0.0, 0.0, 0.0, 0.0, 0.0, 0.0, 0.0, 1.991...</td>\n",
       "      <td>[0.818333333, 0.869166667, 0.893333333, 0.9066...</td>\n",
       "      <td>[152.4033876, 153.8179515, 162.5017315, 157.26...</td>\n",
       "      <td>[0.583333333, 0.505833333, 0.5975, 0.465833333...</td>\n",
       "      <td>[87.69166667, 87.765, 87.85416667, 87.865, 87....</td>\n",
       "      <td>475.820000</td>\n",
       "      <td>0</td>\n",
       "      <td>0</td>\n",
       "      <td>0</td>\n",
       "      <td>22</td>\n",
       "      <td>22</td>\n",
       "      <td>0</td>\n",
       "    </tr>\n",
       "    <tr>\n",
       "      <th>6627</th>\n",
       "      <td>ID_train_1978</td>\n",
       "      <td>C</td>\n",
       "      <td>[nan, nan, nan, nan, nan, nan, nan, nan, nan, ...</td>\n",
       "      <td>[nan, nan, nan, nan, nan, nan, nan, nan, nan, ...</td>\n",
       "      <td>[nan, nan, nan, nan, nan, nan, nan, nan, nan, ...</td>\n",
       "      <td>[nan, nan, nan, nan, nan, nan, nan, nan, nan, ...</td>\n",
       "      <td>[nan, nan, nan, nan, nan, nan, nan, nan, nan, ...</td>\n",
       "      <td>[nan, nan, nan, nan, nan, nan, nan, nan, nan, ...</td>\n",
       "      <td>354.460208</td>\n",
       "      <td>19</td>\n",
       "      <td>19</td>\n",
       "      <td>19</td>\n",
       "      <td>19</td>\n",
       "      <td>19</td>\n",
       "      <td>19</td>\n",
       "    </tr>\n",
       "    <tr>\n",
       "      <th>7327</th>\n",
       "      <td>ID_train_2607</td>\n",
       "      <td>C</td>\n",
       "      <td>[22.03333333, 21.65833333, 21.475, 21.475, 21....</td>\n",
       "      <td>[0.0, 0.0, 0.0, 0.0, 0.0, 0.0, 1.991, 1.376999...</td>\n",
       "      <td>[0.893333333, 0.906666667, 0.926666667, 0.9283...</td>\n",
       "      <td>[162.5017315, 157.2675485, 167.2736821, 170.74...</td>\n",
       "      <td>[0.5975, 0.465833333, 0.6525, 0.80083333299999...</td>\n",
       "      <td>[87.85416667, 87.865, 87.85833333, 87.85416667...</td>\n",
       "      <td>371.130000</td>\n",
       "      <td>0</td>\n",
       "      <td>0</td>\n",
       "      <td>0</td>\n",
       "      <td>22</td>\n",
       "      <td>22</td>\n",
       "      <td>0</td>\n",
       "    </tr>\n",
       "    <tr>\n",
       "      <th>9349</th>\n",
       "      <td>ID_train_4427</td>\n",
       "      <td>C</td>\n",
       "      <td>[20.86666667, 20.79166667, 20.6, 20.50833333, ...</td>\n",
       "      <td>[0.0, 0.0, 0.0, 0.0, 0.0, 0.017, 0.0, 0.0, 0.0...</td>\n",
       "      <td>[0.900666667, 0.91575, 0.936, 0.941583333, 0.9...</td>\n",
       "      <td>[170.4978756, 172.2459429, 153.3469238, 142.78...</td>\n",
       "      <td>[0.8916666670000001, 0.9825, 0.495, 0.3875, 0....</td>\n",
       "      <td>[87.85666667, 87.88666667, 87.93083333, 87.930...</td>\n",
       "      <td>373.133542</td>\n",
       "      <td>0</td>\n",
       "      <td>0</td>\n",
       "      <td>0</td>\n",
       "      <td>0</td>\n",
       "      <td>0</td>\n",
       "      <td>0</td>\n",
       "    </tr>\n",
       "    <tr>\n",
       "      <th>9532</th>\n",
       "      <td>ID_train_4592</td>\n",
       "      <td>C</td>\n",
       "      <td>[21.25833333, 20.68333333, 20.25833333, 20.083...</td>\n",
       "      <td>[0.0, 0.0, 0.0, 0.0, 0.0, 0.0, 0.0, 0.0, 0.0, ...</td>\n",
       "      <td>[0.835, 0.8773333329999999, 0.895416667, 0.904...</td>\n",
       "      <td>[174.0836604, 176.0309589, 165.5548876, 173.07...</td>\n",
       "      <td>[0.781666667, 0.4241666670000001, 0.311666667,...</td>\n",
       "      <td>[87.8425, 87.88416667, 87.90333333, 87.9641666...</td>\n",
       "      <td>359.334091</td>\n",
       "      <td>0</td>\n",
       "      <td>0</td>\n",
       "      <td>0</td>\n",
       "      <td>0</td>\n",
       "      <td>0</td>\n",
       "      <td>0</td>\n",
       "    </tr>\n",
       "    <tr>\n",
       "      <th>10201</th>\n",
       "      <td>ID_train_5194</td>\n",
       "      <td>C</td>\n",
       "      <td>[21.14166667, 20.86666667, 20.79166667, 20.6, ...</td>\n",
       "      <td>[0.0, 0.0, 0.0, 0.0, 0.0, 0.0, 0.017, 0.0, 0.0...</td>\n",
       "      <td>[0.887083333, 0.900666667, 0.91575, 0.936, 0.9...</td>\n",
       "      <td>[170.9168624, 170.4978756, 172.2459429, 153.34...</td>\n",
       "      <td>[1.025833333, 0.8916666670000001, 0.9825, 0.49...</td>\n",
       "      <td>[87.83, 87.85666667, 87.88666667, 87.93083333,...</td>\n",
       "      <td>386.051020</td>\n",
       "      <td>0</td>\n",
       "      <td>0</td>\n",
       "      <td>0</td>\n",
       "      <td>0</td>\n",
       "      <td>0</td>\n",
       "      <td>0</td>\n",
       "    </tr>\n",
       "    <tr>\n",
       "      <th>10231</th>\n",
       "      <td>ID_train_5220</td>\n",
       "      <td>C</td>\n",
       "      <td>[20.5, 20.08333333, 19.76666667, 19.775, 20.05...</td>\n",
       "      <td>[0.0, 0.0, 0.0, 0.0, 0.0, 0.0, 0.0, 0.0, 0.0, ...</td>\n",
       "      <td>[0.905833333, 0.933333333, 0.943333333, 0.945,...</td>\n",
       "      <td>[164.58796840000005, 157.28211519999996, 170.8...</td>\n",
       "      <td>[0.7525, 0.390833333, 0.7516666670000001, 0.70...</td>\n",
       "      <td>[87.82916667, 87.895, 87.8975, 87.885, 87.8641...</td>\n",
       "      <td>395.952500</td>\n",
       "      <td>0</td>\n",
       "      <td>0</td>\n",
       "      <td>0</td>\n",
       "      <td>0</td>\n",
       "      <td>0</td>\n",
       "      <td>0</td>\n",
       "    </tr>\n",
       "    <tr>\n",
       "      <th>13594</th>\n",
       "      <td>ID_train_8248</td>\n",
       "      <td>A</td>\n",
       "      <td>[20.51666667, 22.83333333, 24.45, 25.41666667,...</td>\n",
       "      <td>[0.0, 0.0, 0.0, 0.0, 0.0, 0.0, 0.0, 0.0, 27.61...</td>\n",
       "      <td>[0.875583333, 0.81525, 0.7605, 0.72625, 0.6889...</td>\n",
       "      <td>[4.768104289, 322.80352410000006, 316.07748680...</td>\n",
       "      <td>[0.496666667, 0.801666667, 1.188333333, 1.6291...</td>\n",
       "      <td>[88.46083333, 88.50333333, 88.51583333, 88.505...</td>\n",
       "      <td>371.926809</td>\n",
       "      <td>0</td>\n",
       "      <td>0</td>\n",
       "      <td>0</td>\n",
       "      <td>20</td>\n",
       "      <td>20</td>\n",
       "      <td>0</td>\n",
       "    </tr>\n",
       "    <tr>\n",
       "      <th>15251</th>\n",
       "      <td>ID_train_974</td>\n",
       "      <td>A</td>\n",
       "      <td>[18.625, 20.175, 22.24166667, 23.325, 24.21666...</td>\n",
       "      <td>[0.0, 0.0, 0.0, 0.0, 0.0, 0.0, 0.0, 0.0, 0.0, ...</td>\n",
       "      <td>[0.999083333, 0.979, 0.914333333, 0.833916667,...</td>\n",
       "      <td>[nan, nan, nan, 325.022536, 328.7997501000001,...</td>\n",
       "      <td>[nan, nan, nan, 1.665, 1.8225, 2.235833333, 2....</td>\n",
       "      <td>[88.39166667, 88.45166667, 88.47833333, 88.450...</td>\n",
       "      <td>358.401087</td>\n",
       "      <td>0</td>\n",
       "      <td>0</td>\n",
       "      <td>0</td>\n",
       "      <td>24</td>\n",
       "      <td>24</td>\n",
       "      <td>0</td>\n",
       "    </tr>\n",
       "  </tbody>\n",
       "</table>\n",
       "</div>"
      ],
      "text/plain": [
       "                   ID location  \\\n",
       "813    ID_train_10729        C   \n",
       "1611   ID_train_11447        C   \n",
       "1657   ID_train_11489        C   \n",
       "2083   ID_train_11872        A   \n",
       "5660   ID_train_15091        C   \n",
       "6627    ID_train_1978        C   \n",
       "7327    ID_train_2607        C   \n",
       "9349    ID_train_4427        C   \n",
       "9532    ID_train_4592        C   \n",
       "10201   ID_train_5194        C   \n",
       "10231   ID_train_5220        C   \n",
       "13594   ID_train_8248        A   \n",
       "15251    ID_train_974        A   \n",
       "\n",
       "                                                    temp  \\\n",
       "813    [20.31666667, 20.44166667, 20.325, 20.01666667...   \n",
       "1611   [22.73333333, 20.95833333, 17.78333333, 18.058...   \n",
       "1657   [21.23333333, 21.05, 20.45833333, 20.39166667,...   \n",
       "2083   [19.6, 19.56666667, 19.5, 19.15833333, 19.1583...   \n",
       "5660   [22.875, 22.4, 22.03333333, 21.65833333, 21.47...   \n",
       "6627   [nan, nan, nan, nan, nan, nan, nan, nan, nan, ...   \n",
       "7327   [22.03333333, 21.65833333, 21.475, 21.475, 21....   \n",
       "9349   [20.86666667, 20.79166667, 20.6, 20.50833333, ...   \n",
       "9532   [21.25833333, 20.68333333, 20.25833333, 20.083...   \n",
       "10201  [21.14166667, 20.86666667, 20.79166667, 20.6, ...   \n",
       "10231  [20.5, 20.08333333, 19.76666667, 19.775, 20.05...   \n",
       "13594  [20.51666667, 22.83333333, 24.45, 25.41666667,...   \n",
       "15251  [18.625, 20.175, 22.24166667, 23.325, 24.21666...   \n",
       "\n",
       "                                                  precip  \\\n",
       "813    [0.0, 0.0, 0.0, 0.0, 0.0, 0.0, 0.0, 0.0, 0.0, ...   \n",
       "1611   [0.0, 0.629, 0.6459999999999999, 0.0, 0.017, 0...   \n",
       "1657   [0.0, 0.0, 0.0, 0.0, 2.774, 12.919, 1.02, 1.19...   \n",
       "2083   [0.119, 0.0, 0.017, 0.017, 0.017, 3.539, 1.224...   \n",
       "5660   [0.0, 0.0, 0.0, 0.0, 0.0, 0.0, 0.0, 0.0, 1.991...   \n",
       "6627   [nan, nan, nan, nan, nan, nan, nan, nan, nan, ...   \n",
       "7327   [0.0, 0.0, 0.0, 0.0, 0.0, 0.0, 1.991, 1.376999...   \n",
       "9349   [0.0, 0.0, 0.0, 0.0, 0.0, 0.017, 0.0, 0.0, 0.0...   \n",
       "9532   [0.0, 0.0, 0.0, 0.0, 0.0, 0.0, 0.0, 0.0, 0.0, ...   \n",
       "10201  [0.0, 0.0, 0.0, 0.0, 0.0, 0.0, 0.017, 0.0, 0.0...   \n",
       "10231  [0.0, 0.0, 0.0, 0.0, 0.0, 0.0, 0.0, 0.0, 0.0, ...   \n",
       "13594  [0.0, 0.0, 0.0, 0.0, 0.0, 0.0, 0.0, 0.0, 27.61...   \n",
       "15251  [0.0, 0.0, 0.0, 0.0, 0.0, 0.0, 0.0, 0.0, 0.0, ...   \n",
       "\n",
       "                                            rel_humidity  \\\n",
       "813    [0.88425, 0.859083333, 0.90475, 0.934166667, 0...   \n",
       "1611   [0.7095, 0.773833333, 0.896833333, 0.939333333...   \n",
       "1657   [0.901666667, 0.9225, 0.930833333, 0.955833333...   \n",
       "2083   [0.996916667, 0.999583333, 0.999333333, 0.9992...   \n",
       "5660   [0.818333333, 0.869166667, 0.893333333, 0.9066...   \n",
       "6627   [nan, nan, nan, nan, nan, nan, nan, nan, nan, ...   \n",
       "7327   [0.893333333, 0.906666667, 0.926666667, 0.9283...   \n",
       "9349   [0.900666667, 0.91575, 0.936, 0.941583333, 0.9...   \n",
       "9532   [0.835, 0.8773333329999999, 0.895416667, 0.904...   \n",
       "10201  [0.887083333, 0.900666667, 0.91575, 0.936, 0.9...   \n",
       "10231  [0.905833333, 0.933333333, 0.943333333, 0.945,...   \n",
       "13594  [0.875583333, 0.81525, 0.7605, 0.72625, 0.6889...   \n",
       "15251  [0.999083333, 0.979, 0.914333333, 0.833916667,...   \n",
       "\n",
       "                                                wind_dir  \\\n",
       "813    [175.4970919, 208.340072, 279.18336989999995, ...   \n",
       "1611   [137.33288149999998, 25.73490787, 357.2235515,...   \n",
       "1657   [167.8206971, 169.5665424, 145.1419528, 155.80...   \n",
       "2083   [nan, nan, nan, nan, nan, nan, nan, nan, nan, ...   \n",
       "5660   [152.4033876, 153.8179515, 162.5017315, 157.26...   \n",
       "6627   [nan, nan, nan, nan, nan, nan, nan, nan, nan, ...   \n",
       "7327   [162.5017315, 157.2675485, 167.2736821, 170.74...   \n",
       "9349   [170.4978756, 172.2459429, 153.3469238, 142.78...   \n",
       "9532   [174.0836604, 176.0309589, 165.5548876, 173.07...   \n",
       "10201  [170.9168624, 170.4978756, 172.2459429, 153.34...   \n",
       "10231  [164.58796840000005, 157.28211519999996, 170.8...   \n",
       "13594  [4.768104289, 322.80352410000006, 316.07748680...   \n",
       "15251  [nan, nan, nan, 325.022536, 328.7997501000001,...   \n",
       "\n",
       "                                                wind_spd  \\\n",
       "813    [0.309166667, 0.308333333, 0.3775, 0.345833333...   \n",
       "1611   [0.3675, 0.990833333, 1.089166667, 0.370833333...   \n",
       "1657   [0.465, 0.3725, 0.36, 0.358333333, 0.4, 0.7375...   \n",
       "2083   [nan, nan, nan, nan, nan, nan, nan, nan, nan, ...   \n",
       "5660   [0.583333333, 0.505833333, 0.5975, 0.465833333...   \n",
       "6627   [nan, nan, nan, nan, nan, nan, nan, nan, nan, ...   \n",
       "7327   [0.5975, 0.465833333, 0.6525, 0.80083333299999...   \n",
       "9349   [0.8916666670000001, 0.9825, 0.495, 0.3875, 0....   \n",
       "9532   [0.781666667, 0.4241666670000001, 0.311666667,...   \n",
       "10201  [1.025833333, 0.8916666670000001, 0.9825, 0.49...   \n",
       "10231  [0.7525, 0.390833333, 0.7516666670000001, 0.70...   \n",
       "13594  [0.496666667, 0.801666667, 1.188333333, 1.6291...   \n",
       "15251  [nan, nan, nan, 1.665, 1.8225, 2.235833333, 2....   \n",
       "\n",
       "                                             atmos_press      target  \\\n",
       "813    [87.76166667, 87.72666667, 87.66583333, 87.617...  350.437917   \n",
       "1611   [87.7, 87.79583333, 87.81833333, 87.87833333, ...  366.063958   \n",
       "1657   [87.84666667, 87.84416667, 87.84083333, 87.809...  370.530652   \n",
       "2083   [88.24916667, 88.31583333, 88.36083333, 88.439...  447.340000   \n",
       "5660   [87.69166667, 87.765, 87.85416667, 87.865, 87....  475.820000   \n",
       "6627   [nan, nan, nan, nan, nan, nan, nan, nan, nan, ...  354.460208   \n",
       "7327   [87.85416667, 87.865, 87.85833333, 87.85416667...  371.130000   \n",
       "9349   [87.85666667, 87.88666667, 87.93083333, 87.930...  373.133542   \n",
       "9532   [87.8425, 87.88416667, 87.90333333, 87.9641666...  359.334091   \n",
       "10201  [87.83, 87.85666667, 87.88666667, 87.93083333,...  386.051020   \n",
       "10231  [87.82916667, 87.895, 87.8975, 87.885, 87.8641...  395.952500   \n",
       "13594  [88.46083333, 88.50333333, 88.51583333, 88.505...  371.926809   \n",
       "15251  [88.39166667, 88.45166667, 88.47833333, 88.450...  358.401087   \n",
       "\n",
       "       nan_temp  nan_precip  nan_rel_humidity  nan_wind_dir  nan_wind_spd  \\\n",
       "813           0           0                 1             0             0   \n",
       "1611          0           0                 0             0             0   \n",
       "1657          0           0                 0             0             0   \n",
       "2083          0           0                 1            43            43   \n",
       "5660          0           0                 0            22            22   \n",
       "6627         19          19                19            19            19   \n",
       "7327          0           0                 0            22            22   \n",
       "9349          0           0                 0             0             0   \n",
       "9532          0           0                 0             0             0   \n",
       "10201         0           0                 0             0             0   \n",
       "10231         0           0                 0             0             0   \n",
       "13594         0           0                 0            20            20   \n",
       "15251         0           0                 0            24            24   \n",
       "\n",
       "       nan_atmos_press  \n",
       "813                  0  \n",
       "1611                 0  \n",
       "1657                 0  \n",
       "2083                 0  \n",
       "5660                 0  \n",
       "6627                19  \n",
       "7327                 0  \n",
       "9349                 0  \n",
       "9532                 0  \n",
       "10201                0  \n",
       "10231                0  \n",
       "13594                0  \n",
       "15251                0  "
      ]
     },
     "execution_count": 194,
     "metadata": {},
     "output_type": "execute_result"
    }
   ],
   "source": [
    "above_350 = train[(train['target']>350)]\n",
    "above_350"
   ]
  }
 ],
 "metadata": {
  "interpreter": {
   "hash": "d8f548114482b487876add26679caae41a2a9f4541ddf007921bd7bf3c60f478"
  },
  "kernelspec": {
   "display_name": "Python 3.9.4 ('.venv': venv)",
   "language": "python",
   "name": "python3"
  },
  "language_info": {
   "codemirror_mode": {
    "name": "ipython",
    "version": 3
   },
   "file_extension": ".py",
   "mimetype": "text/x-python",
   "name": "python",
   "nbconvert_exporter": "python",
   "pygments_lexer": "ipython3",
   "version": "3.9.4"
  },
  "orig_nbformat": 4
 },
 "nbformat": 4,
 "nbformat_minor": 2
}
