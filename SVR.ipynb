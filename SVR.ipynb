{
 "cells": [
  {
   "cell_type": "code",
   "execution_count": 1,
   "metadata": {},
   "outputs": [],
   "source": [
    "import pandas as pd\n",
    "import numpy as np\n",
    "import warnings\n",
    "\n",
    "import seaborn as sns\n",
    "import matplotlib.pyplot as plt\n",
    "\n",
    "from scipy.stats import boxcox\n",
    "warnings.filterwarnings('ignore')\n",
    "\n",
    "RSEED=42\n",
    "\n",
    "sns.set_context('talk')\n",
    "plt.style.use(['dark_background'])\n",
    "#plt.rcParams['image.cmap'] = \"orangered\"\n",
    "plt.rcParams.update({'font.sans-serif':'Helvetica'})"
   ]
  },
  {
   "cell_type": "code",
   "execution_count": 2,
   "metadata": {},
   "outputs": [],
   "source": [
    "data = pd.read_csv(\"./data/data_prep_reg.csv\", index_col=[0])"
   ]
  },
  {
   "cell_type": "code",
   "execution_count": 5,
   "metadata": {},
   "outputs": [
    {
     "data": {
      "text/html": [
       "<div>\n",
       "<style scoped>\n",
       "    .dataframe tbody tr th:only-of-type {\n",
       "        vertical-align: middle;\n",
       "    }\n",
       "\n",
       "    .dataframe tbody tr th {\n",
       "        vertical-align: top;\n",
       "    }\n",
       "\n",
       "    .dataframe thead th {\n",
       "        text-align: right;\n",
       "    }\n",
       "</style>\n",
       "<table border=\"1\" class=\"dataframe\">\n",
       "  <thead>\n",
       "    <tr style=\"text-align: right;\">\n",
       "      <th></th>\n",
       "      <th>location</th>\n",
       "      <th>target</th>\n",
       "      <th>max_temp</th>\n",
       "      <th>min_temp</th>\n",
       "      <th>mean_temp</th>\n",
       "      <th>std_temp</th>\n",
       "      <th>var_temp</th>\n",
       "      <th>median_temp</th>\n",
       "      <th>ptp_temp</th>\n",
       "      <th>max_precip</th>\n",
       "      <th>...</th>\n",
       "      <th>var_wind_spd</th>\n",
       "      <th>median_wind_spd</th>\n",
       "      <th>ptp_wind_spd</th>\n",
       "      <th>max_atmos_press</th>\n",
       "      <th>min_atmos_press</th>\n",
       "      <th>mean_atmos_press</th>\n",
       "      <th>std_atmos_press</th>\n",
       "      <th>var_atmos_press</th>\n",
       "      <th>median_atmos_press</th>\n",
       "      <th>ptp_atmos_press</th>\n",
       "    </tr>\n",
       "  </thead>\n",
       "  <tbody>\n",
       "    <tr>\n",
       "      <th>0</th>\n",
       "      <td>2</td>\n",
       "      <td>45.126304</td>\n",
       "      <td>27.208333</td>\n",
       "      <td>19.275000</td>\n",
       "      <td>22.299527</td>\n",
       "      <td>2.594011</td>\n",
       "      <td>6.728895</td>\n",
       "      <td>21.358333</td>\n",
       "      <td>7.933333</td>\n",
       "      <td>0.000</td>\n",
       "      <td>...</td>\n",
       "      <td>0.155268</td>\n",
       "      <td>0.666250</td>\n",
       "      <td>1.355000</td>\n",
       "      <td>87.871667</td>\n",
       "      <td>87.614167</td>\n",
       "      <td>87.752434</td>\n",
       "      <td>0.070374</td>\n",
       "      <td>0.004952</td>\n",
       "      <td>87.762083</td>\n",
       "      <td>0.257500</td>\n",
       "    </tr>\n",
       "    <tr>\n",
       "      <th>1</th>\n",
       "      <td>3</td>\n",
       "      <td>79.131702</td>\n",
       "      <td>33.616667</td>\n",
       "      <td>17.983333</td>\n",
       "      <td>24.679063</td>\n",
       "      <td>4.266955</td>\n",
       "      <td>18.206903</td>\n",
       "      <td>23.791667</td>\n",
       "      <td>15.633333</td>\n",
       "      <td>0.561</td>\n",
       "      <td>...</td>\n",
       "      <td>0.290736</td>\n",
       "      <td>0.744167</td>\n",
       "      <td>2.760833</td>\n",
       "      <td>90.725000</td>\n",
       "      <td>90.056667</td>\n",
       "      <td>90.429924</td>\n",
       "      <td>0.156000</td>\n",
       "      <td>0.024336</td>\n",
       "      <td>90.429167</td>\n",
       "      <td>0.668333</td>\n",
       "    </tr>\n",
       "    <tr>\n",
       "      <th>2</th>\n",
       "      <td>0</td>\n",
       "      <td>32.661304</td>\n",
       "      <td>31.841667</td>\n",
       "      <td>18.458333</td>\n",
       "      <td>24.112317</td>\n",
       "      <td>3.776377</td>\n",
       "      <td>14.261020</td>\n",
       "      <td>23.304167</td>\n",
       "      <td>13.383333</td>\n",
       "      <td>7.804</td>\n",
       "      <td>...</td>\n",
       "      <td>0.342484</td>\n",
       "      <td>0.942500</td>\n",
       "      <td>2.420000</td>\n",
       "      <td>88.813333</td>\n",
       "      <td>87.982500</td>\n",
       "      <td>88.420931</td>\n",
       "      <td>0.179481</td>\n",
       "      <td>0.032213</td>\n",
       "      <td>88.425000</td>\n",
       "      <td>0.830833</td>\n",
       "    </tr>\n",
       "    <tr>\n",
       "      <th>3</th>\n",
       "      <td>0</td>\n",
       "      <td>53.850238</td>\n",
       "      <td>27.491667</td>\n",
       "      <td>16.941667</td>\n",
       "      <td>20.845273</td>\n",
       "      <td>3.080140</td>\n",
       "      <td>9.487259</td>\n",
       "      <td>19.541667</td>\n",
       "      <td>10.550000</td>\n",
       "      <td>25.787</td>\n",
       "      <td>...</td>\n",
       "      <td>0.336701</td>\n",
       "      <td>1.388333</td>\n",
       "      <td>2.469167</td>\n",
       "      <td>88.685000</td>\n",
       "      <td>87.965000</td>\n",
       "      <td>88.376915</td>\n",
       "      <td>0.161758</td>\n",
       "      <td>0.026166</td>\n",
       "      <td>88.400000</td>\n",
       "      <td>0.720000</td>\n",
       "    </tr>\n",
       "    <tr>\n",
       "      <th>4</th>\n",
       "      <td>0</td>\n",
       "      <td>177.418750</td>\n",
       "      <td>28.750000</td>\n",
       "      <td>17.525000</td>\n",
       "      <td>21.870732</td>\n",
       "      <td>3.286870</td>\n",
       "      <td>10.803515</td>\n",
       "      <td>20.950000</td>\n",
       "      <td>11.225000</td>\n",
       "      <td>0.136</td>\n",
       "      <td>...</td>\n",
       "      <td>0.181690</td>\n",
       "      <td>0.542917</td>\n",
       "      <td>1.796667</td>\n",
       "      <td>88.719167</td>\n",
       "      <td>88.268333</td>\n",
       "      <td>88.538104</td>\n",
       "      <td>0.118369</td>\n",
       "      <td>0.014011</td>\n",
       "      <td>88.552500</td>\n",
       "      <td>0.450833</td>\n",
       "    </tr>\n",
       "  </tbody>\n",
       "</table>\n",
       "<p>5 rows × 44 columns</p>\n",
       "</div>"
      ],
      "text/plain": [
       "   location      target   max_temp   min_temp  mean_temp  std_temp   var_temp  \\\n",
       "0         2   45.126304  27.208333  19.275000  22.299527  2.594011   6.728895   \n",
       "1         3   79.131702  33.616667  17.983333  24.679063  4.266955  18.206903   \n",
       "2         0   32.661304  31.841667  18.458333  24.112317  3.776377  14.261020   \n",
       "3         0   53.850238  27.491667  16.941667  20.845273  3.080140   9.487259   \n",
       "4         0  177.418750  28.750000  17.525000  21.870732  3.286870  10.803515   \n",
       "\n",
       "   median_temp   ptp_temp  max_precip  ...  var_wind_spd  median_wind_spd  \\\n",
       "0    21.358333   7.933333       0.000  ...      0.155268         0.666250   \n",
       "1    23.791667  15.633333       0.561  ...      0.290736         0.744167   \n",
       "2    23.304167  13.383333       7.804  ...      0.342484         0.942500   \n",
       "3    19.541667  10.550000      25.787  ...      0.336701         1.388333   \n",
       "4    20.950000  11.225000       0.136  ...      0.181690         0.542917   \n",
       "\n",
       "   ptp_wind_spd  max_atmos_press  min_atmos_press  mean_atmos_press  \\\n",
       "0      1.355000        87.871667        87.614167         87.752434   \n",
       "1      2.760833        90.725000        90.056667         90.429924   \n",
       "2      2.420000        88.813333        87.982500         88.420931   \n",
       "3      2.469167        88.685000        87.965000         88.376915   \n",
       "4      1.796667        88.719167        88.268333         88.538104   \n",
       "\n",
       "   std_atmos_press  var_atmos_press  median_atmos_press  ptp_atmos_press  \n",
       "0         0.070374         0.004952           87.762083         0.257500  \n",
       "1         0.156000         0.024336           90.429167         0.668333  \n",
       "2         0.179481         0.032213           88.425000         0.830833  \n",
       "3         0.161758         0.026166           88.400000         0.720000  \n",
       "4         0.118369         0.014011           88.552500         0.450833  \n",
       "\n",
       "[5 rows x 44 columns]"
      ]
     },
     "execution_count": 5,
     "metadata": {},
     "output_type": "execute_result"
    }
   ],
   "source": [
    "data.head()"
   ]
  },
  {
   "cell_type": "code",
   "execution_count": 6,
   "metadata": {},
   "outputs": [
    {
     "data": {
      "text/plain": [
       "(15539, 44)"
      ]
     },
     "execution_count": 6,
     "metadata": {},
     "output_type": "execute_result"
    }
   ],
   "source": [
    "data.shape"
   ]
  },
  {
   "cell_type": "code",
   "execution_count": 13,
   "metadata": {},
   "outputs": [],
   "source": [
    "y = data[\"target\"]\n",
    "X=data.drop([\"target\"], axis= 1)"
   ]
  },
  {
   "cell_type": "code",
   "execution_count": 14,
   "metadata": {},
   "outputs": [],
   "source": [
    "from sklearn.model_selection import train_test_split\n",
    "\n",
    "X_train, X_test, y_train, y_test = train_test_split(X,\n",
    "                                         y,\n",
    "                                         test_size = 0.3, \n",
    "                                         random_state = RSEED)"
   ]
  },
  {
   "cell_type": "code",
   "execution_count": 16,
   "metadata": {},
   "outputs": [
    {
     "data": {
      "text/plain": [
       "Index(['location', 'max_temp', 'min_temp', 'mean_temp', 'std_temp', 'var_temp',\n",
       "       'median_temp', 'ptp_temp', 'max_precip', 'min_precip', 'mean_precip',\n",
       "       'std_precip', 'var_precip', 'median_precip', 'ptp_precip',\n",
       "       'max_rel_humidity', 'min_rel_humidity', 'mean_rel_humidity',\n",
       "       'std_rel_humidity', 'var_rel_humidity', 'median_rel_humidity',\n",
       "       'ptp_rel_humidity', 'max_wind_dir', 'min_wind_dir', 'mean_wind_dir',\n",
       "       'std_wind_dir', 'var_wind_dir', 'median_wind_dir', 'ptp_wind_dir',\n",
       "       'max_wind_spd', 'min_wind_spd', 'mean_wind_spd', 'std_wind_spd',\n",
       "       'var_wind_spd', 'median_wind_spd', 'ptp_wind_spd', 'max_atmos_press',\n",
       "       'min_atmos_press', 'mean_atmos_press', 'std_atmos_press',\n",
       "       'var_atmos_press', 'median_atmos_press', 'ptp_atmos_press'],\n",
       "      dtype='object')"
      ]
     },
     "execution_count": 16,
     "metadata": {},
     "output_type": "execute_result"
    }
   ],
   "source": [
    "X_train.columns"
   ]
  },
  {
   "cell_type": "code",
   "execution_count": 29,
   "metadata": {},
   "outputs": [],
   "source": [
    "from sklearn.preprocessing import StandardScaler, MinMaxScaler\n",
    "\n",
    "scaler=StandardScaler()\n",
    "\n",
    "col_scale = ['location', 'max_temp', 'min_temp', 'mean_temp', 'std_temp', 'var_temp',\n",
    "       'median_temp', 'ptp_temp', 'max_precip', 'min_precip', 'mean_precip',\n",
    "       'std_precip', 'var_precip', 'median_precip', 'ptp_precip',\n",
    "       'max_rel_humidity', 'min_rel_humidity', 'mean_rel_humidity',\n",
    "       'std_rel_humidity', 'var_rel_humidity', 'median_rel_humidity',\n",
    "       'ptp_rel_humidity', 'max_wind_dir', 'min_wind_dir', 'mean_wind_dir',\n",
    "       'std_wind_dir', 'var_wind_dir', 'median_wind_dir', 'ptp_wind_dir',\n",
    "       'max_wind_spd', 'min_wind_spd', 'mean_wind_spd', 'std_wind_spd',\n",
    "       'var_wind_spd', 'median_wind_spd', 'ptp_wind_spd', 'max_atmos_press',\n",
    "       'min_atmos_press', 'mean_atmos_press', 'std_atmos_press',\n",
    "       'var_atmos_press', 'median_atmos_press', 'ptp_atmos_press']\n",
    "       \n",
    "X_train_scaled = scaler.fit_transform(X_train[col_scale])\n",
    "X_test_scaled = scaler.transform(X_test[col_scale])"
   ]
  },
  {
   "cell_type": "code",
   "execution_count": 67,
   "metadata": {},
   "outputs": [
    {
     "data": {
      "text/plain": [
       "SVR()"
      ]
     },
     "execution_count": 67,
     "metadata": {},
     "output_type": "execute_result"
    }
   ],
   "source": [
    "from sklearn.svm import SVR\n",
    "\n",
    "regressor = SVR(kernel= \"rbf\")\n",
    "regressor.fit(X_train_scaled,y_train)\n"
   ]
  },
  {
   "cell_type": "code",
   "execution_count": 21,
   "metadata": {},
   "outputs": [],
   "source": [
    "from sklearn.metrics import mean_squared_error\n",
    "\n",
    "def rmse(y_true, y_pred):\n",
    "    return np.sqrt(mean_squared_error(y_true, y_pred))\n",
    "\n",
    "def error_analysis(y_test, y_pred_test):\n",
    "    \"\"\"Generated true vs. predicted values and residual scatter plot for models\n",
    "\n",
    "    Args:\n",
    "        y_test (array): true values for y_test\n",
    "        y_pred_test (array): predicted values of model for y_test\n",
    "    \"\"\"     \n",
    "    # Calculate residuals\n",
    "    residuals = y_test - y_pred_test\n",
    "    \n",
    "    # Plot real vs. predicted values \n",
    "    fig, ax = plt.subplots(1,2, figsize=(15, 5))\n",
    "    plt.subplots_adjust(right=1)\n",
    "    plt.suptitle('Error Analysis')\n",
    "    \n",
    "    ax[0].scatter(y_pred_test, y_test, color=\"#FF5A36\", alpha=0.7)\n",
    "    ax[0].plot([-400, 350], [-400, 350], color=\"#193251\")\n",
    "    ax[0].set_title(\"True vs. predicted values\", fontsize=16)\n",
    "    ax[0].set_xlabel(\"predicted values\")\n",
    "    ax[0].set_ylabel(\"true values\")\n",
    "    #ax[0].set_xlim((y_pred_test.min()-10), (y_pred_test.max()+10))\n",
    "    ax[0].set_ylim((y_test.min()-40), (y_test.max()+40))\n",
    "    \n",
    "    ax[1].scatter(y_pred_test, residuals, color=\"#FF5A36\", alpha=0.7)\n",
    "    ax[1].plot([-400, 350], [0,0], color=\"#193251\")\n",
    "    ax[1].set_title(\"Residual Scatter Plot\", fontsize=16)\n",
    "    ax[1].set_xlabel(\"predicted values\")\n",
    "    ax[1].set_ylabel(\"residuals\")\n",
    "    #ax[1].set_xlim((y_pred_test.min()-10), (y_pred_test.max()+10))\n",
    "    #ax[1].set_ylim((residuals.min()-10), (residuals.max()+10));"
   ]
  },
  {
   "cell_type": "code",
   "execution_count": 71,
   "metadata": {},
   "outputs": [],
   "source": [
    "y_pred_train = regressor.predict(X_train_scaled)\n",
    "y_pred_test = regressor.predict(X_test_scaled)"
   ]
  },
  {
   "cell_type": "code",
   "execution_count": 72,
   "metadata": {},
   "outputs": [],
   "source": [
    "rmse_train = rmse(y_train, y_pred_train)\n",
    "rmse_test= rmse(y_test, y_pred_test)"
   ]
  },
  {
   "cell_type": "code",
   "execution_count": 73,
   "metadata": {},
   "outputs": [
    {
     "data": {
      "text/plain": [
       "40.1279776907557"
      ]
     },
     "metadata": {},
     "output_type": "display_data"
    },
    {
     "data": {
      "text/plain": [
       "41.39794647052387"
      ]
     },
     "metadata": {},
     "output_type": "display_data"
    }
   ],
   "source": [
    "display(rmse_train, rmse_test)"
   ]
  },
  {
   "cell_type": "code",
   "execution_count": 74,
   "metadata": {},
   "outputs": [
    {
     "data": {
      "image/png": "[encoded data removed]",
      "text/plain": [
       "<Figure size 1080x360 with 2 Axes>"
      ]
     },
     "metadata": {},
     "output_type": "display_data"
    }
   ],
   "source": [
    "error_analysis(y_test, y_pred_test)"
   ]
  },
  {
   "cell_type": "markdown",
   "metadata": {},
   "source": [
    "## hyperparameter tuning"
   ]
  },
  {
   "cell_type": "code",
   "execution_count": 75,
   "metadata": {},
   "outputs": [
    {
     "data": {
      "text/plain": [
       "{'C': 1.0,\n",
       " 'cache_size': 200,\n",
       " 'coef0': 0.0,\n",
       " 'degree': 3,\n",
       " 'epsilon': 0.1,\n",
       " 'gamma': 'scale',\n",
       " 'kernel': 'rbf',\n",
       " 'max_iter': -1,\n",
       " 'shrinking': True,\n",
       " 'tol': 0.001,\n",
       " 'verbose': False}"
      ]
     },
     "execution_count": 75,
     "metadata": {},
     "output_type": "execute_result"
    }
   ],
   "source": [
    "from sklearn.model_selection import GridSearchCV, RandomizedSearchCV\n",
    "\n",
    "regressor.get_params()"
   ]
  },
  {
   "cell_type": "code",
   "execution_count": 115,
   "metadata": {},
   "outputs": [],
   "source": [
    "parameters = {#'C':np.arange(8.5, 10, 0.05),                               \n",
    "              'cache_size' : np.arange(100, 300, 25),               \n",
    "              #'coef0' : np.arange(15, 25, 1),\n",
    "              #\"degree\": np.arange(1, 5, 1),\n",
    "             #\"epsilon\": np.arange(0.1, 10, 0.5), \n",
    "            #'gamma': ['scale','auto'],\n",
    "            #'max_iter': -1,\n",
    "             #'shrinking': [True,False],\n",
    "            #'tol' : np.arange(0.001, 0.01, 0.001),\n",
    "            #\"kernel\": ['linear', 'poly', 'rbf', 'sigmoid'],\n",
    "             } \n"
   ]
  },
  {
   "cell_type": "code",
   "execution_count": 116,
   "metadata": {},
   "outputs": [],
   "source": [
    "gs = GridSearchCV(SVR(kernel=\"rbf\",C= 9.95, gamma= 'auto', shrinking= True,epsilon =9.6, tol=0.009 ), parameters, scoring='neg_root_mean_squared_error',\n",
    "                  cv=5, verbose=5, n_jobs=-1)"
   ]
  },
  {
   "cell_type": "code",
   "execution_count": 113,
   "metadata": {},
   "outputs": [
    {
     "name": "stdout",
     "output_type": "stream",
     "text": [
      "Fitting 5 folds for each of 30 candidates, totalling 150 fits\n",
      "[CV 5/5] END ...........................C=8.5;, score=-43.244 total time=  12.9s\n",
      "[CV 2/5] END ..........................C=8.55;, score=-42.028 total time=  12.9s\n",
      "[CV 2/5] END ...........................C=8.5;, score=-42.033 total time=  13.3s\n",
      "[CV 3/5] END ...........................C=8.5;, score=-43.031 total time=  13.4s\n",
      "[CV 1/5] END ..........................C=8.55;, score=-39.840 total time=  13.4s\n",
      "[CV 1/5] END ...........................C=8.5;, score=-39.844 total time=  13.5s\n",
      "[CV 3/5] END ..........................C=8.55;, score=-43.027 total time=  13.6s\n",
      "[CV 4/5] END ...........................C=8.5;, score=-42.650 total time=  13.6s\n",
      "[CV 5/5] END ..........................C=8.55;, score=-43.239 total time=  13.7s\n",
      "[CV 4/5] END ..........................C=8.55;, score=-42.645 total time=  13.7s\n",
      "[CV 2/5] END .............C=8.600000000000001;, score=-42.023 total time=  13.9s\n",
      "[CV 3/5] END .............C=8.600000000000001;, score=-43.023 total time=  14.0s\n",
      "[CV 5/5] END .............C=8.600000000000001;, score=-43.235 total time=  13.9s\n",
      "[CV 1/5] END .............C=8.600000000000001;, score=-39.835 total time=  14.2s\n",
      "[CV 1/5] END .............C=8.650000000000002;, score=-39.831 total time=  13.9s\n",
      "[CV 4/5] END .............C=8.600000000000001;, score=-42.640 total time=  14.0s\n",
      "[CV 2/5] END .............C=8.650000000000002;, score=-42.018 total time=  14.1s\n",
      "[CV 3/5] END .............C=8.650000000000002;, score=-43.019 total time=  14.0s\n",
      "[CV 4/5] END .............C=8.650000000000002;, score=-42.634 total time=  14.3s\n",
      "[CV 5/5] END .............C=8.650000000000002;, score=-43.230 total time=  14.6s\n",
      "[CV 3/5] END .............C=8.700000000000003;, score=-43.015 total time=  14.5s\n",
      "[CV 1/5] END .............C=8.700000000000003;, score=-39.827 total time=  14.6s\n",
      "[CV 2/5] END .............C=8.700000000000003;, score=-42.014 total time=  14.8s\n",
      "[CV 4/5] END .............C=8.700000000000003;, score=-42.629 total time=  14.7s\n",
      "[CV 1/5] END .............C=8.750000000000004;, score=-39.822 total time=  14.3s\n",
      "[CV 5/5] END .............C=8.700000000000003;, score=-43.225 total time=  14.5s\n",
      "[CV 2/5] END .............C=8.750000000000004;, score=-42.009 total time=  14.7s\n",
      "[CV 4/5] END .............C=8.750000000000004;, score=-42.624 total time=  15.0s\n",
      "[CV 5/5] END .............C=8.750000000000004;, score=-43.221 total time=  15.2s\n",
      "[CV 2/5] END .............C=8.800000000000004;, score=-42.004 total time=  15.0s\n",
      "[CV 3/5] END .............C=8.750000000000004;, score=-43.011 total time=  15.4s\n",
      "[CV 1/5] END .............C=8.800000000000004;, score=-39.818 total time=  15.2s\n",
      "[CV 3/5] END .............C=8.800000000000004;, score=-43.007 total time=  14.6s\n",
      "[CV 4/5] END .............C=8.800000000000004;, score=-42.619 total time=  14.8s\n",
      "[CV 5/5] END .............C=8.800000000000004;, score=-43.216 total time=  14.9s\n",
      "[CV 1/5] END .............C=8.850000000000005;, score=-39.814 total time=  14.5s\n",
      "[CV 2/5] END .............C=8.850000000000005;, score=-41.999 total time=  15.3s\n",
      "[CV 3/5] END .............C=8.850000000000005;, score=-43.003 total time=  15.3s\n",
      "[CV 5/5] END .............C=8.850000000000005;, score=-43.212 total time=  15.3s\n",
      "[CV 4/5] END .............C=8.850000000000005;, score=-42.613 total time=  15.4s\n",
      "[CV 2/5] END .............C=8.900000000000006;, score=-41.994 total time=  13.4s\n",
      "[CV 1/5] END .............C=8.900000000000006;, score=-39.809 total time=  13.8s\n",
      "[CV 3/5] END .............C=8.900000000000006;, score=-42.999 total time=  13.8s\n",
      "[CV 4/5] END .............C=8.900000000000006;, score=-42.608 total time=  13.8s\n",
      "[CV 2/5] END .............C=8.950000000000006;, score=-41.990 total time=  14.1s\n",
      "[CV 5/5] END .............C=8.900000000000006;, score=-43.207 total time=  14.5s\n",
      "[CV 3/5] END .............C=8.950000000000006;, score=-42.995 total time=  14.4s\n",
      "[CV 1/5] END .............C=8.950000000000006;, score=-39.805 total time=  14.6s\n",
      "[CV 4/5] END .............C=8.950000000000006;, score=-42.603 total time=  13.6s\n",
      "[CV 5/5] END .............C=8.950000000000006;, score=-43.203 total time=  13.6s\n",
      "[CV 1/5] END .............C=9.000000000000007;, score=-39.800 total time=  14.0s\n",
      "[CV 2/5] END .............C=9.000000000000007;, score=-41.985 total time=  14.2s\n",
      "[CV 3/5] END .............C=9.000000000000007;, score=-42.991 total time=  14.1s\n",
      "[CV 4/5] END .............C=9.000000000000007;, score=-42.598 total time=  13.8s\n",
      "[CV 1/5] END .............C=9.050000000000008;, score=-39.796 total time=  14.2s\n",
      "[CV 5/5] END .............C=9.000000000000007;, score=-43.198 total time=  14.5s\n",
      "[CV 2/5] END .............C=9.050000000000008;, score=-41.980 total time=  13.8s\n",
      "[CV 3/5] END .............C=9.050000000000008;, score=-42.987 total time=  14.4s\n",
      "[CV 4/5] END .............C=9.050000000000008;, score=-42.593 total time=  14.6s\n",
      "[CV 5/5] END .............C=9.050000000000008;, score=-43.193 total time=  14.5s\n",
      "[CV 2/5] END .............C=9.100000000000009;, score=-41.975 total time=  14.3s\n",
      "[CV 1/5] END .............C=9.100000000000009;, score=-39.792 total time=  14.5s\n",
      "[CV 4/5] END .............C=9.100000000000009;, score=-42.588 total time=  14.3s\n",
      "[CV 3/5] END .............C=9.100000000000009;, score=-42.984 total time=  14.6s\n",
      "[CV 5/5] END .............C=9.100000000000009;, score=-43.189 total time=  13.9s\n",
      "[CV 1/5] END ..............C=9.15000000000001;, score=-39.787 total time=  14.4s\n",
      "[CV 2/5] END ..............C=9.15000000000001;, score=-41.971 total time=  14.5s\n",
      "[CV 3/5] END ..............C=9.15000000000001;, score=-42.980 total time=  14.8s\n",
      "[CV 4/5] END ..............C=9.15000000000001;, score=-42.583 total time=  14.8s\n",
      "[CV 5/5] END ..............C=9.15000000000001;, score=-43.184 total time=  14.7s\n",
      "[CV 1/5] END ..............C=9.20000000000001;, score=-39.783 total time=  14.9s\n",
      "[CV 2/5] END ..............C=9.20000000000001;, score=-41.966 total time=  14.8s\n",
      "[CV 3/5] END ..............C=9.20000000000001;, score=-42.976 total time=  13.3s\n",
      "[CV 4/5] END ..............C=9.20000000000001;, score=-42.578 total time=  14.0s\n",
      "[CV 5/5] END ..............C=9.20000000000001;, score=-43.179 total time=  14.1s\n",
      "[CV 1/5] END ..............C=9.25000000000001;, score=-39.778 total time=  13.8s\n",
      "[CV 2/5] END ..............C=9.25000000000001;, score=-41.961 total time=  14.3s\n",
      "[CV 3/5] END ..............C=9.25000000000001;, score=-42.972 total time=  14.6s\n",
      "[CV 5/5] END ..............C=9.25000000000001;, score=-43.174 total time=  14.2s\n",
      "[CV 4/5] END ..............C=9.25000000000001;, score=-42.574 total time=  14.7s\n",
      "[CV 1/5] END .............C=9.300000000000011;, score=-39.774 total time=  13.6s\n",
      "[CV 2/5] END .............C=9.300000000000011;, score=-41.957 total time=  14.1s\n",
      "[CV 3/5] END .............C=9.300000000000011;, score=-42.969 total time=  14.3s\n",
      "[CV 4/5] END .............C=9.300000000000011;, score=-42.570 total time=  14.5s\n",
      "[CV 5/5] END .............C=9.300000000000011;, score=-43.170 total time=  14.5s\n",
      "[CV 1/5] END .............C=9.350000000000012;, score=-39.770 total time=  14.3s\n",
      "[CV 2/5] END .............C=9.350000000000012;, score=-41.952 total time=  14.4s\n",
      "[CV 3/5] END .............C=9.350000000000012;, score=-42.965 total time=  14.5s\n",
      "[CV 4/5] END .............C=9.350000000000012;, score=-42.565 total time=  13.8s\n",
      "[CV 5/5] END .............C=9.350000000000012;, score=-43.165 total time=  15.0s\n",
      "[CV 1/5] END .............C=9.400000000000013;, score=-39.765 total time=  15.5s\n",
      "[CV 2/5] END .............C=9.400000000000013;, score=-41.947 total time=  15.5s\n",
      "[CV 3/5] END .............C=9.400000000000013;, score=-42.961 total time=  15.9s\n",
      "[CV 4/5] END .............C=9.400000000000013;, score=-42.561 total time=  16.1s\n",
      "[CV 5/5] END .............C=9.400000000000013;, score=-43.160 total time=  16.2s\n",
      "[CV 1/5] END .............C=9.450000000000014;, score=-39.761 total time=  16.2s\n",
      "[CV 2/5] END .............C=9.450000000000014;, score=-41.942 total time=  17.0s\n",
      "[CV 3/5] END .............C=9.450000000000014;, score=-42.957 total time=  18.3s\n",
      "[CV 5/5] END .............C=9.450000000000014;, score=-43.155 total time=  18.5s\n",
      "[CV 4/5] END .............C=9.450000000000014;, score=-42.557 total time=  18.8s\n",
      "[CV 1/5] END .............C=9.500000000000014;, score=-39.757 total time=  18.7s\n",
      "[CV 2/5] END .............C=9.500000000000014;, score=-41.937 total time=  18.8s\n",
      "[CV 3/5] END .............C=9.500000000000014;, score=-42.953 total time=  18.8s\n",
      "[CV 4/5] END .............C=9.500000000000014;, score=-42.553 total time=  18.5s\n",
      "[CV 5/5] END .............C=9.500000000000014;, score=-43.150 total time=  15.9s\n",
      "[CV 1/5] END .............C=9.550000000000015;, score=-39.752 total time=  15.1s\n",
      "[CV 2/5] END .............C=9.550000000000015;, score=-41.932 total time=  15.6s\n",
      "[CV 3/5] END .............C=9.550000000000015;, score=-42.949 total time=  15.6s\n",
      "[CV 4/5] END .............C=9.550000000000015;, score=-42.548 total time=  16.0s\n",
      "[CV 5/5] END .............C=9.550000000000015;, score=-43.145 total time=  16.3s\n",
      "[CV 1/5] END .............C=9.600000000000016;, score=-39.748 total time=  15.9s\n",
      "[CV 2/5] END .............C=9.600000000000016;, score=-41.927 total time=  16.1s\n",
      "[CV 3/5] END .............C=9.600000000000016;, score=-42.945 total time=  14.8s\n",
      "[CV 4/5] END .............C=9.600000000000016;, score=-42.544 total time=  15.3s\n",
      "[CV 5/5] END .............C=9.600000000000016;, score=-43.140 total time=  15.4s\n",
      "[CV 1/5] END .............C=9.650000000000016;, score=-39.744 total time=  15.4s\n",
      "[CV 2/5] END .............C=9.650000000000016;, score=-41.922 total time=  15.5s\n",
      "[CV 3/5] END .............C=9.650000000000016;, score=-42.941 total time=  15.8s\n",
      "[CV 4/5] END .............C=9.650000000000016;, score=-42.540 total time=  15.6s\n",
      "[CV 5/5] END .............C=9.650000000000016;, score=-43.136 total time=  16.0s\n",
      "[CV 1/5] END .............C=9.700000000000017;, score=-39.739 total time=  14.8s\n",
      "[CV 2/5] END .............C=9.700000000000017;, score=-41.917 total time=  14.6s\n",
      "[CV 4/5] END .............C=9.700000000000017;, score=-42.536 total time=  15.4s\n",
      "[CV 3/5] END .............C=9.700000000000017;, score=-42.937 total time=  15.5s\n",
      "[CV 5/5] END .............C=9.700000000000017;, score=-43.131 total time=  15.8s\n",
      "[CV 2/5] END .............C=9.750000000000018;, score=-41.912 total time=  15.4s\n",
      "[CV 1/5] END .............C=9.750000000000018;, score=-39.735 total time=  15.9s\n",
      "[CV 3/5] END .............C=9.750000000000018;, score=-42.933 total time=  15.8s\n",
      "[CV 4/5] END .............C=9.750000000000018;, score=-42.532 total time=  15.1s\n",
      "[CV 5/5] END .............C=9.750000000000018;, score=-43.126 total time=  14.6s\n",
      "[CV 2/5] END .............C=9.800000000000018;, score=-41.907 total time=  15.6s\n",
      "[CV 1/5] END .............C=9.800000000000018;, score=-39.731 total time=  15.7s\n",
      "[CV 3/5] END .............C=9.800000000000018;, score=-42.929 total time=  15.9s\n",
      "[CV 4/5] END .............C=9.800000000000018;, score=-42.528 total time=  15.8s\n",
      "[CV 5/5] END .............C=9.800000000000018;, score=-43.121 total time=  15.6s\n",
      "[CV 2/5] END ..............C=9.85000000000002;, score=-41.902 total time=  15.2s\n",
      "[CV 1/5] END ..............C=9.85000000000002;, score=-39.726 total time=  15.7s\n",
      "[CV 3/5] END ..............C=9.85000000000002;, score=-42.925 total time=  15.1s\n",
      "[CV 4/5] END ..............C=9.85000000000002;, score=-42.524 total time=  15.8s\n",
      "[CV 5/5] END ..............C=9.85000000000002;, score=-43.117 total time=  15.9s\n",
      "[CV 1/5] END ..............C=9.90000000000002;, score=-39.722 total time=  16.2s\n",
      "[CV 2/5] END ..............C=9.90000000000002;, score=-41.897 total time=  15.9s\n",
      "[CV 3/5] END ..............C=9.90000000000002;, score=-42.921 total time=  16.1s\n",
      "[CV 4/5] END ..............C=9.90000000000002;, score=-42.520 total time=  15.4s\n",
      "[CV 5/5] END ..............C=9.90000000000002;, score=-43.112 total time=  15.9s\n",
      "[CV 1/5] END ..............C=9.95000000000002;, score=-39.718 total time=  14.1s\n",
      "[CV 2/5] END ..............C=9.95000000000002;, score=-41.892 total time=  11.0s\n",
      "[CV 3/5] END ..............C=9.95000000000002;, score=-42.917 total time=  11.0s\n",
      "[CV 4/5] END ..............C=9.95000000000002;, score=-42.516 total time=   9.3s\n",
      "[CV 5/5] END ..............C=9.95000000000002;, score=-43.108 total time=   9.0s\n"
     ]
    },
    {
     "data": {
      "text/plain": [
       "GridSearchCV(cv=5, estimator=SVR(epsilon=9.6, gamma='auto', tol=0.009),\n",
       "             n_jobs=-1,\n",
       "             param_grid={'C': array([8.5 , 8.55, 8.6 , 8.65, 8.7 , 8.75, 8.8 , 8.85, 8.9 , 8.95, 9.  ,\n",
       "       9.05, 9.1 , 9.15, 9.2 , 9.25, 9.3 , 9.35, 9.4 , 9.45, 9.5 , 9.55,\n",
       "       9.6 , 9.65, 9.7 , 9.75, 9.8 , 9.85, 9.9 , 9.95])},\n",
       "             scoring='neg_root_mean_squared_error', verbose=5)"
      ]
     },
     "execution_count": 113,
     "metadata": {},
     "output_type": "execute_result"
    }
   ],
   "source": [
    "gs.fit(X_train, y_train.ravel())"
   ]
  },
  {
   "cell_type": "code",
   "execution_count": 114,
   "metadata": {},
   "outputs": [
    {
     "name": "stdout",
     "output_type": "stream",
     "text": [
      "Best score: -42.03\n",
      "Best parameters: {'C': 9.95000000000002}\n"
     ]
    }
   ],
   "source": [
    "# Best score\n",
    "print('Best score:', round(gs.best_score_, 3))\n",
    "\n",
    "# Best parameters\n",
    "print('Best parameters:', gs.best_params_)"
   ]
  },
  {
   "cell_type": "code",
   "execution_count": 126,
   "metadata": {},
   "outputs": [],
   "source": [
    "SVR_opt= SVR(kernel=\"rbf\",C= 9.95, gamma= 'auto', degree=3,shrinking= True,epsilon =9.6, tol=0.009 )"
   ]
  },
  {
   "cell_type": "code",
   "execution_count": 127,
   "metadata": {},
   "outputs": [
    {
     "data": {
      "text/plain": [
       "SVR(C=9.95, epsilon=9.6, gamma='auto', tol=0.009)"
      ]
     },
     "execution_count": 127,
     "metadata": {},
     "output_type": "execute_result"
    }
   ],
   "source": [
    "SVR_opt.fit(X_train_scaled, y_train)"
   ]
  },
  {
   "cell_type": "code",
   "execution_count": 128,
   "metadata": {},
   "outputs": [],
   "source": [
    "y_pred_train = SVR_opt.predict(X_train_scaled)\n",
    "y_pred_test = SVR_opt.predict(X_test_scaled)\n"
   ]
  },
  {
   "cell_type": "code",
   "execution_count": 129,
   "metadata": {},
   "outputs": [],
   "source": [
    "rmse_train = rmse(y_train, y_pred_train)\n",
    "rmse_test= rmse(y_test, y_pred_test)"
   ]
  },
  {
   "cell_type": "code",
   "execution_count": 133,
   "metadata": {},
   "outputs": [
    {
     "data": {
      "text/plain": [
       "37.47692576136117"
      ]
     },
     "metadata": {},
     "output_type": "display_data"
    },
    {
     "data": {
      "text/plain": [
       "38.86384600478296"
      ]
     },
     "metadata": {},
     "output_type": "display_data"
    }
   ],
   "source": [
    "display(rmse_train, rmse_test)"
   ]
  },
  {
   "cell_type": "code",
   "execution_count": 130,
   "metadata": {},
   "outputs": [
    {
     "data": {
      "image/png": "[encoded data removed]",
      "text/plain": [
       "<Figure size 1080x360 with 2 Axes>"
      ]
     },
     "metadata": {},
     "output_type": "display_data"
    }
   ],
   "source": [
    "error_analysis(y_test, y_pred_test)"
   ]
  },
  {
   "cell_type": "markdown",
   "metadata": {},
   "source": [
    "## Location D"
   ]
  },
  {
   "cell_type": "code",
   "execution_count": 146,
   "metadata": {},
   "outputs": [],
   "source": [
    "data_d = pd.read_csv(\"./data/data_prep_reg_d.csv\", index_col=[0])\n"
   ]
  },
  {
   "cell_type": "code",
   "execution_count": 147,
   "metadata": {},
   "outputs": [],
   "source": [
    "y = data_d[\"target\"]\n",
    "X=np.array(data_d.drop([\"target\"], axis= 1),ndmin=2)"
   ]
  },
  {
   "cell_type": "code",
   "execution_count": 148,
   "metadata": {},
   "outputs": [],
   "source": [
    "from sklearn.model_selection import train_test_split\n",
    "\n",
    "X_train_d, X_test_d, y_train_d, y_test_d = train_test_split(X,\n",
    "                                         y,\n",
    "                                         test_size = 0.3, \n",
    "                                         random_state = RSEED)"
   ]
  },
  {
   "cell_type": "code",
   "execution_count": 151,
   "metadata": {},
   "outputs": [
    {
     "data": {
      "text/plain": [
       "9105      71.211111\n",
       "4420      64.459362\n",
       "7083      51.509565\n",
       "2504      47.952727\n",
       "4035      59.057955\n",
       "            ...    \n",
       "13711    141.369348\n",
       "1471     107.599787\n",
       "9609      60.110000\n",
       "11752     49.984348\n",
       "2669      53.832222\n",
       "Name: target, Length: 3493, dtype: float64"
      ]
     },
     "execution_count": 151,
     "metadata": {},
     "output_type": "execute_result"
    }
   ],
   "source": [
    "y_train_d"
   ]
  },
  {
   "cell_type": "code",
   "execution_count": 152,
   "metadata": {},
   "outputs": [
    {
     "ename": "IndexError",
     "evalue": "only integers, slices (`:`), ellipsis (`...`), numpy.newaxis (`None`) and integer or boolean arrays are valid indices",
     "output_type": "error",
     "traceback": [
      "\u001b[0;31m---------------------------------------------------------------------------\u001b[0m",
      "\u001b[0;31mIndexError\u001b[0m                                Traceback (most recent call last)",
      "\u001b[1;32m/Users/kaergell/Desktop/Neue Fische/Bootcamp/Tag-28-MLproject/airquality/SVR.ipynb Cell 32'\u001b[0m in \u001b[0;36m<cell line: 17>\u001b[0;34m()\u001b[0m\n\u001b[1;32m      <a href='vscode-notebook-cell:/Users/kaergell/Desktop/Neue%20Fische/Bootcamp/Tag-28-MLproject/airquality/SVR.ipynb#ch0000039?line=2'>3</a>\u001b[0m scaler\u001b[39m=\u001b[39mStandardScaler()\n\u001b[1;32m      <a href='vscode-notebook-cell:/Users/kaergell/Desktop/Neue%20Fische/Bootcamp/Tag-28-MLproject/airquality/SVR.ipynb#ch0000039?line=4'>5</a>\u001b[0m col_scale \u001b[39m=\u001b[39m [\u001b[39m'\u001b[39m\u001b[39mlocation\u001b[39m\u001b[39m'\u001b[39m, \u001b[39m'\u001b[39m\u001b[39mmax_temp\u001b[39m\u001b[39m'\u001b[39m, \u001b[39m'\u001b[39m\u001b[39mmin_temp\u001b[39m\u001b[39m'\u001b[39m, \u001b[39m'\u001b[39m\u001b[39mmean_temp\u001b[39m\u001b[39m'\u001b[39m, \u001b[39m'\u001b[39m\u001b[39mstd_temp\u001b[39m\u001b[39m'\u001b[39m, \u001b[39m'\u001b[39m\u001b[39mvar_temp\u001b[39m\u001b[39m'\u001b[39m,\n\u001b[1;32m      <a href='vscode-notebook-cell:/Users/kaergell/Desktop/Neue%20Fische/Bootcamp/Tag-28-MLproject/airquality/SVR.ipynb#ch0000039?line=5'>6</a>\u001b[0m        \u001b[39m'\u001b[39m\u001b[39mmedian_temp\u001b[39m\u001b[39m'\u001b[39m, \u001b[39m'\u001b[39m\u001b[39mptp_temp\u001b[39m\u001b[39m'\u001b[39m, \u001b[39m'\u001b[39m\u001b[39mmax_precip\u001b[39m\u001b[39m'\u001b[39m, \u001b[39m'\u001b[39m\u001b[39mmin_precip\u001b[39m\u001b[39m'\u001b[39m, \u001b[39m'\u001b[39m\u001b[39mmean_precip\u001b[39m\u001b[39m'\u001b[39m,\n\u001b[1;32m      <a href='vscode-notebook-cell:/Users/kaergell/Desktop/Neue%20Fische/Bootcamp/Tag-28-MLproject/airquality/SVR.ipynb#ch0000039?line=6'>7</a>\u001b[0m        \u001b[39m'\u001b[39m\u001b[39mstd_precip\u001b[39m\u001b[39m'\u001b[39m, \u001b[39m'\u001b[39m\u001b[39mvar_precip\u001b[39m\u001b[39m'\u001b[39m, \u001b[39m'\u001b[39m\u001b[39mmedian_precip\u001b[39m\u001b[39m'\u001b[39m, \u001b[39m'\u001b[39m\u001b[39mptp_precip\u001b[39m\u001b[39m'\u001b[39m,\n\u001b[0;32m   (...)\u001b[0m\n\u001b[1;32m     <a href='vscode-notebook-cell:/Users/kaergell/Desktop/Neue%20Fische/Bootcamp/Tag-28-MLproject/airquality/SVR.ipynb#ch0000039?line=13'>14</a>\u001b[0m        \u001b[39m'\u001b[39m\u001b[39mmin_atmos_press\u001b[39m\u001b[39m'\u001b[39m, \u001b[39m'\u001b[39m\u001b[39mmean_atmos_press\u001b[39m\u001b[39m'\u001b[39m, \u001b[39m'\u001b[39m\u001b[39mstd_atmos_press\u001b[39m\u001b[39m'\u001b[39m,\n\u001b[1;32m     <a href='vscode-notebook-cell:/Users/kaergell/Desktop/Neue%20Fische/Bootcamp/Tag-28-MLproject/airquality/SVR.ipynb#ch0000039?line=14'>15</a>\u001b[0m        \u001b[39m'\u001b[39m\u001b[39mvar_atmos_press\u001b[39m\u001b[39m'\u001b[39m, \u001b[39m'\u001b[39m\u001b[39mmedian_atmos_press\u001b[39m\u001b[39m'\u001b[39m, \u001b[39m'\u001b[39m\u001b[39mptp_atmos_press\u001b[39m\u001b[39m'\u001b[39m]\n\u001b[0;32m---> <a href='vscode-notebook-cell:/Users/kaergell/Desktop/Neue%20Fische/Bootcamp/Tag-28-MLproject/airquality/SVR.ipynb#ch0000039?line=16'>17</a>\u001b[0m X_train_scaled_d \u001b[39m=\u001b[39m scaler\u001b[39m.\u001b[39mfit_transform(X_train_d[col_scale])\n\u001b[1;32m     <a href='vscode-notebook-cell:/Users/kaergell/Desktop/Neue%20Fische/Bootcamp/Tag-28-MLproject/airquality/SVR.ipynb#ch0000039?line=17'>18</a>\u001b[0m X_test_scaled_d \u001b[39m=\u001b[39m scaler\u001b[39m.\u001b[39mtransform(X_test_d[col_scale])\n",
      "\u001b[0;31mIndexError\u001b[0m: only integers, slices (`:`), ellipsis (`...`), numpy.newaxis (`None`) and integer or boolean arrays are valid indices"
     ]
    }
   ],
   "source": [
    "from sklearn.preprocessing import StandardScaler, MinMaxScaler\n",
    "\n",
    "scaler=StandardScaler()\n",
    "\n",
    "col_scale = ['location', 'max_temp', 'min_temp', 'mean_temp', 'std_temp', 'var_temp',\n",
    "       'median_temp', 'ptp_temp', 'max_precip', 'min_precip', 'mean_precip',\n",
    "       'std_precip', 'var_precip', 'median_precip', 'ptp_precip',\n",
    "       'max_rel_humidity', 'min_rel_humidity', 'mean_rel_humidity',\n",
    "       'std_rel_humidity', 'var_rel_humidity', 'median_rel_humidity',\n",
    "       'ptp_rel_humidity', 'max_wind_dir', 'min_wind_dir', 'mean_wind_dir',\n",
    "       'std_wind_dir', 'var_wind_dir', 'median_wind_dir', 'ptp_wind_dir',\n",
    "       'max_wind_spd', 'min_wind_spd', 'mean_wind_spd', 'std_wind_spd',\n",
    "       'var_wind_spd', 'median_wind_spd', 'ptp_wind_spd', 'max_atmos_press',\n",
    "       'min_atmos_press', 'mean_atmos_press', 'std_atmos_press',\n",
    "       'var_atmos_press', 'median_atmos_press', 'ptp_atmos_press']\n",
    "       \n",
    "X_train_scaled_d = scaler.fit_transform(X_train_d[col_scale])\n",
    "X_test_scaled_d = scaler.transform(X_test_d[col_scale])"
   ]
  },
  {
   "cell_type": "markdown",
   "metadata": {},
   "source": []
  }
 ],
 "metadata": {
  "interpreter": {
   "hash": "2e7abca54acc13c53ef3404d75211e27b5076aad57df6065b7009d7b1b84f2d4"
  },
  "kernelspec": {
   "display_name": "Python 3.9.4 ('.venv': venv)",
   "language": "python",
   "name": "python3"
  },
  "language_info": {
   "codemirror_mode": {
    "name": "ipython",
    "version": 3
   },
   "file_extension": ".py",
   "mimetype": "text/x-python",
   "name": "python",
   "nbconvert_exporter": "python",
   "pygments_lexer": "ipython3",
   "version": "3.9.4"
  },
  "orig_nbformat": 4
 },
 "nbformat": 4,
 "nbformat_minor": 2
}
